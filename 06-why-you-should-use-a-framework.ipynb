{
  "metadata": {
    "kernelspec": {
      "language": "python",
      "display_name": "Python 3",
      "name": "python3"
    },
    "language_info": {
      "pygments_lexer": "ipython3",
      "nbconvert_exporter": "python",
      "version": "3.6.4",
      "file_extension": ".py",
      "codemirror_mode": {
        "name": "ipython",
        "version": 3
      },
      "name": "python",
      "mimetype": "text/x-python"
    },
    "colab": {
      "provenance": []
    }
  },
  "nbformat_minor": 0,
  "nbformat": 4,
  "cells": [
    {
      "cell_type": "markdown",
      "source": [
        "## Introduction and set up"
      ],
      "metadata": {
        "id": "hXqCjPwl9_ly"
      }
    },
    {
      "cell_type": "markdown",
      "source": [
        "If you've finished going through my [Linear model and neural net from scratch\n",
        "](https://www.kaggle.com/code/jhoward/linear-model-and-neural-net-from-scratch) notebook, then now is a good time to look at how to do the same thing using a library, instead of doing it from scratch. We'll use fastai and PyTorch. The benefits of using these libraries is:\n",
        "\n",
        "- Best practices are handled for you automatically -- fast.ai has done thousands of hours of experiments to figure out what the best settings are for you\n",
        "- Less time getting set up, which means more time to try out your new ideas\n",
        "- Each idea you try will be less work, because fastai and PyTorch will do the many of the menial bits for you\n",
        "- You can always drop down from fastai to PyTorch if you need to customise any part (or drop down from the fastai Application API to the fastai mid or low tier APIs), or even drop down from PyTorch to plain python for deep customisation.\n",
        "\n",
        "Let's see how that looks in practice. We'll start by doing the same library setup as in the \"from scratch\" notebook:"
      ],
      "metadata": {
        "id": "iWMRZ-s-9_l3"
      }
    },
    {
      "cell_type": "code",
      "source": [
        "!pip install kaggle"
      ],
      "metadata": {
        "colab": {
          "base_uri": "https://localhost:8080/"
        },
        "id": "tuEbbch4_y1v",
        "outputId": "298716a1-bcdd-4fa3-fea7-e593d46a3fc9"
      },
      "execution_count": 1,
      "outputs": [
        {
          "output_type": "stream",
          "name": "stdout",
          "text": [
            "Looking in indexes: https://pypi.org/simple, https://us-python.pkg.dev/colab-wheels/public/simple/\n",
            "Requirement already satisfied: kaggle in /usr/local/lib/python3.7/dist-packages (1.5.12)\n",
            "Requirement already satisfied: requests in /usr/local/lib/python3.7/dist-packages (from kaggle) (2.23.0)\n",
            "Requirement already satisfied: python-dateutil in /usr/local/lib/python3.7/dist-packages (from kaggle) (2.8.2)\n",
            "Requirement already satisfied: tqdm in /usr/local/lib/python3.7/dist-packages (from kaggle) (4.64.0)\n",
            "Requirement already satisfied: python-slugify in /usr/local/lib/python3.7/dist-packages (from kaggle) (6.1.2)\n",
            "Requirement already satisfied: certifi in /usr/local/lib/python3.7/dist-packages (from kaggle) (2022.6.15)\n",
            "Requirement already satisfied: urllib3 in /usr/local/lib/python3.7/dist-packages (from kaggle) (1.24.3)\n",
            "Requirement already satisfied: six>=1.10 in /usr/local/lib/python3.7/dist-packages (from kaggle) (1.15.0)\n",
            "Requirement already satisfied: text-unidecode>=1.3 in /usr/local/lib/python3.7/dist-packages (from python-slugify->kaggle) (1.3)\n",
            "Requirement already satisfied: idna<3,>=2.5 in /usr/local/lib/python3.7/dist-packages (from requests->kaggle) (2.10)\n",
            "Requirement already satisfied: chardet<4,>=3.0.2 in /usr/local/lib/python3.7/dist-packages (from requests->kaggle) (3.0.4)\n"
          ]
        }
      ]
    },
    {
      "cell_type": "code",
      "source": [
        "from google.colab import files\n",
        "uploaded = files.upload()"
      ],
      "metadata": {
        "colab": {
          "resources": {
            "http://localhost:8080/nbextensions/google.colab/files.js": {
              "data": "Ly8gQ29weXJpZ2h0IDIwMTcgR29vZ2xlIExMQwovLwovLyBMaWNlbnNlZCB1bmRlciB0aGUgQXBhY2hlIExpY2Vuc2UsIFZlcnNpb24gMi4wICh0aGUgIkxpY2Vuc2UiKTsKLy8geW91IG1heSBub3QgdXNlIHRoaXMgZmlsZSBleGNlcHQgaW4gY29tcGxpYW5jZSB3aXRoIHRoZSBMaWNlbnNlLgovLyBZb3UgbWF5IG9idGFpbiBhIGNvcHkgb2YgdGhlIExpY2Vuc2UgYXQKLy8KLy8gICAgICBodHRwOi8vd3d3LmFwYWNoZS5vcmcvbGljZW5zZXMvTElDRU5TRS0yLjAKLy8KLy8gVW5sZXNzIHJlcXVpcmVkIGJ5IGFwcGxpY2FibGUgbGF3IG9yIGFncmVlZCB0byBpbiB3cml0aW5nLCBzb2Z0d2FyZQovLyBkaXN0cmlidXRlZCB1bmRlciB0aGUgTGljZW5zZSBpcyBkaXN0cmlidXRlZCBvbiBhbiAiQVMgSVMiIEJBU0lTLAovLyBXSVRIT1VUIFdBUlJBTlRJRVMgT1IgQ09ORElUSU9OUyBPRiBBTlkgS0lORCwgZWl0aGVyIGV4cHJlc3Mgb3IgaW1wbGllZC4KLy8gU2VlIHRoZSBMaWNlbnNlIGZvciB0aGUgc3BlY2lmaWMgbGFuZ3VhZ2UgZ292ZXJuaW5nIHBlcm1pc3Npb25zIGFuZAovLyBsaW1pdGF0aW9ucyB1bmRlciB0aGUgTGljZW5zZS4KCi8qKgogKiBAZmlsZW92ZXJ2aWV3IEhlbHBlcnMgZm9yIGdvb2dsZS5jb2xhYiBQeXRob24gbW9kdWxlLgogKi8KKGZ1bmN0aW9uKHNjb3BlKSB7CmZ1bmN0aW9uIHNwYW4odGV4dCwgc3R5bGVBdHRyaWJ1dGVzID0ge30pIHsKICBjb25zdCBlbGVtZW50ID0gZG9jdW1lbnQuY3JlYXRlRWxlbWVudCgnc3BhbicpOwogIGVsZW1lbnQudGV4dENvbnRlbnQgPSB0ZXh0OwogIGZvciAoY29uc3Qga2V5IG9mIE9iamVjdC5rZXlzKHN0eWxlQXR0cmlidXRlcykpIHsKICAgIGVsZW1lbnQuc3R5bGVba2V5XSA9IHN0eWxlQXR0cmlidXRlc1trZXldOwogIH0KICByZXR1cm4gZWxlbWVudDsKfQoKLy8gTWF4IG51bWJlciBvZiBieXRlcyB3aGljaCB3aWxsIGJlIHVwbG9hZGVkIGF0IGEgdGltZS4KY29uc3QgTUFYX1BBWUxPQURfU0laRSA9IDEwMCAqIDEwMjQ7CgpmdW5jdGlvbiBfdXBsb2FkRmlsZXMoaW5wdXRJZCwgb3V0cHV0SWQpIHsKICBjb25zdCBzdGVwcyA9IHVwbG9hZEZpbGVzU3RlcChpbnB1dElkLCBvdXRwdXRJZCk7CiAgY29uc3Qgb3V0cHV0RWxlbWVudCA9IGRvY3VtZW50LmdldEVsZW1lbnRCeUlkKG91dHB1dElkKTsKICAvLyBDYWNoZSBzdGVwcyBvbiB0aGUgb3V0cHV0RWxlbWVudCB0byBtYWtlIGl0IGF2YWlsYWJsZSBmb3IgdGhlIG5leHQgY2FsbAogIC8vIHRvIHVwbG9hZEZpbGVzQ29udGludWUgZnJvbSBQeXRob24uCiAgb3V0cHV0RWxlbWVudC5zdGVwcyA9IHN0ZXBzOwoKICByZXR1cm4gX3VwbG9hZEZpbGVzQ29udGludWUob3V0cHV0SWQpOwp9CgovLyBUaGlzIGlzIHJvdWdobHkgYW4gYXN5bmMgZ2VuZXJhdG9yIChub3Qgc3VwcG9ydGVkIGluIHRoZSBicm93c2VyIHlldCksCi8vIHdoZXJlIHRoZXJlIGFyZSBtdWx0aXBsZSBhc3luY2hyb25vdXMgc3RlcHMgYW5kIHRoZSBQeXRob24gc2lkZSBpcyBnb2luZwovLyB0byBwb2xsIGZvciBjb21wbGV0aW9uIG9mIGVhY2ggc3RlcC4KLy8gVGhpcyB1c2VzIGEgUHJvbWlzZSB0byBibG9jayB0aGUgcHl0aG9uIHNpZGUgb24gY29tcGxldGlvbiBvZiBlYWNoIHN0ZXAsCi8vIHRoZW4gcGFzc2VzIHRoZSByZXN1bHQgb2YgdGhlIHByZXZpb3VzIHN0ZXAgYXMgdGhlIGlucHV0IHRvIHRoZSBuZXh0IHN0ZXAuCmZ1bmN0aW9uIF91cGxvYWRGaWxlc0NvbnRpbnVlKG91dHB1dElkKSB7CiAgY29uc3Qgb3V0cHV0RWxlbWVudCA9IGRvY3VtZW50LmdldEVsZW1lbnRCeUlkKG91dHB1dElkKTsKICBjb25zdCBzdGVwcyA9IG91dHB1dEVsZW1lbnQuc3RlcHM7CgogIGNvbnN0IG5leHQgPSBzdGVwcy5uZXh0KG91dHB1dEVsZW1lbnQubGFzdFByb21pc2VWYWx1ZSk7CiAgcmV0dXJuIFByb21pc2UucmVzb2x2ZShuZXh0LnZhbHVlLnByb21pc2UpLnRoZW4oKHZhbHVlKSA9PiB7CiAgICAvLyBDYWNoZSB0aGUgbGFzdCBwcm9taXNlIHZhbHVlIHRvIG1ha2UgaXQgYXZhaWxhYmxlIHRvIHRoZSBuZXh0CiAgICAvLyBzdGVwIG9mIHRoZSBnZW5lcmF0b3IuCiAgICBvdXRwdXRFbGVtZW50Lmxhc3RQcm9taXNlVmFsdWUgPSB2YWx1ZTsKICAgIHJldHVybiBuZXh0LnZhbHVlLnJlc3BvbnNlOwogIH0pOwp9CgovKioKICogR2VuZXJhdG9yIGZ1bmN0aW9uIHdoaWNoIGlzIGNhbGxlZCBiZXR3ZWVuIGVhY2ggYXN5bmMgc3RlcCBvZiB0aGUgdXBsb2FkCiAqIHByb2Nlc3MuCiAqIEBwYXJhbSB7c3RyaW5nfSBpbnB1dElkIEVsZW1lbnQgSUQgb2YgdGhlIGlucHV0IGZpbGUgcGlja2VyIGVsZW1lbnQuCiAqIEBwYXJhbSB7c3RyaW5nfSBvdXRwdXRJZCBFbGVtZW50IElEIG9mIHRoZSBvdXRwdXQgZGlzcGxheS4KICogQHJldHVybiB7IUl0ZXJhYmxlPCFPYmplY3Q+fSBJdGVyYWJsZSBvZiBuZXh0IHN0ZXBzLgogKi8KZnVuY3Rpb24qIHVwbG9hZEZpbGVzU3RlcChpbnB1dElkLCBvdXRwdXRJZCkgewogIGNvbnN0IGlucHV0RWxlbWVudCA9IGRvY3VtZW50LmdldEVsZW1lbnRCeUlkKGlucHV0SWQpOwogIGlucHV0RWxlbWVudC5kaXNhYmxlZCA9IGZhbHNlOwoKICBjb25zdCBvdXRwdXRFbGVtZW50ID0gZG9jdW1lbnQuZ2V0RWxlbWVudEJ5SWQob3V0cHV0SWQpOwogIG91dHB1dEVsZW1lbnQuaW5uZXJIVE1MID0gJyc7CgogIGNvbnN0IHBpY2tlZFByb21pc2UgPSBuZXcgUHJvbWlzZSgocmVzb2x2ZSkgPT4gewogICAgaW5wdXRFbGVtZW50LmFkZEV2ZW50TGlzdGVuZXIoJ2NoYW5nZScsIChlKSA9PiB7CiAgICAgIHJlc29sdmUoZS50YXJnZXQuZmlsZXMpOwogICAgfSk7CiAgfSk7CgogIGNvbnN0IGNhbmNlbCA9IGRvY3VtZW50LmNyZWF0ZUVsZW1lbnQoJ2J1dHRvbicpOwogIGlucHV0RWxlbWVudC5wYXJlbnRFbGVtZW50LmFwcGVuZENoaWxkKGNhbmNlbCk7CiAgY2FuY2VsLnRleHRDb250ZW50ID0gJ0NhbmNlbCB1cGxvYWQnOwogIGNvbnN0IGNhbmNlbFByb21pc2UgPSBuZXcgUHJvbWlzZSgocmVzb2x2ZSkgPT4gewogICAgY2FuY2VsLm9uY2xpY2sgPSAoKSA9PiB7CiAgICAgIHJlc29sdmUobnVsbCk7CiAgICB9OwogIH0pOwoKICAvLyBXYWl0IGZvciB0aGUgdXNlciB0byBwaWNrIHRoZSBmaWxlcy4KICBjb25zdCBmaWxlcyA9IHlpZWxkIHsKICAgIHByb21pc2U6IFByb21pc2UucmFjZShbcGlja2VkUHJvbWlzZSwgY2FuY2VsUHJvbWlzZV0pLAogICAgcmVzcG9uc2U6IHsKICAgICAgYWN0aW9uOiAnc3RhcnRpbmcnLAogICAgfQogIH07CgogIGNhbmNlbC5yZW1vdmUoKTsKCiAgLy8gRGlzYWJsZSB0aGUgaW5wdXQgZWxlbWVudCBzaW5jZSBmdXJ0aGVyIHBpY2tzIGFyZSBub3QgYWxsb3dlZC4KICBpbnB1dEVsZW1lbnQuZGlzYWJsZWQgPSB0cnVlOwoKICBpZiAoIWZpbGVzKSB7CiAgICByZXR1cm4gewogICAgICByZXNwb25zZTogewogICAgICAgIGFjdGlvbjogJ2NvbXBsZXRlJywKICAgICAgfQogICAgfTsKICB9CgogIGZvciAoY29uc3QgZmlsZSBvZiBmaWxlcykgewogICAgY29uc3QgbGkgPSBkb2N1bWVudC5jcmVhdGVFbGVtZW50KCdsaScpOwogICAgbGkuYXBwZW5kKHNwYW4oZmlsZS5uYW1lLCB7Zm9udFdlaWdodDogJ2JvbGQnfSkpOwogICAgbGkuYXBwZW5kKHNwYW4oCiAgICAgICAgYCgke2ZpbGUudHlwZSB8fCAnbi9hJ30pIC0gJHtmaWxlLnNpemV9IGJ5dGVzLCBgICsKICAgICAgICBgbGFzdCBtb2RpZmllZDogJHsKICAgICAgICAgICAgZmlsZS5sYXN0TW9kaWZpZWREYXRlID8gZmlsZS5sYXN0TW9kaWZpZWREYXRlLnRvTG9jYWxlRGF0ZVN0cmluZygpIDoKICAgICAgICAgICAgICAgICAgICAgICAgICAgICAgICAgICAgJ24vYSd9IC0gYCkpOwogICAgY29uc3QgcGVyY2VudCA9IHNwYW4oJzAlIGRvbmUnKTsKICAgIGxpLmFwcGVuZENoaWxkKHBlcmNlbnQpOwoKICAgIG91dHB1dEVsZW1lbnQuYXBwZW5kQ2hpbGQobGkpOwoKICAgIGNvbnN0IGZpbGVEYXRhUHJvbWlzZSA9IG5ldyBQcm9taXNlKChyZXNvbHZlKSA9PiB7CiAgICAgIGNvbnN0IHJlYWRlciA9IG5ldyBGaWxlUmVhZGVyKCk7CiAgICAgIHJlYWRlci5vbmxvYWQgPSAoZSkgPT4gewogICAgICAgIHJlc29sdmUoZS50YXJnZXQucmVzdWx0KTsKICAgICAgfTsKICAgICAgcmVhZGVyLnJlYWRBc0FycmF5QnVmZmVyKGZpbGUpOwogICAgfSk7CiAgICAvLyBXYWl0IGZvciB0aGUgZGF0YSB0byBiZSByZWFkeS4KICAgIGxldCBmaWxlRGF0YSA9IHlpZWxkIHsKICAgICAgcHJvbWlzZTogZmlsZURhdGFQcm9taXNlLAogICAgICByZXNwb25zZTogewogICAgICAgIGFjdGlvbjogJ2NvbnRpbnVlJywKICAgICAgfQogICAgfTsKCiAgICAvLyBVc2UgYSBjaHVua2VkIHNlbmRpbmcgdG8gYXZvaWQgbWVzc2FnZSBzaXplIGxpbWl0cy4gU2VlIGIvNjIxMTU2NjAuCiAgICBsZXQgcG9zaXRpb24gPSAwOwogICAgZG8gewogICAgICBjb25zdCBsZW5ndGggPSBNYXRoLm1pbihmaWxlRGF0YS5ieXRlTGVuZ3RoIC0gcG9zaXRpb24sIE1BWF9QQVlMT0FEX1NJWkUpOwogICAgICBjb25zdCBjaHVuayA9IG5ldyBVaW50OEFycmF5KGZpbGVEYXRhLCBwb3NpdGlvbiwgbGVuZ3RoKTsKICAgICAgcG9zaXRpb24gKz0gbGVuZ3RoOwoKICAgICAgY29uc3QgYmFzZTY0ID0gYnRvYShTdHJpbmcuZnJvbUNoYXJDb2RlLmFwcGx5KG51bGwsIGNodW5rKSk7CiAgICAgIHlpZWxkIHsKICAgICAgICByZXNwb25zZTogewogICAgICAgICAgYWN0aW9uOiAnYXBwZW5kJywKICAgICAgICAgIGZpbGU6IGZpbGUubmFtZSwKICAgICAgICAgIGRhdGE6IGJhc2U2NCwKICAgICAgICB9LAogICAgICB9OwoKICAgICAgbGV0IHBlcmNlbnREb25lID0gZmlsZURhdGEuYnl0ZUxlbmd0aCA9PT0gMCA/CiAgICAgICAgICAxMDAgOgogICAgICAgICAgTWF0aC5yb3VuZCgocG9zaXRpb24gLyBmaWxlRGF0YS5ieXRlTGVuZ3RoKSAqIDEwMCk7CiAgICAgIHBlcmNlbnQudGV4dENvbnRlbnQgPSBgJHtwZXJjZW50RG9uZX0lIGRvbmVgOwoKICAgIH0gd2hpbGUgKHBvc2l0aW9uIDwgZmlsZURhdGEuYnl0ZUxlbmd0aCk7CiAgfQoKICAvLyBBbGwgZG9uZS4KICB5aWVsZCB7CiAgICByZXNwb25zZTogewogICAgICBhY3Rpb246ICdjb21wbGV0ZScsCiAgICB9CiAgfTsKfQoKc2NvcGUuZ29vZ2xlID0gc2NvcGUuZ29vZ2xlIHx8IHt9OwpzY29wZS5nb29nbGUuY29sYWIgPSBzY29wZS5nb29nbGUuY29sYWIgfHwge307CnNjb3BlLmdvb2dsZS5jb2xhYi5fZmlsZXMgPSB7CiAgX3VwbG9hZEZpbGVzLAogIF91cGxvYWRGaWxlc0NvbnRpbnVlLAp9Owp9KShzZWxmKTsK",
              "ok": true,
              "headers": [
                [
                  "content-type",
                  "application/javascript"
                ]
              ],
              "status": 200,
              "status_text": ""
            }
          },
          "base_uri": "https://localhost:8080/",
          "height": 74
        },
        "id": "Ad3GEqjB_7ig",
        "outputId": "e0f837c0-2dc4-4d62-c78e-ba4e21598ff1"
      },
      "execution_count": 2,
      "outputs": [
        {
          "output_type": "display_data",
          "data": {
            "text/plain": [
              "<IPython.core.display.HTML object>"
            ],
            "text/html": [
              "\n",
              "     <input type=\"file\" id=\"files-ec4e8f22-7608-4f1f-bdbe-f5a5fda8fac5\" name=\"files[]\" multiple disabled\n",
              "        style=\"border:none\" />\n",
              "     <output id=\"result-ec4e8f22-7608-4f1f-bdbe-f5a5fda8fac5\">\n",
              "      Upload widget is only available when the cell has been executed in the\n",
              "      current browser session. Please rerun this cell to enable.\n",
              "      </output>\n",
              "      <script src=\"/nbextensions/google.colab/files.js\"></script> "
            ]
          },
          "metadata": {}
        },
        {
          "output_type": "stream",
          "name": "stdout",
          "text": [
            "Saving kaggle.json to kaggle.json\n"
          ]
        }
      ]
    },
    {
      "cell_type": "code",
      "source": [
        "! mkdir ~/.kaggle #creating folder\n",
        "! cp kaggle.json ~/.kaggle/ #copying kaggle.json\n",
        "! chmod 600 ~/.kaggle/kaggle.json #reading the file with full access"
      ],
      "metadata": {
        "colab": {
          "base_uri": "https://localhost:8080/"
        },
        "id": "8-q6Deq9Ac7R",
        "outputId": "8c10dbbd-7df6-453c-f622-148426a34027"
      },
      "execution_count": 4,
      "outputs": [
        {
          "output_type": "stream",
          "name": "stdout",
          "text": [
            "mkdir: cannot create directory ‘/root/.kaggle’: File exists\n"
          ]
        }
      ]
    },
    {
      "cell_type": "code",
      "source": [
        "from pathlib import Path\n",
        "import os\n",
        "\n",
        "iskaggle = os.environ.get('KAGGLE_KERNEL_RUN_TYPE', '')\n",
        "if iskaggle:\n",
        "    path = Path('../input/titanic')\n",
        "    !pip install -Uqq fastai\n",
        "else:\n",
        "    import zipfile,kaggle\n",
        "    path = Path('titanic')\n",
        "    kaggle.api.competition_download_cli(str(path))\n",
        "    zipfile.ZipFile(f'{path}.zip').extractall(path)"
      ],
      "metadata": {
        "_kg_hide-output": true,
        "execution": {
          "iopub.status.busy": "2022-05-16T21:26:52.397584Z",
          "iopub.execute_input": "2022-05-16T21:26:52.398131Z",
          "iopub.status.idle": "2022-05-16T21:27:20.193935Z",
          "shell.execute_reply.started": "2022-05-16T21:26:52.398019Z",
          "shell.execute_reply": "2022-05-16T21:27:20.193065Z"
        },
        "trusted": true,
        "colab": {
          "base_uri": "https://localhost:8080/"
        },
        "id": "25_8Jtfk9_l5",
        "outputId": "854b9148-5229-49a8-8996-9b0bdfdacdef"
      },
      "execution_count": 5,
      "outputs": [
        {
          "output_type": "stream",
          "name": "stdout",
          "text": [
            "Downloading titanic.zip to /content\n"
          ]
        },
        {
          "output_type": "stream",
          "name": "stderr",
          "text": [
            "100%|██████████| 34.1k/34.1k [00:00<00:00, 7.44MB/s]"
          ]
        },
        {
          "output_type": "stream",
          "name": "stdout",
          "text": [
            "\n"
          ]
        },
        {
          "output_type": "stream",
          "name": "stderr",
          "text": [
            "\n"
          ]
        }
      ]
    },
    {
      "cell_type": "markdown",
      "source": [
        "We'll import the fastai tabular library, set a random seed so the notebook is reproducible, and pick a reasonable number of significant figures to display in our tables:"
      ],
      "metadata": {
        "id": "RfynXHyr9_l7"
      }
    },
    {
      "cell_type": "code",
      "source": [
        "from fastai.tabular.all import *\n",
        "\n",
        "pd.options.display.float_format = '{:.2f}'.format\n",
        "set_seed(42)"
      ],
      "metadata": {
        "execution": {
          "iopub.status.busy": "2022-05-16T21:27:20.196442Z",
          "iopub.execute_input": "2022-05-16T21:27:20.196812Z",
          "iopub.status.idle": "2022-05-16T21:27:23.389486Z",
          "shell.execute_reply.started": "2022-05-16T21:27:20.196763Z",
          "shell.execute_reply": "2022-05-16T21:27:23.388493Z"
        },
        "trusted": true,
        "id": "0Xyv467o9_l8"
      },
      "execution_count": null,
      "outputs": []
    },
    {
      "cell_type": "markdown",
      "source": [
        "## Prep the data"
      ],
      "metadata": {
        "id": "PhUWVjIj9_l9"
      }
    },
    {
      "cell_type": "markdown",
      "source": [
        "We'll read the CSV file just like we did before:"
      ],
      "metadata": {
        "id": "WM2Gn6QN9_l-"
      }
    },
    {
      "cell_type": "code",
      "source": [
        "df = pd.read_csv(path/'train.csv')"
      ],
      "metadata": {
        "execution": {
          "iopub.status.busy": "2022-05-16T21:27:23.390719Z",
          "iopub.execute_input": "2022-05-16T21:27:23.390946Z",
          "iopub.status.idle": "2022-05-16T21:27:23.41585Z",
          "shell.execute_reply.started": "2022-05-16T21:27:23.390919Z",
          "shell.execute_reply": "2022-05-16T21:27:23.414775Z"
        },
        "trusted": true,
        "id": "VtWo3Zl89_l_"
      },
      "execution_count": null,
      "outputs": []
    },
    {
      "cell_type": "markdown",
      "source": [
        "When you do everything from scratch, every bit of feature engineering requires a whole lot of work, since you have to think about things like dummy variables, normalization, missing values, and so on. But with fastai that's all done for you. So let's go wild and create lots of new features! We'll use a bunch of the most interesting ones from this fantastic [Titanic feature engineering notebook](https://www.kaggle.com/code/gunesevitan/titanic-advanced-feature-engineering-tutorial/) (and be sure to click that link and upvote that notebook if you like it to thank the author for their hard work!)"
      ],
      "metadata": {
        "id": "sEli1qZZ9_mA"
      }
    },
    {
      "cell_type": "code",
      "source": [
        "def add_features(df):\n",
        "    df['LogFare'] = np.log1p(df['Fare'])\n",
        "    df['Deck'] = df.Cabin.str[0].map(dict(A=\"ABC\", B=\"ABC\", C=\"ABC\", D=\"DE\", E=\"DE\", F=\"FG\", G=\"FG\"))\n",
        "    df['Family'] = df.SibSp+df.Parch\n",
        "    df['Alone'] = df.Family==1\n",
        "    df['TicketFreq'] = df.groupby('Ticket')['Ticket'].transform('count')\n",
        "    df['Title'] = df.Name.str.split(', ', expand=True)[1].str.split('.', expand=True)[0]\n",
        "    df['Title'] = df.Title.map(dict(Mr=\"Mr\",Miss=\"Miss\",Mrs=\"Mrs\",Master=\"Master\")).value_counts(dropna=False)\n",
        "\n",
        "add_features(df)"
      ],
      "metadata": {
        "execution": {
          "iopub.status.busy": "2022-05-16T21:27:23.417899Z",
          "iopub.execute_input": "2022-05-16T21:27:23.418374Z",
          "iopub.status.idle": "2022-05-16T21:27:23.608237Z",
          "shell.execute_reply.started": "2022-05-16T21:27:23.41833Z",
          "shell.execute_reply": "2022-05-16T21:27:23.606987Z"
        },
        "trusted": true,
        "id": "FCq3Hbho9_mB"
      },
      "execution_count": null,
      "outputs": []
    },
    {
      "cell_type": "markdown",
      "source": [
        "As we discussed in the last notebook, we can use `RandomSplitter` to separate out the training and validation sets:"
      ],
      "metadata": {
        "id": "6T6-Dmee9_mC"
      }
    },
    {
      "cell_type": "code",
      "source": [
        "splits = RandomSplitter(seed=42)(df)"
      ],
      "metadata": {
        "execution": {
          "iopub.status.busy": "2022-05-16T21:27:23.609777Z",
          "iopub.execute_input": "2022-05-16T21:27:23.610261Z",
          "iopub.status.idle": "2022-05-16T21:27:23.617051Z",
          "shell.execute_reply.started": "2022-05-16T21:27:23.610212Z",
          "shell.execute_reply": "2022-05-16T21:27:23.616183Z"
        },
        "trusted": true,
        "id": "ye-04XaF9_mC"
      },
      "execution_count": null,
      "outputs": []
    },
    {
      "cell_type": "markdown",
      "source": [
        "Now the entire process of getting the data ready for training requires just this one cell!:"
      ],
      "metadata": {
        "id": "GUflbYyk9_mD"
      }
    },
    {
      "cell_type": "code",
      "source": [
        "dls = TabularPandas(\n",
        "    df, splits=splits,\n",
        "    procs = [Categorify, FillMissing, Normalize],\n",
        "    cat_names=[\"Sex\",\"Pclass\",\"Embarked\",\"Deck\", \"Title\"],\n",
        "    cont_names=['Age', 'SibSp', 'Parch', 'LogFare', 'Alone', 'TicketFreq', 'Family'],\n",
        "    y_names=\"Survived\", y_block = CategoryBlock(),\n",
        ").dataloaders(path=\".\")"
      ],
      "metadata": {
        "execution": {
          "iopub.status.busy": "2022-05-16T21:27:23.618653Z",
          "iopub.execute_input": "2022-05-16T21:27:23.619435Z",
          "iopub.status.idle": "2022-05-16T21:27:23.706067Z",
          "shell.execute_reply.started": "2022-05-16T21:27:23.619384Z",
          "shell.execute_reply": "2022-05-16T21:27:23.705359Z"
        },
        "trusted": true,
        "id": "_cXFvnBe9_mE"
      },
      "execution_count": null,
      "outputs": []
    },
    {
      "cell_type": "markdown",
      "source": [
        "Here's what each of the parameters means:\n",
        "\n",
        "- Use `splits` for indices of training and validation sets:\n",
        "\n",
        "      splits=splits,\n",
        "    \n",
        "- Turn strings into categories, fill missing values in numeric columns with the median, normalise all numeric columns:\n",
        "    \n",
        "      procs = [Categorify, FillMissing, Normalize],\n",
        "    \n",
        "- These are the categorical independent variables:\n",
        "    \n",
        "      cat_names=[\"Sex\",\"Pclass\",\"Embarked\",\"Deck\", \"Title\"],\n",
        "    \n",
        "- These are the continuous independent variables:\n",
        "    \n",
        "      cont_names=['Age', 'SibSp', 'Parch', 'LogFare', 'Alone', 'TicketFreq', 'Family'],\n",
        "    \n",
        "- This is the dependent variable:\n",
        "    \n",
        "      y_names=\"Survived\",\n",
        "\n",
        "- The dependent variable is categorical (so build a classification model, not a regression model):\n",
        "\n",
        "      y_block = CategoryBlock(),"
      ],
      "metadata": {
        "id": "kfzFFVS39_mF"
      }
    },
    {
      "cell_type": "markdown",
      "source": [
        "## Train the model"
      ],
      "metadata": {
        "id": "I5g4W0yE9_mF"
      }
    },
    {
      "cell_type": "markdown",
      "source": [
        "The data and model together make up a `Learner`. To create one, we say what the data is (`dls`), and the size of each hidden layer (`[10,10]`), along with any metrics we want to print along the way:"
      ],
      "metadata": {
        "id": "474ZJW_q9_mF"
      }
    },
    {
      "cell_type": "code",
      "source": [
        "learn = tabular_learner(dls, metrics=accuracy, layers=[10,10])"
      ],
      "metadata": {
        "execution": {
          "iopub.status.busy": "2022-05-16T21:27:23.707298Z",
          "iopub.execute_input": "2022-05-16T21:27:23.707789Z",
          "iopub.status.idle": "2022-05-16T21:27:23.726787Z",
          "shell.execute_reply.started": "2022-05-16T21:27:23.707741Z",
          "shell.execute_reply": "2022-05-16T21:27:23.725748Z"
        },
        "trusted": true,
        "id": "O0gkGsqP9_mG"
      },
      "execution_count": null,
      "outputs": []
    },
    {
      "cell_type": "markdown",
      "source": [
        "You'll notice we didn't have to do any messing around to try to find a set of random coefficients that will train correctly -- that's all handled automatically.\n",
        "\n",
        "One handy feature that fastai can also tell us what learning rate to use:"
      ],
      "metadata": {
        "id": "H_3-DYiA9_mG"
      }
    },
    {
      "cell_type": "code",
      "source": [
        "learn.lr_find(suggest_funcs=(slide, valley))"
      ],
      "metadata": {
        "execution": {
          "iopub.status.busy": "2022-05-16T21:27:23.728203Z",
          "iopub.execute_input": "2022-05-16T21:27:23.731489Z",
          "iopub.status.idle": "2022-05-16T21:27:25.934408Z",
          "shell.execute_reply.started": "2022-05-16T21:27:23.731434Z",
          "shell.execute_reply": "2022-05-16T21:27:25.933704Z"
        },
        "trusted": true,
        "id": "KA0wKmz19_mG"
      },
      "execution_count": null,
      "outputs": []
    },
    {
      "cell_type": "markdown",
      "source": [
        "The two colored points are both reasonable choices for a learning rate. I'll pick somewhere between the two (0.03) and train for a few epochs:"
      ],
      "metadata": {
        "id": "p1CqEMnM9_mH"
      }
    },
    {
      "cell_type": "code",
      "source": [
        "learn.fit(16, lr=0.03)"
      ],
      "metadata": {
        "execution": {
          "iopub.status.busy": "2022-05-16T21:27:25.935368Z",
          "iopub.execute_input": "2022-05-16T21:27:25.935688Z",
          "iopub.status.idle": "2022-05-16T21:27:28.235979Z",
          "shell.execute_reply.started": "2022-05-16T21:27:25.93566Z",
          "shell.execute_reply": "2022-05-16T21:27:28.235073Z"
        },
        "trusted": true,
        "id": "7N6OUlsU9_mH"
      },
      "execution_count": null,
      "outputs": []
    },
    {
      "cell_type": "markdown",
      "source": [
        "We've got a similar accuracy to our previous \"from scratch\" model -- which isn't too surprising, since as we discussed, this dataset is too small and simple to really see much difference. A simple linear model already does a pretty good job. But that's OK -- the goal here is to show you how to get started with deep learning and understand how it really works, and the best way to do that is on small and easy to understand datasets."
      ],
      "metadata": {
        "id": "VlsDn2Fw9_mH"
      }
    },
    {
      "cell_type": "markdown",
      "source": [
        "## Submit to Kaggle"
      ],
      "metadata": {
        "id": "jbkK70oS9_mI"
      }
    },
    {
      "cell_type": "markdown",
      "source": [
        "One important feature of fastai is that all the information needed to apply the data transformations and the model to a new dataset are stored in the learner. You can call `export` to save it to a file to use it later in production, or you can use the trained model right away to get predictions on a test set.\n",
        "\n",
        "To submit to Kaggle, we'll need to read in the test set, and do the same feature engineering we did for the training set:"
      ],
      "metadata": {
        "id": "kJVRZrp69_mI"
      }
    },
    {
      "cell_type": "code",
      "source": [
        "tst_df = pd.read_csv(path/'test.csv')\n",
        "tst_df['Fare'] = tst_df.Fare.fillna(0)\n",
        "add_features(tst_df)"
      ],
      "metadata": {
        "execution": {
          "iopub.status.busy": "2022-05-16T21:31:03.526802Z",
          "iopub.execute_input": "2022-05-16T21:31:03.527206Z",
          "iopub.status.idle": "2022-05-16T21:31:03.559518Z",
          "shell.execute_reply.started": "2022-05-16T21:31:03.527162Z",
          "shell.execute_reply": "2022-05-16T21:31:03.558458Z"
        },
        "trusted": true,
        "id": "WAOJ6kDJ9_mI"
      },
      "execution_count": null,
      "outputs": []
    },
    {
      "cell_type": "markdown",
      "source": [
        "But we don't need to manually specify any of the processing steps necessary to get the data ready for modeling, since that's all saved in the learner. To specify we want to apply the same steps to a new dataset, use the `test_dl()` method:"
      ],
      "metadata": {
        "id": "fMcSydzQ9_mI"
      }
    },
    {
      "cell_type": "code",
      "source": [
        "tst_dl = learn.dls.test_dl(tst_df)"
      ],
      "metadata": {
        "execution": {
          "iopub.status.busy": "2022-05-16T21:31:03.826524Z",
          "iopub.execute_input": "2022-05-16T21:31:03.827754Z",
          "iopub.status.idle": "2022-05-16T21:31:03.854977Z",
          "shell.execute_reply.started": "2022-05-16T21:31:03.827684Z",
          "shell.execute_reply": "2022-05-16T21:31:03.85406Z"
        },
        "trusted": true,
        "id": "yeNGPRA-9_mI"
      },
      "execution_count": null,
      "outputs": []
    },
    {
      "cell_type": "markdown",
      "source": [
        "Now we can use `get_preds` to get the predictions for the test set:"
      ],
      "metadata": {
        "id": "15EBapYV9_mJ"
      }
    },
    {
      "cell_type": "code",
      "source": [
        "preds,_ = learn.get_preds(dl=tst_dl)"
      ],
      "metadata": {
        "execution": {
          "iopub.status.busy": "2022-05-16T21:31:04.505947Z",
          "iopub.execute_input": "2022-05-16T21:31:04.506524Z",
          "iopub.status.idle": "2022-05-16T21:31:04.586309Z",
          "shell.execute_reply.started": "2022-05-16T21:31:04.506482Z",
          "shell.execute_reply": "2022-05-16T21:31:04.585385Z"
        },
        "trusted": true,
        "id": "dluhUqMq9_mJ"
      },
      "execution_count": null,
      "outputs": []
    },
    {
      "cell_type": "markdown",
      "source": [
        "Finally, let's create a submission CSV just like we did in the previous notebook..."
      ],
      "metadata": {
        "id": "RXAUUjek9_mJ"
      }
    },
    {
      "cell_type": "code",
      "source": [
        "tst_df['Survived'] = (preds[:,1]>0.5).int()\n",
        "sub_df = tst_df[['PassengerId','Survived']]\n",
        "sub_df.to_csv('sub.csv', index=False)"
      ],
      "metadata": {
        "execution": {
          "iopub.status.busy": "2022-05-16T21:31:05.603891Z",
          "iopub.execute_input": "2022-05-16T21:31:05.604749Z",
          "iopub.status.idle": "2022-05-16T21:31:05.619653Z",
          "shell.execute_reply.started": "2022-05-16T21:31:05.604676Z",
          "shell.execute_reply": "2022-05-16T21:31:05.618707Z"
        },
        "trusted": true,
        "id": "idwpqs309_mJ"
      },
      "execution_count": null,
      "outputs": []
    },
    {
      "cell_type": "markdown",
      "source": [
        "...and check that it looks reasonable:"
      ],
      "metadata": {
        "id": "rQXbedar9_mJ"
      }
    },
    {
      "cell_type": "code",
      "source": [
        "!head sub.csv"
      ],
      "metadata": {
        "execution": {
          "iopub.status.busy": "2022-05-16T21:31:07.007378Z",
          "iopub.execute_input": "2022-05-16T21:31:07.008492Z",
          "iopub.status.idle": "2022-05-16T21:31:07.819079Z",
          "shell.execute_reply.started": "2022-05-16T21:31:07.008411Z",
          "shell.execute_reply": "2022-05-16T21:31:07.817493Z"
        },
        "trusted": true,
        "id": "mOcJmiNr9_mK"
      },
      "execution_count": null,
      "outputs": []
    },
    {
      "cell_type": "markdown",
      "source": [
        "## Ensembling"
      ],
      "metadata": {
        "id": "mIjFoIiG9_mK"
      }
    },
    {
      "cell_type": "markdown",
      "source": [
        "Since it's so easy to create a model now, it's easier to play with more advanced modeling approaches. For instance, we can create five separate models, each trained from different random starting points, and average them. This is the simplest approach of [ensembling](https://machinelearningmastery.com/tour-of-ensemble-learning-algorithms/) models, which combines multiple models to generate predictions that are better than any of the single models in the ensemble.\n",
        "\n",
        "To create our ensemble, first we copy the three steps we used above to create and train a model, and apply it to the test set:"
      ],
      "metadata": {
        "id": "IwnVrzmH9_mK"
      }
    },
    {
      "cell_type": "code",
      "source": [
        "def ensemble():\n",
        "    learn = tabular_learner(dls, metrics=accuracy, layers=[10,10])\n",
        "    with learn.no_bar(),learn.no_logging(): learn.fit(16, lr=0.03)\n",
        "    return learn.get_preds(dl=tst_dl)[0]"
      ],
      "metadata": {
        "execution": {
          "iopub.status.busy": "2022-05-16T21:31:14.094621Z",
          "iopub.execute_input": "2022-05-16T21:31:14.095657Z",
          "iopub.status.idle": "2022-05-16T21:31:14.10358Z",
          "shell.execute_reply.started": "2022-05-16T21:31:14.095606Z",
          "shell.execute_reply": "2022-05-16T21:31:14.102546Z"
        },
        "trusted": true,
        "id": "pp-Q_2ho9_mK"
      },
      "execution_count": null,
      "outputs": []
    },
    {
      "cell_type": "markdown",
      "source": [
        "Now we run this five times, and collect the results into a list:"
      ],
      "metadata": {
        "id": "7SIMlLfN9_mK"
      }
    },
    {
      "cell_type": "code",
      "source": [
        "learns = [ensemble() for _ in range(5)]"
      ],
      "metadata": {
        "execution": {
          "iopub.status.busy": "2022-05-16T21:31:14.618981Z",
          "iopub.execute_input": "2022-05-16T21:31:14.620018Z",
          "iopub.status.idle": "2022-05-16T21:31:24.138634Z",
          "shell.execute_reply.started": "2022-05-16T21:31:14.61996Z",
          "shell.execute_reply": "2022-05-16T21:31:24.137567Z"
        },
        "trusted": true,
        "id": "Ta5kPsxa9_mL"
      },
      "execution_count": null,
      "outputs": []
    },
    {
      "cell_type": "markdown",
      "source": [
        "We stack this predictions together and take their average predictions:"
      ],
      "metadata": {
        "id": "XluXwuPR9_mL"
      }
    },
    {
      "cell_type": "code",
      "source": [
        "ens_preds = torch.stack(learns).mean(0)"
      ],
      "metadata": {
        "execution": {
          "iopub.status.busy": "2022-05-16T21:32:57.494424Z",
          "iopub.execute_input": "2022-05-16T21:32:57.495125Z",
          "iopub.status.idle": "2022-05-16T21:32:57.499817Z",
          "shell.execute_reply.started": "2022-05-16T21:32:57.49506Z",
          "shell.execute_reply": "2022-05-16T21:32:57.498927Z"
        },
        "trusted": true,
        "id": "WhugtP3I9_mL"
      },
      "execution_count": null,
      "outputs": []
    },
    {
      "cell_type": "markdown",
      "source": [
        "Finally, use the same code as before to generate a submission file, which we can submit to Kaggle after the notebook is saved and run:"
      ],
      "metadata": {
        "id": "BaHMO81W9_mL"
      }
    },
    {
      "cell_type": "code",
      "source": [
        "tst_df['Survived'] = (ens_preds[:,1]>0.5).int()\n",
        "sub_df = tst_df[['PassengerId','Survived']]\n",
        "sub_df.to_csv('ens_sub.csv', index=False)"
      ],
      "metadata": {
        "execution": {
          "iopub.status.busy": "2022-05-16T21:33:20.950176Z",
          "iopub.execute_input": "2022-05-16T21:33:20.951163Z",
          "iopub.status.idle": "2022-05-16T21:33:20.960718Z",
          "shell.execute_reply.started": "2022-05-16T21:33:20.951112Z",
          "shell.execute_reply": "2022-05-16T21:33:20.959421Z"
        },
        "trusted": true,
        "id": "Zz6A5yr39_mL"
      },
      "execution_count": null,
      "outputs": []
    },
    {
      "cell_type": "markdown",
      "source": [
        "At the time of writing, this submission is well within the top 25% of entries to the competition.\n",
        "\n",
        "(A lot of submissions to this competition use additional external data, but we have restricted ourselves to just using the data provided. We'd probably do a lot better if we used external data too. Feel free to give that a try, and see how you go. Note that you'll never be able to get to the top of the leaderboard, since a lot of folks in this competition have cheated, by downloading the answers from the internet and uploading them as their submission. In a real competition that's not possible, because the answers aren't public, but there's nothing stopping people from cheating in a tutorial/practice competition like this one. So if you're ready for a real challenge, take a look at the [competitions page](https://www.kaggle.com/competitions/) and start working on a real competition!)"
      ],
      "metadata": {
        "id": "z1ajSx5Q9_mM"
      }
    },
    {
      "cell_type": "markdown",
      "source": [
        "## Final thoughts"
      ],
      "metadata": {
        "id": "INq-ASxT9_mM"
      }
    },
    {
      "cell_type": "markdown",
      "source": [
        "As you can see, using fastai and PyTorch made things much easier than doing it from scratch, but it also hid away a lot of the details. So if you only ever use a framework, you're not going to as fully understand what's going on under the hood. That understanding can be really helpful when it comes to debugging and improving your models. But do use fastai when you're creating models on Kaggle or in \"real life\", because otherwise you're not taking advantage of all the research that's gone into optimising the models for you, and you'll end up spending more time debugging and implementing menial boiler-plate than actually solving the real problem!\n",
        "\n",
        "If you found this notebook useful, please remember to click the little up-arrow at the top to upvote it, since I like to know when people have found my work useful, and it helps others find it too. (BTW, be sure you're looking at my [original notebook](https://www.kaggle.com/jhoward/why-you-should-use-a-framework) here when you do that, and are not on your own copy of it, otherwise your upvote won't get counted!) And if you have any questions or comments, please pop them below -- I read every comment I receive!"
      ],
      "metadata": {
        "id": "frnTmAUC9_mM"
      }
    }
  ]
}