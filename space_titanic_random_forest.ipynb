{
  "nbformat": 4,
  "nbformat_minor": 0,
  "metadata": {
    "colab": {
      "provenance": [],
      "collapsed_sections": [
        "PbMAfxGM6duJ"
      ],
      "authorship_tag": "ABX9TyPLsMqUGfzZDWSjHHo2hx7J",
      "include_colab_link": true
    },
    "kernelspec": {
      "name": "python3",
      "display_name": "Python 3"
    },
    "language_info": {
      "name": "python"
    },
    "gpuClass": "standard",
    "widgets": {
      "application/vnd.jupyter.widget-state+json": {
        "ba4975511ed34244a70b7ce724ff65e3": {
          "model_module": "@jupyter-widgets/controls",
          "model_name": "HBoxModel",
          "model_module_version": "1.5.0",
          "state": {
            "_dom_classes": [],
            "_model_module": "@jupyter-widgets/controls",
            "_model_module_version": "1.5.0",
            "_model_name": "HBoxModel",
            "_view_count": null,
            "_view_module": "@jupyter-widgets/controls",
            "_view_module_version": "1.5.0",
            "_view_name": "HBoxView",
            "box_style": "",
            "children": [
              "IPY_MODEL_82608b10eed640c586d7fa2deb809f39",
              "IPY_MODEL_4c25d9113b5e4fbcb3a2f9d5eb426be0",
              "IPY_MODEL_1e7a67a6376a4c28a4a40094ece9cef5"
            ],
            "layout": "IPY_MODEL_a8bff5ff4ae04f94aea1cb326e4608e5"
          }
        },
        "82608b10eed640c586d7fa2deb809f39": {
          "model_module": "@jupyter-widgets/controls",
          "model_name": "HTMLModel",
          "model_module_version": "1.5.0",
          "state": {
            "_dom_classes": [],
            "_model_module": "@jupyter-widgets/controls",
            "_model_module_version": "1.5.0",
            "_model_name": "HTMLModel",
            "_view_count": null,
            "_view_module": "@jupyter-widgets/controls",
            "_view_module_version": "1.5.0",
            "_view_name": "HTMLView",
            "description": "",
            "description_tooltip": null,
            "layout": "IPY_MODEL_9ba92e85c0c8460cb77d93c26efccf5c",
            "placeholder": "​",
            "style": "IPY_MODEL_d6a80da0be3b40d6b01b7444dc95983b",
            "value": "Summarize dataset: 100%"
          }
        },
        "4c25d9113b5e4fbcb3a2f9d5eb426be0": {
          "model_module": "@jupyter-widgets/controls",
          "model_name": "FloatProgressModel",
          "model_module_version": "1.5.0",
          "state": {
            "_dom_classes": [],
            "_model_module": "@jupyter-widgets/controls",
            "_model_module_version": "1.5.0",
            "_model_name": "FloatProgressModel",
            "_view_count": null,
            "_view_module": "@jupyter-widgets/controls",
            "_view_module_version": "1.5.0",
            "_view_name": "ProgressView",
            "bar_style": "success",
            "description": "",
            "description_tooltip": null,
            "layout": "IPY_MODEL_6905c6f75238490a9448e0564f295d78",
            "max": 5,
            "min": 0,
            "orientation": "horizontal",
            "style": "IPY_MODEL_1f1bbcfe7a3d44c682d5a5480152a628",
            "value": 5
          }
        },
        "1e7a67a6376a4c28a4a40094ece9cef5": {
          "model_module": "@jupyter-widgets/controls",
          "model_name": "HTMLModel",
          "model_module_version": "1.5.0",
          "state": {
            "_dom_classes": [],
            "_model_module": "@jupyter-widgets/controls",
            "_model_module_version": "1.5.0",
            "_model_name": "HTMLModel",
            "_view_count": null,
            "_view_module": "@jupyter-widgets/controls",
            "_view_module_version": "1.5.0",
            "_view_name": "HTMLView",
            "description": "",
            "description_tooltip": null,
            "layout": "IPY_MODEL_9c39f33b2a694e9fb57bb008205039f6",
            "placeholder": "​",
            "style": "IPY_MODEL_112d6e3cb6864e36adf2995316399686",
            "value": " 206/206 [18:57&lt;00:00,  5.07s/it, Completed]"
          }
        },
        "a8bff5ff4ae04f94aea1cb326e4608e5": {
          "model_module": "@jupyter-widgets/base",
          "model_name": "LayoutModel",
          "model_module_version": "1.2.0",
          "state": {
            "_model_module": "@jupyter-widgets/base",
            "_model_module_version": "1.2.0",
            "_model_name": "LayoutModel",
            "_view_count": null,
            "_view_module": "@jupyter-widgets/base",
            "_view_module_version": "1.2.0",
            "_view_name": "LayoutView",
            "align_content": null,
            "align_items": null,
            "align_self": null,
            "border": null,
            "bottom": null,
            "display": null,
            "flex": null,
            "flex_flow": null,
            "grid_area": null,
            "grid_auto_columns": null,
            "grid_auto_flow": null,
            "grid_auto_rows": null,
            "grid_column": null,
            "grid_gap": null,
            "grid_row": null,
            "grid_template_areas": null,
            "grid_template_columns": null,
            "grid_template_rows": null,
            "height": null,
            "justify_content": null,
            "justify_items": null,
            "left": null,
            "margin": null,
            "max_height": null,
            "max_width": null,
            "min_height": null,
            "min_width": null,
            "object_fit": null,
            "object_position": null,
            "order": null,
            "overflow": null,
            "overflow_x": null,
            "overflow_y": null,
            "padding": null,
            "right": null,
            "top": null,
            "visibility": null,
            "width": null
          }
        },
        "9ba92e85c0c8460cb77d93c26efccf5c": {
          "model_module": "@jupyter-widgets/base",
          "model_name": "LayoutModel",
          "model_module_version": "1.2.0",
          "state": {
            "_model_module": "@jupyter-widgets/base",
            "_model_module_version": "1.2.0",
            "_model_name": "LayoutModel",
            "_view_count": null,
            "_view_module": "@jupyter-widgets/base",
            "_view_module_version": "1.2.0",
            "_view_name": "LayoutView",
            "align_content": null,
            "align_items": null,
            "align_self": null,
            "border": null,
            "bottom": null,
            "display": null,
            "flex": null,
            "flex_flow": null,
            "grid_area": null,
            "grid_auto_columns": null,
            "grid_auto_flow": null,
            "grid_auto_rows": null,
            "grid_column": null,
            "grid_gap": null,
            "grid_row": null,
            "grid_template_areas": null,
            "grid_template_columns": null,
            "grid_template_rows": null,
            "height": null,
            "justify_content": null,
            "justify_items": null,
            "left": null,
            "margin": null,
            "max_height": null,
            "max_width": null,
            "min_height": null,
            "min_width": null,
            "object_fit": null,
            "object_position": null,
            "order": null,
            "overflow": null,
            "overflow_x": null,
            "overflow_y": null,
            "padding": null,
            "right": null,
            "top": null,
            "visibility": null,
            "width": null
          }
        },
        "d6a80da0be3b40d6b01b7444dc95983b": {
          "model_module": "@jupyter-widgets/controls",
          "model_name": "DescriptionStyleModel",
          "model_module_version": "1.5.0",
          "state": {
            "_model_module": "@jupyter-widgets/controls",
            "_model_module_version": "1.5.0",
            "_model_name": "DescriptionStyleModel",
            "_view_count": null,
            "_view_module": "@jupyter-widgets/base",
            "_view_module_version": "1.2.0",
            "_view_name": "StyleView",
            "description_width": ""
          }
        },
        "6905c6f75238490a9448e0564f295d78": {
          "model_module": "@jupyter-widgets/base",
          "model_name": "LayoutModel",
          "model_module_version": "1.2.0",
          "state": {
            "_model_module": "@jupyter-widgets/base",
            "_model_module_version": "1.2.0",
            "_model_name": "LayoutModel",
            "_view_count": null,
            "_view_module": "@jupyter-widgets/base",
            "_view_module_version": "1.2.0",
            "_view_name": "LayoutView",
            "align_content": null,
            "align_items": null,
            "align_self": null,
            "border": null,
            "bottom": null,
            "display": null,
            "flex": null,
            "flex_flow": null,
            "grid_area": null,
            "grid_auto_columns": null,
            "grid_auto_flow": null,
            "grid_auto_rows": null,
            "grid_column": null,
            "grid_gap": null,
            "grid_row": null,
            "grid_template_areas": null,
            "grid_template_columns": null,
            "grid_template_rows": null,
            "height": null,
            "justify_content": null,
            "justify_items": null,
            "left": null,
            "margin": null,
            "max_height": null,
            "max_width": null,
            "min_height": null,
            "min_width": null,
            "object_fit": null,
            "object_position": null,
            "order": null,
            "overflow": null,
            "overflow_x": null,
            "overflow_y": null,
            "padding": null,
            "right": null,
            "top": null,
            "visibility": null,
            "width": null
          }
        },
        "1f1bbcfe7a3d44c682d5a5480152a628": {
          "model_module": "@jupyter-widgets/controls",
          "model_name": "ProgressStyleModel",
          "model_module_version": "1.5.0",
          "state": {
            "_model_module": "@jupyter-widgets/controls",
            "_model_module_version": "1.5.0",
            "_model_name": "ProgressStyleModel",
            "_view_count": null,
            "_view_module": "@jupyter-widgets/base",
            "_view_module_version": "1.2.0",
            "_view_name": "StyleView",
            "bar_color": null,
            "description_width": ""
          }
        },
        "9c39f33b2a694e9fb57bb008205039f6": {
          "model_module": "@jupyter-widgets/base",
          "model_name": "LayoutModel",
          "model_module_version": "1.2.0",
          "state": {
            "_model_module": "@jupyter-widgets/base",
            "_model_module_version": "1.2.0",
            "_model_name": "LayoutModel",
            "_view_count": null,
            "_view_module": "@jupyter-widgets/base",
            "_view_module_version": "1.2.0",
            "_view_name": "LayoutView",
            "align_content": null,
            "align_items": null,
            "align_self": null,
            "border": null,
            "bottom": null,
            "display": null,
            "flex": null,
            "flex_flow": null,
            "grid_area": null,
            "grid_auto_columns": null,
            "grid_auto_flow": null,
            "grid_auto_rows": null,
            "grid_column": null,
            "grid_gap": null,
            "grid_row": null,
            "grid_template_areas": null,
            "grid_template_columns": null,
            "grid_template_rows": null,
            "height": null,
            "justify_content": null,
            "justify_items": null,
            "left": null,
            "margin": null,
            "max_height": null,
            "max_width": null,
            "min_height": null,
            "min_width": null,
            "object_fit": null,
            "object_position": null,
            "order": null,
            "overflow": null,
            "overflow_x": null,
            "overflow_y": null,
            "padding": null,
            "right": null,
            "top": null,
            "visibility": null,
            "width": null
          }
        },
        "112d6e3cb6864e36adf2995316399686": {
          "model_module": "@jupyter-widgets/controls",
          "model_name": "DescriptionStyleModel",
          "model_module_version": "1.5.0",
          "state": {
            "_model_module": "@jupyter-widgets/controls",
            "_model_module_version": "1.5.0",
            "_model_name": "DescriptionStyleModel",
            "_view_count": null,
            "_view_module": "@jupyter-widgets/base",
            "_view_module_version": "1.2.0",
            "_view_name": "StyleView",
            "description_width": ""
          }
        },
        "e6751c18bb404d7a8a49147106074a83": {
          "model_module": "@jupyter-widgets/controls",
          "model_name": "HBoxModel",
          "model_module_version": "1.5.0",
          "state": {
            "_dom_classes": [],
            "_model_module": "@jupyter-widgets/controls",
            "_model_module_version": "1.5.0",
            "_model_name": "HBoxModel",
            "_view_count": null,
            "_view_module": "@jupyter-widgets/controls",
            "_view_module_version": "1.5.0",
            "_view_name": "HBoxView",
            "box_style": "",
            "children": [
              "IPY_MODEL_4dbd9d312255483a865cf01e022d3f19",
              "IPY_MODEL_bf9fc4428bf645739bd945611dd11649",
              "IPY_MODEL_22c2b1b04a674f09813f1d1feabd6a2c"
            ],
            "layout": "IPY_MODEL_62e6ff218b0244378b71e030abb4f83d"
          }
        },
        "4dbd9d312255483a865cf01e022d3f19": {
          "model_module": "@jupyter-widgets/controls",
          "model_name": "HTMLModel",
          "model_module_version": "1.5.0",
          "state": {
            "_dom_classes": [],
            "_model_module": "@jupyter-widgets/controls",
            "_model_module_version": "1.5.0",
            "_model_name": "HTMLModel",
            "_view_count": null,
            "_view_module": "@jupyter-widgets/controls",
            "_view_module_version": "1.5.0",
            "_view_name": "HTMLView",
            "description": "",
            "description_tooltip": null,
            "layout": "IPY_MODEL_91e392ff1d024a2da371f2c304febd29",
            "placeholder": "​",
            "style": "IPY_MODEL_a211854926884f01bf9685dce060fce2",
            "value": "Generate report structure: 100%"
          }
        },
        "bf9fc4428bf645739bd945611dd11649": {
          "model_module": "@jupyter-widgets/controls",
          "model_name": "FloatProgressModel",
          "model_module_version": "1.5.0",
          "state": {
            "_dom_classes": [],
            "_model_module": "@jupyter-widgets/controls",
            "_model_module_version": "1.5.0",
            "_model_name": "FloatProgressModel",
            "_view_count": null,
            "_view_module": "@jupyter-widgets/controls",
            "_view_module_version": "1.5.0",
            "_view_name": "ProgressView",
            "bar_style": "success",
            "description": "",
            "description_tooltip": null,
            "layout": "IPY_MODEL_50920d122dfc47e29e19dd095ddddd14",
            "max": 1,
            "min": 0,
            "orientation": "horizontal",
            "style": "IPY_MODEL_b3fbeb5ea3af489e8fe51e75228abb6c",
            "value": 1
          }
        },
        "22c2b1b04a674f09813f1d1feabd6a2c": {
          "model_module": "@jupyter-widgets/controls",
          "model_name": "HTMLModel",
          "model_module_version": "1.5.0",
          "state": {
            "_dom_classes": [],
            "_model_module": "@jupyter-widgets/controls",
            "_model_module_version": "1.5.0",
            "_model_name": "HTMLModel",
            "_view_count": null,
            "_view_module": "@jupyter-widgets/controls",
            "_view_module_version": "1.5.0",
            "_view_name": "HTMLView",
            "description": "",
            "description_tooltip": null,
            "layout": "IPY_MODEL_c5af30ec1107431c9b15a2cca90d8c4b",
            "placeholder": "​",
            "style": "IPY_MODEL_79ea1b294e564a54bb6ba44972d7b522",
            "value": " 1/1 [00:11&lt;00:00, 11.54s/it]"
          }
        },
        "62e6ff218b0244378b71e030abb4f83d": {
          "model_module": "@jupyter-widgets/base",
          "model_name": "LayoutModel",
          "model_module_version": "1.2.0",
          "state": {
            "_model_module": "@jupyter-widgets/base",
            "_model_module_version": "1.2.0",
            "_model_name": "LayoutModel",
            "_view_count": null,
            "_view_module": "@jupyter-widgets/base",
            "_view_module_version": "1.2.0",
            "_view_name": "LayoutView",
            "align_content": null,
            "align_items": null,
            "align_self": null,
            "border": null,
            "bottom": null,
            "display": null,
            "flex": null,
            "flex_flow": null,
            "grid_area": null,
            "grid_auto_columns": null,
            "grid_auto_flow": null,
            "grid_auto_rows": null,
            "grid_column": null,
            "grid_gap": null,
            "grid_row": null,
            "grid_template_areas": null,
            "grid_template_columns": null,
            "grid_template_rows": null,
            "height": null,
            "justify_content": null,
            "justify_items": null,
            "left": null,
            "margin": null,
            "max_height": null,
            "max_width": null,
            "min_height": null,
            "min_width": null,
            "object_fit": null,
            "object_position": null,
            "order": null,
            "overflow": null,
            "overflow_x": null,
            "overflow_y": null,
            "padding": null,
            "right": null,
            "top": null,
            "visibility": null,
            "width": null
          }
        },
        "91e392ff1d024a2da371f2c304febd29": {
          "model_module": "@jupyter-widgets/base",
          "model_name": "LayoutModel",
          "model_module_version": "1.2.0",
          "state": {
            "_model_module": "@jupyter-widgets/base",
            "_model_module_version": "1.2.0",
            "_model_name": "LayoutModel",
            "_view_count": null,
            "_view_module": "@jupyter-widgets/base",
            "_view_module_version": "1.2.0",
            "_view_name": "LayoutView",
            "align_content": null,
            "align_items": null,
            "align_self": null,
            "border": null,
            "bottom": null,
            "display": null,
            "flex": null,
            "flex_flow": null,
            "grid_area": null,
            "grid_auto_columns": null,
            "grid_auto_flow": null,
            "grid_auto_rows": null,
            "grid_column": null,
            "grid_gap": null,
            "grid_row": null,
            "grid_template_areas": null,
            "grid_template_columns": null,
            "grid_template_rows": null,
            "height": null,
            "justify_content": null,
            "justify_items": null,
            "left": null,
            "margin": null,
            "max_height": null,
            "max_width": null,
            "min_height": null,
            "min_width": null,
            "object_fit": null,
            "object_position": null,
            "order": null,
            "overflow": null,
            "overflow_x": null,
            "overflow_y": null,
            "padding": null,
            "right": null,
            "top": null,
            "visibility": null,
            "width": null
          }
        },
        "a211854926884f01bf9685dce060fce2": {
          "model_module": "@jupyter-widgets/controls",
          "model_name": "DescriptionStyleModel",
          "model_module_version": "1.5.0",
          "state": {
            "_model_module": "@jupyter-widgets/controls",
            "_model_module_version": "1.5.0",
            "_model_name": "DescriptionStyleModel",
            "_view_count": null,
            "_view_module": "@jupyter-widgets/base",
            "_view_module_version": "1.2.0",
            "_view_name": "StyleView",
            "description_width": ""
          }
        },
        "50920d122dfc47e29e19dd095ddddd14": {
          "model_module": "@jupyter-widgets/base",
          "model_name": "LayoutModel",
          "model_module_version": "1.2.0",
          "state": {
            "_model_module": "@jupyter-widgets/base",
            "_model_module_version": "1.2.0",
            "_model_name": "LayoutModel",
            "_view_count": null,
            "_view_module": "@jupyter-widgets/base",
            "_view_module_version": "1.2.0",
            "_view_name": "LayoutView",
            "align_content": null,
            "align_items": null,
            "align_self": null,
            "border": null,
            "bottom": null,
            "display": null,
            "flex": null,
            "flex_flow": null,
            "grid_area": null,
            "grid_auto_columns": null,
            "grid_auto_flow": null,
            "grid_auto_rows": null,
            "grid_column": null,
            "grid_gap": null,
            "grid_row": null,
            "grid_template_areas": null,
            "grid_template_columns": null,
            "grid_template_rows": null,
            "height": null,
            "justify_content": null,
            "justify_items": null,
            "left": null,
            "margin": null,
            "max_height": null,
            "max_width": null,
            "min_height": null,
            "min_width": null,
            "object_fit": null,
            "object_position": null,
            "order": null,
            "overflow": null,
            "overflow_x": null,
            "overflow_y": null,
            "padding": null,
            "right": null,
            "top": null,
            "visibility": null,
            "width": null
          }
        },
        "b3fbeb5ea3af489e8fe51e75228abb6c": {
          "model_module": "@jupyter-widgets/controls",
          "model_name": "ProgressStyleModel",
          "model_module_version": "1.5.0",
          "state": {
            "_model_module": "@jupyter-widgets/controls",
            "_model_module_version": "1.5.0",
            "_model_name": "ProgressStyleModel",
            "_view_count": null,
            "_view_module": "@jupyter-widgets/base",
            "_view_module_version": "1.2.0",
            "_view_name": "StyleView",
            "bar_color": null,
            "description_width": ""
          }
        },
        "c5af30ec1107431c9b15a2cca90d8c4b": {
          "model_module": "@jupyter-widgets/base",
          "model_name": "LayoutModel",
          "model_module_version": "1.2.0",
          "state": {
            "_model_module": "@jupyter-widgets/base",
            "_model_module_version": "1.2.0",
            "_model_name": "LayoutModel",
            "_view_count": null,
            "_view_module": "@jupyter-widgets/base",
            "_view_module_version": "1.2.0",
            "_view_name": "LayoutView",
            "align_content": null,
            "align_items": null,
            "align_self": null,
            "border": null,
            "bottom": null,
            "display": null,
            "flex": null,
            "flex_flow": null,
            "grid_area": null,
            "grid_auto_columns": null,
            "grid_auto_flow": null,
            "grid_auto_rows": null,
            "grid_column": null,
            "grid_gap": null,
            "grid_row": null,
            "grid_template_areas": null,
            "grid_template_columns": null,
            "grid_template_rows": null,
            "height": null,
            "justify_content": null,
            "justify_items": null,
            "left": null,
            "margin": null,
            "max_height": null,
            "max_width": null,
            "min_height": null,
            "min_width": null,
            "object_fit": null,
            "object_position": null,
            "order": null,
            "overflow": null,
            "overflow_x": null,
            "overflow_y": null,
            "padding": null,
            "right": null,
            "top": null,
            "visibility": null,
            "width": null
          }
        },
        "79ea1b294e564a54bb6ba44972d7b522": {
          "model_module": "@jupyter-widgets/controls",
          "model_name": "DescriptionStyleModel",
          "model_module_version": "1.5.0",
          "state": {
            "_model_module": "@jupyter-widgets/controls",
            "_model_module_version": "1.5.0",
            "_model_name": "DescriptionStyleModel",
            "_view_count": null,
            "_view_module": "@jupyter-widgets/base",
            "_view_module_version": "1.2.0",
            "_view_name": "StyleView",
            "description_width": ""
          }
        },
        "3f32c5baf33b478fadd6ade97af8fbe0": {
          "model_module": "@jupyter-widgets/controls",
          "model_name": "HBoxModel",
          "model_module_version": "1.5.0",
          "state": {
            "_dom_classes": [],
            "_model_module": "@jupyter-widgets/controls",
            "_model_module_version": "1.5.0",
            "_model_name": "HBoxModel",
            "_view_count": null,
            "_view_module": "@jupyter-widgets/controls",
            "_view_module_version": "1.5.0",
            "_view_name": "HBoxView",
            "box_style": "",
            "children": [
              "IPY_MODEL_97d9341183384c6498ee1c1124ce6f73",
              "IPY_MODEL_ea25115e27c04382b981c54e6175a755",
              "IPY_MODEL_484bd2a52793470eb79b10d68aaa0b81"
            ],
            "layout": "IPY_MODEL_bf92fac466ec4e179c74407f3001e9dc"
          }
        },
        "97d9341183384c6498ee1c1124ce6f73": {
          "model_module": "@jupyter-widgets/controls",
          "model_name": "HTMLModel",
          "model_module_version": "1.5.0",
          "state": {
            "_dom_classes": [],
            "_model_module": "@jupyter-widgets/controls",
            "_model_module_version": "1.5.0",
            "_model_name": "HTMLModel",
            "_view_count": null,
            "_view_module": "@jupyter-widgets/controls",
            "_view_module_version": "1.5.0",
            "_view_name": "HTMLView",
            "description": "",
            "description_tooltip": null,
            "layout": "IPY_MODEL_335328ab26e04441b15e69e3975786fe",
            "placeholder": "​",
            "style": "IPY_MODEL_3c7e06bd58f04b2485de57841659d126",
            "value": "Render HTML: 100%"
          }
        },
        "ea25115e27c04382b981c54e6175a755": {
          "model_module": "@jupyter-widgets/controls",
          "model_name": "FloatProgressModel",
          "model_module_version": "1.5.0",
          "state": {
            "_dom_classes": [],
            "_model_module": "@jupyter-widgets/controls",
            "_model_module_version": "1.5.0",
            "_model_name": "FloatProgressModel",
            "_view_count": null,
            "_view_module": "@jupyter-widgets/controls",
            "_view_module_version": "1.5.0",
            "_view_name": "ProgressView",
            "bar_style": "success",
            "description": "",
            "description_tooltip": null,
            "layout": "IPY_MODEL_47a7730c606641329253b8f46878614d",
            "max": 1,
            "min": 0,
            "orientation": "horizontal",
            "style": "IPY_MODEL_ab9b7041c33643d1b54a9e93a58d3e85",
            "value": 1
          }
        },
        "484bd2a52793470eb79b10d68aaa0b81": {
          "model_module": "@jupyter-widgets/controls",
          "model_name": "HTMLModel",
          "model_module_version": "1.5.0",
          "state": {
            "_dom_classes": [],
            "_model_module": "@jupyter-widgets/controls",
            "_model_module_version": "1.5.0",
            "_model_name": "HTMLModel",
            "_view_count": null,
            "_view_module": "@jupyter-widgets/controls",
            "_view_module_version": "1.5.0",
            "_view_name": "HTMLView",
            "description": "",
            "description_tooltip": null,
            "layout": "IPY_MODEL_d5c0dc5adefe487bb7d92d74412f6d3a",
            "placeholder": "​",
            "style": "IPY_MODEL_81034924b88f4fcb8f1f7c04d1a78c53",
            "value": " 1/1 [00:48&lt;00:00, 48.97s/it]"
          }
        },
        "bf92fac466ec4e179c74407f3001e9dc": {
          "model_module": "@jupyter-widgets/base",
          "model_name": "LayoutModel",
          "model_module_version": "1.2.0",
          "state": {
            "_model_module": "@jupyter-widgets/base",
            "_model_module_version": "1.2.0",
            "_model_name": "LayoutModel",
            "_view_count": null,
            "_view_module": "@jupyter-widgets/base",
            "_view_module_version": "1.2.0",
            "_view_name": "LayoutView",
            "align_content": null,
            "align_items": null,
            "align_self": null,
            "border": null,
            "bottom": null,
            "display": null,
            "flex": null,
            "flex_flow": null,
            "grid_area": null,
            "grid_auto_columns": null,
            "grid_auto_flow": null,
            "grid_auto_rows": null,
            "grid_column": null,
            "grid_gap": null,
            "grid_row": null,
            "grid_template_areas": null,
            "grid_template_columns": null,
            "grid_template_rows": null,
            "height": null,
            "justify_content": null,
            "justify_items": null,
            "left": null,
            "margin": null,
            "max_height": null,
            "max_width": null,
            "min_height": null,
            "min_width": null,
            "object_fit": null,
            "object_position": null,
            "order": null,
            "overflow": null,
            "overflow_x": null,
            "overflow_y": null,
            "padding": null,
            "right": null,
            "top": null,
            "visibility": null,
            "width": null
          }
        },
        "335328ab26e04441b15e69e3975786fe": {
          "model_module": "@jupyter-widgets/base",
          "model_name": "LayoutModel",
          "model_module_version": "1.2.0",
          "state": {
            "_model_module": "@jupyter-widgets/base",
            "_model_module_version": "1.2.0",
            "_model_name": "LayoutModel",
            "_view_count": null,
            "_view_module": "@jupyter-widgets/base",
            "_view_module_version": "1.2.0",
            "_view_name": "LayoutView",
            "align_content": null,
            "align_items": null,
            "align_self": null,
            "border": null,
            "bottom": null,
            "display": null,
            "flex": null,
            "flex_flow": null,
            "grid_area": null,
            "grid_auto_columns": null,
            "grid_auto_flow": null,
            "grid_auto_rows": null,
            "grid_column": null,
            "grid_gap": null,
            "grid_row": null,
            "grid_template_areas": null,
            "grid_template_columns": null,
            "grid_template_rows": null,
            "height": null,
            "justify_content": null,
            "justify_items": null,
            "left": null,
            "margin": null,
            "max_height": null,
            "max_width": null,
            "min_height": null,
            "min_width": null,
            "object_fit": null,
            "object_position": null,
            "order": null,
            "overflow": null,
            "overflow_x": null,
            "overflow_y": null,
            "padding": null,
            "right": null,
            "top": null,
            "visibility": null,
            "width": null
          }
        },
        "3c7e06bd58f04b2485de57841659d126": {
          "model_module": "@jupyter-widgets/controls",
          "model_name": "DescriptionStyleModel",
          "model_module_version": "1.5.0",
          "state": {
            "_model_module": "@jupyter-widgets/controls",
            "_model_module_version": "1.5.0",
            "_model_name": "DescriptionStyleModel",
            "_view_count": null,
            "_view_module": "@jupyter-widgets/base",
            "_view_module_version": "1.2.0",
            "_view_name": "StyleView",
            "description_width": ""
          }
        },
        "47a7730c606641329253b8f46878614d": {
          "model_module": "@jupyter-widgets/base",
          "model_name": "LayoutModel",
          "model_module_version": "1.2.0",
          "state": {
            "_model_module": "@jupyter-widgets/base",
            "_model_module_version": "1.2.0",
            "_model_name": "LayoutModel",
            "_view_count": null,
            "_view_module": "@jupyter-widgets/base",
            "_view_module_version": "1.2.0",
            "_view_name": "LayoutView",
            "align_content": null,
            "align_items": null,
            "align_self": null,
            "border": null,
            "bottom": null,
            "display": null,
            "flex": null,
            "flex_flow": null,
            "grid_area": null,
            "grid_auto_columns": null,
            "grid_auto_flow": null,
            "grid_auto_rows": null,
            "grid_column": null,
            "grid_gap": null,
            "grid_row": null,
            "grid_template_areas": null,
            "grid_template_columns": null,
            "grid_template_rows": null,
            "height": null,
            "justify_content": null,
            "justify_items": null,
            "left": null,
            "margin": null,
            "max_height": null,
            "max_width": null,
            "min_height": null,
            "min_width": null,
            "object_fit": null,
            "object_position": null,
            "order": null,
            "overflow": null,
            "overflow_x": null,
            "overflow_y": null,
            "padding": null,
            "right": null,
            "top": null,
            "visibility": null,
            "width": null
          }
        },
        "ab9b7041c33643d1b54a9e93a58d3e85": {
          "model_module": "@jupyter-widgets/controls",
          "model_name": "ProgressStyleModel",
          "model_module_version": "1.5.0",
          "state": {
            "_model_module": "@jupyter-widgets/controls",
            "_model_module_version": "1.5.0",
            "_model_name": "ProgressStyleModel",
            "_view_count": null,
            "_view_module": "@jupyter-widgets/base",
            "_view_module_version": "1.2.0",
            "_view_name": "StyleView",
            "bar_color": null,
            "description_width": ""
          }
        },
        "d5c0dc5adefe487bb7d92d74412f6d3a": {
          "model_module": "@jupyter-widgets/base",
          "model_name": "LayoutModel",
          "model_module_version": "1.2.0",
          "state": {
            "_model_module": "@jupyter-widgets/base",
            "_model_module_version": "1.2.0",
            "_model_name": "LayoutModel",
            "_view_count": null,
            "_view_module": "@jupyter-widgets/base",
            "_view_module_version": "1.2.0",
            "_view_name": "LayoutView",
            "align_content": null,
            "align_items": null,
            "align_self": null,
            "border": null,
            "bottom": null,
            "display": null,
            "flex": null,
            "flex_flow": null,
            "grid_area": null,
            "grid_auto_columns": null,
            "grid_auto_flow": null,
            "grid_auto_rows": null,
            "grid_column": null,
            "grid_gap": null,
            "grid_row": null,
            "grid_template_areas": null,
            "grid_template_columns": null,
            "grid_template_rows": null,
            "height": null,
            "justify_content": null,
            "justify_items": null,
            "left": null,
            "margin": null,
            "max_height": null,
            "max_width": null,
            "min_height": null,
            "min_width": null,
            "object_fit": null,
            "object_position": null,
            "order": null,
            "overflow": null,
            "overflow_x": null,
            "overflow_y": null,
            "padding": null,
            "right": null,
            "top": null,
            "visibility": null,
            "width": null
          }
        },
        "81034924b88f4fcb8f1f7c04d1a78c53": {
          "model_module": "@jupyter-widgets/controls",
          "model_name": "DescriptionStyleModel",
          "model_module_version": "1.5.0",
          "state": {
            "_model_module": "@jupyter-widgets/controls",
            "_model_module_version": "1.5.0",
            "_model_name": "DescriptionStyleModel",
            "_view_count": null,
            "_view_module": "@jupyter-widgets/base",
            "_view_module_version": "1.2.0",
            "_view_name": "StyleView",
            "description_width": ""
          }
        }
      }
    }
  },
  "cells": [
    {
      "cell_type": "markdown",
      "metadata": {
        "id": "view-in-github",
        "colab_type": "text"
      },
      "source": [
        "<a href=\"https://colab.research.google.com/github/Meta-Sean/Practical-Deep-Learning/blob/main/space_titanic_random_forest.ipynb\" target=\"_parent\"><img src=\"https://colab.research.google.com/assets/colab-badge.svg\" alt=\"Open In Colab\"/></a>"
      ]
    },
    {
      "cell_type": "markdown",
      "source": [
        "# Space Titanic\n",
        "- Predict which passengers are transported to an alternate dimension"
      ],
      "metadata": {
        "id": "PbMAfxGM6duJ"
      }
    },
    {
      "cell_type": "markdown",
      "source": [
        "# File and Data Field Descriptions\n",
        "- train.csv - Personal records for about two-thirds (~8700) of the    passengers, to be used as training data.\n",
        "  - PassengerId - A unique Id for each passenger. Each Id takes the form gggg_pp where gggg indicates a group the passenger is travelling with and pp is their number within the group. People in a group are often family members, but not always.\n",
        "  - HomePlanet - The planet the passenger departed from, typically their planet of permanent residence.\n",
        "  - CryoSleep - Indicates whether the passenger elected to be put into suspended animation for the duration of the voyage. Passengers in cryosleep are confined to their cabins.\n",
        "  - Cabin - The cabin number where the passenger is staying. Takes the form deck/num/side, where side can be either P for Port or S for Starboard.\n",
        "  - Destination - The planet the passenger will be debarking to.\n",
        "  - Age - The age of the passenger.\n",
        "  - VIP - Whether the passenger has paid for special VIP service during the voyage.\n",
        "  - RoomService, FoodCourt, ShoppingMall, Spa, VRDeck - Amount the passenger has billed at each of the Spaceship Titanic's many luxury amenities.\n",
        "  - Name - The first and last names of the passenger.\n",
        "  - Transported - Whether the passenger was transported to another dimension. This is the target, the column you are trying to predict.\n",
        "- test.csv - Personal records for the remaining one-third (~4300) of the passengers, to be used as test data. Your task is to predict the value of Transported for the passengers in this set.\n",
        "sample_submission.csv - A submission file in the correct format.\n",
        "  - PassengerId - Id for each passenger in the test set.\n",
        "  - Transported - The target. For each passenger, predict either True or False.\n",
        "\n"
      ],
      "metadata": {
        "id": "UovKClZY6dm8"
      }
    },
    {
      "cell_type": "code",
      "source": [
        "!pip install kaggle"
      ],
      "metadata": {
        "id": "xB5mXPtxKVy9",
        "colab": {
          "base_uri": "https://localhost:8080/"
        },
        "outputId": "b4b9af68-bed5-401a-e325-c843e0835b90"
      },
      "execution_count": 9,
      "outputs": [
        {
          "output_type": "stream",
          "name": "stdout",
          "text": [
            "Looking in indexes: https://pypi.org/simple, https://us-python.pkg.dev/colab-wheels/public/simple/\n",
            "Requirement already satisfied: kaggle in /usr/local/lib/python3.7/dist-packages (1.5.12)\n",
            "Requirement already satisfied: certifi in /usr/local/lib/python3.7/dist-packages (from kaggle) (2022.6.15)\n",
            "Requirement already satisfied: urllib3 in /usr/local/lib/python3.7/dist-packages (from kaggle) (1.24.3)\n",
            "Requirement already satisfied: tqdm in /usr/local/lib/python3.7/dist-packages (from kaggle) (4.64.0)\n",
            "Requirement already satisfied: six>=1.10 in /usr/local/lib/python3.7/dist-packages (from kaggle) (1.15.0)\n",
            "Requirement already satisfied: requests in /usr/local/lib/python3.7/dist-packages (from kaggle) (2.28.1)\n",
            "Requirement already satisfied: python-slugify in /usr/local/lib/python3.7/dist-packages (from kaggle) (6.1.2)\n",
            "Requirement already satisfied: python-dateutil in /usr/local/lib/python3.7/dist-packages (from kaggle) (2.8.2)\n",
            "Requirement already satisfied: text-unidecode>=1.3 in /usr/local/lib/python3.7/dist-packages (from python-slugify->kaggle) (1.3)\n",
            "Requirement already satisfied: idna<4,>=2.5 in /usr/local/lib/python3.7/dist-packages (from requests->kaggle) (2.10)\n",
            "Requirement already satisfied: charset-normalizer<3,>=2 in /usr/local/lib/python3.7/dist-packages (from requests->kaggle) (2.1.1)\n"
          ]
        }
      ]
    },
    {
      "cell_type": "code",
      "source": [
        "from google.colab import files\n",
        "import pandas as pd\n",
        "uploaded = files.upload()"
      ],
      "metadata": {
        "id": "56cUfe8SK_Um",
        "colab": {
          "resources": {
            "http://localhost:8080/nbextensions/google.colab/files.js": {
              "data": "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",
              "ok": true,
              "headers": [
                [
                  "content-type",
                  "application/javascript"
                ]
              ],
              "status": 200,
              "status_text": ""
            }
          },
          "base_uri": "https://localhost:8080/",
          "height": 73
        },
        "outputId": "e111e7a0-bd35-4ff9-8576-c6d9a636c891"
      },
      "execution_count": 10,
      "outputs": [
        {
          "output_type": "display_data",
          "data": {
            "text/plain": [
              "<IPython.core.display.HTML object>"
            ],
            "text/html": [
              "\n",
              "     <input type=\"file\" id=\"files-69a2cd1b-c0bd-4f15-9633-b5cec20536ef\" name=\"files[]\" multiple disabled\n",
              "        style=\"border:none\" />\n",
              "     <output id=\"result-69a2cd1b-c0bd-4f15-9633-b5cec20536ef\">\n",
              "      Upload widget is only available when the cell has been executed in the\n",
              "      current browser session. Please rerun this cell to enable.\n",
              "      </output>\n",
              "      <script src=\"/nbextensions/google.colab/files.js\"></script> "
            ]
          },
          "metadata": {}
        },
        {
          "output_type": "stream",
          "name": "stdout",
          "text": [
            "Saving kaggle.json to kaggle (4).json\n"
          ]
        }
      ]
    },
    {
      "cell_type": "code",
      "source": [
        "! mkdir ~/.kaggle #creating folder\n",
        "! cp kaggle.json ~/.kaggle/ #copying kaggle.json\n",
        "! chmod 600 ~/.kaggle/kaggle.json #reading the file with full access"
      ],
      "metadata": {
        "id": "vNicaS1_LAPW",
        "colab": {
          "base_uri": "https://localhost:8080/"
        },
        "outputId": "98d6232d-6a5b-4550-d914-fc8d1166f30f"
      },
      "execution_count": 11,
      "outputs": [
        {
          "output_type": "stream",
          "name": "stdout",
          "text": [
            "mkdir: cannot create directory ‘/root/.kaggle’: File exists\n"
          ]
        }
      ]
    },
    {
      "cell_type": "code",
      "source": [
        "from pathlib import Path\n",
        "import os\n",
        "\n",
        "iskaggle = os.environ.get('KAGGLE_KERNEL_RUN_TYPE', '')\n",
        "if iskaggle:\n",
        "    path = Path('../input/spaceship-titanic')\n",
        "    !pip install -Uqq fastai\n",
        "else:\n",
        "    import pandas as pd\n",
        "    import zipfile,kaggle\n",
        "    path = Path('spaceship-titanic')\n",
        "    kaggle.api.competition_download_cli(str(path))\n",
        "    zipfile.ZipFile(f'{path}.zip').extractall(path)"
      ],
      "metadata": {
        "colab": {
          "base_uri": "https://localhost:8080/"
        },
        "id": "8plSh82ILBcO",
        "outputId": "2623ac81-555c-4273-cae4-1d47b23b2316"
      },
      "execution_count": 12,
      "outputs": [
        {
          "output_type": "stream",
          "name": "stdout",
          "text": [
            "spaceship-titanic.zip: Skipping, found more recently modified local copy (use --force to force download)\n"
          ]
        }
      ]
    },
    {
      "cell_type": "code",
      "source": [
        "df = pd.read_csv('spaceship-titanic/train.csv')\n",
        "tst_df = pd.read_csv('spaceship-titanic/test.csv')\n",
        "modes = df.mode().iloc[0]\n",
        "df['Transported'] = df['Transported'].apply(lambda x: 1 if x == True else 0)"
      ],
      "metadata": {
        "id": "xBdkgD2O6kwv"
      },
      "execution_count": 13,
      "outputs": []
    },
    {
      "cell_type": "code",
      "source": [
        "df.info()"
      ],
      "metadata": {
        "colab": {
          "base_uri": "https://localhost:8080/"
        },
        "id": "Xn4Ggx1cc0Bc",
        "outputId": "96793771-d1c2-4bbc-8b5e-7140b09fd11a"
      },
      "execution_count": 14,
      "outputs": [
        {
          "output_type": "stream",
          "name": "stdout",
          "text": [
            "<class 'pandas.core.frame.DataFrame'>\n",
            "RangeIndex: 8693 entries, 0 to 8692\n",
            "Data columns (total 14 columns):\n",
            " #   Column        Non-Null Count  Dtype  \n",
            "---  ------        --------------  -----  \n",
            " 0   PassengerId   8693 non-null   object \n",
            " 1   HomePlanet    8492 non-null   object \n",
            " 2   CryoSleep     8476 non-null   object \n",
            " 3   Cabin         8494 non-null   object \n",
            " 4   Destination   8511 non-null   object \n",
            " 5   Age           8514 non-null   float64\n",
            " 6   VIP           8490 non-null   object \n",
            " 7   RoomService   8512 non-null   float64\n",
            " 8   FoodCourt     8510 non-null   float64\n",
            " 9   ShoppingMall  8485 non-null   float64\n",
            " 10  Spa           8510 non-null   float64\n",
            " 11  VRDeck        8505 non-null   float64\n",
            " 12  Name          8493 non-null   object \n",
            " 13  Transported   8693 non-null   int64  \n",
            "dtypes: float64(6), int64(1), object(7)\n",
            "memory usage: 950.9+ KB\n"
          ]
        }
      ]
    },
    {
      "cell_type": "code",
      "source": [
        "#!pip install https://github.com/pandas-profiling/pandas-profiling/archive/master.zip"
      ],
      "metadata": {
        "id": "wAwU2QZmdYay"
      },
      "execution_count": 15,
      "outputs": []
    },
    {
      "cell_type": "markdown",
      "source": [
        "## Data preprocessing"
      ],
      "metadata": {
        "id": "20r_gGeUhQsZ"
      }
    },
    {
      "cell_type": "code",
      "source": [
        "import numpy as np\n",
        "\n",
        "def add_features(df):\n",
        "  df.fillna(modes, inplace=True)\n",
        "  df['LogRoomService'] = np.log(df['RoomService']+1)\n",
        "  df['LogFoodCourt'] = np.log(df['FoodCourt']+1)\n",
        "  df['LogShoppingMall'] = np.log(df['ShoppingMall']+1)\n",
        "  df['LogSpa'] = np.log(df['Spa']+1)\n",
        "  df['LogVRDeck'] = np.log(df['VRDeck']+1)\n",
        "  df[['Deck','CabinNumber','Side']] = df.Cabin.str.split('/', expand=True)\n",
        "  df[['Group', 'PassengerNumber']] = df.PassengerId.str.split('_', expand=True)\n",
        "\n",
        "add_features(df)\n",
        "add_features(tst_df)"
      ],
      "metadata": {
        "id": "GeizGyMuctpv"
      },
      "execution_count": 16,
      "outputs": []
    },
    {
      "cell_type": "code",
      "source": [
        "def proc_data(df):\n",
        "  df.fillna(modes, inplace=True)\n",
        "  df['HomePlanet'] = pd.Categorical(df.HomePlanet)\n",
        "  df[\"CryoSleep\"] = pd.Categorical(df.CryoSleep)\n",
        "  df['Destination'] = pd.Categorical(df.Destination)\n",
        "  df['Deck'] = pd.Categorical(df.Deck)\n",
        "  df['CabinNumber'] = pd.Categorical(df.HomePlanet)\n",
        "  df['Side'] = pd.Categorical(df.Side)\n",
        "  df['Group'] = pd.Categorical(df.Group)\n",
        "  df['PassengerNumber'] = pd.Categorical(df.PassengerNumber)\n",
        "  \n",
        "\n",
        "proc_data(df)\n",
        "proc_data(tst_df)\n"
      ],
      "metadata": {
        "id": "YIm-q5QXeUdm"
      },
      "execution_count": 17,
      "outputs": []
    },
    {
      "cell_type": "code",
      "source": [
        "cats=[\"HomePlanet\", \"CryoSleep\", \"Destination\", \"Deck\", \"CabinNumber\", \"Side\", \"Group\", \"PassengerNumber\"]\n",
        "conts=['Age', 'LogRoomService', 'LogFoodCourt', 'LogShoppingMall', 'LogSpa', 'LogVRDeck']\n",
        "dep=\"Transported\""
      ],
      "metadata": {
        "id": "jXU1TmtgdYgF"
      },
      "execution_count": 18,
      "outputs": []
    },
    {
      "cell_type": "code",
      "source": [
        "# profile = ProfileReport(df, title=\"Pandas Profiling Report\")\n",
        "# profile"
      ],
      "metadata": {
        "colab": {
          "base_uri": "https://localhost:8080/",
          "height": 113,
          "referenced_widgets": [
            "ba4975511ed34244a70b7ce724ff65e3",
            "82608b10eed640c586d7fa2deb809f39",
            "4c25d9113b5e4fbcb3a2f9d5eb426be0",
            "1e7a67a6376a4c28a4a40094ece9cef5",
            "a8bff5ff4ae04f94aea1cb326e4608e5",
            "9ba92e85c0c8460cb77d93c26efccf5c",
            "d6a80da0be3b40d6b01b7444dc95983b",
            "6905c6f75238490a9448e0564f295d78",
            "1f1bbcfe7a3d44c682d5a5480152a628",
            "9c39f33b2a694e9fb57bb008205039f6",
            "112d6e3cb6864e36adf2995316399686",
            "e6751c18bb404d7a8a49147106074a83",
            "4dbd9d312255483a865cf01e022d3f19",
            "bf9fc4428bf645739bd945611dd11649",
            "22c2b1b04a674f09813f1d1feabd6a2c",
            "62e6ff218b0244378b71e030abb4f83d",
            "91e392ff1d024a2da371f2c304febd29",
            "a211854926884f01bf9685dce060fce2",
            "50920d122dfc47e29e19dd095ddddd14",
            "b3fbeb5ea3af489e8fe51e75228abb6c",
            "c5af30ec1107431c9b15a2cca90d8c4b",
            "79ea1b294e564a54bb6ba44972d7b522",
            "3f32c5baf33b478fadd6ade97af8fbe0",
            "97d9341183384c6498ee1c1124ce6f73",
            "ea25115e27c04382b981c54e6175a755",
            "484bd2a52793470eb79b10d68aaa0b81",
            "bf92fac466ec4e179c74407f3001e9dc",
            "335328ab26e04441b15e69e3975786fe",
            "3c7e06bd58f04b2485de57841659d126",
            "47a7730c606641329253b8f46878614d",
            "ab9b7041c33643d1b54a9e93a58d3e85",
            "d5c0dc5adefe487bb7d92d74412f6d3a",
            "81034924b88f4fcb8f1f7c04d1a78c53"
          ]
        },
        "id": "1gppWYhrevdF",
        "outputId": "d528ee5c-44b2-49eb-b885-f1e29b58f29a"
      },
      "execution_count": 19,
      "outputs": [
        {
          "output_type": "display_data",
          "data": {
            "text/plain": [
              "Summarize dataset:   0%|          | 0/5 [00:00<?, ?it/s]"
            ],
            "application/vnd.jupyter.widget-view+json": {
              "version_major": 2,
              "version_minor": 0,
              "model_id": "ba4975511ed34244a70b7ce724ff65e3"
            }
          },
          "metadata": {}
        },
        {
          "output_type": "display_data",
          "data": {
            "text/plain": [
              "Generate report structure:   0%|          | 0/1 [00:00<?, ?it/s]"
            ],
            "application/vnd.jupyter.widget-view+json": {
              "version_major": 2,
              "version_minor": 0,
              "model_id": "e6751c18bb404d7a8a49147106074a83"
            }
          },
          "metadata": {}
        },
        {
          "output_type": "display_data",
          "data": {
            "text/plain": [
              "Render HTML:   0%|          | 0/1 [00:00<?, ?it/s]"
            ],
            "application/vnd.jupyter.widget-view+json": {
              "version_major": 2,
              "version_minor": 0,
              "model_id": "3f32c5baf33b478fadd6ade97af8fbe0"
            }
          },
          "metadata": {}
        }
      ]
    },
    {
      "cell_type": "code",
      "source": [
        "df.CryoSleep.head()"
      ],
      "metadata": {
        "id": "Rij-6244decx"
      },
      "execution_count": 20,
      "outputs": []
    },
    {
      "cell_type": "code",
      "source": [
        "df.CryoSleep.cat.codes.head()"
      ],
      "metadata": {
        "id": "fYTvrd3FhCjO",
        "colab": {
          "base_uri": "https://localhost:8080/"
        },
        "outputId": "6a58cc0c-92f3-4d16-f289-6e02e724c076"
      },
      "execution_count": 65,
      "outputs": [
        {
          "output_type": "execute_result",
          "data": {
            "text/plain": [
              "0    0\n",
              "1    0\n",
              "2    0\n",
              "3    0\n",
              "4    0\n",
              "dtype: int8"
            ]
          },
          "metadata": {},
          "execution_count": 65
        }
      ]
    },
    {
      "cell_type": "markdown",
      "source": [
        "## Binary splits"
      ],
      "metadata": {
        "id": "tKAT84edhOCV"
      }
    },
    {
      "cell_type": "code",
      "source": [
        "import seaborn as sns\n",
        "import matplotlib.pyplot as plt\n",
        "\n",
        "fix,axs = plt.subplots(1, 2, figsize=(11, 5))\n",
        "sns.barplot(data=df, y=dep, x=\"CryoSleep\", ax=axs[0]).set(title=\"Transportation rate\")\n",
        "sns.countplot(data=df, x='CryoSleep', ax=axs[1]).set(title='Histogram')"
      ],
      "metadata": {
        "id": "nQCprGOrhLlB"
      },
      "execution_count": null,
      "outputs": []
    },
    {
      "cell_type": "code",
      "source": [
        " from numpy import random\n",
        " from sklearn.model_selection import train_test_split\n",
        " \n",
        " random.seed(42)\n",
        " trn_df, val_df = train_test_split(df, test_size=0.25)\n",
        " trn_df[cats] = trn_df[cats].apply(lambda x: x.cat.codes)\n",
        " val_df[cats] = val_df[cats].apply(lambda x: x.cat.codes)"
      ],
      "metadata": {
        "id": "55fuxSx6hxD-"
      },
      "execution_count": null,
      "outputs": []
    },
    {
      "cell_type": "code",
      "source": [
        "def xs_y(df):\n",
        "  xs = df[cats+conts].copy()\n",
        "  return xs, df[dep] if dep in df else None\n",
        "\n",
        "trn_xs, trn_y = xs_y(trn_df)\n",
        "val_xs, val_y = xs_y(val_df)"
      ],
      "metadata": {
        "id": "I0l3QaCoiUU7"
      },
      "execution_count": null,
      "outputs": []
    },
    {
      "cell_type": "code",
      "source": [
        "trn_xs.info()"
      ],
      "metadata": {
        "id": "n6NaQ54zcHpm"
      },
      "execution_count": null,
      "outputs": []
    },
    {
      "cell_type": "code",
      "source": [
        "preds = val_xs.CryoSleep==1\n",
        "val_y"
      ],
      "metadata": {
        "id": "dmJqgbreiwG5"
      },
      "execution_count": null,
      "outputs": []
    },
    {
      "cell_type": "code",
      "source": [
        "from sklearn.metrics import mean_absolute_error\n",
        "mean_absolute_error(val_y, preds)"
      ],
      "metadata": {
        "id": "Po7KGwi7i4zc"
      },
      "execution_count": null,
      "outputs": []
    },
    {
      "cell_type": "code",
      "source": [
        "df_age = trn_df[trn_df.Age>0]\n",
        "fig, axs = plt.subplots(1,2, figsize=(11, 5))\n",
        "sns.boxenplot(data=df_age, x=dep, y=\"Age\", ax=axs[0])\n",
        "sns.kdeplot(data=df_age, x=\"Age\", ax=axs[1]);"
      ],
      "metadata": {
        "id": "j6KB2wa2jB_g"
      },
      "execution_count": null,
      "outputs": []
    },
    {
      "cell_type": "markdown",
      "source": [
        "## Not really conclusive quantiles for age and transportation\n",
        "Lets write a score function to try out a few different splits"
      ],
      "metadata": {
        "id": "v_yN5HqTnHo0"
      }
    },
    {
      "cell_type": "code",
      "source": [
        "def _side_score(side, y):\n",
        "  tot = side.sum()\n",
        "  if tot<=1: return 0\n",
        "  return y[side].std()*tot"
      ],
      "metadata": {
        "id": "84Iv9nzOmwiU"
      },
      "execution_count": null,
      "outputs": []
    },
    {
      "cell_type": "code",
      "source": [
        "def score(col, y, split):\n",
        "  lhs = col<=split\n",
        "  return (_side_score(lhs, y) + _side_score(~lhs, y))/len(y)"
      ],
      "metadata": {
        "id": "DFdFf9xqnwr7"
      },
      "execution_count": null,
      "outputs": []
    },
    {
      "cell_type": "code",
      "source": [
        "score(trn_xs[\"CryoSleep\"], trn_y, 0.5)"
      ],
      "metadata": {
        "id": "Q5V8kCLqn5RG"
      },
      "execution_count": null,
      "outputs": []
    },
    {
      "cell_type": "code",
      "source": [
        "score(trn_xs['Age'], trn_y, 20)"
      ],
      "metadata": {
        "id": "Lq4FUwqioL-T"
      },
      "execution_count": null,
      "outputs": []
    },
    {
      "cell_type": "code",
      "source": [
        "def iscore(nm, split):\n",
        "  col = trn_xs[nm]\n",
        "  return score(col, trn_y, split)\n",
        "\n",
        "from ipywidgets import interact\n",
        "interact(nm=conts, split=15.5)(iscore);"
      ],
      "metadata": {
        "id": "qfHd4k2Cn-z5"
      },
      "execution_count": null,
      "outputs": []
    },
    {
      "cell_type": "code",
      "source": [
        "interact(nm=cats, split=2)(iscore);"
      ],
      "metadata": {
        "id": "g7yXofmFogaY"
      },
      "execution_count": null,
      "outputs": []
    },
    {
      "cell_type": "markdown",
      "source": [
        "## Instead of manually doing this lets write a function that can automatically find the best split point for all our columns"
      ],
      "metadata": {
        "id": "SB08OjEzpQEr"
      }
    },
    {
      "cell_type": "code",
      "source": [
        "def min_col(df, nm):\n",
        "  col, y = df[nm], df[dep]\n",
        "  unq = col.dropna().unique()\n",
        "  scores = np.array([score(col, y, o) for o in unq if not np.isnan(o)])\n",
        "  idx = scores.argmin()\n",
        "  return unq[idx], scores[idx]\n",
        "\n",
        "min_col(trn_df, \"Age\")"
      ],
      "metadata": {
        "id": "l1TmK1aepCW8"
      },
      "execution_count": null,
      "outputs": []
    },
    {
      "cell_type": "code",
      "source": [
        "cols = cats+conts\n",
        "{o:min_col(trn_df, o) for o in cols}"
      ],
      "metadata": {
        "id": "TrAqDU9LppNz"
      },
      "execution_count": null,
      "outputs": []
    },
    {
      "cell_type": "markdown",
      "source": [
        "# Decision Tree!!!"
      ],
      "metadata": {
        "id": "2iUZvoIPqYBr"
      }
    },
    {
      "cell_type": "code",
      "source": [
        "trn_df.isnull().sum()"
      ],
      "metadata": {
        "id": "zSFMY5UOqpNj"
      },
      "execution_count": null,
      "outputs": []
    },
    {
      "cell_type": "code",
      "source": [
        "from sklearn.tree import DecisionTreeClassifier, export_graphviz\n",
        "\n",
        "m = DecisionTreeClassifier(max_leaf_nodes=4).fit(trn_xs, trn_y);"
      ],
      "metadata": {
        "id": "s1XcXxNAp0hH"
      },
      "execution_count": null,
      "outputs": []
    },
    {
      "cell_type": "code",
      "source": [
        "import graphviz\n",
        "import re\n",
        "\n",
        "def draw_tree(t, df, size=10, ratio=0.6, precision=2, **kwargs):\n",
        "    s=export_graphviz(t, out_file=None, feature_names=df.columns, filled=True, rounded=True,\n",
        "                      special_characters=True, rotate=False, precision=precision, **kwargs)\n",
        "    return graphviz.Source(re.sub('Tree {', f'Tree {{ size={size}; ratio={ratio}', s))"
      ],
      "metadata": {
        "id": "3JqNKTSNqjWE"
      },
      "execution_count": null,
      "outputs": []
    },
    {
      "cell_type": "code",
      "source": [
        "draw_tree(m, trn_xs, size=10)"
      ],
      "metadata": {
        "id": "ZKJZ_keZuk9k"
      },
      "execution_count": null,
      "outputs": []
    },
    {
      "cell_type": "code",
      "source": [
        "def gini(cond):\n",
        "  act = df.loc[cond, dep]\n",
        "  return 1 - act.mean()**2 - (1-act).mean()**2"
      ],
      "metadata": {
        "id": "gvXsOrU-uoM0"
      },
      "execution_count": null,
      "outputs": []
    },
    {
      "cell_type": "code",
      "source": [
        "gini(df.CryoSleep==0), gini(df.CryoSleep==1)"
      ],
      "metadata": {
        "id": "-NQB4BFWvKvT"
      },
      "execution_count": null,
      "outputs": []
    },
    {
      "cell_type": "code",
      "source": [
        "mean_absolute_error(val_y, m.predict(val_xs))"
      ],
      "metadata": {
        "id": "Hs9UQTeVxJpW"
      },
      "execution_count": null,
      "outputs": []
    },
    {
      "cell_type": "code",
      "source": [
        "m = DecisionTreeClassifier(min_samples_leaf=50)\n",
        "m.fit(trn_xs, trn_y)\n",
        "draw_tree(m, trn_xs, size=25)"
      ],
      "metadata": {
        "id": "vpvhad9fxQ41"
      },
      "execution_count": null,
      "outputs": []
    },
    {
      "cell_type": "code",
      "source": [
        "mean_absolute_error(val_y, m.predict(val_xs))"
      ],
      "metadata": {
        "id": "yzJVk5b0xwj9"
      },
      "execution_count": null,
      "outputs": []
    },
    {
      "cell_type": "code",
      "source": [
        "tst_df[cats] = tst_df[cats].apply(lambda x: x.cat.codes)\n",
        "tst_xs,_ = xs_y(tst_df)\n",
        "\n",
        "def subm(preds, suff):\n",
        "  tst_df['Transported'] = list(map(lambda x: True if x == 1 else False, preds))\n",
        "  sub_df = tst_df[['PassengerId', 'Transported']]\n",
        "  sub_df.to_csv(f'sub-{suff}.csv', index=False)\n",
        "\n",
        "subm(m.predict(tst_xs), 'tree')"
      ],
      "metadata": {
        "id": "CFxCnCt0x7Gh"
      },
      "execution_count": null,
      "outputs": []
    },
    {
      "cell_type": "code",
      "source": [
        "#! kaggle competitions submit -c spaceship-titanic -f sub-tree.csv -m 'decision tree'"
      ],
      "metadata": {
        "id": "2GJF-VIOybD2"
      },
      "execution_count": null,
      "outputs": []
    },
    {
      "cell_type": "markdown",
      "source": [
        "# Random Forest"
      ],
      "metadata": {
        "id": "07-tJfhzUSYy"
      }
    },
    {
      "cell_type": "code",
      "source": [
        "def get_tree(prop=0.75):\n",
        "  n = len(trn_y)\n",
        "  idxs = random.choice(n, int(n*prop))\n",
        "  return DecisionTreeClassifier(min_samples_leaf=5).fit(trn_xs.iloc[idxs], trn_y.iloc[idxs])"
      ],
      "metadata": {
        "id": "IQLn_2UR2MkY"
      },
      "execution_count": null,
      "outputs": []
    },
    {
      "cell_type": "code",
      "source": [
        "trees = [get_tree() for t in range(100)]"
      ],
      "metadata": {
        "id": "dR6IFVQmUmXB"
      },
      "execution_count": null,
      "outputs": []
    },
    {
      "cell_type": "code",
      "source": [
        "all_probs = [t.predict(val_xs) for t in trees]\n",
        "avg_probs = np.stack(all_probs).mean(0)\n",
        "\n",
        "mean_absolute_error(val_y, avg_probs)"
      ],
      "metadata": {
        "id": "byhILjS0UpIh"
      },
      "execution_count": null,
      "outputs": []
    },
    {
      "cell_type": "code",
      "source": [
        "from sklearn.ensemble import RandomForestClassifier\n",
        "\n",
        "rf = RandomForestClassifier(100, min_samples_leaf=5)\n",
        "rf.fit(trn_xs, trn_y)\n",
        "mean_absolute_error(val_y, rf.predict(val_xs))"
      ],
      "metadata": {
        "id": "eR6aAEF4VF3B"
      },
      "execution_count": null,
      "outputs": []
    },
    {
      "cell_type": "code",
      "source": [
        "subm(rf.predict(tst_xs), 'rf')"
      ],
      "metadata": {
        "id": "1rWd0_FkVg1o"
      },
      "execution_count": null,
      "outputs": []
    },
    {
      "cell_type": "code",
      "source": [
        "#! kaggle competitions submit -c spaceship-titanic -f sub-rf.csv -m 'random forest'"
      ],
      "metadata": {
        "id": "sxgeAI2pVquz"
      },
      "execution_count": null,
      "outputs": []
    },
    {
      "cell_type": "code",
      "source": [
        "pd.DataFrame(dict(cols=trn_xs.columns, imp=m.feature_importances_)).plot('cols', 'imp', 'barh')"
      ],
      "metadata": {
        "id": "NwSFk0RuVxBm"
      },
      "execution_count": null,
      "outputs": []
    },
    {
      "cell_type": "code",
      "source": [
        "from sklearn.model_selection import cross_val_score"
      ],
      "metadata": {
        "id": "53UNB3ihWral"
      },
      "execution_count": null,
      "outputs": []
    },
    {
      "cell_type": "markdown",
      "source": [
        "## XG Boost"
      ],
      "metadata": {
        "id": "QaLj5-LRnWdr"
      }
    },
    {
      "cell_type": "code",
      "source": [
        "import xgboost as xgb\n",
        "xg_reg = xgb.XGBClassifier(colsample_bytree = 0.7, learning_rate = 0.001,\n",
        "                max_depth = 8, alpha = 1, n_estimators = 400)\n",
        "\n",
        "scores = cross_val_score(xg_reg, trn_xs, trn_y, cv=5)\n",
        "scores.mean()"
      ],
      "metadata": {
        "id": "xNUvC7_gnDWe",
        "colab": {
          "base_uri": "https://localhost:8080/"
        },
        "outputId": "262382c8-2192-4e1a-9858-465fd2042a79"
      },
      "execution_count": 67,
      "outputs": [
        {
          "output_type": "execute_result",
          "data": {
            "text/plain": [
              "0.801351176379191"
            ]
          },
          "metadata": {},
          "execution_count": 67
        }
      ]
    },
    {
      "cell_type": "code",
      "source": [
        "xg_reg.fit(trn_xs, trn_y)\n",
        "subm(xg_reg.predict(tst_xs), 'xgb')"
      ],
      "metadata": {
        "id": "rua64DBlo5TB"
      },
      "execution_count": 66,
      "outputs": []
    },
    {
      "cell_type": "code",
      "source": [
        "! kaggle competitions submit -c spaceship-titanic -f sub-xgb.csv -m 'xbg'"
      ],
      "metadata": {
        "id": "TDkchKbdpOum",
        "colab": {
          "base_uri": "https://localhost:8080/"
        },
        "outputId": "7ce1d0f7-4c73-444e-88d1-f595295d899f"
      },
      "execution_count": 74,
      "outputs": [
        {
          "output_type": "stream",
          "name": "stdout",
          "text": [
            "100% 56.5k/56.5k [00:00<00:00, 282kB/s]\n",
            "Successfully submitted to Spaceship Titanic"
          ]
        }
      ]
    },
    {
      "cell_type": "markdown",
      "source": [
        "# Logistic Regression"
      ],
      "metadata": {
        "id": "Dz-Os5YfnZfJ"
      }
    },
    {
      "cell_type": "code",
      "source": [
        "from sklearn.linear_model import LogisticRegression\n",
        "from sklearn.model_selection import cross_val_score\n",
        "clf = LogisticRegression(random_state=0,max_iter=500)\n",
        "scores = cross_val_score(clf, trn_xs, trn_y, cv=5)\n",
        "scores.mean()"
      ],
      "metadata": {
        "id": "ghoupvgTnI7P"
      },
      "execution_count": null,
      "outputs": []
    },
    {
      "cell_type": "code",
      "source": [
        "import tensorflow as tf\n",
        "from tensorflow import keras"
      ],
      "metadata": {
        "id": "663F3njInd4f"
      },
      "execution_count": null,
      "outputs": []
    },
    {
      "cell_type": "code",
      "source": [
        "model = keras.Sequential([\n",
        "    keras.layers.Flatten(input_shape=(14,)),\n",
        "    keras.layers.Dense(32, activation=tf.nn.relu),\n",
        "    keras.layers.Dense(24, activation=tf.nn.relu),\n",
        "    keras.layers.Dense(1, activation=tf.nn.sigmoid),\n",
        "])\n",
        "\n",
        "model.compile(optimizer='adam',\n",
        "              loss='binary_crossentropy',\n",
        "              metrics=['accuracy']) "
      ],
      "metadata": {
        "id": "yBI_hA2CnlsZ"
      },
      "execution_count": null,
      "outputs": []
    },
    {
      "cell_type": "code",
      "source": [
        "model.fit(trn_xs, trn_y, epochs=500, batch_size=10, validation_split=0.25)"
      ],
      "metadata": {
        "id": "A8HRmzfrn8vE",
        "colab": {
          "base_uri": "https://localhost:8080/"
        },
        "outputId": "c1d64978-4fa6-4fc4-adaf-4088ea06b235"
      },
      "execution_count": 69,
      "outputs": [
        {
          "output_type": "stream",
          "name": "stdout",
          "text": [
            "Epoch 1/500\n",
            "489/489 [==============================] - 3s 5ms/step - loss: 0.6221 - accuracy: 0.7269 - val_loss: 0.5624 - val_accuracy: 0.7589\n",
            "Epoch 2/500\n",
            "489/489 [==============================] - 2s 4ms/step - loss: 0.6466 - accuracy: 0.7132 - val_loss: 0.5689 - val_accuracy: 0.7393\n",
            "Epoch 3/500\n",
            "489/489 [==============================] - 2s 3ms/step - loss: 0.5985 - accuracy: 0.7359 - val_loss: 0.7334 - val_accuracy: 0.6644\n",
            "Epoch 4/500\n",
            "489/489 [==============================] - 2s 4ms/step - loss: 0.6036 - accuracy: 0.7308 - val_loss: 0.4989 - val_accuracy: 0.7773\n",
            "Epoch 5/500\n",
            "489/489 [==============================] - 2s 3ms/step - loss: 0.5875 - accuracy: 0.7368 - val_loss: 0.4838 - val_accuracy: 0.7804\n",
            "Epoch 6/500\n",
            "489/489 [==============================] - 2s 3ms/step - loss: 0.6023 - accuracy: 0.7249 - val_loss: 0.4985 - val_accuracy: 0.7724\n",
            "Epoch 7/500\n",
            "489/489 [==============================] - 2s 3ms/step - loss: 0.5893 - accuracy: 0.7357 - val_loss: 0.4804 - val_accuracy: 0.7847\n",
            "Epoch 8/500\n",
            "489/489 [==============================] - 2s 3ms/step - loss: 0.5854 - accuracy: 0.7325 - val_loss: 0.4921 - val_accuracy: 0.7785\n",
            "Epoch 9/500\n",
            "489/489 [==============================] - 1s 3ms/step - loss: 0.5817 - accuracy: 0.7325 - val_loss: 0.4818 - val_accuracy: 0.7822\n",
            "Epoch 10/500\n",
            "489/489 [==============================] - 1s 3ms/step - loss: 0.6295 - accuracy: 0.7243 - val_loss: 0.5156 - val_accuracy: 0.7589\n",
            "Epoch 11/500\n",
            "489/489 [==============================] - 2s 4ms/step - loss: 0.5747 - accuracy: 0.7431 - val_loss: 0.5087 - val_accuracy: 0.7687\n",
            "Epoch 12/500\n",
            "489/489 [==============================] - 2s 4ms/step - loss: 0.5619 - accuracy: 0.7451 - val_loss: 0.5430 - val_accuracy: 0.7620\n",
            "Epoch 13/500\n",
            "489/489 [==============================] - 2s 3ms/step - loss: 0.5435 - accuracy: 0.7513 - val_loss: 0.4897 - val_accuracy: 0.7810\n",
            "Epoch 14/500\n",
            "489/489 [==============================] - 2s 4ms/step - loss: 0.5844 - accuracy: 0.7370 - val_loss: 0.4906 - val_accuracy: 0.7816\n",
            "Epoch 15/500\n",
            "489/489 [==============================] - 2s 3ms/step - loss: 0.5753 - accuracy: 0.7333 - val_loss: 0.4865 - val_accuracy: 0.7791\n",
            "Epoch 16/500\n",
            "489/489 [==============================] - 2s 3ms/step - loss: 0.5689 - accuracy: 0.7429 - val_loss: 0.4859 - val_accuracy: 0.7810\n",
            "Epoch 17/500\n",
            "489/489 [==============================] - 2s 4ms/step - loss: 0.5484 - accuracy: 0.7476 - val_loss: 0.4857 - val_accuracy: 0.7816\n",
            "Epoch 18/500\n",
            "489/489 [==============================] - 2s 3ms/step - loss: 0.5740 - accuracy: 0.7363 - val_loss: 0.5125 - val_accuracy: 0.7620\n",
            "Epoch 19/500\n",
            "489/489 [==============================] - 2s 3ms/step - loss: 0.5523 - accuracy: 0.7435 - val_loss: 0.5425 - val_accuracy: 0.7521\n",
            "Epoch 20/500\n",
            "489/489 [==============================] - 2s 4ms/step - loss: 0.5452 - accuracy: 0.7486 - val_loss: 0.4901 - val_accuracy: 0.7822\n",
            "Epoch 21/500\n",
            "489/489 [==============================] - 1s 3ms/step - loss: 0.5691 - accuracy: 0.7366 - val_loss: 0.4987 - val_accuracy: 0.7767\n",
            "Epoch 22/500\n",
            "489/489 [==============================] - 2s 3ms/step - loss: 0.5425 - accuracy: 0.7476 - val_loss: 0.5161 - val_accuracy: 0.7748\n",
            "Epoch 23/500\n",
            "489/489 [==============================] - 2s 3ms/step - loss: 0.5789 - accuracy: 0.7345 - val_loss: 0.6592 - val_accuracy: 0.6945\n",
            "Epoch 24/500\n",
            "489/489 [==============================] - 2s 4ms/step - loss: 0.5401 - accuracy: 0.7509 - val_loss: 0.5293 - val_accuracy: 0.7509\n",
            "Epoch 25/500\n",
            "489/489 [==============================] - 2s 3ms/step - loss: 0.5418 - accuracy: 0.7484 - val_loss: 0.6275 - val_accuracy: 0.7006\n",
            "Epoch 26/500\n",
            "489/489 [==============================] - 1s 3ms/step - loss: 0.5334 - accuracy: 0.7517 - val_loss: 0.5010 - val_accuracy: 0.7785\n",
            "Epoch 27/500\n",
            "489/489 [==============================] - 2s 3ms/step - loss: 0.5329 - accuracy: 0.7488 - val_loss: 0.5074 - val_accuracy: 0.7718\n",
            "Epoch 28/500\n",
            "489/489 [==============================] - 2s 3ms/step - loss: 0.5497 - accuracy: 0.7433 - val_loss: 0.5048 - val_accuracy: 0.7761\n",
            "Epoch 29/500\n",
            "489/489 [==============================] - 2s 3ms/step - loss: 0.5423 - accuracy: 0.7429 - val_loss: 0.5011 - val_accuracy: 0.7828\n",
            "Epoch 30/500\n",
            "489/489 [==============================] - 1s 3ms/step - loss: 0.5906 - accuracy: 0.7308 - val_loss: 0.5024 - val_accuracy: 0.7816\n",
            "Epoch 31/500\n",
            "489/489 [==============================] - 2s 4ms/step - loss: 0.5323 - accuracy: 0.7525 - val_loss: 0.5113 - val_accuracy: 0.7724\n",
            "Epoch 32/500\n",
            "489/489 [==============================] - 2s 4ms/step - loss: 0.5325 - accuracy: 0.7535 - val_loss: 0.4996 - val_accuracy: 0.7822\n",
            "Epoch 33/500\n",
            "489/489 [==============================] - 2s 3ms/step - loss: 0.5381 - accuracy: 0.7464 - val_loss: 0.8122 - val_accuracy: 0.6141\n",
            "Epoch 34/500\n",
            "489/489 [==============================] - 2s 3ms/step - loss: 0.5255 - accuracy: 0.7525 - val_loss: 0.7991 - val_accuracy: 0.6429\n",
            "Epoch 35/500\n",
            "489/489 [==============================] - 2s 3ms/step - loss: 0.5300 - accuracy: 0.7480 - val_loss: 0.5098 - val_accuracy: 0.7730\n",
            "Epoch 36/500\n",
            "489/489 [==============================] - 2s 3ms/step - loss: 0.5319 - accuracy: 0.7484 - val_loss: 0.5194 - val_accuracy: 0.7681\n",
            "Epoch 37/500\n",
            "489/489 [==============================] - 2s 3ms/step - loss: 0.5347 - accuracy: 0.7458 - val_loss: 0.5095 - val_accuracy: 0.7791\n",
            "Epoch 38/500\n",
            "489/489 [==============================] - 2s 3ms/step - loss: 0.5284 - accuracy: 0.7546 - val_loss: 0.5141 - val_accuracy: 0.7810\n",
            "Epoch 39/500\n",
            "489/489 [==============================] - 2s 4ms/step - loss: 0.5179 - accuracy: 0.7564 - val_loss: 0.5099 - val_accuracy: 0.7742\n",
            "Epoch 40/500\n",
            "489/489 [==============================] - 2s 3ms/step - loss: 0.5209 - accuracy: 0.7505 - val_loss: 0.9682 - val_accuracy: 0.5816\n",
            "Epoch 41/500\n",
            "489/489 [==============================] - 2s 4ms/step - loss: 0.5090 - accuracy: 0.7636 - val_loss: 0.5239 - val_accuracy: 0.7663\n",
            "Epoch 42/500\n",
            "489/489 [==============================] - 2s 3ms/step - loss: 0.5247 - accuracy: 0.7529 - val_loss: 0.5071 - val_accuracy: 0.7828\n",
            "Epoch 43/500\n",
            "489/489 [==============================] - 2s 4ms/step - loss: 0.5148 - accuracy: 0.7593 - val_loss: 0.5125 - val_accuracy: 0.7767\n",
            "Epoch 44/500\n",
            "489/489 [==============================] - 2s 3ms/step - loss: 0.5131 - accuracy: 0.7607 - val_loss: 0.5103 - val_accuracy: 0.7828\n",
            "Epoch 45/500\n",
            "489/489 [==============================] - 2s 3ms/step - loss: 0.5117 - accuracy: 0.7650 - val_loss: 0.5326 - val_accuracy: 0.7650\n",
            "Epoch 46/500\n",
            "489/489 [==============================] - 2s 3ms/step - loss: 0.5197 - accuracy: 0.7566 - val_loss: 0.5685 - val_accuracy: 0.7577\n",
            "Epoch 47/500\n",
            "489/489 [==============================] - 1s 3ms/step - loss: 0.5241 - accuracy: 0.7588 - val_loss: 0.6130 - val_accuracy: 0.7245\n",
            "Epoch 48/500\n",
            "489/489 [==============================] - 1s 3ms/step - loss: 0.5237 - accuracy: 0.7548 - val_loss: 0.5724 - val_accuracy: 0.7387\n",
            "Epoch 49/500\n",
            "489/489 [==============================] - 2s 3ms/step - loss: 0.5171 - accuracy: 0.7562 - val_loss: 0.5136 - val_accuracy: 0.7822\n",
            "Epoch 50/500\n",
            "489/489 [==============================] - 1s 3ms/step - loss: 0.5187 - accuracy: 0.7564 - val_loss: 0.5505 - val_accuracy: 0.7515\n",
            "Epoch 51/500\n",
            "489/489 [==============================] - 1s 3ms/step - loss: 0.5178 - accuracy: 0.7574 - val_loss: 0.5274 - val_accuracy: 0.7706\n",
            "Epoch 52/500\n",
            "489/489 [==============================] - 1s 3ms/step - loss: 0.5204 - accuracy: 0.7519 - val_loss: 0.5243 - val_accuracy: 0.7785\n",
            "Epoch 53/500\n",
            "489/489 [==============================] - 2s 4ms/step - loss: 0.5091 - accuracy: 0.7615 - val_loss: 0.5688 - val_accuracy: 0.7583\n",
            "Epoch 54/500\n",
            "489/489 [==============================] - 2s 3ms/step - loss: 0.5181 - accuracy: 0.7537 - val_loss: 0.5321 - val_accuracy: 0.7736\n",
            "Epoch 55/500\n",
            "489/489 [==============================] - 2s 3ms/step - loss: 0.5065 - accuracy: 0.7615 - val_loss: 0.5691 - val_accuracy: 0.7589\n",
            "Epoch 56/500\n",
            "489/489 [==============================] - 2s 3ms/step - loss: 0.5074 - accuracy: 0.7593 - val_loss: 0.5861 - val_accuracy: 0.7417\n",
            "Epoch 57/500\n",
            "489/489 [==============================] - 2s 3ms/step - loss: 0.5112 - accuracy: 0.7591 - val_loss: 0.5529 - val_accuracy: 0.7669\n",
            "Epoch 58/500\n",
            "489/489 [==============================] - 2s 3ms/step - loss: 0.5117 - accuracy: 0.7607 - val_loss: 0.5758 - val_accuracy: 0.7454\n",
            "Epoch 59/500\n",
            "489/489 [==============================] - 2s 3ms/step - loss: 0.5135 - accuracy: 0.7546 - val_loss: 0.5360 - val_accuracy: 0.7595\n",
            "Epoch 60/500\n",
            "489/489 [==============================] - 2s 3ms/step - loss: 0.5127 - accuracy: 0.7552 - val_loss: 0.5487 - val_accuracy: 0.7650\n",
            "Epoch 61/500\n",
            "489/489 [==============================] - 2s 3ms/step - loss: 0.5036 - accuracy: 0.7664 - val_loss: 0.5350 - val_accuracy: 0.7785\n",
            "Epoch 62/500\n",
            "489/489 [==============================] - 2s 3ms/step - loss: 0.5068 - accuracy: 0.7621 - val_loss: 0.5605 - val_accuracy: 0.7509\n",
            "Epoch 63/500\n",
            "489/489 [==============================] - 1s 3ms/step - loss: 0.5124 - accuracy: 0.7584 - val_loss: 0.6120 - val_accuracy: 0.7387\n",
            "Epoch 64/500\n",
            "489/489 [==============================] - 1s 3ms/step - loss: 0.5278 - accuracy: 0.7503 - val_loss: 0.5307 - val_accuracy: 0.7798\n",
            "Epoch 65/500\n",
            "489/489 [==============================] - 1s 3ms/step - loss: 0.5063 - accuracy: 0.7652 - val_loss: 0.5408 - val_accuracy: 0.7712\n",
            "Epoch 66/500\n",
            "489/489 [==============================] - 1s 3ms/step - loss: 0.5063 - accuracy: 0.7633 - val_loss: 0.5547 - val_accuracy: 0.7681\n",
            "Epoch 67/500\n",
            "489/489 [==============================] - 1s 3ms/step - loss: 0.5048 - accuracy: 0.7642 - val_loss: 0.5399 - val_accuracy: 0.7724\n",
            "Epoch 68/500\n",
            "489/489 [==============================] - 2s 3ms/step - loss: 0.4982 - accuracy: 0.7658 - val_loss: 0.5319 - val_accuracy: 0.7730\n",
            "Epoch 69/500\n",
            "489/489 [==============================] - 2s 4ms/step - loss: 0.4942 - accuracy: 0.7701 - val_loss: 0.5246 - val_accuracy: 0.7785\n",
            "Epoch 70/500\n",
            "489/489 [==============================] - 2s 3ms/step - loss: 0.4995 - accuracy: 0.7650 - val_loss: 0.5629 - val_accuracy: 0.7558\n",
            "Epoch 71/500\n",
            "489/489 [==============================] - 2s 3ms/step - loss: 0.5061 - accuracy: 0.7591 - val_loss: 0.5268 - val_accuracy: 0.7779\n",
            "Epoch 72/500\n",
            "489/489 [==============================] - 2s 3ms/step - loss: 0.4998 - accuracy: 0.7658 - val_loss: 0.5550 - val_accuracy: 0.7669\n",
            "Epoch 73/500\n",
            "489/489 [==============================] - 2s 3ms/step - loss: 0.4958 - accuracy: 0.7666 - val_loss: 0.5331 - val_accuracy: 0.7724\n",
            "Epoch 74/500\n",
            "489/489 [==============================] - 2s 4ms/step - loss: 0.4974 - accuracy: 0.7660 - val_loss: 0.5415 - val_accuracy: 0.7748\n",
            "Epoch 75/500\n",
            "489/489 [==============================] - 2s 3ms/step - loss: 0.4971 - accuracy: 0.7693 - val_loss: 0.5344 - val_accuracy: 0.7828\n",
            "Epoch 76/500\n",
            "489/489 [==============================] - 2s 3ms/step - loss: 0.4951 - accuracy: 0.7689 - val_loss: 0.5474 - val_accuracy: 0.7767\n",
            "Epoch 77/500\n",
            "489/489 [==============================] - 2s 3ms/step - loss: 0.5053 - accuracy: 0.7609 - val_loss: 0.5386 - val_accuracy: 0.7736\n",
            "Epoch 78/500\n",
            "489/489 [==============================] - 2s 4ms/step - loss: 0.5033 - accuracy: 0.7652 - val_loss: 0.5577 - val_accuracy: 0.7718\n",
            "Epoch 79/500\n",
            "489/489 [==============================] - 3s 6ms/step - loss: 0.5007 - accuracy: 0.7668 - val_loss: 0.5444 - val_accuracy: 0.7779\n",
            "Epoch 80/500\n",
            "489/489 [==============================] - 3s 6ms/step - loss: 0.4966 - accuracy: 0.7617 - val_loss: 0.5518 - val_accuracy: 0.7748\n",
            "Epoch 81/500\n",
            "489/489 [==============================] - 2s 4ms/step - loss: 0.4964 - accuracy: 0.7687 - val_loss: 0.5504 - val_accuracy: 0.7742\n",
            "Epoch 82/500\n",
            "489/489 [==============================] - 1s 3ms/step - loss: 0.4991 - accuracy: 0.7650 - val_loss: 0.5480 - val_accuracy: 0.7767\n",
            "Epoch 83/500\n",
            "489/489 [==============================] - 1s 3ms/step - loss: 0.4916 - accuracy: 0.7715 - val_loss: 0.5496 - val_accuracy: 0.7785\n",
            "Epoch 84/500\n",
            "489/489 [==============================] - 1s 3ms/step - loss: 0.4962 - accuracy: 0.7638 - val_loss: 0.7099 - val_accuracy: 0.6423\n",
            "Epoch 85/500\n",
            "489/489 [==============================] - 1s 3ms/step - loss: 0.5049 - accuracy: 0.7615 - val_loss: 0.6278 - val_accuracy: 0.7049\n",
            "Epoch 86/500\n",
            "489/489 [==============================] - 2s 4ms/step - loss: 0.4977 - accuracy: 0.7674 - val_loss: 0.5525 - val_accuracy: 0.7785\n",
            "Epoch 87/500\n",
            "489/489 [==============================] - 2s 3ms/step - loss: 0.4934 - accuracy: 0.7719 - val_loss: 0.5945 - val_accuracy: 0.7577\n",
            "Epoch 88/500\n",
            "489/489 [==============================] - 1s 3ms/step - loss: 0.4942 - accuracy: 0.7697 - val_loss: 0.5476 - val_accuracy: 0.7736\n",
            "Epoch 89/500\n",
            "489/489 [==============================] - 1s 3ms/step - loss: 0.4938 - accuracy: 0.7683 - val_loss: 0.5518 - val_accuracy: 0.7730\n",
            "Epoch 90/500\n",
            "489/489 [==============================] - 1s 3ms/step - loss: 0.4943 - accuracy: 0.7689 - val_loss: 0.5526 - val_accuracy: 0.7712\n",
            "Epoch 91/500\n",
            "489/489 [==============================] - 1s 3ms/step - loss: 0.4989 - accuracy: 0.7668 - val_loss: 0.5650 - val_accuracy: 0.7669\n",
            "Epoch 92/500\n",
            "489/489 [==============================] - 1s 3ms/step - loss: 0.4937 - accuracy: 0.7689 - val_loss: 0.5542 - val_accuracy: 0.7736\n",
            "Epoch 93/500\n",
            "489/489 [==============================] - 1s 3ms/step - loss: 0.4878 - accuracy: 0.7715 - val_loss: 0.5699 - val_accuracy: 0.7712\n",
            "Epoch 94/500\n",
            "489/489 [==============================] - 1s 3ms/step - loss: 0.4924 - accuracy: 0.7650 - val_loss: 0.5665 - val_accuracy: 0.7767\n",
            "Epoch 95/500\n",
            "489/489 [==============================] - 1s 3ms/step - loss: 0.4951 - accuracy: 0.7703 - val_loss: 0.5493 - val_accuracy: 0.7712\n",
            "Epoch 96/500\n",
            "489/489 [==============================] - 1s 3ms/step - loss: 0.4900 - accuracy: 0.7726 - val_loss: 0.6058 - val_accuracy: 0.7577\n",
            "Epoch 97/500\n",
            "489/489 [==============================] - 2s 3ms/step - loss: 0.4916 - accuracy: 0.7687 - val_loss: 0.5780 - val_accuracy: 0.7656\n",
            "Epoch 98/500\n",
            "489/489 [==============================] - 1s 3ms/step - loss: 0.4913 - accuracy: 0.7711 - val_loss: 0.6099 - val_accuracy: 0.7528\n",
            "Epoch 99/500\n",
            "489/489 [==============================] - 1s 3ms/step - loss: 0.4900 - accuracy: 0.7707 - val_loss: 0.5855 - val_accuracy: 0.7656\n",
            "Epoch 100/500\n",
            "489/489 [==============================] - 2s 4ms/step - loss: 0.4852 - accuracy: 0.7734 - val_loss: 0.5618 - val_accuracy: 0.7761\n",
            "Epoch 101/500\n",
            "489/489 [==============================] - 2s 4ms/step - loss: 0.4892 - accuracy: 0.7787 - val_loss: 0.5798 - val_accuracy: 0.7681\n",
            "Epoch 102/500\n",
            "489/489 [==============================] - 2s 3ms/step - loss: 0.4957 - accuracy: 0.7670 - val_loss: 0.5645 - val_accuracy: 0.7773\n",
            "Epoch 103/500\n",
            "489/489 [==============================] - 1s 3ms/step - loss: 0.4898 - accuracy: 0.7672 - val_loss: 0.6108 - val_accuracy: 0.7558\n",
            "Epoch 104/500\n",
            "489/489 [==============================] - 1s 3ms/step - loss: 0.4890 - accuracy: 0.7736 - val_loss: 0.5720 - val_accuracy: 0.7699\n",
            "Epoch 105/500\n",
            "489/489 [==============================] - 2s 3ms/step - loss: 0.4938 - accuracy: 0.7611 - val_loss: 0.7444 - val_accuracy: 0.6779\n",
            "Epoch 106/500\n",
            "489/489 [==============================] - 1s 3ms/step - loss: 0.4928 - accuracy: 0.7703 - val_loss: 0.5683 - val_accuracy: 0.7742\n",
            "Epoch 107/500\n",
            "489/489 [==============================] - 1s 3ms/step - loss: 0.4925 - accuracy: 0.7709 - val_loss: 0.5710 - val_accuracy: 0.7730\n",
            "Epoch 108/500\n",
            "489/489 [==============================] - 1s 3ms/step - loss: 0.4855 - accuracy: 0.7744 - val_loss: 0.5818 - val_accuracy: 0.7736\n",
            "Epoch 109/500\n",
            "489/489 [==============================] - 2s 4ms/step - loss: 0.4903 - accuracy: 0.7752 - val_loss: 0.5896 - val_accuracy: 0.7620\n",
            "Epoch 110/500\n",
            "489/489 [==============================] - 2s 4ms/step - loss: 0.4919 - accuracy: 0.7717 - val_loss: 0.6016 - val_accuracy: 0.7650\n",
            "Epoch 111/500\n",
            "489/489 [==============================] - 1s 3ms/step - loss: 0.4878 - accuracy: 0.7736 - val_loss: 0.5668 - val_accuracy: 0.7785\n",
            "Epoch 112/500\n",
            "489/489 [==============================] - 2s 3ms/step - loss: 0.4906 - accuracy: 0.7730 - val_loss: 0.5725 - val_accuracy: 0.7736\n",
            "Epoch 113/500\n",
            "489/489 [==============================] - 1s 3ms/step - loss: 0.4869 - accuracy: 0.7703 - val_loss: 0.5823 - val_accuracy: 0.7755\n",
            "Epoch 114/500\n",
            "489/489 [==============================] - 1s 3ms/step - loss: 0.4946 - accuracy: 0.7676 - val_loss: 0.5869 - val_accuracy: 0.7730\n",
            "Epoch 115/500\n",
            "489/489 [==============================] - 1s 3ms/step - loss: 0.4922 - accuracy: 0.7695 - val_loss: 0.5891 - val_accuracy: 0.7718\n",
            "Epoch 116/500\n",
            "489/489 [==============================] - 1s 3ms/step - loss: 0.4864 - accuracy: 0.7752 - val_loss: 0.6249 - val_accuracy: 0.7577\n",
            "Epoch 117/500\n",
            "489/489 [==============================] - 2s 3ms/step - loss: 0.4860 - accuracy: 0.7713 - val_loss: 0.5742 - val_accuracy: 0.7767\n",
            "Epoch 118/500\n",
            "489/489 [==============================] - 2s 3ms/step - loss: 0.4905 - accuracy: 0.7721 - val_loss: 0.6601 - val_accuracy: 0.7294\n",
            "Epoch 119/500\n",
            "489/489 [==============================] - 2s 3ms/step - loss: 0.4868 - accuracy: 0.7721 - val_loss: 0.5841 - val_accuracy: 0.7804\n",
            "Epoch 120/500\n",
            "489/489 [==============================] - 2s 3ms/step - loss: 0.4829 - accuracy: 0.7742 - val_loss: 0.5818 - val_accuracy: 0.7791\n",
            "Epoch 121/500\n",
            "489/489 [==============================] - 2s 3ms/step - loss: 0.4918 - accuracy: 0.7736 - val_loss: 0.5904 - val_accuracy: 0.7761\n",
            "Epoch 122/500\n",
            "489/489 [==============================] - 1s 3ms/step - loss: 0.4859 - accuracy: 0.7754 - val_loss: 0.5880 - val_accuracy: 0.7748\n",
            "Epoch 123/500\n",
            "489/489 [==============================] - 1s 3ms/step - loss: 0.4831 - accuracy: 0.7752 - val_loss: 0.5975 - val_accuracy: 0.7656\n",
            "Epoch 124/500\n",
            "489/489 [==============================] - 2s 3ms/step - loss: 0.4830 - accuracy: 0.7742 - val_loss: 0.6138 - val_accuracy: 0.7552\n",
            "Epoch 125/500\n",
            "489/489 [==============================] - 2s 4ms/step - loss: 0.4868 - accuracy: 0.7742 - val_loss: 0.5905 - val_accuracy: 0.7748\n",
            "Epoch 126/500\n",
            "489/489 [==============================] - 2s 3ms/step - loss: 0.4858 - accuracy: 0.7730 - val_loss: 0.5972 - val_accuracy: 0.7742\n",
            "Epoch 127/500\n",
            "489/489 [==============================] - 1s 3ms/step - loss: 0.4903 - accuracy: 0.7721 - val_loss: 0.5953 - val_accuracy: 0.7779\n",
            "Epoch 128/500\n",
            "489/489 [==============================] - 2s 4ms/step - loss: 0.4781 - accuracy: 0.7801 - val_loss: 0.5910 - val_accuracy: 0.7779\n",
            "Epoch 129/500\n",
            "489/489 [==============================] - 1s 3ms/step - loss: 0.4929 - accuracy: 0.7734 - val_loss: 0.6015 - val_accuracy: 0.7755\n",
            "Epoch 130/500\n",
            "489/489 [==============================] - 2s 3ms/step - loss: 0.4881 - accuracy: 0.7728 - val_loss: 0.5925 - val_accuracy: 0.7767\n",
            "Epoch 131/500\n",
            "489/489 [==============================] - 2s 3ms/step - loss: 0.4884 - accuracy: 0.7703 - val_loss: 0.5913 - val_accuracy: 0.7779\n",
            "Epoch 132/500\n",
            "489/489 [==============================] - 2s 3ms/step - loss: 0.4905 - accuracy: 0.7699 - val_loss: 0.6235 - val_accuracy: 0.7620\n",
            "Epoch 133/500\n",
            "489/489 [==============================] - 1s 3ms/step - loss: 0.4852 - accuracy: 0.7721 - val_loss: 0.5989 - val_accuracy: 0.7748\n",
            "Epoch 134/500\n",
            "489/489 [==============================] - 1s 3ms/step - loss: 0.4869 - accuracy: 0.7730 - val_loss: 0.5930 - val_accuracy: 0.7779\n",
            "Epoch 135/500\n",
            "489/489 [==============================] - 1s 3ms/step - loss: 0.4837 - accuracy: 0.7785 - val_loss: 0.5981 - val_accuracy: 0.7755\n",
            "Epoch 136/500\n",
            "489/489 [==============================] - 1s 3ms/step - loss: 0.4864 - accuracy: 0.7760 - val_loss: 0.6045 - val_accuracy: 0.7724\n",
            "Epoch 137/500\n",
            "489/489 [==============================] - 1s 3ms/step - loss: 0.4837 - accuracy: 0.7748 - val_loss: 0.6119 - val_accuracy: 0.7687\n",
            "Epoch 138/500\n",
            "489/489 [==============================] - 1s 3ms/step - loss: 0.4850 - accuracy: 0.7738 - val_loss: 0.6045 - val_accuracy: 0.7748\n",
            "Epoch 139/500\n",
            "489/489 [==============================] - 2s 3ms/step - loss: 0.4889 - accuracy: 0.7689 - val_loss: 0.6044 - val_accuracy: 0.7755\n",
            "Epoch 140/500\n",
            "489/489 [==============================] - 1s 3ms/step - loss: 0.4871 - accuracy: 0.7748 - val_loss: 0.6158 - val_accuracy: 0.7583\n",
            "Epoch 141/500\n",
            "489/489 [==============================] - 1s 3ms/step - loss: 0.4844 - accuracy: 0.7738 - val_loss: 0.6101 - val_accuracy: 0.7730\n",
            "Epoch 142/500\n",
            "489/489 [==============================] - 1s 3ms/step - loss: 0.4813 - accuracy: 0.7748 - val_loss: 0.6029 - val_accuracy: 0.7663\n",
            "Epoch 143/500\n",
            "489/489 [==============================] - 1s 3ms/step - loss: 0.4875 - accuracy: 0.7697 - val_loss: 0.6023 - val_accuracy: 0.7767\n",
            "Epoch 144/500\n",
            "489/489 [==============================] - 2s 4ms/step - loss: 0.4801 - accuracy: 0.7746 - val_loss: 0.5887 - val_accuracy: 0.7761\n",
            "Epoch 145/500\n",
            "489/489 [==============================] - 2s 3ms/step - loss: 0.4849 - accuracy: 0.7789 - val_loss: 0.6075 - val_accuracy: 0.7742\n",
            "Epoch 146/500\n",
            "489/489 [==============================] - 1s 3ms/step - loss: 0.4841 - accuracy: 0.7730 - val_loss: 0.6119 - val_accuracy: 0.7663\n",
            "Epoch 147/500\n",
            "489/489 [==============================] - 1s 3ms/step - loss: 0.4799 - accuracy: 0.7766 - val_loss: 0.6277 - val_accuracy: 0.7730\n",
            "Epoch 148/500\n",
            "489/489 [==============================] - 2s 3ms/step - loss: 0.4826 - accuracy: 0.7791 - val_loss: 0.5930 - val_accuracy: 0.7748\n",
            "Epoch 149/500\n",
            "489/489 [==============================] - 2s 3ms/step - loss: 0.4840 - accuracy: 0.7750 - val_loss: 0.6211 - val_accuracy: 0.7767\n",
            "Epoch 150/500\n",
            "489/489 [==============================] - 2s 3ms/step - loss: 0.4851 - accuracy: 0.7768 - val_loss: 0.5960 - val_accuracy: 0.7742\n",
            "Epoch 151/500\n",
            "489/489 [==============================] - 2s 3ms/step - loss: 0.4815 - accuracy: 0.7746 - val_loss: 0.6170 - val_accuracy: 0.7718\n",
            "Epoch 152/500\n",
            "489/489 [==============================] - 2s 3ms/step - loss: 0.4837 - accuracy: 0.7738 - val_loss: 0.6154 - val_accuracy: 0.7736\n",
            "Epoch 153/500\n",
            "489/489 [==============================] - 2s 3ms/step - loss: 0.4836 - accuracy: 0.7771 - val_loss: 0.6113 - val_accuracy: 0.7779\n",
            "Epoch 154/500\n",
            "489/489 [==============================] - 2s 3ms/step - loss: 0.4819 - accuracy: 0.7762 - val_loss: 0.6387 - val_accuracy: 0.7785\n",
            "Epoch 155/500\n",
            "489/489 [==============================] - 2s 3ms/step - loss: 0.4809 - accuracy: 0.7764 - val_loss: 0.6041 - val_accuracy: 0.7767\n",
            "Epoch 156/500\n",
            "489/489 [==============================] - 2s 3ms/step - loss: 0.4830 - accuracy: 0.7740 - val_loss: 0.6117 - val_accuracy: 0.7761\n",
            "Epoch 157/500\n",
            "489/489 [==============================] - 2s 3ms/step - loss: 0.4798 - accuracy: 0.7777 - val_loss: 0.6262 - val_accuracy: 0.7724\n",
            "Epoch 158/500\n",
            "489/489 [==============================] - 2s 3ms/step - loss: 0.4848 - accuracy: 0.7746 - val_loss: 0.6030 - val_accuracy: 0.7791\n",
            "Epoch 159/500\n",
            "489/489 [==============================] - 2s 3ms/step - loss: 0.4856 - accuracy: 0.7732 - val_loss: 0.5917 - val_accuracy: 0.7785\n",
            "Epoch 160/500\n",
            "489/489 [==============================] - 1s 3ms/step - loss: 0.4796 - accuracy: 0.7756 - val_loss: 0.6104 - val_accuracy: 0.7712\n",
            "Epoch 161/500\n",
            "489/489 [==============================] - 1s 3ms/step - loss: 0.4789 - accuracy: 0.7756 - val_loss: 0.6449 - val_accuracy: 0.7509\n",
            "Epoch 162/500\n",
            "489/489 [==============================] - 1s 3ms/step - loss: 0.4791 - accuracy: 0.7742 - val_loss: 0.6077 - val_accuracy: 0.7791\n",
            "Epoch 163/500\n",
            "489/489 [==============================] - 2s 4ms/step - loss: 0.4818 - accuracy: 0.7795 - val_loss: 0.6050 - val_accuracy: 0.7791\n",
            "Epoch 164/500\n",
            "489/489 [==============================] - 2s 3ms/step - loss: 0.4831 - accuracy: 0.7695 - val_loss: 0.6063 - val_accuracy: 0.7791\n",
            "Epoch 165/500\n",
            "489/489 [==============================] - 2s 3ms/step - loss: 0.4811 - accuracy: 0.7752 - val_loss: 0.6747 - val_accuracy: 0.7294\n",
            "Epoch 166/500\n",
            "489/489 [==============================] - 1s 3ms/step - loss: 0.4849 - accuracy: 0.7785 - val_loss: 0.6350 - val_accuracy: 0.7528\n",
            "Epoch 167/500\n",
            "489/489 [==============================] - 2s 3ms/step - loss: 0.4841 - accuracy: 0.7709 - val_loss: 0.6164 - val_accuracy: 0.7773\n",
            "Epoch 168/500\n",
            "489/489 [==============================] - 2s 4ms/step - loss: 0.4785 - accuracy: 0.7783 - val_loss: 0.6063 - val_accuracy: 0.7767\n",
            "Epoch 169/500\n",
            "489/489 [==============================] - 2s 4ms/step - loss: 0.4799 - accuracy: 0.7781 - val_loss: 0.6385 - val_accuracy: 0.7589\n",
            "Epoch 170/500\n",
            "489/489 [==============================] - 2s 3ms/step - loss: 0.4812 - accuracy: 0.7785 - val_loss: 0.6073 - val_accuracy: 0.7748\n",
            "Epoch 171/500\n",
            "489/489 [==============================] - 2s 4ms/step - loss: 0.4836 - accuracy: 0.7723 - val_loss: 0.6226 - val_accuracy: 0.7816\n",
            "Epoch 172/500\n",
            "489/489 [==============================] - 2s 4ms/step - loss: 0.4815 - accuracy: 0.7785 - val_loss: 0.6315 - val_accuracy: 0.7736\n",
            "Epoch 173/500\n",
            "489/489 [==============================] - 2s 4ms/step - loss: 0.4829 - accuracy: 0.7779 - val_loss: 0.6346 - val_accuracy: 0.7675\n",
            "Epoch 174/500\n",
            "489/489 [==============================] - 2s 3ms/step - loss: 0.4806 - accuracy: 0.7775 - val_loss: 0.6231 - val_accuracy: 0.7724\n",
            "Epoch 175/500\n",
            "489/489 [==============================] - 2s 3ms/step - loss: 0.4788 - accuracy: 0.7754 - val_loss: 0.6232 - val_accuracy: 0.7736\n",
            "Epoch 176/500\n",
            "489/489 [==============================] - 2s 3ms/step - loss: 0.4808 - accuracy: 0.7779 - val_loss: 0.6128 - val_accuracy: 0.7773\n",
            "Epoch 177/500\n",
            "489/489 [==============================] - 2s 3ms/step - loss: 0.4792 - accuracy: 0.7793 - val_loss: 0.6257 - val_accuracy: 0.7767\n",
            "Epoch 178/500\n",
            "489/489 [==============================] - 2s 3ms/step - loss: 0.4763 - accuracy: 0.7758 - val_loss: 0.6223 - val_accuracy: 0.7798\n",
            "Epoch 179/500\n",
            "489/489 [==============================] - 2s 3ms/step - loss: 0.4864 - accuracy: 0.7758 - val_loss: 0.6188 - val_accuracy: 0.7810\n",
            "Epoch 180/500\n",
            "489/489 [==============================] - 2s 4ms/step - loss: 0.4837 - accuracy: 0.7732 - val_loss: 0.6116 - val_accuracy: 0.7804\n",
            "Epoch 181/500\n",
            "489/489 [==============================] - 2s 3ms/step - loss: 0.4737 - accuracy: 0.7768 - val_loss: 0.6306 - val_accuracy: 0.7773\n",
            "Epoch 182/500\n",
            "489/489 [==============================] - 1s 3ms/step - loss: 0.4752 - accuracy: 0.7744 - val_loss: 0.6514 - val_accuracy: 0.7613\n",
            "Epoch 183/500\n",
            "489/489 [==============================] - 2s 3ms/step - loss: 0.4808 - accuracy: 0.7713 - val_loss: 0.6234 - val_accuracy: 0.7810\n",
            "Epoch 184/500\n",
            "489/489 [==============================] - 2s 3ms/step - loss: 0.4772 - accuracy: 0.7775 - val_loss: 0.6452 - val_accuracy: 0.7681\n",
            "Epoch 185/500\n",
            "489/489 [==============================] - 2s 3ms/step - loss: 0.4815 - accuracy: 0.7779 - val_loss: 0.6390 - val_accuracy: 0.7650\n",
            "Epoch 186/500\n",
            "489/489 [==============================] - 2s 4ms/step - loss: 0.4818 - accuracy: 0.7754 - val_loss: 0.6431 - val_accuracy: 0.7730\n",
            "Epoch 187/500\n",
            "489/489 [==============================] - 2s 3ms/step - loss: 0.4815 - accuracy: 0.7715 - val_loss: 0.6361 - val_accuracy: 0.7736\n",
            "Epoch 188/500\n",
            "489/489 [==============================] - 2s 3ms/step - loss: 0.4814 - accuracy: 0.7754 - val_loss: 0.6517 - val_accuracy: 0.7712\n",
            "Epoch 189/500\n",
            "489/489 [==============================] - 2s 3ms/step - loss: 0.4776 - accuracy: 0.7738 - val_loss: 0.6461 - val_accuracy: 0.7748\n",
            "Epoch 190/500\n",
            "489/489 [==============================] - 2s 3ms/step - loss: 0.4747 - accuracy: 0.7801 - val_loss: 0.6365 - val_accuracy: 0.7706\n",
            "Epoch 191/500\n",
            "489/489 [==============================] - 2s 4ms/step - loss: 0.4752 - accuracy: 0.7764 - val_loss: 0.6615 - val_accuracy: 0.7656\n",
            "Epoch 192/500\n",
            "489/489 [==============================] - 3s 5ms/step - loss: 0.4878 - accuracy: 0.7711 - val_loss: 0.6388 - val_accuracy: 0.7742\n",
            "Epoch 193/500\n",
            "489/489 [==============================] - 3s 7ms/step - loss: 0.4803 - accuracy: 0.7793 - val_loss: 0.6443 - val_accuracy: 0.7773\n",
            "Epoch 194/500\n",
            "489/489 [==============================] - 2s 4ms/step - loss: 0.4800 - accuracy: 0.7785 - val_loss: 0.6347 - val_accuracy: 0.7785\n",
            "Epoch 195/500\n",
            "489/489 [==============================] - 2s 3ms/step - loss: 0.4737 - accuracy: 0.7809 - val_loss: 0.6567 - val_accuracy: 0.7681\n",
            "Epoch 196/500\n",
            "489/489 [==============================] - 1s 3ms/step - loss: 0.4721 - accuracy: 0.7813 - val_loss: 0.6464 - val_accuracy: 0.7748\n",
            "Epoch 197/500\n",
            "489/489 [==============================] - 2s 3ms/step - loss: 0.4735 - accuracy: 0.7783 - val_loss: 0.6385 - val_accuracy: 0.7736\n",
            "Epoch 198/500\n",
            "489/489 [==============================] - 2s 3ms/step - loss: 0.4819 - accuracy: 0.7732 - val_loss: 0.6439 - val_accuracy: 0.7718\n",
            "Epoch 199/500\n",
            "489/489 [==============================] - 2s 3ms/step - loss: 0.4765 - accuracy: 0.7760 - val_loss: 0.6483 - val_accuracy: 0.7761\n",
            "Epoch 200/500\n",
            "489/489 [==============================] - 2s 3ms/step - loss: 0.4745 - accuracy: 0.7781 - val_loss: 0.6553 - val_accuracy: 0.7767\n",
            "Epoch 201/500\n",
            "489/489 [==============================] - 2s 3ms/step - loss: 0.4828 - accuracy: 0.7822 - val_loss: 0.6350 - val_accuracy: 0.7742\n",
            "Epoch 202/500\n",
            "489/489 [==============================] - 1s 3ms/step - loss: 0.4750 - accuracy: 0.7832 - val_loss: 0.6541 - val_accuracy: 0.7791\n",
            "Epoch 203/500\n",
            "489/489 [==============================] - 1s 3ms/step - loss: 0.4757 - accuracy: 0.7762 - val_loss: 0.6467 - val_accuracy: 0.7724\n",
            "Epoch 204/500\n",
            "489/489 [==============================] - 2s 3ms/step - loss: 0.4765 - accuracy: 0.7771 - val_loss: 0.6511 - val_accuracy: 0.7767\n",
            "Epoch 205/500\n",
            "489/489 [==============================] - 2s 3ms/step - loss: 0.4737 - accuracy: 0.7791 - val_loss: 0.6408 - val_accuracy: 0.7785\n",
            "Epoch 206/500\n",
            "489/489 [==============================] - 2s 3ms/step - loss: 0.4783 - accuracy: 0.7713 - val_loss: 0.6462 - val_accuracy: 0.7724\n",
            "Epoch 207/500\n",
            "489/489 [==============================] - 1s 3ms/step - loss: 0.4746 - accuracy: 0.7807 - val_loss: 0.6604 - val_accuracy: 0.7712\n",
            "Epoch 208/500\n",
            "489/489 [==============================] - 1s 3ms/step - loss: 0.4689 - accuracy: 0.7799 - val_loss: 0.6564 - val_accuracy: 0.7724\n",
            "Epoch 209/500\n",
            "489/489 [==============================] - 1s 3ms/step - loss: 0.4786 - accuracy: 0.7783 - val_loss: 0.6482 - val_accuracy: 0.7773\n",
            "Epoch 210/500\n",
            "489/489 [==============================] - 2s 4ms/step - loss: 0.4754 - accuracy: 0.7797 - val_loss: 0.6560 - val_accuracy: 0.7798\n",
            "Epoch 211/500\n",
            "489/489 [==============================] - 2s 4ms/step - loss: 0.4837 - accuracy: 0.7748 - val_loss: 0.6632 - val_accuracy: 0.7675\n",
            "Epoch 212/500\n",
            "489/489 [==============================] - 2s 3ms/step - loss: 0.4754 - accuracy: 0.7785 - val_loss: 0.6587 - val_accuracy: 0.7779\n",
            "Epoch 213/500\n",
            "489/489 [==============================] - 2s 3ms/step - loss: 0.4748 - accuracy: 0.7807 - val_loss: 0.6608 - val_accuracy: 0.7785\n",
            "Epoch 214/500\n",
            "489/489 [==============================] - 2s 3ms/step - loss: 0.4735 - accuracy: 0.7773 - val_loss: 0.6610 - val_accuracy: 0.7706\n",
            "Epoch 215/500\n",
            "489/489 [==============================] - 2s 3ms/step - loss: 0.4702 - accuracy: 0.7816 - val_loss: 0.6662 - val_accuracy: 0.7742\n",
            "Epoch 216/500\n",
            "489/489 [==============================] - 2s 3ms/step - loss: 0.4743 - accuracy: 0.7787 - val_loss: 0.6591 - val_accuracy: 0.7816\n",
            "Epoch 217/500\n",
            "489/489 [==============================] - 2s 3ms/step - loss: 0.4770 - accuracy: 0.7805 - val_loss: 0.6725 - val_accuracy: 0.7681\n",
            "Epoch 218/500\n",
            "489/489 [==============================] - 1s 3ms/step - loss: 0.4745 - accuracy: 0.7787 - val_loss: 0.6414 - val_accuracy: 0.7840\n",
            "Epoch 219/500\n",
            "489/489 [==============================] - 2s 3ms/step - loss: 0.4738 - accuracy: 0.7822 - val_loss: 0.6481 - val_accuracy: 0.7816\n",
            "Epoch 220/500\n",
            "489/489 [==============================] - 2s 3ms/step - loss: 0.4738 - accuracy: 0.7822 - val_loss: 0.6516 - val_accuracy: 0.7767\n",
            "Epoch 221/500\n",
            "489/489 [==============================] - 2s 3ms/step - loss: 0.4846 - accuracy: 0.7768 - val_loss: 0.6647 - val_accuracy: 0.7515\n",
            "Epoch 222/500\n",
            "489/489 [==============================] - 2s 4ms/step - loss: 0.4762 - accuracy: 0.7803 - val_loss: 0.6631 - val_accuracy: 0.7663\n",
            "Epoch 223/500\n",
            "489/489 [==============================] - 2s 4ms/step - loss: 0.4736 - accuracy: 0.7846 - val_loss: 0.6861 - val_accuracy: 0.7607\n",
            "Epoch 224/500\n",
            "489/489 [==============================] - 2s 3ms/step - loss: 0.4749 - accuracy: 0.7797 - val_loss: 0.6573 - val_accuracy: 0.7742\n",
            "Epoch 225/500\n",
            "489/489 [==============================] - 2s 3ms/step - loss: 0.4764 - accuracy: 0.7785 - val_loss: 0.6551 - val_accuracy: 0.7804\n",
            "Epoch 226/500\n",
            "489/489 [==============================] - 2s 4ms/step - loss: 0.4697 - accuracy: 0.7848 - val_loss: 0.6728 - val_accuracy: 0.7791\n",
            "Epoch 227/500\n",
            "489/489 [==============================] - 2s 3ms/step - loss: 0.4726 - accuracy: 0.7779 - val_loss: 0.6734 - val_accuracy: 0.7681\n",
            "Epoch 228/500\n",
            "489/489 [==============================] - 2s 4ms/step - loss: 0.4679 - accuracy: 0.7813 - val_loss: 0.6989 - val_accuracy: 0.7644\n",
            "Epoch 229/500\n",
            "489/489 [==============================] - 2s 4ms/step - loss: 0.4729 - accuracy: 0.7746 - val_loss: 0.6601 - val_accuracy: 0.7822\n",
            "Epoch 230/500\n",
            "489/489 [==============================] - 2s 4ms/step - loss: 0.4735 - accuracy: 0.7756 - val_loss: 0.6782 - val_accuracy: 0.7767\n",
            "Epoch 231/500\n",
            "489/489 [==============================] - 2s 3ms/step - loss: 0.4759 - accuracy: 0.7838 - val_loss: 0.6877 - val_accuracy: 0.7718\n",
            "Epoch 232/500\n",
            "489/489 [==============================] - 2s 3ms/step - loss: 0.4739 - accuracy: 0.7775 - val_loss: 0.6845 - val_accuracy: 0.7681\n",
            "Epoch 233/500\n",
            "489/489 [==============================] - 2s 4ms/step - loss: 0.4815 - accuracy: 0.7844 - val_loss: 0.6533 - val_accuracy: 0.7779\n",
            "Epoch 234/500\n",
            "489/489 [==============================] - 2s 4ms/step - loss: 0.4696 - accuracy: 0.7834 - val_loss: 0.6716 - val_accuracy: 0.7663\n",
            "Epoch 235/500\n",
            "489/489 [==============================] - 2s 4ms/step - loss: 0.4758 - accuracy: 0.7809 - val_loss: 0.6725 - val_accuracy: 0.7755\n",
            "Epoch 236/500\n",
            "489/489 [==============================] - 2s 3ms/step - loss: 0.4752 - accuracy: 0.7760 - val_loss: 0.6625 - val_accuracy: 0.7779\n",
            "Epoch 237/500\n",
            "489/489 [==============================] - 2s 3ms/step - loss: 0.4799 - accuracy: 0.7764 - val_loss: 0.6990 - val_accuracy: 0.7571\n",
            "Epoch 238/500\n",
            "489/489 [==============================] - 2s 3ms/step - loss: 0.4675 - accuracy: 0.7822 - val_loss: 0.6538 - val_accuracy: 0.7779\n",
            "Epoch 239/500\n",
            "489/489 [==============================] - 2s 3ms/step - loss: 0.4790 - accuracy: 0.7762 - val_loss: 0.6684 - val_accuracy: 0.7699\n",
            "Epoch 240/500\n",
            "489/489 [==============================] - 2s 3ms/step - loss: 0.4659 - accuracy: 0.7826 - val_loss: 0.7139 - val_accuracy: 0.7607\n",
            "Epoch 241/500\n",
            "489/489 [==============================] - 1s 3ms/step - loss: 0.4727 - accuracy: 0.7789 - val_loss: 0.6757 - val_accuracy: 0.7706\n",
            "Epoch 242/500\n",
            "489/489 [==============================] - 1s 3ms/step - loss: 0.4689 - accuracy: 0.7822 - val_loss: 0.6959 - val_accuracy: 0.7632\n",
            "Epoch 243/500\n",
            "489/489 [==============================] - 2s 4ms/step - loss: 0.4741 - accuracy: 0.7768 - val_loss: 0.6840 - val_accuracy: 0.7742\n",
            "Epoch 244/500\n",
            "489/489 [==============================] - 2s 3ms/step - loss: 0.4709 - accuracy: 0.7789 - val_loss: 0.6915 - val_accuracy: 0.7718\n",
            "Epoch 245/500\n",
            "489/489 [==============================] - 2s 3ms/step - loss: 0.4695 - accuracy: 0.7846 - val_loss: 0.6826 - val_accuracy: 0.7663\n",
            "Epoch 246/500\n",
            "489/489 [==============================] - 2s 3ms/step - loss: 0.4689 - accuracy: 0.7801 - val_loss: 0.6837 - val_accuracy: 0.7785\n",
            "Epoch 247/500\n",
            "489/489 [==============================] - 2s 3ms/step - loss: 0.4761 - accuracy: 0.7803 - val_loss: 0.7187 - val_accuracy: 0.7595\n",
            "Epoch 248/500\n",
            "489/489 [==============================] - 2s 3ms/step - loss: 0.4718 - accuracy: 0.7799 - val_loss: 0.7004 - val_accuracy: 0.7687\n",
            "Epoch 249/500\n",
            "489/489 [==============================] - 1s 3ms/step - loss: 0.4663 - accuracy: 0.7781 - val_loss: 0.6968 - val_accuracy: 0.7736\n",
            "Epoch 250/500\n",
            "489/489 [==============================] - 2s 3ms/step - loss: 0.4697 - accuracy: 0.7854 - val_loss: 0.6779 - val_accuracy: 0.7755\n",
            "Epoch 251/500\n",
            "489/489 [==============================] - 2s 4ms/step - loss: 0.4715 - accuracy: 0.7820 - val_loss: 0.6910 - val_accuracy: 0.7736\n",
            "Epoch 252/500\n",
            "489/489 [==============================] - 2s 4ms/step - loss: 0.4631 - accuracy: 0.7863 - val_loss: 0.7297 - val_accuracy: 0.7589\n",
            "Epoch 253/500\n",
            "489/489 [==============================] - 2s 3ms/step - loss: 0.4714 - accuracy: 0.7811 - val_loss: 0.6761 - val_accuracy: 0.7755\n",
            "Epoch 254/500\n",
            "489/489 [==============================] - 2s 3ms/step - loss: 0.4669 - accuracy: 0.7838 - val_loss: 0.7333 - val_accuracy: 0.7528\n",
            "Epoch 255/500\n",
            "489/489 [==============================] - 1s 3ms/step - loss: 0.4643 - accuracy: 0.7805 - val_loss: 0.7267 - val_accuracy: 0.7742\n",
            "Epoch 256/500\n",
            "489/489 [==============================] - 2s 3ms/step - loss: 0.4752 - accuracy: 0.7820 - val_loss: 0.6951 - val_accuracy: 0.7601\n",
            "Epoch 257/500\n",
            "489/489 [==============================] - 2s 3ms/step - loss: 0.4700 - accuracy: 0.7836 - val_loss: 0.6955 - val_accuracy: 0.7773\n",
            "Epoch 258/500\n",
            "489/489 [==============================] - 2s 4ms/step - loss: 0.4659 - accuracy: 0.7852 - val_loss: 0.6786 - val_accuracy: 0.7712\n",
            "Epoch 259/500\n",
            "489/489 [==============================] - 2s 3ms/step - loss: 0.4633 - accuracy: 0.7914 - val_loss: 0.6816 - val_accuracy: 0.7724\n",
            "Epoch 260/500\n",
            "489/489 [==============================] - 2s 3ms/step - loss: 0.4689 - accuracy: 0.7795 - val_loss: 0.7357 - val_accuracy: 0.7411\n",
            "Epoch 261/500\n",
            "489/489 [==============================] - 2s 3ms/step - loss: 0.4693 - accuracy: 0.7826 - val_loss: 0.6904 - val_accuracy: 0.7675\n",
            "Epoch 262/500\n",
            "489/489 [==============================] - 2s 3ms/step - loss: 0.4661 - accuracy: 0.7813 - val_loss: 0.7313 - val_accuracy: 0.7589\n",
            "Epoch 263/500\n",
            "489/489 [==============================] - 2s 3ms/step - loss: 0.4770 - accuracy: 0.7773 - val_loss: 0.6841 - val_accuracy: 0.7761\n",
            "Epoch 264/500\n",
            "489/489 [==============================] - 2s 4ms/step - loss: 0.4629 - accuracy: 0.7877 - val_loss: 0.7072 - val_accuracy: 0.7589\n",
            "Epoch 265/500\n",
            "489/489 [==============================] - 2s 4ms/step - loss: 0.4677 - accuracy: 0.7844 - val_loss: 0.6961 - val_accuracy: 0.7761\n",
            "Epoch 266/500\n",
            "489/489 [==============================] - 2s 4ms/step - loss: 0.4671 - accuracy: 0.7850 - val_loss: 0.6914 - val_accuracy: 0.7755\n",
            "Epoch 267/500\n",
            "489/489 [==============================] - 2s 5ms/step - loss: 0.4751 - accuracy: 0.7738 - val_loss: 0.7142 - val_accuracy: 0.7687\n",
            "Epoch 268/500\n",
            "489/489 [==============================] - 2s 4ms/step - loss: 0.4736 - accuracy: 0.7834 - val_loss: 0.7211 - val_accuracy: 0.7669\n",
            "Epoch 269/500\n",
            "489/489 [==============================] - 2s 4ms/step - loss: 0.4639 - accuracy: 0.7834 - val_loss: 0.6895 - val_accuracy: 0.7810\n",
            "Epoch 270/500\n",
            "489/489 [==============================] - 2s 4ms/step - loss: 0.4665 - accuracy: 0.7805 - val_loss: 0.7065 - val_accuracy: 0.7816\n",
            "Epoch 271/500\n",
            "489/489 [==============================] - 2s 4ms/step - loss: 0.4660 - accuracy: 0.7801 - val_loss: 0.6781 - val_accuracy: 0.7748\n",
            "Epoch 272/500\n",
            "489/489 [==============================] - 2s 3ms/step - loss: 0.4658 - accuracy: 0.7846 - val_loss: 0.6850 - val_accuracy: 0.7761\n",
            "Epoch 273/500\n",
            "489/489 [==============================] - 2s 3ms/step - loss: 0.4675 - accuracy: 0.7836 - val_loss: 0.7006 - val_accuracy: 0.7748\n",
            "Epoch 274/500\n",
            "489/489 [==============================] - 2s 3ms/step - loss: 0.4658 - accuracy: 0.7842 - val_loss: 0.7005 - val_accuracy: 0.7656\n",
            "Epoch 275/500\n",
            "489/489 [==============================] - 2s 3ms/step - loss: 0.4677 - accuracy: 0.7871 - val_loss: 0.6886 - val_accuracy: 0.7730\n",
            "Epoch 276/500\n",
            "489/489 [==============================] - 2s 3ms/step - loss: 0.4672 - accuracy: 0.7822 - val_loss: 0.7301 - val_accuracy: 0.7687\n",
            "Epoch 277/500\n",
            "489/489 [==============================] - 2s 3ms/step - loss: 0.4780 - accuracy: 0.7783 - val_loss: 0.7478 - val_accuracy: 0.7417\n",
            "Epoch 278/500\n",
            "489/489 [==============================] - 2s 3ms/step - loss: 0.4766 - accuracy: 0.7758 - val_loss: 0.7520 - val_accuracy: 0.7282\n",
            "Epoch 279/500\n",
            "489/489 [==============================] - 2s 4ms/step - loss: 0.4746 - accuracy: 0.7779 - val_loss: 0.7043 - val_accuracy: 0.7699\n",
            "Epoch 280/500\n",
            "489/489 [==============================] - 2s 3ms/step - loss: 0.4662 - accuracy: 0.7830 - val_loss: 0.7034 - val_accuracy: 0.7736\n",
            "Epoch 281/500\n",
            "489/489 [==============================] - 2s 3ms/step - loss: 0.4659 - accuracy: 0.7816 - val_loss: 0.7264 - val_accuracy: 0.7589\n",
            "Epoch 282/500\n",
            "489/489 [==============================] - 2s 3ms/step - loss: 0.4683 - accuracy: 0.7795 - val_loss: 0.6964 - val_accuracy: 0.7804\n",
            "Epoch 283/500\n",
            "489/489 [==============================] - 2s 3ms/step - loss: 0.4788 - accuracy: 0.7773 - val_loss: 0.6981 - val_accuracy: 0.7742\n",
            "Epoch 284/500\n",
            "489/489 [==============================] - 2s 3ms/step - loss: 0.4695 - accuracy: 0.7801 - val_loss: 0.7293 - val_accuracy: 0.7558\n",
            "Epoch 285/500\n",
            "489/489 [==============================] - 2s 4ms/step - loss: 0.4768 - accuracy: 0.7787 - val_loss: 0.6803 - val_accuracy: 0.7730\n",
            "Epoch 286/500\n",
            "489/489 [==============================] - 2s 3ms/step - loss: 0.4660 - accuracy: 0.7844 - val_loss: 0.6946 - val_accuracy: 0.7736\n",
            "Epoch 287/500\n",
            "489/489 [==============================] - 2s 4ms/step - loss: 0.4650 - accuracy: 0.7840 - val_loss: 0.6962 - val_accuracy: 0.7767\n",
            "Epoch 288/500\n",
            "489/489 [==============================] - 2s 3ms/step - loss: 0.4672 - accuracy: 0.7768 - val_loss: 0.7013 - val_accuracy: 0.7767\n",
            "Epoch 289/500\n",
            "489/489 [==============================] - 2s 3ms/step - loss: 0.4601 - accuracy: 0.7885 - val_loss: 0.6902 - val_accuracy: 0.7773\n",
            "Epoch 290/500\n",
            "489/489 [==============================] - 2s 3ms/step - loss: 0.4670 - accuracy: 0.7813 - val_loss: 0.7302 - val_accuracy: 0.7589\n",
            "Epoch 291/500\n",
            "489/489 [==============================] - 2s 3ms/step - loss: 0.4626 - accuracy: 0.7865 - val_loss: 0.7319 - val_accuracy: 0.7748\n",
            "Epoch 292/500\n",
            "489/489 [==============================] - 2s 4ms/step - loss: 0.4638 - accuracy: 0.7811 - val_loss: 0.7251 - val_accuracy: 0.7509\n",
            "Epoch 293/500\n",
            "489/489 [==============================] - 2s 4ms/step - loss: 0.4718 - accuracy: 0.7801 - val_loss: 0.7386 - val_accuracy: 0.7767\n",
            "Epoch 294/500\n",
            "489/489 [==============================] - 2s 4ms/step - loss: 0.4646 - accuracy: 0.7832 - val_loss: 0.7158 - val_accuracy: 0.7742\n",
            "Epoch 295/500\n",
            "489/489 [==============================] - 2s 3ms/step - loss: 0.4647 - accuracy: 0.7816 - val_loss: 0.7219 - val_accuracy: 0.7626\n",
            "Epoch 296/500\n",
            "489/489 [==============================] - 2s 3ms/step - loss: 0.4679 - accuracy: 0.7785 - val_loss: 0.7619 - val_accuracy: 0.7656\n",
            "Epoch 297/500\n",
            "489/489 [==============================] - 2s 3ms/step - loss: 0.4638 - accuracy: 0.7811 - val_loss: 0.7163 - val_accuracy: 0.7773\n",
            "Epoch 298/500\n",
            "489/489 [==============================] - 2s 4ms/step - loss: 0.4709 - accuracy: 0.7795 - val_loss: 0.7565 - val_accuracy: 0.7706\n",
            "Epoch 299/500\n",
            "489/489 [==============================] - 3s 6ms/step - loss: 0.4693 - accuracy: 0.7793 - val_loss: 0.7416 - val_accuracy: 0.7552\n",
            "Epoch 300/500\n",
            "489/489 [==============================] - 3s 6ms/step - loss: 0.4667 - accuracy: 0.7826 - val_loss: 0.7116 - val_accuracy: 0.7669\n",
            "Epoch 301/500\n",
            "489/489 [==============================] - 2s 5ms/step - loss: 0.4617 - accuracy: 0.7873 - val_loss: 0.7291 - val_accuracy: 0.7706\n",
            "Epoch 302/500\n",
            "489/489 [==============================] - 2s 4ms/step - loss: 0.4752 - accuracy: 0.7791 - val_loss: 0.7328 - val_accuracy: 0.7706\n",
            "Epoch 303/500\n",
            "489/489 [==============================] - 2s 4ms/step - loss: 0.4651 - accuracy: 0.7836 - val_loss: 0.7156 - val_accuracy: 0.7773\n",
            "Epoch 304/500\n",
            "489/489 [==============================] - 2s 4ms/step - loss: 0.4686 - accuracy: 0.7861 - val_loss: 0.6877 - val_accuracy: 0.7736\n",
            "Epoch 305/500\n",
            "489/489 [==============================] - 2s 3ms/step - loss: 0.4663 - accuracy: 0.7824 - val_loss: 0.7209 - val_accuracy: 0.7755\n",
            "Epoch 306/500\n",
            "489/489 [==============================] - 2s 3ms/step - loss: 0.4662 - accuracy: 0.7832 - val_loss: 0.7737 - val_accuracy: 0.7399\n",
            "Epoch 307/500\n",
            "489/489 [==============================] - 2s 3ms/step - loss: 0.4614 - accuracy: 0.7826 - val_loss: 0.7082 - val_accuracy: 0.7798\n",
            "Epoch 308/500\n",
            "489/489 [==============================] - 2s 3ms/step - loss: 0.4649 - accuracy: 0.7881 - val_loss: 0.7096 - val_accuracy: 0.7810\n",
            "Epoch 309/500\n",
            "489/489 [==============================] - 2s 3ms/step - loss: 0.4664 - accuracy: 0.7867 - val_loss: 0.7871 - val_accuracy: 0.7423\n",
            "Epoch 310/500\n",
            "489/489 [==============================] - 2s 4ms/step - loss: 0.4710 - accuracy: 0.7801 - val_loss: 0.7000 - val_accuracy: 0.7767\n",
            "Epoch 311/500\n",
            "489/489 [==============================] - 2s 3ms/step - loss: 0.4671 - accuracy: 0.7791 - val_loss: 0.7034 - val_accuracy: 0.7785\n",
            "Epoch 312/500\n",
            "489/489 [==============================] - 2s 3ms/step - loss: 0.4629 - accuracy: 0.7858 - val_loss: 0.7126 - val_accuracy: 0.7724\n",
            "Epoch 313/500\n",
            "489/489 [==============================] - 2s 3ms/step - loss: 0.4641 - accuracy: 0.7830 - val_loss: 0.7089 - val_accuracy: 0.7773\n",
            "Epoch 314/500\n",
            "489/489 [==============================] - 2s 4ms/step - loss: 0.4647 - accuracy: 0.7840 - val_loss: 0.7092 - val_accuracy: 0.7804\n",
            "Epoch 315/500\n",
            "489/489 [==============================] - 2s 4ms/step - loss: 0.4649 - accuracy: 0.7850 - val_loss: 0.7376 - val_accuracy: 0.7767\n",
            "Epoch 316/500\n",
            "489/489 [==============================] - 2s 3ms/step - loss: 0.4664 - accuracy: 0.7842 - val_loss: 0.7627 - val_accuracy: 0.7509\n",
            "Epoch 317/500\n",
            "489/489 [==============================] - 2s 3ms/step - loss: 0.4719 - accuracy: 0.7846 - val_loss: 0.7374 - val_accuracy: 0.7595\n",
            "Epoch 318/500\n",
            "489/489 [==============================] - 2s 3ms/step - loss: 0.4670 - accuracy: 0.7807 - val_loss: 0.7382 - val_accuracy: 0.7742\n",
            "Epoch 319/500\n",
            "489/489 [==============================] - 2s 3ms/step - loss: 0.4627 - accuracy: 0.7836 - val_loss: 0.7238 - val_accuracy: 0.7755\n",
            "Epoch 320/500\n",
            "489/489 [==============================] - 2s 4ms/step - loss: 0.4669 - accuracy: 0.7848 - val_loss: 0.7378 - val_accuracy: 0.7699\n",
            "Epoch 321/500\n",
            "489/489 [==============================] - 2s 4ms/step - loss: 0.4631 - accuracy: 0.7828 - val_loss: 0.7141 - val_accuracy: 0.7798\n",
            "Epoch 322/500\n",
            "489/489 [==============================] - 2s 3ms/step - loss: 0.4629 - accuracy: 0.7850 - val_loss: 0.7514 - val_accuracy: 0.7663\n",
            "Epoch 323/500\n",
            "489/489 [==============================] - 2s 3ms/step - loss: 0.4626 - accuracy: 0.7903 - val_loss: 0.7261 - val_accuracy: 0.7644\n",
            "Epoch 324/500\n",
            "489/489 [==============================] - 2s 4ms/step - loss: 0.4640 - accuracy: 0.7824 - val_loss: 0.7312 - val_accuracy: 0.7669\n",
            "Epoch 325/500\n",
            "489/489 [==============================] - 2s 3ms/step - loss: 0.4635 - accuracy: 0.7830 - val_loss: 0.7023 - val_accuracy: 0.7767\n",
            "Epoch 326/500\n",
            "489/489 [==============================] - 2s 3ms/step - loss: 0.4644 - accuracy: 0.7789 - val_loss: 0.6986 - val_accuracy: 0.7767\n",
            "Epoch 327/500\n",
            "489/489 [==============================] - 2s 3ms/step - loss: 0.4609 - accuracy: 0.7854 - val_loss: 0.7262 - val_accuracy: 0.7730\n",
            "Epoch 328/500\n",
            "489/489 [==============================] - 2s 3ms/step - loss: 0.4651 - accuracy: 0.7848 - val_loss: 0.7388 - val_accuracy: 0.7595\n",
            "Epoch 329/500\n",
            "489/489 [==============================] - 2s 3ms/step - loss: 0.4615 - accuracy: 0.7875 - val_loss: 0.7290 - val_accuracy: 0.7718\n",
            "Epoch 330/500\n",
            "489/489 [==============================] - 2s 3ms/step - loss: 0.4655 - accuracy: 0.7848 - val_loss: 0.8214 - val_accuracy: 0.7448\n",
            "Epoch 331/500\n",
            "489/489 [==============================] - 2s 4ms/step - loss: 0.4686 - accuracy: 0.7852 - val_loss: 0.7740 - val_accuracy: 0.7626\n",
            "Epoch 332/500\n",
            "489/489 [==============================] - 2s 4ms/step - loss: 0.4651 - accuracy: 0.7873 - val_loss: 0.7165 - val_accuracy: 0.7748\n",
            "Epoch 333/500\n",
            "489/489 [==============================] - 2s 3ms/step - loss: 0.4615 - accuracy: 0.7832 - val_loss: 0.7222 - val_accuracy: 0.7742\n",
            "Epoch 334/500\n",
            "489/489 [==============================] - 2s 3ms/step - loss: 0.4573 - accuracy: 0.7852 - val_loss: 0.7545 - val_accuracy: 0.7638\n",
            "Epoch 335/500\n",
            "489/489 [==============================] - 2s 3ms/step - loss: 0.4618 - accuracy: 0.7824 - val_loss: 0.7328 - val_accuracy: 0.7736\n",
            "Epoch 336/500\n",
            "489/489 [==============================] - 2s 4ms/step - loss: 0.4610 - accuracy: 0.7858 - val_loss: 0.7244 - val_accuracy: 0.7656\n",
            "Epoch 337/500\n",
            "489/489 [==============================] - 2s 4ms/step - loss: 0.4648 - accuracy: 0.7822 - val_loss: 0.7296 - val_accuracy: 0.7767\n",
            "Epoch 338/500\n",
            "489/489 [==============================] - 2s 4ms/step - loss: 0.4574 - accuracy: 0.7861 - val_loss: 0.7736 - val_accuracy: 0.7663\n",
            "Epoch 339/500\n",
            "489/489 [==============================] - 2s 4ms/step - loss: 0.4645 - accuracy: 0.7803 - val_loss: 0.7258 - val_accuracy: 0.7699\n",
            "Epoch 340/500\n",
            "489/489 [==============================] - 2s 3ms/step - loss: 0.4643 - accuracy: 0.7816 - val_loss: 0.7627 - val_accuracy: 0.7607\n",
            "Epoch 341/500\n",
            "489/489 [==============================] - 2s 3ms/step - loss: 0.4644 - accuracy: 0.7840 - val_loss: 0.7547 - val_accuracy: 0.7755\n",
            "Epoch 342/500\n",
            "489/489 [==============================] - 2s 4ms/step - loss: 0.4746 - accuracy: 0.7828 - val_loss: 0.7060 - val_accuracy: 0.7773\n",
            "Epoch 343/500\n",
            "489/489 [==============================] - 2s 3ms/step - loss: 0.4716 - accuracy: 0.7828 - val_loss: 0.7577 - val_accuracy: 0.7442\n",
            "Epoch 344/500\n",
            "489/489 [==============================] - 2s 3ms/step - loss: 0.4593 - accuracy: 0.7873 - val_loss: 0.7276 - val_accuracy: 0.7699\n",
            "Epoch 345/500\n",
            "489/489 [==============================] - 2s 3ms/step - loss: 0.4638 - accuracy: 0.7832 - val_loss: 0.7259 - val_accuracy: 0.7859\n",
            "Epoch 346/500\n",
            "489/489 [==============================] - 2s 3ms/step - loss: 0.4626 - accuracy: 0.7869 - val_loss: 0.7201 - val_accuracy: 0.7748\n",
            "Epoch 347/500\n",
            "489/489 [==============================] - 2s 4ms/step - loss: 0.4646 - accuracy: 0.7824 - val_loss: 0.7296 - val_accuracy: 0.7767\n",
            "Epoch 348/500\n",
            "489/489 [==============================] - 2s 4ms/step - loss: 0.4606 - accuracy: 0.7824 - val_loss: 0.7474 - val_accuracy: 0.7693\n",
            "Epoch 349/500\n",
            "489/489 [==============================] - 2s 3ms/step - loss: 0.4629 - accuracy: 0.7844 - val_loss: 0.7172 - val_accuracy: 0.7822\n",
            "Epoch 350/500\n",
            "489/489 [==============================] - 2s 3ms/step - loss: 0.4587 - accuracy: 0.7908 - val_loss: 0.7657 - val_accuracy: 0.7748\n",
            "Epoch 351/500\n",
            "489/489 [==============================] - 2s 3ms/step - loss: 0.4623 - accuracy: 0.7830 - val_loss: 0.7332 - val_accuracy: 0.7761\n",
            "Epoch 352/500\n",
            "489/489 [==============================] - 2s 3ms/step - loss: 0.4654 - accuracy: 0.7856 - val_loss: 0.7033 - val_accuracy: 0.7681\n",
            "Epoch 353/500\n",
            "489/489 [==============================] - 2s 4ms/step - loss: 0.4612 - accuracy: 0.7891 - val_loss: 0.7066 - val_accuracy: 0.7791\n",
            "Epoch 354/500\n",
            "489/489 [==============================] - 2s 3ms/step - loss: 0.4673 - accuracy: 0.7854 - val_loss: 0.7524 - val_accuracy: 0.7552\n",
            "Epoch 355/500\n",
            "489/489 [==============================] - 2s 3ms/step - loss: 0.4594 - accuracy: 0.7850 - val_loss: 0.7262 - val_accuracy: 0.7810\n",
            "Epoch 356/500\n",
            "489/489 [==============================] - 2s 3ms/step - loss: 0.4636 - accuracy: 0.7834 - val_loss: 0.7356 - val_accuracy: 0.7779\n",
            "Epoch 357/500\n",
            "489/489 [==============================] - 2s 3ms/step - loss: 0.4624 - accuracy: 0.7818 - val_loss: 0.7366 - val_accuracy: 0.7755\n",
            "Epoch 358/500\n",
            "489/489 [==============================] - 2s 3ms/step - loss: 0.4595 - accuracy: 0.7824 - val_loss: 0.7250 - val_accuracy: 0.7748\n",
            "Epoch 359/500\n",
            "489/489 [==============================] - 2s 3ms/step - loss: 0.4607 - accuracy: 0.7842 - val_loss: 0.7617 - val_accuracy: 0.7681\n",
            "Epoch 360/500\n",
            "489/489 [==============================] - 2s 4ms/step - loss: 0.4628 - accuracy: 0.7852 - val_loss: 0.7468 - val_accuracy: 0.7761\n",
            "Epoch 361/500\n",
            "489/489 [==============================] - 2s 3ms/step - loss: 0.4616 - accuracy: 0.7856 - val_loss: 0.8102 - val_accuracy: 0.7417\n",
            "Epoch 362/500\n",
            "489/489 [==============================] - 2s 3ms/step - loss: 0.4696 - accuracy: 0.7846 - val_loss: 0.7962 - val_accuracy: 0.7509\n",
            "Epoch 363/500\n",
            "489/489 [==============================] - 1s 3ms/step - loss: 0.4624 - accuracy: 0.7830 - val_loss: 0.7532 - val_accuracy: 0.7724\n",
            "Epoch 364/500\n",
            "489/489 [==============================] - 2s 3ms/step - loss: 0.4546 - accuracy: 0.7879 - val_loss: 0.7507 - val_accuracy: 0.7681\n",
            "Epoch 365/500\n",
            "489/489 [==============================] - 2s 4ms/step - loss: 0.4632 - accuracy: 0.7805 - val_loss: 0.7636 - val_accuracy: 0.7546\n",
            "Epoch 366/500\n",
            "489/489 [==============================] - 2s 3ms/step - loss: 0.4578 - accuracy: 0.7875 - val_loss: 0.7428 - val_accuracy: 0.7742\n",
            "Epoch 367/500\n",
            "489/489 [==============================] - 2s 3ms/step - loss: 0.4610 - accuracy: 0.7820 - val_loss: 0.7221 - val_accuracy: 0.7767\n",
            "Epoch 368/500\n",
            "489/489 [==============================] - 2s 4ms/step - loss: 0.4636 - accuracy: 0.7848 - val_loss: 0.7570 - val_accuracy: 0.7699\n",
            "Epoch 369/500\n",
            "489/489 [==============================] - 2s 3ms/step - loss: 0.4649 - accuracy: 0.7877 - val_loss: 0.7235 - val_accuracy: 0.7773\n",
            "Epoch 370/500\n",
            "489/489 [==============================] - 2s 4ms/step - loss: 0.4598 - accuracy: 0.7852 - val_loss: 0.7420 - val_accuracy: 0.7699\n",
            "Epoch 371/500\n",
            "489/489 [==============================] - 2s 4ms/step - loss: 0.4644 - accuracy: 0.7852 - val_loss: 0.7430 - val_accuracy: 0.7785\n",
            "Epoch 372/500\n",
            "489/489 [==============================] - 2s 4ms/step - loss: 0.4630 - accuracy: 0.7871 - val_loss: 0.7527 - val_accuracy: 0.7748\n",
            "Epoch 373/500\n",
            "489/489 [==============================] - 2s 4ms/step - loss: 0.4562 - accuracy: 0.7871 - val_loss: 0.7609 - val_accuracy: 0.7736\n",
            "Epoch 374/500\n",
            "489/489 [==============================] - 2s 4ms/step - loss: 0.4651 - accuracy: 0.7858 - val_loss: 0.7959 - val_accuracy: 0.7644\n",
            "Epoch 375/500\n",
            "489/489 [==============================] - 2s 4ms/step - loss: 0.4604 - accuracy: 0.7869 - val_loss: 0.7604 - val_accuracy: 0.7785\n",
            "Epoch 376/500\n",
            "489/489 [==============================] - 2s 4ms/step - loss: 0.4577 - accuracy: 0.7883 - val_loss: 0.7252 - val_accuracy: 0.7767\n",
            "Epoch 377/500\n",
            "489/489 [==============================] - 2s 3ms/step - loss: 0.4655 - accuracy: 0.7858 - val_loss: 0.7362 - val_accuracy: 0.7767\n",
            "Epoch 378/500\n",
            "489/489 [==============================] - 2s 3ms/step - loss: 0.4641 - accuracy: 0.7824 - val_loss: 0.7357 - val_accuracy: 0.7681\n",
            "Epoch 379/500\n",
            "489/489 [==============================] - 2s 3ms/step - loss: 0.4591 - accuracy: 0.7848 - val_loss: 0.7123 - val_accuracy: 0.7791\n",
            "Epoch 380/500\n",
            "489/489 [==============================] - 2s 3ms/step - loss: 0.4597 - accuracy: 0.7799 - val_loss: 0.7462 - val_accuracy: 0.7736\n",
            "Epoch 381/500\n",
            "489/489 [==============================] - 2s 3ms/step - loss: 0.4647 - accuracy: 0.7830 - val_loss: 0.7551 - val_accuracy: 0.7730\n",
            "Epoch 382/500\n",
            "489/489 [==============================] - 2s 3ms/step - loss: 0.4612 - accuracy: 0.7838 - val_loss: 0.7338 - val_accuracy: 0.7767\n",
            "Epoch 383/500\n",
            "489/489 [==============================] - 2s 3ms/step - loss: 0.4624 - accuracy: 0.7906 - val_loss: 0.7270 - val_accuracy: 0.7736\n",
            "Epoch 384/500\n",
            "489/489 [==============================] - 2s 3ms/step - loss: 0.4557 - accuracy: 0.7926 - val_loss: 0.7382 - val_accuracy: 0.7798\n",
            "Epoch 385/500\n",
            "489/489 [==============================] - 2s 3ms/step - loss: 0.4682 - accuracy: 0.7795 - val_loss: 0.7391 - val_accuracy: 0.7773\n",
            "Epoch 386/500\n",
            "489/489 [==============================] - 2s 3ms/step - loss: 0.4579 - accuracy: 0.7865 - val_loss: 0.7493 - val_accuracy: 0.7828\n",
            "Epoch 387/500\n",
            "489/489 [==============================] - 2s 3ms/step - loss: 0.4640 - accuracy: 0.7822 - val_loss: 0.7398 - val_accuracy: 0.7742\n",
            "Epoch 388/500\n",
            "489/489 [==============================] - 2s 4ms/step - loss: 0.4598 - accuracy: 0.7861 - val_loss: 0.7496 - val_accuracy: 0.7724\n",
            "Epoch 389/500\n",
            "489/489 [==============================] - 2s 4ms/step - loss: 0.4618 - accuracy: 0.7820 - val_loss: 0.7356 - val_accuracy: 0.7638\n",
            "Epoch 390/500\n",
            "489/489 [==============================] - 2s 4ms/step - loss: 0.4615 - accuracy: 0.7824 - val_loss: 0.7394 - val_accuracy: 0.7810\n",
            "Epoch 391/500\n",
            "489/489 [==============================] - 2s 4ms/step - loss: 0.4576 - accuracy: 0.7834 - val_loss: 0.7305 - val_accuracy: 0.7755\n",
            "Epoch 392/500\n",
            "489/489 [==============================] - 2s 4ms/step - loss: 0.4600 - accuracy: 0.7856 - val_loss: 0.7544 - val_accuracy: 0.7736\n",
            "Epoch 393/500\n",
            "489/489 [==============================] - 2s 4ms/step - loss: 0.4563 - accuracy: 0.7897 - val_loss: 0.8076 - val_accuracy: 0.7252\n",
            "Epoch 394/500\n",
            "489/489 [==============================] - 2s 4ms/step - loss: 0.4648 - accuracy: 0.7842 - val_loss: 0.7378 - val_accuracy: 0.7767\n",
            "Epoch 395/500\n",
            "489/489 [==============================] - 2s 3ms/step - loss: 0.4594 - accuracy: 0.7879 - val_loss: 0.7879 - val_accuracy: 0.7534\n",
            "Epoch 396/500\n",
            "489/489 [==============================] - 2s 4ms/step - loss: 0.4616 - accuracy: 0.7830 - val_loss: 0.7464 - val_accuracy: 0.7742\n",
            "Epoch 397/500\n",
            "489/489 [==============================] - 2s 4ms/step - loss: 0.4600 - accuracy: 0.7852 - val_loss: 0.7544 - val_accuracy: 0.7730\n",
            "Epoch 398/500\n",
            "489/489 [==============================] - 2s 5ms/step - loss: 0.4625 - accuracy: 0.7848 - val_loss: 0.7273 - val_accuracy: 0.7798\n",
            "Epoch 399/500\n",
            "489/489 [==============================] - 2s 4ms/step - loss: 0.4559 - accuracy: 0.7885 - val_loss: 0.7487 - val_accuracy: 0.7779\n",
            "Epoch 400/500\n",
            "489/489 [==============================] - 2s 4ms/step - loss: 0.4614 - accuracy: 0.7848 - val_loss: 0.7825 - val_accuracy: 0.7534\n",
            "Epoch 401/500\n",
            "489/489 [==============================] - 3s 5ms/step - loss: 0.4607 - accuracy: 0.7799 - val_loss: 0.7366 - val_accuracy: 0.7687\n",
            "Epoch 402/500\n",
            "489/489 [==============================] - 4s 7ms/step - loss: 0.4608 - accuracy: 0.7807 - val_loss: 0.7349 - val_accuracy: 0.7699\n",
            "Epoch 403/500\n",
            "489/489 [==============================] - 3s 6ms/step - loss: 0.4595 - accuracy: 0.7836 - val_loss: 0.7557 - val_accuracy: 0.7638\n",
            "Epoch 404/500\n",
            "489/489 [==============================] - 2s 4ms/step - loss: 0.4554 - accuracy: 0.7871 - val_loss: 0.7616 - val_accuracy: 0.7724\n",
            "Epoch 405/500\n",
            "489/489 [==============================] - 2s 4ms/step - loss: 0.4595 - accuracy: 0.7836 - val_loss: 0.7532 - val_accuracy: 0.7613\n",
            "Epoch 406/500\n",
            "489/489 [==============================] - 2s 4ms/step - loss: 0.4580 - accuracy: 0.7844 - val_loss: 0.7317 - val_accuracy: 0.7840\n",
            "Epoch 407/500\n",
            "489/489 [==============================] - 2s 4ms/step - loss: 0.4536 - accuracy: 0.7893 - val_loss: 0.7336 - val_accuracy: 0.7748\n",
            "Epoch 408/500\n",
            "489/489 [==============================] - 2s 4ms/step - loss: 0.4587 - accuracy: 0.7850 - val_loss: 0.7796 - val_accuracy: 0.7620\n",
            "Epoch 409/500\n",
            "489/489 [==============================] - 2s 4ms/step - loss: 0.4599 - accuracy: 0.7871 - val_loss: 0.7626 - val_accuracy: 0.7748\n",
            "Epoch 410/500\n",
            "489/489 [==============================] - 2s 3ms/step - loss: 0.4635 - accuracy: 0.7854 - val_loss: 0.7449 - val_accuracy: 0.7706\n",
            "Epoch 411/500\n",
            "489/489 [==============================] - 2s 3ms/step - loss: 0.4567 - accuracy: 0.7875 - val_loss: 0.7551 - val_accuracy: 0.7822\n",
            "Epoch 412/500\n",
            "489/489 [==============================] - 2s 3ms/step - loss: 0.4643 - accuracy: 0.7838 - val_loss: 0.7425 - val_accuracy: 0.7712\n",
            "Epoch 413/500\n",
            "489/489 [==============================] - 2s 3ms/step - loss: 0.4559 - accuracy: 0.7858 - val_loss: 0.8143 - val_accuracy: 0.7699\n",
            "Epoch 414/500\n",
            "489/489 [==============================] - 2s 4ms/step - loss: 0.4654 - accuracy: 0.7846 - val_loss: 0.7679 - val_accuracy: 0.7773\n",
            "Epoch 415/500\n",
            "489/489 [==============================] - 2s 3ms/step - loss: 0.4608 - accuracy: 0.7850 - val_loss: 0.7591 - val_accuracy: 0.7724\n",
            "Epoch 416/500\n",
            "489/489 [==============================] - 2s 3ms/step - loss: 0.4657 - accuracy: 0.7844 - val_loss: 0.7471 - val_accuracy: 0.7669\n",
            "Epoch 417/500\n",
            "489/489 [==============================] - 2s 3ms/step - loss: 0.4638 - accuracy: 0.7783 - val_loss: 0.7650 - val_accuracy: 0.7663\n",
            "Epoch 418/500\n",
            "489/489 [==============================] - 2s 4ms/step - loss: 0.4540 - accuracy: 0.7881 - val_loss: 0.7642 - val_accuracy: 0.7693\n",
            "Epoch 419/500\n",
            "489/489 [==============================] - 2s 4ms/step - loss: 0.4542 - accuracy: 0.7863 - val_loss: 0.7671 - val_accuracy: 0.7724\n",
            "Epoch 420/500\n",
            "489/489 [==============================] - 2s 4ms/step - loss: 0.4565 - accuracy: 0.7873 - val_loss: 0.7745 - val_accuracy: 0.7785\n",
            "Epoch 421/500\n",
            "489/489 [==============================] - 2s 3ms/step - loss: 0.4648 - accuracy: 0.7873 - val_loss: 0.7692 - val_accuracy: 0.7675\n",
            "Epoch 422/500\n",
            "489/489 [==============================] - 2s 4ms/step - loss: 0.4568 - accuracy: 0.7889 - val_loss: 0.7642 - val_accuracy: 0.7736\n",
            "Epoch 423/500\n",
            "489/489 [==============================] - 2s 4ms/step - loss: 0.4566 - accuracy: 0.7881 - val_loss: 0.7667 - val_accuracy: 0.7718\n",
            "Epoch 424/500\n",
            "489/489 [==============================] - 2s 4ms/step - loss: 0.4578 - accuracy: 0.7820 - val_loss: 0.7826 - val_accuracy: 0.7791\n",
            "Epoch 425/500\n",
            "489/489 [==============================] - 2s 4ms/step - loss: 0.4648 - accuracy: 0.7854 - val_loss: 0.7576 - val_accuracy: 0.7718\n",
            "Epoch 426/500\n",
            "489/489 [==============================] - 2s 3ms/step - loss: 0.4570 - accuracy: 0.7910 - val_loss: 0.7729 - val_accuracy: 0.7779\n",
            "Epoch 427/500\n",
            "489/489 [==============================] - 2s 3ms/step - loss: 0.4570 - accuracy: 0.7846 - val_loss: 0.7699 - val_accuracy: 0.7607\n",
            "Epoch 428/500\n",
            "489/489 [==============================] - 2s 4ms/step - loss: 0.4522 - accuracy: 0.7838 - val_loss: 0.7592 - val_accuracy: 0.7761\n",
            "Epoch 429/500\n",
            "489/489 [==============================] - 2s 4ms/step - loss: 0.4593 - accuracy: 0.7887 - val_loss: 0.7808 - val_accuracy: 0.7644\n",
            "Epoch 430/500\n",
            "489/489 [==============================] - 2s 4ms/step - loss: 0.4570 - accuracy: 0.7842 - val_loss: 0.7523 - val_accuracy: 0.7767\n",
            "Epoch 431/500\n",
            "489/489 [==============================] - 2s 4ms/step - loss: 0.4586 - accuracy: 0.7809 - val_loss: 0.7725 - val_accuracy: 0.7761\n",
            "Epoch 432/500\n",
            "489/489 [==============================] - 2s 4ms/step - loss: 0.4595 - accuracy: 0.7885 - val_loss: 0.7794 - val_accuracy: 0.7644\n",
            "Epoch 433/500\n",
            "489/489 [==============================] - 2s 4ms/step - loss: 0.4589 - accuracy: 0.7887 - val_loss: 0.7833 - val_accuracy: 0.7798\n",
            "Epoch 434/500\n",
            "489/489 [==============================] - 2s 4ms/step - loss: 0.4543 - accuracy: 0.7906 - val_loss: 0.8529 - val_accuracy: 0.7374\n",
            "Epoch 435/500\n",
            "489/489 [==============================] - 2s 4ms/step - loss: 0.4575 - accuracy: 0.7899 - val_loss: 0.7777 - val_accuracy: 0.7724\n",
            "Epoch 436/500\n",
            "489/489 [==============================] - 2s 4ms/step - loss: 0.4608 - accuracy: 0.7775 - val_loss: 0.7949 - val_accuracy: 0.7693\n",
            "Epoch 437/500\n",
            "489/489 [==============================] - 2s 4ms/step - loss: 0.4574 - accuracy: 0.7836 - val_loss: 0.8008 - val_accuracy: 0.7644\n",
            "Epoch 438/500\n",
            "489/489 [==============================] - 2s 4ms/step - loss: 0.4609 - accuracy: 0.7854 - val_loss: 0.7789 - val_accuracy: 0.7681\n",
            "Epoch 439/500\n",
            "489/489 [==============================] - 2s 4ms/step - loss: 0.4612 - accuracy: 0.7832 - val_loss: 0.8145 - val_accuracy: 0.7650\n",
            "Epoch 440/500\n",
            "489/489 [==============================] - 2s 4ms/step - loss: 0.4603 - accuracy: 0.7887 - val_loss: 0.8012 - val_accuracy: 0.7828\n",
            "Epoch 441/500\n",
            "489/489 [==============================] - 2s 4ms/step - loss: 0.4602 - accuracy: 0.7846 - val_loss: 0.7732 - val_accuracy: 0.7761\n",
            "Epoch 442/500\n",
            "489/489 [==============================] - 2s 4ms/step - loss: 0.4588 - accuracy: 0.7867 - val_loss: 0.7763 - val_accuracy: 0.7748\n",
            "Epoch 443/500\n",
            "489/489 [==============================] - 2s 4ms/step - loss: 0.4507 - accuracy: 0.7883 - val_loss: 0.7870 - val_accuracy: 0.7785\n",
            "Epoch 444/500\n",
            "489/489 [==============================] - 2s 4ms/step - loss: 0.4563 - accuracy: 0.7871 - val_loss: 0.8080 - val_accuracy: 0.7718\n",
            "Epoch 445/500\n",
            "489/489 [==============================] - 2s 4ms/step - loss: 0.4552 - accuracy: 0.7797 - val_loss: 0.8179 - val_accuracy: 0.7706\n",
            "Epoch 446/500\n",
            "489/489 [==============================] - 2s 4ms/step - loss: 0.4611 - accuracy: 0.7828 - val_loss: 0.7757 - val_accuracy: 0.7687\n",
            "Epoch 447/500\n",
            "489/489 [==============================] - 2s 4ms/step - loss: 0.4589 - accuracy: 0.7830 - val_loss: 0.7987 - val_accuracy: 0.7712\n",
            "Epoch 448/500\n",
            "489/489 [==============================] - 2s 4ms/step - loss: 0.4611 - accuracy: 0.7856 - val_loss: 0.7784 - val_accuracy: 0.7681\n",
            "Epoch 449/500\n",
            "489/489 [==============================] - 2s 4ms/step - loss: 0.4594 - accuracy: 0.7854 - val_loss: 0.8083 - val_accuracy: 0.7791\n",
            "Epoch 450/500\n",
            "489/489 [==============================] - 2s 3ms/step - loss: 0.4617 - accuracy: 0.7861 - val_loss: 0.7704 - val_accuracy: 0.7724\n",
            "Epoch 451/500\n",
            "489/489 [==============================] - 2s 4ms/step - loss: 0.4566 - accuracy: 0.7869 - val_loss: 0.7613 - val_accuracy: 0.7779\n",
            "Epoch 452/500\n",
            "489/489 [==============================] - 2s 4ms/step - loss: 0.4600 - accuracy: 0.7875 - val_loss: 0.7755 - val_accuracy: 0.7755\n",
            "Epoch 453/500\n",
            "489/489 [==============================] - 2s 4ms/step - loss: 0.4565 - accuracy: 0.7867 - val_loss: 0.7880 - val_accuracy: 0.7761\n",
            "Epoch 454/500\n",
            "489/489 [==============================] - 2s 4ms/step - loss: 0.4631 - accuracy: 0.7844 - val_loss: 0.8512 - val_accuracy: 0.7761\n",
            "Epoch 455/500\n",
            "489/489 [==============================] - 2s 3ms/step - loss: 0.4606 - accuracy: 0.7901 - val_loss: 0.7751 - val_accuracy: 0.7804\n",
            "Epoch 456/500\n",
            "489/489 [==============================] - 2s 3ms/step - loss: 0.4566 - accuracy: 0.7856 - val_loss: 0.7809 - val_accuracy: 0.7706\n",
            "Epoch 457/500\n",
            "489/489 [==============================] - 2s 4ms/step - loss: 0.4551 - accuracy: 0.7867 - val_loss: 0.8332 - val_accuracy: 0.7350\n",
            "Epoch 458/500\n",
            "489/489 [==============================] - 2s 3ms/step - loss: 0.4529 - accuracy: 0.7903 - val_loss: 0.8160 - val_accuracy: 0.7509\n",
            "Epoch 459/500\n",
            "489/489 [==============================] - 2s 3ms/step - loss: 0.4613 - accuracy: 0.7871 - val_loss: 0.7642 - val_accuracy: 0.7706\n",
            "Epoch 460/500\n",
            "489/489 [==============================] - 2s 3ms/step - loss: 0.4560 - accuracy: 0.7846 - val_loss: 0.7823 - val_accuracy: 0.7742\n",
            "Epoch 461/500\n",
            "489/489 [==============================] - 2s 3ms/step - loss: 0.4543 - accuracy: 0.7848 - val_loss: 0.7699 - val_accuracy: 0.7687\n",
            "Epoch 462/500\n",
            "489/489 [==============================] - 2s 4ms/step - loss: 0.4542 - accuracy: 0.7928 - val_loss: 0.7866 - val_accuracy: 0.7644\n",
            "Epoch 463/500\n",
            "489/489 [==============================] - 2s 4ms/step - loss: 0.4573 - accuracy: 0.7891 - val_loss: 0.7828 - val_accuracy: 0.7755\n",
            "Epoch 464/500\n",
            "489/489 [==============================] - 2s 4ms/step - loss: 0.4527 - accuracy: 0.7912 - val_loss: 0.7886 - val_accuracy: 0.7632\n",
            "Epoch 465/500\n",
            "489/489 [==============================] - 2s 4ms/step - loss: 0.4588 - accuracy: 0.7863 - val_loss: 0.7624 - val_accuracy: 0.7742\n",
            "Epoch 466/500\n",
            "489/489 [==============================] - 2s 3ms/step - loss: 0.4538 - accuracy: 0.7856 - val_loss: 0.7813 - val_accuracy: 0.7730\n",
            "Epoch 467/500\n",
            "489/489 [==============================] - 2s 3ms/step - loss: 0.4640 - accuracy: 0.7789 - val_loss: 0.7880 - val_accuracy: 0.7706\n",
            "Epoch 468/500\n",
            "489/489 [==============================] - 2s 4ms/step - loss: 0.4640 - accuracy: 0.7863 - val_loss: 0.7574 - val_accuracy: 0.7730\n",
            "Epoch 469/500\n",
            "489/489 [==============================] - 2s 4ms/step - loss: 0.4559 - accuracy: 0.7885 - val_loss: 0.8176 - val_accuracy: 0.7687\n",
            "Epoch 470/500\n",
            "489/489 [==============================] - 2s 3ms/step - loss: 0.4520 - accuracy: 0.7889 - val_loss: 0.8157 - val_accuracy: 0.7724\n",
            "Epoch 471/500\n",
            "489/489 [==============================] - 2s 4ms/step - loss: 0.4530 - accuracy: 0.7901 - val_loss: 0.8402 - val_accuracy: 0.7638\n",
            "Epoch 472/500\n",
            "489/489 [==============================] - 2s 3ms/step - loss: 0.4578 - accuracy: 0.7850 - val_loss: 0.8288 - val_accuracy: 0.7730\n",
            "Epoch 473/500\n",
            "489/489 [==============================] - 2s 3ms/step - loss: 0.4549 - accuracy: 0.7867 - val_loss: 0.7971 - val_accuracy: 0.7730\n",
            "Epoch 474/500\n",
            "489/489 [==============================] - 2s 4ms/step - loss: 0.4616 - accuracy: 0.7846 - val_loss: 0.8002 - val_accuracy: 0.7681\n",
            "Epoch 475/500\n",
            "489/489 [==============================] - 2s 4ms/step - loss: 0.4567 - accuracy: 0.7873 - val_loss: 0.7834 - val_accuracy: 0.7748\n",
            "Epoch 476/500\n",
            "489/489 [==============================] - 2s 3ms/step - loss: 0.4589 - accuracy: 0.7885 - val_loss: 0.7829 - val_accuracy: 0.7798\n",
            "Epoch 477/500\n",
            "489/489 [==============================] - 2s 3ms/step - loss: 0.4573 - accuracy: 0.7879 - val_loss: 0.7941 - val_accuracy: 0.7675\n",
            "Epoch 478/500\n",
            "489/489 [==============================] - 2s 3ms/step - loss: 0.4532 - accuracy: 0.7899 - val_loss: 0.8036 - val_accuracy: 0.7712\n",
            "Epoch 479/500\n",
            "489/489 [==============================] - 2s 4ms/step - loss: 0.4569 - accuracy: 0.7885 - val_loss: 0.8302 - val_accuracy: 0.7423\n",
            "Epoch 480/500\n",
            "489/489 [==============================] - 2s 4ms/step - loss: 0.4550 - accuracy: 0.7863 - val_loss: 0.8135 - val_accuracy: 0.7742\n",
            "Epoch 481/500\n",
            "489/489 [==============================] - 2s 3ms/step - loss: 0.4563 - accuracy: 0.7891 - val_loss: 0.7858 - val_accuracy: 0.7779\n",
            "Epoch 482/500\n",
            "489/489 [==============================] - 2s 3ms/step - loss: 0.4614 - accuracy: 0.7863 - val_loss: 0.7912 - val_accuracy: 0.7742\n",
            "Epoch 483/500\n",
            "489/489 [==============================] - 2s 3ms/step - loss: 0.4556 - accuracy: 0.7861 - val_loss: 0.8061 - val_accuracy: 0.7675\n",
            "Epoch 484/500\n",
            "489/489 [==============================] - 2s 4ms/step - loss: 0.4591 - accuracy: 0.7867 - val_loss: 0.8003 - val_accuracy: 0.7638\n",
            "Epoch 485/500\n",
            "489/489 [==============================] - 2s 4ms/step - loss: 0.4597 - accuracy: 0.7883 - val_loss: 0.8111 - val_accuracy: 0.7810\n",
            "Epoch 486/500\n",
            "489/489 [==============================] - 2s 4ms/step - loss: 0.4500 - accuracy: 0.7903 - val_loss: 0.8144 - val_accuracy: 0.7816\n",
            "Epoch 487/500\n",
            "489/489 [==============================] - 2s 4ms/step - loss: 0.4538 - accuracy: 0.7877 - val_loss: 0.7988 - val_accuracy: 0.7748\n",
            "Epoch 488/500\n",
            "489/489 [==============================] - 2s 3ms/step - loss: 0.4565 - accuracy: 0.7889 - val_loss: 0.7979 - val_accuracy: 0.7693\n",
            "Epoch 489/500\n",
            "489/489 [==============================] - 2s 3ms/step - loss: 0.4562 - accuracy: 0.7863 - val_loss: 0.8067 - val_accuracy: 0.7779\n",
            "Epoch 490/500\n",
            "489/489 [==============================] - 2s 3ms/step - loss: 0.4534 - accuracy: 0.7848 - val_loss: 0.8361 - val_accuracy: 0.7681\n",
            "Epoch 491/500\n",
            "489/489 [==============================] - 2s 3ms/step - loss: 0.4565 - accuracy: 0.7881 - val_loss: 0.8186 - val_accuracy: 0.7644\n",
            "Epoch 492/500\n",
            "489/489 [==============================] - 2s 3ms/step - loss: 0.4628 - accuracy: 0.7906 - val_loss: 0.8352 - val_accuracy: 0.7515\n",
            "Epoch 493/500\n",
            "489/489 [==============================] - 2s 3ms/step - loss: 0.4530 - accuracy: 0.7885 - val_loss: 0.8063 - val_accuracy: 0.7638\n",
            "Epoch 494/500\n",
            "489/489 [==============================] - 2s 3ms/step - loss: 0.4619 - accuracy: 0.7899 - val_loss: 0.7849 - val_accuracy: 0.7712\n",
            "Epoch 495/500\n",
            "489/489 [==============================] - 2s 3ms/step - loss: 0.4591 - accuracy: 0.7846 - val_loss: 0.7841 - val_accuracy: 0.7706\n",
            "Epoch 496/500\n",
            "489/489 [==============================] - 2s 4ms/step - loss: 0.4566 - accuracy: 0.7877 - val_loss: 0.7903 - val_accuracy: 0.7644\n",
            "Epoch 497/500\n",
            "489/489 [==============================] - 2s 4ms/step - loss: 0.4565 - accuracy: 0.7834 - val_loss: 0.8157 - val_accuracy: 0.7712\n",
            "Epoch 498/500\n",
            "489/489 [==============================] - 2s 4ms/step - loss: 0.4685 - accuracy: 0.7832 - val_loss: 0.7667 - val_accuracy: 0.7706\n",
            "Epoch 499/500\n",
            "489/489 [==============================] - 2s 4ms/step - loss: 0.4576 - accuracy: 0.7891 - val_loss: 0.8019 - val_accuracy: 0.7601\n",
            "Epoch 500/500\n",
            "489/489 [==============================] - 2s 3ms/step - loss: 0.4593 - accuracy: 0.7903 - val_loss: 0.7701 - val_accuracy: 0.7791\n"
          ]
        },
        {
          "output_type": "execute_result",
          "data": {
            "text/plain": [
              "<keras.callbacks.History at 0x7fe22fde6650>"
            ]
          },
          "metadata": {},
          "execution_count": 69
        }
      ]
    },
    {
      "cell_type": "code",
      "source": [
        "trn_xs.shape"
      ],
      "metadata": {
        "id": "RwmJN_CloBTk"
      },
      "execution_count": null,
      "outputs": []
    },
    {
      "cell_type": "code",
      "source": [
        "model.fit(trn_xs, trn_y)"
      ],
      "metadata": {
        "id": "KazHf_VPoOWE",
        "colab": {
          "base_uri": "https://localhost:8080/"
        },
        "outputId": "ca4780b8-c4d6-4458-88df-8442713a6525"
      },
      "execution_count": 70,
      "outputs": [
        {
          "output_type": "stream",
          "name": "stdout",
          "text": [
            "204/204 [==============================] - 1s 7ms/step - loss: 0.5325 - accuracy: 0.7871\n"
          ]
        },
        {
          "output_type": "execute_result",
          "data": {
            "text/plain": [
              "<keras.callbacks.History at 0x7fe22fd90450>"
            ]
          },
          "metadata": {},
          "execution_count": 70
        }
      ]
    },
    {
      "cell_type": "code",
      "source": [
        "subm(model.predict(tst_xs), 'NN')"
      ],
      "metadata": {
        "id": "6rVX9mOTptph"
      },
      "execution_count": 71,
      "outputs": []
    },
    {
      "cell_type": "code",
      "source": [
        "!kaggle competitions submit -c spaceship-titanic -f sub-NN.csv -m 'NN'"
      ],
      "metadata": {
        "colab": {
          "base_uri": "https://localhost:8080/"
        },
        "id": "ehC6Qoccp1Tz",
        "outputId": "83f03e67-2177-41f2-b399-f31586ed17c3"
      },
      "execution_count": 73,
      "outputs": [
        {
          "output_type": "stream",
          "name": "stdout",
          "text": [
            "100% 58.3k/58.3k [00:00<00:00, 276kB/s]\n",
            "Successfully submitted to Spaceship Titanic"
          ]
        }
      ]
    },
    {
      "cell_type": "markdown",
      "source": [
        "![image.png](data:image/png;base64,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)"
      ],
      "metadata": {
        "id": "sJ1oCy8aqCSh"
      }
    },
    {
      "cell_type": "code",
      "source": [],
      "metadata": {
        "id": "zb4QcqSRp5rF"
      },
      "execution_count": null,
      "outputs": []
    }
  ]
}