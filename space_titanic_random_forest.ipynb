{
  "nbformat": 4,
  "nbformat_minor": 0,
  "metadata": {
    "colab": {
      "provenance": [],
      "collapsed_sections": [
        "PbMAfxGM6duJ"
      ],
      "authorship_tag": "ABX9TyMGnDwFBdmjrJeTkon9xBHO",
      "include_colab_link": true
    },
    "kernelspec": {
      "name": "python3",
      "display_name": "Python 3"
    },
    "language_info": {
      "name": "python"
    },
    "gpuClass": "standard",
    "widgets": {
      "application/vnd.jupyter.widget-state+json": {
        "f4be3d1357264bbe81c757c5d34c3a63": {
          "model_module": "@jupyter-widgets/controls",
          "model_name": "VBoxModel",
          "model_module_version": "1.5.0",
          "state": {
            "_dom_classes": [
              "widget-interact"
            ],
            "_model_module": "@jupyter-widgets/controls",
            "_model_module_version": "1.5.0",
            "_model_name": "VBoxModel",
            "_view_count": null,
            "_view_module": "@jupyter-widgets/controls",
            "_view_module_version": "1.5.0",
            "_view_name": "VBoxView",
            "box_style": "",
            "children": [
              "IPY_MODEL_11ce2cc6934a459690f5fb3a05961080",
              "IPY_MODEL_0885f39045224a3095fd72e40cc67ec4",
              "IPY_MODEL_ad5e19c4cce244929cfdc3d52d84d248"
            ],
            "layout": "IPY_MODEL_4efbf9bdd249478bafe34597f773ccc1"
          }
        },
        "11ce2cc6934a459690f5fb3a05961080": {
          "model_module": "@jupyter-widgets/controls",
          "model_name": "DropdownModel",
          "model_module_version": "1.5.0",
          "state": {
            "_dom_classes": [],
            "_model_module": "@jupyter-widgets/controls",
            "_model_module_version": "1.5.0",
            "_model_name": "DropdownModel",
            "_options_labels": [
              "Age",
              "LogRoomService",
              "LogFoodCourt",
              "LogShoppingMall",
              "LogSpa",
              "LogVRDeck"
            ],
            "_view_count": null,
            "_view_module": "@jupyter-widgets/controls",
            "_view_module_version": "1.5.0",
            "_view_name": "DropdownView",
            "description": "nm",
            "description_tooltip": null,
            "disabled": false,
            "index": 0,
            "layout": "IPY_MODEL_375e7b8dc6d1400ea334ae3f20e5f87b",
            "style": "IPY_MODEL_96169cec282844efad7fc191448ee337"
          }
        },
        "0885f39045224a3095fd72e40cc67ec4": {
          "model_module": "@jupyter-widgets/controls",
          "model_name": "FloatSliderModel",
          "model_module_version": "1.5.0",
          "state": {
            "_dom_classes": [],
            "_model_module": "@jupyter-widgets/controls",
            "_model_module_version": "1.5.0",
            "_model_name": "FloatSliderModel",
            "_view_count": null,
            "_view_module": "@jupyter-widgets/controls",
            "_view_module_version": "1.5.0",
            "_view_name": "FloatSliderView",
            "continuous_update": true,
            "description": "split",
            "description_tooltip": null,
            "disabled": false,
            "layout": "IPY_MODEL_6d0f4bdcd22f4ba1b8dca31c6a84c8da",
            "max": 46.5,
            "min": -15.5,
            "orientation": "horizontal",
            "readout": true,
            "readout_format": ".2f",
            "step": 0.1,
            "style": "IPY_MODEL_65218467436c46ea9072f6f4b55d8a5f",
            "value": 15.5
          }
        },
        "ad5e19c4cce244929cfdc3d52d84d248": {
          "model_module": "@jupyter-widgets/output",
          "model_name": "OutputModel",
          "model_module_version": "1.0.0",
          "state": {
            "_dom_classes": [],
            "_model_module": "@jupyter-widgets/output",
            "_model_module_version": "1.0.0",
            "_model_name": "OutputModel",
            "_view_count": null,
            "_view_module": "@jupyter-widgets/output",
            "_view_module_version": "1.0.0",
            "_view_name": "OutputView",
            "layout": "IPY_MODEL_473c318e2e964c568f9dc3d278eba72e",
            "msg_id": "",
            "outputs": [
              {
                "output_type": "display_data",
                "data": {
                  "text/plain": "0.49732738499479706"
                },
                "metadata": {}
              }
            ]
          }
        },
        "4efbf9bdd249478bafe34597f773ccc1": {
          "model_module": "@jupyter-widgets/base",
          "model_name": "LayoutModel",
          "model_module_version": "1.2.0",
          "state": {
            "_model_module": "@jupyter-widgets/base",
            "_model_module_version": "1.2.0",
            "_model_name": "LayoutModel",
            "_view_count": null,
            "_view_module": "@jupyter-widgets/base",
            "_view_module_version": "1.2.0",
            "_view_name": "LayoutView",
            "align_content": null,
            "align_items": null,
            "align_self": null,
            "border": null,
            "bottom": null,
            "display": null,
            "flex": null,
            "flex_flow": null,
            "grid_area": null,
            "grid_auto_columns": null,
            "grid_auto_flow": null,
            "grid_auto_rows": null,
            "grid_column": null,
            "grid_gap": null,
            "grid_row": null,
            "grid_template_areas": null,
            "grid_template_columns": null,
            "grid_template_rows": null,
            "height": null,
            "justify_content": null,
            "justify_items": null,
            "left": null,
            "margin": null,
            "max_height": null,
            "max_width": null,
            "min_height": null,
            "min_width": null,
            "object_fit": null,
            "object_position": null,
            "order": null,
            "overflow": null,
            "overflow_x": null,
            "overflow_y": null,
            "padding": null,
            "right": null,
            "top": null,
            "visibility": null,
            "width": null
          }
        },
        "375e7b8dc6d1400ea334ae3f20e5f87b": {
          "model_module": "@jupyter-widgets/base",
          "model_name": "LayoutModel",
          "model_module_version": "1.2.0",
          "state": {
            "_model_module": "@jupyter-widgets/base",
            "_model_module_version": "1.2.0",
            "_model_name": "LayoutModel",
            "_view_count": null,
            "_view_module": "@jupyter-widgets/base",
            "_view_module_version": "1.2.0",
            "_view_name": "LayoutView",
            "align_content": null,
            "align_items": null,
            "align_self": null,
            "border": null,
            "bottom": null,
            "display": null,
            "flex": null,
            "flex_flow": null,
            "grid_area": null,
            "grid_auto_columns": null,
            "grid_auto_flow": null,
            "grid_auto_rows": null,
            "grid_column": null,
            "grid_gap": null,
            "grid_row": null,
            "grid_template_areas": null,
            "grid_template_columns": null,
            "grid_template_rows": null,
            "height": null,
            "justify_content": null,
            "justify_items": null,
            "left": null,
            "margin": null,
            "max_height": null,
            "max_width": null,
            "min_height": null,
            "min_width": null,
            "object_fit": null,
            "object_position": null,
            "order": null,
            "overflow": null,
            "overflow_x": null,
            "overflow_y": null,
            "padding": null,
            "right": null,
            "top": null,
            "visibility": null,
            "width": null
          }
        },
        "96169cec282844efad7fc191448ee337": {
          "model_module": "@jupyter-widgets/controls",
          "model_name": "DescriptionStyleModel",
          "model_module_version": "1.5.0",
          "state": {
            "_model_module": "@jupyter-widgets/controls",
            "_model_module_version": "1.5.0",
            "_model_name": "DescriptionStyleModel",
            "_view_count": null,
            "_view_module": "@jupyter-widgets/base",
            "_view_module_version": "1.2.0",
            "_view_name": "StyleView",
            "description_width": ""
          }
        },
        "6d0f4bdcd22f4ba1b8dca31c6a84c8da": {
          "model_module": "@jupyter-widgets/base",
          "model_name": "LayoutModel",
          "model_module_version": "1.2.0",
          "state": {
            "_model_module": "@jupyter-widgets/base",
            "_model_module_version": "1.2.0",
            "_model_name": "LayoutModel",
            "_view_count": null,
            "_view_module": "@jupyter-widgets/base",
            "_view_module_version": "1.2.0",
            "_view_name": "LayoutView",
            "align_content": null,
            "align_items": null,
            "align_self": null,
            "border": null,
            "bottom": null,
            "display": null,
            "flex": null,
            "flex_flow": null,
            "grid_area": null,
            "grid_auto_columns": null,
            "grid_auto_flow": null,
            "grid_auto_rows": null,
            "grid_column": null,
            "grid_gap": null,
            "grid_row": null,
            "grid_template_areas": null,
            "grid_template_columns": null,
            "grid_template_rows": null,
            "height": null,
            "justify_content": null,
            "justify_items": null,
            "left": null,
            "margin": null,
            "max_height": null,
            "max_width": null,
            "min_height": null,
            "min_width": null,
            "object_fit": null,
            "object_position": null,
            "order": null,
            "overflow": null,
            "overflow_x": null,
            "overflow_y": null,
            "padding": null,
            "right": null,
            "top": null,
            "visibility": null,
            "width": null
          }
        },
        "65218467436c46ea9072f6f4b55d8a5f": {
          "model_module": "@jupyter-widgets/controls",
          "model_name": "SliderStyleModel",
          "model_module_version": "1.5.0",
          "state": {
            "_model_module": "@jupyter-widgets/controls",
            "_model_module_version": "1.5.0",
            "_model_name": "SliderStyleModel",
            "_view_count": null,
            "_view_module": "@jupyter-widgets/base",
            "_view_module_version": "1.2.0",
            "_view_name": "StyleView",
            "description_width": "",
            "handle_color": null
          }
        },
        "473c318e2e964c568f9dc3d278eba72e": {
          "model_module": "@jupyter-widgets/base",
          "model_name": "LayoutModel",
          "model_module_version": "1.2.0",
          "state": {
            "_model_module": "@jupyter-widgets/base",
            "_model_module_version": "1.2.0",
            "_model_name": "LayoutModel",
            "_view_count": null,
            "_view_module": "@jupyter-widgets/base",
            "_view_module_version": "1.2.0",
            "_view_name": "LayoutView",
            "align_content": null,
            "align_items": null,
            "align_self": null,
            "border": null,
            "bottom": null,
            "display": null,
            "flex": null,
            "flex_flow": null,
            "grid_area": null,
            "grid_auto_columns": null,
            "grid_auto_flow": null,
            "grid_auto_rows": null,
            "grid_column": null,
            "grid_gap": null,
            "grid_row": null,
            "grid_template_areas": null,
            "grid_template_columns": null,
            "grid_template_rows": null,
            "height": null,
            "justify_content": null,
            "justify_items": null,
            "left": null,
            "margin": null,
            "max_height": null,
            "max_width": null,
            "min_height": null,
            "min_width": null,
            "object_fit": null,
            "object_position": null,
            "order": null,
            "overflow": null,
            "overflow_x": null,
            "overflow_y": null,
            "padding": null,
            "right": null,
            "top": null,
            "visibility": null,
            "width": null
          }
        },
        "dad9cdd79e294294918f688cb1ed6547": {
          "model_module": "@jupyter-widgets/controls",
          "model_name": "VBoxModel",
          "model_module_version": "1.5.0",
          "state": {
            "_dom_classes": [
              "widget-interact"
            ],
            "_model_module": "@jupyter-widgets/controls",
            "_model_module_version": "1.5.0",
            "_model_name": "VBoxModel",
            "_view_count": null,
            "_view_module": "@jupyter-widgets/controls",
            "_view_module_version": "1.5.0",
            "_view_name": "VBoxView",
            "box_style": "",
            "children": [
              "IPY_MODEL_6e8f3f8140e84ac89a793729f0e2bbf5",
              "IPY_MODEL_9ed3ea74f9d3413f9aa877173230a559",
              "IPY_MODEL_754d61bb35a6466cbbfd580aead221b1"
            ],
            "layout": "IPY_MODEL_19a2b9bbb6f74a199f4fbd4a1de539af"
          }
        },
        "6e8f3f8140e84ac89a793729f0e2bbf5": {
          "model_module": "@jupyter-widgets/controls",
          "model_name": "DropdownModel",
          "model_module_version": "1.5.0",
          "state": {
            "_dom_classes": [],
            "_model_module": "@jupyter-widgets/controls",
            "_model_module_version": "1.5.0",
            "_model_name": "DropdownModel",
            "_options_labels": [
              "HomePlanet",
              "CryoSleep",
              "Destination",
              "Deck",
              "CabinNumber",
              "Side",
              "Group",
              "PassengerNumber"
            ],
            "_view_count": null,
            "_view_module": "@jupyter-widgets/controls",
            "_view_module_version": "1.5.0",
            "_view_name": "DropdownView",
            "description": "nm",
            "description_tooltip": null,
            "disabled": false,
            "index": 0,
            "layout": "IPY_MODEL_98ba1cc620c44727936656f6b621f98e",
            "style": "IPY_MODEL_1dd7b71645af4702af3e5e1ede859e7f"
          }
        },
        "9ed3ea74f9d3413f9aa877173230a559": {
          "model_module": "@jupyter-widgets/controls",
          "model_name": "IntSliderModel",
          "model_module_version": "1.5.0",
          "state": {
            "_dom_classes": [],
            "_model_module": "@jupyter-widgets/controls",
            "_model_module_version": "1.5.0",
            "_model_name": "IntSliderModel",
            "_view_count": null,
            "_view_module": "@jupyter-widgets/controls",
            "_view_module_version": "1.5.0",
            "_view_name": "IntSliderView",
            "continuous_update": true,
            "description": "split",
            "description_tooltip": null,
            "disabled": false,
            "layout": "IPY_MODEL_7485f036b9f24fd78f6c6329d23924df",
            "max": 6,
            "min": -2,
            "orientation": "horizontal",
            "readout": true,
            "readout_format": "d",
            "step": 1,
            "style": "IPY_MODEL_f593ee1517f6423cb7a9295a17a8e1b3",
            "value": 2
          }
        },
        "754d61bb35a6466cbbfd580aead221b1": {
          "model_module": "@jupyter-widgets/output",
          "model_name": "OutputModel",
          "model_module_version": "1.0.0",
          "state": {
            "_dom_classes": [],
            "_model_module": "@jupyter-widgets/output",
            "_model_module_version": "1.0.0",
            "_model_name": "OutputModel",
            "_view_count": null,
            "_view_module": "@jupyter-widgets/output",
            "_view_module_version": "1.0.0",
            "_view_name": "OutputView",
            "layout": "IPY_MODEL_dade9c593ed943e39958f61e5b51b241",
            "msg_id": "",
            "outputs": [
              {
                "output_type": "display_data",
                "data": {
                  "text/plain": "0.5000218277565598"
                },
                "metadata": {}
              }
            ]
          }
        },
        "19a2b9bbb6f74a199f4fbd4a1de539af": {
          "model_module": "@jupyter-widgets/base",
          "model_name": "LayoutModel",
          "model_module_version": "1.2.0",
          "state": {
            "_model_module": "@jupyter-widgets/base",
            "_model_module_version": "1.2.0",
            "_model_name": "LayoutModel",
            "_view_count": null,
            "_view_module": "@jupyter-widgets/base",
            "_view_module_version": "1.2.0",
            "_view_name": "LayoutView",
            "align_content": null,
            "align_items": null,
            "align_self": null,
            "border": null,
            "bottom": null,
            "display": null,
            "flex": null,
            "flex_flow": null,
            "grid_area": null,
            "grid_auto_columns": null,
            "grid_auto_flow": null,
            "grid_auto_rows": null,
            "grid_column": null,
            "grid_gap": null,
            "grid_row": null,
            "grid_template_areas": null,
            "grid_template_columns": null,
            "grid_template_rows": null,
            "height": null,
            "justify_content": null,
            "justify_items": null,
            "left": null,
            "margin": null,
            "max_height": null,
            "max_width": null,
            "min_height": null,
            "min_width": null,
            "object_fit": null,
            "object_position": null,
            "order": null,
            "overflow": null,
            "overflow_x": null,
            "overflow_y": null,
            "padding": null,
            "right": null,
            "top": null,
            "visibility": null,
            "width": null
          }
        },
        "98ba1cc620c44727936656f6b621f98e": {
          "model_module": "@jupyter-widgets/base",
          "model_name": "LayoutModel",
          "model_module_version": "1.2.0",
          "state": {
            "_model_module": "@jupyter-widgets/base",
            "_model_module_version": "1.2.0",
            "_model_name": "LayoutModel",
            "_view_count": null,
            "_view_module": "@jupyter-widgets/base",
            "_view_module_version": "1.2.0",
            "_view_name": "LayoutView",
            "align_content": null,
            "align_items": null,
            "align_self": null,
            "border": null,
            "bottom": null,
            "display": null,
            "flex": null,
            "flex_flow": null,
            "grid_area": null,
            "grid_auto_columns": null,
            "grid_auto_flow": null,
            "grid_auto_rows": null,
            "grid_column": null,
            "grid_gap": null,
            "grid_row": null,
            "grid_template_areas": null,
            "grid_template_columns": null,
            "grid_template_rows": null,
            "height": null,
            "justify_content": null,
            "justify_items": null,
            "left": null,
            "margin": null,
            "max_height": null,
            "max_width": null,
            "min_height": null,
            "min_width": null,
            "object_fit": null,
            "object_position": null,
            "order": null,
            "overflow": null,
            "overflow_x": null,
            "overflow_y": null,
            "padding": null,
            "right": null,
            "top": null,
            "visibility": null,
            "width": null
          }
        },
        "1dd7b71645af4702af3e5e1ede859e7f": {
          "model_module": "@jupyter-widgets/controls",
          "model_name": "DescriptionStyleModel",
          "model_module_version": "1.5.0",
          "state": {
            "_model_module": "@jupyter-widgets/controls",
            "_model_module_version": "1.5.0",
            "_model_name": "DescriptionStyleModel",
            "_view_count": null,
            "_view_module": "@jupyter-widgets/base",
            "_view_module_version": "1.2.0",
            "_view_name": "StyleView",
            "description_width": ""
          }
        },
        "7485f036b9f24fd78f6c6329d23924df": {
          "model_module": "@jupyter-widgets/base",
          "model_name": "LayoutModel",
          "model_module_version": "1.2.0",
          "state": {
            "_model_module": "@jupyter-widgets/base",
            "_model_module_version": "1.2.0",
            "_model_name": "LayoutModel",
            "_view_count": null,
            "_view_module": "@jupyter-widgets/base",
            "_view_module_version": "1.2.0",
            "_view_name": "LayoutView",
            "align_content": null,
            "align_items": null,
            "align_self": null,
            "border": null,
            "bottom": null,
            "display": null,
            "flex": null,
            "flex_flow": null,
            "grid_area": null,
            "grid_auto_columns": null,
            "grid_auto_flow": null,
            "grid_auto_rows": null,
            "grid_column": null,
            "grid_gap": null,
            "grid_row": null,
            "grid_template_areas": null,
            "grid_template_columns": null,
            "grid_template_rows": null,
            "height": null,
            "justify_content": null,
            "justify_items": null,
            "left": null,
            "margin": null,
            "max_height": null,
            "max_width": null,
            "min_height": null,
            "min_width": null,
            "object_fit": null,
            "object_position": null,
            "order": null,
            "overflow": null,
            "overflow_x": null,
            "overflow_y": null,
            "padding": null,
            "right": null,
            "top": null,
            "visibility": null,
            "width": null
          }
        },
        "f593ee1517f6423cb7a9295a17a8e1b3": {
          "model_module": "@jupyter-widgets/controls",
          "model_name": "SliderStyleModel",
          "model_module_version": "1.5.0",
          "state": {
            "_model_module": "@jupyter-widgets/controls",
            "_model_module_version": "1.5.0",
            "_model_name": "SliderStyleModel",
            "_view_count": null,
            "_view_module": "@jupyter-widgets/base",
            "_view_module_version": "1.2.0",
            "_view_name": "StyleView",
            "description_width": "",
            "handle_color": null
          }
        },
        "dade9c593ed943e39958f61e5b51b241": {
          "model_module": "@jupyter-widgets/base",
          "model_name": "LayoutModel",
          "model_module_version": "1.2.0",
          "state": {
            "_model_module": "@jupyter-widgets/base",
            "_model_module_version": "1.2.0",
            "_model_name": "LayoutModel",
            "_view_count": null,
            "_view_module": "@jupyter-widgets/base",
            "_view_module_version": "1.2.0",
            "_view_name": "LayoutView",
            "align_content": null,
            "align_items": null,
            "align_self": null,
            "border": null,
            "bottom": null,
            "display": null,
            "flex": null,
            "flex_flow": null,
            "grid_area": null,
            "grid_auto_columns": null,
            "grid_auto_flow": null,
            "grid_auto_rows": null,
            "grid_column": null,
            "grid_gap": null,
            "grid_row": null,
            "grid_template_areas": null,
            "grid_template_columns": null,
            "grid_template_rows": null,
            "height": null,
            "justify_content": null,
            "justify_items": null,
            "left": null,
            "margin": null,
            "max_height": null,
            "max_width": null,
            "min_height": null,
            "min_width": null,
            "object_fit": null,
            "object_position": null,
            "order": null,
            "overflow": null,
            "overflow_x": null,
            "overflow_y": null,
            "padding": null,
            "right": null,
            "top": null,
            "visibility": null,
            "width": null
          }
        }
      }
    }
  },
  "cells": [
    {
      "cell_type": "markdown",
      "metadata": {
        "id": "view-in-github",
        "colab_type": "text"
      },
      "source": [
        "<a href=\"https://colab.research.google.com/github/Meta-Sean/Practical-Deep-Learning/blob/main/space_titanic_random_forest.ipynb\" target=\"_parent\"><img src=\"https://colab.research.google.com/assets/colab-badge.svg\" alt=\"Open In Colab\"/></a>"
      ]
    },
    {
      "cell_type": "markdown",
      "source": [
        "# Space Titanic\n",
        "- Predict which passengers are transported to an alternate dimension"
      ],
      "metadata": {
        "id": "PbMAfxGM6duJ"
      }
    },
    {
      "cell_type": "markdown",
      "source": [
        "# File and Data Field Descriptions\n",
        "- train.csv - Personal records for about two-thirds (~8700) of the    passengers, to be used as training data.\n",
        "  - PassengerId - A unique Id for each passenger. Each Id takes the form gggg_pp where gggg indicates a group the passenger is travelling with and pp is their number within the group. People in a group are often family members, but not always.\n",
        "  - HomePlanet - The planet the passenger departed from, typically their planet of permanent residence.\n",
        "  - CryoSleep - Indicates whether the passenger elected to be put into suspended animation for the duration of the voyage. Passengers in cryosleep are confined to their cabins.\n",
        "  - Cabin - The cabin number where the passenger is staying. Takes the form deck/num/side, where side can be either P for Port or S for Starboard.\n",
        "  - Destination - The planet the passenger will be debarking to.\n",
        "  - Age - The age of the passenger.\n",
        "  - VIP - Whether the passenger has paid for special VIP service during the voyage.\n",
        "  - RoomService, FoodCourt, ShoppingMall, Spa, VRDeck - Amount the passenger has billed at each of the Spaceship Titanic's many luxury amenities.\n",
        "  - Name - The first and last names of the passenger.\n",
        "  - Transported - Whether the passenger was transported to another dimension. This is the target, the column you are trying to predict.\n",
        "- test.csv - Personal records for the remaining one-third (~4300) of the passengers, to be used as test data. Your task is to predict the value of Transported for the passengers in this set.\n",
        "sample_submission.csv - A submission file in the correct format.\n",
        "  - PassengerId - Id for each passenger in the test set.\n",
        "  - Transported - The target. For each passenger, predict either True or False.\n",
        "\n"
      ],
      "metadata": {
        "id": "UovKClZY6dm8"
      }
    },
    {
      "cell_type": "code",
      "source": [
        "!pip install kaggle"
      ],
      "metadata": {
        "colab": {
          "base_uri": "https://localhost:8080/"
        },
        "id": "xB5mXPtxKVy9",
        "outputId": "bea8c85a-f787-4a23-f872-3b3fdc29dde7"
      },
      "execution_count": 1,
      "outputs": [
        {
          "output_type": "stream",
          "name": "stdout",
          "text": [
            "Looking in indexes: https://pypi.org/simple, https://us-python.pkg.dev/colab-wheels/public/simple/\n",
            "Requirement already satisfied: kaggle in /usr/local/lib/python3.7/dist-packages (1.5.12)\n",
            "Requirement already satisfied: python-dateutil in /usr/local/lib/python3.7/dist-packages (from kaggle) (2.8.2)\n",
            "Requirement already satisfied: urllib3 in /usr/local/lib/python3.7/dist-packages (from kaggle) (1.24.3)\n",
            "Requirement already satisfied: python-slugify in /usr/local/lib/python3.7/dist-packages (from kaggle) (6.1.2)\n",
            "Requirement already satisfied: requests in /usr/local/lib/python3.7/dist-packages (from kaggle) (2.23.0)\n",
            "Requirement already satisfied: certifi in /usr/local/lib/python3.7/dist-packages (from kaggle) (2022.6.15)\n",
            "Requirement already satisfied: tqdm in /usr/local/lib/python3.7/dist-packages (from kaggle) (4.64.0)\n",
            "Requirement already satisfied: six>=1.10 in /usr/local/lib/python3.7/dist-packages (from kaggle) (1.15.0)\n",
            "Requirement already satisfied: text-unidecode>=1.3 in /usr/local/lib/python3.7/dist-packages (from python-slugify->kaggle) (1.3)\n",
            "Requirement already satisfied: idna<3,>=2.5 in /usr/local/lib/python3.7/dist-packages (from requests->kaggle) (2.10)\n",
            "Requirement already satisfied: chardet<4,>=3.0.2 in /usr/local/lib/python3.7/dist-packages (from requests->kaggle) (3.0.4)\n"
          ]
        }
      ]
    },
    {
      "cell_type": "code",
      "source": [
        "from google.colab import files\n",
        "import pandas as pd\n",
        "uploaded = files.upload()"
      ],
      "metadata": {
        "colab": {
          "resources": {
            "http://localhost:8080/nbextensions/google.colab/files.js": {
              "data": "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",
              "ok": true,
              "headers": [
                [
                  "content-type",
                  "application/javascript"
                ]
              ],
              "status": 200,
              "status_text": ""
            }
          },
          "base_uri": "https://localhost:8080/",
          "height": 73
        },
        "id": "56cUfe8SK_Um",
        "outputId": "185f2870-be36-4c5d-c780-52e056718eb7"
      },
      "execution_count": 2,
      "outputs": [
        {
          "output_type": "display_data",
          "data": {
            "text/plain": [
              "<IPython.core.display.HTML object>"
            ],
            "text/html": [
              "\n",
              "     <input type=\"file\" id=\"files-50bf4556-1b67-411c-bc06-c46ca0a605e1\" name=\"files[]\" multiple disabled\n",
              "        style=\"border:none\" />\n",
              "     <output id=\"result-50bf4556-1b67-411c-bc06-c46ca0a605e1\">\n",
              "      Upload widget is only available when the cell has been executed in the\n",
              "      current browser session. Please rerun this cell to enable.\n",
              "      </output>\n",
              "      <script src=\"/nbextensions/google.colab/files.js\"></script> "
            ]
          },
          "metadata": {}
        },
        {
          "output_type": "stream",
          "name": "stdout",
          "text": [
            "Saving kaggle.json to kaggle.json\n"
          ]
        }
      ]
    },
    {
      "cell_type": "code",
      "source": [
        "! mkdir ~/.kaggle #creating folder\n",
        "! cp kaggle.json ~/.kaggle/ #copying kaggle.json\n",
        "! chmod 600 ~/.kaggle/kaggle.json #reading the file with full access"
      ],
      "metadata": {
        "id": "vNicaS1_LAPW"
      },
      "execution_count": 3,
      "outputs": []
    },
    {
      "cell_type": "code",
      "source": [
        "from pathlib import Path\n",
        "import os\n",
        "\n",
        "iskaggle = os.environ.get('KAGGLE_KERNEL_RUN_TYPE', '')\n",
        "if iskaggle:\n",
        "    path = Path('../input/spaceship-titanic')\n",
        "    !pip install -Uqq fastai\n",
        "else:\n",
        "    import zipfile,kaggle\n",
        "    path = Path('spaceship-titanic')\n",
        "    kaggle.api.competition_download_cli(str(path))\n",
        "    zipfile.ZipFile(f'{path}.zip').extractall(path)"
      ],
      "metadata": {
        "colab": {
          "base_uri": "https://localhost:8080/"
        },
        "id": "8plSh82ILBcO",
        "outputId": "cf2477a4-80a7-4bbf-d1a4-3f50fe4b4bd1"
      },
      "execution_count": 4,
      "outputs": [
        {
          "output_type": "stream",
          "name": "stdout",
          "text": [
            "Downloading spaceship-titanic.zip to /content\n"
          ]
        },
        {
          "output_type": "stream",
          "name": "stderr",
          "text": [
            "100%|██████████| 299k/299k [00:00<00:00, 32.3MB/s]"
          ]
        },
        {
          "output_type": "stream",
          "name": "stdout",
          "text": [
            "\n"
          ]
        },
        {
          "output_type": "stream",
          "name": "stderr",
          "text": [
            "\n"
          ]
        }
      ]
    },
    {
      "cell_type": "code",
      "source": [
        "df = pd.read_csv('spaceship-titanic/train.csv')\n",
        "tst_df = pd.read_csv('spaceship-titanic/test.csv')\n",
        "modes = df.mode().iloc[0]\n",
        "df['Transported'] = df['Transported'].apply(lambda x: 1 if x == True else 0)"
      ],
      "metadata": {
        "id": "xBdkgD2O6kwv"
      },
      "execution_count": 5,
      "outputs": []
    },
    {
      "cell_type": "markdown",
      "source": [
        "## Data preprocessing"
      ],
      "metadata": {
        "id": "20r_gGeUhQsZ"
      }
    },
    {
      "cell_type": "code",
      "source": [
        "import numpy as np\n",
        "\n",
        "def add_features(df):\n",
        "  df.fillna(modes, inplace=True)\n",
        "  df['LogRoomService'] = np.log(df['RoomService']+1)\n",
        "  df['LogFoodCourt'] = np.log(df['FoodCourt']+1)\n",
        "  df['LogShoppingMall'] = np.log(df['ShoppingMall']+1)\n",
        "  df['LogSpa'] = np.log(df['Spa']+1)\n",
        "  df['LogVRDeck'] = np.log(df['VRDeck']+1)\n",
        "  df[['Deck','CabinNumber','Side']] = df.Cabin.str.split('/', expand=True)\n",
        "  df[['Group', 'PassengerNumber']] = df.PassengerId.str.split('_', expand=True)\n",
        "\n",
        "add_features(df)\n",
        "add_features(tst_df)"
      ],
      "metadata": {
        "id": "GeizGyMuctpv"
      },
      "execution_count": 6,
      "outputs": []
    },
    {
      "cell_type": "code",
      "source": [
        "def proc_data(df):\n",
        "  df.fillna(modes, inplace=True)\n",
        "  df['HomePlanet'] = pd.Categorical(df.HomePlanet)\n",
        "  df[\"CryoSleep\"] = pd.Categorical(df.CryoSleep)\n",
        "  df['Destination'] = pd.Categorical(df.Destination)\n",
        "  df['Deck'] = pd.Categorical(df.Deck)\n",
        "  df['CabinNumber'] = pd.Categorical(df.HomePlanet)\n",
        "  df['Side'] = pd.Categorical(df.Side)\n",
        "  df['Group'] = pd.Categorical(df.Group)\n",
        "  df['PassengerNumber'] = pd.Categorical(df.PassengerNumber)\n",
        "  \n",
        "\n",
        "proc_data(df)\n",
        "proc_data(tst_df)\n"
      ],
      "metadata": {
        "id": "YIm-q5QXeUdm"
      },
      "execution_count": 7,
      "outputs": []
    },
    {
      "cell_type": "code",
      "source": [
        "cats=[\"HomePlanet\", \"CryoSleep\", \"Destination\", \"Deck\", \"CabinNumber\", \"Side\", \"Group\", \"PassengerNumber\"]\n",
        "conts=['Age', 'LogRoomService', 'LogFoodCourt', 'LogShoppingMall', 'LogSpa', 'LogVRDeck']\n",
        "dep=\"Transported\""
      ],
      "metadata": {
        "id": "jXU1TmtgdYgF"
      },
      "execution_count": 8,
      "outputs": []
    },
    {
      "cell_type": "code",
      "source": [
        "df.CryoSleep.head()"
      ],
      "metadata": {
        "colab": {
          "base_uri": "https://localhost:8080/"
        },
        "id": "Rij-6244decx",
        "outputId": "0b9d31eb-a274-47f5-80df-30212ac535c7"
      },
      "execution_count": 9,
      "outputs": [
        {
          "output_type": "execute_result",
          "data": {
            "text/plain": [
              "0    False\n",
              "1    False\n",
              "2    False\n",
              "3    False\n",
              "4    False\n",
              "Name: CryoSleep, dtype: category\n",
              "Categories (2, object): [False, True]"
            ]
          },
          "metadata": {},
          "execution_count": 9
        }
      ]
    },
    {
      "cell_type": "code",
      "source": [
        "df.CryoSleep.cat.codes.head()"
      ],
      "metadata": {
        "colab": {
          "base_uri": "https://localhost:8080/"
        },
        "id": "fYTvrd3FhCjO",
        "outputId": "9a97070b-a770-4025-c6a6-4161ce26b48d"
      },
      "execution_count": 10,
      "outputs": [
        {
          "output_type": "execute_result",
          "data": {
            "text/plain": [
              "0    0\n",
              "1    0\n",
              "2    0\n",
              "3    0\n",
              "4    0\n",
              "dtype: int8"
            ]
          },
          "metadata": {},
          "execution_count": 10
        }
      ]
    },
    {
      "cell_type": "markdown",
      "source": [
        "## Binary splits"
      ],
      "metadata": {
        "id": "tKAT84edhOCV"
      }
    },
    {
      "cell_type": "code",
      "source": [
        "import seaborn as sns\n",
        "import matplotlib.pyplot as plt\n",
        "\n",
        "fix,axs = plt.subplots(1, 2, figsize=(11, 5))\n",
        "sns.barplot(data=df, y=dep, x=\"CryoSleep\", ax=axs[0]).set(title=\"Transportation rate\")\n",
        "sns.countplot(data=df, x='CryoSleep', ax=axs[1]).set(title='Histogram')"
      ],
      "metadata": {
        "colab": {
          "base_uri": "https://localhost:8080/",
          "height": 363
        },
        "id": "nQCprGOrhLlB",
        "outputId": "ab1fa52e-1e50-484f-e946-5543caea3022"
      },
      "execution_count": 11,
      "outputs": [
        {
          "output_type": "execute_result",
          "data": {
            "text/plain": [
              "[Text(0.5, 1.0, 'Histogram')]"
            ]
          },
          "metadata": {},
          "execution_count": 11
        },
        {
          "output_type": "display_data",
          "data": {
            "text/plain": [
              "<Figure size 792x360 with 2 Axes>"
            ],
            "image/png": "[encoded data removed]"
          },
          "metadata": {
            "needs_background": "light"
          }
        }
      ]
    },
    {
      "cell_type": "code",
      "source": [
        " from numpy import random\n",
        " from sklearn.model_selection import train_test_split\n",
        " \n",
        " random.seed(42)\n",
        " trn_df, val_df = train_test_split(df, test_size=0.25)\n",
        " trn_df[cats] = trn_df[cats].apply(lambda x: x.cat.codes)\n",
        " val_df[cats] = val_df[cats].apply(lambda x: x.cat.codes)"
      ],
      "metadata": {
        "id": "55fuxSx6hxD-"
      },
      "execution_count": 12,
      "outputs": []
    },
    {
      "cell_type": "code",
      "source": [
        "def xs_y(df):\n",
        "  xs = df[cats+conts].copy()\n",
        "  return xs, df[dep] if dep in df else None\n",
        "\n",
        "trn_xs, trn_y = xs_y(trn_df)\n",
        "val_xs, val_y = xs_y(val_df)"
      ],
      "metadata": {
        "id": "I0l3QaCoiUU7"
      },
      "execution_count": 13,
      "outputs": []
    },
    {
      "cell_type": "code",
      "source": [
        "preds = val_xs.CryoSleep==1\n",
        "val_y"
      ],
      "metadata": {
        "colab": {
          "base_uri": "https://localhost:8080/"
        },
        "id": "dmJqgbreiwG5",
        "outputId": "9902a012-3d46-4d76-eaf9-ca0519a61e6b"
      },
      "execution_count": 14,
      "outputs": [
        {
          "output_type": "execute_result",
          "data": {
            "text/plain": [
              "304     1\n",
              "2697    0\n",
              "8424    0\n",
              "1672    1\n",
              "8458    1\n",
              "       ..\n",
              "4478    1\n",
              "2996    1\n",
              "7760    1\n",
              "8181    0\n",
              "8420    0\n",
              "Name: Transported, Length: 2174, dtype: int64"
            ]
          },
          "metadata": {},
          "execution_count": 14
        }
      ]
    },
    {
      "cell_type": "code",
      "source": [
        "from sklearn.metrics import mean_absolute_error\n",
        "mean_absolute_error(val_y, preds)"
      ],
      "metadata": {
        "colab": {
          "base_uri": "https://localhost:8080/"
        },
        "id": "Po7KGwi7i4zc",
        "outputId": "ee936d22-ef8f-4647-d4e7-9049f5101570"
      },
      "execution_count": 15,
      "outputs": [
        {
          "output_type": "execute_result",
          "data": {
            "text/plain": [
              "0.2755289788408464"
            ]
          },
          "metadata": {},
          "execution_count": 15
        }
      ]
    },
    {
      "cell_type": "code",
      "source": [
        "df_age = trn_df[trn_df.Age>0]\n",
        "fig, axs = plt.subplots(1,2, figsize=(11, 5))\n",
        "sns.boxenplot(data=df_age, x=dep, y=\"Age\", ax=axs[0])\n",
        "sns.kdeplot(data=df_age, x=\"Age\", ax=axs[1]);"
      ],
      "metadata": {
        "colab": {
          "base_uri": "https://localhost:8080/",
          "height": 332
        },
        "id": "j6KB2wa2jB_g",
        "outputId": "f3d61d62-2521-4e03-ca56-1bf9684f7189"
      },
      "execution_count": 16,
      "outputs": [
        {
          "output_type": "display_data",
          "data": {
            "text/plain": [
              "<Figure size 792x360 with 2 Axes>"
            ],
            "image/png": "[encoded data removed]"
          },
          "metadata": {
            "needs_background": "light"
          }
        }
      ]
    },
    {
      "cell_type": "markdown",
      "source": [
        "## Not really conclusive quantiles for age and transportation\n",
        "Lets write a score function to try out a few different splits"
      ],
      "metadata": {
        "id": "v_yN5HqTnHo0"
      }
    },
    {
      "cell_type": "code",
      "source": [
        "def _side_score(side, y):\n",
        "  tot = side.sum()\n",
        "  if tot<=1: return 0\n",
        "  return y[side].std()*tot"
      ],
      "metadata": {
        "id": "84Iv9nzOmwiU"
      },
      "execution_count": 17,
      "outputs": []
    },
    {
      "cell_type": "code",
      "source": [
        "def score(col, y, split):\n",
        "  lhs = col<=split\n",
        "  return (_side_score(lhs, y) + _side_score(~lhs, y))/len(y)"
      ],
      "metadata": {
        "id": "DFdFf9xqnwr7"
      },
      "execution_count": 18,
      "outputs": []
    },
    {
      "cell_type": "code",
      "source": [
        "score(trn_xs[\"CryoSleep\"], trn_y, 0.5)"
      ],
      "metadata": {
        "colab": {
          "base_uri": "https://localhost:8080/"
        },
        "id": "Q5V8kCLqn5RG",
        "outputId": "d2c3eac4-35fa-4437-ec51-b752a99c4aea"
      },
      "execution_count": 19,
      "outputs": [
        {
          "output_type": "execute_result",
          "data": {
            "text/plain": [
              "0.4427274084379482"
            ]
          },
          "metadata": {},
          "execution_count": 19
        }
      ]
    },
    {
      "cell_type": "code",
      "source": [
        "score(trn_xs['Age'], trn_y, 20)"
      ],
      "metadata": {
        "colab": {
          "base_uri": "https://localhost:8080/"
        },
        "id": "Lq4FUwqioL-T",
        "outputId": "837b7757-2e10-4263-c0bb-aee1ac04b8ec"
      },
      "execution_count": 20,
      "outputs": [
        {
          "output_type": "execute_result",
          "data": {
            "text/plain": [
              "0.49837479646647287"
            ]
          },
          "metadata": {},
          "execution_count": 20
        }
      ]
    },
    {
      "cell_type": "code",
      "source": [
        "def iscore(nm, split):\n",
        "  col = trn_xs[nm]\n",
        "  return score(col, trn_y, split)\n",
        "\n",
        "from ipywidgets import interact\n",
        "interact(nm=conts, split=15.5)(iscore);"
      ],
      "metadata": {
        "colab": {
          "base_uri": "https://localhost:8080/",
          "height": 98,
          "referenced_widgets": [
            "f4be3d1357264bbe81c757c5d34c3a63",
            "11ce2cc6934a459690f5fb3a05961080",
            "0885f39045224a3095fd72e40cc67ec4",
            "ad5e19c4cce244929cfdc3d52d84d248",
            "4efbf9bdd249478bafe34597f773ccc1",
            "375e7b8dc6d1400ea334ae3f20e5f87b",
            "96169cec282844efad7fc191448ee337",
            "6d0f4bdcd22f4ba1b8dca31c6a84c8da",
            "65218467436c46ea9072f6f4b55d8a5f",
            "473c318e2e964c568f9dc3d278eba72e"
          ]
        },
        "id": "qfHd4k2Cn-z5",
        "outputId": "fc21eec6-9e11-4bb8-b21b-5a0739b1e135"
      },
      "execution_count": 21,
      "outputs": [
        {
          "output_type": "display_data",
          "data": {
            "text/plain": [
              "interactive(children=(Dropdown(description='nm', options=('Age', 'LogRoomService', 'LogFoodCourt', 'LogShoppin…"
            ],
            "application/vnd.jupyter.widget-view+json": {
              "version_major": 2,
              "version_minor": 0,
              "model_id": "f4be3d1357264bbe81c757c5d34c3a63"
            }
          },
          "metadata": {}
        }
      ]
    },
    {
      "cell_type": "code",
      "source": [
        "interact(nm=cats, split=2)(iscore);"
      ],
      "metadata": {
        "colab": {
          "base_uri": "https://localhost:8080/",
          "height": 98,
          "referenced_widgets": [
            "dad9cdd79e294294918f688cb1ed6547",
            "6e8f3f8140e84ac89a793729f0e2bbf5",
            "9ed3ea74f9d3413f9aa877173230a559",
            "754d61bb35a6466cbbfd580aead221b1",
            "19a2b9bbb6f74a199f4fbd4a1de539af",
            "98ba1cc620c44727936656f6b621f98e",
            "1dd7b71645af4702af3e5e1ede859e7f",
            "7485f036b9f24fd78f6c6329d23924df",
            "f593ee1517f6423cb7a9295a17a8e1b3",
            "dade9c593ed943e39958f61e5b51b241"
          ]
        },
        "id": "g7yXofmFogaY",
        "outputId": "16948755-fafd-4926-8af5-247e0f139f20"
      },
      "execution_count": 22,
      "outputs": [
        {
          "output_type": "display_data",
          "data": {
            "text/plain": [
              "interactive(children=(Dropdown(description='nm', options=('HomePlanet', 'CryoSleep', 'Destination', 'Deck', 'C…"
            ],
            "application/vnd.jupyter.widget-view+json": {
              "version_major": 2,
              "version_minor": 0,
              "model_id": "dad9cdd79e294294918f688cb1ed6547"
            }
          },
          "metadata": {}
        }
      ]
    },
    {
      "cell_type": "markdown",
      "source": [
        "## Instead of manually doing this lets write a function that can automatically find the best split point for all our columns"
      ],
      "metadata": {
        "id": "SB08OjEzpQEr"
      }
    },
    {
      "cell_type": "code",
      "source": [
        "def min_col(df, nm):\n",
        "  col, y = df[nm], df[dep]\n",
        "  unq = col.dropna().unique()\n",
        "  scores = np.array([score(col, y, o) for o in unq if not np.isnan(o)])\n",
        "  idx = scores.argmin()\n",
        "  return unq[idx], scores[idx]\n",
        "\n",
        "min_col(trn_df, \"Age\")"
      ],
      "metadata": {
        "colab": {
          "base_uri": "https://localhost:8080/"
        },
        "id": "l1TmK1aepCW8",
        "outputId": "612b60a2-bb88-47c5-d205-94182304efc7"
      },
      "execution_count": 23,
      "outputs": [
        {
          "output_type": "execute_result",
          "data": {
            "text/plain": [
              "(5.0, 0.49588222217088634)"
            ]
          },
          "metadata": {},
          "execution_count": 23
        }
      ]
    },
    {
      "cell_type": "code",
      "source": [
        "cols = cats+conts\n",
        "{o:min_col(trn_df, o) for o in cols}"
      ],
      "metadata": {
        "colab": {
          "base_uri": "https://localhost:8080/"
        },
        "id": "TrAqDU9LppNz",
        "outputId": "2f83cde4-0bf6-467c-bfc2-3ca080cf8639"
      },
      "execution_count": 24,
      "outputs": [
        {
          "output_type": "execute_result",
          "data": {
            "text/plain": [
              "{'HomePlanet': (0, 0.49262732535926257),\n",
              " 'CryoSleep': (0, 0.4427274084379482),\n",
              " 'Destination': (0, 0.4975146234286769),\n",
              " 'Deck': (2, 0.49146596918858604),\n",
              " 'CabinNumber': (0, 0.49262732535926257),\n",
              " 'Side': (0, 0.4972039930912765),\n",
              " 'Group': (2054, 0.4988487272764558),\n",
              " 'PassengerNumber': (0, 0.4982305020633713),\n",
              " 'Age': (5.0, 0.49588222217088634),\n",
              " 'LogRoomService': (0.0, 0.4712139445780011),\n",
              " 'LogFoodCourt': (0.0, 0.4864171323280328),\n",
              " 'LogShoppingMall': (0.0, 0.4838374399256237),\n",
              " 'LogSpa': (0.0, 0.46960050421496596),\n",
              " 'LogVRDeck': (0.0, 0.47094236980183707)}"
            ]
          },
          "metadata": {},
          "execution_count": 24
        }
      ]
    },
    {
      "cell_type": "markdown",
      "source": [
        "# Decision Tree!!!"
      ],
      "metadata": {
        "id": "2iUZvoIPqYBr"
      }
    },
    {
      "cell_type": "code",
      "source": [
        "trn_df.isnull().sum()"
      ],
      "metadata": {
        "colab": {
          "base_uri": "https://localhost:8080/"
        },
        "id": "zSFMY5UOqpNj",
        "outputId": "20805a40-0f48-467a-bba8-03b5f47fc2a6"
      },
      "execution_count": 25,
      "outputs": [
        {
          "output_type": "execute_result",
          "data": {
            "text/plain": [
              "PassengerId        0\n",
              "HomePlanet         0\n",
              "CryoSleep          0\n",
              "Cabin              0\n",
              "Destination        0\n",
              "Age                0\n",
              "VIP                0\n",
              "RoomService        0\n",
              "FoodCourt          0\n",
              "ShoppingMall       0\n",
              "Spa                0\n",
              "VRDeck             0\n",
              "Name               0\n",
              "Transported        0\n",
              "LogRoomService     0\n",
              "LogFoodCourt       0\n",
              "LogShoppingMall    0\n",
              "LogSpa             0\n",
              "LogVRDeck          0\n",
              "Deck               0\n",
              "CabinNumber        0\n",
              "Side               0\n",
              "Group              0\n",
              "PassengerNumber    0\n",
              "dtype: int64"
            ]
          },
          "metadata": {},
          "execution_count": 25
        }
      ]
    },
    {
      "cell_type": "code",
      "source": [
        "from sklearn.tree import DecisionTreeClassifier, export_graphviz\n",
        "\n",
        "m = DecisionTreeClassifier(max_leaf_nodes=4).fit(trn_xs, trn_y);"
      ],
      "metadata": {
        "id": "s1XcXxNAp0hH"
      },
      "execution_count": 26,
      "outputs": []
    },
    {
      "cell_type": "code",
      "source": [
        "import graphviz\n",
        "import re\n",
        "\n",
        "def draw_tree(t, df, size=10, ratio=0.6, precision=2, **kwargs):\n",
        "    s=export_graphviz(t, out_file=None, feature_names=df.columns, filled=True, rounded=True,\n",
        "                      special_characters=True, rotate=False, precision=precision, **kwargs)\n",
        "    return graphviz.Source(re.sub('Tree {', f'Tree {{ size={size}; ratio={ratio}', s))"
      ],
      "metadata": {
        "id": "3JqNKTSNqjWE"
      },
      "execution_count": 27,
      "outputs": []
    },
    {
      "cell_type": "code",
      "source": [
        "draw_tree(m, trn_xs, size=10)"
      ],
      "metadata": {
        "colab": {
          "base_uri": "https://localhost:8080/",
          "height": 539
        },
        "id": "ZKJZ_keZuk9k",
        "outputId": "6baf1a9a-dffb-435b-aab2-4e667a3aee64"
      },
      "execution_count": 28,
      "outputs": [
        {
          "output_type": "execute_result",
          "data": {
            "text/plain": [
              "<graphviz.files.Source at 0x7ff04a177490>"
            ],
            "image/svg+xml": "<?xml version=\"1.0\" encoding=\"UTF-8\" standalone=\"no\"?>\n<!DOCTYPE svg PUBLIC \"-//W3C//DTD SVG 1.1//EN\"\n \"http://www.w3.org/Graphics/SVG/1.1/DTD/svg11.dtd\">\n<!-- Generated by graphviz version 2.40.1 (20161225.0304)\n -->\n<!-- Title: Tree Pages: 1 -->\n<svg width=\"617pt\" height=\"373pt\"\n viewBox=\"0.00 0.00 616.97 373.00\" xmlns=\"http://www.w3.org/2000/svg\" xmlns:xlink=\"http://www.w3.org/1999/xlink\">\n<g id=\"graph0\" class=\"graph\" transform=\"scale(1 1) rotate(0) translate(4 369)\">\n<title>Tree</title>\n<polygon fill=\"#ffffff\" stroke=\"transparent\" points=\"-4,4 -4,-369 612.971,-369 612.971,4 -4,4\"/>\n<!-- 0 -->\n<g id=\"node1\" class=\"node\">\n<title>0</title>\n<path fill=\"#fcfdff\" stroke=\"#000000\" d=\"M469.9881,-365C469.9881,-365 344.9881,-365 344.9881,-365 338.9881,-365 332.9881,-359 332.9881,-353 332.9881,-353 332.9881,-309 332.9881,-309 332.9881,-303 338.9881,-297 344.9881,-297 344.9881,-297 469.9881,-297 469.9881,-297 475.9881,-297 481.9881,-303 481.9881,-309 481.9881,-309 481.9881,-353 481.9881,-353 481.9881,-359 475.9881,-365 469.9881,-365\"/>\n<text text-anchor=\"start\" x=\"355.4881\" y=\"-349.8\" font-family=\"Helvetica,sans-Serif\" font-size=\"14.00\" fill=\"#000000\">CryoSleep ≤ 0.5</text>\n<text text-anchor=\"start\" x=\"377.9881\" y=\"-334.8\" font-family=\"Helvetica,sans-Serif\" font-size=\"14.00\" fill=\"#000000\">gini = 0.5</text>\n<text text-anchor=\"start\" x=\"355.4881\" y=\"-319.8\" font-family=\"Helvetica,sans-Serif\" font-size=\"14.00\" fill=\"#000000\">samples = 6519</text>\n<text text-anchor=\"start\" x=\"340.9881\" y=\"-304.8\" font-family=\"Helvetica,sans-Serif\" font-size=\"14.00\" fill=\"#000000\">value = [3233, 3286]</text>\n</g>\n<!-- 1 -->\n<g id=\"node2\" class=\"node\">\n<title>1</title>\n<path fill=\"#f2c19e\" stroke=\"#000000\" d=\"M370.9881,-261C370.9881,-261 221.9881,-261 221.9881,-261 215.9881,-261 209.9881,-255 209.9881,-249 209.9881,-249 209.9881,-205 209.9881,-205 209.9881,-199 215.9881,-193 221.9881,-193 221.9881,-193 370.9881,-193 370.9881,-193 376.9881,-193 382.9881,-199 382.9881,-205 382.9881,-205 382.9881,-249 382.9881,-249 382.9881,-255 376.9881,-261 370.9881,-261\"/>\n<text text-anchor=\"start\" x=\"217.9881\" y=\"-245.8\" font-family=\"Helvetica,sans-Serif\" font-size=\"14.00\" fill=\"#000000\">LogRoomService ≤ 5.85</text>\n<text text-anchor=\"start\" x=\"262.9881\" y=\"-230.8\" font-family=\"Helvetica,sans-Serif\" font-size=\"14.00\" fill=\"#000000\">gini = 0.45</text>\n<text text-anchor=\"start\" x=\"244.4881\" y=\"-215.8\" font-family=\"Helvetica,sans-Serif\" font-size=\"14.00\" fill=\"#000000\">samples = 4267</text>\n<text text-anchor=\"start\" x=\"229.9881\" y=\"-200.8\" font-family=\"Helvetica,sans-Serif\" font-size=\"14.00\" fill=\"#000000\">value = [2825, 1442]</text>\n</g>\n<!-- 0&#45;&gt;1 -->\n<g id=\"edge1\" class=\"edge\">\n<title>0&#45;&gt;1</title>\n<path fill=\"none\" stroke=\"#000000\" d=\"M371.1426,-296.9465C361.2722,-287.6986 350.4806,-277.5876 340.2471,-267.9994\"/>\n<polygon fill=\"#000000\" stroke=\"#000000\" points=\"342.6058,-265.4131 332.9153,-261.13 337.8197,-270.5214 342.6058,-265.4131\"/>\n<text text-anchor=\"middle\" x=\"333.7289\" y=\"-282.4168\" font-family=\"Helvetica,sans-Serif\" font-size=\"14.00\" fill=\"#000000\">True</text>\n</g>\n<!-- 2 -->\n<g id=\"node7\" class=\"node\">\n<title>2</title>\n<path fill=\"#65b3eb\" stroke=\"#000000\" d=\"M577.4881,-253.5C577.4881,-253.5 461.4881,-253.5 461.4881,-253.5 455.4881,-253.5 449.4881,-247.5 449.4881,-241.5 449.4881,-241.5 449.4881,-212.5 449.4881,-212.5 449.4881,-206.5 455.4881,-200.5 461.4881,-200.5 461.4881,-200.5 577.4881,-200.5 577.4881,-200.5 583.4881,-200.5 589.4881,-206.5 589.4881,-212.5 589.4881,-212.5 589.4881,-241.5 589.4881,-241.5 589.4881,-247.5 583.4881,-253.5 577.4881,-253.5\"/>\n<text text-anchor=\"start\" x=\"489.9881\" y=\"-238.3\" font-family=\"Helvetica,sans-Serif\" font-size=\"14.00\" fill=\"#000000\">gini = 0.3</text>\n<text text-anchor=\"start\" x=\"467.4881\" y=\"-223.3\" font-family=\"Helvetica,sans-Serif\" font-size=\"14.00\" fill=\"#000000\">samples = 2252</text>\n<text text-anchor=\"start\" x=\"457.4881\" y=\"-208.3\" font-family=\"Helvetica,sans-Serif\" font-size=\"14.00\" fill=\"#000000\">value = [408, 1844]</text>\n</g>\n<!-- 0&#45;&gt;2 -->\n<g id=\"edge6\" class=\"edge\">\n<title>0&#45;&gt;2</title>\n<path fill=\"none\" stroke=\"#000000\" d=\"M444.1611,-296.9465C456.735,-285.2707 470.7907,-272.219 483.3241,-260.5809\"/>\n<polygon fill=\"#000000\" stroke=\"#000000\" points=\"485.9579,-262.9115 490.9043,-253.5422 481.1947,-257.7819 485.9579,-262.9115\"/>\n<text text-anchor=\"middle\" x=\"489.979\" y=\"-274.825\" font-family=\"Helvetica,sans-Serif\" font-size=\"14.00\" fill=\"#000000\">False</text>\n</g>\n<!-- 3 -->\n<g id=\"node3\" class=\"node\">\n<title>3</title>\n<path fill=\"#f6d4bc\" stroke=\"#000000\" d=\"M257.9881,-157C257.9881,-157 132.9881,-157 132.9881,-157 126.9881,-157 120.9881,-151 120.9881,-145 120.9881,-145 120.9881,-101 120.9881,-101 120.9881,-95 126.9881,-89 132.9881,-89 132.9881,-89 257.9881,-89 257.9881,-89 263.9881,-89 269.9881,-95 269.9881,-101 269.9881,-101 269.9881,-145 269.9881,-145 269.9881,-151 263.9881,-157 257.9881,-157\"/>\n<text text-anchor=\"start\" x=\"147.9881\" y=\"-141.8\" font-family=\"Helvetica,sans-Serif\" font-size=\"14.00\" fill=\"#000000\">LogSpa ≤ 5.33</text>\n<text text-anchor=\"start\" x=\"161.9881\" y=\"-126.8\" font-family=\"Helvetica,sans-Serif\" font-size=\"14.00\" fill=\"#000000\">gini = 0.48</text>\n<text text-anchor=\"start\" x=\"143.4881\" y=\"-111.8\" font-family=\"Helvetica,sans-Serif\" font-size=\"14.00\" fill=\"#000000\">samples = 3188</text>\n<text text-anchor=\"start\" x=\"128.9881\" y=\"-96.8\" font-family=\"Helvetica,sans-Serif\" font-size=\"14.00\" fill=\"#000000\">value = [1919, 1269]</text>\n</g>\n<!-- 1&#45;&gt;3 -->\n<g id=\"edge2\" class=\"edge\">\n<title>1&#45;&gt;3</title>\n<path fill=\"none\" stroke=\"#000000\" d=\"M263.4169,-192.9465C254.6102,-183.8782 244.9974,-173.9799 235.8478,-164.5585\"/>\n<polygon fill=\"#000000\" stroke=\"#000000\" points=\"238.1113,-161.8654 228.6336,-157.13 233.0896,-166.7422 238.1113,-161.8654\"/>\n</g>\n<!-- 4 -->\n<g id=\"node6\" class=\"node\">\n<title>4</title>\n<path fill=\"#ea995f\" stroke=\"#000000\" d=\"M452.4881,-149.5C452.4881,-149.5 344.4881,-149.5 344.4881,-149.5 338.4881,-149.5 332.4881,-143.5 332.4881,-137.5 332.4881,-137.5 332.4881,-108.5 332.4881,-108.5 332.4881,-102.5 338.4881,-96.5 344.4881,-96.5 344.4881,-96.5 452.4881,-96.5 452.4881,-96.5 458.4881,-96.5 464.4881,-102.5 464.4881,-108.5 464.4881,-108.5 464.4881,-137.5 464.4881,-137.5 464.4881,-143.5 458.4881,-149.5 452.4881,-149.5\"/>\n<text text-anchor=\"start\" x=\"364.9881\" y=\"-134.3\" font-family=\"Helvetica,sans-Serif\" font-size=\"14.00\" fill=\"#000000\">gini = 0.27</text>\n<text text-anchor=\"start\" x=\"346.4881\" y=\"-119.3\" font-family=\"Helvetica,sans-Serif\" font-size=\"14.00\" fill=\"#000000\">samples = 1079</text>\n<text text-anchor=\"start\" x=\"340.4881\" y=\"-104.3\" font-family=\"Helvetica,sans-Serif\" font-size=\"14.00\" fill=\"#000000\">value = [906, 173]</text>\n</g>\n<!-- 1&#45;&gt;4 -->\n<g id=\"edge5\" class=\"edge\">\n<title>1&#45;&gt;4</title>\n<path fill=\"none\" stroke=\"#000000\" d=\"M329.8867,-192.9465C341.23,-181.3809 353.8973,-168.4652 365.2296,-156.9107\"/>\n<polygon fill=\"#000000\" stroke=\"#000000\" points=\"367.9531,-159.1323 372.4564,-149.5422 362.9555,-154.2308 367.9531,-159.1323\"/>\n</g>\n<!-- 5 -->\n<g id=\"node4\" class=\"node\">\n<title>5</title>\n<path fill=\"#fffffe\" stroke=\"#000000\" d=\"M157.9881,-52.5C157.9881,-52.5 32.9881,-52.5 32.9881,-52.5 26.9881,-52.5 20.9881,-46.5 20.9881,-40.5 20.9881,-40.5 20.9881,-11.5 20.9881,-11.5 20.9881,-5.5 26.9881,.5 32.9881,.5 32.9881,.5 157.9881,.5 157.9881,.5 163.9881,.5 169.9881,-5.5 169.9881,-11.5 169.9881,-11.5 169.9881,-40.5 169.9881,-40.5 169.9881,-46.5 163.9881,-52.5 157.9881,-52.5\"/>\n<text text-anchor=\"start\" x=\"65.9881\" y=\"-37.3\" font-family=\"Helvetica,sans-Serif\" font-size=\"14.00\" fill=\"#000000\">gini = 0.5</text>\n<text text-anchor=\"start\" x=\"43.4881\" y=\"-22.3\" font-family=\"Helvetica,sans-Serif\" font-size=\"14.00\" fill=\"#000000\">samples = 2131</text>\n<text text-anchor=\"start\" x=\"28.9881\" y=\"-7.3\" font-family=\"Helvetica,sans-Serif\" font-size=\"14.00\" fill=\"#000000\">value = [1067, 1064]</text>\n</g>\n<!-- 3&#45;&gt;5 -->\n<g id=\"edge3\" class=\"edge\">\n<title>3&#45;&gt;5</title>\n<path fill=\"none\" stroke=\"#000000\" d=\"M160.2319,-88.8014C150.4634,-79.326 139.8703,-69.0507 130.1368,-59.6092\"/>\n<polygon fill=\"#000000\" stroke=\"#000000\" points=\"132.5038,-57.0292 122.889,-52.5788 127.63,-62.0537 132.5038,-57.0292\"/>\n</g>\n<!-- 6 -->\n<g id=\"node5\" class=\"node\">\n<title>6</title>\n<path fill=\"#eb9f69\" stroke=\"#000000\" d=\"M351.4881,-52.5C351.4881,-52.5 243.4881,-52.5 243.4881,-52.5 237.4881,-52.5 231.4881,-46.5 231.4881,-40.5 231.4881,-40.5 231.4881,-11.5 231.4881,-11.5 231.4881,-5.5 237.4881,.5 243.4881,.5 243.4881,.5 351.4881,.5 351.4881,.5 357.4881,.5 363.4881,-5.5 363.4881,-11.5 363.4881,-11.5 363.4881,-40.5 363.4881,-40.5 363.4881,-46.5 357.4881,-52.5 351.4881,-52.5\"/>\n<text text-anchor=\"start\" x=\"263.9881\" y=\"-37.3\" font-family=\"Helvetica,sans-Serif\" font-size=\"14.00\" fill=\"#000000\">gini = 0.31</text>\n<text text-anchor=\"start\" x=\"245.4881\" y=\"-22.3\" font-family=\"Helvetica,sans-Serif\" font-size=\"14.00\" fill=\"#000000\">samples = 1057</text>\n<text text-anchor=\"start\" x=\"239.4881\" y=\"-7.3\" font-family=\"Helvetica,sans-Serif\" font-size=\"14.00\" fill=\"#000000\">value = [852, 205]</text>\n</g>\n<!-- 3&#45;&gt;6 -->\n<g id=\"edge4\" class=\"edge\">\n<title>3&#45;&gt;6</title>\n<path fill=\"none\" stroke=\"#000000\" d=\"M231.4495,-88.8014C241.4134,-79.326 252.2183,-69.0507 262.1465,-59.6092\"/>\n<polygon fill=\"#000000\" stroke=\"#000000\" points=\"264.7047,-62.0064 269.5393,-52.5788 259.8808,-56.9338 264.7047,-62.0064\"/>\n</g>\n</g>\n</svg>\n"
          },
          "metadata": {},
          "execution_count": 28
        }
      ]
    },
    {
      "cell_type": "code",
      "source": [
        "def gini(cond):\n",
        "  act = df.loc[cond, dep]\n",
        "  return 1 - act.mean()**2 - (1-act).mean()**2"
      ],
      "metadata": {
        "id": "gvXsOrU-uoM0"
      },
      "execution_count": 29,
      "outputs": []
    },
    {
      "cell_type": "code",
      "source": [
        "gini(df.CryoSleep==0), gini(df.CryoSleep==1)"
      ],
      "metadata": {
        "colab": {
          "base_uri": "https://localhost:8080/"
        },
        "id": "-NQB4BFWvKvT",
        "outputId": "5c8b4e1c-39eb-4598-ebf1-10f8351609e4"
      },
      "execution_count": 30,
      "outputs": [
        {
          "output_type": "execute_result",
          "data": {
            "text/plain": [
              "(0.4455780020566211, 0.2982818967776309)"
            ]
          },
          "metadata": {},
          "execution_count": 30
        }
      ]
    },
    {
      "cell_type": "code",
      "source": [
        "mean_absolute_error(val_y, m.predict(val_xs))"
      ],
      "metadata": {
        "colab": {
          "base_uri": "https://localhost:8080/"
        },
        "id": "Hs9UQTeVxJpW",
        "outputId": "85a3fc15-0e62-448e-a9e9-a87aedc9cc04"
      },
      "execution_count": 31,
      "outputs": [
        {
          "output_type": "execute_result",
          "data": {
            "text/plain": [
              "0.2755289788408464"
            ]
          },
          "metadata": {},
          "execution_count": 31
        }
      ]
    },
    {
      "cell_type": "code",
      "source": [
        "m = DecisionTreeClassifier(min_samples_leaf=50)\n",
        "m.fit(trn_xs, trn_y)\n",
        "draw_tree(m, trn_xs, size=25)"
      ],
      "metadata": {
        "colab": {
          "base_uri": "https://localhost:8080/",
          "height": 1000
        },
        "id": "vpvhad9fxQ41",
        "outputId": "d848e2f1-0abb-47b5-ec42-09f0e9a9ee06"
      },
      "execution_count": 32,
      "outputs": [
        {
          "output_type": "execute_result",
          "data": {
            "text/plain": [
              "<graphviz.files.Source at 0x7ff059b8d8d0>"
            ],
            "image/svg+xml": "<?xml version=\"1.0\" encoding=\"UTF-8\" standalone=\"no\"?>\n<!DOCTYPE svg PUBLIC \"-//W3C//DTD SVG 1.1//EN\"\n \"http://www.w3.org/Graphics/SVG/1.1/DTD/svg11.dtd\">\n<!-- Generated by graphviz version 2.40.1 (20161225.0304)\n -->\n<!-- Title: Tree Pages: 1 -->\n<svg width=\"1800pt\" height=\"1081pt\"\n viewBox=\"0.00 0.00 1800.00 1081.03\" xmlns=\"http://www.w3.org/2000/svg\" xmlns:xlink=\"http://www.w3.org/1999/xlink\">\n<g id=\"graph0\" class=\"graph\" transform=\"scale(.3232 .3232) rotate(0) translate(4 3341.2)\">\n<title>Tree</title>\n<polygon fill=\"#ffffff\" stroke=\"transparent\" points=\"-4,4 -4,-3341.2 5566,-3341.2 5566,4 -4,4\"/>\n<!-- 0 -->\n<g id=\"node1\" class=\"node\">\n<title>0</title>\n<path fill=\"#fcfdff\" stroke=\"#000000\" d=\"M3743.5,-3296C3743.5,-3296 3618.5,-3296 3618.5,-3296 3612.5,-3296 3606.5,-3290 3606.5,-3284 3606.5,-3284 3606.5,-3240 3606.5,-3240 3606.5,-3234 3612.5,-3228 3618.5,-3228 3618.5,-3228 3743.5,-3228 3743.5,-3228 3749.5,-3228 3755.5,-3234 3755.5,-3240 3755.5,-3240 3755.5,-3284 3755.5,-3284 3755.5,-3290 3749.5,-3296 3743.5,-3296\"/>\n<text text-anchor=\"start\" x=\"3629\" y=\"-3280.8\" font-family=\"Helvetica,sans-Serif\" font-size=\"14.00\" fill=\"#000000\">CryoSleep ≤ 0.5</text>\n<text text-anchor=\"start\" x=\"3651.5\" y=\"-3265.8\" font-family=\"Helvetica,sans-Serif\" font-size=\"14.00\" fill=\"#000000\">gini = 0.5</text>\n<text text-anchor=\"start\" x=\"3629\" y=\"-3250.8\" font-family=\"Helvetica,sans-Serif\" font-size=\"14.00\" fill=\"#000000\">samples = 6519</text>\n<text text-anchor=\"start\" x=\"3614.5\" y=\"-3235.8\" font-family=\"Helvetica,sans-Serif\" font-size=\"14.00\" fill=\"#000000\">value = [3233, 3286]</text>\n</g>\n<!-- 1 -->\n<g id=\"node2\" class=\"node\">\n<title>1</title>\n<path fill=\"#f2c19e\" stroke=\"#000000\" d=\"M3546.5,-3066C3546.5,-3066 3397.5,-3066 3397.5,-3066 3391.5,-3066 3385.5,-3060 3385.5,-3054 3385.5,-3054 3385.5,-3010 3385.5,-3010 3385.5,-3004 3391.5,-2998 3397.5,-2998 3397.5,-2998 3546.5,-2998 3546.5,-2998 3552.5,-2998 3558.5,-3004 3558.5,-3010 3558.5,-3010 3558.5,-3054 3558.5,-3054 3558.5,-3060 3552.5,-3066 3546.5,-3066\"/>\n<text text-anchor=\"start\" x=\"3393.5\" y=\"-3050.8\" font-family=\"Helvetica,sans-Serif\" font-size=\"14.00\" fill=\"#000000\">LogRoomService ≤ 5.85</text>\n<text text-anchor=\"start\" x=\"3438.5\" y=\"-3035.8\" font-family=\"Helvetica,sans-Serif\" font-size=\"14.00\" fill=\"#000000\">gini = 0.45</text>\n<text text-anchor=\"start\" x=\"3420\" y=\"-3020.8\" font-family=\"Helvetica,sans-Serif\" font-size=\"14.00\" fill=\"#000000\">samples = 4267</text>\n<text text-anchor=\"start\" x=\"3405.5\" y=\"-3005.8\" font-family=\"Helvetica,sans-Serif\" font-size=\"14.00\" fill=\"#000000\">value = [2825, 1442]</text>\n</g>\n<!-- 0&#45;&gt;1 -->\n<g id=\"edge1\" class=\"edge\">\n<title>0&#45;&gt;1</title>\n<path fill=\"none\" stroke=\"#000000\" d=\"M3649.7106,-3227.5667C3612.4341,-3186.5447 3550.181,-3118.0365 3510.1261,-3073.9569\"/>\n<polygon fill=\"#000000\" stroke=\"#000000\" points=\"3512.477,-3071.3396 3503.1615,-3066.2926 3507.2964,-3076.0473 3512.477,-3071.3396\"/>\n<text text-anchor=\"middle\" x=\"3501.967\" y=\"-3087.564\" font-family=\"Helvetica,sans-Serif\" font-size=\"14.00\" fill=\"#000000\">True</text>\n</g>\n<!-- 120 -->\n<g id=\"node121\" class=\"node\">\n<title>120</title>\n<path fill=\"#65b3eb\" stroke=\"#000000\" d=\"M4030,-3066C4030,-3066 3912,-3066 3912,-3066 3906,-3066 3900,-3060 3900,-3054 3900,-3054 3900,-3010 3900,-3010 3900,-3004 3906,-2998 3912,-2998 3912,-2998 4030,-2998 4030,-2998 4036,-2998 4042,-3004 4042,-3010 4042,-3010 4042,-3054 4042,-3054 4042,-3060 4036,-3066 4030,-3066\"/>\n<text text-anchor=\"start\" x=\"3908\" y=\"-3050.8\" font-family=\"Helvetica,sans-Serif\" font-size=\"14.00\" fill=\"#000000\">CabinNumber ≤ 0.5</text>\n<text text-anchor=\"start\" x=\"3941.5\" y=\"-3035.8\" font-family=\"Helvetica,sans-Serif\" font-size=\"14.00\" fill=\"#000000\">gini = 0.3</text>\n<text text-anchor=\"start\" x=\"3919\" y=\"-3020.8\" font-family=\"Helvetica,sans-Serif\" font-size=\"14.00\" fill=\"#000000\">samples = 2252</text>\n<text text-anchor=\"start\" x=\"3909\" y=\"-3005.8\" font-family=\"Helvetica,sans-Serif\" font-size=\"14.00\" fill=\"#000000\">value = [408, 1844]</text>\n</g>\n<!-- 0&#45;&gt;120 -->\n<g id=\"edge120\" class=\"edge\">\n<title>0&#45;&gt;120</title>\n<path fill=\"none\" stroke=\"#000000\" d=\"M3724.1028,-3227.815C3776.2871,-3186.4274 3864.0761,-3116.8017 3919.6959,-3072.6895\"/>\n<polygon fill=\"#000000\" stroke=\"#000000\" points=\"3922.0005,-3075.3289 3927.6606,-3066.3726 3917.6507,-3069.8444 3922.0005,-3075.3289\"/>\n<text text-anchor=\"middle\" x=\"3924.795\" y=\"-3087.5079\" font-family=\"Helvetica,sans-Serif\" font-size=\"14.00\" fill=\"#000000\">False</text>\n</g>\n<!-- 2 -->\n<g id=\"node3\" class=\"node\">\n<title>2</title>\n<path fill=\"#f6d4bc\" stroke=\"#000000\" d=\"M2781.5,-2836C2781.5,-2836 2656.5,-2836 2656.5,-2836 2650.5,-2836 2644.5,-2830 2644.5,-2824 2644.5,-2824 2644.5,-2780 2644.5,-2780 2644.5,-2774 2650.5,-2768 2656.5,-2768 2656.5,-2768 2781.5,-2768 2781.5,-2768 2787.5,-2768 2793.5,-2774 2793.5,-2780 2793.5,-2780 2793.5,-2824 2793.5,-2824 2793.5,-2830 2787.5,-2836 2781.5,-2836\"/>\n<text text-anchor=\"start\" x=\"2671.5\" y=\"-2820.8\" font-family=\"Helvetica,sans-Serif\" font-size=\"14.00\" fill=\"#000000\">LogSpa ≤ 5.33</text>\n<text text-anchor=\"start\" x=\"2685.5\" y=\"-2805.8\" font-family=\"Helvetica,sans-Serif\" font-size=\"14.00\" fill=\"#000000\">gini = 0.48</text>\n<text text-anchor=\"start\" x=\"2667\" y=\"-2790.8\" font-family=\"Helvetica,sans-Serif\" font-size=\"14.00\" fill=\"#000000\">samples = 3188</text>\n<text text-anchor=\"start\" x=\"2652.5\" y=\"-2775.8\" font-family=\"Helvetica,sans-Serif\" font-size=\"14.00\" fill=\"#000000\">value = [1919, 1269]</text>\n</g>\n<!-- 1&#45;&gt;2 -->\n<g id=\"edge2\" class=\"edge\">\n<title>1&#45;&gt;2</title>\n<path fill=\"none\" stroke=\"#000000\" d=\"M3385.2538,-3005.5038C3239.5213,-2960.9906 2947.3875,-2871.7598 2803.307,-2827.7512\"/>\n<polygon fill=\"#000000\" stroke=\"#000000\" points=\"2804.1997,-2824.3643 2793.6135,-2824.7903 2802.1548,-2831.0589 2804.1997,-2824.3643\"/>\n</g>\n<!-- 91 -->\n<g id=\"node92\" class=\"node\">\n<title>91</title>\n<path fill=\"#ea995f\" stroke=\"#000000\" d=\"M3537,-2836C3537,-2836 3407,-2836 3407,-2836 3401,-2836 3395,-2830 3395,-2824 3395,-2824 3395,-2780 3395,-2780 3395,-2774 3401,-2768 3407,-2768 3407,-2768 3537,-2768 3537,-2768 3543,-2768 3549,-2774 3549,-2780 3549,-2780 3549,-2824 3549,-2824 3549,-2830 3543,-2836 3537,-2836\"/>\n<text text-anchor=\"start\" x=\"3403\" y=\"-2820.8\" font-family=\"Helvetica,sans-Serif\" font-size=\"14.00\" fill=\"#000000\">LogFoodCourt ≤ 7.07</text>\n<text text-anchor=\"start\" x=\"3438.5\" y=\"-2805.8\" font-family=\"Helvetica,sans-Serif\" font-size=\"14.00\" fill=\"#000000\">gini = 0.27</text>\n<text text-anchor=\"start\" x=\"3420\" y=\"-2790.8\" font-family=\"Helvetica,sans-Serif\" font-size=\"14.00\" fill=\"#000000\">samples = 1079</text>\n<text text-anchor=\"start\" x=\"3414\" y=\"-2775.8\" font-family=\"Helvetica,sans-Serif\" font-size=\"14.00\" fill=\"#000000\">value = [906, 173]</text>\n</g>\n<!-- 1&#45;&gt;91 -->\n<g id=\"edge91\" class=\"edge\">\n<title>1&#45;&gt;91</title>\n<path fill=\"none\" stroke=\"#000000\" d=\"M3472,-2997.5667C3472,-2957.3091 3472,-2890.5801 3472,-2846.4461\"/>\n<polygon fill=\"#000000\" stroke=\"#000000\" points=\"3475.5001,-2846.2925 3472,-2836.2926 3468.5001,-2846.2926 3475.5001,-2846.2925\"/>\n</g>\n<!-- 3 -->\n<g id=\"node4\" class=\"node\">\n<title>3</title>\n<path fill=\"#fffffe\" stroke=\"#000000\" d=\"M1668.5,-2606C1668.5,-2606 1543.5,-2606 1543.5,-2606 1537.5,-2606 1531.5,-2600 1531.5,-2594 1531.5,-2594 1531.5,-2550 1531.5,-2550 1531.5,-2544 1537.5,-2538 1543.5,-2538 1543.5,-2538 1668.5,-2538 1668.5,-2538 1674.5,-2538 1680.5,-2544 1680.5,-2550 1680.5,-2550 1680.5,-2594 1680.5,-2594 1680.5,-2600 1674.5,-2606 1668.5,-2606\"/>\n<text text-anchor=\"start\" x=\"1544.5\" y=\"-2590.8\" font-family=\"Helvetica,sans-Serif\" font-size=\"14.00\" fill=\"#000000\">LogVRDeck ≤ 5.86</text>\n<text text-anchor=\"start\" x=\"1576.5\" y=\"-2575.8\" font-family=\"Helvetica,sans-Serif\" font-size=\"14.00\" fill=\"#000000\">gini = 0.5</text>\n<text text-anchor=\"start\" x=\"1554\" y=\"-2560.8\" font-family=\"Helvetica,sans-Serif\" font-size=\"14.00\" fill=\"#000000\">samples = 2131</text>\n<text text-anchor=\"start\" x=\"1539.5\" y=\"-2545.8\" font-family=\"Helvetica,sans-Serif\" font-size=\"14.00\" fill=\"#000000\">value = [1067, 1064]</text>\n</g>\n<!-- 2&#45;&gt;3 -->\n<g id=\"edge3\" class=\"edge\">\n<title>2&#45;&gt;3</title>\n<path fill=\"none\" stroke=\"#000000\" d=\"M2644.2447,-2786.5519C2444.8736,-2745.3521 1901.3724,-2633.0383 1690.8667,-2589.5376\"/>\n<polygon fill=\"#000000\" stroke=\"#000000\" points=\"1691.2966,-2586.0526 1680.7952,-2587.4563 1689.8799,-2592.9077 1691.2966,-2586.0526\"/>\n</g>\n<!-- 62 -->\n<g id=\"node63\" class=\"node\">\n<title>62</title>\n<path fill=\"#eb9f69\" stroke=\"#000000\" d=\"M2784,-2606C2784,-2606 2654,-2606 2654,-2606 2648,-2606 2642,-2600 2642,-2594 2642,-2594 2642,-2550 2642,-2550 2642,-2544 2648,-2538 2654,-2538 2654,-2538 2784,-2538 2784,-2538 2790,-2538 2796,-2544 2796,-2550 2796,-2550 2796,-2594 2796,-2594 2796,-2600 2790,-2606 2784,-2606\"/>\n<text text-anchor=\"start\" x=\"2650\" y=\"-2590.8\" font-family=\"Helvetica,sans-Serif\" font-size=\"14.00\" fill=\"#000000\">LogFoodCourt ≤ 7.86</text>\n<text text-anchor=\"start\" x=\"2685.5\" y=\"-2575.8\" font-family=\"Helvetica,sans-Serif\" font-size=\"14.00\" fill=\"#000000\">gini = 0.31</text>\n<text text-anchor=\"start\" x=\"2667\" y=\"-2560.8\" font-family=\"Helvetica,sans-Serif\" font-size=\"14.00\" fill=\"#000000\">samples = 1057</text>\n<text text-anchor=\"start\" x=\"2661\" y=\"-2545.8\" font-family=\"Helvetica,sans-Serif\" font-size=\"14.00\" fill=\"#000000\">value = [852, 205]</text>\n</g>\n<!-- 2&#45;&gt;62 -->\n<g id=\"edge62\" class=\"edge\">\n<title>2&#45;&gt;62</title>\n<path fill=\"none\" stroke=\"#000000\" d=\"M2719,-2767.5667C2719,-2727.3091 2719,-2660.5801 2719,-2616.4461\"/>\n<polygon fill=\"#000000\" stroke=\"#000000\" points=\"2722.5001,-2616.2925 2719,-2606.2926 2715.5001,-2616.2926 2722.5001,-2616.2925\"/>\n</g>\n<!-- 4 -->\n<g id=\"node5\" class=\"node\">\n<title>4</title>\n<path fill=\"#b5daf5\" stroke=\"#000000\" d=\"M1302,-2376C1302,-2376 1184,-2376 1184,-2376 1178,-2376 1172,-2370 1172,-2364 1172,-2364 1172,-2320 1172,-2320 1172,-2314 1178,-2308 1184,-2308 1184,-2308 1302,-2308 1302,-2308 1308,-2308 1314,-2314 1314,-2320 1314,-2320 1314,-2364 1314,-2364 1314,-2370 1308,-2376 1302,-2376\"/>\n<text text-anchor=\"start\" x=\"1180\" y=\"-2360.8\" font-family=\"Helvetica,sans-Serif\" font-size=\"14.00\" fill=\"#000000\">CabinNumber ≤ 0.5</text>\n<text text-anchor=\"start\" x=\"1209.5\" y=\"-2345.8\" font-family=\"Helvetica,sans-Serif\" font-size=\"14.00\" fill=\"#000000\">gini = 0.47</text>\n<text text-anchor=\"start\" x=\"1191\" y=\"-2330.8\" font-family=\"Helvetica,sans-Serif\" font-size=\"14.00\" fill=\"#000000\">samples = 1520</text>\n<text text-anchor=\"start\" x=\"1185\" y=\"-2315.8\" font-family=\"Helvetica,sans-Serif\" font-size=\"14.00\" fill=\"#000000\">value = [585, 935]</text>\n</g>\n<!-- 3&#45;&gt;4 -->\n<g id=\"edge4\" class=\"edge\">\n<title>3&#45;&gt;4</title>\n<path fill=\"none\" stroke=\"#000000\" d=\"M1552.0472,-2537.815C1486.2305,-2496.113 1375.167,-2425.7422 1305.6388,-2381.6885\"/>\n<polygon fill=\"#000000\" stroke=\"#000000\" points=\"1307.2729,-2378.5805 1296.9524,-2376.1847 1303.5263,-2384.4935 1307.2729,-2378.5805\"/>\n</g>\n<!-- 45 -->\n<g id=\"node46\" class=\"node\">\n<title>45</title>\n<path fill=\"#eca36e\" stroke=\"#000000\" d=\"M1671,-2376C1671,-2376 1541,-2376 1541,-2376 1535,-2376 1529,-2370 1529,-2364 1529,-2364 1529,-2320 1529,-2320 1529,-2314 1535,-2308 1541,-2308 1541,-2308 1671,-2308 1671,-2308 1677,-2308 1683,-2314 1683,-2320 1683,-2320 1683,-2364 1683,-2364 1683,-2370 1677,-2376 1671,-2376\"/>\n<text text-anchor=\"start\" x=\"1537\" y=\"-2360.8\" font-family=\"Helvetica,sans-Serif\" font-size=\"14.00\" fill=\"#000000\">LogFoodCourt ≤ 8.03</text>\n<text text-anchor=\"start\" x=\"1572.5\" y=\"-2345.8\" font-family=\"Helvetica,sans-Serif\" font-size=\"14.00\" fill=\"#000000\">gini = 0.33</text>\n<text text-anchor=\"start\" x=\"1558\" y=\"-2330.8\" font-family=\"Helvetica,sans-Serif\" font-size=\"14.00\" fill=\"#000000\">samples = 611</text>\n<text text-anchor=\"start\" x=\"1548\" y=\"-2315.8\" font-family=\"Helvetica,sans-Serif\" font-size=\"14.00\" fill=\"#000000\">value = [482, 129]</text>\n</g>\n<!-- 3&#45;&gt;45 -->\n<g id=\"edge45\" class=\"edge\">\n<title>3&#45;&gt;45</title>\n<path fill=\"none\" stroke=\"#000000\" d=\"M1606,-2537.5667C1606,-2497.3091 1606,-2430.5801 1606,-2386.4461\"/>\n<polygon fill=\"#000000\" stroke=\"#000000\" points=\"1609.5001,-2386.2925 1606,-2376.2926 1602.5001,-2386.2926 1609.5001,-2386.2925\"/>\n</g>\n<!-- 5 -->\n<g id=\"node6\" class=\"node\">\n<title>5</title>\n<path fill=\"#e2f1fb\" stroke=\"#000000\" d=\"M1079.5,-2146C1079.5,-2146 964.5,-2146 964.5,-2146 958.5,-2146 952.5,-2140 952.5,-2134 952.5,-2134 952.5,-2090 952.5,-2090 952.5,-2084 958.5,-2078 964.5,-2078 964.5,-2078 1079.5,-2078 1079.5,-2078 1085.5,-2078 1091.5,-2084 1091.5,-2090 1091.5,-2090 1091.5,-2134 1091.5,-2134 1091.5,-2140 1085.5,-2146 1079.5,-2146\"/>\n<text text-anchor=\"start\" x=\"960.5\" y=\"-2130.8\" font-family=\"Helvetica,sans-Serif\" font-size=\"14.00\" fill=\"#000000\">LogVRDeck ≤ 4.92</text>\n<text text-anchor=\"start\" x=\"992.5\" y=\"-2115.8\" font-family=\"Helvetica,sans-Serif\" font-size=\"14.00\" fill=\"#000000\">gini = 0.5</text>\n<text text-anchor=\"start\" x=\"970\" y=\"-2100.8\" font-family=\"Helvetica,sans-Serif\" font-size=\"14.00\" fill=\"#000000\">samples = 1075</text>\n<text text-anchor=\"start\" x=\"964\" y=\"-2085.8\" font-family=\"Helvetica,sans-Serif\" font-size=\"14.00\" fill=\"#000000\">value = [495, 580]</text>\n</g>\n<!-- 4&#45;&gt;5 -->\n<g id=\"edge5\" class=\"edge\">\n<title>4&#45;&gt;5</title>\n<path fill=\"none\" stroke=\"#000000\" d=\"M1209.9141,-2307.5667C1170.4157,-2266.4598 1104.3972,-2197.7527 1062.0524,-2153.6835\"/>\n<polygon fill=\"#000000\" stroke=\"#000000\" points=\"1064.4031,-2151.0783 1054.9507,-2146.2926 1059.3555,-2155.9284 1064.4031,-2151.0783\"/>\n</g>\n<!-- 34 -->\n<g id=\"node35\" class=\"node\">\n<title>34</title>\n<path fill=\"#6bb6ec\" stroke=\"#000000\" d=\"M1308,-2146C1308,-2146 1178,-2146 1178,-2146 1172,-2146 1166,-2140 1166,-2134 1166,-2134 1166,-2090 1166,-2090 1166,-2084 1172,-2078 1178,-2078 1178,-2078 1308,-2078 1308,-2078 1314,-2078 1320,-2084 1320,-2090 1320,-2090 1320,-2134 1320,-2134 1320,-2140 1314,-2146 1308,-2146\"/>\n<text text-anchor=\"start\" x=\"1174\" y=\"-2130.8\" font-family=\"Helvetica,sans-Serif\" font-size=\"14.00\" fill=\"#000000\">LogFoodCourt ≤ 7.42</text>\n<text text-anchor=\"start\" x=\"1209.5\" y=\"-2115.8\" font-family=\"Helvetica,sans-Serif\" font-size=\"14.00\" fill=\"#000000\">gini = 0.32</text>\n<text text-anchor=\"start\" x=\"1195\" y=\"-2100.8\" font-family=\"Helvetica,sans-Serif\" font-size=\"14.00\" fill=\"#000000\">samples = 445</text>\n<text text-anchor=\"start\" x=\"1189\" y=\"-2085.8\" font-family=\"Helvetica,sans-Serif\" font-size=\"14.00\" fill=\"#000000\">value = [90, 355]</text>\n</g>\n<!-- 4&#45;&gt;34 -->\n<g id=\"edge34\" class=\"edge\">\n<title>4&#45;&gt;34</title>\n<path fill=\"none\" stroke=\"#000000\" d=\"M1243,-2307.5667C1243,-2267.3091 1243,-2200.5801 1243,-2156.4461\"/>\n<polygon fill=\"#000000\" stroke=\"#000000\" points=\"1246.5001,-2156.2925 1243,-2146.2926 1239.5001,-2156.2926 1246.5001,-2156.2925\"/>\n</g>\n<!-- 6 -->\n<g id=\"node7\" class=\"node\">\n<title>6</title>\n<path fill=\"#d3e9f9\" stroke=\"#000000\" d=\"M933.5,-1916C933.5,-1916 784.5,-1916 784.5,-1916 778.5,-1916 772.5,-1910 772.5,-1904 772.5,-1904 772.5,-1860 772.5,-1860 772.5,-1854 778.5,-1848 784.5,-1848 784.5,-1848 933.5,-1848 933.5,-1848 939.5,-1848 945.5,-1854 945.5,-1860 945.5,-1860 945.5,-1904 945.5,-1904 945.5,-1910 939.5,-1916 933.5,-1916\"/>\n<text text-anchor=\"start\" x=\"780.5\" y=\"-1900.8\" font-family=\"Helvetica,sans-Serif\" font-size=\"14.00\" fill=\"#000000\">LogShoppingMall ≤ 6.77</text>\n<text text-anchor=\"start\" x=\"825.5\" y=\"-1885.8\" font-family=\"Helvetica,sans-Serif\" font-size=\"14.00\" fill=\"#000000\">gini = 0.49</text>\n<text text-anchor=\"start\" x=\"811\" y=\"-1870.8\" font-family=\"Helvetica,sans-Serif\" font-size=\"14.00\" fill=\"#000000\">samples = 989</text>\n<text text-anchor=\"start\" x=\"801\" y=\"-1855.8\" font-family=\"Helvetica,sans-Serif\" font-size=\"14.00\" fill=\"#000000\">value = [432, 557]</text>\n</g>\n<!-- 5&#45;&gt;6 -->\n<g id=\"edge6\" class=\"edge\">\n<title>5&#45;&gt;6</title>\n<path fill=\"none\" stroke=\"#000000\" d=\"M997.5973,-2077.5667C968.6455,-2036.7146 920.3755,-1968.6034 889.1237,-1924.5058\"/>\n<polygon fill=\"#000000\" stroke=\"#000000\" points=\"891.9408,-1922.4277 883.303,-1916.2926 886.2296,-1926.4752 891.9408,-1922.4277\"/>\n</g>\n<!-- 33 -->\n<g id=\"node34\" class=\"node\">\n<title>33</title>\n<path fill=\"#eeaf81\" stroke=\"#000000\" d=\"M1068,-1908.5C1068,-1908.5 976,-1908.5 976,-1908.5 970,-1908.5 964,-1902.5 964,-1896.5 964,-1896.5 964,-1867.5 964,-1867.5 964,-1861.5 970,-1855.5 976,-1855.5 976,-1855.5 1068,-1855.5 1068,-1855.5 1074,-1855.5 1080,-1861.5 1080,-1867.5 1080,-1867.5 1080,-1896.5 1080,-1896.5 1080,-1902.5 1074,-1908.5 1068,-1908.5\"/>\n<text text-anchor=\"start\" x=\"988.5\" y=\"-1893.3\" font-family=\"Helvetica,sans-Serif\" font-size=\"14.00\" fill=\"#000000\">gini = 0.39</text>\n<text text-anchor=\"start\" x=\"978\" y=\"-1878.3\" font-family=\"Helvetica,sans-Serif\" font-size=\"14.00\" fill=\"#000000\">samples = 86</text>\n<text text-anchor=\"start\" x=\"972\" y=\"-1863.3\" font-family=\"Helvetica,sans-Serif\" font-size=\"14.00\" fill=\"#000000\">value = [63, 23]</text>\n</g>\n<!-- 5&#45;&gt;33 -->\n<g id=\"edge33\" class=\"edge\">\n<title>5&#45;&gt;33</title>\n<path fill=\"none\" stroke=\"#000000\" d=\"M1022,-2077.5667C1022,-2034.9628 1022,-1962.7121 1022,-1918.9695\"/>\n<polygon fill=\"#000000\" stroke=\"#000000\" points=\"1025.5001,-1918.7635 1022,-1908.7635 1018.5001,-1918.7636 1025.5001,-1918.7635\"/>\n</g>\n<!-- 7 -->\n<g id=\"node8\" class=\"node\">\n<title>7</title>\n<path fill=\"#e2f1fb\" stroke=\"#000000\" d=\"M778,-1686C778,-1686 648,-1686 648,-1686 642,-1686 636,-1680 636,-1674 636,-1674 636,-1630 636,-1630 636,-1624 642,-1618 648,-1618 648,-1618 778,-1618 778,-1618 784,-1618 790,-1624 790,-1630 790,-1630 790,-1674 790,-1674 790,-1680 784,-1686 778,-1686\"/>\n<text text-anchor=\"start\" x=\"644\" y=\"-1670.8\" font-family=\"Helvetica,sans-Serif\" font-size=\"14.00\" fill=\"#000000\">LogFoodCourt ≤ 7.19</text>\n<text text-anchor=\"start\" x=\"683.5\" y=\"-1655.8\" font-family=\"Helvetica,sans-Serif\" font-size=\"14.00\" fill=\"#000000\">gini = 0.5</text>\n<text text-anchor=\"start\" x=\"665\" y=\"-1640.8\" font-family=\"Helvetica,sans-Serif\" font-size=\"14.00\" fill=\"#000000\">samples = 890</text>\n<text text-anchor=\"start\" x=\"655\" y=\"-1625.8\" font-family=\"Helvetica,sans-Serif\" font-size=\"14.00\" fill=\"#000000\">value = [410, 480]</text>\n</g>\n<!-- 6&#45;&gt;7 -->\n<g id=\"edge7\" class=\"edge\">\n<title>6&#45;&gt;7</title>\n<path fill=\"none\" stroke=\"#000000\" d=\"M837.1423,-1847.5667C811.264,-1806.7995 768.154,-1738.8865 740.1567,-1694.7811\"/>\n<polygon fill=\"#000000\" stroke=\"#000000\" points=\"743.0826,-1692.8595 734.7683,-1686.2926 737.1727,-1696.611 743.0826,-1692.8595\"/>\n</g>\n<!-- 32 -->\n<g id=\"node33\" class=\"node\">\n<title>32</title>\n<path fill=\"#72b9ec\" stroke=\"#000000\" d=\"M912,-1678.5C912,-1678.5 820,-1678.5 820,-1678.5 814,-1678.5 808,-1672.5 808,-1666.5 808,-1666.5 808,-1637.5 808,-1637.5 808,-1631.5 814,-1625.5 820,-1625.5 820,-1625.5 912,-1625.5 912,-1625.5 918,-1625.5 924,-1631.5 924,-1637.5 924,-1637.5 924,-1666.5 924,-1666.5 924,-1672.5 918,-1678.5 912,-1678.5\"/>\n<text text-anchor=\"start\" x=\"832.5\" y=\"-1663.3\" font-family=\"Helvetica,sans-Serif\" font-size=\"14.00\" fill=\"#000000\">gini = 0.35</text>\n<text text-anchor=\"start\" x=\"822\" y=\"-1648.3\" font-family=\"Helvetica,sans-Serif\" font-size=\"14.00\" fill=\"#000000\">samples = 99</text>\n<text text-anchor=\"start\" x=\"816\" y=\"-1633.3\" font-family=\"Helvetica,sans-Serif\" font-size=\"14.00\" fill=\"#000000\">value = [22, 77]</text>\n</g>\n<!-- 6&#45;&gt;32 -->\n<g id=\"edge32\" class=\"edge\">\n<title>6&#45;&gt;32</title>\n<path fill=\"none\" stroke=\"#000000\" d=\"M860.048,-1847.5667C861.3446,-1804.9628 863.5435,-1732.7121 864.8748,-1688.9695\"/>\n<polygon fill=\"#000000\" stroke=\"#000000\" points=\"868.3795,-1688.8654 865.1855,-1678.7635 861.3828,-1688.6524 868.3795,-1688.8654\"/>\n</g>\n<!-- 8 -->\n<g id=\"node9\" class=\"node\">\n<title>8</title>\n<path fill=\"#eff7fd\" stroke=\"#000000\" d=\"M698,-1456C698,-1456 590,-1456 590,-1456 584,-1456 578,-1450 578,-1444 578,-1444 578,-1400 578,-1400 578,-1394 584,-1388 590,-1388 590,-1388 698,-1388 698,-1388 704,-1388 710,-1394 710,-1400 710,-1400 710,-1444 710,-1444 710,-1450 704,-1456 698,-1456\"/>\n<text text-anchor=\"start\" x=\"611.5\" y=\"-1440.8\" font-family=\"Helvetica,sans-Serif\" font-size=\"14.00\" fill=\"#000000\">Side ≤ 0.5</text>\n<text text-anchor=\"start\" x=\"614.5\" y=\"-1425.8\" font-family=\"Helvetica,sans-Serif\" font-size=\"14.00\" fill=\"#000000\">gini = 0.5</text>\n<text text-anchor=\"start\" x=\"596\" y=\"-1410.8\" font-family=\"Helvetica,sans-Serif\" font-size=\"14.00\" fill=\"#000000\">samples = 840</text>\n<text text-anchor=\"start\" x=\"586\" y=\"-1395.8\" font-family=\"Helvetica,sans-Serif\" font-size=\"14.00\" fill=\"#000000\">value = [402, 438]</text>\n</g>\n<!-- 7&#45;&gt;8 -->\n<g id=\"edge8\" class=\"edge\">\n<title>7&#45;&gt;8</title>\n<path fill=\"none\" stroke=\"#000000\" d=\"M702.67,-1617.5667C690.5418,-1577.1392 670.405,-1510.0165 657.1666,-1465.8887\"/>\n<polygon fill=\"#000000\" stroke=\"#000000\" points=\"660.5137,-1464.8651 654.2878,-1456.2926 653.8089,-1466.8766 660.5137,-1464.8651\"/>\n</g>\n<!-- 31 -->\n<g id=\"node32\" class=\"node\">\n<title>31</title>\n<path fill=\"#5fb0ea\" stroke=\"#000000\" d=\"M823.5,-1448.5C823.5,-1448.5 740.5,-1448.5 740.5,-1448.5 734.5,-1448.5 728.5,-1442.5 728.5,-1436.5 728.5,-1436.5 728.5,-1407.5 728.5,-1407.5 728.5,-1401.5 734.5,-1395.5 740.5,-1395.5 740.5,-1395.5 823.5,-1395.5 823.5,-1395.5 829.5,-1395.5 835.5,-1401.5 835.5,-1407.5 835.5,-1407.5 835.5,-1436.5 835.5,-1436.5 835.5,-1442.5 829.5,-1448.5 823.5,-1448.5\"/>\n<text text-anchor=\"start\" x=\"748.5\" y=\"-1433.3\" font-family=\"Helvetica,sans-Serif\" font-size=\"14.00\" fill=\"#000000\">gini = 0.27</text>\n<text text-anchor=\"start\" x=\"738\" y=\"-1418.3\" font-family=\"Helvetica,sans-Serif\" font-size=\"14.00\" fill=\"#000000\">samples = 50</text>\n<text text-anchor=\"start\" x=\"736.5\" y=\"-1403.3\" font-family=\"Helvetica,sans-Serif\" font-size=\"14.00\" fill=\"#000000\">value = [8, 42]</text>\n</g>\n<!-- 7&#45;&gt;31 -->\n<g id=\"edge31\" class=\"edge\">\n<title>7&#45;&gt;31</title>\n<path fill=\"none\" stroke=\"#000000\" d=\"M723.33,-1617.5667C736.1652,-1574.7827 757.9698,-1502.1005 771.0751,-1458.4162\"/>\n<polygon fill=\"#000000\" stroke=\"#000000\" points=\"774.4498,-1459.3475 773.9709,-1448.7635 767.745,-1457.336 774.4498,-1459.3475\"/>\n</g>\n<!-- 9 -->\n<g id=\"node10\" class=\"node\">\n<title>9</title>\n<path fill=\"#fae5d6\" stroke=\"#000000\" d=\"M623,-1226C623,-1226 515,-1226 515,-1226 509,-1226 503,-1220 503,-1214 503,-1214 503,-1170 503,-1170 503,-1164 509,-1158 515,-1158 515,-1158 623,-1158 623,-1158 629,-1158 635,-1164 635,-1170 635,-1170 635,-1214 635,-1214 635,-1220 629,-1226 623,-1226\"/>\n<text text-anchor=\"start\" x=\"521.5\" y=\"-1210.8\" font-family=\"Helvetica,sans-Serif\" font-size=\"14.00\" fill=\"#000000\">LogSpa ≤ 3.45</text>\n<text text-anchor=\"start\" x=\"535.5\" y=\"-1195.8\" font-family=\"Helvetica,sans-Serif\" font-size=\"14.00\" fill=\"#000000\">gini = 0.49</text>\n<text text-anchor=\"start\" x=\"521\" y=\"-1180.8\" font-family=\"Helvetica,sans-Serif\" font-size=\"14.00\" fill=\"#000000\">samples = 402</text>\n<text text-anchor=\"start\" x=\"511\" y=\"-1165.8\" font-family=\"Helvetica,sans-Serif\" font-size=\"14.00\" fill=\"#000000\">value = [224, 178]</text>\n</g>\n<!-- 8&#45;&gt;9 -->\n<g id=\"edge9\" class=\"edge\">\n<title>8&#45;&gt;9</title>\n<path fill=\"none\" stroke=\"#000000\" d=\"M632.7717,-1387.5667C619.5889,-1347.1392 597.701,-1280.0165 583.3115,-1235.8887\"/>\n<polygon fill=\"#000000\" stroke=\"#000000\" points=\"586.6102,-1234.7148 580.1824,-1226.2926 579.9551,-1236.885 586.6102,-1234.7148\"/>\n</g>\n<!-- 20 -->\n<g id=\"node21\" class=\"node\">\n<title>20</title>\n<path fill=\"#c1e0f7\" stroke=\"#000000\" d=\"M773,-1226C773,-1226 665,-1226 665,-1226 659,-1226 653,-1220 653,-1214 653,-1214 653,-1170 653,-1170 653,-1164 659,-1158 665,-1158 665,-1158 773,-1158 773,-1158 779,-1158 785,-1164 785,-1170 785,-1170 785,-1214 785,-1214 785,-1220 779,-1226 773,-1226\"/>\n<text text-anchor=\"start\" x=\"668.5\" y=\"-1210.8\" font-family=\"Helvetica,sans-Serif\" font-size=\"14.00\" fill=\"#000000\">Group ≤ 2096.5</text>\n<text text-anchor=\"start\" x=\"685.5\" y=\"-1195.8\" font-family=\"Helvetica,sans-Serif\" font-size=\"14.00\" fill=\"#000000\">gini = 0.48</text>\n<text text-anchor=\"start\" x=\"671\" y=\"-1180.8\" font-family=\"Helvetica,sans-Serif\" font-size=\"14.00\" fill=\"#000000\">samples = 438</text>\n<text text-anchor=\"start\" x=\"661\" y=\"-1165.8\" font-family=\"Helvetica,sans-Serif\" font-size=\"14.00\" fill=\"#000000\">value = [178, 260]</text>\n</g>\n<!-- 8&#45;&gt;20 -->\n<g id=\"edge20\" class=\"edge\">\n<title>8&#45;&gt;20</title>\n<path fill=\"none\" stroke=\"#000000\" d=\"M655.2283,-1387.5667C668.4111,-1347.1392 690.299,-1280.0165 704.6885,-1235.8887\"/>\n<polygon fill=\"#000000\" stroke=\"#000000\" points=\"708.0449,-1236.885 707.8176,-1226.2926 701.3898,-1234.7148 708.0449,-1236.885\"/>\n</g>\n<!-- 10 -->\n<g id=\"node11\" class=\"node\">\n<title>10</title>\n<path fill=\"#fcf0e8\" stroke=\"#000000\" d=\"M487.5,-996C487.5,-996 338.5,-996 338.5,-996 332.5,-996 326.5,-990 326.5,-984 326.5,-984 326.5,-940 326.5,-940 326.5,-934 332.5,-928 338.5,-928 338.5,-928 487.5,-928 487.5,-928 493.5,-928 499.5,-934 499.5,-940 499.5,-940 499.5,-984 499.5,-984 499.5,-990 493.5,-996 487.5,-996\"/>\n<text text-anchor=\"start\" x=\"334.5\" y=\"-980.8\" font-family=\"Helvetica,sans-Serif\" font-size=\"14.00\" fill=\"#000000\">LogRoomService ≤ 3.64</text>\n<text text-anchor=\"start\" x=\"383.5\" y=\"-965.8\" font-family=\"Helvetica,sans-Serif\" font-size=\"14.00\" fill=\"#000000\">gini = 0.5</text>\n<text text-anchor=\"start\" x=\"365\" y=\"-950.8\" font-family=\"Helvetica,sans-Serif\" font-size=\"14.00\" fill=\"#000000\">samples = 352</text>\n<text text-anchor=\"start\" x=\"355\" y=\"-935.8\" font-family=\"Helvetica,sans-Serif\" font-size=\"14.00\" fill=\"#000000\">value = [187, 165]</text>\n</g>\n<!-- 9&#45;&gt;10 -->\n<g id=\"edge10\" class=\"edge\">\n<title>9&#45;&gt;10</title>\n<path fill=\"none\" stroke=\"#000000\" d=\"M545.6452,-1157.5667C517.9944,-1116.7995 471.9317,-1048.8865 442.0168,-1004.7811\"/>\n<polygon fill=\"#000000\" stroke=\"#000000\" points=\"444.7692,-1002.6039 436.2593,-996.2926 438.976,-1006.5332 444.7692,-1002.6039\"/>\n</g>\n<!-- 19 -->\n<g id=\"node20\" class=\"node\">\n<title>19</title>\n<path fill=\"#eead7f\" stroke=\"#000000\" d=\"M622,-988.5C622,-988.5 530,-988.5 530,-988.5 524,-988.5 518,-982.5 518,-976.5 518,-976.5 518,-947.5 518,-947.5 518,-941.5 524,-935.5 530,-935.5 530,-935.5 622,-935.5 622,-935.5 628,-935.5 634,-941.5 634,-947.5 634,-947.5 634,-976.5 634,-976.5 634,-982.5 628,-988.5 622,-988.5\"/>\n<text text-anchor=\"start\" x=\"542.5\" y=\"-973.3\" font-family=\"Helvetica,sans-Serif\" font-size=\"14.00\" fill=\"#000000\">gini = 0.38</text>\n<text text-anchor=\"start\" x=\"532\" y=\"-958.3\" font-family=\"Helvetica,sans-Serif\" font-size=\"14.00\" fill=\"#000000\">samples = 50</text>\n<text text-anchor=\"start\" x=\"526\" y=\"-943.3\" font-family=\"Helvetica,sans-Serif\" font-size=\"14.00\" fill=\"#000000\">value = [37, 13]</text>\n</g>\n<!-- 9&#45;&gt;19 -->\n<g id=\"edge19\" class=\"edge\">\n<title>9&#45;&gt;19</title>\n<path fill=\"none\" stroke=\"#000000\" d=\"M570.048,-1157.5667C571.3446,-1114.9628 573.5435,-1042.7121 574.8748,-998.9695\"/>\n<polygon fill=\"#000000\" stroke=\"#000000\" points=\"578.3795,-998.8654 575.1855,-988.7635 571.3828,-998.6524 578.3795,-998.8654\"/>\n</g>\n<!-- 11 -->\n<g id=\"node12\" class=\"node\">\n<title>11</title>\n<path fill=\"#fefcfa\" stroke=\"#000000\" d=\"M340.5,-766C340.5,-766 191.5,-766 191.5,-766 185.5,-766 179.5,-760 179.5,-754 179.5,-754 179.5,-710 179.5,-710 179.5,-704 185.5,-698 191.5,-698 191.5,-698 340.5,-698 340.5,-698 346.5,-698 352.5,-704 352.5,-710 352.5,-710 352.5,-754 352.5,-754 352.5,-760 346.5,-766 340.5,-766\"/>\n<text text-anchor=\"start\" x=\"187.5\" y=\"-750.8\" font-family=\"Helvetica,sans-Serif\" font-size=\"14.00\" fill=\"#000000\">LogShoppingMall ≤ 5.74</text>\n<text text-anchor=\"start\" x=\"236.5\" y=\"-735.8\" font-family=\"Helvetica,sans-Serif\" font-size=\"14.00\" fill=\"#000000\">gini = 0.5</text>\n<text text-anchor=\"start\" x=\"218\" y=\"-720.8\" font-family=\"Helvetica,sans-Serif\" font-size=\"14.00\" fill=\"#000000\">samples = 296</text>\n<text text-anchor=\"start\" x=\"208\" y=\"-705.8\" font-family=\"Helvetica,sans-Serif\" font-size=\"14.00\" fill=\"#000000\">value = [150, 146]</text>\n</g>\n<!-- 10&#45;&gt;11 -->\n<g id=\"edge11\" class=\"edge\">\n<title>10&#45;&gt;11</title>\n<path fill=\"none\" stroke=\"#000000\" d=\"M390.9926,-927.5667C364.9371,-886.7995 321.5318,-818.8865 293.3427,-774.7811\"/>\n<polygon fill=\"#000000\" stroke=\"#000000\" points=\"296.2519,-772.8337 287.9174,-766.2926 290.3537,-776.6035 296.2519,-772.8337\"/>\n</g>\n<!-- 18 -->\n<g id=\"node19\" class=\"node\">\n<title>18</title>\n<path fill=\"#f2c29f\" stroke=\"#000000\" d=\"M475,-758.5C475,-758.5 383,-758.5 383,-758.5 377,-758.5 371,-752.5 371,-746.5 371,-746.5 371,-717.5 371,-717.5 371,-711.5 377,-705.5 383,-705.5 383,-705.5 475,-705.5 475,-705.5 481,-705.5 487,-711.5 487,-717.5 487,-717.5 487,-746.5 487,-746.5 487,-752.5 481,-758.5 475,-758.5\"/>\n<text text-anchor=\"start\" x=\"395.5\" y=\"-743.3\" font-family=\"Helvetica,sans-Serif\" font-size=\"14.00\" fill=\"#000000\">gini = 0.45</text>\n<text text-anchor=\"start\" x=\"385\" y=\"-728.3\" font-family=\"Helvetica,sans-Serif\" font-size=\"14.00\" fill=\"#000000\">samples = 56</text>\n<text text-anchor=\"start\" x=\"379\" y=\"-713.3\" font-family=\"Helvetica,sans-Serif\" font-size=\"14.00\" fill=\"#000000\">value = [37, 19]</text>\n</g>\n<!-- 10&#45;&gt;18 -->\n<g id=\"edge18\" class=\"edge\">\n<title>10&#45;&gt;18</title>\n<path fill=\"none\" stroke=\"#000000\" d=\"M415.3954,-927.5667C418.3591,-884.9628 423.3852,-812.7121 426.4282,-768.9695\"/>\n<polygon fill=\"#000000\" stroke=\"#000000\" points=\"429.9357,-768.9823 427.1382,-758.7635 422.9526,-768.4965 429.9357,-768.9823\"/>\n</g>\n<!-- 12 -->\n<g id=\"node13\" class=\"node\">\n<title>12</title>\n<path fill=\"#fbe9dd\" stroke=\"#000000\" d=\"M253,-536C253,-536 131,-536 131,-536 125,-536 119,-530 119,-524 119,-524 119,-480 119,-480 119,-474 125,-468 131,-468 131,-468 253,-468 253,-468 259,-468 265,-474 265,-480 265,-480 265,-524 265,-524 265,-530 259,-536 253,-536\"/>\n<text text-anchor=\"start\" x=\"127\" y=\"-520.8\" font-family=\"Helvetica,sans-Serif\" font-size=\"14.00\" fill=\"#000000\">LogFoodCourt ≤ 6.5</text>\n<text text-anchor=\"start\" x=\"162.5\" y=\"-505.8\" font-family=\"Helvetica,sans-Serif\" font-size=\"14.00\" fill=\"#000000\">gini = 0.5</text>\n<text text-anchor=\"start\" x=\"144\" y=\"-490.8\" font-family=\"Helvetica,sans-Serif\" font-size=\"14.00\" fill=\"#000000\">samples = 214</text>\n<text text-anchor=\"start\" x=\"138\" y=\"-475.8\" font-family=\"Helvetica,sans-Serif\" font-size=\"14.00\" fill=\"#000000\">value = [117, 97]</text>\n</g>\n<!-- 11&#45;&gt;12 -->\n<g id=\"edge12\" class=\"edge\">\n<title>11&#45;&gt;12</title>\n<path fill=\"none\" stroke=\"#000000\" d=\"M254.9215,-697.5667C241.9144,-657.1392 220.3184,-590.0165 206.1207,-545.8887\"/>\n<polygon fill=\"#000000\" stroke=\"#000000\" points=\"209.4279,-544.74 203.0333,-536.2926 202.7643,-546.884 209.4279,-544.74\"/>\n</g>\n<!-- 17 -->\n<g id=\"node18\" class=\"node\">\n<title>17</title>\n<path fill=\"#bedff7\" stroke=\"#000000\" d=\"M387,-528.5C387,-528.5 295,-528.5 295,-528.5 289,-528.5 283,-522.5 283,-516.5 283,-516.5 283,-487.5 283,-487.5 283,-481.5 289,-475.5 295,-475.5 295,-475.5 387,-475.5 387,-475.5 393,-475.5 399,-481.5 399,-487.5 399,-487.5 399,-516.5 399,-516.5 399,-522.5 393,-528.5 387,-528.5\"/>\n<text text-anchor=\"start\" x=\"307.5\" y=\"-513.3\" font-family=\"Helvetica,sans-Serif\" font-size=\"14.00\" fill=\"#000000\">gini = 0.48</text>\n<text text-anchor=\"start\" x=\"297\" y=\"-498.3\" font-family=\"Helvetica,sans-Serif\" font-size=\"14.00\" fill=\"#000000\">samples = 82</text>\n<text text-anchor=\"start\" x=\"291\" y=\"-483.3\" font-family=\"Helvetica,sans-Serif\" font-size=\"14.00\" fill=\"#000000\">value = [33, 49]</text>\n</g>\n<!-- 11&#45;&gt;17 -->\n<g id=\"edge17\" class=\"edge\">\n<title>11&#45;&gt;17</title>\n<path fill=\"none\" stroke=\"#000000\" d=\"M277.2283,-697.5667C291.1796,-654.7827 314.8803,-582.1005 329.1252,-538.4162\"/>\n<polygon fill=\"#000000\" stroke=\"#000000\" points=\"332.5,-539.3559 332.2728,-528.7635 325.8449,-537.1857 332.5,-539.3559\"/>\n</g>\n<!-- 13 -->\n<g id=\"node14\" class=\"node\">\n<title>13</title>\n<path fill=\"#f7dac5\" stroke=\"#000000\" d=\"M171,-306C171,-306 79,-306 79,-306 73,-306 67,-300 67,-294 67,-294 67,-250 67,-250 67,-244 73,-238 79,-238 79,-238 171,-238 171,-238 177,-238 183,-244 183,-250 183,-250 183,-294 183,-294 183,-300 177,-306 171,-306\"/>\n<text text-anchor=\"start\" x=\"94\" y=\"-290.8\" font-family=\"Helvetica,sans-Serif\" font-size=\"14.00\" fill=\"#000000\">Age ≤ 6.5</text>\n<text text-anchor=\"start\" x=\"91.5\" y=\"-275.8\" font-family=\"Helvetica,sans-Serif\" font-size=\"14.00\" fill=\"#000000\">gini = 0.49</text>\n<text text-anchor=\"start\" x=\"77\" y=\"-260.8\" font-family=\"Helvetica,sans-Serif\" font-size=\"14.00\" fill=\"#000000\">samples = 164</text>\n<text text-anchor=\"start\" x=\"75\" y=\"-245.8\" font-family=\"Helvetica,sans-Serif\" font-size=\"14.00\" fill=\"#000000\">value = [96, 68]</text>\n</g>\n<!-- 12&#45;&gt;13 -->\n<g id=\"edge13\" class=\"edge\">\n<title>12&#45;&gt;13</title>\n<path fill=\"none\" stroke=\"#000000\" d=\"M181.9694,-467.5667C170.2175,-427.2242 150.7217,-360.2984 137.8661,-316.1671\"/>\n<polygon fill=\"#000000\" stroke=\"#000000\" points=\"141.1468,-314.9146 134.9896,-306.2926 134.4261,-316.8724 141.1468,-314.9146\"/>\n</g>\n<!-- 16 -->\n<g id=\"node17\" class=\"node\">\n<title>16</title>\n<path fill=\"#c8e4f8\" stroke=\"#000000\" d=\"M305,-298.5C305,-298.5 213,-298.5 213,-298.5 207,-298.5 201,-292.5 201,-286.5 201,-286.5 201,-257.5 201,-257.5 201,-251.5 207,-245.5 213,-245.5 213,-245.5 305,-245.5 305,-245.5 311,-245.5 317,-251.5 317,-257.5 317,-257.5 317,-286.5 317,-286.5 317,-292.5 311,-298.5 305,-298.5\"/>\n<text text-anchor=\"start\" x=\"225.5\" y=\"-283.3\" font-family=\"Helvetica,sans-Serif\" font-size=\"14.00\" fill=\"#000000\">gini = 0.49</text>\n<text text-anchor=\"start\" x=\"215\" y=\"-268.3\" font-family=\"Helvetica,sans-Serif\" font-size=\"14.00\" fill=\"#000000\">samples = 50</text>\n<text text-anchor=\"start\" x=\"209\" y=\"-253.3\" font-family=\"Helvetica,sans-Serif\" font-size=\"14.00\" fill=\"#000000\">value = [21, 29]</text>\n</g>\n<!-- 12&#45;&gt;16 -->\n<g id=\"edge16\" class=\"edge\">\n<title>12&#45;&gt;16</title>\n<path fill=\"none\" stroke=\"#000000\" d=\"M202.0306,-467.5667C214.4937,-424.7827 235.6664,-352.1005 248.3918,-308.4162\"/>\n<polygon fill=\"#000000\" stroke=\"#000000\" points=\"251.7671,-309.3434 251.2037,-298.7635 245.0465,-307.3856 251.7671,-309.3434\"/>\n</g>\n<!-- 14 -->\n<g id=\"node15\" class=\"node\">\n<title>14</title>\n<path fill=\"#eef7fd\" stroke=\"#000000\" d=\"M104,-85.5C104,-85.5 12,-85.5 12,-85.5 6,-85.5 0,-79.5 0,-73.5 0,-73.5 0,-44.5 0,-44.5 0,-38.5 6,-32.5 12,-32.5 12,-32.5 104,-32.5 104,-32.5 110,-32.5 116,-38.5 116,-44.5 116,-44.5 116,-73.5 116,-73.5 116,-79.5 110,-85.5 104,-85.5\"/>\n<text text-anchor=\"start\" x=\"28.5\" y=\"-70.3\" font-family=\"Helvetica,sans-Serif\" font-size=\"14.00\" fill=\"#000000\">gini = 0.5</text>\n<text text-anchor=\"start\" x=\"14\" y=\"-55.3\" font-family=\"Helvetica,sans-Serif\" font-size=\"14.00\" fill=\"#000000\">samples = 67</text>\n<text text-anchor=\"start\" x=\"8\" y=\"-40.3\" font-family=\"Helvetica,sans-Serif\" font-size=\"14.00\" fill=\"#000000\">value = [32, 35]</text>\n</g>\n<!-- 13&#45;&gt;14 -->\n<g id=\"edge14\" class=\"edge\">\n<title>13&#45;&gt;14</title>\n<path fill=\"none\" stroke=\"#000000\" d=\"M114.2353,-237.7779C101.9589,-198.75 81.97,-135.203 69.4249,-95.3209\"/>\n<polygon fill=\"#000000\" stroke=\"#000000\" points=\"72.7444,-94.2095 66.4051,-85.7206 66.067,-96.31 72.7444,-94.2095\"/>\n</g>\n<!-- 15 -->\n<g id=\"node16\" class=\"node\">\n<title>15</title>\n<path fill=\"#f2c29f\" stroke=\"#000000\" d=\"M238,-85.5C238,-85.5 146,-85.5 146,-85.5 140,-85.5 134,-79.5 134,-73.5 134,-73.5 134,-44.5 134,-44.5 134,-38.5 140,-32.5 146,-32.5 146,-32.5 238,-32.5 238,-32.5 244,-32.5 250,-38.5 250,-44.5 250,-44.5 250,-73.5 250,-73.5 250,-79.5 244,-85.5 238,-85.5\"/>\n<text text-anchor=\"start\" x=\"158.5\" y=\"-70.3\" font-family=\"Helvetica,sans-Serif\" font-size=\"14.00\" fill=\"#000000\">gini = 0.45</text>\n<text text-anchor=\"start\" x=\"148\" y=\"-55.3\" font-family=\"Helvetica,sans-Serif\" font-size=\"14.00\" fill=\"#000000\">samples = 97</text>\n<text text-anchor=\"start\" x=\"142\" y=\"-40.3\" font-family=\"Helvetica,sans-Serif\" font-size=\"14.00\" fill=\"#000000\">value = [64, 33]</text>\n</g>\n<!-- 13&#45;&gt;15 -->\n<g id=\"edge15\" class=\"edge\">\n<title>13&#45;&gt;15</title>\n<path fill=\"none\" stroke=\"#000000\" d=\"M135.7647,-237.7779C148.0411,-198.75 168.03,-135.203 180.5751,-95.3209\"/>\n<polygon fill=\"#000000\" stroke=\"#000000\" points=\"183.933,-96.31 183.5949,-85.7206 177.2556,-94.2095 183.933,-96.31\"/>\n</g>\n<!-- 21 -->\n<g id=\"node22\" class=\"node\">\n<title>21</title>\n<path fill=\"#fae7d9\" stroke=\"#000000\" d=\"M761.5,-996C761.5,-996 668.5,-996 668.5,-996 662.5,-996 656.5,-990 656.5,-984 656.5,-984 656.5,-940 656.5,-940 656.5,-934 662.5,-928 668.5,-928 668.5,-928 761.5,-928 761.5,-928 767.5,-928 773.5,-934 773.5,-940 773.5,-940 773.5,-984 773.5,-984 773.5,-990 767.5,-996 761.5,-996\"/>\n<text text-anchor=\"start\" x=\"664.5\" y=\"-980.8\" font-family=\"Helvetica,sans-Serif\" font-size=\"14.00\" fill=\"#000000\">Group ≤ 1107.5</text>\n<text text-anchor=\"start\" x=\"681.5\" y=\"-965.8\" font-family=\"Helvetica,sans-Serif\" font-size=\"14.00\" fill=\"#000000\">gini = 0.49</text>\n<text text-anchor=\"start\" x=\"667\" y=\"-950.8\" font-family=\"Helvetica,sans-Serif\" font-size=\"14.00\" fill=\"#000000\">samples = 150</text>\n<text text-anchor=\"start\" x=\"665\" y=\"-935.8\" font-family=\"Helvetica,sans-Serif\" font-size=\"14.00\" fill=\"#000000\">value = [83, 67]</text>\n</g>\n<!-- 20&#45;&gt;21 -->\n<g id=\"edge21\" class=\"edge\">\n<title>20&#45;&gt;21</title>\n<path fill=\"none\" stroke=\"#000000\" d=\"M718.4012,-1157.5667C717.701,-1117.3091 716.5405,-1050.5801 715.773,-1006.4461\"/>\n<polygon fill=\"#000000\" stroke=\"#000000\" points=\"719.2698,-1006.2302 715.5964,-996.2926 712.2709,-1006.352 719.2698,-1006.2302\"/>\n</g>\n<!-- 24 -->\n<g id=\"node25\" class=\"node\">\n<title>24</title>\n<path fill=\"#9acdf2\" stroke=\"#000000\" d=\"M904,-996C904,-996 804,-996 804,-996 798,-996 792,-990 792,-984 792,-984 792,-940 792,-940 792,-934 798,-928 804,-928 804,-928 904,-928 904,-928 910,-928 916,-934 916,-940 916,-940 916,-984 916,-984 916,-990 910,-996 904,-996\"/>\n<text text-anchor=\"start\" x=\"803.5\" y=\"-980.8\" font-family=\"Helvetica,sans-Serif\" font-size=\"14.00\" fill=\"#000000\">Group ≤ 5254.0</text>\n<text text-anchor=\"start\" x=\"820.5\" y=\"-965.8\" font-family=\"Helvetica,sans-Serif\" font-size=\"14.00\" fill=\"#000000\">gini = 0.44</text>\n<text text-anchor=\"start\" x=\"806\" y=\"-950.8\" font-family=\"Helvetica,sans-Serif\" font-size=\"14.00\" fill=\"#000000\">samples = 288</text>\n<text text-anchor=\"start\" x=\"800\" y=\"-935.8\" font-family=\"Helvetica,sans-Serif\" font-size=\"14.00\" fill=\"#000000\">value = [95, 193]</text>\n</g>\n<!-- 20&#45;&gt;24 -->\n<g id=\"edge24\" class=\"edge\">\n<title>20&#45;&gt;24</title>\n<path fill=\"none\" stroke=\"#000000\" d=\"M739.2109,-1157.5667C763.0896,-1116.8844 802.8354,-1049.1694 828.7274,-1005.0571\"/>\n<polygon fill=\"#000000\" stroke=\"#000000\" points=\"831.8282,-1006.6885 833.8718,-996.2926 825.7912,-1003.145 831.8282,-1006.6885\"/>\n</g>\n<!-- 22 -->\n<g id=\"node23\" class=\"node\">\n<title>22</title>\n<path fill=\"#f6fbfe\" stroke=\"#000000\" d=\"M628,-758.5C628,-758.5 536,-758.5 536,-758.5 530,-758.5 524,-752.5 524,-746.5 524,-746.5 524,-717.5 524,-717.5 524,-711.5 530,-705.5 536,-705.5 536,-705.5 628,-705.5 628,-705.5 634,-705.5 640,-711.5 640,-717.5 640,-717.5 640,-746.5 640,-746.5 640,-752.5 634,-758.5 628,-758.5\"/>\n<text text-anchor=\"start\" x=\"552.5\" y=\"-743.3\" font-family=\"Helvetica,sans-Serif\" font-size=\"14.00\" fill=\"#000000\">gini = 0.5</text>\n<text text-anchor=\"start\" x=\"538\" y=\"-728.3\" font-family=\"Helvetica,sans-Serif\" font-size=\"14.00\" fill=\"#000000\">samples = 88</text>\n<text text-anchor=\"start\" x=\"532\" y=\"-713.3\" font-family=\"Helvetica,sans-Serif\" font-size=\"14.00\" fill=\"#000000\">value = [43, 45]</text>\n</g>\n<!-- 21&#45;&gt;22 -->\n<g id=\"edge22\" class=\"edge\">\n<title>21&#45;&gt;22</title>\n<path fill=\"none\" stroke=\"#000000\" d=\"M695.0886,-927.5667C670.192,-884.5125 627.7874,-811.1812 602.5814,-767.592\"/>\n<polygon fill=\"#000000\" stroke=\"#000000\" points=\"605.5122,-765.6683 597.4763,-758.7635 599.4524,-769.1725 605.5122,-765.6683\"/>\n</g>\n<!-- 23 -->\n<g id=\"node24\" class=\"node\">\n<title>23</title>\n<path fill=\"#f3c6a6\" stroke=\"#000000\" d=\"M762,-758.5C762,-758.5 670,-758.5 670,-758.5 664,-758.5 658,-752.5 658,-746.5 658,-746.5 658,-717.5 658,-717.5 658,-711.5 664,-705.5 670,-705.5 670,-705.5 762,-705.5 762,-705.5 768,-705.5 774,-711.5 774,-717.5 774,-717.5 774,-746.5 774,-746.5 774,-752.5 768,-758.5 762,-758.5\"/>\n<text text-anchor=\"start\" x=\"682.5\" y=\"-743.3\" font-family=\"Helvetica,sans-Serif\" font-size=\"14.00\" fill=\"#000000\">gini = 0.46</text>\n<text text-anchor=\"start\" x=\"672\" y=\"-728.3\" font-family=\"Helvetica,sans-Serif\" font-size=\"14.00\" fill=\"#000000\">samples = 62</text>\n<text text-anchor=\"start\" x=\"666\" y=\"-713.3\" font-family=\"Helvetica,sans-Serif\" font-size=\"14.00\" fill=\"#000000\">value = [40, 22]</text>\n</g>\n<!-- 21&#45;&gt;23 -->\n<g id=\"edge23\" class=\"edge\">\n<title>21&#45;&gt;23</title>\n<path fill=\"none\" stroke=\"#000000\" d=\"M715.1497,-927.5667C715.3349,-884.9628 715.6491,-812.7121 715.8393,-768.9695\"/>\n<polygon fill=\"#000000\" stroke=\"#000000\" points=\"719.34,-768.7787 715.8836,-758.7635 712.3401,-768.7482 719.34,-768.7787\"/>\n</g>\n<!-- 25 -->\n<g id=\"node26\" class=\"node\">\n<title>25</title>\n<path fill=\"#7abdee\" stroke=\"#000000\" d=\"M904,-766C904,-766 804,-766 804,-766 798,-766 792,-760 792,-754 792,-754 792,-710 792,-710 792,-704 798,-698 804,-698 804,-698 904,-698 904,-698 910,-698 916,-704 916,-710 916,-710 916,-754 916,-754 916,-760 910,-766 904,-766\"/>\n<text text-anchor=\"start\" x=\"803.5\" y=\"-750.8\" font-family=\"Helvetica,sans-Serif\" font-size=\"14.00\" fill=\"#000000\">Group ≤ 3197.5</text>\n<text text-anchor=\"start\" x=\"820.5\" y=\"-735.8\" font-family=\"Helvetica,sans-Serif\" font-size=\"14.00\" fill=\"#000000\">gini = 0.37</text>\n<text text-anchor=\"start\" x=\"806\" y=\"-720.8\" font-family=\"Helvetica,sans-Serif\" font-size=\"14.00\" fill=\"#000000\">samples = 215</text>\n<text text-anchor=\"start\" x=\"800\" y=\"-705.8\" font-family=\"Helvetica,sans-Serif\" font-size=\"14.00\" fill=\"#000000\">value = [53, 162]</text>\n</g>\n<!-- 24&#45;&gt;25 -->\n<g id=\"edge25\" class=\"edge\">\n<title>24&#45;&gt;25</title>\n<path fill=\"none\" stroke=\"#000000\" d=\"M854,-927.5667C854,-887.3091 854,-820.5801 854,-776.4461\"/>\n<polygon fill=\"#000000\" stroke=\"#000000\" points=\"857.5001,-776.2925 854,-766.2926 850.5001,-776.2926 857.5001,-776.2925\"/>\n</g>\n<!-- 30 -->\n<g id=\"node31\" class=\"node\">\n<title>30</title>\n<path fill=\"#f8decb\" stroke=\"#000000\" d=\"M1038,-758.5C1038,-758.5 946,-758.5 946,-758.5 940,-758.5 934,-752.5 934,-746.5 934,-746.5 934,-717.5 934,-717.5 934,-711.5 940,-705.5 946,-705.5 946,-705.5 1038,-705.5 1038,-705.5 1044,-705.5 1050,-711.5 1050,-717.5 1050,-717.5 1050,-746.5 1050,-746.5 1050,-752.5 1044,-758.5 1038,-758.5\"/>\n<text text-anchor=\"start\" x=\"958.5\" y=\"-743.3\" font-family=\"Helvetica,sans-Serif\" font-size=\"14.00\" fill=\"#000000\">gini = 0.49</text>\n<text text-anchor=\"start\" x=\"948\" y=\"-728.3\" font-family=\"Helvetica,sans-Serif\" font-size=\"14.00\" fill=\"#000000\">samples = 73</text>\n<text text-anchor=\"start\" x=\"942\" y=\"-713.3\" font-family=\"Helvetica,sans-Serif\" font-size=\"14.00\" fill=\"#000000\">value = [42, 31]</text>\n</g>\n<!-- 24&#45;&gt;30 -->\n<g id=\"edge30\" class=\"edge\">\n<title>24&#45;&gt;30</title>\n<path fill=\"none\" stroke=\"#000000\" d=\"M874.66,-927.5667C900.4925,-884.5125 944.4913,-811.1812 970.6448,-767.592\"/>\n<polygon fill=\"#000000\" stroke=\"#000000\" points=\"973.7981,-769.1392 975.9419,-758.7635 967.7957,-765.5377 973.7981,-769.1392\"/>\n</g>\n<!-- 26 -->\n<g id=\"node27\" class=\"node\">\n<title>26</title>\n<path fill=\"#add7f4\" stroke=\"#000000\" d=\"M831,-528.5C831,-528.5 739,-528.5 739,-528.5 733,-528.5 727,-522.5 727,-516.5 727,-516.5 727,-487.5 727,-487.5 727,-481.5 733,-475.5 739,-475.5 739,-475.5 831,-475.5 831,-475.5 837,-475.5 843,-481.5 843,-487.5 843,-487.5 843,-516.5 843,-516.5 843,-522.5 837,-528.5 831,-528.5\"/>\n<text text-anchor=\"start\" x=\"751.5\" y=\"-513.3\" font-family=\"Helvetica,sans-Serif\" font-size=\"14.00\" fill=\"#000000\">gini = 0.47</text>\n<text text-anchor=\"start\" x=\"741\" y=\"-498.3\" font-family=\"Helvetica,sans-Serif\" font-size=\"14.00\" fill=\"#000000\">samples = 81</text>\n<text text-anchor=\"start\" x=\"735\" y=\"-483.3\" font-family=\"Helvetica,sans-Serif\" font-size=\"14.00\" fill=\"#000000\">value = [30, 51]</text>\n</g>\n<!-- 25&#45;&gt;26 -->\n<g id=\"edge26\" class=\"edge\">\n<title>25&#45;&gt;26</title>\n<path fill=\"none\" stroke=\"#000000\" d=\"M843.67,-697.5667C830.8348,-654.7827 809.0302,-582.1005 795.9249,-538.4162\"/>\n<polygon fill=\"#000000\" stroke=\"#000000\" points=\"799.255,-537.336 793.0291,-528.7635 792.5502,-539.3475 799.255,-537.336\"/>\n</g>\n<!-- 27 -->\n<g id=\"node28\" class=\"node\">\n<title>27</title>\n<path fill=\"#62b1ea\" stroke=\"#000000\" d=\"M973,-536C973,-536 873,-536 873,-536 867,-536 861,-530 861,-524 861,-524 861,-480 861,-480 861,-474 867,-468 873,-468 873,-468 973,-468 973,-468 979,-468 985,-474 985,-480 985,-480 985,-524 985,-524 985,-530 979,-536 973,-536\"/>\n<text text-anchor=\"start\" x=\"888\" y=\"-520.8\" font-family=\"Helvetica,sans-Serif\" font-size=\"14.00\" fill=\"#000000\">Deck ≤ 5.5</text>\n<text text-anchor=\"start\" x=\"889.5\" y=\"-505.8\" font-family=\"Helvetica,sans-Serif\" font-size=\"14.00\" fill=\"#000000\">gini = 0.28</text>\n<text text-anchor=\"start\" x=\"875\" y=\"-490.8\" font-family=\"Helvetica,sans-Serif\" font-size=\"14.00\" fill=\"#000000\">samples = 134</text>\n<text text-anchor=\"start\" x=\"869\" y=\"-475.8\" font-family=\"Helvetica,sans-Serif\" font-size=\"14.00\" fill=\"#000000\">value = [23, 111]</text>\n</g>\n<!-- 25&#45;&gt;27 -->\n<g id=\"edge27\" class=\"edge\">\n<title>25&#45;&gt;27</title>\n<path fill=\"none\" stroke=\"#000000\" d=\"M864.33,-697.5667C876.4582,-657.1392 896.595,-590.0165 909.8334,-545.8887\"/>\n<polygon fill=\"#000000\" stroke=\"#000000\" points=\"913.1911,-546.8766 912.7122,-536.2926 906.4863,-544.8651 913.1911,-546.8766\"/>\n</g>\n<!-- 28 -->\n<g id=\"node29\" class=\"node\">\n<title>28</title>\n<path fill=\"#83c2ef\" stroke=\"#000000\" d=\"M904,-298.5C904,-298.5 812,-298.5 812,-298.5 806,-298.5 800,-292.5 800,-286.5 800,-286.5 800,-257.5 800,-257.5 800,-251.5 806,-245.5 812,-245.5 812,-245.5 904,-245.5 904,-245.5 910,-245.5 916,-251.5 916,-257.5 916,-257.5 916,-286.5 916,-286.5 916,-292.5 910,-298.5 904,-298.5\"/>\n<text text-anchor=\"start\" x=\"828.5\" y=\"-283.3\" font-family=\"Helvetica,sans-Serif\" font-size=\"14.00\" fill=\"#000000\">gini = 0.4</text>\n<text text-anchor=\"start\" x=\"814\" y=\"-268.3\" font-family=\"Helvetica,sans-Serif\" font-size=\"14.00\" fill=\"#000000\">samples = 66</text>\n<text text-anchor=\"start\" x=\"808\" y=\"-253.3\" font-family=\"Helvetica,sans-Serif\" font-size=\"14.00\" fill=\"#000000\">value = [18, 48]</text>\n</g>\n<!-- 27&#45;&gt;28 -->\n<g id=\"edge28\" class=\"edge\">\n<title>27&#45;&gt;28</title>\n<path fill=\"none\" stroke=\"#000000\" d=\"M913.2688,-467.5667C901.1777,-424.7827 880.6371,-352.1005 868.2915,-308.4162\"/>\n<polygon fill=\"#000000\" stroke=\"#000000\" points=\"871.6513,-307.4347 865.5636,-298.7635 864.9152,-309.3385 871.6513,-307.4347\"/>\n</g>\n<!-- 29 -->\n<g id=\"node30\" class=\"node\">\n<title>29</title>\n<path fill=\"#49a5e7\" stroke=\"#000000\" d=\"M1029.5,-298.5C1029.5,-298.5 946.5,-298.5 946.5,-298.5 940.5,-298.5 934.5,-292.5 934.5,-286.5 934.5,-286.5 934.5,-257.5 934.5,-257.5 934.5,-251.5 940.5,-245.5 946.5,-245.5 946.5,-245.5 1029.5,-245.5 1029.5,-245.5 1035.5,-245.5 1041.5,-251.5 1041.5,-257.5 1041.5,-257.5 1041.5,-286.5 1041.5,-286.5 1041.5,-292.5 1035.5,-298.5 1029.5,-298.5\"/>\n<text text-anchor=\"start\" x=\"954.5\" y=\"-283.3\" font-family=\"Helvetica,sans-Serif\" font-size=\"14.00\" fill=\"#000000\">gini = 0.14</text>\n<text text-anchor=\"start\" x=\"944\" y=\"-268.3\" font-family=\"Helvetica,sans-Serif\" font-size=\"14.00\" fill=\"#000000\">samples = 68</text>\n<text text-anchor=\"start\" x=\"942.5\" y=\"-253.3\" font-family=\"Helvetica,sans-Serif\" font-size=\"14.00\" fill=\"#000000\">value = [5, 63]</text>\n</g>\n<!-- 27&#45;&gt;29 -->\n<g id=\"edge29\" class=\"edge\">\n<title>27&#45;&gt;29</title>\n<path fill=\"none\" stroke=\"#000000\" d=\"M932.7312,-467.5667C944.8223,-424.7827 965.3629,-352.1005 977.7085,-308.4162\"/>\n<polygon fill=\"#000000\" stroke=\"#000000\" points=\"981.0848,-309.3385 980.4364,-298.7635 974.3487,-307.4347 981.0848,-309.3385\"/>\n</g>\n<!-- 35 -->\n<g id=\"node36\" class=\"node\">\n<title>35</title>\n<path fill=\"#7fc0ee\" stroke=\"#000000\" d=\"M1210,-1916C1210,-1916 1110,-1916 1110,-1916 1104,-1916 1098,-1910 1098,-1904 1098,-1904 1098,-1860 1098,-1860 1098,-1854 1104,-1848 1110,-1848 1110,-1848 1210,-1848 1210,-1848 1216,-1848 1222,-1854 1222,-1860 1222,-1860 1222,-1904 1222,-1904 1222,-1910 1216,-1916 1210,-1916\"/>\n<text text-anchor=\"start\" x=\"1125\" y=\"-1900.8\" font-family=\"Helvetica,sans-Serif\" font-size=\"14.00\" fill=\"#000000\">Age ≤ 12.5</text>\n<text text-anchor=\"start\" x=\"1126.5\" y=\"-1885.8\" font-family=\"Helvetica,sans-Serif\" font-size=\"14.00\" fill=\"#000000\">gini = 0.39</text>\n<text text-anchor=\"start\" x=\"1112\" y=\"-1870.8\" font-family=\"Helvetica,sans-Serif\" font-size=\"14.00\" fill=\"#000000\">samples = 344</text>\n<text text-anchor=\"start\" x=\"1106\" y=\"-1855.8\" font-family=\"Helvetica,sans-Serif\" font-size=\"14.00\" fill=\"#000000\">value = [90, 254]</text>\n</g>\n<!-- 34&#45;&gt;35 -->\n<g id=\"edge35\" class=\"edge\">\n<title>34&#45;&gt;35</title>\n<path fill=\"none\" stroke=\"#000000\" d=\"M1230.5741,-2077.5667C1215.985,-2037.1392 1191.7625,-1970.0165 1175.8381,-1925.8887\"/>\n<polygon fill=\"#000000\" stroke=\"#000000\" points=\"1179.0618,-1924.5108 1172.3751,-1916.2926 1172.4775,-1926.8869 1179.0618,-1924.5108\"/>\n</g>\n<!-- 44 -->\n<g id=\"node45\" class=\"node\">\n<title>44</title>\n<path fill=\"#399de5\" stroke=\"#000000\" d=\"M1344,-1908.5C1344,-1908.5 1252,-1908.5 1252,-1908.5 1246,-1908.5 1240,-1902.5 1240,-1896.5 1240,-1896.5 1240,-1867.5 1240,-1867.5 1240,-1861.5 1246,-1855.5 1252,-1855.5 1252,-1855.5 1344,-1855.5 1344,-1855.5 1350,-1855.5 1356,-1861.5 1356,-1867.5 1356,-1867.5 1356,-1896.5 1356,-1896.5 1356,-1902.5 1350,-1908.5 1344,-1908.5\"/>\n<text text-anchor=\"start\" x=\"1268.5\" y=\"-1893.3\" font-family=\"Helvetica,sans-Serif\" font-size=\"14.00\" fill=\"#000000\">gini = 0.0</text>\n<text text-anchor=\"start\" x=\"1250\" y=\"-1878.3\" font-family=\"Helvetica,sans-Serif\" font-size=\"14.00\" fill=\"#000000\">samples = 101</text>\n<text text-anchor=\"start\" x=\"1248\" y=\"-1863.3\" font-family=\"Helvetica,sans-Serif\" font-size=\"14.00\" fill=\"#000000\">value = [0, 101]</text>\n</g>\n<!-- 34&#45;&gt;44 -->\n<g id=\"edge44\" class=\"edge\">\n<title>34&#45;&gt;44</title>\n<path fill=\"none\" stroke=\"#000000\" d=\"M1251.2341,-2077.5667C1261.4435,-2034.8727 1278.7724,-1962.4064 1289.2257,-1918.6925\"/>\n<polygon fill=\"#000000\" stroke=\"#000000\" points=\"1292.6782,-1919.3033 1291.6,-1908.7635 1285.8702,-1917.6753 1292.6782,-1919.3033\"/>\n</g>\n<!-- 36 -->\n<g id=\"node37\" class=\"node\">\n<title>36</title>\n<path fill=\"#399de5\" stroke=\"#000000\" d=\"M1043.5,-1678.5C1043.5,-1678.5 960.5,-1678.5 960.5,-1678.5 954.5,-1678.5 948.5,-1672.5 948.5,-1666.5 948.5,-1666.5 948.5,-1637.5 948.5,-1637.5 948.5,-1631.5 954.5,-1625.5 960.5,-1625.5 960.5,-1625.5 1043.5,-1625.5 1043.5,-1625.5 1049.5,-1625.5 1055.5,-1631.5 1055.5,-1637.5 1055.5,-1637.5 1055.5,-1666.5 1055.5,-1666.5 1055.5,-1672.5 1049.5,-1678.5 1043.5,-1678.5\"/>\n<text text-anchor=\"start\" x=\"972.5\" y=\"-1663.3\" font-family=\"Helvetica,sans-Serif\" font-size=\"14.00\" fill=\"#000000\">gini = 0.0</text>\n<text text-anchor=\"start\" x=\"958\" y=\"-1648.3\" font-family=\"Helvetica,sans-Serif\" font-size=\"14.00\" fill=\"#000000\">samples = 94</text>\n<text text-anchor=\"start\" x=\"956.5\" y=\"-1633.3\" font-family=\"Helvetica,sans-Serif\" font-size=\"14.00\" fill=\"#000000\">value = [0, 94]</text>\n</g>\n<!-- 35&#45;&gt;36 -->\n<g id=\"edge36\" class=\"edge\">\n<title>35&#45;&gt;36</title>\n<path fill=\"none\" stroke=\"#000000\" d=\"M1136.3458,-1847.5667C1106.6457,-1804.3323 1055.9722,-1730.5671 1026.0753,-1687.0464\"/>\n<polygon fill=\"#000000\" stroke=\"#000000\" points=\"1028.9326,-1685.0243 1020.3854,-1678.7635 1023.1628,-1688.9879 1028.9326,-1685.0243\"/>\n</g>\n<!-- 37 -->\n<g id=\"node38\" class=\"node\">\n<title>37</title>\n<path fill=\"#a8d4f4\" stroke=\"#000000\" d=\"M1234.5,-1686C1234.5,-1686 1085.5,-1686 1085.5,-1686 1079.5,-1686 1073.5,-1680 1073.5,-1674 1073.5,-1674 1073.5,-1630 1073.5,-1630 1073.5,-1624 1079.5,-1618 1085.5,-1618 1085.5,-1618 1234.5,-1618 1234.5,-1618 1240.5,-1618 1246.5,-1624 1246.5,-1630 1246.5,-1630 1246.5,-1674 1246.5,-1674 1246.5,-1680 1240.5,-1686 1234.5,-1686\"/>\n<text text-anchor=\"start\" x=\"1081.5\" y=\"-1670.8\" font-family=\"Helvetica,sans-Serif\" font-size=\"14.00\" fill=\"#000000\">LogShoppingMall ≤ 7.13</text>\n<text text-anchor=\"start\" x=\"1126.5\" y=\"-1655.8\" font-family=\"Helvetica,sans-Serif\" font-size=\"14.00\" fill=\"#000000\">gini = 0.46</text>\n<text text-anchor=\"start\" x=\"1112\" y=\"-1640.8\" font-family=\"Helvetica,sans-Serif\" font-size=\"14.00\" fill=\"#000000\">samples = 250</text>\n<text text-anchor=\"start\" x=\"1106\" y=\"-1625.8\" font-family=\"Helvetica,sans-Serif\" font-size=\"14.00\" fill=\"#000000\">value = [90, 160]</text>\n</g>\n<!-- 35&#45;&gt;37 -->\n<g id=\"edge37\" class=\"edge\">\n<title>35&#45;&gt;37</title>\n<path fill=\"none\" stroke=\"#000000\" d=\"M1160,-1847.5667C1160,-1807.3091 1160,-1740.5801 1160,-1696.4461\"/>\n<polygon fill=\"#000000\" stroke=\"#000000\" points=\"1163.5001,-1696.2925 1160,-1686.2926 1156.5001,-1696.2926 1163.5001,-1696.2925\"/>\n</g>\n<!-- 38 -->\n<g id=\"node39\" class=\"node\">\n<title>38</title>\n<path fill=\"#cfe7f9\" stroke=\"#000000\" d=\"M1076,-1456C1076,-1456 968,-1456 968,-1456 962,-1456 956,-1450 956,-1444 956,-1444 956,-1400 956,-1400 956,-1394 962,-1388 968,-1388 968,-1388 1076,-1388 1076,-1388 1082,-1388 1088,-1394 1088,-1400 1088,-1400 1088,-1444 1088,-1444 1088,-1450 1082,-1456 1076,-1456\"/>\n<text text-anchor=\"start\" x=\"964\" y=\"-1440.8\" font-family=\"Helvetica,sans-Serif\" font-size=\"14.00\" fill=\"#000000\">HomePlanet ≤ 1.5</text>\n<text text-anchor=\"start\" x=\"988.5\" y=\"-1425.8\" font-family=\"Helvetica,sans-Serif\" font-size=\"14.00\" fill=\"#000000\">gini = 0.49</text>\n<text text-anchor=\"start\" x=\"974\" y=\"-1410.8\" font-family=\"Helvetica,sans-Serif\" font-size=\"14.00\" fill=\"#000000\">samples = 197</text>\n<text text-anchor=\"start\" x=\"968\" y=\"-1395.8\" font-family=\"Helvetica,sans-Serif\" font-size=\"14.00\" fill=\"#000000\">value = [85, 112]</text>\n</g>\n<!-- 37&#45;&gt;38 -->\n<g id=\"edge38\" class=\"edge\">\n<title>37&#45;&gt;38</title>\n<path fill=\"none\" stroke=\"#000000\" d=\"M1139.34,-1617.5667C1114.9307,-1576.8844 1074.3016,-1509.1694 1047.8343,-1465.0571\"/>\n<polygon fill=\"#000000\" stroke=\"#000000\" points=\"1050.7218,-1463.0668 1042.5755,-1456.2926 1044.7193,-1466.6683 1050.7218,-1463.0668\"/>\n</g>\n<!-- 43 -->\n<g id=\"node44\" class=\"node\">\n<title>43</title>\n<path fill=\"#4ea7e8\" stroke=\"#000000\" d=\"M1201.5,-1448.5C1201.5,-1448.5 1118.5,-1448.5 1118.5,-1448.5 1112.5,-1448.5 1106.5,-1442.5 1106.5,-1436.5 1106.5,-1436.5 1106.5,-1407.5 1106.5,-1407.5 1106.5,-1401.5 1112.5,-1395.5 1118.5,-1395.5 1118.5,-1395.5 1201.5,-1395.5 1201.5,-1395.5 1207.5,-1395.5 1213.5,-1401.5 1213.5,-1407.5 1213.5,-1407.5 1213.5,-1436.5 1213.5,-1436.5 1213.5,-1442.5 1207.5,-1448.5 1201.5,-1448.5\"/>\n<text text-anchor=\"start\" x=\"1126.5\" y=\"-1433.3\" font-family=\"Helvetica,sans-Serif\" font-size=\"14.00\" fill=\"#000000\">gini = 0.17</text>\n<text text-anchor=\"start\" x=\"1116\" y=\"-1418.3\" font-family=\"Helvetica,sans-Serif\" font-size=\"14.00\" fill=\"#000000\">samples = 53</text>\n<text text-anchor=\"start\" x=\"1114.5\" y=\"-1403.3\" font-family=\"Helvetica,sans-Serif\" font-size=\"14.00\" fill=\"#000000\">value = [5, 48]</text>\n</g>\n<!-- 37&#45;&gt;43 -->\n<g id=\"edge43\" class=\"edge\">\n<title>37&#45;&gt;43</title>\n<path fill=\"none\" stroke=\"#000000\" d=\"M1160,-1617.5667C1160,-1574.9628 1160,-1502.7121 1160,-1458.9695\"/>\n<polygon fill=\"#000000\" stroke=\"#000000\" points=\"1163.5001,-1458.7635 1160,-1448.7635 1156.5001,-1458.7636 1163.5001,-1458.7635\"/>\n</g>\n<!-- 39 -->\n<g id=\"node40\" class=\"node\">\n<title>39</title>\n<path fill=\"#73baed\" stroke=\"#000000\" d=\"M1001,-1218.5C1001,-1218.5 909,-1218.5 909,-1218.5 903,-1218.5 897,-1212.5 897,-1206.5 897,-1206.5 897,-1177.5 897,-1177.5 897,-1171.5 903,-1165.5 909,-1165.5 909,-1165.5 1001,-1165.5 1001,-1165.5 1007,-1165.5 1013,-1171.5 1013,-1177.5 1013,-1177.5 1013,-1206.5 1013,-1206.5 1013,-1212.5 1007,-1218.5 1001,-1218.5\"/>\n<text text-anchor=\"start\" x=\"921.5\" y=\"-1203.3\" font-family=\"Helvetica,sans-Serif\" font-size=\"14.00\" fill=\"#000000\">gini = 0.35</text>\n<text text-anchor=\"start\" x=\"911\" y=\"-1188.3\" font-family=\"Helvetica,sans-Serif\" font-size=\"14.00\" fill=\"#000000\">samples = 66</text>\n<text text-anchor=\"start\" x=\"905\" y=\"-1173.3\" font-family=\"Helvetica,sans-Serif\" font-size=\"14.00\" fill=\"#000000\">value = [15, 51]</text>\n</g>\n<!-- 38&#45;&gt;39 -->\n<g id=\"edge39\" class=\"edge\">\n<title>38&#45;&gt;39</title>\n<path fill=\"none\" stroke=\"#000000\" d=\"M1011.9694,-1387.5667C999.5063,-1344.7827 978.3336,-1272.1005 965.6082,-1228.4162\"/>\n<polygon fill=\"#000000\" stroke=\"#000000\" points=\"968.9535,-1227.3856 962.7963,-1218.7635 962.2329,-1229.3434 968.9535,-1227.3856\"/>\n</g>\n<!-- 40 -->\n<g id=\"node41\" class=\"node\">\n<title>40</title>\n<path fill=\"#fcefe6\" stroke=\"#000000\" d=\"M1135,-1226C1135,-1226 1043,-1226 1043,-1226 1037,-1226 1031,-1220 1031,-1214 1031,-1214 1031,-1170 1031,-1170 1031,-1164 1037,-1158 1043,-1158 1043,-1158 1135,-1158 1135,-1158 1141,-1158 1147,-1164 1147,-1170 1147,-1170 1147,-1214 1147,-1214 1147,-1220 1141,-1226 1135,-1226\"/>\n<text text-anchor=\"start\" x=\"1054\" y=\"-1210.8\" font-family=\"Helvetica,sans-Serif\" font-size=\"14.00\" fill=\"#000000\">Deck ≤ 4.5</text>\n<text text-anchor=\"start\" x=\"1059.5\" y=\"-1195.8\" font-family=\"Helvetica,sans-Serif\" font-size=\"14.00\" fill=\"#000000\">gini = 0.5</text>\n<text text-anchor=\"start\" x=\"1041\" y=\"-1180.8\" font-family=\"Helvetica,sans-Serif\" font-size=\"14.00\" fill=\"#000000\">samples = 131</text>\n<text text-anchor=\"start\" x=\"1039\" y=\"-1165.8\" font-family=\"Helvetica,sans-Serif\" font-size=\"14.00\" fill=\"#000000\">value = [70, 61]</text>\n</g>\n<!-- 38&#45;&gt;40 -->\n<g id=\"edge40\" class=\"edge\">\n<title>38&#45;&gt;40</title>\n<path fill=\"none\" stroke=\"#000000\" d=\"M1032.0306,-1387.5667C1043.7825,-1347.2242 1063.2783,-1280.2984 1076.1339,-1236.1671\"/>\n<polygon fill=\"#000000\" stroke=\"#000000\" points=\"1079.5739,-1236.8724 1079.0104,-1226.2926 1072.8532,-1234.9146 1079.5739,-1236.8724\"/>\n</g>\n<!-- 41 -->\n<g id=\"node42\" class=\"node\">\n<title>41</title>\n<path fill=\"#f3c4a2\" stroke=\"#000000\" d=\"M1087,-988.5C1087,-988.5 995,-988.5 995,-988.5 989,-988.5 983,-982.5 983,-976.5 983,-976.5 983,-947.5 983,-947.5 983,-941.5 989,-935.5 995,-935.5 995,-935.5 1087,-935.5 1087,-935.5 1093,-935.5 1099,-941.5 1099,-947.5 1099,-947.5 1099,-976.5 1099,-976.5 1099,-982.5 1093,-988.5 1087,-988.5\"/>\n<text text-anchor=\"start\" x=\"1007.5\" y=\"-973.3\" font-family=\"Helvetica,sans-Serif\" font-size=\"14.00\" fill=\"#000000\">gini = 0.45</text>\n<text text-anchor=\"start\" x=\"997\" y=\"-958.3\" font-family=\"Helvetica,sans-Serif\" font-size=\"14.00\" fill=\"#000000\">samples = 72</text>\n<text text-anchor=\"start\" x=\"991\" y=\"-943.3\" font-family=\"Helvetica,sans-Serif\" font-size=\"14.00\" fill=\"#000000\">value = [47, 25]</text>\n</g>\n<!-- 40&#45;&gt;41 -->\n<g id=\"edge41\" class=\"edge\">\n<title>40&#45;&gt;41</title>\n<path fill=\"none\" stroke=\"#000000\" d=\"M1081.8139,-1157.5667C1072.9039,-1114.8727 1057.7805,-1042.4064 1048.6576,-998.6925\"/>\n<polygon fill=\"#000000\" stroke=\"#000000\" points=\"1052.0546,-997.8376 1046.5854,-988.7635 1045.2023,-999.2677 1052.0546,-997.8376\"/>\n</g>\n<!-- 42 -->\n<g id=\"node43\" class=\"node\">\n<title>42</title>\n<path fill=\"#b8dcf6\" stroke=\"#000000\" d=\"M1221,-988.5C1221,-988.5 1129,-988.5 1129,-988.5 1123,-988.5 1117,-982.5 1117,-976.5 1117,-976.5 1117,-947.5 1117,-947.5 1117,-941.5 1123,-935.5 1129,-935.5 1129,-935.5 1221,-935.5 1221,-935.5 1227,-935.5 1233,-941.5 1233,-947.5 1233,-947.5 1233,-976.5 1233,-976.5 1233,-982.5 1227,-988.5 1221,-988.5\"/>\n<text text-anchor=\"start\" x=\"1141.5\" y=\"-973.3\" font-family=\"Helvetica,sans-Serif\" font-size=\"14.00\" fill=\"#000000\">gini = 0.48</text>\n<text text-anchor=\"start\" x=\"1131\" y=\"-958.3\" font-family=\"Helvetica,sans-Serif\" font-size=\"14.00\" fill=\"#000000\">samples = 59</text>\n<text text-anchor=\"start\" x=\"1125\" y=\"-943.3\" font-family=\"Helvetica,sans-Serif\" font-size=\"14.00\" fill=\"#000000\">value = [23, 36]</text>\n</g>\n<!-- 40&#45;&gt;42 -->\n<g id=\"edge42\" class=\"edge\">\n<title>40&#45;&gt;42</title>\n<path fill=\"none\" stroke=\"#000000\" d=\"M1101.8751,-1157.5667C1117.9062,-1114.6926 1145.1638,-1041.7944 1161.4865,-998.1407\"/>\n<polygon fill=\"#000000\" stroke=\"#000000\" points=\"1164.7687,-999.356 1164.9928,-988.7635 1158.2121,-996.9043 1164.7687,-999.356\"/>\n</g>\n<!-- 46 -->\n<g id=\"node47\" class=\"node\">\n<title>46</title>\n<path fill=\"#ea985e\" stroke=\"#000000\" d=\"M1587,-2146C1587,-2146 1487,-2146 1487,-2146 1481,-2146 1475,-2140 1475,-2134 1475,-2134 1475,-2090 1475,-2090 1475,-2084 1481,-2078 1487,-2078 1487,-2078 1587,-2078 1587,-2078 1593,-2078 1599,-2084 1599,-2090 1599,-2090 1599,-2134 1599,-2134 1599,-2140 1593,-2146 1587,-2146\"/>\n<text text-anchor=\"start\" x=\"1504.5\" y=\"-2130.8\" font-family=\"Helvetica,sans-Serif\" font-size=\"14.00\" fill=\"#000000\">Side ≤ 0.5</text>\n<text text-anchor=\"start\" x=\"1503.5\" y=\"-2115.8\" font-family=\"Helvetica,sans-Serif\" font-size=\"14.00\" fill=\"#000000\">gini = 0.26</text>\n<text text-anchor=\"start\" x=\"1489\" y=\"-2100.8\" font-family=\"Helvetica,sans-Serif\" font-size=\"14.00\" fill=\"#000000\">samples = 556</text>\n<text text-anchor=\"start\" x=\"1483\" y=\"-2085.8\" font-family=\"Helvetica,sans-Serif\" font-size=\"14.00\" fill=\"#000000\">value = [469, 87]</text>\n</g>\n<!-- 45&#45;&gt;46 -->\n<g id=\"edge46\" class=\"edge\">\n<title>45&#45;&gt;46</title>\n<path fill=\"none\" stroke=\"#000000\" d=\"M1595.67,-2307.5667C1583.5418,-2267.1392 1563.405,-2200.0165 1550.1666,-2155.8887\"/>\n<polygon fill=\"#000000\" stroke=\"#000000\" points=\"1553.5137,-2154.8651 1547.2878,-2146.2926 1546.8089,-2156.8766 1553.5137,-2154.8651\"/>\n</g>\n<!-- 61 -->\n<g id=\"node62\" class=\"node\">\n<title>61</title>\n<path fill=\"#76bbed\" stroke=\"#000000\" d=\"M1721,-2138.5C1721,-2138.5 1629,-2138.5 1629,-2138.5 1623,-2138.5 1617,-2132.5 1617,-2126.5 1617,-2126.5 1617,-2097.5 1617,-2097.5 1617,-2091.5 1623,-2085.5 1629,-2085.5 1629,-2085.5 1721,-2085.5 1721,-2085.5 1727,-2085.5 1733,-2091.5 1733,-2097.5 1733,-2097.5 1733,-2126.5 1733,-2126.5 1733,-2132.5 1727,-2138.5 1721,-2138.5\"/>\n<text text-anchor=\"start\" x=\"1641.5\" y=\"-2123.3\" font-family=\"Helvetica,sans-Serif\" font-size=\"14.00\" fill=\"#000000\">gini = 0.36</text>\n<text text-anchor=\"start\" x=\"1631\" y=\"-2108.3\" font-family=\"Helvetica,sans-Serif\" font-size=\"14.00\" fill=\"#000000\">samples = 55</text>\n<text text-anchor=\"start\" x=\"1625\" y=\"-2093.3\" font-family=\"Helvetica,sans-Serif\" font-size=\"14.00\" fill=\"#000000\">value = [13, 42]</text>\n</g>\n<!-- 45&#45;&gt;61 -->\n<g id=\"edge61\" class=\"edge\">\n<title>45&#45;&gt;61</title>\n<path fill=\"none\" stroke=\"#000000\" d=\"M1616.33,-2307.5667C1629.1652,-2264.7827 1650.9698,-2192.1005 1664.0751,-2148.4162\"/>\n<polygon fill=\"#000000\" stroke=\"#000000\" points=\"1667.4498,-2149.3475 1666.9709,-2138.7635 1660.745,-2147.336 1667.4498,-2149.3475\"/>\n</g>\n<!-- 47 -->\n<g id=\"node48\" class=\"node\">\n<title>47</title>\n<path fill=\"#e88f4f\" stroke=\"#000000\" d=\"M1511.5,-1916C1511.5,-1916 1396.5,-1916 1396.5,-1916 1390.5,-1916 1384.5,-1910 1384.5,-1904 1384.5,-1904 1384.5,-1860 1384.5,-1860 1384.5,-1854 1390.5,-1848 1396.5,-1848 1396.5,-1848 1511.5,-1848 1511.5,-1848 1517.5,-1848 1523.5,-1854 1523.5,-1860 1523.5,-1860 1523.5,-1904 1523.5,-1904 1523.5,-1910 1517.5,-1916 1511.5,-1916\"/>\n<text text-anchor=\"start\" x=\"1392.5\" y=\"-1900.8\" font-family=\"Helvetica,sans-Serif\" font-size=\"14.00\" fill=\"#000000\">LogVRDeck ≤ 7.29</text>\n<text text-anchor=\"start\" x=\"1420.5\" y=\"-1885.8\" font-family=\"Helvetica,sans-Serif\" font-size=\"14.00\" fill=\"#000000\">gini = 0.18</text>\n<text text-anchor=\"start\" x=\"1406\" y=\"-1870.8\" font-family=\"Helvetica,sans-Serif\" font-size=\"14.00\" fill=\"#000000\">samples = 283</text>\n<text text-anchor=\"start\" x=\"1400\" y=\"-1855.8\" font-family=\"Helvetica,sans-Serif\" font-size=\"14.00\" fill=\"#000000\">value = [255, 28]</text>\n</g>\n<!-- 46&#45;&gt;47 -->\n<g id=\"edge47\" class=\"edge\">\n<title>46&#45;&gt;47</title>\n<path fill=\"none\" stroke=\"#000000\" d=\"M1524.5741,-2077.5667C1509.985,-2037.1392 1485.7625,-1970.0165 1469.8381,-1925.8887\"/>\n<polygon fill=\"#000000\" stroke=\"#000000\" points=\"1473.0618,-1924.5108 1466.3751,-1916.2926 1466.4775,-1926.8869 1473.0618,-1924.5108\"/>\n</g>\n<!-- 54 -->\n<g id=\"node55\" class=\"node\">\n<title>54</title>\n<path fill=\"#eca470\" stroke=\"#000000\" d=\"M1684,-1916C1684,-1916 1554,-1916 1554,-1916 1548,-1916 1542,-1910 1542,-1904 1542,-1904 1542,-1860 1542,-1860 1542,-1854 1548,-1848 1554,-1848 1554,-1848 1684,-1848 1684,-1848 1690,-1848 1696,-1854 1696,-1860 1696,-1860 1696,-1904 1696,-1904 1696,-1910 1690,-1916 1684,-1916\"/>\n<text text-anchor=\"start\" x=\"1550\" y=\"-1900.8\" font-family=\"Helvetica,sans-Serif\" font-size=\"14.00\" fill=\"#000000\">LogFoodCourt ≤ 5.81</text>\n<text text-anchor=\"start\" x=\"1585.5\" y=\"-1885.8\" font-family=\"Helvetica,sans-Serif\" font-size=\"14.00\" fill=\"#000000\">gini = 0.34</text>\n<text text-anchor=\"start\" x=\"1571\" y=\"-1870.8\" font-family=\"Helvetica,sans-Serif\" font-size=\"14.00\" fill=\"#000000\">samples = 273</text>\n<text text-anchor=\"start\" x=\"1565\" y=\"-1855.8\" font-family=\"Helvetica,sans-Serif\" font-size=\"14.00\" fill=\"#000000\">value = [214, 59]</text>\n</g>\n<!-- 46&#45;&gt;54 -->\n<g id=\"edge54\" class=\"edge\">\n<title>46&#45;&gt;54</title>\n<path fill=\"none\" stroke=\"#000000\" d=\"M1549.2762,-2077.5667C1563.6895,-2037.1392 1587.6202,-1970.0165 1603.3527,-1925.8887\"/>\n<polygon fill=\"#000000\" stroke=\"#000000\" points=\"1606.7125,-1926.8872 1606.774,-1916.2926 1600.119,-1924.5365 1606.7125,-1926.8872\"/>\n</g>\n<!-- 48 -->\n<g id=\"node49\" class=\"node\">\n<title>48</title>\n<path fill=\"#e99355\" stroke=\"#000000\" d=\"M1380,-1686C1380,-1686 1280,-1686 1280,-1686 1274,-1686 1268,-1680 1268,-1674 1268,-1674 1268,-1630 1268,-1630 1268,-1624 1274,-1618 1280,-1618 1280,-1618 1380,-1618 1380,-1618 1386,-1618 1392,-1624 1392,-1630 1392,-1630 1392,-1674 1392,-1674 1392,-1680 1386,-1686 1380,-1686\"/>\n<text text-anchor=\"start\" x=\"1286.5\" y=\"-1670.8\" font-family=\"Helvetica,sans-Serif\" font-size=\"14.00\" fill=\"#000000\">LogSpa ≤ 2.6</text>\n<text text-anchor=\"start\" x=\"1296.5\" y=\"-1655.8\" font-family=\"Helvetica,sans-Serif\" font-size=\"14.00\" fill=\"#000000\">gini = 0.22</text>\n<text text-anchor=\"start\" x=\"1282\" y=\"-1640.8\" font-family=\"Helvetica,sans-Serif\" font-size=\"14.00\" fill=\"#000000\">samples = 216</text>\n<text text-anchor=\"start\" x=\"1276\" y=\"-1625.8\" font-family=\"Helvetica,sans-Serif\" font-size=\"14.00\" fill=\"#000000\">value = [189, 27]</text>\n</g>\n<!-- 47&#45;&gt;48 -->\n<g id=\"edge48\" class=\"edge\">\n<title>47&#45;&gt;48</title>\n<path fill=\"none\" stroke=\"#000000\" d=\"M1435.4359,-1847.5667C1413.5487,-1806.9694 1377.148,-1739.452 1353.3625,-1695.3337\"/>\n<polygon fill=\"#000000\" stroke=\"#000000\" points=\"1356.3146,-1693.4339 1348.4882,-1686.2926 1350.153,-1696.7558 1356.3146,-1693.4339\"/>\n</g>\n<!-- 53 -->\n<g id=\"node54\" class=\"node\">\n<title>53</title>\n<path fill=\"#e5833c\" stroke=\"#000000\" d=\"M1505.5,-1678.5C1505.5,-1678.5 1422.5,-1678.5 1422.5,-1678.5 1416.5,-1678.5 1410.5,-1672.5 1410.5,-1666.5 1410.5,-1666.5 1410.5,-1637.5 1410.5,-1637.5 1410.5,-1631.5 1416.5,-1625.5 1422.5,-1625.5 1422.5,-1625.5 1505.5,-1625.5 1505.5,-1625.5 1511.5,-1625.5 1517.5,-1631.5 1517.5,-1637.5 1517.5,-1637.5 1517.5,-1666.5 1517.5,-1666.5 1517.5,-1672.5 1511.5,-1678.5 1505.5,-1678.5\"/>\n<text text-anchor=\"start\" x=\"1430.5\" y=\"-1663.3\" font-family=\"Helvetica,sans-Serif\" font-size=\"14.00\" fill=\"#000000\">gini = 0.03</text>\n<text text-anchor=\"start\" x=\"1420\" y=\"-1648.3\" font-family=\"Helvetica,sans-Serif\" font-size=\"14.00\" fill=\"#000000\">samples = 67</text>\n<text text-anchor=\"start\" x=\"1418.5\" y=\"-1633.3\" font-family=\"Helvetica,sans-Serif\" font-size=\"14.00\" fill=\"#000000\">value = [66, 1]</text>\n</g>\n<!-- 47&#45;&gt;53 -->\n<g id=\"edge53\" class=\"edge\">\n<title>47&#45;&gt;53</title>\n<path fill=\"none\" stroke=\"#000000\" d=\"M1455.4971,-1847.5667C1457.3494,-1804.9628 1460.4908,-1732.7121 1462.3926,-1688.9695\"/>\n<polygon fill=\"#000000\" stroke=\"#000000\" points=\"1465.8986,-1688.9061 1462.8364,-1678.7635 1458.9052,-1688.602 1465.8986,-1688.9061\"/>\n</g>\n<!-- 49 -->\n<g id=\"node50\" class=\"node\">\n<title>49</title>\n<path fill=\"#ea985e\" stroke=\"#000000\" d=\"M1374,-1456C1374,-1456 1244,-1456 1244,-1456 1238,-1456 1232,-1450 1232,-1444 1232,-1444 1232,-1400 1232,-1400 1232,-1394 1238,-1388 1244,-1388 1244,-1388 1374,-1388 1374,-1388 1380,-1388 1386,-1394 1386,-1400 1386,-1400 1386,-1444 1386,-1444 1386,-1450 1380,-1456 1374,-1456\"/>\n<text text-anchor=\"start\" x=\"1240\" y=\"-1440.8\" font-family=\"Helvetica,sans-Serif\" font-size=\"14.00\" fill=\"#000000\">LogFoodCourt ≤ 2.01</text>\n<text text-anchor=\"start\" x=\"1275.5\" y=\"-1425.8\" font-family=\"Helvetica,sans-Serif\" font-size=\"14.00\" fill=\"#000000\">gini = 0.26</text>\n<text text-anchor=\"start\" x=\"1261\" y=\"-1410.8\" font-family=\"Helvetica,sans-Serif\" font-size=\"14.00\" fill=\"#000000\">samples = 153</text>\n<text text-anchor=\"start\" x=\"1255\" y=\"-1395.8\" font-family=\"Helvetica,sans-Serif\" font-size=\"14.00\" fill=\"#000000\">value = [129, 24]</text>\n</g>\n<!-- 48&#45;&gt;49 -->\n<g id=\"edge49\" class=\"edge\">\n<title>48&#45;&gt;49</title>\n<path fill=\"none\" stroke=\"#000000\" d=\"M1326.8561,-1617.5667C1323.1804,-1577.3091 1317.0877,-1510.5801 1313.0581,-1466.4461\"/>\n<polygon fill=\"#000000\" stroke=\"#000000\" points=\"1316.5259,-1465.9329 1312.1311,-1456.2926 1309.5549,-1466.5694 1316.5259,-1465.9329\"/>\n</g>\n<!-- 52 -->\n<g id=\"node53\" class=\"node\">\n<title>52</title>\n<path fill=\"#e68743\" stroke=\"#000000\" d=\"M1499.5,-1448.5C1499.5,-1448.5 1416.5,-1448.5 1416.5,-1448.5 1410.5,-1448.5 1404.5,-1442.5 1404.5,-1436.5 1404.5,-1436.5 1404.5,-1407.5 1404.5,-1407.5 1404.5,-1401.5 1410.5,-1395.5 1416.5,-1395.5 1416.5,-1395.5 1499.5,-1395.5 1499.5,-1395.5 1505.5,-1395.5 1511.5,-1401.5 1511.5,-1407.5 1511.5,-1407.5 1511.5,-1436.5 1511.5,-1436.5 1511.5,-1442.5 1505.5,-1448.5 1499.5,-1448.5\"/>\n<text text-anchor=\"start\" x=\"1424.5\" y=\"-1433.3\" font-family=\"Helvetica,sans-Serif\" font-size=\"14.00\" fill=\"#000000\">gini = 0.09</text>\n<text text-anchor=\"start\" x=\"1414\" y=\"-1418.3\" font-family=\"Helvetica,sans-Serif\" font-size=\"14.00\" fill=\"#000000\">samples = 63</text>\n<text text-anchor=\"start\" x=\"1412.5\" y=\"-1403.3\" font-family=\"Helvetica,sans-Serif\" font-size=\"14.00\" fill=\"#000000\">value = [60, 3]</text>\n</g>\n<!-- 48&#45;&gt;52 -->\n<g id=\"edge52\" class=\"edge\">\n<title>48&#45;&gt;52</title>\n<path fill=\"none\" stroke=\"#000000\" d=\"M1349.1629,-1617.5667C1373.1235,-1574.5125 1413.9339,-1501.1812 1438.1923,-1457.592\"/>\n<polygon fill=\"#000000\" stroke=\"#000000\" points=\"1441.3009,-1459.2035 1443.1055,-1448.7635 1435.1843,-1455.7995 1441.3009,-1459.2035\"/>\n</g>\n<!-- 50 -->\n<g id=\"node51\" class=\"node\">\n<title>50</title>\n<path fill=\"#eca16c\" stroke=\"#000000\" d=\"M1346,-1218.5C1346,-1218.5 1254,-1218.5 1254,-1218.5 1248,-1218.5 1242,-1212.5 1242,-1206.5 1242,-1206.5 1242,-1177.5 1242,-1177.5 1242,-1171.5 1248,-1165.5 1254,-1165.5 1254,-1165.5 1346,-1165.5 1346,-1165.5 1352,-1165.5 1358,-1171.5 1358,-1177.5 1358,-1177.5 1358,-1206.5 1358,-1206.5 1358,-1212.5 1352,-1218.5 1346,-1218.5\"/>\n<text text-anchor=\"start\" x=\"1266.5\" y=\"-1203.3\" font-family=\"Helvetica,sans-Serif\" font-size=\"14.00\" fill=\"#000000\">gini = 0.33</text>\n<text text-anchor=\"start\" x=\"1256\" y=\"-1188.3\" font-family=\"Helvetica,sans-Serif\" font-size=\"14.00\" fill=\"#000000\">samples = 83</text>\n<text text-anchor=\"start\" x=\"1250\" y=\"-1173.3\" font-family=\"Helvetica,sans-Serif\" font-size=\"14.00\" fill=\"#000000\">value = [66, 17]</text>\n</g>\n<!-- 49&#45;&gt;50 -->\n<g id=\"edge50\" class=\"edge\">\n<title>49&#45;&gt;50</title>\n<path fill=\"none\" stroke=\"#000000\" d=\"M1307.6526,-1387.5667C1305.9855,-1344.9628 1303.1583,-1272.7121 1301.4466,-1228.9695\"/>\n<polygon fill=\"#000000\" stroke=\"#000000\" points=\"1304.9357,-1228.619 1301.0473,-1218.7635 1297.941,-1228.8928 1304.9357,-1228.619\"/>\n</g>\n<!-- 51 -->\n<g id=\"node52\" class=\"node\">\n<title>51</title>\n<path fill=\"#e88f4f\" stroke=\"#000000\" d=\"M1471.5,-1218.5C1471.5,-1218.5 1388.5,-1218.5 1388.5,-1218.5 1382.5,-1218.5 1376.5,-1212.5 1376.5,-1206.5 1376.5,-1206.5 1376.5,-1177.5 1376.5,-1177.5 1376.5,-1171.5 1382.5,-1165.5 1388.5,-1165.5 1388.5,-1165.5 1471.5,-1165.5 1471.5,-1165.5 1477.5,-1165.5 1483.5,-1171.5 1483.5,-1177.5 1483.5,-1177.5 1483.5,-1206.5 1483.5,-1206.5 1483.5,-1212.5 1477.5,-1218.5 1471.5,-1218.5\"/>\n<text text-anchor=\"start\" x=\"1396.5\" y=\"-1203.3\" font-family=\"Helvetica,sans-Serif\" font-size=\"14.00\" fill=\"#000000\">gini = 0.18</text>\n<text text-anchor=\"start\" x=\"1386\" y=\"-1188.3\" font-family=\"Helvetica,sans-Serif\" font-size=\"14.00\" fill=\"#000000\">samples = 70</text>\n<text text-anchor=\"start\" x=\"1384.5\" y=\"-1173.3\" font-family=\"Helvetica,sans-Serif\" font-size=\"14.00\" fill=\"#000000\">value = [63, 7]</text>\n</g>\n<!-- 49&#45;&gt;51 -->\n<g id=\"edge51\" class=\"edge\">\n<title>49&#45;&gt;51</title>\n<path fill=\"none\" stroke=\"#000000\" d=\"M1327.1149,-1387.5667C1349.7178,-1344.6025 1388.1824,-1271.4879 1411.1314,-1227.8659\"/>\n<polygon fill=\"#000000\" stroke=\"#000000\" points=\"1414.3616,-1229.2431 1415.9201,-1218.7635 1408.1666,-1225.984 1414.3616,-1229.2431\"/>\n</g>\n<!-- 55 -->\n<g id=\"node56\" class=\"node\">\n<title>55</title>\n<path fill=\"#ea985d\" stroke=\"#000000\" d=\"M1655,-1686C1655,-1686 1555,-1686 1555,-1686 1549,-1686 1543,-1680 1543,-1674 1543,-1674 1543,-1630 1543,-1630 1543,-1624 1549,-1618 1555,-1618 1555,-1618 1655,-1618 1655,-1618 1661,-1618 1667,-1624 1667,-1630 1667,-1630 1667,-1674 1667,-1674 1667,-1680 1661,-1686 1655,-1686\"/>\n<text text-anchor=\"start\" x=\"1554.5\" y=\"-1670.8\" font-family=\"Helvetica,sans-Serif\" font-size=\"14.00\" fill=\"#000000\">Group ≤ 2426.0</text>\n<text text-anchor=\"start\" x=\"1571.5\" y=\"-1655.8\" font-family=\"Helvetica,sans-Serif\" font-size=\"14.00\" fill=\"#000000\">gini = 0.26</text>\n<text text-anchor=\"start\" x=\"1557\" y=\"-1640.8\" font-family=\"Helvetica,sans-Serif\" font-size=\"14.00\" fill=\"#000000\">samples = 209</text>\n<text text-anchor=\"start\" x=\"1551\" y=\"-1625.8\" font-family=\"Helvetica,sans-Serif\" font-size=\"14.00\" fill=\"#000000\">value = [177, 32]</text>\n</g>\n<!-- 54&#45;&gt;55 -->\n<g id=\"edge55\" class=\"edge\">\n<title>54&#45;&gt;55</title>\n<path fill=\"none\" stroke=\"#000000\" d=\"M1616.9041,-1847.5667C1614.4536,-1807.3091 1610.3918,-1740.5801 1607.7054,-1696.4461\"/>\n<polygon fill=\"#000000\" stroke=\"#000000\" points=\"1611.1886,-1696.0614 1607.0874,-1686.2926 1604.2015,-1696.4868 1611.1886,-1696.0614\"/>\n</g>\n<!-- 60 -->\n<g id=\"node61\" class=\"node\">\n<title>60</title>\n<path fill=\"#f8ddc9\" stroke=\"#000000\" d=\"M1789,-1678.5C1789,-1678.5 1697,-1678.5 1697,-1678.5 1691,-1678.5 1685,-1672.5 1685,-1666.5 1685,-1666.5 1685,-1637.5 1685,-1637.5 1685,-1631.5 1691,-1625.5 1697,-1625.5 1697,-1625.5 1789,-1625.5 1789,-1625.5 1795,-1625.5 1801,-1631.5 1801,-1637.5 1801,-1637.5 1801,-1666.5 1801,-1666.5 1801,-1672.5 1795,-1678.5 1789,-1678.5\"/>\n<text text-anchor=\"start\" x=\"1709.5\" y=\"-1663.3\" font-family=\"Helvetica,sans-Serif\" font-size=\"14.00\" fill=\"#000000\">gini = 0.49</text>\n<text text-anchor=\"start\" x=\"1699\" y=\"-1648.3\" font-family=\"Helvetica,sans-Serif\" font-size=\"14.00\" fill=\"#000000\">samples = 64</text>\n<text text-anchor=\"start\" x=\"1693\" y=\"-1633.3\" font-family=\"Helvetica,sans-Serif\" font-size=\"14.00\" fill=\"#000000\">value = [37, 27]</text>\n</g>\n<!-- 54&#45;&gt;60 -->\n<g id=\"edge60\" class=\"edge\">\n<title>54&#45;&gt;60</title>\n<path fill=\"none\" stroke=\"#000000\" d=\"M1637.5641,-1847.5667C1660.7759,-1804.5125 1700.311,-1731.1812 1723.8113,-1687.592\"/>\n<polygon fill=\"#000000\" stroke=\"#000000\" points=\"1726.9061,-1689.2268 1728.571,-1678.7635 1720.7446,-1685.9048 1726.9061,-1689.2268\"/>\n</g>\n<!-- 56 -->\n<g id=\"node57\" class=\"node\">\n<title>56</title>\n<path fill=\"#e78845\" stroke=\"#000000\" d=\"M1624.5,-1448.5C1624.5,-1448.5 1541.5,-1448.5 1541.5,-1448.5 1535.5,-1448.5 1529.5,-1442.5 1529.5,-1436.5 1529.5,-1436.5 1529.5,-1407.5 1529.5,-1407.5 1529.5,-1401.5 1535.5,-1395.5 1541.5,-1395.5 1541.5,-1395.5 1624.5,-1395.5 1624.5,-1395.5 1630.5,-1395.5 1636.5,-1401.5 1636.5,-1407.5 1636.5,-1407.5 1636.5,-1436.5 1636.5,-1436.5 1636.5,-1442.5 1630.5,-1448.5 1624.5,-1448.5\"/>\n<text text-anchor=\"start\" x=\"1553.5\" y=\"-1433.3\" font-family=\"Helvetica,sans-Serif\" font-size=\"14.00\" fill=\"#000000\">gini = 0.1</text>\n<text text-anchor=\"start\" x=\"1539\" y=\"-1418.3\" font-family=\"Helvetica,sans-Serif\" font-size=\"14.00\" fill=\"#000000\">samples = 72</text>\n<text text-anchor=\"start\" x=\"1537.5\" y=\"-1403.3\" font-family=\"Helvetica,sans-Serif\" font-size=\"14.00\" fill=\"#000000\">value = [68, 4]</text>\n</g>\n<!-- 55&#45;&gt;56 -->\n<g id=\"edge56\" class=\"edge\">\n<title>55&#45;&gt;56</title>\n<path fill=\"none\" stroke=\"#000000\" d=\"M1601.7064,-1617.5667C1597.6312,-1574.9628 1590.7203,-1502.7121 1586.5362,-1458.9695\"/>\n<polygon fill=\"#000000\" stroke=\"#000000\" points=\"1589.9964,-1458.3848 1585.56,-1448.7635 1583.0282,-1459.0514 1589.9964,-1458.3848\"/>\n</g>\n<!-- 57 -->\n<g id=\"node58\" class=\"node\">\n<title>57</title>\n<path fill=\"#eca16c\" stroke=\"#000000\" d=\"M1767,-1456C1767,-1456 1667,-1456 1667,-1456 1661,-1456 1655,-1450 1655,-1444 1655,-1444 1655,-1400 1655,-1400 1655,-1394 1661,-1388 1667,-1388 1667,-1388 1767,-1388 1767,-1388 1773,-1388 1779,-1394 1779,-1400 1779,-1400 1779,-1444 1779,-1444 1779,-1450 1773,-1456 1767,-1456\"/>\n<text text-anchor=\"start\" x=\"1666.5\" y=\"-1440.8\" font-family=\"Helvetica,sans-Serif\" font-size=\"14.00\" fill=\"#000000\">Group ≤ 3946.5</text>\n<text text-anchor=\"start\" x=\"1683.5\" y=\"-1425.8\" font-family=\"Helvetica,sans-Serif\" font-size=\"14.00\" fill=\"#000000\">gini = 0.33</text>\n<text text-anchor=\"start\" x=\"1669\" y=\"-1410.8\" font-family=\"Helvetica,sans-Serif\" font-size=\"14.00\" fill=\"#000000\">samples = 137</text>\n<text text-anchor=\"start\" x=\"1663\" y=\"-1395.8\" font-family=\"Helvetica,sans-Serif\" font-size=\"14.00\" fill=\"#000000\">value = [109, 28]</text>\n</g>\n<!-- 55&#45;&gt;57 -->\n<g id=\"edge57\" class=\"edge\">\n<title>55&#45;&gt;57</title>\n<path fill=\"none\" stroke=\"#000000\" d=\"M1621.7675,-1617.5667C1641.5367,-1576.9694 1674.4147,-1509.452 1695.8984,-1465.3337\"/>\n<polygon fill=\"#000000\" stroke=\"#000000\" points=\"1699.0696,-1466.8156 1700.301,-1456.2926 1692.7761,-1463.7509 1699.0696,-1466.8156\"/>\n</g>\n<!-- 58 -->\n<g id=\"node59\" class=\"node\">\n<title>58</title>\n<path fill=\"#f0b78f\" stroke=\"#000000\" d=\"M1629,-1218.5C1629,-1218.5 1537,-1218.5 1537,-1218.5 1531,-1218.5 1525,-1212.5 1525,-1206.5 1525,-1206.5 1525,-1177.5 1525,-1177.5 1525,-1171.5 1531,-1165.5 1537,-1165.5 1537,-1165.5 1629,-1165.5 1629,-1165.5 1635,-1165.5 1641,-1171.5 1641,-1177.5 1641,-1177.5 1641,-1206.5 1641,-1206.5 1641,-1212.5 1635,-1218.5 1629,-1218.5\"/>\n<text text-anchor=\"start\" x=\"1549.5\" y=\"-1203.3\" font-family=\"Helvetica,sans-Serif\" font-size=\"14.00\" fill=\"#000000\">gini = 0.42</text>\n<text text-anchor=\"start\" x=\"1539\" y=\"-1188.3\" font-family=\"Helvetica,sans-Serif\" font-size=\"14.00\" fill=\"#000000\">samples = 53</text>\n<text text-anchor=\"start\" x=\"1533\" y=\"-1173.3\" font-family=\"Helvetica,sans-Serif\" font-size=\"14.00\" fill=\"#000000\">value = [37, 16]</text>\n</g>\n<!-- 57&#45;&gt;58 -->\n<g id=\"edge58\" class=\"edge\">\n<title>57&#45;&gt;58</title>\n<path fill=\"none\" stroke=\"#000000\" d=\"M1696.9388,-1387.5667C1671.8551,-1344.5125 1629.1317,-1271.1812 1603.7362,-1227.592\"/>\n<polygon fill=\"#000000\" stroke=\"#000000\" points=\"1606.6509,-1225.6421 1598.5927,-1218.7635 1600.6026,-1229.166 1606.6509,-1225.6421\"/>\n</g>\n<!-- 59 -->\n<g id=\"node60\" class=\"node\">\n<title>59</title>\n<path fill=\"#e9965a\" stroke=\"#000000\" d=\"M1763,-1218.5C1763,-1218.5 1671,-1218.5 1671,-1218.5 1665,-1218.5 1659,-1212.5 1659,-1206.5 1659,-1206.5 1659,-1177.5 1659,-1177.5 1659,-1171.5 1665,-1165.5 1671,-1165.5 1671,-1165.5 1763,-1165.5 1763,-1165.5 1769,-1165.5 1775,-1171.5 1775,-1177.5 1775,-1177.5 1775,-1206.5 1775,-1206.5 1775,-1212.5 1769,-1218.5 1763,-1218.5\"/>\n<text text-anchor=\"start\" x=\"1683.5\" y=\"-1203.3\" font-family=\"Helvetica,sans-Serif\" font-size=\"14.00\" fill=\"#000000\">gini = 0.24</text>\n<text text-anchor=\"start\" x=\"1673\" y=\"-1188.3\" font-family=\"Helvetica,sans-Serif\" font-size=\"14.00\" fill=\"#000000\">samples = 84</text>\n<text text-anchor=\"start\" x=\"1667\" y=\"-1173.3\" font-family=\"Helvetica,sans-Serif\" font-size=\"14.00\" fill=\"#000000\">value = [72, 12]</text>\n</g>\n<!-- 57&#45;&gt;59 -->\n<g id=\"edge59\" class=\"edge\">\n<title>57&#45;&gt;59</title>\n<path fill=\"none\" stroke=\"#000000\" d=\"M1717,-1387.5667C1717,-1344.9628 1717,-1272.7121 1717,-1228.9695\"/>\n<polygon fill=\"#000000\" stroke=\"#000000\" points=\"1720.5001,-1228.7635 1717,-1218.7635 1713.5001,-1228.7636 1720.5001,-1228.7635\"/>\n</g>\n<!-- 63 -->\n<g id=\"node64\" class=\"node\">\n<title>63</title>\n<path fill=\"#ea975c\" stroke=\"#000000\" d=\"M2702,-2376C2702,-2376 2594,-2376 2594,-2376 2588,-2376 2582,-2370 2582,-2364 2582,-2364 2582,-2320 2582,-2320 2582,-2314 2588,-2308 2594,-2308 2594,-2308 2702,-2308 2702,-2308 2708,-2308 2714,-2314 2714,-2320 2714,-2320 2714,-2364 2714,-2364 2714,-2370 2708,-2376 2702,-2376\"/>\n<text text-anchor=\"start\" x=\"2604.5\" y=\"-2360.8\" font-family=\"Helvetica,sans-Serif\" font-size=\"14.00\" fill=\"#000000\">LogSpa ≤ 7.5</text>\n<text text-anchor=\"start\" x=\"2614.5\" y=\"-2345.8\" font-family=\"Helvetica,sans-Serif\" font-size=\"14.00\" fill=\"#000000\">gini = 0.25</text>\n<text text-anchor=\"start\" x=\"2600\" y=\"-2330.8\" font-family=\"Helvetica,sans-Serif\" font-size=\"14.00\" fill=\"#000000\">samples = 904</text>\n<text text-anchor=\"start\" x=\"2590\" y=\"-2315.8\" font-family=\"Helvetica,sans-Serif\" font-size=\"14.00\" fill=\"#000000\">value = [769, 135]</text>\n</g>\n<!-- 62&#45;&gt;63 -->\n<g id=\"edge63\" class=\"edge\">\n<title>62&#45;&gt;63</title>\n<path fill=\"none\" stroke=\"#000000\" d=\"M2708.3706,-2537.5667C2695.8908,-2497.1392 2675.1703,-2430.0165 2661.5482,-2385.8887\"/>\n<polygon fill=\"#000000\" stroke=\"#000000\" points=\"2664.8799,-2384.8153 2658.586,-2376.2926 2658.1914,-2386.8801 2664.8799,-2384.8153\"/>\n</g>\n<!-- 88 -->\n<g id=\"node89\" class=\"node\">\n<title>88</title>\n<path fill=\"#fbebe0\" stroke=\"#000000\" d=\"M2836,-2376C2836,-2376 2744,-2376 2744,-2376 2738,-2376 2732,-2370 2732,-2364 2732,-2364 2732,-2320 2732,-2320 2732,-2314 2738,-2308 2744,-2308 2744,-2308 2836,-2308 2836,-2308 2842,-2308 2848,-2314 2848,-2320 2848,-2320 2848,-2364 2848,-2364 2848,-2370 2842,-2376 2836,-2376\"/>\n<text text-anchor=\"start\" x=\"2742.5\" y=\"-2360.8\" font-family=\"Helvetica,sans-Serif\" font-size=\"14.00\" fill=\"#000000\">LogSpa ≤ 7.05</text>\n<text text-anchor=\"start\" x=\"2760.5\" y=\"-2345.8\" font-family=\"Helvetica,sans-Serif\" font-size=\"14.00\" fill=\"#000000\">gini = 0.5</text>\n<text text-anchor=\"start\" x=\"2742\" y=\"-2330.8\" font-family=\"Helvetica,sans-Serif\" font-size=\"14.00\" fill=\"#000000\">samples = 153</text>\n<text text-anchor=\"start\" x=\"2740\" y=\"-2315.8\" font-family=\"Helvetica,sans-Serif\" font-size=\"14.00\" fill=\"#000000\">value = [83, 70]</text>\n</g>\n<!-- 62&#45;&gt;88 -->\n<g id=\"edge88\" class=\"edge\">\n<title>62&#45;&gt;88</title>\n<path fill=\"none\" stroke=\"#000000\" d=\"M2729.6294,-2537.5667C2742.1092,-2497.1392 2762.8297,-2430.0165 2776.4518,-2385.8887\"/>\n<polygon fill=\"#000000\" stroke=\"#000000\" points=\"2779.8086,-2386.8801 2779.414,-2376.2926 2773.1201,-2384.8153 2779.8086,-2386.8801\"/>\n</g>\n<!-- 64 -->\n<g id=\"node65\" class=\"node\">\n<title>64</title>\n<path fill=\"#eb9f67\" stroke=\"#000000\" d=\"M2516,-2146C2516,-2146 2386,-2146 2386,-2146 2380,-2146 2374,-2140 2374,-2134 2374,-2134 2374,-2090 2374,-2090 2374,-2084 2380,-2078 2386,-2078 2386,-2078 2516,-2078 2516,-2078 2522,-2078 2528,-2084 2528,-2090 2528,-2090 2528,-2134 2528,-2134 2528,-2140 2522,-2146 2516,-2146\"/>\n<text text-anchor=\"start\" x=\"2382\" y=\"-2130.8\" font-family=\"Helvetica,sans-Serif\" font-size=\"14.00\" fill=\"#000000\">LogFoodCourt ≤ 5.87</text>\n<text text-anchor=\"start\" x=\"2417.5\" y=\"-2115.8\" font-family=\"Helvetica,sans-Serif\" font-size=\"14.00\" fill=\"#000000\">gini = 0.31</text>\n<text text-anchor=\"start\" x=\"2403\" y=\"-2100.8\" font-family=\"Helvetica,sans-Serif\" font-size=\"14.00\" fill=\"#000000\">samples = 684</text>\n<text text-anchor=\"start\" x=\"2393\" y=\"-2085.8\" font-family=\"Helvetica,sans-Serif\" font-size=\"14.00\" fill=\"#000000\">value = [554, 130]</text>\n</g>\n<!-- 63&#45;&gt;64 -->\n<g id=\"edge64\" class=\"edge\">\n<title>63&#45;&gt;64</title>\n<path fill=\"none\" stroke=\"#000000\" d=\"M2618.5071,-2307.5667C2583.3709,-2266.5447 2524.6922,-2198.0365 2486.937,-2153.9569\"/>\n<polygon fill=\"#000000\" stroke=\"#000000\" points=\"2489.5358,-2151.6107 2480.3723,-2146.2926 2484.2193,-2156.1643 2489.5358,-2151.6107\"/>\n</g>\n<!-- 83 -->\n<g id=\"node84\" class=\"node\">\n<title>83</title>\n<path fill=\"#e6843e\" stroke=\"#000000\" d=\"M2696,-2146C2696,-2146 2604,-2146 2604,-2146 2598,-2146 2592,-2140 2592,-2134 2592,-2134 2592,-2090 2592,-2090 2592,-2084 2598,-2078 2604,-2078 2604,-2078 2696,-2078 2696,-2078 2702,-2078 2708,-2084 2708,-2090 2708,-2090 2708,-2134 2708,-2134 2708,-2140 2702,-2146 2696,-2146\"/>\n<text text-anchor=\"start\" x=\"2602.5\" y=\"-2130.8\" font-family=\"Helvetica,sans-Serif\" font-size=\"14.00\" fill=\"#000000\">LogSpa ≤ 8.23</text>\n<text text-anchor=\"start\" x=\"2616.5\" y=\"-2115.8\" font-family=\"Helvetica,sans-Serif\" font-size=\"14.00\" fill=\"#000000\">gini = 0.04</text>\n<text text-anchor=\"start\" x=\"2602\" y=\"-2100.8\" font-family=\"Helvetica,sans-Serif\" font-size=\"14.00\" fill=\"#000000\">samples = 220</text>\n<text text-anchor=\"start\" x=\"2600\" y=\"-2085.8\" font-family=\"Helvetica,sans-Serif\" font-size=\"14.00\" fill=\"#000000\">value = [215, 5]</text>\n</g>\n<!-- 63&#45;&gt;83 -->\n<g id=\"edge83\" class=\"edge\">\n<title>63&#45;&gt;83</title>\n<path fill=\"none\" stroke=\"#000000\" d=\"M2648.2994,-2307.5667C2648.6495,-2267.3091 2649.2297,-2200.5801 2649.6135,-2156.4461\"/>\n<polygon fill=\"#000000\" stroke=\"#000000\" points=\"2653.1146,-2156.3227 2649.7018,-2146.2926 2646.1149,-2156.2617 2653.1146,-2156.3227\"/>\n</g>\n<!-- 65 -->\n<g id=\"node66\" class=\"node\">\n<title>65</title>\n<path fill=\"#e9965b\" stroke=\"#000000\" d=\"M2306,-1916C2306,-1916 2206,-1916 2206,-1916 2200,-1916 2194,-1910 2194,-1904 2194,-1904 2194,-1860 2194,-1860 2194,-1854 2200,-1848 2206,-1848 2206,-1848 2306,-1848 2306,-1848 2312,-1848 2318,-1854 2318,-1860 2318,-1860 2318,-1904 2318,-1904 2318,-1910 2312,-1916 2306,-1916\"/>\n<text text-anchor=\"start\" x=\"2208.5\" y=\"-1900.8\" font-family=\"Helvetica,sans-Serif\" font-size=\"14.00\" fill=\"#000000\">LogSpa ≤ 6.49</text>\n<text text-anchor=\"start\" x=\"2222.5\" y=\"-1885.8\" font-family=\"Helvetica,sans-Serif\" font-size=\"14.00\" fill=\"#000000\">gini = 0.25</text>\n<text text-anchor=\"start\" x=\"2208\" y=\"-1870.8\" font-family=\"Helvetica,sans-Serif\" font-size=\"14.00\" fill=\"#000000\">samples = 545</text>\n<text text-anchor=\"start\" x=\"2202\" y=\"-1855.8\" font-family=\"Helvetica,sans-Serif\" font-size=\"14.00\" fill=\"#000000\">value = [466, 79]</text>\n</g>\n<!-- 64&#45;&gt;65 -->\n<g id=\"edge65\" class=\"edge\">\n<title>64&#45;&gt;65</title>\n<path fill=\"none\" stroke=\"#000000\" d=\"M2421.8065,-2077.5667C2387.027,-2036.5447 2328.944,-1968.0365 2291.5722,-1923.9569\"/>\n<polygon fill=\"#000000\" stroke=\"#000000\" points=\"2294.2107,-1921.6568 2285.0741,-1916.2926 2288.8714,-1926.1836 2294.2107,-1921.6568\"/>\n</g>\n<!-- 80 -->\n<g id=\"node81\" class=\"node\">\n<title>80</title>\n<path fill=\"#f4caac\" stroke=\"#000000\" d=\"M2508.5,-1916C2508.5,-1916 2393.5,-1916 2393.5,-1916 2387.5,-1916 2381.5,-1910 2381.5,-1904 2381.5,-1904 2381.5,-1860 2381.5,-1860 2381.5,-1854 2387.5,-1848 2393.5,-1848 2393.5,-1848 2508.5,-1848 2508.5,-1848 2514.5,-1848 2520.5,-1854 2520.5,-1860 2520.5,-1860 2520.5,-1904 2520.5,-1904 2520.5,-1910 2514.5,-1916 2508.5,-1916\"/>\n<text text-anchor=\"start\" x=\"2389.5\" y=\"-1900.8\" font-family=\"Helvetica,sans-Serif\" font-size=\"14.00\" fill=\"#000000\">LogVRDeck ≤ 6.41</text>\n<text text-anchor=\"start\" x=\"2417.5\" y=\"-1885.8\" font-family=\"Helvetica,sans-Serif\" font-size=\"14.00\" fill=\"#000000\">gini = 0.46</text>\n<text text-anchor=\"start\" x=\"2403\" y=\"-1870.8\" font-family=\"Helvetica,sans-Serif\" font-size=\"14.00\" fill=\"#000000\">samples = 139</text>\n<text text-anchor=\"start\" x=\"2401\" y=\"-1855.8\" font-family=\"Helvetica,sans-Serif\" font-size=\"14.00\" fill=\"#000000\">value = [88, 51]</text>\n</g>\n<!-- 64&#45;&gt;80 -->\n<g id=\"edge80\" class=\"edge\">\n<title>64&#45;&gt;80</title>\n<path fill=\"none\" stroke=\"#000000\" d=\"M2451,-2077.5667C2451,-2037.3091 2451,-1970.5801 2451,-1926.4461\"/>\n<polygon fill=\"#000000\" stroke=\"#000000\" points=\"2454.5001,-1926.2925 2451,-1916.2926 2447.5001,-1926.2926 2454.5001,-1926.2925\"/>\n</g>\n<!-- 66 -->\n<g id=\"node67\" class=\"node\">\n<title>66</title>\n<path fill=\"#eb9f68\" stroke=\"#000000\" d=\"M2163,-1686C2163,-1686 2063,-1686 2063,-1686 2057,-1686 2051,-1680 2051,-1674 2051,-1674 2051,-1630 2051,-1630 2051,-1624 2057,-1618 2063,-1618 2063,-1618 2163,-1618 2163,-1618 2169,-1618 2175,-1624 2175,-1630 2175,-1630 2175,-1674 2175,-1674 2175,-1680 2169,-1686 2163,-1686\"/>\n<text text-anchor=\"start\" x=\"2062.5\" y=\"-1670.8\" font-family=\"Helvetica,sans-Serif\" font-size=\"14.00\" fill=\"#000000\">Group ≤ 3114.5</text>\n<text text-anchor=\"start\" x=\"2079.5\" y=\"-1655.8\" font-family=\"Helvetica,sans-Serif\" font-size=\"14.00\" fill=\"#000000\">gini = 0.31</text>\n<text text-anchor=\"start\" x=\"2065\" y=\"-1640.8\" font-family=\"Helvetica,sans-Serif\" font-size=\"14.00\" fill=\"#000000\">samples = 264</text>\n<text text-anchor=\"start\" x=\"2059\" y=\"-1625.8\" font-family=\"Helvetica,sans-Serif\" font-size=\"14.00\" fill=\"#000000\">value = [213, 51]</text>\n</g>\n<!-- 65&#45;&gt;66 -->\n<g id=\"edge66\" class=\"edge\">\n<title>65&#45;&gt;66</title>\n<path fill=\"none\" stroke=\"#000000\" d=\"M2234.5915,-1847.5667C2209.2977,-1806.8844 2167.1966,-1739.1694 2139.7703,-1695.0571\"/>\n<polygon fill=\"#000000\" stroke=\"#000000\" points=\"2142.5735,-1692.937 2134.321,-1686.2926 2136.6288,-1696.633 2142.5735,-1692.937\"/>\n</g>\n<!-- 73 -->\n<g id=\"node74\" class=\"node\">\n<title>73</title>\n<path fill=\"#e88f4f\" stroke=\"#000000\" d=\"M2306.5,-1686C2306.5,-1686 2205.5,-1686 2205.5,-1686 2199.5,-1686 2193.5,-1680 2193.5,-1674 2193.5,-1674 2193.5,-1630 2193.5,-1630 2193.5,-1624 2199.5,-1618 2205.5,-1618 2205.5,-1618 2306.5,-1618 2306.5,-1618 2312.5,-1618 2318.5,-1624 2318.5,-1630 2318.5,-1630 2318.5,-1674 2318.5,-1674 2318.5,-1680 2312.5,-1686 2306.5,-1686\"/>\n<text text-anchor=\"start\" x=\"2201.5\" y=\"-1670.8\" font-family=\"Helvetica,sans-Serif\" font-size=\"14.00\" fill=\"#000000\">Destination ≤ 1.5</text>\n<text text-anchor=\"start\" x=\"2222.5\" y=\"-1655.8\" font-family=\"Helvetica,sans-Serif\" font-size=\"14.00\" fill=\"#000000\">gini = 0.18</text>\n<text text-anchor=\"start\" x=\"2208\" y=\"-1640.8\" font-family=\"Helvetica,sans-Serif\" font-size=\"14.00\" fill=\"#000000\">samples = 281</text>\n<text text-anchor=\"start\" x=\"2202\" y=\"-1625.8\" font-family=\"Helvetica,sans-Serif\" font-size=\"14.00\" fill=\"#000000\">value = [253, 28]</text>\n</g>\n<!-- 65&#45;&gt;73 -->\n<g id=\"edge73\" class=\"edge\">\n<title>65&#45;&gt;73</title>\n<path fill=\"none\" stroke=\"#000000\" d=\"M2256,-1847.5667C2256,-1807.3091 2256,-1740.5801 2256,-1696.4461\"/>\n<polygon fill=\"#000000\" stroke=\"#000000\" points=\"2259.5001,-1696.2925 2256,-1686.2926 2252.5001,-1696.2926 2259.5001,-1696.2925\"/>\n</g>\n<!-- 67 -->\n<g id=\"node68\" class=\"node\">\n<title>67</title>\n<path fill=\"#e99355\" stroke=\"#000000\" d=\"M2026,-1456C2026,-1456 1926,-1456 1926,-1456 1920,-1456 1914,-1450 1914,-1444 1914,-1444 1914,-1400 1914,-1400 1914,-1394 1920,-1388 1926,-1388 1926,-1388 2026,-1388 2026,-1388 2032,-1388 2038,-1394 2038,-1400 2038,-1400 2038,-1444 2038,-1444 2038,-1450 2032,-1456 2026,-1456\"/>\n<text text-anchor=\"start\" x=\"1925.5\" y=\"-1440.8\" font-family=\"Helvetica,sans-Serif\" font-size=\"14.00\" fill=\"#000000\">Group ≤ 1469.0</text>\n<text text-anchor=\"start\" x=\"1942.5\" y=\"-1425.8\" font-family=\"Helvetica,sans-Serif\" font-size=\"14.00\" fill=\"#000000\">gini = 0.21</text>\n<text text-anchor=\"start\" x=\"1928\" y=\"-1410.8\" font-family=\"Helvetica,sans-Serif\" font-size=\"14.00\" fill=\"#000000\">samples = 131</text>\n<text text-anchor=\"start\" x=\"1922\" y=\"-1395.8\" font-family=\"Helvetica,sans-Serif\" font-size=\"14.00\" fill=\"#000000\">value = [115, 16]</text>\n</g>\n<!-- 66&#45;&gt;67 -->\n<g id=\"edge67\" class=\"edge\">\n<title>66&#45;&gt;67</title>\n<path fill=\"none\" stroke=\"#000000\" d=\"M2092.4897,-1617.5667C2068.2572,-1576.8844 2027.9226,-1509.1694 2001.647,-1465.0571\"/>\n<polygon fill=\"#000000\" stroke=\"#000000\" points=\"2004.5509,-1463.0928 1996.4264,-1456.2926 1998.537,-1466.6751 2004.5509,-1463.0928\"/>\n</g>\n<!-- 70 -->\n<g id=\"node71\" class=\"node\">\n<title>70</title>\n<path fill=\"#eeae80\" stroke=\"#000000\" d=\"M2161.5,-1456C2161.5,-1456 2068.5,-1456 2068.5,-1456 2062.5,-1456 2056.5,-1450 2056.5,-1444 2056.5,-1444 2056.5,-1400 2056.5,-1400 2056.5,-1394 2062.5,-1388 2068.5,-1388 2068.5,-1388 2161.5,-1388 2161.5,-1388 2167.5,-1388 2173.5,-1394 2173.5,-1400 2173.5,-1400 2173.5,-1444 2173.5,-1444 2173.5,-1450 2167.5,-1456 2161.5,-1456\"/>\n<text text-anchor=\"start\" x=\"2064.5\" y=\"-1440.8\" font-family=\"Helvetica,sans-Serif\" font-size=\"14.00\" fill=\"#000000\">Group ≤ 5093.5</text>\n<text text-anchor=\"start\" x=\"2081.5\" y=\"-1425.8\" font-family=\"Helvetica,sans-Serif\" font-size=\"14.00\" fill=\"#000000\">gini = 0.39</text>\n<text text-anchor=\"start\" x=\"2067\" y=\"-1410.8\" font-family=\"Helvetica,sans-Serif\" font-size=\"14.00\" fill=\"#000000\">samples = 133</text>\n<text text-anchor=\"start\" x=\"2065\" y=\"-1395.8\" font-family=\"Helvetica,sans-Serif\" font-size=\"14.00\" fill=\"#000000\">value = [98, 35]</text>\n</g>\n<!-- 66&#45;&gt;70 -->\n<g id=\"edge70\" class=\"edge\">\n<title>66&#45;&gt;70</title>\n<path fill=\"none\" stroke=\"#000000\" d=\"M2113.2994,-1617.5667C2113.6495,-1577.3091 2114.2297,-1510.5801 2114.6135,-1466.4461\"/>\n<polygon fill=\"#000000\" stroke=\"#000000\" points=\"2118.1146,-1466.3227 2114.7018,-1456.2926 2111.1149,-1466.2617 2118.1146,-1466.3227\"/>\n</g>\n<!-- 68 -->\n<g id=\"node69\" class=\"node\">\n<title>68</title>\n<path fill=\"#eb9e66\" stroke=\"#000000\" d=\"M1897,-1218.5C1897,-1218.5 1805,-1218.5 1805,-1218.5 1799,-1218.5 1793,-1212.5 1793,-1206.5 1793,-1206.5 1793,-1177.5 1793,-1177.5 1793,-1171.5 1799,-1165.5 1805,-1165.5 1805,-1165.5 1897,-1165.5 1897,-1165.5 1903,-1165.5 1909,-1171.5 1909,-1177.5 1909,-1177.5 1909,-1206.5 1909,-1206.5 1909,-1212.5 1903,-1218.5 1897,-1218.5\"/>\n<text text-anchor=\"start\" x=\"1821.5\" y=\"-1203.3\" font-family=\"Helvetica,sans-Serif\" font-size=\"14.00\" fill=\"#000000\">gini = 0.3</text>\n<text text-anchor=\"start\" x=\"1807\" y=\"-1188.3\" font-family=\"Helvetica,sans-Serif\" font-size=\"14.00\" fill=\"#000000\">samples = 65</text>\n<text text-anchor=\"start\" x=\"1801\" y=\"-1173.3\" font-family=\"Helvetica,sans-Serif\" font-size=\"14.00\" fill=\"#000000\">value = [53, 12]</text>\n</g>\n<!-- 67&#45;&gt;68 -->\n<g id=\"edge68\" class=\"edge\">\n<title>67&#45;&gt;68</title>\n<path fill=\"none\" stroke=\"#000000\" d=\"M1957.2862,-1387.5667C1933.8872,-1344.5125 1894.0333,-1271.1812 1870.3435,-1227.592\"/>\n<polygon fill=\"#000000\" stroke=\"#000000\" points=\"1873.3958,-1225.8785 1865.5454,-1218.7635 1867.2454,-1229.2211 1873.3958,-1225.8785\"/>\n</g>\n<!-- 69 -->\n<g id=\"node70\" class=\"node\">\n<title>69</title>\n<path fill=\"#e78946\" stroke=\"#000000\" d=\"M2022.5,-1218.5C2022.5,-1218.5 1939.5,-1218.5 1939.5,-1218.5 1933.5,-1218.5 1927.5,-1212.5 1927.5,-1206.5 1927.5,-1206.5 1927.5,-1177.5 1927.5,-1177.5 1927.5,-1171.5 1933.5,-1165.5 1939.5,-1165.5 1939.5,-1165.5 2022.5,-1165.5 2022.5,-1165.5 2028.5,-1165.5 2034.5,-1171.5 2034.5,-1177.5 2034.5,-1177.5 2034.5,-1206.5 2034.5,-1206.5 2034.5,-1212.5 2028.5,-1218.5 2022.5,-1218.5\"/>\n<text text-anchor=\"start\" x=\"1947.5\" y=\"-1203.3\" font-family=\"Helvetica,sans-Serif\" font-size=\"14.00\" fill=\"#000000\">gini = 0.11</text>\n<text text-anchor=\"start\" x=\"1937\" y=\"-1188.3\" font-family=\"Helvetica,sans-Serif\" font-size=\"14.00\" fill=\"#000000\">samples = 66</text>\n<text text-anchor=\"start\" x=\"1935.5\" y=\"-1173.3\" font-family=\"Helvetica,sans-Serif\" font-size=\"14.00\" fill=\"#000000\">value = [62, 4]</text>\n</g>\n<!-- 67&#45;&gt;69 -->\n<g id=\"edge69\" class=\"edge\">\n<title>67&#45;&gt;69</title>\n<path fill=\"none\" stroke=\"#000000\" d=\"M1976.7486,-1387.5667C1977.6747,-1344.9628 1979.2454,-1272.7121 1980.1963,-1228.9695\"/>\n<polygon fill=\"#000000\" stroke=\"#000000\" points=\"1983.6999,-1228.8373 1980.4182,-1218.7635 1976.7016,-1228.6851 1983.6999,-1228.8373\"/>\n</g>\n<!-- 71 -->\n<g id=\"node72\" class=\"node\">\n<title>71</title>\n<path fill=\"#f4c8a8\" stroke=\"#000000\" d=\"M2157,-1218.5C2157,-1218.5 2065,-1218.5 2065,-1218.5 2059,-1218.5 2053,-1212.5 2053,-1206.5 2053,-1206.5 2053,-1177.5 2053,-1177.5 2053,-1171.5 2059,-1165.5 2065,-1165.5 2065,-1165.5 2157,-1165.5 2157,-1165.5 2163,-1165.5 2169,-1171.5 2169,-1177.5 2169,-1177.5 2169,-1206.5 2169,-1206.5 2169,-1212.5 2163,-1218.5 2157,-1218.5\"/>\n<text text-anchor=\"start\" x=\"2077.5\" y=\"-1203.3\" font-family=\"Helvetica,sans-Serif\" font-size=\"14.00\" fill=\"#000000\">gini = 0.46</text>\n<text text-anchor=\"start\" x=\"2067\" y=\"-1188.3\" font-family=\"Helvetica,sans-Serif\" font-size=\"14.00\" fill=\"#000000\">samples = 75</text>\n<text text-anchor=\"start\" x=\"2061\" y=\"-1173.3\" font-family=\"Helvetica,sans-Serif\" font-size=\"14.00\" fill=\"#000000\">value = [48, 27]</text>\n</g>\n<!-- 70&#45;&gt;71 -->\n<g id=\"edge71\" class=\"edge\">\n<title>70&#45;&gt;71</title>\n<path fill=\"none\" stroke=\"#000000\" d=\"M2114.4012,-1387.5667C2113.6602,-1344.9628 2112.4037,-1272.7121 2111.6429,-1228.9695\"/>\n<polygon fill=\"#000000\" stroke=\"#000000\" points=\"2115.1389,-1228.7011 2111.4655,-1218.7635 2108.14,-1228.8229 2115.1389,-1228.7011\"/>\n</g>\n<!-- 72 -->\n<g id=\"node73\" class=\"node\">\n<title>72</title>\n<path fill=\"#e99559\" stroke=\"#000000\" d=\"M2282.5,-1218.5C2282.5,-1218.5 2199.5,-1218.5 2199.5,-1218.5 2193.5,-1218.5 2187.5,-1212.5 2187.5,-1206.5 2187.5,-1206.5 2187.5,-1177.5 2187.5,-1177.5 2187.5,-1171.5 2193.5,-1165.5 2199.5,-1165.5 2199.5,-1165.5 2282.5,-1165.5 2282.5,-1165.5 2288.5,-1165.5 2294.5,-1171.5 2294.5,-1177.5 2294.5,-1177.5 2294.5,-1206.5 2294.5,-1206.5 2294.5,-1212.5 2288.5,-1218.5 2282.5,-1218.5\"/>\n<text text-anchor=\"start\" x=\"2207.5\" y=\"-1203.3\" font-family=\"Helvetica,sans-Serif\" font-size=\"14.00\" fill=\"#000000\">gini = 0.24</text>\n<text text-anchor=\"start\" x=\"2197\" y=\"-1188.3\" font-family=\"Helvetica,sans-Serif\" font-size=\"14.00\" fill=\"#000000\">samples = 58</text>\n<text text-anchor=\"start\" x=\"2195.5\" y=\"-1173.3\" font-family=\"Helvetica,sans-Serif\" font-size=\"14.00\" fill=\"#000000\">value = [50, 8]</text>\n</g>\n<!-- 70&#45;&gt;72 -->\n<g id=\"edge72\" class=\"edge\">\n<title>70&#45;&gt;72</title>\n<path fill=\"none\" stroke=\"#000000\" d=\"M2133.8635,-1387.5667C2157.4497,-1344.5125 2197.6224,-1271.1812 2221.5018,-1227.592\"/>\n<polygon fill=\"#000000\" stroke=\"#000000\" points=\"2224.6032,-1229.2153 2226.3382,-1218.7635 2218.4641,-1225.8521 2224.6032,-1229.2153\"/>\n</g>\n<!-- 74 -->\n<g id=\"node75\" class=\"node\">\n<title>74</title>\n<path fill=\"#eca572\" stroke=\"#000000\" d=\"M2298,-1448.5C2298,-1448.5 2206,-1448.5 2206,-1448.5 2200,-1448.5 2194,-1442.5 2194,-1436.5 2194,-1436.5 2194,-1407.5 2194,-1407.5 2194,-1401.5 2200,-1395.5 2206,-1395.5 2206,-1395.5 2298,-1395.5 2298,-1395.5 2304,-1395.5 2310,-1401.5 2310,-1407.5 2310,-1407.5 2310,-1436.5 2310,-1436.5 2310,-1442.5 2304,-1448.5 2298,-1448.5\"/>\n<text text-anchor=\"start\" x=\"2218.5\" y=\"-1433.3\" font-family=\"Helvetica,sans-Serif\" font-size=\"14.00\" fill=\"#000000\">gini = 0.35</text>\n<text text-anchor=\"start\" x=\"2208\" y=\"-1418.3\" font-family=\"Helvetica,sans-Serif\" font-size=\"14.00\" fill=\"#000000\">samples = 54</text>\n<text text-anchor=\"start\" x=\"2202\" y=\"-1403.3\" font-family=\"Helvetica,sans-Serif\" font-size=\"14.00\" fill=\"#000000\">value = [42, 12]</text>\n</g>\n<!-- 73&#45;&gt;74 -->\n<g id=\"edge74\" class=\"edge\">\n<title>73&#45;&gt;74</title>\n<path fill=\"none\" stroke=\"#000000\" d=\"M2255.4012,-1617.5667C2254.6602,-1574.9628 2253.4037,-1502.7121 2252.6429,-1458.9695\"/>\n<polygon fill=\"#000000\" stroke=\"#000000\" points=\"2256.1389,-1458.7011 2252.4655,-1448.7635 2249.14,-1458.8229 2256.1389,-1458.7011\"/>\n</g>\n<!-- 75 -->\n<g id=\"node76\" class=\"node\">\n<title>75</title>\n<path fill=\"#e78b48\" stroke=\"#000000\" d=\"M2440,-1456C2440,-1456 2340,-1456 2340,-1456 2334,-1456 2328,-1450 2328,-1444 2328,-1444 2328,-1400 2328,-1400 2328,-1394 2334,-1388 2340,-1388 2340,-1388 2440,-1388 2440,-1388 2446,-1388 2452,-1394 2452,-1400 2452,-1400 2452,-1444 2452,-1444 2452,-1450 2446,-1456 2440,-1456\"/>\n<text text-anchor=\"start\" x=\"2355\" y=\"-1440.8\" font-family=\"Helvetica,sans-Serif\" font-size=\"14.00\" fill=\"#000000\">Age ≤ 40.5</text>\n<text text-anchor=\"start\" x=\"2356.5\" y=\"-1425.8\" font-family=\"Helvetica,sans-Serif\" font-size=\"14.00\" fill=\"#000000\">gini = 0.13</text>\n<text text-anchor=\"start\" x=\"2342\" y=\"-1410.8\" font-family=\"Helvetica,sans-Serif\" font-size=\"14.00\" fill=\"#000000\">samples = 227</text>\n<text text-anchor=\"start\" x=\"2336\" y=\"-1395.8\" font-family=\"Helvetica,sans-Serif\" font-size=\"14.00\" fill=\"#000000\">value = [211, 16]</text>\n</g>\n<!-- 73&#45;&gt;75 -->\n<g id=\"edge75\" class=\"edge\">\n<title>73&#45;&gt;75</title>\n<path fill=\"none\" stroke=\"#000000\" d=\"M2276.0612,-1617.5667C2299.763,-1576.8844 2339.2144,-1509.1694 2364.9146,-1465.0571\"/>\n<polygon fill=\"#000000\" stroke=\"#000000\" points=\"2368.0109,-1466.695 2370.0208,-1456.2926 2361.9626,-1463.1712 2368.0109,-1466.695\"/>\n</g>\n<!-- 76 -->\n<g id=\"node77\" class=\"node\">\n<title>76</title>\n<path fill=\"#e68742\" stroke=\"#000000\" d=\"M2417,-1226C2417,-1226 2325,-1226 2325,-1226 2319,-1226 2313,-1220 2313,-1214 2313,-1214 2313,-1170 2313,-1170 2313,-1164 2319,-1158 2325,-1158 2325,-1158 2417,-1158 2417,-1158 2423,-1158 2429,-1164 2429,-1170 2429,-1170 2429,-1214 2429,-1214 2429,-1220 2423,-1226 2417,-1226\"/>\n<text text-anchor=\"start\" x=\"2323.5\" y=\"-1210.8\" font-family=\"Helvetica,sans-Serif\" font-size=\"14.00\" fill=\"#000000\">LogSpa ≤ 6.68</text>\n<text text-anchor=\"start\" x=\"2337.5\" y=\"-1195.8\" font-family=\"Helvetica,sans-Serif\" font-size=\"14.00\" fill=\"#000000\">gini = 0.09</text>\n<text text-anchor=\"start\" x=\"2323\" y=\"-1180.8\" font-family=\"Helvetica,sans-Serif\" font-size=\"14.00\" fill=\"#000000\">samples = 175</text>\n<text text-anchor=\"start\" x=\"2321\" y=\"-1165.8\" font-family=\"Helvetica,sans-Serif\" font-size=\"14.00\" fill=\"#000000\">value = [167, 8]</text>\n</g>\n<!-- 75&#45;&gt;76 -->\n<g id=\"edge76\" class=\"edge\">\n<title>75&#45;&gt;76</title>\n<path fill=\"none\" stroke=\"#000000\" d=\"M2387.1555,-1387.5667C2383.8299,-1347.3091 2378.3175,-1280.5801 2374.6716,-1236.4461\"/>\n<polygon fill=\"#000000\" stroke=\"#000000\" points=\"2378.1444,-1235.9704 2373.8329,-1226.2926 2371.1681,-1236.5468 2378.1444,-1235.9704\"/>\n</g>\n<!-- 79 -->\n<g id=\"node80\" class=\"node\">\n<title>79</title>\n<path fill=\"#ea985d\" stroke=\"#000000\" d=\"M2542.5,-1218.5C2542.5,-1218.5 2459.5,-1218.5 2459.5,-1218.5 2453.5,-1218.5 2447.5,-1212.5 2447.5,-1206.5 2447.5,-1206.5 2447.5,-1177.5 2447.5,-1177.5 2447.5,-1171.5 2453.5,-1165.5 2459.5,-1165.5 2459.5,-1165.5 2542.5,-1165.5 2542.5,-1165.5 2548.5,-1165.5 2554.5,-1171.5 2554.5,-1177.5 2554.5,-1177.5 2554.5,-1206.5 2554.5,-1206.5 2554.5,-1212.5 2548.5,-1218.5 2542.5,-1218.5\"/>\n<text text-anchor=\"start\" x=\"2467.5\" y=\"-1203.3\" font-family=\"Helvetica,sans-Serif\" font-size=\"14.00\" fill=\"#000000\">gini = 0.26</text>\n<text text-anchor=\"start\" x=\"2457\" y=\"-1188.3\" font-family=\"Helvetica,sans-Serif\" font-size=\"14.00\" fill=\"#000000\">samples = 52</text>\n<text text-anchor=\"start\" x=\"2455.5\" y=\"-1173.3\" font-family=\"Helvetica,sans-Serif\" font-size=\"14.00\" fill=\"#000000\">value = [44, 8]</text>\n</g>\n<!-- 75&#45;&gt;79 -->\n<g id=\"edge79\" class=\"edge\">\n<title>75&#45;&gt;79</title>\n<path fill=\"none\" stroke=\"#000000\" d=\"M2406.6178,-1387.5667C2427.3527,-1344.6025 2462.6384,-1271.4879 2483.6908,-1227.8659\"/>\n<polygon fill=\"#000000\" stroke=\"#000000\" points=\"2486.8894,-1229.2908 2488.0837,-1218.7635 2480.5851,-1226.2483 2486.8894,-1229.2908\"/>\n</g>\n<!-- 77 -->\n<g id=\"node78\" class=\"node\">\n<title>77</title>\n<path fill=\"#e78c49\" stroke=\"#000000\" d=\"M2350.5,-988.5C2350.5,-988.5 2267.5,-988.5 2267.5,-988.5 2261.5,-988.5 2255.5,-982.5 2255.5,-976.5 2255.5,-976.5 2255.5,-947.5 2255.5,-947.5 2255.5,-941.5 2261.5,-935.5 2267.5,-935.5 2267.5,-935.5 2350.5,-935.5 2350.5,-935.5 2356.5,-935.5 2362.5,-941.5 2362.5,-947.5 2362.5,-947.5 2362.5,-976.5 2362.5,-976.5 2362.5,-982.5 2356.5,-988.5 2350.5,-988.5\"/>\n<text text-anchor=\"start\" x=\"2275.5\" y=\"-973.3\" font-family=\"Helvetica,sans-Serif\" font-size=\"14.00\" fill=\"#000000\">gini = 0.14</text>\n<text text-anchor=\"start\" x=\"2265\" y=\"-958.3\" font-family=\"Helvetica,sans-Serif\" font-size=\"14.00\" fill=\"#000000\">samples = 91</text>\n<text text-anchor=\"start\" x=\"2263.5\" y=\"-943.3\" font-family=\"Helvetica,sans-Serif\" font-size=\"14.00\" fill=\"#000000\">value = [84, 7]</text>\n</g>\n<!-- 76&#45;&gt;77 -->\n<g id=\"edge77\" class=\"edge\">\n<title>76&#45;&gt;77</title>\n<path fill=\"none\" stroke=\"#000000\" d=\"M2361.718,-1157.5667C2350.2092,-1114.8727 2330.6748,-1042.4064 2318.891,-998.6925\"/>\n<polygon fill=\"#000000\" stroke=\"#000000\" points=\"2322.1967,-997.5079 2316.2145,-988.7635 2315.438,-999.3299 2322.1967,-997.5079\"/>\n</g>\n<!-- 78 -->\n<g id=\"node79\" class=\"node\">\n<title>78</title>\n<path fill=\"#e5833b\" stroke=\"#000000\" d=\"M2475.5,-988.5C2475.5,-988.5 2392.5,-988.5 2392.5,-988.5 2386.5,-988.5 2380.5,-982.5 2380.5,-976.5 2380.5,-976.5 2380.5,-947.5 2380.5,-947.5 2380.5,-941.5 2386.5,-935.5 2392.5,-935.5 2392.5,-935.5 2475.5,-935.5 2475.5,-935.5 2481.5,-935.5 2487.5,-941.5 2487.5,-947.5 2487.5,-947.5 2487.5,-976.5 2487.5,-976.5 2487.5,-982.5 2481.5,-988.5 2475.5,-988.5\"/>\n<text text-anchor=\"start\" x=\"2400.5\" y=\"-973.3\" font-family=\"Helvetica,sans-Serif\" font-size=\"14.00\" fill=\"#000000\">gini = 0.02</text>\n<text text-anchor=\"start\" x=\"2390\" y=\"-958.3\" font-family=\"Helvetica,sans-Serif\" font-size=\"14.00\" fill=\"#000000\">samples = 84</text>\n<text text-anchor=\"start\" x=\"2388.5\" y=\"-943.3\" font-family=\"Helvetica,sans-Serif\" font-size=\"14.00\" fill=\"#000000\">value = [83, 1]</text>\n</g>\n<!-- 76&#45;&gt;78 -->\n<g id=\"edge78\" class=\"edge\">\n<title>76&#45;&gt;78</title>\n<path fill=\"none\" stroke=\"#000000\" d=\"M2380.4317,-1157.5667C2392.1508,-1114.7827 2412.0594,-1042.1005 2424.0251,-998.4162\"/>\n<polygon fill=\"#000000\" stroke=\"#000000\" points=\"2427.4029,-999.3329 2426.6691,-988.7635 2420.6516,-997.4836 2427.4029,-999.3329\"/>\n</g>\n<!-- 81 -->\n<g id=\"node82\" class=\"node\">\n<title>81</title>\n<path fill=\"#fefcfa\" stroke=\"#000000\" d=\"M2441,-1678.5C2441,-1678.5 2349,-1678.5 2349,-1678.5 2343,-1678.5 2337,-1672.5 2337,-1666.5 2337,-1666.5 2337,-1637.5 2337,-1637.5 2337,-1631.5 2343,-1625.5 2349,-1625.5 2349,-1625.5 2441,-1625.5 2441,-1625.5 2447,-1625.5 2453,-1631.5 2453,-1637.5 2453,-1637.5 2453,-1666.5 2453,-1666.5 2453,-1672.5 2447,-1678.5 2441,-1678.5\"/>\n<text text-anchor=\"start\" x=\"2365.5\" y=\"-1663.3\" font-family=\"Helvetica,sans-Serif\" font-size=\"14.00\" fill=\"#000000\">gini = 0.5</text>\n<text text-anchor=\"start\" x=\"2351\" y=\"-1648.3\" font-family=\"Helvetica,sans-Serif\" font-size=\"14.00\" fill=\"#000000\">samples = 87</text>\n<text text-anchor=\"start\" x=\"2345\" y=\"-1633.3\" font-family=\"Helvetica,sans-Serif\" font-size=\"14.00\" fill=\"#000000\">value = [44, 43]</text>\n</g>\n<!-- 80&#45;&gt;81 -->\n<g id=\"edge81\" class=\"edge\">\n<title>80&#45;&gt;81</title>\n<path fill=\"none\" stroke=\"#000000\" d=\"M2442.6162,-1847.5667C2432.2212,-1804.8727 2414.5772,-1732.4064 2403.9338,-1688.6925\"/>\n<polygon fill=\"#000000\" stroke=\"#000000\" points=\"2407.2827,-1687.6517 2401.5163,-1678.7635 2400.4814,-1689.3077 2407.2827,-1687.6517\"/>\n</g>\n<!-- 82 -->\n<g id=\"node83\" class=\"node\">\n<title>82</title>\n<path fill=\"#ea985d\" stroke=\"#000000\" d=\"M2566.5,-1678.5C2566.5,-1678.5 2483.5,-1678.5 2483.5,-1678.5 2477.5,-1678.5 2471.5,-1672.5 2471.5,-1666.5 2471.5,-1666.5 2471.5,-1637.5 2471.5,-1637.5 2471.5,-1631.5 2477.5,-1625.5 2483.5,-1625.5 2483.5,-1625.5 2566.5,-1625.5 2566.5,-1625.5 2572.5,-1625.5 2578.5,-1631.5 2578.5,-1637.5 2578.5,-1637.5 2578.5,-1666.5 2578.5,-1666.5 2578.5,-1672.5 2572.5,-1678.5 2566.5,-1678.5\"/>\n<text text-anchor=\"start\" x=\"2491.5\" y=\"-1663.3\" font-family=\"Helvetica,sans-Serif\" font-size=\"14.00\" fill=\"#000000\">gini = 0.26</text>\n<text text-anchor=\"start\" x=\"2481\" y=\"-1648.3\" font-family=\"Helvetica,sans-Serif\" font-size=\"14.00\" fill=\"#000000\">samples = 52</text>\n<text text-anchor=\"start\" x=\"2479.5\" y=\"-1633.3\" font-family=\"Helvetica,sans-Serif\" font-size=\"14.00\" fill=\"#000000\">value = [44, 8]</text>\n</g>\n<!-- 80&#45;&gt;82 -->\n<g id=\"edge82\" class=\"edge\">\n<title>80&#45;&gt;82</title>\n<path fill=\"none\" stroke=\"#000000\" d=\"M2462.0785,-1847.5667C2475.8438,-1804.7827 2499.2285,-1732.1005 2513.2835,-1688.4162\"/>\n<polygon fill=\"#000000\" stroke=\"#000000\" points=\"2516.6581,-1689.3549 2516.3891,-1678.7635 2509.9945,-1687.211 2516.6581,-1689.3549\"/>\n</g>\n<!-- 84 -->\n<g id=\"node85\" class=\"node\">\n<title>84</title>\n<path fill=\"#e68641\" stroke=\"#000000\" d=\"M2696,-1916C2696,-1916 2604,-1916 2604,-1916 2598,-1916 2592,-1910 2592,-1904 2592,-1904 2592,-1860 2592,-1860 2592,-1854 2598,-1848 2604,-1848 2604,-1848 2696,-1848 2696,-1848 2702,-1848 2708,-1854 2708,-1860 2708,-1860 2708,-1904 2708,-1904 2708,-1910 2702,-1916 2696,-1916\"/>\n<text text-anchor=\"start\" x=\"2615\" y=\"-1900.8\" font-family=\"Helvetica,sans-Serif\" font-size=\"14.00\" fill=\"#000000\">Deck ≤ 2.5</text>\n<text text-anchor=\"start\" x=\"2616.5\" y=\"-1885.8\" font-family=\"Helvetica,sans-Serif\" font-size=\"14.00\" fill=\"#000000\">gini = 0.08</text>\n<text text-anchor=\"start\" x=\"2602\" y=\"-1870.8\" font-family=\"Helvetica,sans-Serif\" font-size=\"14.00\" fill=\"#000000\">samples = 123</text>\n<text text-anchor=\"start\" x=\"2600\" y=\"-1855.8\" font-family=\"Helvetica,sans-Serif\" font-size=\"14.00\" fill=\"#000000\">value = [118, 5]</text>\n</g>\n<!-- 83&#45;&gt;84 -->\n<g id=\"edge84\" class=\"edge\">\n<title>83&#45;&gt;84</title>\n<path fill=\"none\" stroke=\"#000000\" d=\"M2650,-2077.5667C2650,-2037.3091 2650,-1970.5801 2650,-1926.4461\"/>\n<polygon fill=\"#000000\" stroke=\"#000000\" points=\"2653.5001,-1926.2925 2650,-1916.2926 2646.5001,-1926.2926 2653.5001,-1926.2925\"/>\n</g>\n<!-- 87 -->\n<g id=\"node88\" class=\"node\">\n<title>87</title>\n<path fill=\"#e58139\" stroke=\"#000000\" d=\"M2821.5,-1908.5C2821.5,-1908.5 2738.5,-1908.5 2738.5,-1908.5 2732.5,-1908.5 2726.5,-1902.5 2726.5,-1896.5 2726.5,-1896.5 2726.5,-1867.5 2726.5,-1867.5 2726.5,-1861.5 2732.5,-1855.5 2738.5,-1855.5 2738.5,-1855.5 2821.5,-1855.5 2821.5,-1855.5 2827.5,-1855.5 2833.5,-1861.5 2833.5,-1867.5 2833.5,-1867.5 2833.5,-1896.5 2833.5,-1896.5 2833.5,-1902.5 2827.5,-1908.5 2821.5,-1908.5\"/>\n<text text-anchor=\"start\" x=\"2750.5\" y=\"-1893.3\" font-family=\"Helvetica,sans-Serif\" font-size=\"14.00\" fill=\"#000000\">gini = 0.0</text>\n<text text-anchor=\"start\" x=\"2736\" y=\"-1878.3\" font-family=\"Helvetica,sans-Serif\" font-size=\"14.00\" fill=\"#000000\">samples = 97</text>\n<text text-anchor=\"start\" x=\"2734.5\" y=\"-1863.3\" font-family=\"Helvetica,sans-Serif\" font-size=\"14.00\" fill=\"#000000\">value = [97, 0]</text>\n</g>\n<!-- 83&#45;&gt;87 -->\n<g id=\"edge87\" class=\"edge\">\n<title>83&#45;&gt;87</title>\n<path fill=\"none\" stroke=\"#000000\" d=\"M2669.4623,-2077.5667C2693.7973,-2034.5125 2735.2454,-1961.1812 2759.8828,-1917.592\"/>\n<polygon fill=\"#000000\" stroke=\"#000000\" points=\"2762.9991,-1919.1914 2764.8728,-1908.7635 2756.9052,-1915.7469 2762.9991,-1919.1914\"/>\n</g>\n<!-- 85 -->\n<g id=\"node86\" class=\"node\">\n<title>85</title>\n<path fill=\"#e78a48\" stroke=\"#000000\" d=\"M2691.5,-1678.5C2691.5,-1678.5 2608.5,-1678.5 2608.5,-1678.5 2602.5,-1678.5 2596.5,-1672.5 2596.5,-1666.5 2596.5,-1666.5 2596.5,-1637.5 2596.5,-1637.5 2596.5,-1631.5 2602.5,-1625.5 2608.5,-1625.5 2608.5,-1625.5 2691.5,-1625.5 2691.5,-1625.5 2697.5,-1625.5 2703.5,-1631.5 2703.5,-1637.5 2703.5,-1637.5 2703.5,-1666.5 2703.5,-1666.5 2703.5,-1672.5 2697.5,-1678.5 2691.5,-1678.5\"/>\n<text text-anchor=\"start\" x=\"2616.5\" y=\"-1663.3\" font-family=\"Helvetica,sans-Serif\" font-size=\"14.00\" fill=\"#000000\">gini = 0.13</text>\n<text text-anchor=\"start\" x=\"2606\" y=\"-1648.3\" font-family=\"Helvetica,sans-Serif\" font-size=\"14.00\" fill=\"#000000\">samples = 73</text>\n<text text-anchor=\"start\" x=\"2604.5\" y=\"-1633.3\" font-family=\"Helvetica,sans-Serif\" font-size=\"14.00\" fill=\"#000000\">value = [68, 5]</text>\n</g>\n<!-- 84&#45;&gt;85 -->\n<g id=\"edge85\" class=\"edge\">\n<title>84&#45;&gt;85</title>\n<path fill=\"none\" stroke=\"#000000\" d=\"M2650,-1847.5667C2650,-1804.9628 2650,-1732.7121 2650,-1688.9695\"/>\n<polygon fill=\"#000000\" stroke=\"#000000\" points=\"2653.5001,-1688.7635 2650,-1678.7635 2646.5001,-1688.7636 2653.5001,-1688.7635\"/>\n</g>\n<!-- 86 -->\n<g id=\"node87\" class=\"node\">\n<title>86</title>\n<path fill=\"#e58139\" stroke=\"#000000\" d=\"M2816.5,-1678.5C2816.5,-1678.5 2733.5,-1678.5 2733.5,-1678.5 2727.5,-1678.5 2721.5,-1672.5 2721.5,-1666.5 2721.5,-1666.5 2721.5,-1637.5 2721.5,-1637.5 2721.5,-1631.5 2727.5,-1625.5 2733.5,-1625.5 2733.5,-1625.5 2816.5,-1625.5 2816.5,-1625.5 2822.5,-1625.5 2828.5,-1631.5 2828.5,-1637.5 2828.5,-1637.5 2828.5,-1666.5 2828.5,-1666.5 2828.5,-1672.5 2822.5,-1678.5 2816.5,-1678.5\"/>\n<text text-anchor=\"start\" x=\"2745.5\" y=\"-1663.3\" font-family=\"Helvetica,sans-Serif\" font-size=\"14.00\" fill=\"#000000\">gini = 0.0</text>\n<text text-anchor=\"start\" x=\"2731\" y=\"-1648.3\" font-family=\"Helvetica,sans-Serif\" font-size=\"14.00\" fill=\"#000000\">samples = 50</text>\n<text text-anchor=\"start\" x=\"2729.5\" y=\"-1633.3\" font-family=\"Helvetica,sans-Serif\" font-size=\"14.00\" fill=\"#000000\">value = [50, 0]</text>\n</g>\n<!-- 84&#45;&gt;86 -->\n<g id=\"edge86\" class=\"edge\">\n<title>84&#45;&gt;86</title>\n<path fill=\"none\" stroke=\"#000000\" d=\"M2668.7138,-1847.5667C2692.1128,-1804.5125 2731.9667,-1731.1812 2755.6565,-1687.592\"/>\n<polygon fill=\"#000000\" stroke=\"#000000\" points=\"2758.7546,-1689.2211 2760.4546,-1678.7635 2752.6042,-1685.8785 2758.7546,-1689.2211\"/>\n</g>\n<!-- 89 -->\n<g id=\"node90\" class=\"node\">\n<title>89</title>\n<path fill=\"#93caf1\" stroke=\"#000000\" d=\"M2834,-2138.5C2834,-2138.5 2742,-2138.5 2742,-2138.5 2736,-2138.5 2730,-2132.5 2730,-2126.5 2730,-2126.5 2730,-2097.5 2730,-2097.5 2730,-2091.5 2736,-2085.5 2742,-2085.5 2742,-2085.5 2834,-2085.5 2834,-2085.5 2840,-2085.5 2846,-2091.5 2846,-2097.5 2846,-2097.5 2846,-2126.5 2846,-2126.5 2846,-2132.5 2840,-2138.5 2834,-2138.5\"/>\n<text text-anchor=\"start\" x=\"2754.5\" y=\"-2123.3\" font-family=\"Helvetica,sans-Serif\" font-size=\"14.00\" fill=\"#000000\">gini = 0.43</text>\n<text text-anchor=\"start\" x=\"2744\" y=\"-2108.3\" font-family=\"Helvetica,sans-Serif\" font-size=\"14.00\" fill=\"#000000\">samples = 80</text>\n<text text-anchor=\"start\" x=\"2738\" y=\"-2093.3\" font-family=\"Helvetica,sans-Serif\" font-size=\"14.00\" fill=\"#000000\">value = [25, 55]</text>\n</g>\n<!-- 88&#45;&gt;89 -->\n<g id=\"edge89\" class=\"edge\">\n<title>88&#45;&gt;89</title>\n<path fill=\"none\" stroke=\"#000000\" d=\"M2789.7006,-2307.5667C2789.3301,-2264.9628 2788.7018,-2192.7121 2788.3215,-2148.9695\"/>\n<polygon fill=\"#000000\" stroke=\"#000000\" points=\"2791.8196,-2148.7327 2788.2327,-2138.7635 2784.8199,-2148.7936 2791.8196,-2148.7327\"/>\n</g>\n<!-- 90 -->\n<g id=\"node91\" class=\"node\">\n<title>90</title>\n<path fill=\"#eca26c\" stroke=\"#000000\" d=\"M2968,-2138.5C2968,-2138.5 2876,-2138.5 2876,-2138.5 2870,-2138.5 2864,-2132.5 2864,-2126.5 2864,-2126.5 2864,-2097.5 2864,-2097.5 2864,-2091.5 2870,-2085.5 2876,-2085.5 2876,-2085.5 2968,-2085.5 2968,-2085.5 2974,-2085.5 2980,-2091.5 2980,-2097.5 2980,-2097.5 2980,-2126.5 2980,-2126.5 2980,-2132.5 2974,-2138.5 2968,-2138.5\"/>\n<text text-anchor=\"start\" x=\"2888.5\" y=\"-2123.3\" font-family=\"Helvetica,sans-Serif\" font-size=\"14.00\" fill=\"#000000\">gini = 0.33</text>\n<text text-anchor=\"start\" x=\"2878\" y=\"-2108.3\" font-family=\"Helvetica,sans-Serif\" font-size=\"14.00\" fill=\"#000000\">samples = 73</text>\n<text text-anchor=\"start\" x=\"2872\" y=\"-2093.3\" font-family=\"Helvetica,sans-Serif\" font-size=\"14.00\" fill=\"#000000\">value = [58, 15]</text>\n</g>\n<!-- 88&#45;&gt;90 -->\n<g id=\"edge90\" class=\"edge\">\n<title>88&#45;&gt;90</title>\n<path fill=\"none\" stroke=\"#000000\" d=\"M2809.7617,-2307.5667C2834.4711,-2264.5125 2876.5568,-2191.1812 2901.5733,-2147.592\"/>\n<polygon fill=\"#000000\" stroke=\"#000000\" points=\"2904.698,-2149.1789 2906.6401,-2138.7635 2898.6268,-2145.6945 2904.698,-2149.1789\"/>\n</g>\n<!-- 92 -->\n<g id=\"node93\" class=\"node\">\n<title>92</title>\n<path fill=\"#e9965a\" stroke=\"#000000\" d=\"M3465.5,-2606C3465.5,-2606 3316.5,-2606 3316.5,-2606 3310.5,-2606 3304.5,-2600 3304.5,-2594 3304.5,-2594 3304.5,-2550 3304.5,-2550 3304.5,-2544 3310.5,-2538 3316.5,-2538 3316.5,-2538 3465.5,-2538 3465.5,-2538 3471.5,-2538 3477.5,-2544 3477.5,-2550 3477.5,-2550 3477.5,-2594 3477.5,-2594 3477.5,-2600 3471.5,-2606 3465.5,-2606\"/>\n<text text-anchor=\"start\" x=\"3312.5\" y=\"-2590.8\" font-family=\"Helvetica,sans-Serif\" font-size=\"14.00\" fill=\"#000000\">LogShoppingMall ≤ 7.14</text>\n<text text-anchor=\"start\" x=\"3357.5\" y=\"-2575.8\" font-family=\"Helvetica,sans-Serif\" font-size=\"14.00\" fill=\"#000000\">gini = 0.25</text>\n<text text-anchor=\"start\" x=\"3339\" y=\"-2560.8\" font-family=\"Helvetica,sans-Serif\" font-size=\"14.00\" fill=\"#000000\">samples = 1021</text>\n<text text-anchor=\"start\" x=\"3333\" y=\"-2545.8\" font-family=\"Helvetica,sans-Serif\" font-size=\"14.00\" fill=\"#000000\">value = [874, 147]</text>\n</g>\n<!-- 91&#45;&gt;92 -->\n<g id=\"edge92\" class=\"edge\">\n<title>91&#45;&gt;92</title>\n<path fill=\"none\" stroke=\"#000000\" d=\"M3459.8735,-2767.5667C3445.636,-2727.1392 3421.9971,-2660.0165 3406.4564,-2615.8887\"/>\n<polygon fill=\"#000000\" stroke=\"#000000\" points=\"3409.7,-2614.5621 3403.0769,-2606.2926 3403.0975,-2616.8874 3409.7,-2614.5621\"/>\n</g>\n<!-- 119 -->\n<g id=\"node120\" class=\"node\">\n<title>119</title>\n<path fill=\"#fae7da\" stroke=\"#000000\" d=\"M3600,-2598.5C3600,-2598.5 3508,-2598.5 3508,-2598.5 3502,-2598.5 3496,-2592.5 3496,-2586.5 3496,-2586.5 3496,-2557.5 3496,-2557.5 3496,-2551.5 3502,-2545.5 3508,-2545.5 3508,-2545.5 3600,-2545.5 3600,-2545.5 3606,-2545.5 3612,-2551.5 3612,-2557.5 3612,-2557.5 3612,-2586.5 3612,-2586.5 3612,-2592.5 3606,-2598.5 3600,-2598.5\"/>\n<text text-anchor=\"start\" x=\"3520.5\" y=\"-2583.3\" font-family=\"Helvetica,sans-Serif\" font-size=\"14.00\" fill=\"#000000\">gini = 0.49</text>\n<text text-anchor=\"start\" x=\"3510\" y=\"-2568.3\" font-family=\"Helvetica,sans-Serif\" font-size=\"14.00\" fill=\"#000000\">samples = 58</text>\n<text text-anchor=\"start\" x=\"3504\" y=\"-2553.3\" font-family=\"Helvetica,sans-Serif\" font-size=\"14.00\" fill=\"#000000\">value = [32, 26]</text>\n</g>\n<!-- 91&#45;&gt;119 -->\n<g id=\"edge119\" class=\"edge\">\n<title>91&#45;&gt;119</title>\n<path fill=\"none\" stroke=\"#000000\" d=\"M3484.2762,-2767.5667C3499.5297,-2724.7827 3525.4424,-2652.1005 3541.0168,-2608.4162\"/>\n<polygon fill=\"#000000\" stroke=\"#000000\" points=\"3544.3967,-2609.3582 3544.4582,-2598.7635 3537.8032,-2607.0074 3544.3967,-2609.3582\"/>\n</g>\n<!-- 93 -->\n<g id=\"node94\" class=\"node\">\n<title>93</title>\n<path fill=\"#e99457\" stroke=\"#000000\" d=\"M3379,-2376C3379,-2376 3271,-2376 3271,-2376 3265,-2376 3259,-2370 3259,-2364 3259,-2364 3259,-2320 3259,-2320 3259,-2314 3265,-2308 3271,-2308 3271,-2308 3379,-2308 3379,-2308 3385,-2308 3391,-2314 3391,-2320 3391,-2320 3391,-2364 3391,-2364 3391,-2370 3385,-2376 3379,-2376\"/>\n<text text-anchor=\"start\" x=\"3277.5\" y=\"-2360.8\" font-family=\"Helvetica,sans-Serif\" font-size=\"14.00\" fill=\"#000000\">LogSpa ≤ 5.89</text>\n<text text-anchor=\"start\" x=\"3291.5\" y=\"-2345.8\" font-family=\"Helvetica,sans-Serif\" font-size=\"14.00\" fill=\"#000000\">gini = 0.23</text>\n<text text-anchor=\"start\" x=\"3277\" y=\"-2330.8\" font-family=\"Helvetica,sans-Serif\" font-size=\"14.00\" fill=\"#000000\">samples = 971</text>\n<text text-anchor=\"start\" x=\"3267\" y=\"-2315.8\" font-family=\"Helvetica,sans-Serif\" font-size=\"14.00\" fill=\"#000000\">value = [845, 126]</text>\n</g>\n<!-- 92&#45;&gt;93 -->\n<g id=\"edge93\" class=\"edge\">\n<title>92&#45;&gt;93</title>\n<path fill=\"none\" stroke=\"#000000\" d=\"M3381.1191,-2537.5667C3369.5426,-2497.2242 3350.3378,-2430.2984 3337.674,-2386.1671\"/>\n<polygon fill=\"#000000\" stroke=\"#000000\" points=\"3340.963,-2384.9392 3334.8405,-2376.2926 3334.2346,-2386.8701 3340.963,-2384.9392\"/>\n</g>\n<!-- 118 -->\n<g id=\"node119\" class=\"node\">\n<title>118</title>\n<path fill=\"#f8dcc8\" stroke=\"#000000\" d=\"M3513,-2368.5C3513,-2368.5 3421,-2368.5 3421,-2368.5 3415,-2368.5 3409,-2362.5 3409,-2356.5 3409,-2356.5 3409,-2327.5 3409,-2327.5 3409,-2321.5 3415,-2315.5 3421,-2315.5 3421,-2315.5 3513,-2315.5 3513,-2315.5 3519,-2315.5 3525,-2321.5 3525,-2327.5 3525,-2327.5 3525,-2356.5 3525,-2356.5 3525,-2362.5 3519,-2368.5 3513,-2368.5\"/>\n<text text-anchor=\"start\" x=\"3433.5\" y=\"-2353.3\" font-family=\"Helvetica,sans-Serif\" font-size=\"14.00\" fill=\"#000000\">gini = 0.49</text>\n<text text-anchor=\"start\" x=\"3423\" y=\"-2338.3\" font-family=\"Helvetica,sans-Serif\" font-size=\"14.00\" fill=\"#000000\">samples = 50</text>\n<text text-anchor=\"start\" x=\"3417\" y=\"-2323.3\" font-family=\"Helvetica,sans-Serif\" font-size=\"14.00\" fill=\"#000000\">value = [29, 21]</text>\n</g>\n<!-- 92&#45;&gt;118 -->\n<g id=\"edge118\" class=\"edge\">\n<title>92&#45;&gt;118</title>\n<path fill=\"none\" stroke=\"#000000\" d=\"M3402.378,-2537.5667C3416.5153,-2494.7827 3440.532,-2422.1005 3454.9668,-2378.4162\"/>\n<polygon fill=\"#000000\" stroke=\"#000000\" points=\"3458.3421,-2379.3567 3458.1564,-2368.7635 3451.6956,-2377.1604 3458.3421,-2379.3567\"/>\n</g>\n<!-- 94 -->\n<g id=\"node95\" class=\"node\">\n<title>94</title>\n<path fill=\"#e9965a\" stroke=\"#000000\" d=\"M3295.5,-2146C3295.5,-2146 3146.5,-2146 3146.5,-2146 3140.5,-2146 3134.5,-2140 3134.5,-2134 3134.5,-2134 3134.5,-2090 3134.5,-2090 3134.5,-2084 3140.5,-2078 3146.5,-2078 3146.5,-2078 3295.5,-2078 3295.5,-2078 3301.5,-2078 3307.5,-2084 3307.5,-2090 3307.5,-2090 3307.5,-2134 3307.5,-2134 3307.5,-2140 3301.5,-2146 3295.5,-2146\"/>\n<text text-anchor=\"start\" x=\"3142.5\" y=\"-2130.8\" font-family=\"Helvetica,sans-Serif\" font-size=\"14.00\" fill=\"#000000\">LogRoomService ≤ 6.59</text>\n<text text-anchor=\"start\" x=\"3187.5\" y=\"-2115.8\" font-family=\"Helvetica,sans-Serif\" font-size=\"14.00\" fill=\"#000000\">gini = 0.24</text>\n<text text-anchor=\"start\" x=\"3173\" y=\"-2100.8\" font-family=\"Helvetica,sans-Serif\" font-size=\"14.00\" fill=\"#000000\">samples = 873</text>\n<text text-anchor=\"start\" x=\"3163\" y=\"-2085.8\" font-family=\"Helvetica,sans-Serif\" font-size=\"14.00\" fill=\"#000000\">value = [749, 124]</text>\n</g>\n<!-- 93&#45;&gt;94 -->\n<g id=\"edge94\" class=\"edge\">\n<title>93&#45;&gt;94</title>\n<path fill=\"none\" stroke=\"#000000\" d=\"M3309.4301,-2307.5667C3291.1115,-2267.0543 3260.6712,-2199.7344 3240.7197,-2155.6109\"/>\n<polygon fill=\"#000000\" stroke=\"#000000\" points=\"3243.8155,-2153.9623 3236.5062,-2146.2926 3237.4372,-2156.8464 3243.8155,-2153.9623\"/>\n</g>\n<!-- 117 -->\n<g id=\"node118\" class=\"node\">\n<title>117</title>\n<path fill=\"#e6843d\" stroke=\"#000000\" d=\"M3420.5,-2138.5C3420.5,-2138.5 3337.5,-2138.5 3337.5,-2138.5 3331.5,-2138.5 3325.5,-2132.5 3325.5,-2126.5 3325.5,-2126.5 3325.5,-2097.5 3325.5,-2097.5 3325.5,-2091.5 3331.5,-2085.5 3337.5,-2085.5 3337.5,-2085.5 3420.5,-2085.5 3420.5,-2085.5 3426.5,-2085.5 3432.5,-2091.5 3432.5,-2097.5 3432.5,-2097.5 3432.5,-2126.5 3432.5,-2126.5 3432.5,-2132.5 3426.5,-2138.5 3420.5,-2138.5\"/>\n<text text-anchor=\"start\" x=\"3345.5\" y=\"-2123.3\" font-family=\"Helvetica,sans-Serif\" font-size=\"14.00\" fill=\"#000000\">gini = 0.04</text>\n<text text-anchor=\"start\" x=\"3335\" y=\"-2108.3\" font-family=\"Helvetica,sans-Serif\" font-size=\"14.00\" fill=\"#000000\">samples = 98</text>\n<text text-anchor=\"start\" x=\"3333.5\" y=\"-2093.3\" font-family=\"Helvetica,sans-Serif\" font-size=\"14.00\" fill=\"#000000\">value = [96, 2]</text>\n</g>\n<!-- 93&#45;&gt;117 -->\n<g id=\"edge117\" class=\"edge\">\n<title>93&#45;&gt;117</title>\n<path fill=\"none\" stroke=\"#000000\" d=\"M3333.0843,-2307.5667C3343.1081,-2264.8727 3360.122,-2192.4064 3370.3852,-2148.6925\"/>\n<polygon fill=\"#000000\" stroke=\"#000000\" points=\"3373.838,-2149.2988 3372.7164,-2138.7635 3367.0233,-2147.6988 3373.838,-2149.2988\"/>\n</g>\n<!-- 95 -->\n<g id=\"node96\" class=\"node\">\n<title>95</title>\n<path fill=\"#eb9e67\" stroke=\"#000000\" d=\"M3188.5,-1916C3188.5,-1916 3081.5,-1916 3081.5,-1916 3075.5,-1916 3069.5,-1910 3069.5,-1904 3069.5,-1904 3069.5,-1860 3069.5,-1860 3069.5,-1854 3075.5,-1848 3081.5,-1848 3081.5,-1848 3188.5,-1848 3188.5,-1848 3194.5,-1848 3200.5,-1854 3200.5,-1860 3200.5,-1860 3200.5,-1904 3200.5,-1904 3200.5,-1910 3194.5,-1916 3188.5,-1916\"/>\n<text text-anchor=\"start\" x=\"3077.5\" y=\"-1900.8\" font-family=\"Helvetica,sans-Serif\" font-size=\"14.00\" fill=\"#000000\">LogVRDeck ≤ 5.1</text>\n<text text-anchor=\"start\" x=\"3101.5\" y=\"-1885.8\" font-family=\"Helvetica,sans-Serif\" font-size=\"14.00\" fill=\"#000000\">gini = 0.31</text>\n<text text-anchor=\"start\" x=\"3087\" y=\"-1870.8\" font-family=\"Helvetica,sans-Serif\" font-size=\"14.00\" fill=\"#000000\">samples = 334</text>\n<text text-anchor=\"start\" x=\"3081\" y=\"-1855.8\" font-family=\"Helvetica,sans-Serif\" font-size=\"14.00\" fill=\"#000000\">value = [271, 63]</text>\n</g>\n<!-- 94&#45;&gt;95 -->\n<g id=\"edge95\" class=\"edge\">\n<title>94&#45;&gt;95</title>\n<path fill=\"none\" stroke=\"#000000\" d=\"M3208.1249,-2077.5667C3193.0086,-2037.1392 3167.9105,-1970.0165 3151.4106,-1925.8887\"/>\n<polygon fill=\"#000000\" stroke=\"#000000\" points=\"3154.6031,-1924.4334 3147.8224,-1916.2926 3148.0465,-1926.885 3154.6031,-1924.4334\"/>\n</g>\n<!-- 104 -->\n<g id=\"node105\" class=\"node\">\n<title>104</title>\n<path fill=\"#e89152\" stroke=\"#000000\" d=\"M3339,-1916C3339,-1916 3239,-1916 3239,-1916 3233,-1916 3227,-1910 3227,-1904 3227,-1904 3227,-1860 3227,-1860 3227,-1854 3233,-1848 3239,-1848 3239,-1848 3339,-1848 3339,-1848 3345,-1848 3351,-1854 3351,-1860 3351,-1860 3351,-1904 3351,-1904 3351,-1910 3345,-1916 3339,-1916\"/>\n<text text-anchor=\"start\" x=\"3254\" y=\"-1900.8\" font-family=\"Helvetica,sans-Serif\" font-size=\"14.00\" fill=\"#000000\">Age ≤ 42.5</text>\n<text text-anchor=\"start\" x=\"3259.5\" y=\"-1885.8\" font-family=\"Helvetica,sans-Serif\" font-size=\"14.00\" fill=\"#000000\">gini = 0.2</text>\n<text text-anchor=\"start\" x=\"3241\" y=\"-1870.8\" font-family=\"Helvetica,sans-Serif\" font-size=\"14.00\" fill=\"#000000\">samples = 539</text>\n<text text-anchor=\"start\" x=\"3235\" y=\"-1855.8\" font-family=\"Helvetica,sans-Serif\" font-size=\"14.00\" fill=\"#000000\">value = [478, 61]</text>\n</g>\n<!-- 94&#45;&gt;104 -->\n<g id=\"edge104\" class=\"edge\">\n<title>94&#45;&gt;104</title>\n<path fill=\"none\" stroke=\"#000000\" d=\"M3231.1803,-2077.5667C3243.1328,-2037.1392 3262.9777,-1970.0165 3276.0242,-1925.8887\"/>\n<polygon fill=\"#000000\" stroke=\"#000000\" points=\"3279.3824,-1926.8746 3278.8613,-1916.2926 3272.6697,-1924.8899 3279.3824,-1926.8746\"/>\n</g>\n<!-- 96 -->\n<g id=\"node97\" class=\"node\">\n<title>96</title>\n<path fill=\"#eca471\" stroke=\"#000000\" d=\"M2991,-1686C2991,-1686 2891,-1686 2891,-1686 2885,-1686 2879,-1680 2879,-1674 2879,-1674 2879,-1630 2879,-1630 2879,-1624 2885,-1618 2891,-1618 2891,-1618 2991,-1618 2991,-1618 2997,-1618 3003,-1624 3003,-1630 3003,-1630 3003,-1674 3003,-1674 3003,-1680 2997,-1686 2991,-1686\"/>\n<text text-anchor=\"start\" x=\"2908.5\" y=\"-1670.8\" font-family=\"Helvetica,sans-Serif\" font-size=\"14.00\" fill=\"#000000\">Side ≤ 0.5</text>\n<text text-anchor=\"start\" x=\"2907.5\" y=\"-1655.8\" font-family=\"Helvetica,sans-Serif\" font-size=\"14.00\" fill=\"#000000\">gini = 0.34</text>\n<text text-anchor=\"start\" x=\"2893\" y=\"-1640.8\" font-family=\"Helvetica,sans-Serif\" font-size=\"14.00\" fill=\"#000000\">samples = 264</text>\n<text text-anchor=\"start\" x=\"2887\" y=\"-1625.8\" font-family=\"Helvetica,sans-Serif\" font-size=\"14.00\" fill=\"#000000\">value = [206, 58]</text>\n</g>\n<!-- 95&#45;&gt;96 -->\n<g id=\"edge96\" class=\"edge\">\n<title>95&#45;&gt;96</title>\n<path fill=\"none\" stroke=\"#000000\" d=\"M3105.9562,-1847.5667C3071.3551,-1806.5447 3013.5699,-1738.0365 2976.3898,-1693.9569\"/>\n<polygon fill=\"#000000\" stroke=\"#000000\" points=\"2979.048,-1691.6799 2969.925,-1686.2926 2973.6972,-1696.1932 2979.048,-1691.6799\"/>\n</g>\n<!-- 103 -->\n<g id=\"node104\" class=\"node\">\n<title>103</title>\n<path fill=\"#e78b48\" stroke=\"#000000\" d=\"M3176.5,-1678.5C3176.5,-1678.5 3093.5,-1678.5 3093.5,-1678.5 3087.5,-1678.5 3081.5,-1672.5 3081.5,-1666.5 3081.5,-1666.5 3081.5,-1637.5 3081.5,-1637.5 3081.5,-1631.5 3087.5,-1625.5 3093.5,-1625.5 3093.5,-1625.5 3176.5,-1625.5 3176.5,-1625.5 3182.5,-1625.5 3188.5,-1631.5 3188.5,-1637.5 3188.5,-1637.5 3188.5,-1666.5 3188.5,-1666.5 3188.5,-1672.5 3182.5,-1678.5 3176.5,-1678.5\"/>\n<text text-anchor=\"start\" x=\"3101.5\" y=\"-1663.3\" font-family=\"Helvetica,sans-Serif\" font-size=\"14.00\" fill=\"#000000\">gini = 0.13</text>\n<text text-anchor=\"start\" x=\"3091\" y=\"-1648.3\" font-family=\"Helvetica,sans-Serif\" font-size=\"14.00\" fill=\"#000000\">samples = 70</text>\n<text text-anchor=\"start\" x=\"3089.5\" y=\"-1633.3\" font-family=\"Helvetica,sans-Serif\" font-size=\"14.00\" fill=\"#000000\">value = [65, 5]</text>\n</g>\n<!-- 95&#45;&gt;103 -->\n<g id=\"edge103\" class=\"edge\">\n<title>95&#45;&gt;103</title>\n<path fill=\"none\" stroke=\"#000000\" d=\"M3135,-1847.5667C3135,-1804.9628 3135,-1732.7121 3135,-1688.9695\"/>\n<polygon fill=\"#000000\" stroke=\"#000000\" points=\"3138.5001,-1688.7635 3135,-1678.7635 3131.5001,-1688.7636 3138.5001,-1688.7635\"/>\n</g>\n<!-- 97 -->\n<g id=\"node98\" class=\"node\">\n<title>97</title>\n<path fill=\"#e9965a\" stroke=\"#000000\" d=\"M2822.5,-1456C2822.5,-1456 2707.5,-1456 2707.5,-1456 2701.5,-1456 2695.5,-1450 2695.5,-1444 2695.5,-1444 2695.5,-1400 2695.5,-1400 2695.5,-1394 2701.5,-1388 2707.5,-1388 2707.5,-1388 2822.5,-1388 2822.5,-1388 2828.5,-1388 2834.5,-1394 2834.5,-1400 2834.5,-1400 2834.5,-1444 2834.5,-1444 2834.5,-1450 2828.5,-1456 2822.5,-1456\"/>\n<text text-anchor=\"start\" x=\"2703.5\" y=\"-1440.8\" font-family=\"Helvetica,sans-Serif\" font-size=\"14.00\" fill=\"#000000\">LogVRDeck ≤ 0.35</text>\n<text text-anchor=\"start\" x=\"2731.5\" y=\"-1425.8\" font-family=\"Helvetica,sans-Serif\" font-size=\"14.00\" fill=\"#000000\">gini = 0.24</text>\n<text text-anchor=\"start\" x=\"2717\" y=\"-1410.8\" font-family=\"Helvetica,sans-Serif\" font-size=\"14.00\" fill=\"#000000\">samples = 147</text>\n<text text-anchor=\"start\" x=\"2711\" y=\"-1395.8\" font-family=\"Helvetica,sans-Serif\" font-size=\"14.00\" fill=\"#000000\">value = [126, 21]</text>\n</g>\n<!-- 96&#45;&gt;97 -->\n<g id=\"edge97\" class=\"edge\">\n<title>96&#45;&gt;97</title>\n<path fill=\"none\" stroke=\"#000000\" d=\"M2914.651,-1617.5667C2883.3903,-1576.7146 2831.2704,-1508.6034 2797.5262,-1464.5058\"/>\n<polygon fill=\"#000000\" stroke=\"#000000\" points=\"2800.0979,-1462.1072 2791.2413,-1456.2926 2794.5388,-1466.3612 2800.0979,-1462.1072\"/>\n</g>\n<!-- 100 -->\n<g id=\"node101\" class=\"node\">\n<title>100</title>\n<path fill=\"#f1bb95\" stroke=\"#000000\" d=\"M2987.5,-1456C2987.5,-1456 2894.5,-1456 2894.5,-1456 2888.5,-1456 2882.5,-1450 2882.5,-1444 2882.5,-1444 2882.5,-1400 2882.5,-1400 2882.5,-1394 2888.5,-1388 2894.5,-1388 2894.5,-1388 2987.5,-1388 2987.5,-1388 2993.5,-1388 2999.5,-1394 2999.5,-1400 2999.5,-1400 2999.5,-1444 2999.5,-1444 2999.5,-1450 2993.5,-1456 2987.5,-1456\"/>\n<text text-anchor=\"start\" x=\"2890.5\" y=\"-1440.8\" font-family=\"Helvetica,sans-Serif\" font-size=\"14.00\" fill=\"#000000\">Group ≤ 3676.5</text>\n<text text-anchor=\"start\" x=\"2907.5\" y=\"-1425.8\" font-family=\"Helvetica,sans-Serif\" font-size=\"14.00\" fill=\"#000000\">gini = 0.43</text>\n<text text-anchor=\"start\" x=\"2893\" y=\"-1410.8\" font-family=\"Helvetica,sans-Serif\" font-size=\"14.00\" fill=\"#000000\">samples = 117</text>\n<text text-anchor=\"start\" x=\"2891\" y=\"-1395.8\" font-family=\"Helvetica,sans-Serif\" font-size=\"14.00\" fill=\"#000000\">value = [80, 37]</text>\n</g>\n<!-- 96&#45;&gt;100 -->\n<g id=\"edge100\" class=\"edge\">\n<title>96&#45;&gt;100</title>\n<path fill=\"none\" stroke=\"#000000\" d=\"M2941,-1617.5667C2941,-1577.3091 2941,-1510.5801 2941,-1466.4461\"/>\n<polygon fill=\"#000000\" stroke=\"#000000\" points=\"2944.5001,-1466.2925 2941,-1456.2926 2937.5001,-1466.2926 2944.5001,-1466.2925\"/>\n</g>\n<!-- 98 -->\n<g id=\"node99\" class=\"node\">\n<title>98</title>\n<path fill=\"#e89051\" stroke=\"#000000\" d=\"M2677,-1218.5C2677,-1218.5 2585,-1218.5 2585,-1218.5 2579,-1218.5 2573,-1212.5 2573,-1206.5 2573,-1206.5 2573,-1177.5 2573,-1177.5 2573,-1171.5 2579,-1165.5 2585,-1165.5 2585,-1165.5 2677,-1165.5 2677,-1165.5 2683,-1165.5 2689,-1171.5 2689,-1177.5 2689,-1177.5 2689,-1206.5 2689,-1206.5 2689,-1212.5 2683,-1218.5 2677,-1218.5\"/>\n<text text-anchor=\"start\" x=\"2597.5\" y=\"-1203.3\" font-family=\"Helvetica,sans-Serif\" font-size=\"14.00\" fill=\"#000000\">gini = 0.19</text>\n<text text-anchor=\"start\" x=\"2587\" y=\"-1188.3\" font-family=\"Helvetica,sans-Serif\" font-size=\"14.00\" fill=\"#000000\">samples = 93</text>\n<text text-anchor=\"start\" x=\"2581\" y=\"-1173.3\" font-family=\"Helvetica,sans-Serif\" font-size=\"14.00\" fill=\"#000000\">value = [83, 10]</text>\n</g>\n<!-- 97&#45;&gt;98 -->\n<g id=\"edge98\" class=\"edge\">\n<title>97&#45;&gt;98</title>\n<path fill=\"none\" stroke=\"#000000\" d=\"M2744.9388,-1387.5667C2719.8551,-1344.5125 2677.1317,-1271.1812 2651.7362,-1227.592\"/>\n<polygon fill=\"#000000\" stroke=\"#000000\" points=\"2654.6509,-1225.6421 2646.5927,-1218.7635 2648.6026,-1229.166 2654.6509,-1225.6421\"/>\n</g>\n<!-- 99 -->\n<g id=\"node100\" class=\"node\">\n<title>99</title>\n<path fill=\"#eca16c\" stroke=\"#000000\" d=\"M2811,-1218.5C2811,-1218.5 2719,-1218.5 2719,-1218.5 2713,-1218.5 2707,-1212.5 2707,-1206.5 2707,-1206.5 2707,-1177.5 2707,-1177.5 2707,-1171.5 2713,-1165.5 2719,-1165.5 2719,-1165.5 2811,-1165.5 2811,-1165.5 2817,-1165.5 2823,-1171.5 2823,-1177.5 2823,-1177.5 2823,-1206.5 2823,-1206.5 2823,-1212.5 2817,-1218.5 2811,-1218.5\"/>\n<text text-anchor=\"start\" x=\"2731.5\" y=\"-1203.3\" font-family=\"Helvetica,sans-Serif\" font-size=\"14.00\" fill=\"#000000\">gini = 0.32</text>\n<text text-anchor=\"start\" x=\"2721\" y=\"-1188.3\" font-family=\"Helvetica,sans-Serif\" font-size=\"14.00\" fill=\"#000000\">samples = 54</text>\n<text text-anchor=\"start\" x=\"2715\" y=\"-1173.3\" font-family=\"Helvetica,sans-Serif\" font-size=\"14.00\" fill=\"#000000\">value = [43, 11]</text>\n</g>\n<!-- 97&#45;&gt;99 -->\n<g id=\"edge99\" class=\"edge\">\n<title>97&#45;&gt;99</title>\n<path fill=\"none\" stroke=\"#000000\" d=\"M2765,-1387.5667C2765,-1344.9628 2765,-1272.7121 2765,-1228.9695\"/>\n<polygon fill=\"#000000\" stroke=\"#000000\" points=\"2768.5001,-1228.7635 2765,-1218.7635 2761.5001,-1228.7636 2768.5001,-1228.7635\"/>\n</g>\n<!-- 101 -->\n<g id=\"node102\" class=\"node\">\n<title>101</title>\n<path fill=\"#f5d1b7\" stroke=\"#000000\" d=\"M2945,-1218.5C2945,-1218.5 2853,-1218.5 2853,-1218.5 2847,-1218.5 2841,-1212.5 2841,-1206.5 2841,-1206.5 2841,-1177.5 2841,-1177.5 2841,-1171.5 2847,-1165.5 2853,-1165.5 2853,-1165.5 2945,-1165.5 2945,-1165.5 2951,-1165.5 2957,-1171.5 2957,-1177.5 2957,-1177.5 2957,-1206.5 2957,-1206.5 2957,-1212.5 2951,-1218.5 2945,-1218.5\"/>\n<text text-anchor=\"start\" x=\"2865.5\" y=\"-1203.3\" font-family=\"Helvetica,sans-Serif\" font-size=\"14.00\" fill=\"#000000\">gini = 0.47</text>\n<text text-anchor=\"start\" x=\"2855\" y=\"-1188.3\" font-family=\"Helvetica,sans-Serif\" font-size=\"14.00\" fill=\"#000000\">samples = 67</text>\n<text text-anchor=\"start\" x=\"2849\" y=\"-1173.3\" font-family=\"Helvetica,sans-Serif\" font-size=\"14.00\" fill=\"#000000\">value = [41, 26]</text>\n</g>\n<!-- 100&#45;&gt;101 -->\n<g id=\"edge101\" class=\"edge\">\n<title>100&#45;&gt;101</title>\n<path fill=\"none\" stroke=\"#000000\" d=\"M2934.7122,-1387.5667C2926.9159,-1344.8727 2913.6829,-1272.4064 2905.7004,-1228.6925\"/>\n<polygon fill=\"#000000\" stroke=\"#000000\" points=\"2909.1268,-1227.9721 2903.8873,-1218.7635 2902.2407,-1229.2296 2909.1268,-1227.9721\"/>\n</g>\n<!-- 102 -->\n<g id=\"node103\" class=\"node\">\n<title>102</title>\n<path fill=\"#eca571\" stroke=\"#000000\" d=\"M3079,-1218.5C3079,-1218.5 2987,-1218.5 2987,-1218.5 2981,-1218.5 2975,-1212.5 2975,-1206.5 2975,-1206.5 2975,-1177.5 2975,-1177.5 2975,-1171.5 2981,-1165.5 2987,-1165.5 2987,-1165.5 3079,-1165.5 3079,-1165.5 3085,-1165.5 3091,-1171.5 3091,-1177.5 3091,-1177.5 3091,-1206.5 3091,-1206.5 3091,-1212.5 3085,-1218.5 3079,-1218.5\"/>\n<text text-anchor=\"start\" x=\"2999.5\" y=\"-1203.3\" font-family=\"Helvetica,sans-Serif\" font-size=\"14.00\" fill=\"#000000\">gini = 0.34</text>\n<text text-anchor=\"start\" x=\"2989\" y=\"-1188.3\" font-family=\"Helvetica,sans-Serif\" font-size=\"14.00\" fill=\"#000000\">samples = 50</text>\n<text text-anchor=\"start\" x=\"2983\" y=\"-1173.3\" font-family=\"Helvetica,sans-Serif\" font-size=\"14.00\" fill=\"#000000\">value = [39, 11]</text>\n</g>\n<!-- 100&#45;&gt;102 -->\n<g id=\"edge102\" class=\"edge\">\n<title>100&#45;&gt;102</title>\n<path fill=\"none\" stroke=\"#000000\" d=\"M2954.7733,-1387.5667C2971.923,-1344.6926 3001.0823,-1271.7944 3018.5437,-1228.1407\"/>\n<polygon fill=\"#000000\" stroke=\"#000000\" points=\"3021.8303,-1229.3482 3022.2946,-1218.7635 3015.331,-1226.7484 3021.8303,-1229.3482\"/>\n</g>\n<!-- 105 -->\n<g id=\"node106\" class=\"node\">\n<title>105</title>\n<path fill=\"#e88e4e\" stroke=\"#000000\" d=\"M3339,-1686C3339,-1686 3239,-1686 3239,-1686 3233,-1686 3227,-1680 3227,-1674 3227,-1674 3227,-1630 3227,-1630 3227,-1624 3233,-1618 3239,-1618 3239,-1618 3339,-1618 3339,-1618 3345,-1618 3351,-1624 3351,-1630 3351,-1630 3351,-1674 3351,-1674 3351,-1680 3345,-1686 3339,-1686\"/>\n<text text-anchor=\"start\" x=\"3254\" y=\"-1670.8\" font-family=\"Helvetica,sans-Serif\" font-size=\"14.00\" fill=\"#000000\">Age ≤ 24.5</text>\n<text text-anchor=\"start\" x=\"3255.5\" y=\"-1655.8\" font-family=\"Helvetica,sans-Serif\" font-size=\"14.00\" fill=\"#000000\">gini = 0.17</text>\n<text text-anchor=\"start\" x=\"3241\" y=\"-1640.8\" font-family=\"Helvetica,sans-Serif\" font-size=\"14.00\" fill=\"#000000\">samples = 442</text>\n<text text-anchor=\"start\" x=\"3235\" y=\"-1625.8\" font-family=\"Helvetica,sans-Serif\" font-size=\"14.00\" fill=\"#000000\">value = [400, 42]</text>\n</g>\n<!-- 104&#45;&gt;105 -->\n<g id=\"edge105\" class=\"edge\">\n<title>104&#45;&gt;105</title>\n<path fill=\"none\" stroke=\"#000000\" d=\"M3289,-1847.5667C3289,-1807.3091 3289,-1740.5801 3289,-1696.4461\"/>\n<polygon fill=\"#000000\" stroke=\"#000000\" points=\"3292.5001,-1696.2925 3289,-1686.2926 3285.5001,-1696.2926 3292.5001,-1696.2925\"/>\n</g>\n<!-- 116 -->\n<g id=\"node117\" class=\"node\">\n<title>116</title>\n<path fill=\"#eba069\" stroke=\"#000000\" d=\"M3473,-1678.5C3473,-1678.5 3381,-1678.5 3381,-1678.5 3375,-1678.5 3369,-1672.5 3369,-1666.5 3369,-1666.5 3369,-1637.5 3369,-1637.5 3369,-1631.5 3375,-1625.5 3381,-1625.5 3381,-1625.5 3473,-1625.5 3473,-1625.5 3479,-1625.5 3485,-1631.5 3485,-1637.5 3485,-1637.5 3485,-1666.5 3485,-1666.5 3485,-1672.5 3479,-1678.5 3473,-1678.5\"/>\n<text text-anchor=\"start\" x=\"3393.5\" y=\"-1663.3\" font-family=\"Helvetica,sans-Serif\" font-size=\"14.00\" fill=\"#000000\">gini = 0.32</text>\n<text text-anchor=\"start\" x=\"3383\" y=\"-1648.3\" font-family=\"Helvetica,sans-Serif\" font-size=\"14.00\" fill=\"#000000\">samples = 97</text>\n<text text-anchor=\"start\" x=\"3377\" y=\"-1633.3\" font-family=\"Helvetica,sans-Serif\" font-size=\"14.00\" fill=\"#000000\">value = [78, 19]</text>\n</g>\n<!-- 104&#45;&gt;116 -->\n<g id=\"edge116\" class=\"edge\">\n<title>104&#45;&gt;116</title>\n<path fill=\"none\" stroke=\"#000000\" d=\"M3309.66,-1847.5667C3335.4925,-1804.5125 3379.4913,-1731.1812 3405.6448,-1687.592\"/>\n<polygon fill=\"#000000\" stroke=\"#000000\" points=\"3408.7981,-1689.1392 3410.9419,-1678.7635 3402.7957,-1685.5377 3408.7981,-1689.1392\"/>\n</g>\n<!-- 106 -->\n<g id=\"node107\" class=\"node\">\n<title>106</title>\n<path fill=\"#e99558\" stroke=\"#000000\" d=\"M3339,-1456C3339,-1456 3239,-1456 3239,-1456 3233,-1456 3227,-1450 3227,-1444 3227,-1444 3227,-1400 3227,-1400 3227,-1394 3233,-1388 3239,-1388 3239,-1388 3339,-1388 3339,-1388 3345,-1388 3351,-1394 3351,-1400 3351,-1400 3351,-1444 3351,-1444 3351,-1450 3345,-1456 3339,-1456\"/>\n<text text-anchor=\"start\" x=\"3238.5\" y=\"-1440.8\" font-family=\"Helvetica,sans-Serif\" font-size=\"14.00\" fill=\"#000000\">Group ≤ 2197.5</text>\n<text text-anchor=\"start\" x=\"3255.5\" y=\"-1425.8\" font-family=\"Helvetica,sans-Serif\" font-size=\"14.00\" fill=\"#000000\">gini = 0.24</text>\n<text text-anchor=\"start\" x=\"3241\" y=\"-1410.8\" font-family=\"Helvetica,sans-Serif\" font-size=\"14.00\" fill=\"#000000\">samples = 198</text>\n<text text-anchor=\"start\" x=\"3235\" y=\"-1395.8\" font-family=\"Helvetica,sans-Serif\" font-size=\"14.00\" fill=\"#000000\">value = [171, 27]</text>\n</g>\n<!-- 105&#45;&gt;106 -->\n<g id=\"edge106\" class=\"edge\">\n<title>105&#45;&gt;106</title>\n<path fill=\"none\" stroke=\"#000000\" d=\"M3289,-1617.5667C3289,-1577.3091 3289,-1510.5801 3289,-1466.4461\"/>\n<polygon fill=\"#000000\" stroke=\"#000000\" points=\"3292.5001,-1466.2925 3289,-1456.2926 3285.5001,-1466.2926 3292.5001,-1466.2925\"/>\n</g>\n<!-- 111 -->\n<g id=\"node112\" class=\"node\">\n<title>111</title>\n<path fill=\"#e78946\" stroke=\"#000000\" d=\"M3545.5,-1456C3545.5,-1456 3396.5,-1456 3396.5,-1456 3390.5,-1456 3384.5,-1450 3384.5,-1444 3384.5,-1444 3384.5,-1400 3384.5,-1400 3384.5,-1394 3390.5,-1388 3396.5,-1388 3396.5,-1388 3545.5,-1388 3545.5,-1388 3551.5,-1388 3557.5,-1394 3557.5,-1400 3557.5,-1400 3557.5,-1444 3557.5,-1444 3557.5,-1450 3551.5,-1456 3545.5,-1456\"/>\n<text text-anchor=\"start\" x=\"3392.5\" y=\"-1440.8\" font-family=\"Helvetica,sans-Serif\" font-size=\"14.00\" fill=\"#000000\">LogRoomService ≤ 6.93</text>\n<text text-anchor=\"start\" x=\"3437.5\" y=\"-1425.8\" font-family=\"Helvetica,sans-Serif\" font-size=\"14.00\" fill=\"#000000\">gini = 0.12</text>\n<text text-anchor=\"start\" x=\"3423\" y=\"-1410.8\" font-family=\"Helvetica,sans-Serif\" font-size=\"14.00\" fill=\"#000000\">samples = 244</text>\n<text text-anchor=\"start\" x=\"3417\" y=\"-1395.8\" font-family=\"Helvetica,sans-Serif\" font-size=\"14.00\" fill=\"#000000\">value = [229, 15]</text>\n</g>\n<!-- 105&#45;&gt;111 -->\n<g id=\"edge111\" class=\"edge\">\n<title>105&#45;&gt;111</title>\n<path fill=\"none\" stroke=\"#000000\" d=\"M3316.2472,-1617.5667C3348.6409,-1576.6296 3402.6945,-1508.3201 3437.5824,-1464.231\"/>\n<polygon fill=\"#000000\" stroke=\"#000000\" points=\"3440.4035,-1466.3063 3443.8641,-1456.2926 3434.9142,-1461.9626 3440.4035,-1466.3063\"/>\n</g>\n<!-- 107 -->\n<g id=\"node108\" class=\"node\">\n<title>107</title>\n<path fill=\"#e78a47\" stroke=\"#000000\" d=\"M3204.5,-1218.5C3204.5,-1218.5 3121.5,-1218.5 3121.5,-1218.5 3115.5,-1218.5 3109.5,-1212.5 3109.5,-1206.5 3109.5,-1206.5 3109.5,-1177.5 3109.5,-1177.5 3109.5,-1171.5 3115.5,-1165.5 3121.5,-1165.5 3121.5,-1165.5 3204.5,-1165.5 3204.5,-1165.5 3210.5,-1165.5 3216.5,-1171.5 3216.5,-1177.5 3216.5,-1177.5 3216.5,-1206.5 3216.5,-1206.5 3216.5,-1212.5 3210.5,-1218.5 3204.5,-1218.5\"/>\n<text text-anchor=\"start\" x=\"3129.5\" y=\"-1203.3\" font-family=\"Helvetica,sans-Serif\" font-size=\"14.00\" fill=\"#000000\">gini = 0.13</text>\n<text text-anchor=\"start\" x=\"3119\" y=\"-1188.3\" font-family=\"Helvetica,sans-Serif\" font-size=\"14.00\" fill=\"#000000\">samples = 89</text>\n<text text-anchor=\"start\" x=\"3117.5\" y=\"-1173.3\" font-family=\"Helvetica,sans-Serif\" font-size=\"14.00\" fill=\"#000000\">value = [83, 6]</text>\n</g>\n<!-- 106&#45;&gt;107 -->\n<g id=\"edge107\" class=\"edge\">\n<title>106&#45;&gt;107</title>\n<path fill=\"none\" stroke=\"#000000\" d=\"M3270.1365,-1387.5667C3246.5503,-1344.5125 3206.3776,-1271.1812 3182.4982,-1227.592\"/>\n<polygon fill=\"#000000\" stroke=\"#000000\" points=\"3185.5359,-1225.8521 3177.6618,-1218.7635 3179.3968,-1229.2153 3185.5359,-1225.8521\"/>\n</g>\n<!-- 108 -->\n<g id=\"node109\" class=\"node\">\n<title>108</title>\n<path fill=\"#eb9f68\" stroke=\"#000000\" d=\"M3395.5,-1226C3395.5,-1226 3246.5,-1226 3246.5,-1226 3240.5,-1226 3234.5,-1220 3234.5,-1214 3234.5,-1214 3234.5,-1170 3234.5,-1170 3234.5,-1164 3240.5,-1158 3246.5,-1158 3246.5,-1158 3395.5,-1158 3395.5,-1158 3401.5,-1158 3407.5,-1164 3407.5,-1170 3407.5,-1170 3407.5,-1214 3407.5,-1214 3407.5,-1220 3401.5,-1226 3395.5,-1226\"/>\n<text text-anchor=\"start\" x=\"3242.5\" y=\"-1210.8\" font-family=\"Helvetica,sans-Serif\" font-size=\"14.00\" fill=\"#000000\">LogShoppingMall ≤ 3.76</text>\n<text text-anchor=\"start\" x=\"3287.5\" y=\"-1195.8\" font-family=\"Helvetica,sans-Serif\" font-size=\"14.00\" fill=\"#000000\">gini = 0.31</text>\n<text text-anchor=\"start\" x=\"3273\" y=\"-1180.8\" font-family=\"Helvetica,sans-Serif\" font-size=\"14.00\" fill=\"#000000\">samples = 109</text>\n<text text-anchor=\"start\" x=\"3271\" y=\"-1165.8\" font-family=\"Helvetica,sans-Serif\" font-size=\"14.00\" fill=\"#000000\">value = [88, 21]</text>\n</g>\n<!-- 106&#45;&gt;108 -->\n<g id=\"edge108\" class=\"edge\">\n<title>106&#45;&gt;108</title>\n<path fill=\"none\" stroke=\"#000000\" d=\"M3293.7907,-1387.5667C3299.3918,-1347.3091 3308.6758,-1280.5801 3314.8162,-1236.4461\"/>\n<polygon fill=\"#000000\" stroke=\"#000000\" points=\"3318.3174,-1236.6795 3316.2289,-1226.2926 3311.3841,-1235.7148 3318.3174,-1236.6795\"/>\n</g>\n<!-- 109 -->\n<g id=\"node110\" class=\"node\">\n<title>109</title>\n<path fill=\"#f0b68c\" stroke=\"#000000\" d=\"M3311,-988.5C3311,-988.5 3219,-988.5 3219,-988.5 3213,-988.5 3207,-982.5 3207,-976.5 3207,-976.5 3207,-947.5 3207,-947.5 3207,-941.5 3213,-935.5 3219,-935.5 3219,-935.5 3311,-935.5 3311,-935.5 3317,-935.5 3323,-941.5 3323,-947.5 3323,-947.5 3323,-976.5 3323,-976.5 3323,-982.5 3317,-988.5 3311,-988.5\"/>\n<text text-anchor=\"start\" x=\"3231.5\" y=\"-973.3\" font-family=\"Helvetica,sans-Serif\" font-size=\"14.00\" fill=\"#000000\">gini = 0.42</text>\n<text text-anchor=\"start\" x=\"3221\" y=\"-958.3\" font-family=\"Helvetica,sans-Serif\" font-size=\"14.00\" fill=\"#000000\">samples = 54</text>\n<text text-anchor=\"start\" x=\"3215\" y=\"-943.3\" font-family=\"Helvetica,sans-Serif\" font-size=\"14.00\" fill=\"#000000\">value = [38, 16]</text>\n</g>\n<!-- 108&#45;&gt;109 -->\n<g id=\"edge109\" class=\"edge\">\n<title>108&#45;&gt;109</title>\n<path fill=\"none\" stroke=\"#000000\" d=\"M3312.6162,-1157.5667C3302.2212,-1114.8727 3284.5772,-1042.4064 3273.9338,-998.6925\"/>\n<polygon fill=\"#000000\" stroke=\"#000000\" points=\"3277.2827,-997.6517 3271.5163,-988.7635 3270.4814,-999.3077 3277.2827,-997.6517\"/>\n</g>\n<!-- 110 -->\n<g id=\"node111\" class=\"node\">\n<title>110</title>\n<path fill=\"#e88e4d\" stroke=\"#000000\" d=\"M3436.5,-988.5C3436.5,-988.5 3353.5,-988.5 3353.5,-988.5 3347.5,-988.5 3341.5,-982.5 3341.5,-976.5 3341.5,-976.5 3341.5,-947.5 3341.5,-947.5 3341.5,-941.5 3347.5,-935.5 3353.5,-935.5 3353.5,-935.5 3436.5,-935.5 3436.5,-935.5 3442.5,-935.5 3448.5,-941.5 3448.5,-947.5 3448.5,-947.5 3448.5,-976.5 3448.5,-976.5 3448.5,-982.5 3442.5,-988.5 3436.5,-988.5\"/>\n<text text-anchor=\"start\" x=\"3361.5\" y=\"-973.3\" font-family=\"Helvetica,sans-Serif\" font-size=\"14.00\" fill=\"#000000\">gini = 0.17</text>\n<text text-anchor=\"start\" x=\"3351\" y=\"-958.3\" font-family=\"Helvetica,sans-Serif\" font-size=\"14.00\" fill=\"#000000\">samples = 55</text>\n<text text-anchor=\"start\" x=\"3349.5\" y=\"-943.3\" font-family=\"Helvetica,sans-Serif\" font-size=\"14.00\" fill=\"#000000\">value = [50, 5]</text>\n</g>\n<!-- 108&#45;&gt;110 -->\n<g id=\"edge110\" class=\"edge\">\n<title>108&#45;&gt;110</title>\n<path fill=\"none\" stroke=\"#000000\" d=\"M3332.0785,-1157.5667C3345.8438,-1114.7827 3369.2285,-1042.1005 3383.2835,-998.4162\"/>\n<polygon fill=\"#000000\" stroke=\"#000000\" points=\"3386.6581,-999.3549 3386.3891,-988.7635 3379.9945,-997.211 3386.6581,-999.3549\"/>\n</g>\n<!-- 112 -->\n<g id=\"node113\" class=\"node\">\n<title>112</title>\n<path fill=\"#e99254\" stroke=\"#000000\" d=\"M3520.5,-1218.5C3520.5,-1218.5 3437.5,-1218.5 3437.5,-1218.5 3431.5,-1218.5 3425.5,-1212.5 3425.5,-1206.5 3425.5,-1206.5 3425.5,-1177.5 3425.5,-1177.5 3425.5,-1171.5 3431.5,-1165.5 3437.5,-1165.5 3437.5,-1165.5 3520.5,-1165.5 3520.5,-1165.5 3526.5,-1165.5 3532.5,-1171.5 3532.5,-1177.5 3532.5,-1177.5 3532.5,-1206.5 3532.5,-1206.5 3532.5,-1212.5 3526.5,-1218.5 3520.5,-1218.5\"/>\n<text text-anchor=\"start\" x=\"3445.5\" y=\"-1203.3\" font-family=\"Helvetica,sans-Serif\" font-size=\"14.00\" fill=\"#000000\">gini = 0.21</text>\n<text text-anchor=\"start\" x=\"3435\" y=\"-1188.3\" font-family=\"Helvetica,sans-Serif\" font-size=\"14.00\" fill=\"#000000\">samples = 74</text>\n<text text-anchor=\"start\" x=\"3433.5\" y=\"-1173.3\" font-family=\"Helvetica,sans-Serif\" font-size=\"14.00\" fill=\"#000000\">value = [65, 9]</text>\n</g>\n<!-- 111&#45;&gt;112 -->\n<g id=\"edge112\" class=\"edge\">\n<title>111&#45;&gt;112</title>\n<path fill=\"none\" stroke=\"#000000\" d=\"M3472.1977,-1387.5667C3473.6796,-1344.9628 3476.1926,-1272.7121 3477.7141,-1228.9695\"/>\n<polygon fill=\"#000000\" stroke=\"#000000\" points=\"3481.2193,-1228.8792 3478.0691,-1218.7635 3474.2235,-1228.6358 3481.2193,-1228.8792\"/>\n</g>\n<!-- 113 -->\n<g id=\"node114\" class=\"node\">\n<title>113</title>\n<path fill=\"#e68640\" stroke=\"#000000\" d=\"M3655,-1226C3655,-1226 3563,-1226 3563,-1226 3557,-1226 3551,-1220 3551,-1214 3551,-1214 3551,-1170 3551,-1170 3551,-1164 3557,-1158 3563,-1158 3563,-1158 3655,-1158 3655,-1158 3661,-1158 3667,-1164 3667,-1170 3667,-1170 3667,-1214 3667,-1214 3667,-1220 3661,-1226 3655,-1226\"/>\n<text text-anchor=\"start\" x=\"3574\" y=\"-1210.8\" font-family=\"Helvetica,sans-Serif\" font-size=\"14.00\" fill=\"#000000\">Age ≤ 32.5</text>\n<text text-anchor=\"start\" x=\"3575.5\" y=\"-1195.8\" font-family=\"Helvetica,sans-Serif\" font-size=\"14.00\" fill=\"#000000\">gini = 0.07</text>\n<text text-anchor=\"start\" x=\"3561\" y=\"-1180.8\" font-family=\"Helvetica,sans-Serif\" font-size=\"14.00\" fill=\"#000000\">samples = 170</text>\n<text text-anchor=\"start\" x=\"3559\" y=\"-1165.8\" font-family=\"Helvetica,sans-Serif\" font-size=\"14.00\" fill=\"#000000\">value = [164, 6]</text>\n</g>\n<!-- 111&#45;&gt;113 -->\n<g id=\"edge113\" class=\"edge\">\n<title>111&#45;&gt;113</title>\n<path fill=\"none\" stroke=\"#000000\" d=\"M3491.66,-1387.5667C3516.0693,-1346.8844 3556.6984,-1279.1694 3583.1657,-1235.0571\"/>\n<polygon fill=\"#000000\" stroke=\"#000000\" points=\"3586.2807,-1236.6683 3588.4245,-1226.2926 3580.2782,-1233.0668 3586.2807,-1236.6683\"/>\n</g>\n<!-- 114 -->\n<g id=\"node115\" class=\"node\">\n<title>114</title>\n<path fill=\"#e5823b\" stroke=\"#000000\" d=\"M3580.5,-988.5C3580.5,-988.5 3497.5,-988.5 3497.5,-988.5 3491.5,-988.5 3485.5,-982.5 3485.5,-976.5 3485.5,-976.5 3485.5,-947.5 3485.5,-947.5 3485.5,-941.5 3491.5,-935.5 3497.5,-935.5 3497.5,-935.5 3580.5,-935.5 3580.5,-935.5 3586.5,-935.5 3592.5,-941.5 3592.5,-947.5 3592.5,-947.5 3592.5,-976.5 3592.5,-976.5 3592.5,-982.5 3586.5,-988.5 3580.5,-988.5\"/>\n<text text-anchor=\"start\" x=\"3505.5\" y=\"-973.3\" font-family=\"Helvetica,sans-Serif\" font-size=\"14.00\" fill=\"#000000\">gini = 0.02</text>\n<text text-anchor=\"start\" x=\"3495\" y=\"-958.3\" font-family=\"Helvetica,sans-Serif\" font-size=\"14.00\" fill=\"#000000\">samples = 95</text>\n<text text-anchor=\"start\" x=\"3493.5\" y=\"-943.3\" font-family=\"Helvetica,sans-Serif\" font-size=\"14.00\" fill=\"#000000\">value = [94, 1]</text>\n</g>\n<!-- 113&#45;&gt;114 -->\n<g id=\"edge114\" class=\"edge\">\n<title>113&#45;&gt;114</title>\n<path fill=\"none\" stroke=\"#000000\" d=\"M3598.5203,-1157.5667C3585.4991,-1114.7827 3563.3784,-1042.1005 3550.0832,-998.4162\"/>\n<polygon fill=\"#000000\" stroke=\"#000000\" points=\"3553.4055,-997.3112 3547.1454,-988.7635 3546.7087,-999.3494 3553.4055,-997.3112\"/>\n</g>\n<!-- 115 -->\n<g id=\"node116\" class=\"node\">\n<title>115</title>\n<path fill=\"#e78a47\" stroke=\"#000000\" d=\"M3705.5,-988.5C3705.5,-988.5 3622.5,-988.5 3622.5,-988.5 3616.5,-988.5 3610.5,-982.5 3610.5,-976.5 3610.5,-976.5 3610.5,-947.5 3610.5,-947.5 3610.5,-941.5 3616.5,-935.5 3622.5,-935.5 3622.5,-935.5 3705.5,-935.5 3705.5,-935.5 3711.5,-935.5 3717.5,-941.5 3717.5,-947.5 3717.5,-947.5 3717.5,-976.5 3717.5,-976.5 3717.5,-982.5 3711.5,-988.5 3705.5,-988.5\"/>\n<text text-anchor=\"start\" x=\"3630.5\" y=\"-973.3\" font-family=\"Helvetica,sans-Serif\" font-size=\"14.00\" fill=\"#000000\">gini = 0.12</text>\n<text text-anchor=\"start\" x=\"3620\" y=\"-958.3\" font-family=\"Helvetica,sans-Serif\" font-size=\"14.00\" fill=\"#000000\">samples = 75</text>\n<text text-anchor=\"start\" x=\"3618.5\" y=\"-943.3\" font-family=\"Helvetica,sans-Serif\" font-size=\"14.00\" fill=\"#000000\">value = [70, 5]</text>\n</g>\n<!-- 113&#45;&gt;115 -->\n<g id=\"edge115\" class=\"edge\">\n<title>113&#45;&gt;115</title>\n<path fill=\"none\" stroke=\"#000000\" d=\"M3617.2341,-1157.5667C3627.4435,-1114.8727 3644.7724,-1042.4064 3655.2257,-998.6925\"/>\n<polygon fill=\"#000000\" stroke=\"#000000\" points=\"3658.6782,-999.3033 3657.6,-988.7635 3651.8702,-997.6753 3658.6782,-999.3033\"/>\n</g>\n<!-- 121 -->\n<g id=\"node122\" class=\"node\">\n<title>121</title>\n<path fill=\"#99cdf2\" stroke=\"#000000\" d=\"M4025,-2836C4025,-2836 3917,-2836 3917,-2836 3911,-2836 3905,-2830 3905,-2824 3905,-2824 3905,-2780 3905,-2780 3905,-2774 3911,-2768 3917,-2768 3917,-2768 4025,-2768 4025,-2768 4031,-2768 4037,-2774 4037,-2780 4037,-2780 4037,-2824 4037,-2824 4037,-2830 4031,-2836 4025,-2836\"/>\n<text text-anchor=\"start\" x=\"3920.5\" y=\"-2820.8\" font-family=\"Helvetica,sans-Serif\" font-size=\"14.00\" fill=\"#000000\">Group ≤ 1873.0</text>\n<text text-anchor=\"start\" x=\"3937.5\" y=\"-2805.8\" font-family=\"Helvetica,sans-Serif\" font-size=\"14.00\" fill=\"#000000\">gini = 0.44</text>\n<text text-anchor=\"start\" x=\"3919\" y=\"-2790.8\" font-family=\"Helvetica,sans-Serif\" font-size=\"14.00\" fill=\"#000000\">samples = 1093</text>\n<text text-anchor=\"start\" x=\"3913\" y=\"-2775.8\" font-family=\"Helvetica,sans-Serif\" font-size=\"14.00\" fill=\"#000000\">value = [358, 735]</text>\n</g>\n<!-- 120&#45;&gt;121 -->\n<g id=\"edge121\" class=\"edge\">\n<title>120&#45;&gt;121</title>\n<path fill=\"none\" stroke=\"#000000\" d=\"M3971,-2997.5667C3971,-2957.3091 3971,-2890.5801 3971,-2846.4461\"/>\n<polygon fill=\"#000000\" stroke=\"#000000\" points=\"3974.5001,-2846.2925 3971,-2836.2926 3967.5001,-2846.2926 3974.5001,-2846.2925\"/>\n</g>\n<!-- 154 -->\n<g id=\"node155\" class=\"node\">\n<title>154</title>\n<path fill=\"#42a1e6\" stroke=\"#000000\" d=\"M4958,-2836C4958,-2836 4850,-2836 4850,-2836 4844,-2836 4838,-2830 4838,-2824 4838,-2824 4838,-2780 4838,-2780 4838,-2774 4844,-2768 4850,-2768 4850,-2768 4958,-2768 4958,-2768 4964,-2768 4970,-2774 4970,-2780 4970,-2780 4970,-2824 4970,-2824 4970,-2830 4964,-2836 4958,-2836\"/>\n<text text-anchor=\"start\" x=\"4846\" y=\"-2820.8\" font-family=\"Helvetica,sans-Serif\" font-size=\"14.00\" fill=\"#000000\">HomePlanet ≤ 1.5</text>\n<text text-anchor=\"start\" x=\"4870.5\" y=\"-2805.8\" font-family=\"Helvetica,sans-Serif\" font-size=\"14.00\" fill=\"#000000\">gini = 0.08</text>\n<text text-anchor=\"start\" x=\"4852\" y=\"-2790.8\" font-family=\"Helvetica,sans-Serif\" font-size=\"14.00\" fill=\"#000000\">samples = 1159</text>\n<text text-anchor=\"start\" x=\"4846\" y=\"-2775.8\" font-family=\"Helvetica,sans-Serif\" font-size=\"14.00\" fill=\"#000000\">value = [50, 1109]</text>\n</g>\n<!-- 120&#45;&gt;154 -->\n<g id=\"edge154\" class=\"edge\">\n<title>120&#45;&gt;154</title>\n<path fill=\"none\" stroke=\"#000000\" d=\"M4042.2766,-3014.4291C4214.3152,-2972.0188 4651.113,-2864.3408 4827.9439,-2820.7491\"/>\n<polygon fill=\"#000000\" stroke=\"#000000\" points=\"4828.8192,-2824.1382 4837.6908,-2818.3463 4827.1437,-2817.3416 4828.8192,-2824.1382\"/>\n</g>\n<!-- 122 -->\n<g id=\"node123\" class=\"node\">\n<title>122</title>\n<path fill=\"#deeefb\" stroke=\"#000000\" d=\"M3817,-2606C3817,-2606 3709,-2606 3709,-2606 3703,-2606 3697,-2600 3697,-2594 3697,-2594 3697,-2550 3697,-2550 3697,-2544 3703,-2538 3709,-2538 3709,-2538 3817,-2538 3817,-2538 3823,-2538 3829,-2544 3829,-2550 3829,-2550 3829,-2594 3829,-2594 3829,-2600 3823,-2606 3817,-2606\"/>\n<text text-anchor=\"start\" x=\"3708.5\" y=\"-2590.8\" font-family=\"Helvetica,sans-Serif\" font-size=\"14.00\" fill=\"#000000\">Destination ≤ 0.5</text>\n<text text-anchor=\"start\" x=\"3733.5\" y=\"-2575.8\" font-family=\"Helvetica,sans-Serif\" font-size=\"14.00\" fill=\"#000000\">gini = 0.5</text>\n<text text-anchor=\"start\" x=\"3715\" y=\"-2560.8\" font-family=\"Helvetica,sans-Serif\" font-size=\"14.00\" fill=\"#000000\">samples = 326</text>\n<text text-anchor=\"start\" x=\"3705\" y=\"-2545.8\" font-family=\"Helvetica,sans-Serif\" font-size=\"14.00\" fill=\"#000000\">value = [148, 178]</text>\n</g>\n<!-- 121&#45;&gt;122 -->\n<g id=\"edge122\" class=\"edge\">\n<title>121&#45;&gt;122</title>\n<path fill=\"none\" stroke=\"#000000\" d=\"M3939.8603,-2767.5667C3902.7622,-2726.5447 3840.807,-2658.0365 3800.9437,-2613.9569\"/>\n<polygon fill=\"#000000\" stroke=\"#000000\" points=\"3803.3158,-2611.3619 3794.0124,-2606.2926 3798.124,-2616.0571 3803.3158,-2611.3619\"/>\n</g>\n<!-- 133 -->\n<g id=\"node134\" class=\"node\">\n<title>133</title>\n<path fill=\"#84c2ef\" stroke=\"#000000\" d=\"M4154,-2606C4154,-2606 4046,-2606 4046,-2606 4040,-2606 4034,-2600 4034,-2594 4034,-2594 4034,-2550 4034,-2550 4034,-2544 4040,-2538 4046,-2538 4046,-2538 4154,-2538 4154,-2538 4160,-2538 4166,-2544 4166,-2550 4166,-2550 4166,-2594 4166,-2594 4166,-2600 4160,-2606 4154,-2606\"/>\n<text text-anchor=\"start\" x=\"4067.5\" y=\"-2590.8\" font-family=\"Helvetica,sans-Serif\" font-size=\"14.00\" fill=\"#000000\">Side ≤ 0.5</text>\n<text text-anchor=\"start\" x=\"4070.5\" y=\"-2575.8\" font-family=\"Helvetica,sans-Serif\" font-size=\"14.00\" fill=\"#000000\">gini = 0.4</text>\n<text text-anchor=\"start\" x=\"4052\" y=\"-2560.8\" font-family=\"Helvetica,sans-Serif\" font-size=\"14.00\" fill=\"#000000\">samples = 767</text>\n<text text-anchor=\"start\" x=\"4042\" y=\"-2545.8\" font-family=\"Helvetica,sans-Serif\" font-size=\"14.00\" fill=\"#000000\">value = [210, 557]</text>\n</g>\n<!-- 121&#45;&gt;133 -->\n<g id=\"edge133\" class=\"edge\">\n<title>121&#45;&gt;133</title>\n<path fill=\"none\" stroke=\"#000000\" d=\"M3990.3126,-2767.5667C4013.13,-2726.8844 4051.1094,-2659.1694 4075.8506,-2615.0571\"/>\n<polygon fill=\"#000000\" stroke=\"#000000\" points=\"4078.9271,-2616.7266 4080.7663,-2606.2926 4072.8218,-2613.3023 4078.9271,-2616.7266\"/>\n</g>\n<!-- 123 -->\n<g id=\"node124\" class=\"node\">\n<title>123</title>\n<path fill=\"#96cbf1\" stroke=\"#000000\" d=\"M3667,-2368.5C3667,-2368.5 3575,-2368.5 3575,-2368.5 3569,-2368.5 3563,-2362.5 3563,-2356.5 3563,-2356.5 3563,-2327.5 3563,-2327.5 3563,-2321.5 3569,-2315.5 3575,-2315.5 3575,-2315.5 3667,-2315.5 3667,-2315.5 3673,-2315.5 3679,-2321.5 3679,-2327.5 3679,-2327.5 3679,-2356.5 3679,-2356.5 3679,-2362.5 3673,-2368.5 3667,-2368.5\"/>\n<text text-anchor=\"start\" x=\"3587.5\" y=\"-2353.3\" font-family=\"Helvetica,sans-Serif\" font-size=\"14.00\" fill=\"#000000\">gini = 0.44</text>\n<text text-anchor=\"start\" x=\"3577\" y=\"-2338.3\" font-family=\"Helvetica,sans-Serif\" font-size=\"14.00\" fill=\"#000000\">samples = 50</text>\n<text text-anchor=\"start\" x=\"3571\" y=\"-2323.3\" font-family=\"Helvetica,sans-Serif\" font-size=\"14.00\" fill=\"#000000\">value = [16, 34]</text>\n</g>\n<!-- 122&#45;&gt;123 -->\n<g id=\"edge123\" class=\"edge\">\n<title>122&#45;&gt;123</title>\n<path fill=\"none\" stroke=\"#000000\" d=\"M3741.7412,-2537.5667C3715.1043,-2494.4224 3669.6963,-2420.8743 3642.8055,-2377.3188\"/>\n<polygon fill=\"#000000\" stroke=\"#000000\" points=\"3645.7551,-2375.4338 3637.5236,-2368.7635 3639.7988,-2379.1112 3645.7551,-2375.4338\"/>\n</g>\n<!-- 124 -->\n<g id=\"node125\" class=\"node\">\n<title>124</title>\n<path fill=\"#eff7fd\" stroke=\"#000000\" d=\"M3817,-2376C3817,-2376 3709,-2376 3709,-2376 3703,-2376 3697,-2370 3697,-2364 3697,-2364 3697,-2320 3697,-2320 3697,-2314 3703,-2308 3709,-2308 3709,-2308 3817,-2308 3817,-2308 3823,-2308 3829,-2314 3829,-2320 3829,-2320 3829,-2364 3829,-2364 3829,-2370 3823,-2376 3817,-2376\"/>\n<text text-anchor=\"start\" x=\"3728\" y=\"-2360.8\" font-family=\"Helvetica,sans-Serif\" font-size=\"14.00\" fill=\"#000000\">Age ≤ 13.5</text>\n<text text-anchor=\"start\" x=\"3733.5\" y=\"-2345.8\" font-family=\"Helvetica,sans-Serif\" font-size=\"14.00\" fill=\"#000000\">gini = 0.5</text>\n<text text-anchor=\"start\" x=\"3715\" y=\"-2330.8\" font-family=\"Helvetica,sans-Serif\" font-size=\"14.00\" fill=\"#000000\">samples = 276</text>\n<text text-anchor=\"start\" x=\"3705\" y=\"-2315.8\" font-family=\"Helvetica,sans-Serif\" font-size=\"14.00\" fill=\"#000000\">value = [132, 144]</text>\n</g>\n<!-- 122&#45;&gt;124 -->\n<g id=\"edge124\" class=\"edge\">\n<title>122&#45;&gt;124</title>\n<path fill=\"none\" stroke=\"#000000\" d=\"M3763,-2537.5667C3763,-2497.3091 3763,-2430.5801 3763,-2386.4461\"/>\n<polygon fill=\"#000000\" stroke=\"#000000\" points=\"3766.5001,-2386.2925 3763,-2376.2926 3759.5001,-2386.2926 3766.5001,-2386.2925\"/>\n</g>\n<!-- 125 -->\n<g id=\"node126\" class=\"node\">\n<title>125</title>\n<path fill=\"#f7dac5\" stroke=\"#000000\" d=\"M3671,-2138.5C3671,-2138.5 3579,-2138.5 3579,-2138.5 3573,-2138.5 3567,-2132.5 3567,-2126.5 3567,-2126.5 3567,-2097.5 3567,-2097.5 3567,-2091.5 3573,-2085.5 3579,-2085.5 3579,-2085.5 3671,-2085.5 3671,-2085.5 3677,-2085.5 3683,-2091.5 3683,-2097.5 3683,-2097.5 3683,-2126.5 3683,-2126.5 3683,-2132.5 3677,-2138.5 3671,-2138.5\"/>\n<text text-anchor=\"start\" x=\"3591.5\" y=\"-2123.3\" font-family=\"Helvetica,sans-Serif\" font-size=\"14.00\" fill=\"#000000\">gini = 0.49</text>\n<text text-anchor=\"start\" x=\"3581\" y=\"-2108.3\" font-family=\"Helvetica,sans-Serif\" font-size=\"14.00\" fill=\"#000000\">samples = 58</text>\n<text text-anchor=\"start\" x=\"3575\" y=\"-2093.3\" font-family=\"Helvetica,sans-Serif\" font-size=\"14.00\" fill=\"#000000\">value = [34, 24]</text>\n</g>\n<!-- 124&#45;&gt;125 -->\n<g id=\"edge125\" class=\"edge\">\n<title>124&#45;&gt;125</title>\n<path fill=\"none\" stroke=\"#000000\" d=\"M3742.34,-2307.5667C3716.5075,-2264.5125 3672.5087,-2191.1812 3646.3552,-2147.592\"/>\n<polygon fill=\"#000000\" stroke=\"#000000\" points=\"3649.2043,-2145.5377 3641.0581,-2138.7635 3643.2019,-2149.1392 3649.2043,-2145.5377\"/>\n</g>\n<!-- 126 -->\n<g id=\"node127\" class=\"node\">\n<title>126</title>\n<path fill=\"#dbedfa\" stroke=\"#000000\" d=\"M3813,-2146C3813,-2146 3713,-2146 3713,-2146 3707,-2146 3701,-2140 3701,-2134 3701,-2134 3701,-2090 3701,-2090 3701,-2084 3707,-2078 3713,-2078 3713,-2078 3813,-2078 3813,-2078 3819,-2078 3825,-2084 3825,-2090 3825,-2090 3825,-2134 3825,-2134 3825,-2140 3819,-2146 3813,-2146\"/>\n<text text-anchor=\"start\" x=\"3728\" y=\"-2130.8\" font-family=\"Helvetica,sans-Serif\" font-size=\"14.00\" fill=\"#000000\">Age ≤ 19.5</text>\n<text text-anchor=\"start\" x=\"3729.5\" y=\"-2115.8\" font-family=\"Helvetica,sans-Serif\" font-size=\"14.00\" fill=\"#000000\">gini = 0.49</text>\n<text text-anchor=\"start\" x=\"3715\" y=\"-2100.8\" font-family=\"Helvetica,sans-Serif\" font-size=\"14.00\" fill=\"#000000\">samples = 218</text>\n<text text-anchor=\"start\" x=\"3709\" y=\"-2085.8\" font-family=\"Helvetica,sans-Serif\" font-size=\"14.00\" fill=\"#000000\">value = [98, 120]</text>\n</g>\n<!-- 124&#45;&gt;126 -->\n<g id=\"edge126\" class=\"edge\">\n<title>124&#45;&gt;126</title>\n<path fill=\"none\" stroke=\"#000000\" d=\"M3763,-2307.5667C3763,-2267.3091 3763,-2200.5801 3763,-2156.4461\"/>\n<polygon fill=\"#000000\" stroke=\"#000000\" points=\"3766.5001,-2156.2925 3763,-2146.2926 3759.5001,-2156.2926 3766.5001,-2156.2925\"/>\n</g>\n<!-- 127 -->\n<g id=\"node128\" class=\"node\">\n<title>127</title>\n<path fill=\"#91c9f1\" stroke=\"#000000\" d=\"M3674,-1908.5C3674,-1908.5 3582,-1908.5 3582,-1908.5 3576,-1908.5 3570,-1902.5 3570,-1896.5 3570,-1896.5 3570,-1867.5 3570,-1867.5 3570,-1861.5 3576,-1855.5 3582,-1855.5 3582,-1855.5 3674,-1855.5 3674,-1855.5 3680,-1855.5 3686,-1861.5 3686,-1867.5 3686,-1867.5 3686,-1896.5 3686,-1896.5 3686,-1902.5 3680,-1908.5 3674,-1908.5\"/>\n<text text-anchor=\"start\" x=\"3594.5\" y=\"-1893.3\" font-family=\"Helvetica,sans-Serif\" font-size=\"14.00\" fill=\"#000000\">gini = 0.43</text>\n<text text-anchor=\"start\" x=\"3584\" y=\"-1878.3\" font-family=\"Helvetica,sans-Serif\" font-size=\"14.00\" fill=\"#000000\">samples = 52</text>\n<text text-anchor=\"start\" x=\"3578\" y=\"-1863.3\" font-family=\"Helvetica,sans-Serif\" font-size=\"14.00\" fill=\"#000000\">value = [16, 36]</text>\n</g>\n<!-- 126&#45;&gt;127 -->\n<g id=\"edge127\" class=\"edge\">\n<title>126&#45;&gt;127</title>\n<path fill=\"none\" stroke=\"#000000\" d=\"M3742.7891,-2077.5667C3717.5182,-2034.5125 3674.476,-1961.1812 3648.8909,-1917.592\"/>\n<polygon fill=\"#000000\" stroke=\"#000000\" points=\"3651.7895,-1915.616 3643.709,-1908.7635 3645.7526,-1919.1594 3651.7895,-1915.616\"/>\n</g>\n<!-- 128 -->\n<g id=\"node129\" class=\"node\">\n<title>128</title>\n<path fill=\"#fafdfe\" stroke=\"#000000\" d=\"M3809.5,-1916C3809.5,-1916 3716.5,-1916 3716.5,-1916 3710.5,-1916 3704.5,-1910 3704.5,-1904 3704.5,-1904 3704.5,-1860 3704.5,-1860 3704.5,-1854 3710.5,-1848 3716.5,-1848 3716.5,-1848 3809.5,-1848 3809.5,-1848 3815.5,-1848 3821.5,-1854 3821.5,-1860 3821.5,-1860 3821.5,-1904 3821.5,-1904 3821.5,-1910 3815.5,-1916 3809.5,-1916\"/>\n<text text-anchor=\"start\" x=\"3712.5\" y=\"-1900.8\" font-family=\"Helvetica,sans-Serif\" font-size=\"14.00\" fill=\"#000000\">Group ≤ 1152.5</text>\n<text text-anchor=\"start\" x=\"3733.5\" y=\"-1885.8\" font-family=\"Helvetica,sans-Serif\" font-size=\"14.00\" fill=\"#000000\">gini = 0.5</text>\n<text text-anchor=\"start\" x=\"3715\" y=\"-1870.8\" font-family=\"Helvetica,sans-Serif\" font-size=\"14.00\" fill=\"#000000\">samples = 166</text>\n<text text-anchor=\"start\" x=\"3713\" y=\"-1855.8\" font-family=\"Helvetica,sans-Serif\" font-size=\"14.00\" fill=\"#000000\">value = [82, 84]</text>\n</g>\n<!-- 126&#45;&gt;128 -->\n<g id=\"edge128\" class=\"edge\">\n<title>126&#45;&gt;128</title>\n<path fill=\"none\" stroke=\"#000000\" d=\"M3763,-2077.5667C3763,-2037.3091 3763,-1970.5801 3763,-1926.4461\"/>\n<polygon fill=\"#000000\" stroke=\"#000000\" points=\"3766.5001,-1926.2925 3763,-1916.2926 3759.5001,-1926.2926 3766.5001,-1926.2925\"/>\n</g>\n<!-- 129 -->\n<g id=\"node130\" class=\"node\">\n<title>129</title>\n<path fill=\"#e0f0fb\" stroke=\"#000000\" d=\"M3680,-1686C3680,-1686 3588,-1686 3588,-1686 3582,-1686 3576,-1680 3576,-1674 3576,-1674 3576,-1630 3576,-1630 3576,-1624 3582,-1618 3588,-1618 3588,-1618 3680,-1618 3680,-1618 3686,-1618 3692,-1624 3692,-1630 3692,-1630 3692,-1674 3692,-1674 3692,-1680 3686,-1686 3680,-1686\"/>\n<text text-anchor=\"start\" x=\"3599\" y=\"-1670.8\" font-family=\"Helvetica,sans-Serif\" font-size=\"14.00\" fill=\"#000000\">Age ≤ 29.5</text>\n<text text-anchor=\"start\" x=\"3604.5\" y=\"-1655.8\" font-family=\"Helvetica,sans-Serif\" font-size=\"14.00\" fill=\"#000000\">gini = 0.5</text>\n<text text-anchor=\"start\" x=\"3586\" y=\"-1640.8\" font-family=\"Helvetica,sans-Serif\" font-size=\"14.00\" fill=\"#000000\">samples = 107</text>\n<text text-anchor=\"start\" x=\"3584\" y=\"-1625.8\" font-family=\"Helvetica,sans-Serif\" font-size=\"14.00\" fill=\"#000000\">value = [49, 58]</text>\n</g>\n<!-- 128&#45;&gt;129 -->\n<g id=\"edge129\" class=\"edge\">\n<title>128&#45;&gt;129</title>\n<path fill=\"none\" stroke=\"#000000\" d=\"M3743.6874,-1847.5667C3720.87,-1806.8844 3682.8906,-1739.1694 3658.1494,-1695.0571\"/>\n<polygon fill=\"#000000\" stroke=\"#000000\" points=\"3661.1782,-1693.3023 3653.2337,-1686.2926 3655.0729,-1696.7266 3661.1782,-1693.3023\"/>\n</g>\n<!-- 132 -->\n<g id=\"node133\" class=\"node\">\n<title>132</title>\n<path fill=\"#f9e4d5\" stroke=\"#000000\" d=\"M3814,-1678.5C3814,-1678.5 3722,-1678.5 3722,-1678.5 3716,-1678.5 3710,-1672.5 3710,-1666.5 3710,-1666.5 3710,-1637.5 3710,-1637.5 3710,-1631.5 3716,-1625.5 3722,-1625.5 3722,-1625.5 3814,-1625.5 3814,-1625.5 3820,-1625.5 3826,-1631.5 3826,-1637.5 3826,-1637.5 3826,-1666.5 3826,-1666.5 3826,-1672.5 3820,-1678.5 3814,-1678.5\"/>\n<text text-anchor=\"start\" x=\"3734.5\" y=\"-1663.3\" font-family=\"Helvetica,sans-Serif\" font-size=\"14.00\" fill=\"#000000\">gini = 0.49</text>\n<text text-anchor=\"start\" x=\"3724\" y=\"-1648.3\" font-family=\"Helvetica,sans-Serif\" font-size=\"14.00\" fill=\"#000000\">samples = 59</text>\n<text text-anchor=\"start\" x=\"3718\" y=\"-1633.3\" font-family=\"Helvetica,sans-Serif\" font-size=\"14.00\" fill=\"#000000\">value = [33, 26]</text>\n</g>\n<!-- 128&#45;&gt;132 -->\n<g id=\"edge132\" class=\"edge\">\n<title>128&#45;&gt;132</title>\n<path fill=\"none\" stroke=\"#000000\" d=\"M3763.7486,-1847.5667C3764.6747,-1804.9628 3766.2454,-1732.7121 3767.1963,-1688.9695\"/>\n<polygon fill=\"#000000\" stroke=\"#000000\" points=\"3770.6999,-1688.8373 3767.4182,-1678.7635 3763.7016,-1688.6851 3770.6999,-1688.8373\"/>\n</g>\n<!-- 130 -->\n<g id=\"node131\" class=\"node\">\n<title>130</title>\n<path fill=\"#ffffff\" stroke=\"#000000\" d=\"M3680,-1448.5C3680,-1448.5 3588,-1448.5 3588,-1448.5 3582,-1448.5 3576,-1442.5 3576,-1436.5 3576,-1436.5 3576,-1407.5 3576,-1407.5 3576,-1401.5 3582,-1395.5 3588,-1395.5 3588,-1395.5 3680,-1395.5 3680,-1395.5 3686,-1395.5 3692,-1401.5 3692,-1407.5 3692,-1407.5 3692,-1436.5 3692,-1436.5 3692,-1442.5 3686,-1448.5 3680,-1448.5\"/>\n<text text-anchor=\"start\" x=\"3604.5\" y=\"-1433.3\" font-family=\"Helvetica,sans-Serif\" font-size=\"14.00\" fill=\"#000000\">gini = 0.5</text>\n<text text-anchor=\"start\" x=\"3590\" y=\"-1418.3\" font-family=\"Helvetica,sans-Serif\" font-size=\"14.00\" fill=\"#000000\">samples = 50</text>\n<text text-anchor=\"start\" x=\"3584\" y=\"-1403.3\" font-family=\"Helvetica,sans-Serif\" font-size=\"14.00\" fill=\"#000000\">value = [25, 25]</text>\n</g>\n<!-- 129&#45;&gt;130 -->\n<g id=\"edge130\" class=\"edge\">\n<title>129&#45;&gt;130</title>\n<path fill=\"none\" stroke=\"#000000\" d=\"M3634,-1617.5667C3634,-1574.9628 3634,-1502.7121 3634,-1458.9695\"/>\n<polygon fill=\"#000000\" stroke=\"#000000\" points=\"3637.5001,-1458.7635 3634,-1448.7635 3630.5001,-1458.7636 3637.5001,-1458.7635\"/>\n</g>\n<!-- 131 -->\n<g id=\"node132\" class=\"node\">\n<title>131</title>\n<path fill=\"#c9e4f8\" stroke=\"#000000\" d=\"M3814,-1448.5C3814,-1448.5 3722,-1448.5 3722,-1448.5 3716,-1448.5 3710,-1442.5 3710,-1436.5 3710,-1436.5 3710,-1407.5 3710,-1407.5 3710,-1401.5 3716,-1395.5 3722,-1395.5 3722,-1395.5 3814,-1395.5 3814,-1395.5 3820,-1395.5 3826,-1401.5 3826,-1407.5 3826,-1407.5 3826,-1436.5 3826,-1436.5 3826,-1442.5 3820,-1448.5 3814,-1448.5\"/>\n<text text-anchor=\"start\" x=\"3734.5\" y=\"-1433.3\" font-family=\"Helvetica,sans-Serif\" font-size=\"14.00\" fill=\"#000000\">gini = 0.49</text>\n<text text-anchor=\"start\" x=\"3724\" y=\"-1418.3\" font-family=\"Helvetica,sans-Serif\" font-size=\"14.00\" fill=\"#000000\">samples = 57</text>\n<text text-anchor=\"start\" x=\"3718\" y=\"-1403.3\" font-family=\"Helvetica,sans-Serif\" font-size=\"14.00\" fill=\"#000000\">value = [24, 33]</text>\n</g>\n<!-- 129&#45;&gt;131 -->\n<g id=\"edge131\" class=\"edge\">\n<title>129&#45;&gt;131</title>\n<path fill=\"none\" stroke=\"#000000\" d=\"M3654.0612,-1617.5667C3679.1449,-1574.5125 3721.8683,-1501.1812 3747.2638,-1457.592\"/>\n<polygon fill=\"#000000\" stroke=\"#000000\" points=\"3750.3974,-1459.166 3752.4073,-1448.7635 3744.3491,-1455.6421 3750.3974,-1459.166\"/>\n</g>\n<!-- 134 -->\n<g id=\"node135\" class=\"node\">\n<title>134</title>\n<path fill=\"#b3daf5\" stroke=\"#000000\" d=\"M4154,-2376C4154,-2376 4046,-2376 4046,-2376 4040,-2376 4034,-2370 4034,-2364 4034,-2364 4034,-2320 4034,-2320 4034,-2314 4040,-2308 4046,-2308 4046,-2308 4154,-2308 4154,-2308 4160,-2308 4166,-2314 4166,-2320 4166,-2320 4166,-2364 4166,-2364 4166,-2370 4160,-2376 4154,-2376\"/>\n<text text-anchor=\"start\" x=\"4045.5\" y=\"-2360.8\" font-family=\"Helvetica,sans-Serif\" font-size=\"14.00\" fill=\"#000000\">Destination ≤ 1.5</text>\n<text text-anchor=\"start\" x=\"4066.5\" y=\"-2345.8\" font-family=\"Helvetica,sans-Serif\" font-size=\"14.00\" fill=\"#000000\">gini = 0.47</text>\n<text text-anchor=\"start\" x=\"4052\" y=\"-2330.8\" font-family=\"Helvetica,sans-Serif\" font-size=\"14.00\" fill=\"#000000\">samples = 382</text>\n<text text-anchor=\"start\" x=\"4042\" y=\"-2315.8\" font-family=\"Helvetica,sans-Serif\" font-size=\"14.00\" fill=\"#000000\">value = [146, 236]</text>\n</g>\n<!-- 133&#45;&gt;134 -->\n<g id=\"edge134\" class=\"edge\">\n<title>133&#45;&gt;134</title>\n<path fill=\"none\" stroke=\"#000000\" d=\"M4100,-2537.5667C4100,-2497.3091 4100,-2430.5801 4100,-2386.4461\"/>\n<polygon fill=\"#000000\" stroke=\"#000000\" points=\"4103.5001,-2386.2925 4100,-2376.2926 4096.5001,-2386.2926 4103.5001,-2386.2925\"/>\n</g>\n<!-- 145 -->\n<g id=\"node146\" class=\"node\">\n<title>145</title>\n<path fill=\"#60b1ea\" stroke=\"#000000\" d=\"M4549,-2376C4549,-2376 4449,-2376 4449,-2376 4443,-2376 4437,-2370 4437,-2364 4437,-2364 4437,-2320 4437,-2320 4437,-2314 4443,-2308 4449,-2308 4449,-2308 4549,-2308 4549,-2308 4555,-2308 4561,-2314 4561,-2320 4561,-2320 4561,-2364 4561,-2364 4561,-2370 4555,-2376 4549,-2376\"/>\n<text text-anchor=\"start\" x=\"4448.5\" y=\"-2360.8\" font-family=\"Helvetica,sans-Serif\" font-size=\"14.00\" fill=\"#000000\">Group ≤ 4986.5</text>\n<text text-anchor=\"start\" x=\"4465.5\" y=\"-2345.8\" font-family=\"Helvetica,sans-Serif\" font-size=\"14.00\" fill=\"#000000\">gini = 0.28</text>\n<text text-anchor=\"start\" x=\"4451\" y=\"-2330.8\" font-family=\"Helvetica,sans-Serif\" font-size=\"14.00\" fill=\"#000000\">samples = 385</text>\n<text text-anchor=\"start\" x=\"4445\" y=\"-2315.8\" font-family=\"Helvetica,sans-Serif\" font-size=\"14.00\" fill=\"#000000\">value = [64, 321]</text>\n</g>\n<!-- 133&#45;&gt;145 -->\n<g id=\"edge145\" class=\"edge\">\n<title>133&#45;&gt;145</title>\n<path fill=\"none\" stroke=\"#000000\" d=\"M4159.3035,-2537.815C4231.7948,-2496.0281 4354.223,-2425.4554 4430.6154,-2381.4197\"/>\n<polygon fill=\"#000000\" stroke=\"#000000\" points=\"4432.7812,-2384.2112 4439.6969,-2376.1847 4429.2853,-2378.1466 4432.7812,-2384.2112\"/>\n</g>\n<!-- 135 -->\n<g id=\"node136\" class=\"node\">\n<title>135</title>\n<path fill=\"#84c2ef\" stroke=\"#000000\" d=\"M4077,-2146C4077,-2146 3977,-2146 3977,-2146 3971,-2146 3965,-2140 3965,-2134 3965,-2134 3965,-2090 3965,-2090 3965,-2084 3971,-2078 3977,-2078 3977,-2078 4077,-2078 4077,-2078 4083,-2078 4089,-2084 4089,-2090 4089,-2090 4089,-2134 4089,-2134 4089,-2140 4083,-2146 4077,-2146\"/>\n<text text-anchor=\"start\" x=\"3976.5\" y=\"-2130.8\" font-family=\"Helvetica,sans-Serif\" font-size=\"14.00\" fill=\"#000000\">Group ≤ 4579.5</text>\n<text text-anchor=\"start\" x=\"3997.5\" y=\"-2115.8\" font-family=\"Helvetica,sans-Serif\" font-size=\"14.00\" fill=\"#000000\">gini = 0.4</text>\n<text text-anchor=\"start\" x=\"3979\" y=\"-2100.8\" font-family=\"Helvetica,sans-Serif\" font-size=\"14.00\" fill=\"#000000\">samples = 157</text>\n<text text-anchor=\"start\" x=\"3973\" y=\"-2085.8\" font-family=\"Helvetica,sans-Serif\" font-size=\"14.00\" fill=\"#000000\">value = [43, 114]</text>\n</g>\n<!-- 134&#45;&gt;135 -->\n<g id=\"edge135\" class=\"edge\">\n<title>134&#45;&gt;135</title>\n<path fill=\"none\" stroke=\"#000000\" d=\"M4089.0712,-2307.5667C4076.2398,-2267.1392 4054.9357,-2200.0165 4040.9299,-2155.8887\"/>\n<polygon fill=\"#000000\" stroke=\"#000000\" points=\"4044.2454,-2154.7652 4037.8842,-2146.2926 4037.5734,-2156.8829 4044.2454,-2154.7652\"/>\n</g>\n<!-- 140 -->\n<g id=\"node141\" class=\"node\">\n<title>140</title>\n<path fill=\"#e0f0fb\" stroke=\"#000000\" d=\"M4227,-2146C4227,-2146 4119,-2146 4119,-2146 4113,-2146 4107,-2140 4107,-2134 4107,-2134 4107,-2090 4107,-2090 4107,-2084 4113,-2078 4119,-2078 4119,-2078 4227,-2078 4227,-2078 4233,-2078 4239,-2084 4239,-2090 4239,-2090 4239,-2134 4239,-2134 4239,-2140 4233,-2146 4227,-2146\"/>\n<text text-anchor=\"start\" x=\"4138\" y=\"-2130.8\" font-family=\"Helvetica,sans-Serif\" font-size=\"14.00\" fill=\"#000000\">Age ≤ 25.5</text>\n<text text-anchor=\"start\" x=\"4143.5\" y=\"-2115.8\" font-family=\"Helvetica,sans-Serif\" font-size=\"14.00\" fill=\"#000000\">gini = 0.5</text>\n<text text-anchor=\"start\" x=\"4125\" y=\"-2100.8\" font-family=\"Helvetica,sans-Serif\" font-size=\"14.00\" fill=\"#000000\">samples = 225</text>\n<text text-anchor=\"start\" x=\"4115\" y=\"-2085.8\" font-family=\"Helvetica,sans-Serif\" font-size=\"14.00\" fill=\"#000000\">value = [103, 122]</text>\n</g>\n<!-- 134&#45;&gt;140 -->\n<g id=\"edge140\" class=\"edge\">\n<title>134&#45;&gt;140</title>\n<path fill=\"none\" stroke=\"#000000\" d=\"M4110.9288,-2307.5667C4123.7602,-2267.1392 4145.0643,-2200.0165 4159.0701,-2155.8887\"/>\n<polygon fill=\"#000000\" stroke=\"#000000\" points=\"4162.4266,-2156.8829 4162.1158,-2146.2926 4155.7546,-2154.7652 4162.4266,-2156.8829\"/>\n</g>\n<!-- 136 -->\n<g id=\"node137\" class=\"node\">\n<title>136</title>\n<path fill=\"#71b9ec\" stroke=\"#000000\" d=\"M3944.5,-1916C3944.5,-1916 3851.5,-1916 3851.5,-1916 3845.5,-1916 3839.5,-1910 3839.5,-1904 3839.5,-1904 3839.5,-1860 3839.5,-1860 3839.5,-1854 3845.5,-1848 3851.5,-1848 3851.5,-1848 3944.5,-1848 3944.5,-1848 3950.5,-1848 3956.5,-1854 3956.5,-1860 3956.5,-1860 3956.5,-1904 3956.5,-1904 3956.5,-1910 3950.5,-1916 3944.5,-1916\"/>\n<text text-anchor=\"start\" x=\"3847.5\" y=\"-1900.8\" font-family=\"Helvetica,sans-Serif\" font-size=\"14.00\" fill=\"#000000\">Group ≤ 3144.0</text>\n<text text-anchor=\"start\" x=\"3864.5\" y=\"-1885.8\" font-family=\"Helvetica,sans-Serif\" font-size=\"14.00\" fill=\"#000000\">gini = 0.34</text>\n<text text-anchor=\"start\" x=\"3850\" y=\"-1870.8\" font-family=\"Helvetica,sans-Serif\" font-size=\"14.00\" fill=\"#000000\">samples = 100</text>\n<text text-anchor=\"start\" x=\"3848\" y=\"-1855.8\" font-family=\"Helvetica,sans-Serif\" font-size=\"14.00\" fill=\"#000000\">value = [22, 78]</text>\n</g>\n<!-- 135&#45;&gt;136 -->\n<g id=\"edge136\" class=\"edge\">\n<title>135&#45;&gt;136</title>\n<path fill=\"none\" stroke=\"#000000\" d=\"M4007.6874,-2077.5667C3984.87,-2036.8844 3946.8906,-1969.1694 3922.1494,-1925.0571\"/>\n<polygon fill=\"#000000\" stroke=\"#000000\" points=\"3925.1782,-1923.3023 3917.2337,-1916.2926 3919.0729,-1926.7266 3925.1782,-1923.3023\"/>\n</g>\n<!-- 139 -->\n<g id=\"node140\" class=\"node\">\n<title>139</title>\n<path fill=\"#acd6f4\" stroke=\"#000000\" d=\"M4079,-1908.5C4079,-1908.5 3987,-1908.5 3987,-1908.5 3981,-1908.5 3975,-1902.5 3975,-1896.5 3975,-1896.5 3975,-1867.5 3975,-1867.5 3975,-1861.5 3981,-1855.5 3987,-1855.5 3987,-1855.5 4079,-1855.5 4079,-1855.5 4085,-1855.5 4091,-1861.5 4091,-1867.5 4091,-1867.5 4091,-1896.5 4091,-1896.5 4091,-1902.5 4085,-1908.5 4079,-1908.5\"/>\n<text text-anchor=\"start\" x=\"3999.5\" y=\"-1893.3\" font-family=\"Helvetica,sans-Serif\" font-size=\"14.00\" fill=\"#000000\">gini = 0.47</text>\n<text text-anchor=\"start\" x=\"3989\" y=\"-1878.3\" font-family=\"Helvetica,sans-Serif\" font-size=\"14.00\" fill=\"#000000\">samples = 57</text>\n<text text-anchor=\"start\" x=\"3983\" y=\"-1863.3\" font-family=\"Helvetica,sans-Serif\" font-size=\"14.00\" fill=\"#000000\">value = [21, 36]</text>\n</g>\n<!-- 135&#45;&gt;139 -->\n<g id=\"edge139\" class=\"edge\">\n<title>135&#45;&gt;139</title>\n<path fill=\"none\" stroke=\"#000000\" d=\"M4027.8983,-2077.5667C4029.0097,-2034.9628 4030.8945,-1962.7121 4032.0356,-1918.9695\"/>\n<polygon fill=\"#000000\" stroke=\"#000000\" points=\"4035.5398,-1918.8514 4032.3018,-1908.7635 4028.5421,-1918.6688 4035.5398,-1918.8514\"/>\n</g>\n<!-- 137 -->\n<g id=\"node138\" class=\"node\">\n<title>137</title>\n<path fill=\"#64b3eb\" stroke=\"#000000\" d=\"M3939.5,-1678.5C3939.5,-1678.5 3856.5,-1678.5 3856.5,-1678.5 3850.5,-1678.5 3844.5,-1672.5 3844.5,-1666.5 3844.5,-1666.5 3844.5,-1637.5 3844.5,-1637.5 3844.5,-1631.5 3850.5,-1625.5 3856.5,-1625.5 3856.5,-1625.5 3939.5,-1625.5 3939.5,-1625.5 3945.5,-1625.5 3951.5,-1631.5 3951.5,-1637.5 3951.5,-1637.5 3951.5,-1666.5 3951.5,-1666.5 3951.5,-1672.5 3945.5,-1678.5 3939.5,-1678.5\"/>\n<text text-anchor=\"start\" x=\"3868.5\" y=\"-1663.3\" font-family=\"Helvetica,sans-Serif\" font-size=\"14.00\" fill=\"#000000\">gini = 0.3</text>\n<text text-anchor=\"start\" x=\"3854\" y=\"-1648.3\" font-family=\"Helvetica,sans-Serif\" font-size=\"14.00\" fill=\"#000000\">samples = 50</text>\n<text text-anchor=\"start\" x=\"3852.5\" y=\"-1633.3\" font-family=\"Helvetica,sans-Serif\" font-size=\"14.00\" fill=\"#000000\">value = [9, 41]</text>\n</g>\n<!-- 136&#45;&gt;137 -->\n<g id=\"edge137\" class=\"edge\">\n<title>136&#45;&gt;137</title>\n<path fill=\"none\" stroke=\"#000000\" d=\"M3898,-1847.5667C3898,-1804.9628 3898,-1732.7121 3898,-1688.9695\"/>\n<polygon fill=\"#000000\" stroke=\"#000000\" points=\"3901.5001,-1688.7635 3898,-1678.7635 3894.5001,-1688.7636 3901.5001,-1688.7635\"/>\n</g>\n<!-- 138 -->\n<g id=\"node139\" class=\"node\">\n<title>138</title>\n<path fill=\"#7fbfee\" stroke=\"#000000\" d=\"M4074,-1678.5C4074,-1678.5 3982,-1678.5 3982,-1678.5 3976,-1678.5 3970,-1672.5 3970,-1666.5 3970,-1666.5 3970,-1637.5 3970,-1637.5 3970,-1631.5 3976,-1625.5 3982,-1625.5 3982,-1625.5 4074,-1625.5 4074,-1625.5 4080,-1625.5 4086,-1631.5 4086,-1637.5 4086,-1637.5 4086,-1666.5 4086,-1666.5 4086,-1672.5 4080,-1678.5 4074,-1678.5\"/>\n<text text-anchor=\"start\" x=\"3994.5\" y=\"-1663.3\" font-family=\"Helvetica,sans-Serif\" font-size=\"14.00\" fill=\"#000000\">gini = 0.38</text>\n<text text-anchor=\"start\" x=\"3984\" y=\"-1648.3\" font-family=\"Helvetica,sans-Serif\" font-size=\"14.00\" fill=\"#000000\">samples = 50</text>\n<text text-anchor=\"start\" x=\"3978\" y=\"-1633.3\" font-family=\"Helvetica,sans-Serif\" font-size=\"14.00\" fill=\"#000000\">value = [13, 37]</text>\n</g>\n<!-- 136&#45;&gt;138 -->\n<g id=\"edge138\" class=\"edge\">\n<title>136&#45;&gt;138</title>\n<path fill=\"none\" stroke=\"#000000\" d=\"M3917.4623,-1847.5667C3941.7973,-1804.5125 3983.2454,-1731.1812 4007.8828,-1687.592\"/>\n<polygon fill=\"#000000\" stroke=\"#000000\" points=\"4010.9991,-1689.1914 4012.8728,-1678.7635 4004.9052,-1685.7469 4010.9991,-1689.1914\"/>\n</g>\n<!-- 141 -->\n<g id=\"node142\" class=\"node\">\n<title>141</title>\n<path fill=\"#fefcfa\" stroke=\"#000000\" d=\"M4213,-1916C4213,-1916 4121,-1916 4121,-1916 4115,-1916 4109,-1910 4109,-1904 4109,-1904 4109,-1860 4109,-1860 4109,-1854 4115,-1848 4121,-1848 4121,-1848 4213,-1848 4213,-1848 4219,-1848 4225,-1854 4225,-1860 4225,-1860 4225,-1904 4225,-1904 4225,-1910 4219,-1916 4213,-1916\"/>\n<text text-anchor=\"start\" x=\"4132\" y=\"-1900.8\" font-family=\"Helvetica,sans-Serif\" font-size=\"14.00\" fill=\"#000000\">Age ≤ 17.5</text>\n<text text-anchor=\"start\" x=\"4137.5\" y=\"-1885.8\" font-family=\"Helvetica,sans-Serif\" font-size=\"14.00\" fill=\"#000000\">gini = 0.5</text>\n<text text-anchor=\"start\" x=\"4119\" y=\"-1870.8\" font-family=\"Helvetica,sans-Serif\" font-size=\"14.00\" fill=\"#000000\">samples = 144</text>\n<text text-anchor=\"start\" x=\"4117\" y=\"-1855.8\" font-family=\"Helvetica,sans-Serif\" font-size=\"14.00\" fill=\"#000000\">value = [73, 71]</text>\n</g>\n<!-- 140&#45;&gt;141 -->\n<g id=\"edge141\" class=\"edge\">\n<title>140&#45;&gt;141</title>\n<path fill=\"none\" stroke=\"#000000\" d=\"M4172.1017,-2077.5667C4171.0515,-2037.3091 4169.3108,-1970.5801 4168.1595,-1926.4461\"/>\n<polygon fill=\"#000000\" stroke=\"#000000\" points=\"4171.6543,-1926.1979 4167.8946,-1916.2926 4164.6567,-1926.3805 4171.6543,-1926.1979\"/>\n</g>\n<!-- 144 -->\n<g id=\"node145\" class=\"node\">\n<title>144</title>\n<path fill=\"#add7f4\" stroke=\"#000000\" d=\"M4347,-1908.5C4347,-1908.5 4255,-1908.5 4255,-1908.5 4249,-1908.5 4243,-1902.5 4243,-1896.5 4243,-1896.5 4243,-1867.5 4243,-1867.5 4243,-1861.5 4249,-1855.5 4255,-1855.5 4255,-1855.5 4347,-1855.5 4347,-1855.5 4353,-1855.5 4359,-1861.5 4359,-1867.5 4359,-1867.5 4359,-1896.5 4359,-1896.5 4359,-1902.5 4353,-1908.5 4347,-1908.5\"/>\n<text text-anchor=\"start\" x=\"4267.5\" y=\"-1893.3\" font-family=\"Helvetica,sans-Serif\" font-size=\"14.00\" fill=\"#000000\">gini = 0.47</text>\n<text text-anchor=\"start\" x=\"4257\" y=\"-1878.3\" font-family=\"Helvetica,sans-Serif\" font-size=\"14.00\" fill=\"#000000\">samples = 81</text>\n<text text-anchor=\"start\" x=\"4251\" y=\"-1863.3\" font-family=\"Helvetica,sans-Serif\" font-size=\"14.00\" fill=\"#000000\">value = [30, 51]</text>\n</g>\n<!-- 140&#45;&gt;144 -->\n<g id=\"edge144\" class=\"edge\">\n<title>140&#45;&gt;144</title>\n<path fill=\"none\" stroke=\"#000000\" d=\"M4192.1629,-2077.5667C4216.1235,-2034.5125 4256.9339,-1961.1812 4281.1923,-1917.592\"/>\n<polygon fill=\"#000000\" stroke=\"#000000\" points=\"4284.3009,-1919.2035 4286.1055,-1908.7635 4278.1843,-1915.7995 4284.3009,-1919.2035\"/>\n</g>\n<!-- 142 -->\n<g id=\"node143\" class=\"node\">\n<title>142</title>\n<path fill=\"#b6dbf5\" stroke=\"#000000\" d=\"M4211,-1678.5C4211,-1678.5 4119,-1678.5 4119,-1678.5 4113,-1678.5 4107,-1672.5 4107,-1666.5 4107,-1666.5 4107,-1637.5 4107,-1637.5 4107,-1631.5 4113,-1625.5 4119,-1625.5 4119,-1625.5 4211,-1625.5 4211,-1625.5 4217,-1625.5 4223,-1631.5 4223,-1637.5 4223,-1637.5 4223,-1666.5 4223,-1666.5 4223,-1672.5 4217,-1678.5 4211,-1678.5\"/>\n<text text-anchor=\"start\" x=\"4131.5\" y=\"-1663.3\" font-family=\"Helvetica,sans-Serif\" font-size=\"14.00\" fill=\"#000000\">gini = 0.47</text>\n<text text-anchor=\"start\" x=\"4121\" y=\"-1648.3\" font-family=\"Helvetica,sans-Serif\" font-size=\"14.00\" fill=\"#000000\">samples = 80</text>\n<text text-anchor=\"start\" x=\"4115\" y=\"-1633.3\" font-family=\"Helvetica,sans-Serif\" font-size=\"14.00\" fill=\"#000000\">value = [31, 49]</text>\n</g>\n<!-- 141&#45;&gt;142 -->\n<g id=\"edge142\" class=\"edge\">\n<title>141&#45;&gt;142</title>\n<path fill=\"none\" stroke=\"#000000\" d=\"M4166.7006,-1847.5667C4166.3301,-1804.9628 4165.7018,-1732.7121 4165.3215,-1688.9695\"/>\n<polygon fill=\"#000000\" stroke=\"#000000\" points=\"4168.8196,-1688.7327 4165.2327,-1678.7635 4161.8199,-1688.7936 4168.8196,-1688.7327\"/>\n</g>\n<!-- 143 -->\n<g id=\"node144\" class=\"node\">\n<title>143</title>\n<path fill=\"#f3c3a1\" stroke=\"#000000\" d=\"M4345,-1678.5C4345,-1678.5 4253,-1678.5 4253,-1678.5 4247,-1678.5 4241,-1672.5 4241,-1666.5 4241,-1666.5 4241,-1637.5 4241,-1637.5 4241,-1631.5 4247,-1625.5 4253,-1625.5 4253,-1625.5 4345,-1625.5 4345,-1625.5 4351,-1625.5 4357,-1631.5 4357,-1637.5 4357,-1637.5 4357,-1666.5 4357,-1666.5 4357,-1672.5 4351,-1678.5 4345,-1678.5\"/>\n<text text-anchor=\"start\" x=\"4265.5\" y=\"-1663.3\" font-family=\"Helvetica,sans-Serif\" font-size=\"14.00\" fill=\"#000000\">gini = 0.45</text>\n<text text-anchor=\"start\" x=\"4255\" y=\"-1648.3\" font-family=\"Helvetica,sans-Serif\" font-size=\"14.00\" fill=\"#000000\">samples = 64</text>\n<text text-anchor=\"start\" x=\"4249\" y=\"-1633.3\" font-family=\"Helvetica,sans-Serif\" font-size=\"14.00\" fill=\"#000000\">value = [42, 22]</text>\n</g>\n<!-- 141&#45;&gt;143 -->\n<g id=\"edge143\" class=\"edge\">\n<title>141&#45;&gt;143</title>\n<path fill=\"none\" stroke=\"#000000\" d=\"M4186.7617,-1847.5667C4211.4711,-1804.5125 4253.5568,-1731.1812 4278.5733,-1687.592\"/>\n<polygon fill=\"#000000\" stroke=\"#000000\" points=\"4281.698,-1689.1789 4283.6401,-1678.7635 4275.6268,-1685.6945 4281.698,-1689.1789\"/>\n</g>\n<!-- 146 -->\n<g id=\"node147\" class=\"node\">\n<title>146</title>\n<path fill=\"#53aae8\" stroke=\"#000000\" d=\"M4549,-2146C4549,-2146 4449,-2146 4449,-2146 4443,-2146 4437,-2140 4437,-2134 4437,-2134 4437,-2090 4437,-2090 4437,-2084 4443,-2078 4449,-2078 4449,-2078 4549,-2078 4549,-2078 4555,-2078 4561,-2084 4561,-2090 4561,-2090 4561,-2134 4561,-2134 4561,-2140 4555,-2146 4549,-2146\"/>\n<text text-anchor=\"start\" x=\"4448.5\" y=\"-2130.8\" font-family=\"Helvetica,sans-Serif\" font-size=\"14.00\" fill=\"#000000\">Group ≤ 2882.0</text>\n<text text-anchor=\"start\" x=\"4469.5\" y=\"-2115.8\" font-family=\"Helvetica,sans-Serif\" font-size=\"14.00\" fill=\"#000000\">gini = 0.2</text>\n<text text-anchor=\"start\" x=\"4451\" y=\"-2100.8\" font-family=\"Helvetica,sans-Serif\" font-size=\"14.00\" fill=\"#000000\">samples = 285</text>\n<text text-anchor=\"start\" x=\"4445\" y=\"-2085.8\" font-family=\"Helvetica,sans-Serif\" font-size=\"14.00\" fill=\"#000000\">value = [33, 252]</text>\n</g>\n<!-- 145&#45;&gt;146 -->\n<g id=\"edge146\" class=\"edge\">\n<title>145&#45;&gt;146</title>\n<path fill=\"none\" stroke=\"#000000\" d=\"M4499,-2307.5667C4499,-2267.3091 4499,-2200.5801 4499,-2156.4461\"/>\n<polygon fill=\"#000000\" stroke=\"#000000\" points=\"4502.5001,-2156.2925 4499,-2146.2926 4495.5001,-2156.2926 4502.5001,-2156.2925\"/>\n</g>\n<!-- 151 -->\n<g id=\"node152\" class=\"node\">\n<title>151</title>\n<path fill=\"#92c9f1\" stroke=\"#000000\" d=\"M4749.5,-2146C4749.5,-2146 4656.5,-2146 4656.5,-2146 4650.5,-2146 4644.5,-2140 4644.5,-2134 4644.5,-2134 4644.5,-2090 4644.5,-2090 4644.5,-2084 4650.5,-2078 4656.5,-2078 4656.5,-2078 4749.5,-2078 4749.5,-2078 4755.5,-2078 4761.5,-2084 4761.5,-2090 4761.5,-2090 4761.5,-2134 4761.5,-2134 4761.5,-2140 4755.5,-2146 4749.5,-2146\"/>\n<text text-anchor=\"start\" x=\"4652.5\" y=\"-2130.8\" font-family=\"Helvetica,sans-Serif\" font-size=\"14.00\" fill=\"#000000\">Group ≤ 5616.0</text>\n<text text-anchor=\"start\" x=\"4669.5\" y=\"-2115.8\" font-family=\"Helvetica,sans-Serif\" font-size=\"14.00\" fill=\"#000000\">gini = 0.43</text>\n<text text-anchor=\"start\" x=\"4655\" y=\"-2100.8\" font-family=\"Helvetica,sans-Serif\" font-size=\"14.00\" fill=\"#000000\">samples = 100</text>\n<text text-anchor=\"start\" x=\"4653\" y=\"-2085.8\" font-family=\"Helvetica,sans-Serif\" font-size=\"14.00\" fill=\"#000000\">value = [31, 69]</text>\n</g>\n<!-- 145&#45;&gt;151 -->\n<g id=\"edge151\" class=\"edge\">\n<title>145&#45;&gt;151</title>\n<path fill=\"none\" stroke=\"#000000\" d=\"M4529.5409,-2307.5667C4565.9256,-2266.5447 4626.6893,-2198.0365 4665.786,-2153.9569\"/>\n<polygon fill=\"#000000\" stroke=\"#000000\" points=\"4668.5668,-2156.0963 4672.584,-2146.2926 4663.3299,-2151.4514 4668.5668,-2156.0963\"/>\n</g>\n<!-- 147 -->\n<g id=\"node148\" class=\"node\">\n<title>147</title>\n<path fill=\"#90c8f0\" stroke=\"#000000\" d=\"M4481,-1908.5C4481,-1908.5 4389,-1908.5 4389,-1908.5 4383,-1908.5 4377,-1902.5 4377,-1896.5 4377,-1896.5 4377,-1867.5 4377,-1867.5 4377,-1861.5 4383,-1855.5 4389,-1855.5 4389,-1855.5 4481,-1855.5 4481,-1855.5 4487,-1855.5 4493,-1861.5 4493,-1867.5 4493,-1867.5 4493,-1896.5 4493,-1896.5 4493,-1902.5 4487,-1908.5 4481,-1908.5\"/>\n<text text-anchor=\"start\" x=\"4401.5\" y=\"-1893.3\" font-family=\"Helvetica,sans-Serif\" font-size=\"14.00\" fill=\"#000000\">gini = 0.42</text>\n<text text-anchor=\"start\" x=\"4391\" y=\"-1878.3\" font-family=\"Helvetica,sans-Serif\" font-size=\"14.00\" fill=\"#000000\">samples = 98</text>\n<text text-anchor=\"start\" x=\"4385\" y=\"-1863.3\" font-family=\"Helvetica,sans-Serif\" font-size=\"14.00\" fill=\"#000000\">value = [30, 68]</text>\n</g>\n<!-- 146&#45;&gt;147 -->\n<g id=\"edge147\" class=\"edge\">\n<title>146&#45;&gt;147</title>\n<path fill=\"none\" stroke=\"#000000\" d=\"M4489.4186,-2077.5667C4477.5134,-2034.7827 4457.2888,-1962.1005 4445.1332,-1918.4162\"/>\n<polygon fill=\"#000000\" stroke=\"#000000\" points=\"4448.5,-1917.4592 4442.4472,-1908.7635 4441.7562,-1919.3358 4448.5,-1917.4592\"/>\n</g>\n<!-- 148 -->\n<g id=\"node149\" class=\"node\">\n<title>148</title>\n<path fill=\"#3c9fe5\" stroke=\"#000000\" d=\"M4615,-1916C4615,-1916 4523,-1916 4523,-1916 4517,-1916 4511,-1910 4511,-1904 4511,-1904 4511,-1860 4511,-1860 4511,-1854 4517,-1848 4523,-1848 4523,-1848 4615,-1848 4615,-1848 4621,-1848 4627,-1854 4627,-1860 4627,-1860 4627,-1904 4627,-1904 4627,-1910 4621,-1916 4615,-1916\"/>\n<text text-anchor=\"start\" x=\"4534\" y=\"-1900.8\" font-family=\"Helvetica,sans-Serif\" font-size=\"14.00\" fill=\"#000000\">Age ≤ 30.5</text>\n<text text-anchor=\"start\" x=\"4535.5\" y=\"-1885.8\" font-family=\"Helvetica,sans-Serif\" font-size=\"14.00\" fill=\"#000000\">gini = 0.03</text>\n<text text-anchor=\"start\" x=\"4521\" y=\"-1870.8\" font-family=\"Helvetica,sans-Serif\" font-size=\"14.00\" fill=\"#000000\">samples = 187</text>\n<text text-anchor=\"start\" x=\"4519\" y=\"-1855.8\" font-family=\"Helvetica,sans-Serif\" font-size=\"14.00\" fill=\"#000000\">value = [3, 184]</text>\n</g>\n<!-- 146&#45;&gt;148 -->\n<g id=\"edge148\" class=\"edge\">\n<title>146&#45;&gt;148</title>\n<path fill=\"none\" stroke=\"#000000\" d=\"M4509.4797,-2077.5667C4521.7837,-2037.1392 4542.2124,-1970.0165 4555.6426,-1925.8887\"/>\n<polygon fill=\"#000000\" stroke=\"#000000\" points=\"4558.9998,-1926.8784 4558.5631,-1916.2926 4552.3031,-1924.8402 4558.9998,-1926.8784\"/>\n</g>\n<!-- 149 -->\n<g id=\"node150\" class=\"node\">\n<title>149</title>\n<path fill=\"#399de5\" stroke=\"#000000\" d=\"M4550,-1678.5C4550,-1678.5 4458,-1678.5 4458,-1678.5 4452,-1678.5 4446,-1672.5 4446,-1666.5 4446,-1666.5 4446,-1637.5 4446,-1637.5 4446,-1631.5 4452,-1625.5 4458,-1625.5 4458,-1625.5 4550,-1625.5 4550,-1625.5 4556,-1625.5 4562,-1631.5 4562,-1637.5 4562,-1637.5 4562,-1666.5 4562,-1666.5 4562,-1672.5 4556,-1678.5 4550,-1678.5\"/>\n<text text-anchor=\"start\" x=\"4474.5\" y=\"-1663.3\" font-family=\"Helvetica,sans-Serif\" font-size=\"14.00\" fill=\"#000000\">gini = 0.0</text>\n<text text-anchor=\"start\" x=\"4456\" y=\"-1648.3\" font-family=\"Helvetica,sans-Serif\" font-size=\"14.00\" fill=\"#000000\">samples = 136</text>\n<text text-anchor=\"start\" x=\"4454\" y=\"-1633.3\" font-family=\"Helvetica,sans-Serif\" font-size=\"14.00\" fill=\"#000000\">value = [0, 136]</text>\n</g>\n<!-- 148&#45;&gt;149 -->\n<g id=\"edge149\" class=\"edge\">\n<title>148&#45;&gt;149</title>\n<path fill=\"none\" stroke=\"#000000\" d=\"M4559.2688,-1847.5667C4547.1777,-1804.7827 4526.6371,-1732.1005 4514.2915,-1688.4162\"/>\n<polygon fill=\"#000000\" stroke=\"#000000\" points=\"4517.6513,-1687.4347 4511.5636,-1678.7635 4510.9152,-1689.3385 4517.6513,-1687.4347\"/>\n</g>\n<!-- 150 -->\n<g id=\"node151\" class=\"node\">\n<title>150</title>\n<path fill=\"#45a3e7\" stroke=\"#000000\" d=\"M4675.5,-1678.5C4675.5,-1678.5 4592.5,-1678.5 4592.5,-1678.5 4586.5,-1678.5 4580.5,-1672.5 4580.5,-1666.5 4580.5,-1666.5 4580.5,-1637.5 4580.5,-1637.5 4580.5,-1631.5 4586.5,-1625.5 4592.5,-1625.5 4592.5,-1625.5 4675.5,-1625.5 4675.5,-1625.5 4681.5,-1625.5 4687.5,-1631.5 4687.5,-1637.5 4687.5,-1637.5 4687.5,-1666.5 4687.5,-1666.5 4687.5,-1672.5 4681.5,-1678.5 4675.5,-1678.5\"/>\n<text text-anchor=\"start\" x=\"4600.5\" y=\"-1663.3\" font-family=\"Helvetica,sans-Serif\" font-size=\"14.00\" fill=\"#000000\">gini = 0.11</text>\n<text text-anchor=\"start\" x=\"4590\" y=\"-1648.3\" font-family=\"Helvetica,sans-Serif\" font-size=\"14.00\" fill=\"#000000\">samples = 51</text>\n<text text-anchor=\"start\" x=\"4588.5\" y=\"-1633.3\" font-family=\"Helvetica,sans-Serif\" font-size=\"14.00\" fill=\"#000000\">value = [3, 48]</text>\n</g>\n<!-- 148&#45;&gt;150 -->\n<g id=\"edge150\" class=\"edge\">\n<title>148&#45;&gt;150</title>\n<path fill=\"none\" stroke=\"#000000\" d=\"M4578.7312,-1847.5667C4590.8223,-1804.7827 4611.3629,-1732.1005 4623.7085,-1688.4162\"/>\n<polygon fill=\"#000000\" stroke=\"#000000\" points=\"4627.0848,-1689.3385 4626.4364,-1678.7635 4620.3487,-1687.4347 4627.0848,-1689.3385\"/>\n</g>\n<!-- 152 -->\n<g id=\"node153\" class=\"node\">\n<title>152</title>\n<path fill=\"#8ec7f0\" stroke=\"#000000\" d=\"M4749,-1908.5C4749,-1908.5 4657,-1908.5 4657,-1908.5 4651,-1908.5 4645,-1902.5 4645,-1896.5 4645,-1896.5 4645,-1867.5 4645,-1867.5 4645,-1861.5 4651,-1855.5 4657,-1855.5 4657,-1855.5 4749,-1855.5 4749,-1855.5 4755,-1855.5 4761,-1861.5 4761,-1867.5 4761,-1867.5 4761,-1896.5 4761,-1896.5 4761,-1902.5 4755,-1908.5 4749,-1908.5\"/>\n<text text-anchor=\"start\" x=\"4669.5\" y=\"-1893.3\" font-family=\"Helvetica,sans-Serif\" font-size=\"14.00\" fill=\"#000000\">gini = 0.42</text>\n<text text-anchor=\"start\" x=\"4659\" y=\"-1878.3\" font-family=\"Helvetica,sans-Serif\" font-size=\"14.00\" fill=\"#000000\">samples = 50</text>\n<text text-anchor=\"start\" x=\"4653\" y=\"-1863.3\" font-family=\"Helvetica,sans-Serif\" font-size=\"14.00\" fill=\"#000000\">value = [15, 35]</text>\n</g>\n<!-- 151&#45;&gt;152 -->\n<g id=\"edge152\" class=\"edge\">\n<title>151&#45;&gt;152</title>\n<path fill=\"none\" stroke=\"#000000\" d=\"M4703,-2077.5667C4703,-2034.9628 4703,-1962.7121 4703,-1918.9695\"/>\n<polygon fill=\"#000000\" stroke=\"#000000\" points=\"4706.5001,-1918.7635 4703,-1908.7635 4699.5001,-1918.7636 4706.5001,-1918.7635\"/>\n</g>\n<!-- 153 -->\n<g id=\"node154\" class=\"node\">\n<title>153</title>\n<path fill=\"#96cbf1\" stroke=\"#000000\" d=\"M4883,-1908.5C4883,-1908.5 4791,-1908.5 4791,-1908.5 4785,-1908.5 4779,-1902.5 4779,-1896.5 4779,-1896.5 4779,-1867.5 4779,-1867.5 4779,-1861.5 4785,-1855.5 4791,-1855.5 4791,-1855.5 4883,-1855.5 4883,-1855.5 4889,-1855.5 4895,-1861.5 4895,-1867.5 4895,-1867.5 4895,-1896.5 4895,-1896.5 4895,-1902.5 4889,-1908.5 4883,-1908.5\"/>\n<text text-anchor=\"start\" x=\"4803.5\" y=\"-1893.3\" font-family=\"Helvetica,sans-Serif\" font-size=\"14.00\" fill=\"#000000\">gini = 0.44</text>\n<text text-anchor=\"start\" x=\"4793\" y=\"-1878.3\" font-family=\"Helvetica,sans-Serif\" font-size=\"14.00\" fill=\"#000000\">samples = 50</text>\n<text text-anchor=\"start\" x=\"4787\" y=\"-1863.3\" font-family=\"Helvetica,sans-Serif\" font-size=\"14.00\" fill=\"#000000\">value = [16, 34]</text>\n</g>\n<!-- 151&#45;&gt;153 -->\n<g id=\"edge153\" class=\"edge\">\n<title>151&#45;&gt;153</title>\n<path fill=\"none\" stroke=\"#000000\" d=\"M4723.0612,-2077.5667C4748.1449,-2034.5125 4790.8683,-1961.1812 4816.2638,-1917.592\"/>\n<polygon fill=\"#000000\" stroke=\"#000000\" points=\"4819.3974,-1919.166 4821.4073,-1908.7635 4813.3491,-1915.6421 4819.3974,-1919.166\"/>\n</g>\n<!-- 155 -->\n<g id=\"node156\" class=\"node\">\n<title>155</title>\n<path fill=\"#3b9ee5\" stroke=\"#000000\" d=\"M4950,-2606C4950,-2606 4858,-2606 4858,-2606 4852,-2606 4846,-2600 4846,-2594 4846,-2594 4846,-2550 4846,-2550 4846,-2544 4852,-2538 4858,-2538 4858,-2538 4950,-2538 4950,-2538 4956,-2538 4962,-2544 4962,-2550 4962,-2550 4962,-2594 4962,-2594 4962,-2600 4956,-2606 4950,-2606\"/>\n<text text-anchor=\"start\" x=\"4869\" y=\"-2590.8\" font-family=\"Helvetica,sans-Serif\" font-size=\"14.00\" fill=\"#000000\">Deck ≤ 0.5</text>\n<text text-anchor=\"start\" x=\"4870.5\" y=\"-2575.8\" font-family=\"Helvetica,sans-Serif\" font-size=\"14.00\" fill=\"#000000\">gini = 0.02</text>\n<text text-anchor=\"start\" x=\"4856\" y=\"-2560.8\" font-family=\"Helvetica,sans-Serif\" font-size=\"14.00\" fill=\"#000000\">samples = 672</text>\n<text text-anchor=\"start\" x=\"4854\" y=\"-2545.8\" font-family=\"Helvetica,sans-Serif\" font-size=\"14.00\" fill=\"#000000\">value = [8, 664]</text>\n</g>\n<!-- 154&#45;&gt;155 -->\n<g id=\"edge155\" class=\"edge\">\n<title>154&#45;&gt;155</title>\n<path fill=\"none\" stroke=\"#000000\" d=\"M4904,-2767.5667C4904,-2727.3091 4904,-2660.5801 4904,-2616.4461\"/>\n<polygon fill=\"#000000\" stroke=\"#000000\" points=\"4907.5001,-2616.2925 4904,-2606.2926 4900.5001,-2616.2926 4907.5001,-2616.2925\"/>\n</g>\n<!-- 164 -->\n<g id=\"node165\" class=\"node\">\n<title>164</title>\n<path fill=\"#4ca6e7\" stroke=\"#000000\" d=\"M5156,-2606C5156,-2606 5056,-2606 5056,-2606 5050,-2606 5044,-2600 5044,-2594 5044,-2594 5044,-2550 5044,-2550 5044,-2544 5050,-2538 5056,-2538 5056,-2538 5156,-2538 5156,-2538 5162,-2538 5168,-2544 5168,-2550 5168,-2550 5168,-2594 5168,-2594 5168,-2600 5162,-2606 5156,-2606\"/>\n<text text-anchor=\"start\" x=\"5071\" y=\"-2590.8\" font-family=\"Helvetica,sans-Serif\" font-size=\"14.00\" fill=\"#000000\">Deck ≤ 4.5</text>\n<text text-anchor=\"start\" x=\"5072.5\" y=\"-2575.8\" font-family=\"Helvetica,sans-Serif\" font-size=\"14.00\" fill=\"#000000\">gini = 0.16</text>\n<text text-anchor=\"start\" x=\"5058\" y=\"-2560.8\" font-family=\"Helvetica,sans-Serif\" font-size=\"14.00\" fill=\"#000000\">samples = 487</text>\n<text text-anchor=\"start\" x=\"5052\" y=\"-2545.8\" font-family=\"Helvetica,sans-Serif\" font-size=\"14.00\" fill=\"#000000\">value = [42, 445]</text>\n</g>\n<!-- 154&#45;&gt;164 -->\n<g id=\"edge164\" class=\"edge\">\n<title>154&#45;&gt;164</title>\n<path fill=\"none\" stroke=\"#000000\" d=\"M4934.2414,-2767.5667C4970.2694,-2726.5447 5030.4375,-2658.0365 5069.1509,-2613.9569\"/>\n<polygon fill=\"#000000\" stroke=\"#000000\" points=\"5071.913,-2616.1158 5075.8822,-2606.2926 5066.6535,-2611.4966 5071.913,-2616.1158\"/>\n</g>\n<!-- 156 -->\n<g id=\"node157\" class=\"node\">\n<title>156</title>\n<path fill=\"#4aa6e7\" stroke=\"#000000\" d=\"M4882.5,-2368.5C4882.5,-2368.5 4799.5,-2368.5 4799.5,-2368.5 4793.5,-2368.5 4787.5,-2362.5 4787.5,-2356.5 4787.5,-2356.5 4787.5,-2327.5 4787.5,-2327.5 4787.5,-2321.5 4793.5,-2315.5 4799.5,-2315.5 4799.5,-2315.5 4882.5,-2315.5 4882.5,-2315.5 4888.5,-2315.5 4894.5,-2321.5 4894.5,-2327.5 4894.5,-2327.5 4894.5,-2356.5 4894.5,-2356.5 4894.5,-2362.5 4888.5,-2368.5 4882.5,-2368.5\"/>\n<text text-anchor=\"start\" x=\"4807.5\" y=\"-2353.3\" font-family=\"Helvetica,sans-Serif\" font-size=\"14.00\" fill=\"#000000\">gini = 0.15</text>\n<text text-anchor=\"start\" x=\"4797\" y=\"-2338.3\" font-family=\"Helvetica,sans-Serif\" font-size=\"14.00\" fill=\"#000000\">samples = 50</text>\n<text text-anchor=\"start\" x=\"4795.5\" y=\"-2323.3\" font-family=\"Helvetica,sans-Serif\" font-size=\"14.00\" fill=\"#000000\">value = [4, 46]</text>\n</g>\n<!-- 155&#45;&gt;156 -->\n<g id=\"edge156\" class=\"edge\">\n<title>155&#45;&gt;156</title>\n<path fill=\"none\" stroke=\"#000000\" d=\"M4894.5683,-2537.5667C4882.8492,-2494.7827 4862.9406,-2422.1005 4850.9749,-2378.4162\"/>\n<polygon fill=\"#000000\" stroke=\"#000000\" points=\"4854.3484,-2377.4836 4848.3309,-2368.7635 4847.5971,-2379.3329 4854.3484,-2377.4836\"/>\n</g>\n<!-- 157 -->\n<g id=\"node158\" class=\"node\">\n<title>157</title>\n<path fill=\"#3a9ee5\" stroke=\"#000000\" d=\"M5017,-2376C5017,-2376 4925,-2376 4925,-2376 4919,-2376 4913,-2370 4913,-2364 4913,-2364 4913,-2320 4913,-2320 4913,-2314 4919,-2308 4925,-2308 4925,-2308 5017,-2308 5017,-2308 5023,-2308 5029,-2314 5029,-2320 5029,-2320 5029,-2364 5029,-2364 5029,-2370 5023,-2376 5017,-2376\"/>\n<text text-anchor=\"start\" x=\"4938.5\" y=\"-2360.8\" font-family=\"Helvetica,sans-Serif\" font-size=\"14.00\" fill=\"#000000\">Side ≤ 0.5</text>\n<text text-anchor=\"start\" x=\"4937.5\" y=\"-2345.8\" font-family=\"Helvetica,sans-Serif\" font-size=\"14.00\" fill=\"#000000\">gini = 0.01</text>\n<text text-anchor=\"start\" x=\"4923\" y=\"-2330.8\" font-family=\"Helvetica,sans-Serif\" font-size=\"14.00\" fill=\"#000000\">samples = 622</text>\n<text text-anchor=\"start\" x=\"4921\" y=\"-2315.8\" font-family=\"Helvetica,sans-Serif\" font-size=\"14.00\" fill=\"#000000\">value = [4, 618]</text>\n</g>\n<!-- 155&#45;&gt;157 -->\n<g id=\"edge157\" class=\"edge\">\n<title>155&#45;&gt;157</title>\n<path fill=\"none\" stroke=\"#000000\" d=\"M4914.0306,-2537.5667C4925.7825,-2497.2242 4945.2783,-2430.2984 4958.1339,-2386.1671\"/>\n<polygon fill=\"#000000\" stroke=\"#000000\" points=\"4961.5739,-2386.8724 4961.0104,-2376.2926 4954.8532,-2384.9146 4961.5739,-2386.8724\"/>\n</g>\n<!-- 158 -->\n<g id=\"node159\" class=\"node\">\n<title>158</title>\n<path fill=\"#3c9ee5\" stroke=\"#000000\" d=\"M5017.5,-2146C5017.5,-2146 4924.5,-2146 4924.5,-2146 4918.5,-2146 4912.5,-2140 4912.5,-2134 4912.5,-2134 4912.5,-2090 4912.5,-2090 4912.5,-2084 4918.5,-2078 4924.5,-2078 4924.5,-2078 5017.5,-2078 5017.5,-2078 5023.5,-2078 5029.5,-2084 5029.5,-2090 5029.5,-2090 5029.5,-2134 5029.5,-2134 5029.5,-2140 5023.5,-2146 5017.5,-2146\"/>\n<text text-anchor=\"start\" x=\"4920.5\" y=\"-2130.8\" font-family=\"Helvetica,sans-Serif\" font-size=\"14.00\" fill=\"#000000\">Group ≤ 3335.5</text>\n<text text-anchor=\"start\" x=\"4937.5\" y=\"-2115.8\" font-family=\"Helvetica,sans-Serif\" font-size=\"14.00\" fill=\"#000000\">gini = 0.03</text>\n<text text-anchor=\"start\" x=\"4923\" y=\"-2100.8\" font-family=\"Helvetica,sans-Serif\" font-size=\"14.00\" fill=\"#000000\">samples = 277</text>\n<text text-anchor=\"start\" x=\"4921\" y=\"-2085.8\" font-family=\"Helvetica,sans-Serif\" font-size=\"14.00\" fill=\"#000000\">value = [4, 273]</text>\n</g>\n<!-- 157&#45;&gt;158 -->\n<g id=\"edge158\" class=\"edge\">\n<title>157&#45;&gt;158</title>\n<path fill=\"none\" stroke=\"#000000\" d=\"M4971,-2307.5667C4971,-2267.3091 4971,-2200.5801 4971,-2156.4461\"/>\n<polygon fill=\"#000000\" stroke=\"#000000\" points=\"4974.5001,-2156.2925 4971,-2146.2926 4967.5001,-2156.2926 4974.5001,-2156.2925\"/>\n</g>\n<!-- 163 -->\n<g id=\"node164\" class=\"node\">\n<title>163</title>\n<path fill=\"#399de5\" stroke=\"#000000\" d=\"M5152,-2138.5C5152,-2138.5 5060,-2138.5 5060,-2138.5 5054,-2138.5 5048,-2132.5 5048,-2126.5 5048,-2126.5 5048,-2097.5 5048,-2097.5 5048,-2091.5 5054,-2085.5 5060,-2085.5 5060,-2085.5 5152,-2085.5 5152,-2085.5 5158,-2085.5 5164,-2091.5 5164,-2097.5 5164,-2097.5 5164,-2126.5 5164,-2126.5 5164,-2132.5 5158,-2138.5 5152,-2138.5\"/>\n<text text-anchor=\"start\" x=\"5076.5\" y=\"-2123.3\" font-family=\"Helvetica,sans-Serif\" font-size=\"14.00\" fill=\"#000000\">gini = 0.0</text>\n<text text-anchor=\"start\" x=\"5058\" y=\"-2108.3\" font-family=\"Helvetica,sans-Serif\" font-size=\"14.00\" fill=\"#000000\">samples = 345</text>\n<text text-anchor=\"start\" x=\"5056\" y=\"-2093.3\" font-family=\"Helvetica,sans-Serif\" font-size=\"14.00\" fill=\"#000000\">value = [0, 345]</text>\n</g>\n<!-- 157&#45;&gt;163 -->\n<g id=\"edge163\" class=\"edge\">\n<title>157&#45;&gt;163</title>\n<path fill=\"none\" stroke=\"#000000\" d=\"M4991.2109,-2307.5667C5016.4818,-2264.5125 5059.524,-2191.1812 5085.1091,-2147.592\"/>\n<polygon fill=\"#000000\" stroke=\"#000000\" points=\"5088.2474,-2149.1594 5090.291,-2138.7635 5082.2105,-2145.616 5088.2474,-2149.1594\"/>\n</g>\n<!-- 159 -->\n<g id=\"node160\" class=\"node\">\n<title>159</title>\n<path fill=\"#399de5\" stroke=\"#000000\" d=\"M5017,-1908.5C5017,-1908.5 4925,-1908.5 4925,-1908.5 4919,-1908.5 4913,-1902.5 4913,-1896.5 4913,-1896.5 4913,-1867.5 4913,-1867.5 4913,-1861.5 4919,-1855.5 4925,-1855.5 4925,-1855.5 5017,-1855.5 5017,-1855.5 5023,-1855.5 5029,-1861.5 5029,-1867.5 5029,-1867.5 5029,-1896.5 5029,-1896.5 5029,-1902.5 5023,-1908.5 5017,-1908.5\"/>\n<text text-anchor=\"start\" x=\"4941.5\" y=\"-1893.3\" font-family=\"Helvetica,sans-Serif\" font-size=\"14.00\" fill=\"#000000\">gini = 0.0</text>\n<text text-anchor=\"start\" x=\"4923\" y=\"-1878.3\" font-family=\"Helvetica,sans-Serif\" font-size=\"14.00\" fill=\"#000000\">samples = 154</text>\n<text text-anchor=\"start\" x=\"4921\" y=\"-1863.3\" font-family=\"Helvetica,sans-Serif\" font-size=\"14.00\" fill=\"#000000\">value = [0, 154]</text>\n</g>\n<!-- 158&#45;&gt;159 -->\n<g id=\"edge159\" class=\"edge\">\n<title>158&#45;&gt;159</title>\n<path fill=\"none\" stroke=\"#000000\" d=\"M4971,-2077.5667C4971,-2034.9628 4971,-1962.7121 4971,-1918.9695\"/>\n<polygon fill=\"#000000\" stroke=\"#000000\" points=\"4974.5001,-1918.7635 4971,-1908.7635 4967.5001,-1918.7636 4974.5001,-1918.7635\"/>\n</g>\n<!-- 160 -->\n<g id=\"node161\" class=\"node\">\n<title>160</title>\n<path fill=\"#40a0e6\" stroke=\"#000000\" d=\"M5160.5,-1916C5160.5,-1916 5059.5,-1916 5059.5,-1916 5053.5,-1916 5047.5,-1910 5047.5,-1904 5047.5,-1904 5047.5,-1860 5047.5,-1860 5047.5,-1854 5053.5,-1848 5059.5,-1848 5059.5,-1848 5160.5,-1848 5160.5,-1848 5166.5,-1848 5172.5,-1854 5172.5,-1860 5172.5,-1860 5172.5,-1904 5172.5,-1904 5172.5,-1910 5166.5,-1916 5160.5,-1916\"/>\n<text text-anchor=\"start\" x=\"5055.5\" y=\"-1900.8\" font-family=\"Helvetica,sans-Serif\" font-size=\"14.00\" fill=\"#000000\">Destination ≤ 1.5</text>\n<text text-anchor=\"start\" x=\"5076.5\" y=\"-1885.8\" font-family=\"Helvetica,sans-Serif\" font-size=\"14.00\" fill=\"#000000\">gini = 0.06</text>\n<text text-anchor=\"start\" x=\"5062\" y=\"-1870.8\" font-family=\"Helvetica,sans-Serif\" font-size=\"14.00\" fill=\"#000000\">samples = 123</text>\n<text text-anchor=\"start\" x=\"5060\" y=\"-1855.8\" font-family=\"Helvetica,sans-Serif\" font-size=\"14.00\" fill=\"#000000\">value = [4, 119]</text>\n</g>\n<!-- 158&#45;&gt;160 -->\n<g id=\"edge160\" class=\"edge\">\n<title>158&#45;&gt;160</title>\n<path fill=\"none\" stroke=\"#000000\" d=\"M4991.8097,-2077.5667C5016.3959,-2036.8844 5057.3194,-1969.1694 5083.9785,-1925.0571\"/>\n<polygon fill=\"#000000\" stroke=\"#000000\" points=\"5087.0985,-1926.6614 5089.2754,-1916.2926 5081.1076,-1923.0407 5087.0985,-1926.6614\"/>\n</g>\n<!-- 161 -->\n<g id=\"node162\" class=\"node\">\n<title>161</title>\n<path fill=\"#399de5\" stroke=\"#000000\" d=\"M5089.5,-1678.5C5089.5,-1678.5 5006.5,-1678.5 5006.5,-1678.5 5000.5,-1678.5 4994.5,-1672.5 4994.5,-1666.5 4994.5,-1666.5 4994.5,-1637.5 4994.5,-1637.5 4994.5,-1631.5 5000.5,-1625.5 5006.5,-1625.5 5006.5,-1625.5 5089.5,-1625.5 5089.5,-1625.5 5095.5,-1625.5 5101.5,-1631.5 5101.5,-1637.5 5101.5,-1637.5 5101.5,-1666.5 5101.5,-1666.5 5101.5,-1672.5 5095.5,-1678.5 5089.5,-1678.5\"/>\n<text text-anchor=\"start\" x=\"5018.5\" y=\"-1663.3\" font-family=\"Helvetica,sans-Serif\" font-size=\"14.00\" fill=\"#000000\">gini = 0.0</text>\n<text text-anchor=\"start\" x=\"5004\" y=\"-1648.3\" font-family=\"Helvetica,sans-Serif\" font-size=\"14.00\" fill=\"#000000\">samples = 62</text>\n<text text-anchor=\"start\" x=\"5002.5\" y=\"-1633.3\" font-family=\"Helvetica,sans-Serif\" font-size=\"14.00\" fill=\"#000000\">value = [0, 62]</text>\n</g>\n<!-- 160&#45;&gt;161 -->\n<g id=\"edge161\" class=\"edge\">\n<title>160&#45;&gt;161</title>\n<path fill=\"none\" stroke=\"#000000\" d=\"M5100.718,-1847.5667C5089.2092,-1804.8727 5069.6748,-1732.4064 5057.891,-1688.6925\"/>\n<polygon fill=\"#000000\" stroke=\"#000000\" points=\"5061.1967,-1687.5079 5055.2145,-1678.7635 5054.438,-1689.3299 5061.1967,-1687.5079\"/>\n</g>\n<!-- 162 -->\n<g id=\"node163\" class=\"node\">\n<title>162</title>\n<path fill=\"#47a4e7\" stroke=\"#000000\" d=\"M5214.5,-1678.5C5214.5,-1678.5 5131.5,-1678.5 5131.5,-1678.5 5125.5,-1678.5 5119.5,-1672.5 5119.5,-1666.5 5119.5,-1666.5 5119.5,-1637.5 5119.5,-1637.5 5119.5,-1631.5 5125.5,-1625.5 5131.5,-1625.5 5131.5,-1625.5 5214.5,-1625.5 5214.5,-1625.5 5220.5,-1625.5 5226.5,-1631.5 5226.5,-1637.5 5226.5,-1637.5 5226.5,-1666.5 5226.5,-1666.5 5226.5,-1672.5 5220.5,-1678.5 5214.5,-1678.5\"/>\n<text text-anchor=\"start\" x=\"5139.5\" y=\"-1663.3\" font-family=\"Helvetica,sans-Serif\" font-size=\"14.00\" fill=\"#000000\">gini = 0.12</text>\n<text text-anchor=\"start\" x=\"5129\" y=\"-1648.3\" font-family=\"Helvetica,sans-Serif\" font-size=\"14.00\" fill=\"#000000\">samples = 61</text>\n<text text-anchor=\"start\" x=\"5127.5\" y=\"-1633.3\" font-family=\"Helvetica,sans-Serif\" font-size=\"14.00\" fill=\"#000000\">value = [4, 57]</text>\n</g>\n<!-- 160&#45;&gt;162 -->\n<g id=\"edge162\" class=\"edge\">\n<title>160&#45;&gt;162</title>\n<path fill=\"none\" stroke=\"#000000\" d=\"M5119.4317,-1847.5667C5131.1508,-1804.7827 5151.0594,-1732.1005 5163.0251,-1688.4162\"/>\n<polygon fill=\"#000000\" stroke=\"#000000\" points=\"5166.4029,-1689.3329 5165.6691,-1678.7635 5159.6516,-1687.4836 5166.4029,-1689.3329\"/>\n</g>\n<!-- 165 -->\n<g id=\"node166\" class=\"node\">\n<title>165</title>\n<path fill=\"#cde6f8\" stroke=\"#000000\" d=\"M5152,-2368.5C5152,-2368.5 5060,-2368.5 5060,-2368.5 5054,-2368.5 5048,-2362.5 5048,-2356.5 5048,-2356.5 5048,-2327.5 5048,-2327.5 5048,-2321.5 5054,-2315.5 5060,-2315.5 5060,-2315.5 5152,-2315.5 5152,-2315.5 5158,-2315.5 5164,-2321.5 5164,-2327.5 5164,-2327.5 5164,-2356.5 5164,-2356.5 5164,-2362.5 5158,-2368.5 5152,-2368.5\"/>\n<text text-anchor=\"start\" x=\"5072.5\" y=\"-2353.3\" font-family=\"Helvetica,sans-Serif\" font-size=\"14.00\" fill=\"#000000\">gini = 0.49</text>\n<text text-anchor=\"start\" x=\"5062\" y=\"-2338.3\" font-family=\"Helvetica,sans-Serif\" font-size=\"14.00\" fill=\"#000000\">samples = 89</text>\n<text text-anchor=\"start\" x=\"5056\" y=\"-2323.3\" font-family=\"Helvetica,sans-Serif\" font-size=\"14.00\" fill=\"#000000\">value = [38, 51]</text>\n</g>\n<!-- 164&#45;&gt;165 -->\n<g id=\"edge165\" class=\"edge\">\n<title>164&#45;&gt;165</title>\n<path fill=\"none\" stroke=\"#000000\" d=\"M5106,-2537.5667C5106,-2494.9628 5106,-2422.7121 5106,-2378.9695\"/>\n<polygon fill=\"#000000\" stroke=\"#000000\" points=\"5109.5001,-2378.7635 5106,-2368.7635 5102.5001,-2378.7636 5109.5001,-2378.7635\"/>\n</g>\n<!-- 166 -->\n<g id=\"node167\" class=\"node\">\n<title>166</title>\n<path fill=\"#3b9ee5\" stroke=\"#000000\" d=\"M5286,-2376C5286,-2376 5194,-2376 5194,-2376 5188,-2376 5182,-2370 5182,-2364 5182,-2364 5182,-2320 5182,-2320 5182,-2314 5188,-2308 5194,-2308 5194,-2308 5286,-2308 5286,-2308 5292,-2308 5298,-2314 5298,-2320 5298,-2320 5298,-2364 5298,-2364 5298,-2370 5292,-2376 5286,-2376\"/>\n<text text-anchor=\"start\" x=\"5205\" y=\"-2360.8\" font-family=\"Helvetica,sans-Serif\" font-size=\"14.00\" fill=\"#000000\">Age ≤ 22.5</text>\n<text text-anchor=\"start\" x=\"5206.5\" y=\"-2345.8\" font-family=\"Helvetica,sans-Serif\" font-size=\"14.00\" fill=\"#000000\">gini = 0.02</text>\n<text text-anchor=\"start\" x=\"5192\" y=\"-2330.8\" font-family=\"Helvetica,sans-Serif\" font-size=\"14.00\" fill=\"#000000\">samples = 398</text>\n<text text-anchor=\"start\" x=\"5190\" y=\"-2315.8\" font-family=\"Helvetica,sans-Serif\" font-size=\"14.00\" fill=\"#000000\">value = [4, 394]</text>\n</g>\n<!-- 164&#45;&gt;166 -->\n<g id=\"edge166\" class=\"edge\">\n<title>164&#45;&gt;166</title>\n<path fill=\"none\" stroke=\"#000000\" d=\"M5126.0612,-2537.5667C5149.763,-2496.8844 5189.2144,-2429.1694 5214.9146,-2385.0571\"/>\n<polygon fill=\"#000000\" stroke=\"#000000\" points=\"5218.0109,-2386.695 5220.0208,-2376.2926 5211.9626,-2383.1712 5218.0109,-2386.695\"/>\n</g>\n<!-- 167 -->\n<g id=\"node168\" class=\"node\">\n<title>167</title>\n<path fill=\"#399de5\" stroke=\"#000000\" d=\"M5286,-2138.5C5286,-2138.5 5194,-2138.5 5194,-2138.5 5188,-2138.5 5182,-2132.5 5182,-2126.5 5182,-2126.5 5182,-2097.5 5182,-2097.5 5182,-2091.5 5188,-2085.5 5194,-2085.5 5194,-2085.5 5286,-2085.5 5286,-2085.5 5292,-2085.5 5298,-2091.5 5298,-2097.5 5298,-2097.5 5298,-2126.5 5298,-2126.5 5298,-2132.5 5292,-2138.5 5286,-2138.5\"/>\n<text text-anchor=\"start\" x=\"5210.5\" y=\"-2123.3\" font-family=\"Helvetica,sans-Serif\" font-size=\"14.00\" fill=\"#000000\">gini = 0.0</text>\n<text text-anchor=\"start\" x=\"5192\" y=\"-2108.3\" font-family=\"Helvetica,sans-Serif\" font-size=\"14.00\" fill=\"#000000\">samples = 152</text>\n<text text-anchor=\"start\" x=\"5190\" y=\"-2093.3\" font-family=\"Helvetica,sans-Serif\" font-size=\"14.00\" fill=\"#000000\">value = [0, 152]</text>\n</g>\n<!-- 166&#45;&gt;167 -->\n<g id=\"edge167\" class=\"edge\">\n<title>166&#45;&gt;167</title>\n<path fill=\"none\" stroke=\"#000000\" d=\"M5240,-2307.5667C5240,-2264.9628 5240,-2192.7121 5240,-2148.9695\"/>\n<polygon fill=\"#000000\" stroke=\"#000000\" points=\"5243.5001,-2148.7635 5240,-2138.7635 5236.5001,-2148.7636 5243.5001,-2148.7635\"/>\n</g>\n<!-- 168 -->\n<g id=\"node169\" class=\"node\">\n<title>168</title>\n<path fill=\"#3c9fe5\" stroke=\"#000000\" d=\"M5420,-2146C5420,-2146 5328,-2146 5328,-2146 5322,-2146 5316,-2140 5316,-2134 5316,-2134 5316,-2090 5316,-2090 5316,-2084 5322,-2078 5328,-2078 5328,-2078 5420,-2078 5420,-2078 5426,-2078 5432,-2084 5432,-2090 5432,-2090 5432,-2134 5432,-2134 5432,-2140 5426,-2146 5420,-2146\"/>\n<text text-anchor=\"start\" x=\"5339\" y=\"-2130.8\" font-family=\"Helvetica,sans-Serif\" font-size=\"14.00\" fill=\"#000000\">Age ≤ 26.5</text>\n<text text-anchor=\"start\" x=\"5340.5\" y=\"-2115.8\" font-family=\"Helvetica,sans-Serif\" font-size=\"14.00\" fill=\"#000000\">gini = 0.03</text>\n<text text-anchor=\"start\" x=\"5326\" y=\"-2100.8\" font-family=\"Helvetica,sans-Serif\" font-size=\"14.00\" fill=\"#000000\">samples = 246</text>\n<text text-anchor=\"start\" x=\"5324\" y=\"-2085.8\" font-family=\"Helvetica,sans-Serif\" font-size=\"14.00\" fill=\"#000000\">value = [4, 242]</text>\n</g>\n<!-- 166&#45;&gt;168 -->\n<g id=\"edge168\" class=\"edge\">\n<title>166&#45;&gt;168</title>\n<path fill=\"none\" stroke=\"#000000\" d=\"M5260.0612,-2307.5667C5283.763,-2266.8844 5323.2144,-2199.1694 5348.9146,-2155.0571\"/>\n<polygon fill=\"#000000\" stroke=\"#000000\" points=\"5352.0109,-2156.695 5354.0208,-2146.2926 5345.9626,-2153.1712 5352.0109,-2156.695\"/>\n</g>\n<!-- 169 -->\n<g id=\"node170\" class=\"node\">\n<title>169</title>\n<path fill=\"#44a2e6\" stroke=\"#000000\" d=\"M5350.5,-1908.5C5350.5,-1908.5 5267.5,-1908.5 5267.5,-1908.5 5261.5,-1908.5 5255.5,-1902.5 5255.5,-1896.5 5255.5,-1896.5 5255.5,-1867.5 5255.5,-1867.5 5255.5,-1861.5 5261.5,-1855.5 5267.5,-1855.5 5267.5,-1855.5 5350.5,-1855.5 5350.5,-1855.5 5356.5,-1855.5 5362.5,-1861.5 5362.5,-1867.5 5362.5,-1867.5 5362.5,-1896.5 5362.5,-1896.5 5362.5,-1902.5 5356.5,-1908.5 5350.5,-1908.5\"/>\n<text text-anchor=\"start\" x=\"5279.5\" y=\"-1893.3\" font-family=\"Helvetica,sans-Serif\" font-size=\"14.00\" fill=\"#000000\">gini = 0.1</text>\n<text text-anchor=\"start\" x=\"5265\" y=\"-1878.3\" font-family=\"Helvetica,sans-Serif\" font-size=\"14.00\" fill=\"#000000\">samples = 59</text>\n<text text-anchor=\"start\" x=\"5263.5\" y=\"-1863.3\" font-family=\"Helvetica,sans-Serif\" font-size=\"14.00\" fill=\"#000000\">value = [3, 56]</text>\n</g>\n<!-- 168&#45;&gt;169 -->\n<g id=\"edge169\" class=\"edge\">\n<title>168&#45;&gt;169</title>\n<path fill=\"none\" stroke=\"#000000\" d=\"M5364.2688,-2077.5667C5352.1777,-2034.7827 5331.6371,-1962.1005 5319.2915,-1918.4162\"/>\n<polygon fill=\"#000000\" stroke=\"#000000\" points=\"5322.6513,-1917.4347 5316.5636,-1908.7635 5315.9152,-1919.3385 5322.6513,-1917.4347\"/>\n</g>\n<!-- 170 -->\n<g id=\"node171\" class=\"node\">\n<title>170</title>\n<path fill=\"#3a9ee5\" stroke=\"#000000\" d=\"M5485.5,-1916C5485.5,-1916 5392.5,-1916 5392.5,-1916 5386.5,-1916 5380.5,-1910 5380.5,-1904 5380.5,-1904 5380.5,-1860 5380.5,-1860 5380.5,-1854 5386.5,-1848 5392.5,-1848 5392.5,-1848 5485.5,-1848 5485.5,-1848 5491.5,-1848 5497.5,-1854 5497.5,-1860 5497.5,-1860 5497.5,-1904 5497.5,-1904 5497.5,-1910 5491.5,-1916 5485.5,-1916\"/>\n<text text-anchor=\"start\" x=\"5388.5\" y=\"-1900.8\" font-family=\"Helvetica,sans-Serif\" font-size=\"14.00\" fill=\"#000000\">Group ≤ 2359.0</text>\n<text text-anchor=\"start\" x=\"5405.5\" y=\"-1885.8\" font-family=\"Helvetica,sans-Serif\" font-size=\"14.00\" fill=\"#000000\">gini = 0.01</text>\n<text text-anchor=\"start\" x=\"5391\" y=\"-1870.8\" font-family=\"Helvetica,sans-Serif\" font-size=\"14.00\" fill=\"#000000\">samples = 187</text>\n<text text-anchor=\"start\" x=\"5389\" y=\"-1855.8\" font-family=\"Helvetica,sans-Serif\" font-size=\"14.00\" fill=\"#000000\">value = [1, 186]</text>\n</g>\n<!-- 168&#45;&gt;170 -->\n<g id=\"edge170\" class=\"edge\">\n<title>168&#45;&gt;170</title>\n<path fill=\"none\" stroke=\"#000000\" d=\"M5383.7312,-2077.5667C5395.1323,-2037.2242 5414.0461,-1970.2984 5426.518,-1926.1671\"/>\n<polygon fill=\"#000000\" stroke=\"#000000\" points=\"5429.9571,-1926.8675 5429.3086,-1916.2926 5423.2209,-1924.9638 5429.9571,-1926.8675\"/>\n</g>\n<!-- 171 -->\n<g id=\"node172\" class=\"node\">\n<title>171</title>\n<path fill=\"#3c9ee5\" stroke=\"#000000\" d=\"M5415.5,-1678.5C5415.5,-1678.5 5332.5,-1678.5 5332.5,-1678.5 5326.5,-1678.5 5320.5,-1672.5 5320.5,-1666.5 5320.5,-1666.5 5320.5,-1637.5 5320.5,-1637.5 5320.5,-1631.5 5326.5,-1625.5 5332.5,-1625.5 5332.5,-1625.5 5415.5,-1625.5 5415.5,-1625.5 5421.5,-1625.5 5427.5,-1631.5 5427.5,-1637.5 5427.5,-1637.5 5427.5,-1666.5 5427.5,-1666.5 5427.5,-1672.5 5421.5,-1678.5 5415.5,-1678.5\"/>\n<text text-anchor=\"start\" x=\"5340.5\" y=\"-1663.3\" font-family=\"Helvetica,sans-Serif\" font-size=\"14.00\" fill=\"#000000\">gini = 0.03</text>\n<text text-anchor=\"start\" x=\"5330\" y=\"-1648.3\" font-family=\"Helvetica,sans-Serif\" font-size=\"14.00\" fill=\"#000000\">samples = 71</text>\n<text text-anchor=\"start\" x=\"5328.5\" y=\"-1633.3\" font-family=\"Helvetica,sans-Serif\" font-size=\"14.00\" fill=\"#000000\">value = [1, 70]</text>\n</g>\n<!-- 170&#45;&gt;171 -->\n<g id=\"edge171\" class=\"edge\">\n<title>170&#45;&gt;171</title>\n<path fill=\"none\" stroke=\"#000000\" d=\"M5429.2688,-1847.5667C5417.1777,-1804.7827 5396.6371,-1732.1005 5384.2915,-1688.4162\"/>\n<polygon fill=\"#000000\" stroke=\"#000000\" points=\"5387.6513,-1687.4347 5381.5636,-1678.7635 5380.9152,-1689.3385 5387.6513,-1687.4347\"/>\n</g>\n<!-- 172 -->\n<g id=\"node173\" class=\"node\">\n<title>172</title>\n<path fill=\"#399de5\" stroke=\"#000000\" d=\"M5550,-1678.5C5550,-1678.5 5458,-1678.5 5458,-1678.5 5452,-1678.5 5446,-1672.5 5446,-1666.5 5446,-1666.5 5446,-1637.5 5446,-1637.5 5446,-1631.5 5452,-1625.5 5458,-1625.5 5458,-1625.5 5550,-1625.5 5550,-1625.5 5556,-1625.5 5562,-1631.5 5562,-1637.5 5562,-1637.5 5562,-1666.5 5562,-1666.5 5562,-1672.5 5556,-1678.5 5550,-1678.5\"/>\n<text text-anchor=\"start\" x=\"5474.5\" y=\"-1663.3\" font-family=\"Helvetica,sans-Serif\" font-size=\"14.00\" fill=\"#000000\">gini = 0.0</text>\n<text text-anchor=\"start\" x=\"5456\" y=\"-1648.3\" font-family=\"Helvetica,sans-Serif\" font-size=\"14.00\" fill=\"#000000\">samples = 116</text>\n<text text-anchor=\"start\" x=\"5454\" y=\"-1633.3\" font-family=\"Helvetica,sans-Serif\" font-size=\"14.00\" fill=\"#000000\">value = [0, 116]</text>\n</g>\n<!-- 170&#45;&gt;172 -->\n<g id=\"edge172\" class=\"edge\">\n<title>170&#45;&gt;172</title>\n<path fill=\"none\" stroke=\"#000000\" d=\"M5448.7312,-1847.5667C5460.8223,-1804.7827 5481.3629,-1732.1005 5493.7085,-1688.4162\"/>\n<polygon fill=\"#000000\" stroke=\"#000000\" points=\"5497.0848,-1689.3385 5496.4364,-1678.7635 5490.3487,-1687.4347 5497.0848,-1689.3385\"/>\n</g>\n</g>\n</svg>\n"
          },
          "metadata": {},
          "execution_count": 32
        }
      ]
    },
    {
      "cell_type": "code",
      "source": [
        "mean_absolute_error(val_y, m.predict(val_xs))"
      ],
      "metadata": {
        "colab": {
          "base_uri": "https://localhost:8080/"
        },
        "id": "yzJVk5b0xwj9",
        "outputId": "8d8fcd05-168a-498b-9643-831d7013f780"
      },
      "execution_count": 33,
      "outputs": [
        {
          "output_type": "execute_result",
          "data": {
            "text/plain": [
              "0.21573137074517018"
            ]
          },
          "metadata": {},
          "execution_count": 33
        }
      ]
    },
    {
      "cell_type": "code",
      "source": [
        "tst_df[cats] = tst_df[cats].apply(lambda x: x.cat.codes)\n",
        "tst_xs,_ = xs_y(tst_df)\n",
        "\n",
        "def subm(preds, suff):\n",
        "  tst_df['Transported'] = list(map(lambda x: True if x == 1 else False, preds))\n",
        "  sub_df = tst_df[['PassengerId', 'Transported']]\n",
        "  sub_df.to_csv(f'sub-{suff}.csv', index=False)\n",
        "\n",
        "subm(m.predict(tst_xs), 'tree')"
      ],
      "metadata": {
        "id": "CFxCnCt0x7Gh"
      },
      "execution_count": 35,
      "outputs": []
    },
    {
      "cell_type": "code",
      "source": [
        "#! kaggle competitions submit -c spaceship-titanic -f sub-tree.csv -m 'decision tree'"
      ],
      "metadata": {
        "id": "2GJF-VIOybD2"
      },
      "execution_count": null,
      "outputs": []
    },
    {
      "cell_type": "markdown",
      "source": [
        "# Random Forest"
      ],
      "metadata": {
        "id": "07-tJfhzUSYy"
      }
    },
    {
      "cell_type": "code",
      "source": [
        "def get_tree(prop=0.75):\n",
        "  n = len(trn_y)\n",
        "  idxs = random.choice(n, int(n*prop))\n",
        "  return DecisionTreeClassifier(min_samples_leaf=5).fit(trn_xs.iloc[idxs], trn_y.iloc[idxs])"
      ],
      "metadata": {
        "id": "IQLn_2UR2MkY"
      },
      "execution_count": 36,
      "outputs": []
    },
    {
      "cell_type": "code",
      "source": [
        "trees = [get_tree() for t in range(100)]"
      ],
      "metadata": {
        "id": "dR6IFVQmUmXB"
      },
      "execution_count": 37,
      "outputs": []
    },
    {
      "cell_type": "code",
      "source": [
        "all_probs = [t.predict(val_xs) for t in trees]\n",
        "avg_probs = np.stack(all_probs).mean(0)\n",
        "\n",
        "mean_absolute_error(val_y, avg_probs)"
      ],
      "metadata": {
        "colab": {
          "base_uri": "https://localhost:8080/"
        },
        "id": "byhILjS0UpIh",
        "outputId": "501e9591-0128-463a-8795-b18c62948509"
      },
      "execution_count": 38,
      "outputs": [
        {
          "output_type": "execute_result",
          "data": {
            "text/plain": [
              "0.25528978840846367"
            ]
          },
          "metadata": {},
          "execution_count": 38
        }
      ]
    },
    {
      "cell_type": "code",
      "source": [
        "from sklearn.ensemble import RandomForestClassifier\n",
        "\n",
        "rf = RandomForestClassifier(100, min_samples_leaf=5)\n",
        "rf.fit(trn_xs, trn_y)\n",
        "mean_absolute_error(val_y, rf.predict(val_xs))"
      ],
      "metadata": {
        "colab": {
          "base_uri": "https://localhost:8080/"
        },
        "id": "eR6aAEF4VF3B",
        "outputId": "429528bb-f809-4fc4-8f57-1525a76dba8e"
      },
      "execution_count": 39,
      "outputs": [
        {
          "output_type": "execute_result",
          "data": {
            "text/plain": [
              "0.20791168353265868"
            ]
          },
          "metadata": {},
          "execution_count": 39
        }
      ]
    },
    {
      "cell_type": "code",
      "source": [
        "subm(rf.predict(tst_xs), 'rf')"
      ],
      "metadata": {
        "id": "1rWd0_FkVg1o"
      },
      "execution_count": 40,
      "outputs": []
    },
    {
      "cell_type": "code",
      "source": [
        "! kaggle competitions submit -c spaceship-titanic -f sub-rf.csv -m 'random forest'"
      ],
      "metadata": {
        "colab": {
          "base_uri": "https://localhost:8080/"
        },
        "id": "sxgeAI2pVquz",
        "outputId": "83d157bb-b2f3-4c3d-a219-a0c4f85ebfc5"
      },
      "execution_count": 42,
      "outputs": [
        {
          "output_type": "stream",
          "name": "stdout",
          "text": [
            "100% 56.5k/56.5k [00:00<00:00, 111kB/s]\n",
            "Successfully submitted to Spaceship Titanic"
          ]
        }
      ]
    },
    {
      "cell_type": "code",
      "source": [
        "pd.DataFrame(dict(cols=trn_xs.columns, imp=m.feature_importances_)).plot('cols', 'imp', 'barh')"
      ],
      "metadata": {
        "colab": {
          "base_uri": "https://localhost:8080/",
          "height": 282
        },
        "id": "NwSFk0RuVxBm",
        "outputId": "822422df-5caa-4ba9-dee7-e38aa7e22484"
      },
      "execution_count": 43,
      "outputs": [
        {
          "output_type": "execute_result",
          "data": {
            "text/plain": [
              "<matplotlib.axes._subplots.AxesSubplot at 0x7ff04560a750>"
            ]
          },
          "metadata": {},
          "execution_count": 43
        },
        {
          "output_type": "display_data",
          "data": {
            "text/plain": [
              "<Figure size 432x288 with 1 Axes>"
            ],
            "image/png": "[encoded data removed]"
          },
          "metadata": {
            "needs_background": "light"
          }
        }
      ]
    },
    {
      "cell_type": "code",
      "source": [],
      "metadata": {
        "id": "53UNB3ihWral"
      },
      "execution_count": null,
      "outputs": []
    }
  ]
}