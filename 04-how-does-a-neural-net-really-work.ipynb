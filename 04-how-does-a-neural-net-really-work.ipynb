{
  "metadata": {
    "kernelspec": {
      "language": "python",
      "display_name": "Python 3",
      "name": "python3"
    },
    "language_info": {
      "pygments_lexer": "ipython3",
      "nbconvert_exporter": "python",
      "version": "3.6.4",
      "file_extension": ".py",
      "codemirror_mode": {
        "name": "ipython",
        "version": 3
      },
      "name": "python",
      "mimetype": "text/x-python"
    },
    "colab": {
      "provenance": []
    },
    "widgets": {
      "application/vnd.jupyter.widget-state+json": {
        "58a8894eaf4749749cf4af8ac579db6c": {
          "model_module": "@jupyter-widgets/controls",
          "model_name": "VBoxModel",
          "model_module_version": "1.5.0",
          "state": {
            "_dom_classes": [
              "widget-interact"
            ],
            "_model_module": "@jupyter-widgets/controls",
            "_model_module_version": "1.5.0",
            "_model_name": "VBoxModel",
            "_view_count": null,
            "_view_module": "@jupyter-widgets/controls",
            "_view_module_version": "1.5.0",
            "_view_name": "VBoxView",
            "box_style": "",
            "children": [
              "IPY_MODEL_556e367ff350483e9b174fbbd917e6dd",
              "IPY_MODEL_6e7b58d4897a427ebc6365f19936dbf6",
              "IPY_MODEL_477ca4c5c75243f0966979eed1347158",
              "IPY_MODEL_1507c8a5054746b091feb082bb43fbfc"
            ],
            "layout": "IPY_MODEL_12582c26e7de4e4ba8299c52a5e21382"
          }
        },
        "556e367ff350483e9b174fbbd917e6dd": {
          "model_module": "@jupyter-widgets/controls",
          "model_name": "FloatSliderModel",
          "model_module_version": "1.5.0",
          "state": {
            "_dom_classes": [],
            "_model_module": "@jupyter-widgets/controls",
            "_model_module_version": "1.5.0",
            "_model_name": "FloatSliderModel",
            "_view_count": null,
            "_view_module": "@jupyter-widgets/controls",
            "_view_module_version": "1.5.0",
            "_view_name": "FloatSliderView",
            "continuous_update": true,
            "description": "a",
            "description_tooltip": null,
            "disabled": false,
            "layout": "IPY_MODEL_2332283db1234c2d8bbdce351a646f08",
            "max": 3.3000000000000003,
            "min": -1.1,
            "orientation": "horizontal",
            "readout": true,
            "readout_format": ".2f",
            "step": 0.1,
            "style": "IPY_MODEL_cb7278f70515452fbb9213a367e91f46",
            "value": 0.7
          }
        },
        "6e7b58d4897a427ebc6365f19936dbf6": {
          "model_module": "@jupyter-widgets/controls",
          "model_name": "FloatSliderModel",
          "model_module_version": "1.5.0",
          "state": {
            "_dom_classes": [],
            "_model_module": "@jupyter-widgets/controls",
            "_model_module_version": "1.5.0",
            "_model_name": "FloatSliderModel",
            "_view_count": null,
            "_view_module": "@jupyter-widgets/controls",
            "_view_module_version": "1.5.0",
            "_view_name": "FloatSliderView",
            "continuous_update": true,
            "description": "b",
            "description_tooltip": null,
            "disabled": false,
            "layout": "IPY_MODEL_e5949c73fa5d4141ba2784c54dc31d0d",
            "max": 3.3000000000000003,
            "min": -1.1,
            "orientation": "horizontal",
            "readout": true,
            "readout_format": ".2f",
            "step": 0.1,
            "style": "IPY_MODEL_50d8b8c1b4c24c44b5957a3ab1c6ccea",
            "value": 1.1
          }
        },
        "477ca4c5c75243f0966979eed1347158": {
          "model_module": "@jupyter-widgets/controls",
          "model_name": "FloatSliderModel",
          "model_module_version": "1.5.0",
          "state": {
            "_dom_classes": [],
            "_model_module": "@jupyter-widgets/controls",
            "_model_module_version": "1.5.0",
            "_model_name": "FloatSliderModel",
            "_view_count": null,
            "_view_module": "@jupyter-widgets/controls",
            "_view_module_version": "1.5.0",
            "_view_name": "FloatSliderView",
            "continuous_update": true,
            "description": "c",
            "description_tooltip": null,
            "disabled": false,
            "layout": "IPY_MODEL_8aba5c6b155a472f89af5b49fcb83c68",
            "max": 3.3000000000000003,
            "min": -1.1,
            "orientation": "horizontal",
            "readout": true,
            "readout_format": ".2f",
            "step": 0.1,
            "style": "IPY_MODEL_9c9544172a8447a0928d0aee1149793b",
            "value": 1.1
          }
        },
        "1507c8a5054746b091feb082bb43fbfc": {
          "model_module": "@jupyter-widgets/output",
          "model_name": "OutputModel",
          "model_module_version": "1.0.0",
          "state": {
            "_dom_classes": [],
            "_model_module": "@jupyter-widgets/output",
            "_model_module_version": "1.0.0",
            "_model_name": "OutputModel",
            "_view_count": null,
            "_view_module": "@jupyter-widgets/output",
            "_view_module_version": "1.0.0",
            "_view_name": "OutputView",
            "layout": "IPY_MODEL_c77b72bc1c3f449098c3c4ffc3ac819c",
            "msg_id": "",
            "outputs": [
              {
                "output_type": "display_data",
                "data": {
                  "text/plain": "<Figure size 540x360 with 1 Axes>",
                  "image/png": "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\n"
                },
                "metadata": {
                  "needs_background": "light"
                }
              }
            ]
          }
        },
        "12582c26e7de4e4ba8299c52a5e21382": {
          "model_module": "@jupyter-widgets/base",
          "model_name": "LayoutModel",
          "model_module_version": "1.2.0",
          "state": {
            "_model_module": "@jupyter-widgets/base",
            "_model_module_version": "1.2.0",
            "_model_name": "LayoutModel",
            "_view_count": null,
            "_view_module": "@jupyter-widgets/base",
            "_view_module_version": "1.2.0",
            "_view_name": "LayoutView",
            "align_content": null,
            "align_items": null,
            "align_self": null,
            "border": null,
            "bottom": null,
            "display": null,
            "flex": null,
            "flex_flow": null,
            "grid_area": null,
            "grid_auto_columns": null,
            "grid_auto_flow": null,
            "grid_auto_rows": null,
            "grid_column": null,
            "grid_gap": null,
            "grid_row": null,
            "grid_template_areas": null,
            "grid_template_columns": null,
            "grid_template_rows": null,
            "height": null,
            "justify_content": null,
            "justify_items": null,
            "left": null,
            "margin": null,
            "max_height": null,
            "max_width": null,
            "min_height": null,
            "min_width": null,
            "object_fit": null,
            "object_position": null,
            "order": null,
            "overflow": null,
            "overflow_x": null,
            "overflow_y": null,
            "padding": null,
            "right": null,
            "top": null,
            "visibility": null,
            "width": null
          }
        },
        "2332283db1234c2d8bbdce351a646f08": {
          "model_module": "@jupyter-widgets/base",
          "model_name": "LayoutModel",
          "model_module_version": "1.2.0",
          "state": {
            "_model_module": "@jupyter-widgets/base",
            "_model_module_version": "1.2.0",
            "_model_name": "LayoutModel",
            "_view_count": null,
            "_view_module": "@jupyter-widgets/base",
            "_view_module_version": "1.2.0",
            "_view_name": "LayoutView",
            "align_content": null,
            "align_items": null,
            "align_self": null,
            "border": null,
            "bottom": null,
            "display": null,
            "flex": null,
            "flex_flow": null,
            "grid_area": null,
            "grid_auto_columns": null,
            "grid_auto_flow": null,
            "grid_auto_rows": null,
            "grid_column": null,
            "grid_gap": null,
            "grid_row": null,
            "grid_template_areas": null,
            "grid_template_columns": null,
            "grid_template_rows": null,
            "height": null,
            "justify_content": null,
            "justify_items": null,
            "left": null,
            "margin": null,
            "max_height": null,
            "max_width": null,
            "min_height": null,
            "min_width": null,
            "object_fit": null,
            "object_position": null,
            "order": null,
            "overflow": null,
            "overflow_x": null,
            "overflow_y": null,
            "padding": null,
            "right": null,
            "top": null,
            "visibility": null,
            "width": null
          }
        },
        "cb7278f70515452fbb9213a367e91f46": {
          "model_module": "@jupyter-widgets/controls",
          "model_name": "SliderStyleModel",
          "model_module_version": "1.5.0",
          "state": {
            "_model_module": "@jupyter-widgets/controls",
            "_model_module_version": "1.5.0",
            "_model_name": "SliderStyleModel",
            "_view_count": null,
            "_view_module": "@jupyter-widgets/base",
            "_view_module_version": "1.2.0",
            "_view_name": "StyleView",
            "description_width": "",
            "handle_color": null
          }
        },
        "e5949c73fa5d4141ba2784c54dc31d0d": {
          "model_module": "@jupyter-widgets/base",
          "model_name": "LayoutModel",
          "model_module_version": "1.2.0",
          "state": {
            "_model_module": "@jupyter-widgets/base",
            "_model_module_version": "1.2.0",
            "_model_name": "LayoutModel",
            "_view_count": null,
            "_view_module": "@jupyter-widgets/base",
            "_view_module_version": "1.2.0",
            "_view_name": "LayoutView",
            "align_content": null,
            "align_items": null,
            "align_self": null,
            "border": null,
            "bottom": null,
            "display": null,
            "flex": null,
            "flex_flow": null,
            "grid_area": null,
            "grid_auto_columns": null,
            "grid_auto_flow": null,
            "grid_auto_rows": null,
            "grid_column": null,
            "grid_gap": null,
            "grid_row": null,
            "grid_template_areas": null,
            "grid_template_columns": null,
            "grid_template_rows": null,
            "height": null,
            "justify_content": null,
            "justify_items": null,
            "left": null,
            "margin": null,
            "max_height": null,
            "max_width": null,
            "min_height": null,
            "min_width": null,
            "object_fit": null,
            "object_position": null,
            "order": null,
            "overflow": null,
            "overflow_x": null,
            "overflow_y": null,
            "padding": null,
            "right": null,
            "top": null,
            "visibility": null,
            "width": null
          }
        },
        "50d8b8c1b4c24c44b5957a3ab1c6ccea": {
          "model_module": "@jupyter-widgets/controls",
          "model_name": "SliderStyleModel",
          "model_module_version": "1.5.0",
          "state": {
            "_model_module": "@jupyter-widgets/controls",
            "_model_module_version": "1.5.0",
            "_model_name": "SliderStyleModel",
            "_view_count": null,
            "_view_module": "@jupyter-widgets/base",
            "_view_module_version": "1.2.0",
            "_view_name": "StyleView",
            "description_width": "",
            "handle_color": null
          }
        },
        "8aba5c6b155a472f89af5b49fcb83c68": {
          "model_module": "@jupyter-widgets/base",
          "model_name": "LayoutModel",
          "model_module_version": "1.2.0",
          "state": {
            "_model_module": "@jupyter-widgets/base",
            "_model_module_version": "1.2.0",
            "_model_name": "LayoutModel",
            "_view_count": null,
            "_view_module": "@jupyter-widgets/base",
            "_view_module_version": "1.2.0",
            "_view_name": "LayoutView",
            "align_content": null,
            "align_items": null,
            "align_self": null,
            "border": null,
            "bottom": null,
            "display": null,
            "flex": null,
            "flex_flow": null,
            "grid_area": null,
            "grid_auto_columns": null,
            "grid_auto_flow": null,
            "grid_auto_rows": null,
            "grid_column": null,
            "grid_gap": null,
            "grid_row": null,
            "grid_template_areas": null,
            "grid_template_columns": null,
            "grid_template_rows": null,
            "height": null,
            "justify_content": null,
            "justify_items": null,
            "left": null,
            "margin": null,
            "max_height": null,
            "max_width": null,
            "min_height": null,
            "min_width": null,
            "object_fit": null,
            "object_position": null,
            "order": null,
            "overflow": null,
            "overflow_x": null,
            "overflow_y": null,
            "padding": null,
            "right": null,
            "top": null,
            "visibility": null,
            "width": null
          }
        },
        "9c9544172a8447a0928d0aee1149793b": {
          "model_module": "@jupyter-widgets/controls",
          "model_name": "SliderStyleModel",
          "model_module_version": "1.5.0",
          "state": {
            "_model_module": "@jupyter-widgets/controls",
            "_model_module_version": "1.5.0",
            "_model_name": "SliderStyleModel",
            "_view_count": null,
            "_view_module": "@jupyter-widgets/base",
            "_view_module_version": "1.2.0",
            "_view_name": "StyleView",
            "description_width": "",
            "handle_color": null
          }
        },
        "c77b72bc1c3f449098c3c4ffc3ac819c": {
          "model_module": "@jupyter-widgets/base",
          "model_name": "LayoutModel",
          "model_module_version": "1.2.0",
          "state": {
            "_model_module": "@jupyter-widgets/base",
            "_model_module_version": "1.2.0",
            "_model_name": "LayoutModel",
            "_view_count": null,
            "_view_module": "@jupyter-widgets/base",
            "_view_module_version": "1.2.0",
            "_view_name": "LayoutView",
            "align_content": null,
            "align_items": null,
            "align_self": null,
            "border": null,
            "bottom": null,
            "display": null,
            "flex": null,
            "flex_flow": null,
            "grid_area": null,
            "grid_auto_columns": null,
            "grid_auto_flow": null,
            "grid_auto_rows": null,
            "grid_column": null,
            "grid_gap": null,
            "grid_row": null,
            "grid_template_areas": null,
            "grid_template_columns": null,
            "grid_template_rows": null,
            "height": null,
            "justify_content": null,
            "justify_items": null,
            "left": null,
            "margin": null,
            "max_height": null,
            "max_width": null,
            "min_height": null,
            "min_width": null,
            "object_fit": null,
            "object_position": null,
            "order": null,
            "overflow": null,
            "overflow_x": null,
            "overflow_y": null,
            "padding": null,
            "right": null,
            "top": null,
            "visibility": null,
            "width": null
          }
        },
        "211cb701cd384b4da6011a029fff250c": {
          "model_module": "@jupyter-widgets/controls",
          "model_name": "VBoxModel",
          "model_module_version": "1.5.0",
          "state": {
            "_dom_classes": [
              "widget-interact"
            ],
            "_model_module": "@jupyter-widgets/controls",
            "_model_module_version": "1.5.0",
            "_model_name": "VBoxModel",
            "_view_count": null,
            "_view_module": "@jupyter-widgets/controls",
            "_view_module_version": "1.5.0",
            "_view_name": "VBoxView",
            "box_style": "",
            "children": [
              "IPY_MODEL_404f121c16bb4acc8dd7732124ba8817",
              "IPY_MODEL_0b9fa0d26a0948f0a8954e3e0f5034c0",
              "IPY_MODEL_98c99a3e1c994d3f8465d41b60162e51",
              "IPY_MODEL_137952532dd741eaa8313d81c79404b9"
            ],
            "layout": "IPY_MODEL_6816673dfa94424ea4cbfb0ff1da098d"
          }
        },
        "404f121c16bb4acc8dd7732124ba8817": {
          "model_module": "@jupyter-widgets/controls",
          "model_name": "FloatSliderModel",
          "model_module_version": "1.5.0",
          "state": {
            "_dom_classes": [],
            "_model_module": "@jupyter-widgets/controls",
            "_model_module_version": "1.5.0",
            "_model_name": "FloatSliderModel",
            "_view_count": null,
            "_view_module": "@jupyter-widgets/controls",
            "_view_module_version": "1.5.0",
            "_view_name": "FloatSliderView",
            "continuous_update": true,
            "description": "a",
            "description_tooltip": null,
            "disabled": false,
            "layout": "IPY_MODEL_2623518d07774237894c9d53e0a79949",
            "max": 3.3000000000000003,
            "min": -1.1,
            "orientation": "horizontal",
            "readout": true,
            "readout_format": ".2f",
            "step": 0.1,
            "style": "IPY_MODEL_475ca4dbfeb44f4a91ef93489bb30a2f",
            "value": -1.1
          }
        },
        "0b9fa0d26a0948f0a8954e3e0f5034c0": {
          "model_module": "@jupyter-widgets/controls",
          "model_name": "FloatSliderModel",
          "model_module_version": "1.5.0",
          "state": {
            "_dom_classes": [],
            "_model_module": "@jupyter-widgets/controls",
            "_model_module_version": "1.5.0",
            "_model_name": "FloatSliderModel",
            "_view_count": null,
            "_view_module": "@jupyter-widgets/controls",
            "_view_module_version": "1.5.0",
            "_view_name": "FloatSliderView",
            "continuous_update": true,
            "description": "b",
            "description_tooltip": null,
            "disabled": false,
            "layout": "IPY_MODEL_fa73a6b1e6c744d3bdd08b81a9f1ec05",
            "max": 3.3000000000000003,
            "min": -1.1,
            "orientation": "horizontal",
            "readout": true,
            "readout_format": ".2f",
            "step": 0.1,
            "style": "IPY_MODEL_022d3a93a6aa4d2d9f543742d0b0e37e",
            "value": 3.1
          }
        },
        "98c99a3e1c994d3f8465d41b60162e51": {
          "model_module": "@jupyter-widgets/controls",
          "model_name": "FloatSliderModel",
          "model_module_version": "1.5.0",
          "state": {
            "_dom_classes": [],
            "_model_module": "@jupyter-widgets/controls",
            "_model_module_version": "1.5.0",
            "_model_name": "FloatSliderModel",
            "_view_count": null,
            "_view_module": "@jupyter-widgets/controls",
            "_view_module_version": "1.5.0",
            "_view_name": "FloatSliderView",
            "continuous_update": true,
            "description": "c",
            "description_tooltip": null,
            "disabled": false,
            "layout": "IPY_MODEL_b62a7bf33b304c098c6be81a2e99cc6f",
            "max": 3.3000000000000003,
            "min": -1.1,
            "orientation": "horizontal",
            "readout": true,
            "readout_format": ".2f",
            "step": 0.1,
            "style": "IPY_MODEL_a42423fb78f746b29c35c5f1a6f2b4a3",
            "value": 1.1
          }
        },
        "137952532dd741eaa8313d81c79404b9": {
          "model_module": "@jupyter-widgets/output",
          "model_name": "OutputModel",
          "model_module_version": "1.0.0",
          "state": {
            "_dom_classes": [],
            "_model_module": "@jupyter-widgets/output",
            "_model_module_version": "1.0.0",
            "_model_name": "OutputModel",
            "_view_count": null,
            "_view_module": "@jupyter-widgets/output",
            "_view_module_version": "1.0.0",
            "_view_name": "OutputView",
            "layout": "IPY_MODEL_35429833a05b4f4c920af1f78833a98d",
            "msg_id": "",
            "outputs": [
              {
                "output_type": "display_data",
                "data": {
                  "text/plain": "<Figure size 540x360 with 1 Axes>",
                  "image/png": "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\n"
                },
                "metadata": {
                  "needs_background": "light"
                }
              }
            ]
          }
        },
        "6816673dfa94424ea4cbfb0ff1da098d": {
          "model_module": "@jupyter-widgets/base",
          "model_name": "LayoutModel",
          "model_module_version": "1.2.0",
          "state": {
            "_model_module": "@jupyter-widgets/base",
            "_model_module_version": "1.2.0",
            "_model_name": "LayoutModel",
            "_view_count": null,
            "_view_module": "@jupyter-widgets/base",
            "_view_module_version": "1.2.0",
            "_view_name": "LayoutView",
            "align_content": null,
            "align_items": null,
            "align_self": null,
            "border": null,
            "bottom": null,
            "display": null,
            "flex": null,
            "flex_flow": null,
            "grid_area": null,
            "grid_auto_columns": null,
            "grid_auto_flow": null,
            "grid_auto_rows": null,
            "grid_column": null,
            "grid_gap": null,
            "grid_row": null,
            "grid_template_areas": null,
            "grid_template_columns": null,
            "grid_template_rows": null,
            "height": null,
            "justify_content": null,
            "justify_items": null,
            "left": null,
            "margin": null,
            "max_height": null,
            "max_width": null,
            "min_height": null,
            "min_width": null,
            "object_fit": null,
            "object_position": null,
            "order": null,
            "overflow": null,
            "overflow_x": null,
            "overflow_y": null,
            "padding": null,
            "right": null,
            "top": null,
            "visibility": null,
            "width": null
          }
        },
        "2623518d07774237894c9d53e0a79949": {
          "model_module": "@jupyter-widgets/base",
          "model_name": "LayoutModel",
          "model_module_version": "1.2.0",
          "state": {
            "_model_module": "@jupyter-widgets/base",
            "_model_module_version": "1.2.0",
            "_model_name": "LayoutModel",
            "_view_count": null,
            "_view_module": "@jupyter-widgets/base",
            "_view_module_version": "1.2.0",
            "_view_name": "LayoutView",
            "align_content": null,
            "align_items": null,
            "align_self": null,
            "border": null,
            "bottom": null,
            "display": null,
            "flex": null,
            "flex_flow": null,
            "grid_area": null,
            "grid_auto_columns": null,
            "grid_auto_flow": null,
            "grid_auto_rows": null,
            "grid_column": null,
            "grid_gap": null,
            "grid_row": null,
            "grid_template_areas": null,
            "grid_template_columns": null,
            "grid_template_rows": null,
            "height": null,
            "justify_content": null,
            "justify_items": null,
            "left": null,
            "margin": null,
            "max_height": null,
            "max_width": null,
            "min_height": null,
            "min_width": null,
            "object_fit": null,
            "object_position": null,
            "order": null,
            "overflow": null,
            "overflow_x": null,
            "overflow_y": null,
            "padding": null,
            "right": null,
            "top": null,
            "visibility": null,
            "width": null
          }
        },
        "475ca4dbfeb44f4a91ef93489bb30a2f": {
          "model_module": "@jupyter-widgets/controls",
          "model_name": "SliderStyleModel",
          "model_module_version": "1.5.0",
          "state": {
            "_model_module": "@jupyter-widgets/controls",
            "_model_module_version": "1.5.0",
            "_model_name": "SliderStyleModel",
            "_view_count": null,
            "_view_module": "@jupyter-widgets/base",
            "_view_module_version": "1.2.0",
            "_view_name": "StyleView",
            "description_width": "",
            "handle_color": null
          }
        },
        "fa73a6b1e6c744d3bdd08b81a9f1ec05": {
          "model_module": "@jupyter-widgets/base",
          "model_name": "LayoutModel",
          "model_module_version": "1.2.0",
          "state": {
            "_model_module": "@jupyter-widgets/base",
            "_model_module_version": "1.2.0",
            "_model_name": "LayoutModel",
            "_view_count": null,
            "_view_module": "@jupyter-widgets/base",
            "_view_module_version": "1.2.0",
            "_view_name": "LayoutView",
            "align_content": null,
            "align_items": null,
            "align_self": null,
            "border": null,
            "bottom": null,
            "display": null,
            "flex": null,
            "flex_flow": null,
            "grid_area": null,
            "grid_auto_columns": null,
            "grid_auto_flow": null,
            "grid_auto_rows": null,
            "grid_column": null,
            "grid_gap": null,
            "grid_row": null,
            "grid_template_areas": null,
            "grid_template_columns": null,
            "grid_template_rows": null,
            "height": null,
            "justify_content": null,
            "justify_items": null,
            "left": null,
            "margin": null,
            "max_height": null,
            "max_width": null,
            "min_height": null,
            "min_width": null,
            "object_fit": null,
            "object_position": null,
            "order": null,
            "overflow": null,
            "overflow_x": null,
            "overflow_y": null,
            "padding": null,
            "right": null,
            "top": null,
            "visibility": null,
            "width": null
          }
        },
        "022d3a93a6aa4d2d9f543742d0b0e37e": {
          "model_module": "@jupyter-widgets/controls",
          "model_name": "SliderStyleModel",
          "model_module_version": "1.5.0",
          "state": {
            "_model_module": "@jupyter-widgets/controls",
            "_model_module_version": "1.5.0",
            "_model_name": "SliderStyleModel",
            "_view_count": null,
            "_view_module": "@jupyter-widgets/base",
            "_view_module_version": "1.2.0",
            "_view_name": "StyleView",
            "description_width": "",
            "handle_color": null
          }
        },
        "b62a7bf33b304c098c6be81a2e99cc6f": {
          "model_module": "@jupyter-widgets/base",
          "model_name": "LayoutModel",
          "model_module_version": "1.2.0",
          "state": {
            "_model_module": "@jupyter-widgets/base",
            "_model_module_version": "1.2.0",
            "_model_name": "LayoutModel",
            "_view_count": null,
            "_view_module": "@jupyter-widgets/base",
            "_view_module_version": "1.2.0",
            "_view_name": "LayoutView",
            "align_content": null,
            "align_items": null,
            "align_self": null,
            "border": null,
            "bottom": null,
            "display": null,
            "flex": null,
            "flex_flow": null,
            "grid_area": null,
            "grid_auto_columns": null,
            "grid_auto_flow": null,
            "grid_auto_rows": null,
            "grid_column": null,
            "grid_gap": null,
            "grid_row": null,
            "grid_template_areas": null,
            "grid_template_columns": null,
            "grid_template_rows": null,
            "height": null,
            "justify_content": null,
            "justify_items": null,
            "left": null,
            "margin": null,
            "max_height": null,
            "max_width": null,
            "min_height": null,
            "min_width": null,
            "object_fit": null,
            "object_position": null,
            "order": null,
            "overflow": null,
            "overflow_x": null,
            "overflow_y": null,
            "padding": null,
            "right": null,
            "top": null,
            "visibility": null,
            "width": null
          }
        },
        "a42423fb78f746b29c35c5f1a6f2b4a3": {
          "model_module": "@jupyter-widgets/controls",
          "model_name": "SliderStyleModel",
          "model_module_version": "1.5.0",
          "state": {
            "_model_module": "@jupyter-widgets/controls",
            "_model_module_version": "1.5.0",
            "_model_name": "SliderStyleModel",
            "_view_count": null,
            "_view_module": "@jupyter-widgets/base",
            "_view_module_version": "1.2.0",
            "_view_name": "StyleView",
            "description_width": "",
            "handle_color": null
          }
        },
        "35429833a05b4f4c920af1f78833a98d": {
          "model_module": "@jupyter-widgets/base",
          "model_name": "LayoutModel",
          "model_module_version": "1.2.0",
          "state": {
            "_model_module": "@jupyter-widgets/base",
            "_model_module_version": "1.2.0",
            "_model_name": "LayoutModel",
            "_view_count": null,
            "_view_module": "@jupyter-widgets/base",
            "_view_module_version": "1.2.0",
            "_view_name": "LayoutView",
            "align_content": null,
            "align_items": null,
            "align_self": null,
            "border": null,
            "bottom": null,
            "display": null,
            "flex": null,
            "flex_flow": null,
            "grid_area": null,
            "grid_auto_columns": null,
            "grid_auto_flow": null,
            "grid_auto_rows": null,
            "grid_column": null,
            "grid_gap": null,
            "grid_row": null,
            "grid_template_areas": null,
            "grid_template_columns": null,
            "grid_template_rows": null,
            "height": null,
            "justify_content": null,
            "justify_items": null,
            "left": null,
            "margin": null,
            "max_height": null,
            "max_width": null,
            "min_height": null,
            "min_width": null,
            "object_fit": null,
            "object_position": null,
            "order": null,
            "overflow": null,
            "overflow_x": null,
            "overflow_y": null,
            "padding": null,
            "right": null,
            "top": null,
            "visibility": null,
            "width": null
          }
        },
        "bab41e87a08f4d199644a88a04be39e4": {
          "model_module": "@jupyter-widgets/controls",
          "model_name": "VBoxModel",
          "model_module_version": "1.5.0",
          "state": {
            "_dom_classes": [
              "widget-interact"
            ],
            "_model_module": "@jupyter-widgets/controls",
            "_model_module_version": "1.5.0",
            "_model_name": "VBoxModel",
            "_view_count": null,
            "_view_module": "@jupyter-widgets/controls",
            "_view_module_version": "1.5.0",
            "_view_name": "VBoxView",
            "box_style": "",
            "children": [
              "IPY_MODEL_6ca07c9e644045dba6318bd66f9cc9e8",
              "IPY_MODEL_f8dc677836d844dab405064aa123f7ff",
              "IPY_MODEL_02c4051a910d4252948b0475815fd81c"
            ],
            "layout": "IPY_MODEL_3b1a07205f674fec99297753ebdae040"
          }
        },
        "6ca07c9e644045dba6318bd66f9cc9e8": {
          "model_module": "@jupyter-widgets/controls",
          "model_name": "FloatSliderModel",
          "model_module_version": "1.5.0",
          "state": {
            "_dom_classes": [],
            "_model_module": "@jupyter-widgets/controls",
            "_model_module_version": "1.5.0",
            "_model_name": "FloatSliderModel",
            "_view_count": null,
            "_view_module": "@jupyter-widgets/controls",
            "_view_module_version": "1.5.0",
            "_view_name": "FloatSliderView",
            "continuous_update": true,
            "description": "m",
            "description_tooltip": null,
            "disabled": false,
            "layout": "IPY_MODEL_14e1d62f5b7d48a3a2a0575e217ea4f8",
            "max": 4.5,
            "min": -1.5,
            "orientation": "horizontal",
            "readout": true,
            "readout_format": ".2f",
            "step": 0.1,
            "style": "IPY_MODEL_de734ab0884f43ab93ec6a766c406c51",
            "value": 4.5
          }
        },
        "f8dc677836d844dab405064aa123f7ff": {
          "model_module": "@jupyter-widgets/controls",
          "model_name": "FloatSliderModel",
          "model_module_version": "1.5.0",
          "state": {
            "_dom_classes": [],
            "_model_module": "@jupyter-widgets/controls",
            "_model_module_version": "1.5.0",
            "_model_name": "FloatSliderModel",
            "_view_count": null,
            "_view_module": "@jupyter-widgets/controls",
            "_view_module_version": "1.5.0",
            "_view_name": "FloatSliderView",
            "continuous_update": true,
            "description": "b",
            "description_tooltip": null,
            "disabled": false,
            "layout": "IPY_MODEL_3da1885fe2384a278ebc1dc67042570e",
            "max": 4.5,
            "min": -1.5,
            "orientation": "horizontal",
            "readout": true,
            "readout_format": ".2f",
            "step": 0.1,
            "style": "IPY_MODEL_d9448fe9ba7e4a03adbc54c7f127a04d",
            "value": 1.4
          }
        },
        "02c4051a910d4252948b0475815fd81c": {
          "model_module": "@jupyter-widgets/output",
          "model_name": "OutputModel",
          "model_module_version": "1.0.0",
          "state": {
            "_dom_classes": [],
            "_model_module": "@jupyter-widgets/output",
            "_model_module_version": "1.0.0",
            "_model_name": "OutputModel",
            "_view_count": null,
            "_view_module": "@jupyter-widgets/output",
            "_view_module_version": "1.0.0",
            "_view_name": "OutputView",
            "layout": "IPY_MODEL_d461ea7fa95e47028de4b505d29ee15a",
            "msg_id": "",
            "outputs": [
              {
                "output_type": "display_data",
                "data": {
                  "text/plain": "<Figure size 540x360 with 1 Axes>",
                  "image/png": "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\n"
                },
                "metadata": {
                  "needs_background": "light"
                }
              }
            ]
          }
        },
        "3b1a07205f674fec99297753ebdae040": {
          "model_module": "@jupyter-widgets/base",
          "model_name": "LayoutModel",
          "model_module_version": "1.2.0",
          "state": {
            "_model_module": "@jupyter-widgets/base",
            "_model_module_version": "1.2.0",
            "_model_name": "LayoutModel",
            "_view_count": null,
            "_view_module": "@jupyter-widgets/base",
            "_view_module_version": "1.2.0",
            "_view_name": "LayoutView",
            "align_content": null,
            "align_items": null,
            "align_self": null,
            "border": null,
            "bottom": null,
            "display": null,
            "flex": null,
            "flex_flow": null,
            "grid_area": null,
            "grid_auto_columns": null,
            "grid_auto_flow": null,
            "grid_auto_rows": null,
            "grid_column": null,
            "grid_gap": null,
            "grid_row": null,
            "grid_template_areas": null,
            "grid_template_columns": null,
            "grid_template_rows": null,
            "height": null,
            "justify_content": null,
            "justify_items": null,
            "left": null,
            "margin": null,
            "max_height": null,
            "max_width": null,
            "min_height": null,
            "min_width": null,
            "object_fit": null,
            "object_position": null,
            "order": null,
            "overflow": null,
            "overflow_x": null,
            "overflow_y": null,
            "padding": null,
            "right": null,
            "top": null,
            "visibility": null,
            "width": null
          }
        },
        "14e1d62f5b7d48a3a2a0575e217ea4f8": {
          "model_module": "@jupyter-widgets/base",
          "model_name": "LayoutModel",
          "model_module_version": "1.2.0",
          "state": {
            "_model_module": "@jupyter-widgets/base",
            "_model_module_version": "1.2.0",
            "_model_name": "LayoutModel",
            "_view_count": null,
            "_view_module": "@jupyter-widgets/base",
            "_view_module_version": "1.2.0",
            "_view_name": "LayoutView",
            "align_content": null,
            "align_items": null,
            "align_self": null,
            "border": null,
            "bottom": null,
            "display": null,
            "flex": null,
            "flex_flow": null,
            "grid_area": null,
            "grid_auto_columns": null,
            "grid_auto_flow": null,
            "grid_auto_rows": null,
            "grid_column": null,
            "grid_gap": null,
            "grid_row": null,
            "grid_template_areas": null,
            "grid_template_columns": null,
            "grid_template_rows": null,
            "height": null,
            "justify_content": null,
            "justify_items": null,
            "left": null,
            "margin": null,
            "max_height": null,
            "max_width": null,
            "min_height": null,
            "min_width": null,
            "object_fit": null,
            "object_position": null,
            "order": null,
            "overflow": null,
            "overflow_x": null,
            "overflow_y": null,
            "padding": null,
            "right": null,
            "top": null,
            "visibility": null,
            "width": null
          }
        },
        "de734ab0884f43ab93ec6a766c406c51": {
          "model_module": "@jupyter-widgets/controls",
          "model_name": "SliderStyleModel",
          "model_module_version": "1.5.0",
          "state": {
            "_model_module": "@jupyter-widgets/controls",
            "_model_module_version": "1.5.0",
            "_model_name": "SliderStyleModel",
            "_view_count": null,
            "_view_module": "@jupyter-widgets/base",
            "_view_module_version": "1.2.0",
            "_view_name": "StyleView",
            "description_width": "",
            "handle_color": null
          }
        },
        "3da1885fe2384a278ebc1dc67042570e": {
          "model_module": "@jupyter-widgets/base",
          "model_name": "LayoutModel",
          "model_module_version": "1.2.0",
          "state": {
            "_model_module": "@jupyter-widgets/base",
            "_model_module_version": "1.2.0",
            "_model_name": "LayoutModel",
            "_view_count": null,
            "_view_module": "@jupyter-widgets/base",
            "_view_module_version": "1.2.0",
            "_view_name": "LayoutView",
            "align_content": null,
            "align_items": null,
            "align_self": null,
            "border": null,
            "bottom": null,
            "display": null,
            "flex": null,
            "flex_flow": null,
            "grid_area": null,
            "grid_auto_columns": null,
            "grid_auto_flow": null,
            "grid_auto_rows": null,
            "grid_column": null,
            "grid_gap": null,
            "grid_row": null,
            "grid_template_areas": null,
            "grid_template_columns": null,
            "grid_template_rows": null,
            "height": null,
            "justify_content": null,
            "justify_items": null,
            "left": null,
            "margin": null,
            "max_height": null,
            "max_width": null,
            "min_height": null,
            "min_width": null,
            "object_fit": null,
            "object_position": null,
            "order": null,
            "overflow": null,
            "overflow_x": null,
            "overflow_y": null,
            "padding": null,
            "right": null,
            "top": null,
            "visibility": null,
            "width": null
          }
        },
        "d9448fe9ba7e4a03adbc54c7f127a04d": {
          "model_module": "@jupyter-widgets/controls",
          "model_name": "SliderStyleModel",
          "model_module_version": "1.5.0",
          "state": {
            "_model_module": "@jupyter-widgets/controls",
            "_model_module_version": "1.5.0",
            "_model_name": "SliderStyleModel",
            "_view_count": null,
            "_view_module": "@jupyter-widgets/base",
            "_view_module_version": "1.2.0",
            "_view_name": "StyleView",
            "description_width": "",
            "handle_color": null
          }
        },
        "d461ea7fa95e47028de4b505d29ee15a": {
          "model_module": "@jupyter-widgets/base",
          "model_name": "LayoutModel",
          "model_module_version": "1.2.0",
          "state": {
            "_model_module": "@jupyter-widgets/base",
            "_model_module_version": "1.2.0",
            "_model_name": "LayoutModel",
            "_view_count": null,
            "_view_module": "@jupyter-widgets/base",
            "_view_module_version": "1.2.0",
            "_view_name": "LayoutView",
            "align_content": null,
            "align_items": null,
            "align_self": null,
            "border": null,
            "bottom": null,
            "display": null,
            "flex": null,
            "flex_flow": null,
            "grid_area": null,
            "grid_auto_columns": null,
            "grid_auto_flow": null,
            "grid_auto_rows": null,
            "grid_column": null,
            "grid_gap": null,
            "grid_row": null,
            "grid_template_areas": null,
            "grid_template_columns": null,
            "grid_template_rows": null,
            "height": null,
            "justify_content": null,
            "justify_items": null,
            "left": null,
            "margin": null,
            "max_height": null,
            "max_width": null,
            "min_height": null,
            "min_width": null,
            "object_fit": null,
            "object_position": null,
            "order": null,
            "overflow": null,
            "overflow_x": null,
            "overflow_y": null,
            "padding": null,
            "right": null,
            "top": null,
            "visibility": null,
            "width": null
          }
        },
        "33071e104497469d9eaeda6383e8a3fb": {
          "model_module": "@jupyter-widgets/controls",
          "model_name": "VBoxModel",
          "model_module_version": "1.5.0",
          "state": {
            "_dom_classes": [
              "widget-interact"
            ],
            "_model_module": "@jupyter-widgets/controls",
            "_model_module_version": "1.5.0",
            "_model_name": "VBoxModel",
            "_view_count": null,
            "_view_module": "@jupyter-widgets/controls",
            "_view_module_version": "1.5.0",
            "_view_name": "VBoxView",
            "box_style": "",
            "children": [
              "IPY_MODEL_86b2c2570e6f4023bdd4718a73b5fb17",
              "IPY_MODEL_dd11705d7dae4c8eaf3adb8c62eb4b40",
              "IPY_MODEL_9419b4cec49b40d8865371b23d1bb027",
              "IPY_MODEL_b5888bda401a49f2973582fc9b4d14c6",
              "IPY_MODEL_c46f8be4b83b4266b7646a6ca5b4ec2e"
            ],
            "layout": "IPY_MODEL_6a71b024513f46df862d51d334aaba91"
          }
        },
        "86b2c2570e6f4023bdd4718a73b5fb17": {
          "model_module": "@jupyter-widgets/controls",
          "model_name": "FloatSliderModel",
          "model_module_version": "1.5.0",
          "state": {
            "_dom_classes": [],
            "_model_module": "@jupyter-widgets/controls",
            "_model_module_version": "1.5.0",
            "_model_name": "FloatSliderModel",
            "_view_count": null,
            "_view_module": "@jupyter-widgets/controls",
            "_view_module_version": "1.5.0",
            "_view_name": "FloatSliderView",
            "continuous_update": true,
            "description": "m1",
            "description_tooltip": null,
            "disabled": false,
            "layout": "IPY_MODEL_1a618b0f6cdf47cf9c3228cc318e2d21",
            "max": 1.5,
            "min": -4.5,
            "orientation": "horizontal",
            "readout": true,
            "readout_format": ".2f",
            "step": 0.1,
            "style": "IPY_MODEL_4749918e302c41debd2a01e3090280d3",
            "value": -1.5
          }
        },
        "dd11705d7dae4c8eaf3adb8c62eb4b40": {
          "model_module": "@jupyter-widgets/controls",
          "model_name": "FloatSliderModel",
          "model_module_version": "1.5.0",
          "state": {
            "_dom_classes": [],
            "_model_module": "@jupyter-widgets/controls",
            "_model_module_version": "1.5.0",
            "_model_name": "FloatSliderModel",
            "_view_count": null,
            "_view_module": "@jupyter-widgets/controls",
            "_view_module_version": "1.5.0",
            "_view_name": "FloatSliderView",
            "continuous_update": true,
            "description": "b1",
            "description_tooltip": null,
            "disabled": false,
            "layout": "IPY_MODEL_dd0e82b04e4343faa0e1a3d216a0b25e",
            "max": 1.5,
            "min": -4.5,
            "orientation": "horizontal",
            "readout": true,
            "readout_format": ".2f",
            "step": 0.1,
            "style": "IPY_MODEL_9951d4f593c848a5b9458faf7cb910ec",
            "value": -1.5
          }
        },
        "9419b4cec49b40d8865371b23d1bb027": {
          "model_module": "@jupyter-widgets/controls",
          "model_name": "FloatSliderModel",
          "model_module_version": "1.5.0",
          "state": {
            "_dom_classes": [],
            "_model_module": "@jupyter-widgets/controls",
            "_model_module_version": "1.5.0",
            "_model_name": "FloatSliderModel",
            "_view_count": null,
            "_view_module": "@jupyter-widgets/controls",
            "_view_module_version": "1.5.0",
            "_view_name": "FloatSliderView",
            "continuous_update": true,
            "description": "m2",
            "description_tooltip": null,
            "disabled": false,
            "layout": "IPY_MODEL_d26581181ceb44cfa925cf341dafb74d",
            "max": 4.5,
            "min": -1.5,
            "orientation": "horizontal",
            "readout": true,
            "readout_format": ".2f",
            "step": 0.1,
            "style": "IPY_MODEL_8c4ab02aeb454800869890244311d8e9",
            "value": 1.5
          }
        },
        "b5888bda401a49f2973582fc9b4d14c6": {
          "model_module": "@jupyter-widgets/controls",
          "model_name": "FloatSliderModel",
          "model_module_version": "1.5.0",
          "state": {
            "_dom_classes": [],
            "_model_module": "@jupyter-widgets/controls",
            "_model_module_version": "1.5.0",
            "_model_name": "FloatSliderModel",
            "_view_count": null,
            "_view_module": "@jupyter-widgets/controls",
            "_view_module_version": "1.5.0",
            "_view_name": "FloatSliderView",
            "continuous_update": true,
            "description": "b2",
            "description_tooltip": null,
            "disabled": false,
            "layout": "IPY_MODEL_ca69d3b3101348c1bc6e42c9657e5820",
            "max": 4.5,
            "min": -1.5,
            "orientation": "horizontal",
            "readout": true,
            "readout_format": ".2f",
            "step": 0.1,
            "style": "IPY_MODEL_e64e9dee0c5c4050a89976c8193831a4",
            "value": 1.5
          }
        },
        "c46f8be4b83b4266b7646a6ca5b4ec2e": {
          "model_module": "@jupyter-widgets/output",
          "model_name": "OutputModel",
          "model_module_version": "1.0.0",
          "state": {
            "_dom_classes": [],
            "_model_module": "@jupyter-widgets/output",
            "_model_module_version": "1.0.0",
            "_model_name": "OutputModel",
            "_view_count": null,
            "_view_module": "@jupyter-widgets/output",
            "_view_module_version": "1.0.0",
            "_view_name": "OutputView",
            "layout": "IPY_MODEL_fbe3d46453b4432380573b97605df74c",
            "msg_id": "",
            "outputs": [
              {
                "output_type": "display_data",
                "data": {
                  "text/plain": "<Figure size 540x360 with 1 Axes>",
                  "image/png": "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\n"
                },
                "metadata": {
                  "needs_background": "light"
                }
              }
            ]
          }
        },
        "6a71b024513f46df862d51d334aaba91": {
          "model_module": "@jupyter-widgets/base",
          "model_name": "LayoutModel",
          "model_module_version": "1.2.0",
          "state": {
            "_model_module": "@jupyter-widgets/base",
            "_model_module_version": "1.2.0",
            "_model_name": "LayoutModel",
            "_view_count": null,
            "_view_module": "@jupyter-widgets/base",
            "_view_module_version": "1.2.0",
            "_view_name": "LayoutView",
            "align_content": null,
            "align_items": null,
            "align_self": null,
            "border": null,
            "bottom": null,
            "display": null,
            "flex": null,
            "flex_flow": null,
            "grid_area": null,
            "grid_auto_columns": null,
            "grid_auto_flow": null,
            "grid_auto_rows": null,
            "grid_column": null,
            "grid_gap": null,
            "grid_row": null,
            "grid_template_areas": null,
            "grid_template_columns": null,
            "grid_template_rows": null,
            "height": null,
            "justify_content": null,
            "justify_items": null,
            "left": null,
            "margin": null,
            "max_height": null,
            "max_width": null,
            "min_height": null,
            "min_width": null,
            "object_fit": null,
            "object_position": null,
            "order": null,
            "overflow": null,
            "overflow_x": null,
            "overflow_y": null,
            "padding": null,
            "right": null,
            "top": null,
            "visibility": null,
            "width": null
          }
        },
        "1a618b0f6cdf47cf9c3228cc318e2d21": {
          "model_module": "@jupyter-widgets/base",
          "model_name": "LayoutModel",
          "model_module_version": "1.2.0",
          "state": {
            "_model_module": "@jupyter-widgets/base",
            "_model_module_version": "1.2.0",
            "_model_name": "LayoutModel",
            "_view_count": null,
            "_view_module": "@jupyter-widgets/base",
            "_view_module_version": "1.2.0",
            "_view_name": "LayoutView",
            "align_content": null,
            "align_items": null,
            "align_self": null,
            "border": null,
            "bottom": null,
            "display": null,
            "flex": null,
            "flex_flow": null,
            "grid_area": null,
            "grid_auto_columns": null,
            "grid_auto_flow": null,
            "grid_auto_rows": null,
            "grid_column": null,
            "grid_gap": null,
            "grid_row": null,
            "grid_template_areas": null,
            "grid_template_columns": null,
            "grid_template_rows": null,
            "height": null,
            "justify_content": null,
            "justify_items": null,
            "left": null,
            "margin": null,
            "max_height": null,
            "max_width": null,
            "min_height": null,
            "min_width": null,
            "object_fit": null,
            "object_position": null,
            "order": null,
            "overflow": null,
            "overflow_x": null,
            "overflow_y": null,
            "padding": null,
            "right": null,
            "top": null,
            "visibility": null,
            "width": null
          }
        },
        "4749918e302c41debd2a01e3090280d3": {
          "model_module": "@jupyter-widgets/controls",
          "model_name": "SliderStyleModel",
          "model_module_version": "1.5.0",
          "state": {
            "_model_module": "@jupyter-widgets/controls",
            "_model_module_version": "1.5.0",
            "_model_name": "SliderStyleModel",
            "_view_count": null,
            "_view_module": "@jupyter-widgets/base",
            "_view_module_version": "1.2.0",
            "_view_name": "StyleView",
            "description_width": "",
            "handle_color": null
          }
        },
        "dd0e82b04e4343faa0e1a3d216a0b25e": {
          "model_module": "@jupyter-widgets/base",
          "model_name": "LayoutModel",
          "model_module_version": "1.2.0",
          "state": {
            "_model_module": "@jupyter-widgets/base",
            "_model_module_version": "1.2.0",
            "_model_name": "LayoutModel",
            "_view_count": null,
            "_view_module": "@jupyter-widgets/base",
            "_view_module_version": "1.2.0",
            "_view_name": "LayoutView",
            "align_content": null,
            "align_items": null,
            "align_self": null,
            "border": null,
            "bottom": null,
            "display": null,
            "flex": null,
            "flex_flow": null,
            "grid_area": null,
            "grid_auto_columns": null,
            "grid_auto_flow": null,
            "grid_auto_rows": null,
            "grid_column": null,
            "grid_gap": null,
            "grid_row": null,
            "grid_template_areas": null,
            "grid_template_columns": null,
            "grid_template_rows": null,
            "height": null,
            "justify_content": null,
            "justify_items": null,
            "left": null,
            "margin": null,
            "max_height": null,
            "max_width": null,
            "min_height": null,
            "min_width": null,
            "object_fit": null,
            "object_position": null,
            "order": null,
            "overflow": null,
            "overflow_x": null,
            "overflow_y": null,
            "padding": null,
            "right": null,
            "top": null,
            "visibility": null,
            "width": null
          }
        },
        "9951d4f593c848a5b9458faf7cb910ec": {
          "model_module": "@jupyter-widgets/controls",
          "model_name": "SliderStyleModel",
          "model_module_version": "1.5.0",
          "state": {
            "_model_module": "@jupyter-widgets/controls",
            "_model_module_version": "1.5.0",
            "_model_name": "SliderStyleModel",
            "_view_count": null,
            "_view_module": "@jupyter-widgets/base",
            "_view_module_version": "1.2.0",
            "_view_name": "StyleView",
            "description_width": "",
            "handle_color": null
          }
        },
        "d26581181ceb44cfa925cf341dafb74d": {
          "model_module": "@jupyter-widgets/base",
          "model_name": "LayoutModel",
          "model_module_version": "1.2.0",
          "state": {
            "_model_module": "@jupyter-widgets/base",
            "_model_module_version": "1.2.0",
            "_model_name": "LayoutModel",
            "_view_count": null,
            "_view_module": "@jupyter-widgets/base",
            "_view_module_version": "1.2.0",
            "_view_name": "LayoutView",
            "align_content": null,
            "align_items": null,
            "align_self": null,
            "border": null,
            "bottom": null,
            "display": null,
            "flex": null,
            "flex_flow": null,
            "grid_area": null,
            "grid_auto_columns": null,
            "grid_auto_flow": null,
            "grid_auto_rows": null,
            "grid_column": null,
            "grid_gap": null,
            "grid_row": null,
            "grid_template_areas": null,
            "grid_template_columns": null,
            "grid_template_rows": null,
            "height": null,
            "justify_content": null,
            "justify_items": null,
            "left": null,
            "margin": null,
            "max_height": null,
            "max_width": null,
            "min_height": null,
            "min_width": null,
            "object_fit": null,
            "object_position": null,
            "order": null,
            "overflow": null,
            "overflow_x": null,
            "overflow_y": null,
            "padding": null,
            "right": null,
            "top": null,
            "visibility": null,
            "width": null
          }
        },
        "8c4ab02aeb454800869890244311d8e9": {
          "model_module": "@jupyter-widgets/controls",
          "model_name": "SliderStyleModel",
          "model_module_version": "1.5.0",
          "state": {
            "_model_module": "@jupyter-widgets/controls",
            "_model_module_version": "1.5.0",
            "_model_name": "SliderStyleModel",
            "_view_count": null,
            "_view_module": "@jupyter-widgets/base",
            "_view_module_version": "1.2.0",
            "_view_name": "StyleView",
            "description_width": "",
            "handle_color": null
          }
        },
        "ca69d3b3101348c1bc6e42c9657e5820": {
          "model_module": "@jupyter-widgets/base",
          "model_name": "LayoutModel",
          "model_module_version": "1.2.0",
          "state": {
            "_model_module": "@jupyter-widgets/base",
            "_model_module_version": "1.2.0",
            "_model_name": "LayoutModel",
            "_view_count": null,
            "_view_module": "@jupyter-widgets/base",
            "_view_module_version": "1.2.0",
            "_view_name": "LayoutView",
            "align_content": null,
            "align_items": null,
            "align_self": null,
            "border": null,
            "bottom": null,
            "display": null,
            "flex": null,
            "flex_flow": null,
            "grid_area": null,
            "grid_auto_columns": null,
            "grid_auto_flow": null,
            "grid_auto_rows": null,
            "grid_column": null,
            "grid_gap": null,
            "grid_row": null,
            "grid_template_areas": null,
            "grid_template_columns": null,
            "grid_template_rows": null,
            "height": null,
            "justify_content": null,
            "justify_items": null,
            "left": null,
            "margin": null,
            "max_height": null,
            "max_width": null,
            "min_height": null,
            "min_width": null,
            "object_fit": null,
            "object_position": null,
            "order": null,
            "overflow": null,
            "overflow_x": null,
            "overflow_y": null,
            "padding": null,
            "right": null,
            "top": null,
            "visibility": null,
            "width": null
          }
        },
        "e64e9dee0c5c4050a89976c8193831a4": {
          "model_module": "@jupyter-widgets/controls",
          "model_name": "SliderStyleModel",
          "model_module_version": "1.5.0",
          "state": {
            "_model_module": "@jupyter-widgets/controls",
            "_model_module_version": "1.5.0",
            "_model_name": "SliderStyleModel",
            "_view_count": null,
            "_view_module": "@jupyter-widgets/base",
            "_view_module_version": "1.2.0",
            "_view_name": "StyleView",
            "description_width": "",
            "handle_color": null
          }
        },
        "fbe3d46453b4432380573b97605df74c": {
          "model_module": "@jupyter-widgets/base",
          "model_name": "LayoutModel",
          "model_module_version": "1.2.0",
          "state": {
            "_model_module": "@jupyter-widgets/base",
            "_model_module_version": "1.2.0",
            "_model_name": "LayoutModel",
            "_view_count": null,
            "_view_module": "@jupyter-widgets/base",
            "_view_module_version": "1.2.0",
            "_view_name": "LayoutView",
            "align_content": null,
            "align_items": null,
            "align_self": null,
            "border": null,
            "bottom": null,
            "display": null,
            "flex": null,
            "flex_flow": null,
            "grid_area": null,
            "grid_auto_columns": null,
            "grid_auto_flow": null,
            "grid_auto_rows": null,
            "grid_column": null,
            "grid_gap": null,
            "grid_row": null,
            "grid_template_areas": null,
            "grid_template_columns": null,
            "grid_template_rows": null,
            "height": null,
            "justify_content": null,
            "justify_items": null,
            "left": null,
            "margin": null,
            "max_height": null,
            "max_width": null,
            "min_height": null,
            "min_width": null,
            "object_fit": null,
            "object_position": null,
            "order": null,
            "overflow": null,
            "overflow_x": null,
            "overflow_y": null,
            "padding": null,
            "right": null,
            "top": null,
            "visibility": null,
            "width": null
          }
        },
        "79b5b39c568a4e6e8dc065667dd73cde": {
          "model_module": "@jupyter-widgets/controls",
          "model_name": "VBoxModel",
          "model_module_version": "1.5.0",
          "state": {
            "_dom_classes": [
              "widget-interact"
            ],
            "_model_module": "@jupyter-widgets/controls",
            "_model_module_version": "1.5.0",
            "_model_name": "VBoxModel",
            "_view_count": null,
            "_view_module": "@jupyter-widgets/controls",
            "_view_module_version": "1.5.0",
            "_view_name": "VBoxView",
            "box_style": "",
            "children": [
              "IPY_MODEL_2e731ee5b04a461597a9e96170fb40c3",
              "IPY_MODEL_48eb5f4ab95f4cf3920b09cc42be1ca6",
              "IPY_MODEL_5485dbcdb332436bac79357aeaa075e0",
              "IPY_MODEL_877bd6a675c345abb52a5cf3628e130f",
              "IPY_MODEL_4a478a951fa14ad0982ea5ebf42fba57",
              "IPY_MODEL_c121152295dd44d8967b0df58d068d34",
              "IPY_MODEL_fb1f887b597348989762a95821843f59"
            ],
            "layout": "IPY_MODEL_610f0c0b9fcb44b39f2b4c844c50aa0b"
          }
        },
        "2e731ee5b04a461597a9e96170fb40c3": {
          "model_module": "@jupyter-widgets/controls",
          "model_name": "FloatSliderModel",
          "model_module_version": "1.5.0",
          "state": {
            "_dom_classes": [],
            "_model_module": "@jupyter-widgets/controls",
            "_model_module_version": "1.5.0",
            "_model_name": "FloatSliderModel",
            "_view_count": null,
            "_view_module": "@jupyter-widgets/controls",
            "_view_module_version": "1.5.0",
            "_view_name": "FloatSliderView",
            "continuous_update": true,
            "description": "m1",
            "description_tooltip": null,
            "disabled": false,
            "layout": "IPY_MODEL_b55f1f941f16492984a27c8b4ca8f141",
            "max": 1.5,
            "min": -4.5,
            "orientation": "horizontal",
            "readout": true,
            "readout_format": ".2f",
            "step": 0.1,
            "style": "IPY_MODEL_d3359792421741e7b9c242a229376016",
            "value": -1.5
          }
        },
        "48eb5f4ab95f4cf3920b09cc42be1ca6": {
          "model_module": "@jupyter-widgets/controls",
          "model_name": "FloatSliderModel",
          "model_module_version": "1.5.0",
          "state": {
            "_dom_classes": [],
            "_model_module": "@jupyter-widgets/controls",
            "_model_module_version": "1.5.0",
            "_model_name": "FloatSliderModel",
            "_view_count": null,
            "_view_module": "@jupyter-widgets/controls",
            "_view_module_version": "1.5.0",
            "_view_name": "FloatSliderView",
            "continuous_update": true,
            "description": "b1",
            "description_tooltip": null,
            "disabled": false,
            "layout": "IPY_MODEL_625b597f24a34a339dfb2a50ec413b8b",
            "max": 1.5,
            "min": -4.5,
            "orientation": "horizontal",
            "readout": true,
            "readout_format": ".2f",
            "step": 0.1,
            "style": "IPY_MODEL_4e1bada702f8458bb9d132418cce3d4c",
            "value": -1.5
          }
        },
        "5485dbcdb332436bac79357aeaa075e0": {
          "model_module": "@jupyter-widgets/controls",
          "model_name": "FloatSliderModel",
          "model_module_version": "1.5.0",
          "state": {
            "_dom_classes": [],
            "_model_module": "@jupyter-widgets/controls",
            "_model_module_version": "1.5.0",
            "_model_name": "FloatSliderModel",
            "_view_count": null,
            "_view_module": "@jupyter-widgets/controls",
            "_view_module_version": "1.5.0",
            "_view_name": "FloatSliderView",
            "continuous_update": true,
            "description": "m2",
            "description_tooltip": null,
            "disabled": false,
            "layout": "IPY_MODEL_64c60ab6b8114b8c814c037abff797f3",
            "max": 4.5,
            "min": -1.5,
            "orientation": "horizontal",
            "readout": true,
            "readout_format": ".2f",
            "step": 0.1,
            "style": "IPY_MODEL_58229d0fefb74ff48a6135cd8661599b",
            "value": 1.5
          }
        },
        "877bd6a675c345abb52a5cf3628e130f": {
          "model_module": "@jupyter-widgets/controls",
          "model_name": "FloatSliderModel",
          "model_module_version": "1.5.0",
          "state": {
            "_dom_classes": [],
            "_model_module": "@jupyter-widgets/controls",
            "_model_module_version": "1.5.0",
            "_model_name": "FloatSliderModel",
            "_view_count": null,
            "_view_module": "@jupyter-widgets/controls",
            "_view_module_version": "1.5.0",
            "_view_name": "FloatSliderView",
            "continuous_update": true,
            "description": "b2",
            "description_tooltip": null,
            "disabled": false,
            "layout": "IPY_MODEL_b657e39e6e6c4a63891f50c23a24669b",
            "max": 4.5,
            "min": -1.5,
            "orientation": "horizontal",
            "readout": true,
            "readout_format": ".2f",
            "step": 0.1,
            "style": "IPY_MODEL_327531278c5c4286add299411c9bc33d",
            "value": 1.5
          }
        },
        "4a478a951fa14ad0982ea5ebf42fba57": {
          "model_module": "@jupyter-widgets/controls",
          "model_name": "IntSliderModel",
          "model_module_version": "1.5.0",
          "state": {
            "_dom_classes": [],
            "_model_module": "@jupyter-widgets/controls",
            "_model_module_version": "1.5.0",
            "_model_name": "IntSliderModel",
            "_view_count": null,
            "_view_module": "@jupyter-widgets/controls",
            "_view_module_version": "1.5.0",
            "_view_name": "IntSliderView",
            "continuous_update": true,
            "description": "m3",
            "description_tooltip": null,
            "disabled": false,
            "layout": "IPY_MODEL_32ff9d7375c84cafb6f9f67766f4edd7",
            "max": 2,
            "min": -6,
            "orientation": "horizontal",
            "readout": true,
            "readout_format": "d",
            "step": 1,
            "style": "IPY_MODEL_ea6a7c520fa94b0887b075de1cad6628",
            "value": -2
          }
        },
        "c121152295dd44d8967b0df58d068d34": {
          "model_module": "@jupyter-widgets/controls",
          "model_name": "IntSliderModel",
          "model_module_version": "1.5.0",
          "state": {
            "_dom_classes": [],
            "_model_module": "@jupyter-widgets/controls",
            "_model_module_version": "1.5.0",
            "_model_name": "IntSliderModel",
            "_view_count": null,
            "_view_module": "@jupyter-widgets/controls",
            "_view_module_version": "1.5.0",
            "_view_name": "IntSliderView",
            "continuous_update": true,
            "description": "b3",
            "description_tooltip": null,
            "disabled": false,
            "layout": "IPY_MODEL_8d99674ef8044b53b5464ee68d4438e7",
            "max": 2,
            "min": -6,
            "orientation": "horizontal",
            "readout": true,
            "readout_format": "d",
            "step": 1,
            "style": "IPY_MODEL_d0fa9aa6c93d4563bc8f311e3777a3b3",
            "value": -2
          }
        },
        "fb1f887b597348989762a95821843f59": {
          "model_module": "@jupyter-widgets/output",
          "model_name": "OutputModel",
          "model_module_version": "1.0.0",
          "state": {
            "_dom_classes": [],
            "_model_module": "@jupyter-widgets/output",
            "_model_module_version": "1.0.0",
            "_model_name": "OutputModel",
            "_view_count": null,
            "_view_module": "@jupyter-widgets/output",
            "_view_module_version": "1.0.0",
            "_view_name": "OutputView",
            "layout": "IPY_MODEL_e4207a9e180646dbae25063e034fbb89",
            "msg_id": "",
            "outputs": [
              {
                "output_type": "display_data",
                "data": {
                  "text/plain": "<Figure size 540x360 with 1 Axes>",
                  "image/png": "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\n"
                },
                "metadata": {
                  "needs_background": "light"
                }
              }
            ]
          }
        },
        "610f0c0b9fcb44b39f2b4c844c50aa0b": {
          "model_module": "@jupyter-widgets/base",
          "model_name": "LayoutModel",
          "model_module_version": "1.2.0",
          "state": {
            "_model_module": "@jupyter-widgets/base",
            "_model_module_version": "1.2.0",
            "_model_name": "LayoutModel",
            "_view_count": null,
            "_view_module": "@jupyter-widgets/base",
            "_view_module_version": "1.2.0",
            "_view_name": "LayoutView",
            "align_content": null,
            "align_items": null,
            "align_self": null,
            "border": null,
            "bottom": null,
            "display": null,
            "flex": null,
            "flex_flow": null,
            "grid_area": null,
            "grid_auto_columns": null,
            "grid_auto_flow": null,
            "grid_auto_rows": null,
            "grid_column": null,
            "grid_gap": null,
            "grid_row": null,
            "grid_template_areas": null,
            "grid_template_columns": null,
            "grid_template_rows": null,
            "height": null,
            "justify_content": null,
            "justify_items": null,
            "left": null,
            "margin": null,
            "max_height": null,
            "max_width": null,
            "min_height": null,
            "min_width": null,
            "object_fit": null,
            "object_position": null,
            "order": null,
            "overflow": null,
            "overflow_x": null,
            "overflow_y": null,
            "padding": null,
            "right": null,
            "top": null,
            "visibility": null,
            "width": null
          }
        },
        "b55f1f941f16492984a27c8b4ca8f141": {
          "model_module": "@jupyter-widgets/base",
          "model_name": "LayoutModel",
          "model_module_version": "1.2.0",
          "state": {
            "_model_module": "@jupyter-widgets/base",
            "_model_module_version": "1.2.0",
            "_model_name": "LayoutModel",
            "_view_count": null,
            "_view_module": "@jupyter-widgets/base",
            "_view_module_version": "1.2.0",
            "_view_name": "LayoutView",
            "align_content": null,
            "align_items": null,
            "align_self": null,
            "border": null,
            "bottom": null,
            "display": null,
            "flex": null,
            "flex_flow": null,
            "grid_area": null,
            "grid_auto_columns": null,
            "grid_auto_flow": null,
            "grid_auto_rows": null,
            "grid_column": null,
            "grid_gap": null,
            "grid_row": null,
            "grid_template_areas": null,
            "grid_template_columns": null,
            "grid_template_rows": null,
            "height": null,
            "justify_content": null,
            "justify_items": null,
            "left": null,
            "margin": null,
            "max_height": null,
            "max_width": null,
            "min_height": null,
            "min_width": null,
            "object_fit": null,
            "object_position": null,
            "order": null,
            "overflow": null,
            "overflow_x": null,
            "overflow_y": null,
            "padding": null,
            "right": null,
            "top": null,
            "visibility": null,
            "width": null
          }
        },
        "d3359792421741e7b9c242a229376016": {
          "model_module": "@jupyter-widgets/controls",
          "model_name": "SliderStyleModel",
          "model_module_version": "1.5.0",
          "state": {
            "_model_module": "@jupyter-widgets/controls",
            "_model_module_version": "1.5.0",
            "_model_name": "SliderStyleModel",
            "_view_count": null,
            "_view_module": "@jupyter-widgets/base",
            "_view_module_version": "1.2.0",
            "_view_name": "StyleView",
            "description_width": "",
            "handle_color": null
          }
        },
        "625b597f24a34a339dfb2a50ec413b8b": {
          "model_module": "@jupyter-widgets/base",
          "model_name": "LayoutModel",
          "model_module_version": "1.2.0",
          "state": {
            "_model_module": "@jupyter-widgets/base",
            "_model_module_version": "1.2.0",
            "_model_name": "LayoutModel",
            "_view_count": null,
            "_view_module": "@jupyter-widgets/base",
            "_view_module_version": "1.2.0",
            "_view_name": "LayoutView",
            "align_content": null,
            "align_items": null,
            "align_self": null,
            "border": null,
            "bottom": null,
            "display": null,
            "flex": null,
            "flex_flow": null,
            "grid_area": null,
            "grid_auto_columns": null,
            "grid_auto_flow": null,
            "grid_auto_rows": null,
            "grid_column": null,
            "grid_gap": null,
            "grid_row": null,
            "grid_template_areas": null,
            "grid_template_columns": null,
            "grid_template_rows": null,
            "height": null,
            "justify_content": null,
            "justify_items": null,
            "left": null,
            "margin": null,
            "max_height": null,
            "max_width": null,
            "min_height": null,
            "min_width": null,
            "object_fit": null,
            "object_position": null,
            "order": null,
            "overflow": null,
            "overflow_x": null,
            "overflow_y": null,
            "padding": null,
            "right": null,
            "top": null,
            "visibility": null,
            "width": null
          }
        },
        "4e1bada702f8458bb9d132418cce3d4c": {
          "model_module": "@jupyter-widgets/controls",
          "model_name": "SliderStyleModel",
          "model_module_version": "1.5.0",
          "state": {
            "_model_module": "@jupyter-widgets/controls",
            "_model_module_version": "1.5.0",
            "_model_name": "SliderStyleModel",
            "_view_count": null,
            "_view_module": "@jupyter-widgets/base",
            "_view_module_version": "1.2.0",
            "_view_name": "StyleView",
            "description_width": "",
            "handle_color": null
          }
        },
        "64c60ab6b8114b8c814c037abff797f3": {
          "model_module": "@jupyter-widgets/base",
          "model_name": "LayoutModel",
          "model_module_version": "1.2.0",
          "state": {
            "_model_module": "@jupyter-widgets/base",
            "_model_module_version": "1.2.0",
            "_model_name": "LayoutModel",
            "_view_count": null,
            "_view_module": "@jupyter-widgets/base",
            "_view_module_version": "1.2.0",
            "_view_name": "LayoutView",
            "align_content": null,
            "align_items": null,
            "align_self": null,
            "border": null,
            "bottom": null,
            "display": null,
            "flex": null,
            "flex_flow": null,
            "grid_area": null,
            "grid_auto_columns": null,
            "grid_auto_flow": null,
            "grid_auto_rows": null,
            "grid_column": null,
            "grid_gap": null,
            "grid_row": null,
            "grid_template_areas": null,
            "grid_template_columns": null,
            "grid_template_rows": null,
            "height": null,
            "justify_content": null,
            "justify_items": null,
            "left": null,
            "margin": null,
            "max_height": null,
            "max_width": null,
            "min_height": null,
            "min_width": null,
            "object_fit": null,
            "object_position": null,
            "order": null,
            "overflow": null,
            "overflow_x": null,
            "overflow_y": null,
            "padding": null,
            "right": null,
            "top": null,
            "visibility": null,
            "width": null
          }
        },
        "58229d0fefb74ff48a6135cd8661599b": {
          "model_module": "@jupyter-widgets/controls",
          "model_name": "SliderStyleModel",
          "model_module_version": "1.5.0",
          "state": {
            "_model_module": "@jupyter-widgets/controls",
            "_model_module_version": "1.5.0",
            "_model_name": "SliderStyleModel",
            "_view_count": null,
            "_view_module": "@jupyter-widgets/base",
            "_view_module_version": "1.2.0",
            "_view_name": "StyleView",
            "description_width": "",
            "handle_color": null
          }
        },
        "b657e39e6e6c4a63891f50c23a24669b": {
          "model_module": "@jupyter-widgets/base",
          "model_name": "LayoutModel",
          "model_module_version": "1.2.0",
          "state": {
            "_model_module": "@jupyter-widgets/base",
            "_model_module_version": "1.2.0",
            "_model_name": "LayoutModel",
            "_view_count": null,
            "_view_module": "@jupyter-widgets/base",
            "_view_module_version": "1.2.0",
            "_view_name": "LayoutView",
            "align_content": null,
            "align_items": null,
            "align_self": null,
            "border": null,
            "bottom": null,
            "display": null,
            "flex": null,
            "flex_flow": null,
            "grid_area": null,
            "grid_auto_columns": null,
            "grid_auto_flow": null,
            "grid_auto_rows": null,
            "grid_column": null,
            "grid_gap": null,
            "grid_row": null,
            "grid_template_areas": null,
            "grid_template_columns": null,
            "grid_template_rows": null,
            "height": null,
            "justify_content": null,
            "justify_items": null,
            "left": null,
            "margin": null,
            "max_height": null,
            "max_width": null,
            "min_height": null,
            "min_width": null,
            "object_fit": null,
            "object_position": null,
            "order": null,
            "overflow": null,
            "overflow_x": null,
            "overflow_y": null,
            "padding": null,
            "right": null,
            "top": null,
            "visibility": null,
            "width": null
          }
        },
        "327531278c5c4286add299411c9bc33d": {
          "model_module": "@jupyter-widgets/controls",
          "model_name": "SliderStyleModel",
          "model_module_version": "1.5.0",
          "state": {
            "_model_module": "@jupyter-widgets/controls",
            "_model_module_version": "1.5.0",
            "_model_name": "SliderStyleModel",
            "_view_count": null,
            "_view_module": "@jupyter-widgets/base",
            "_view_module_version": "1.2.0",
            "_view_name": "StyleView",
            "description_width": "",
            "handle_color": null
          }
        },
        "32ff9d7375c84cafb6f9f67766f4edd7": {
          "model_module": "@jupyter-widgets/base",
          "model_name": "LayoutModel",
          "model_module_version": "1.2.0",
          "state": {
            "_model_module": "@jupyter-widgets/base",
            "_model_module_version": "1.2.0",
            "_model_name": "LayoutModel",
            "_view_count": null,
            "_view_module": "@jupyter-widgets/base",
            "_view_module_version": "1.2.0",
            "_view_name": "LayoutView",
            "align_content": null,
            "align_items": null,
            "align_self": null,
            "border": null,
            "bottom": null,
            "display": null,
            "flex": null,
            "flex_flow": null,
            "grid_area": null,
            "grid_auto_columns": null,
            "grid_auto_flow": null,
            "grid_auto_rows": null,
            "grid_column": null,
            "grid_gap": null,
            "grid_row": null,
            "grid_template_areas": null,
            "grid_template_columns": null,
            "grid_template_rows": null,
            "height": null,
            "justify_content": null,
            "justify_items": null,
            "left": null,
            "margin": null,
            "max_height": null,
            "max_width": null,
            "min_height": null,
            "min_width": null,
            "object_fit": null,
            "object_position": null,
            "order": null,
            "overflow": null,
            "overflow_x": null,
            "overflow_y": null,
            "padding": null,
            "right": null,
            "top": null,
            "visibility": null,
            "width": null
          }
        },
        "ea6a7c520fa94b0887b075de1cad6628": {
          "model_module": "@jupyter-widgets/controls",
          "model_name": "SliderStyleModel",
          "model_module_version": "1.5.0",
          "state": {
            "_model_module": "@jupyter-widgets/controls",
            "_model_module_version": "1.5.0",
            "_model_name": "SliderStyleModel",
            "_view_count": null,
            "_view_module": "@jupyter-widgets/base",
            "_view_module_version": "1.2.0",
            "_view_name": "StyleView",
            "description_width": "",
            "handle_color": null
          }
        },
        "8d99674ef8044b53b5464ee68d4438e7": {
          "model_module": "@jupyter-widgets/base",
          "model_name": "LayoutModel",
          "model_module_version": "1.2.0",
          "state": {
            "_model_module": "@jupyter-widgets/base",
            "_model_module_version": "1.2.0",
            "_model_name": "LayoutModel",
            "_view_count": null,
            "_view_module": "@jupyter-widgets/base",
            "_view_module_version": "1.2.0",
            "_view_name": "LayoutView",
            "align_content": null,
            "align_items": null,
            "align_self": null,
            "border": null,
            "bottom": null,
            "display": null,
            "flex": null,
            "flex_flow": null,
            "grid_area": null,
            "grid_auto_columns": null,
            "grid_auto_flow": null,
            "grid_auto_rows": null,
            "grid_column": null,
            "grid_gap": null,
            "grid_row": null,
            "grid_template_areas": null,
            "grid_template_columns": null,
            "grid_template_rows": null,
            "height": null,
            "justify_content": null,
            "justify_items": null,
            "left": null,
            "margin": null,
            "max_height": null,
            "max_width": null,
            "min_height": null,
            "min_width": null,
            "object_fit": null,
            "object_position": null,
            "order": null,
            "overflow": null,
            "overflow_x": null,
            "overflow_y": null,
            "padding": null,
            "right": null,
            "top": null,
            "visibility": null,
            "width": null
          }
        },
        "d0fa9aa6c93d4563bc8f311e3777a3b3": {
          "model_module": "@jupyter-widgets/controls",
          "model_name": "SliderStyleModel",
          "model_module_version": "1.5.0",
          "state": {
            "_model_module": "@jupyter-widgets/controls",
            "_model_module_version": "1.5.0",
            "_model_name": "SliderStyleModel",
            "_view_count": null,
            "_view_module": "@jupyter-widgets/base",
            "_view_module_version": "1.2.0",
            "_view_name": "StyleView",
            "description_width": "",
            "handle_color": null
          }
        },
        "e4207a9e180646dbae25063e034fbb89": {
          "model_module": "@jupyter-widgets/base",
          "model_name": "LayoutModel",
          "model_module_version": "1.2.0",
          "state": {
            "_model_module": "@jupyter-widgets/base",
            "_model_module_version": "1.2.0",
            "_model_name": "LayoutModel",
            "_view_count": null,
            "_view_module": "@jupyter-widgets/base",
            "_view_module_version": "1.2.0",
            "_view_name": "LayoutView",
            "align_content": null,
            "align_items": null,
            "align_self": null,
            "border": null,
            "bottom": null,
            "display": null,
            "flex": null,
            "flex_flow": null,
            "grid_area": null,
            "grid_auto_columns": null,
            "grid_auto_flow": null,
            "grid_auto_rows": null,
            "grid_column": null,
            "grid_gap": null,
            "grid_row": null,
            "grid_template_areas": null,
            "grid_template_columns": null,
            "grid_template_rows": null,
            "height": null,
            "justify_content": null,
            "justify_items": null,
            "left": null,
            "margin": null,
            "max_height": null,
            "max_width": null,
            "min_height": null,
            "min_width": null,
            "object_fit": null,
            "object_position": null,
            "order": null,
            "overflow": null,
            "overflow_x": null,
            "overflow_y": null,
            "padding": null,
            "right": null,
            "top": null,
            "visibility": null,
            "width": null
          }
        }
      }
    }
  },
  "nbformat_minor": 0,
  "nbformat": 4,
  "cells": [
    {
      "cell_type": "markdown",
      "source": [
        "**Important**: The interactive features of this notebook don't work in Kaggle's *Reader* mode. They only work in *Edit* mode. Therefore, before starting reading this, please click \"**Copy & Edit**\" in the top right of this window, then in the menu click *Run* and then *Run all*. Then you'll be able to use all the interactive sliders in this notebook."
      ],
      "metadata": {
        "id": "oYJa2q-eui7H"
      }
    },
    {
      "cell_type": "markdown",
      "source": [
        "## Fitting a function with *gradient descent*"
      ],
      "metadata": {
        "id": "xjHHbK87ui7J"
      }
    },
    {
      "cell_type": "markdown",
      "source": [
        "A neural network is just a mathematical function. In the most standard kind of neural network, the function:\n",
        "\n",
        "1. Multiplies each input by a number of values. These values are known as *parameters*\n",
        "1. Adds them up for each group of values\n",
        "1. Replaces the negative numbers with zeros\n",
        "\n",
        "This represents one \"layer\". Then these three steps are repeated, using the outputs of the previous layer as the inputs to the next layer. Initially, the parameters in this function are selected randomly. Therefore a newly created neural network doesn't do anything useful at all -- it's just random!\n",
        "\n",
        "To get the function to \"learn\" to do something useful, we have to change the parameters to make them \"better\" in some way. We do this using *gradient descent*. Let's see how this works..."
      ],
      "metadata": {
        "id": "xLBpB_P0ui7J"
      }
    },
    {
      "cell_type": "code",
      "source": [
        "from ipywidgets import interact\n",
        "from fastai.basics import *\n",
        "\n",
        "plt.rc('figure', dpi=90)\n",
        "\n",
        "def plot_function(f, title=None, min=-2.1, max=2.1, color='r', ylim=None):\n",
        "    x = torch.linspace(min,max, 100)[:,None]\n",
        "    if ylim: plt.ylim(ylim)\n",
        "    plt.plot(x, f(x), color)\n",
        "    if title is not None: plt.title(title)"
      ],
      "metadata": {
        "_kg_hide-input": true,
        "execution": {
          "iopub.status.busy": "2022-04-23T08:54:34.585263Z",
          "iopub.execute_input": "2022-04-23T08:54:34.587766Z",
          "iopub.status.idle": "2022-04-23T08:54:36.961606Z",
          "shell.execute_reply.started": "2022-04-23T08:54:34.587646Z",
          "shell.execute_reply": "2022-04-23T08:54:36.960846Z"
        },
        "trusted": true,
        "id": "UOrwQ2MPui7K"
      },
      "execution_count": 1,
      "outputs": []
    },
    {
      "cell_type": "markdown",
      "source": [
        "To learn how gradient descent works, we're going to start by fitting a quadratic, since that's a function most of us are probably more familiar with than a neural network. Here's the quadratic we're going to try to fit:"
      ],
      "metadata": {
        "id": "mhDmwcamui7M"
      }
    },
    {
      "cell_type": "code",
      "source": [
        "def f(x): return 3*x**2 + 2*x + 1\n",
        "\n",
        "plot_function(f, \"$3x^2 + 2x + 1$\")"
      ],
      "metadata": {
        "execution": {
          "iopub.status.busy": "2022-04-23T08:54:36.963135Z",
          "iopub.execute_input": "2022-04-23T08:54:36.96361Z",
          "iopub.status.idle": "2022-04-23T08:54:37.603953Z",
          "shell.execute_reply.started": "2022-04-23T08:54:36.963574Z",
          "shell.execute_reply": "2022-04-23T08:54:37.60309Z"
        },
        "trusted": true,
        "colab": {
          "base_uri": "https://localhost:8080/",
          "height": 351
        },
        "id": "FFMqDQ6wui7M",
        "outputId": "02a97c90-a3d3-46b6-cad5-59587acf2269"
      },
      "execution_count": 2,
      "outputs": [
        {
          "output_type": "display_data",
          "data": {
            "text/plain": [
              "<Figure size 540x360 with 1 Axes>"
            ],
            "image/png": "[encoded data removed]"
          },
          "metadata": {
            "needs_background": "light"
          }
        }
      ]
    },
    {
      "cell_type": "markdown",
      "source": [
        "This quadratic is of the form $ax^2+bx+c$, with parameters $a=3$, $b=2$, $c=1$. To make it easier to try out different quadratics for fitting a model to the data we'll create, let's create a function that calculates the value of a point on any quadratic:"
      ],
      "metadata": {
        "id": "HxNtxfXNui7N"
      }
    },
    {
      "cell_type": "code",
      "source": [
        "def quad(a, b, c, x): return a*x**2 + b*x + c"
      ],
      "metadata": {
        "execution": {
          "iopub.status.busy": "2022-04-23T08:54:37.605073Z",
          "iopub.execute_input": "2022-04-23T08:54:37.605295Z",
          "iopub.status.idle": "2022-04-23T08:54:37.610024Z",
          "shell.execute_reply.started": "2022-04-23T08:54:37.605268Z",
          "shell.execute_reply": "2022-04-23T08:54:37.609103Z"
        },
        "trusted": true,
        "id": "1LpHu3RIui7O"
      },
      "execution_count": 3,
      "outputs": []
    },
    {
      "cell_type": "markdown",
      "source": [
        "If we fix some particular values of a, b, and c, then we'll have made a quadratic. To fix values passed to a function in python, we use the `partial` function, like so:"
      ],
      "metadata": {
        "id": "ePO82Smlui7O"
      }
    },
    {
      "cell_type": "code",
      "source": [
        "def mk_quad(a,b,c): return partial(quad, a,b,c)"
      ],
      "metadata": {
        "execution": {
          "iopub.status.busy": "2022-04-23T08:54:37.611932Z",
          "iopub.execute_input": "2022-04-23T08:54:37.612415Z",
          "iopub.status.idle": "2022-04-23T08:54:37.622926Z",
          "shell.execute_reply.started": "2022-04-23T08:54:37.612377Z",
          "shell.execute_reply": "2022-04-23T08:54:37.622077Z"
        },
        "trusted": true,
        "id": "_5ZORb5bui7P"
      },
      "execution_count": 4,
      "outputs": []
    },
    {
      "cell_type": "markdown",
      "source": [
        "So for instance, we can recreate our previous quadratic:"
      ],
      "metadata": {
        "id": "Qw-HtQGZui7Q"
      }
    },
    {
      "cell_type": "code",
      "source": [
        "f2 = mk_quad(3,2,1)\n",
        "plot_function(f2)"
      ],
      "metadata": {
        "execution": {
          "iopub.status.busy": "2022-04-23T08:54:37.624649Z",
          "iopub.execute_input": "2022-04-23T08:54:37.625357Z",
          "iopub.status.idle": "2022-04-23T08:54:37.829696Z",
          "shell.execute_reply.started": "2022-04-23T08:54:37.62531Z",
          "shell.execute_reply": "2022-04-23T08:54:37.828997Z"
        },
        "trusted": true,
        "colab": {
          "base_uri": "https://localhost:8080/",
          "height": 328
        },
        "id": "A8fz9HQZui7Q",
        "outputId": "602f5807-476e-422f-c200-2211ee570cad"
      },
      "execution_count": 5,
      "outputs": [
        {
          "output_type": "display_data",
          "data": {
            "text/plain": [
              "<Figure size 540x360 with 1 Axes>"
            ],
            "image/png": "[encoded data removed]"
          },
          "metadata": {
            "needs_background": "light"
          }
        }
      ]
    },
    {
      "cell_type": "markdown",
      "source": [
        "Now let's simulate making some noisy measurements of our quadratic `f`. We'll then use gradient descent to see if we can recreate the original function from the data.\n",
        "\n",
        "Here's a couple of functions to add some random noise to data:"
      ],
      "metadata": {
        "id": "Ds14vYyBui7R"
      }
    },
    {
      "cell_type": "code",
      "source": [
        "def noise(x, scale): return np.random.normal(scale=scale, size=x.shape)\n",
        "def add_noise(x, mult, add): return x * (1+noise(x,mult)) + noise(x,add)"
      ],
      "metadata": {
        "execution": {
          "iopub.status.busy": "2022-04-23T08:54:37.831069Z",
          "iopub.execute_input": "2022-04-23T08:54:37.831627Z",
          "iopub.status.idle": "2022-04-23T08:54:37.838391Z",
          "shell.execute_reply.started": "2022-04-23T08:54:37.831581Z",
          "shell.execute_reply": "2022-04-23T08:54:37.837454Z"
        },
        "trusted": true,
        "id": "F-8alfHiui7R"
      },
      "execution_count": 6,
      "outputs": []
    },
    {
      "cell_type": "markdown",
      "source": [
        "Let's use the now to create our noisy measurements based on the quadratic above:"
      ],
      "metadata": {
        "id": "q1gsr_kJui7S"
      }
    },
    {
      "cell_type": "code",
      "source": [
        "np.random.seed(42)\n",
        "\n",
        "x = torch.linspace(-2, 2, steps=20)[:,None]\n",
        "y = add_noise(f(x), 0.15, 1.5)"
      ],
      "metadata": {
        "execution": {
          "iopub.status.busy": "2022-04-23T08:54:37.839727Z",
          "iopub.execute_input": "2022-04-23T08:54:37.83997Z",
          "iopub.status.idle": "2022-04-23T08:54:37.86166Z",
          "shell.execute_reply.started": "2022-04-23T08:54:37.839939Z",
          "shell.execute_reply": "2022-04-23T08:54:37.861067Z"
        },
        "trusted": true,
        "id": "WTxQzlrLui7S"
      },
      "execution_count": 7,
      "outputs": []
    },
    {
      "cell_type": "markdown",
      "source": [
        "Here's the first few values of each of `x` and `y`:"
      ],
      "metadata": {
        "id": "oDgsLRgnui7T"
      }
    },
    {
      "cell_type": "code",
      "source": [
        "x[:5],y[:5]"
      ],
      "metadata": {
        "execution": {
          "iopub.status.busy": "2022-04-23T08:54:37.862576Z",
          "iopub.execute_input": "2022-04-23T08:54:37.863311Z",
          "iopub.status.idle": "2022-04-23T08:54:37.901746Z",
          "shell.execute_reply.started": "2022-04-23T08:54:37.863275Z",
          "shell.execute_reply": "2022-04-23T08:54:37.9009Z"
        },
        "trusted": true,
        "colab": {
          "base_uri": "https://localhost:8080/"
        },
        "id": "iwSYHS1Kui7T",
        "outputId": "4f7135d5-6a9a-41a8-eec6-df6c6196f2fe"
      },
      "execution_count": 8,
      "outputs": [
        {
          "output_type": "execute_result",
          "data": {
            "text/plain": [
              "(tensor([[-2.0000],\n",
              "         [-1.7895],\n",
              "         [-1.5789],\n",
              "         [-1.3684],\n",
              "         [-1.1579]]), tensor([[11.8690],\n",
              "         [ 6.5433],\n",
              "         [ 5.9396],\n",
              "         [ 2.6304],\n",
              "         [ 1.7947]], dtype=torch.float64))"
            ]
          },
          "metadata": {},
          "execution_count": 8
        }
      ]
    },
    {
      "cell_type": "markdown",
      "source": [
        "As you can see, they're *tensors*. A tensor is just like an `array` in numpy (if you're not familiar with numpy, I strongly recommend reading [this great book](https://wesmckinney.com/book/), because it's a critical foundation for nearly all numeric programming in Python. Furthermore, PyTorch, which most researchers use for deep learning, is modeled closely on numpy.) A tensor can be a single number (a *scalar* or *rank-0 tensor*), a list of numbers (a *vector* or *rank-1 tensor*), a table of numbers (a *matrix* or *rank-0 tensor*), a table of tables of numbers (a *rank-3 tensor*), and so forth.\n",
        "\n",
        "We're not going to learn much about our data by just looking at the raw numbers, so let's draw a picture:"
      ],
      "metadata": {
        "id": "uzi6S9I-ui7U"
      }
    },
    {
      "cell_type": "code",
      "source": [
        "plt.scatter(x,y);"
      ],
      "metadata": {
        "execution": {
          "iopub.status.busy": "2022-04-23T08:54:37.903248Z",
          "iopub.execute_input": "2022-04-23T08:54:37.903736Z",
          "iopub.status.idle": "2022-04-23T08:54:38.141765Z",
          "shell.execute_reply.started": "2022-04-23T08:54:37.903689Z",
          "shell.execute_reply": "2022-04-23T08:54:38.140818Z"
        },
        "trusted": true,
        "colab": {
          "base_uri": "https://localhost:8080/",
          "height": 328
        },
        "id": "KjfqekERui7U",
        "outputId": "e1c81de2-d4dd-40ec-cec8-d0929f1d1e60"
      },
      "execution_count": 9,
      "outputs": [
        {
          "output_type": "display_data",
          "data": {
            "text/plain": [
              "<Figure size 540x360 with 1 Axes>"
            ],
            "image/png": "[encoded data removed]"
          },
          "metadata": {
            "needs_background": "light"
          }
        }
      ]
    },
    {
      "cell_type": "markdown",
      "source": [
        "How do we find values of a, b, and c which fit this data? One approach is to try a few values and see what fits. Here's a function which overlays a quadratic on top of our data, along with some sliders to change a, b, and c, and see how it looks:"
      ],
      "metadata": {
        "id": "tMtTOXdsui7V"
      }
    },
    {
      "cell_type": "code",
      "source": [
        "@interact(a=1.1, b=1.1, c=1.1)\n",
        "def plot_quad(a, b, c):\n",
        "    plt.scatter(x,y)\n",
        "    plot_function(mk_quad(a,b,c), ylim=(-3,13))"
      ],
      "metadata": {
        "execution": {
          "iopub.status.busy": "2022-04-23T08:54:38.143544Z",
          "iopub.execute_input": "2022-04-23T08:54:38.143753Z",
          "iopub.status.idle": "2022-04-23T08:54:38.372553Z",
          "shell.execute_reply.started": "2022-04-23T08:54:38.143725Z",
          "shell.execute_reply": "2022-04-23T08:54:38.37172Z"
        },
        "trusted": true,
        "colab": {
          "base_uri": "https://localhost:8080/",
          "height": 424,
          "referenced_widgets": [
            "58a8894eaf4749749cf4af8ac579db6c",
            "556e367ff350483e9b174fbbd917e6dd",
            "6e7b58d4897a427ebc6365f19936dbf6",
            "477ca4c5c75243f0966979eed1347158",
            "1507c8a5054746b091feb082bb43fbfc",
            "12582c26e7de4e4ba8299c52a5e21382",
            "2332283db1234c2d8bbdce351a646f08",
            "cb7278f70515452fbb9213a367e91f46",
            "e5949c73fa5d4141ba2784c54dc31d0d",
            "50d8b8c1b4c24c44b5957a3ab1c6ccea",
            "8aba5c6b155a472f89af5b49fcb83c68",
            "9c9544172a8447a0928d0aee1149793b",
            "c77b72bc1c3f449098c3c4ffc3ac819c"
          ]
        },
        "id": "GoZCQJ6Dui7V",
        "outputId": "42e9e577-0db8-4e95-e77f-63f4f07c4580"
      },
      "execution_count": 10,
      "outputs": [
        {
          "output_type": "display_data",
          "data": {
            "text/plain": [
              "interactive(children=(FloatSlider(value=1.1, description='a', max=3.3000000000000003, min=-1.1), FloatSlider(v…"
            ],
            "application/vnd.jupyter.widget-view+json": {
              "version_major": 2,
              "version_minor": 0,
              "model_id": "58a8894eaf4749749cf4af8ac579db6c"
            }
          },
          "metadata": {}
        }
      ]
    },
    {
      "cell_type": "markdown",
      "source": [
        "**Reminder**: If the sliders above aren't working for you, that's because the interactive features of this notebook don't work in Kaggle's *Reader* mode. They only work in *Edit* mode. Please click \"**Copy & Edit**\" in the top right of this window, then in the menu click *Run* and then *Run all*. Then you'll be able to use all the interactive sliders in this notebook."
      ],
      "metadata": {
        "id": "htt6zJ36ui7W"
      }
    },
    {
      "cell_type": "markdown",
      "source": [
        "Try moving slider `a` a bit to the left. Does that look better or worse? How about if you move it a bit to the right? Find out which direction seems to improve the fit of the quadratic to the data, and move the slider a bit in that direction. Next, do the same for slider `b`: first figure out which direction improves the fit, then move it a bit in that direction. Then do the same for `c`.\n",
        "\n",
        "OK, now go back to slider `a` and repeat the process. Do it again for `b` and `c` as well.\n",
        "\n",
        "Did you notice that by going back and doing the sliders a second time that you were able to improve things a bit further? That's an important insight -- it's only after changing `b` and `c`, for instance, that you realise that `a` actually needs some adjustment based on those new values.\n",
        "\n",
        "One thing that's making this tricky is that we don't really have a great sense of whether our fit is really better or worse. It would be easier if we had a numeric measure of that. On easy metric we could use is *mean absolute error* -- which is the distance from each data point to the curve:"
      ],
      "metadata": {
        "id": "DPThrVHiui7W"
      }
    },
    {
      "cell_type": "code",
      "source": [
        "def mae(preds, acts): return (torch.abs(preds-acts)).mean()"
      ],
      "metadata": {
        "execution": {
          "iopub.status.busy": "2022-04-23T08:55:06.428918Z",
          "iopub.execute_input": "2022-04-23T08:55:06.429237Z",
          "iopub.status.idle": "2022-04-23T08:55:06.433738Z",
          "shell.execute_reply.started": "2022-04-23T08:55:06.429205Z",
          "shell.execute_reply": "2022-04-23T08:55:06.432713Z"
        },
        "trusted": true,
        "id": "ftl_Rgc9ui7X"
      },
      "execution_count": 11,
      "outputs": []
    },
    {
      "cell_type": "markdown",
      "source": [
        "We'll update our interactive function to print this at the top for us.\n",
        "\n",
        "Use this to repeat the approach we took before to try to find the best fit, but this time just use the value of the metric to decide which direction to move each slider, and how far to move it.\n",
        "\n",
        "This time around, try doing it in the opposite order: `c`, then `b`, then `a`.\n",
        "\n",
        "You'll probably find that you have to go through the set of sliders a couple of times to get the best fit."
      ],
      "metadata": {
        "id": "MmnP9eVTui7X"
      }
    },
    {
      "cell_type": "code",
      "source": [
        "@interact(a=1.1, b=1.1, c=1.1)\n",
        "def plot_quad(a, b, c):\n",
        "    f = mk_quad(a,b,c)\n",
        "    plt.scatter(x,y)\n",
        "    loss = mae(f(x), y)\n",
        "    plot_function(f, ylim=(-3,12), title=f\"MAE: {loss:.2f}\")"
      ],
      "metadata": {
        "execution": {
          "iopub.status.busy": "2022-04-23T08:55:07.451295Z",
          "iopub.execute_input": "2022-04-23T08:55:07.452152Z",
          "iopub.status.idle": "2022-04-23T08:55:07.701428Z",
          "shell.execute_reply.started": "2022-04-23T08:55:07.452102Z",
          "shell.execute_reply": "2022-04-23T08:55:07.700643Z"
        },
        "trusted": true,
        "colab": {
          "base_uri": "https://localhost:8080/",
          "height": 444,
          "referenced_widgets": [
            "211cb701cd384b4da6011a029fff250c",
            "404f121c16bb4acc8dd7732124ba8817",
            "0b9fa0d26a0948f0a8954e3e0f5034c0",
            "98c99a3e1c994d3f8465d41b60162e51",
            "137952532dd741eaa8313d81c79404b9",
            "6816673dfa94424ea4cbfb0ff1da098d",
            "2623518d07774237894c9d53e0a79949",
            "475ca4dbfeb44f4a91ef93489bb30a2f",
            "fa73a6b1e6c744d3bdd08b81a9f1ec05",
            "022d3a93a6aa4d2d9f543742d0b0e37e",
            "b62a7bf33b304c098c6be81a2e99cc6f",
            "a42423fb78f746b29c35c5f1a6f2b4a3",
            "35429833a05b4f4c920af1f78833a98d"
          ]
        },
        "id": "dF0qT5Zeui7Y",
        "outputId": "16cd19c5-7b41-4e24-8ee6-5bc5204e7d16"
      },
      "execution_count": 12,
      "outputs": [
        {
          "output_type": "display_data",
          "data": {
            "text/plain": [
              "interactive(children=(FloatSlider(value=1.1, description='a', max=3.3000000000000003, min=-1.1), FloatSlider(v…"
            ],
            "application/vnd.jupyter.widget-view+json": {
              "version_major": 2,
              "version_minor": 0,
              "model_id": "211cb701cd384b4da6011a029fff250c"
            }
          },
          "metadata": {}
        }
      ]
    },
    {
      "cell_type": "markdown",
      "source": [
        "In a modern neural network we'll often have tens of millions of parameters to fit, or more, and thousands or millions of data points to fit them to. We're not going to be able to do that by moving sliders around! We'll need to automate this process.\n",
        "\n",
        "Thankfully, that turns out to be pretty straightforward. We can use calculus to figure out, for each parameter, whether we should increase or decrease it.\n",
        "\n",
        "Uh oh, calculus! If you haven't touched calculus since school, you might be getting ready to run away at this point. But don't worry, we don't actually need much calculus at all. Just derivatives, which measure the rate of change of a function. We don't even need to calculate them ourselves, because the computer will do it for us! If you've forgotten what a derivitive is, then watch the first three of these fantastic [videos by Professor Dave](https://www.youtube.com/playlist?list=PLybg94GvOJ9ELZEe9s2NXTKr41Yedbw7M). It's only 15 minutes in total, so give it a go! Then come back here and we'll continue on our journey..."
      ],
      "metadata": {
        "id": "sWFMRTQQui7Y"
      }
    },
    {
      "cell_type": "markdown",
      "source": [
        "## Automating gradient descent"
      ],
      "metadata": {
        "id": "xtdnKyVIui7Y"
      }
    },
    {
      "cell_type": "markdown",
      "source": [
        "The basic idea is this: if we know the *gradient* of our `mae()` function *with respect to* our parameters, `a`, `b`, and `c`, then that means we know how adjusting (for instance) `a` will change the value of `mae()`. If, say, `a` has a *negative* gradient, then we know that increasing `a` will decrease `mae()`. Then we know that's what we need to do, since we trying to make `mae()` as low as possible.\n",
        "\n",
        "So, we find the gradient of `mae()` for each of our parameters, and then adjust our parameters a bit in the *opposite* direction to the sign of the gradient.\n",
        "\n",
        "To do this, first we need a function that takes all the parameters `a`, `b`, and `c` as a single vector input, and returns the value `mae()` based on those parameters:"
      ],
      "metadata": {
        "id": "VDYKuWk6ui7Z"
      }
    },
    {
      "cell_type": "code",
      "source": [
        "def quad_mae(params):\n",
        "    f = mk_quad(*params)\n",
        "    return mae(f(x), y)"
      ],
      "metadata": {
        "execution": {
          "iopub.status.busy": "2022-04-22T22:28:41.831976Z",
          "iopub.execute_input": "2022-04-22T22:28:41.832211Z",
          "iopub.status.idle": "2022-04-22T22:28:41.837761Z",
          "shell.execute_reply.started": "2022-04-22T22:28:41.832181Z",
          "shell.execute_reply": "2022-04-22T22:28:41.836892Z"
        },
        "trusted": true,
        "id": "0CN1JAHQui7Z"
      },
      "execution_count": 13,
      "outputs": []
    },
    {
      "cell_type": "markdown",
      "source": [
        "Let's try it:"
      ],
      "metadata": {
        "id": "sR3mT6Lnui7a"
      }
    },
    {
      "cell_type": "code",
      "source": [
        "quad_mae([1.1, 1.1, 1.1])"
      ],
      "metadata": {
        "execution": {
          "iopub.status.busy": "2022-04-22T22:28:41.839427Z",
          "iopub.execute_input": "2022-04-22T22:28:41.839663Z",
          "iopub.status.idle": "2022-04-22T22:28:41.853343Z",
          "shell.execute_reply.started": "2022-04-22T22:28:41.839635Z",
          "shell.execute_reply": "2022-04-22T22:28:41.852644Z"
        },
        "trusted": true,
        "colab": {
          "base_uri": "https://localhost:8080/"
        },
        "id": "txS1axnJui7a",
        "outputId": "da1f9dea-5277-4aaf-e284-919f4f623979"
      },
      "execution_count": 14,
      "outputs": [
        {
          "output_type": "execute_result",
          "data": {
            "text/plain": [
              "tensor(2.4219, dtype=torch.float64)"
            ]
          },
          "metadata": {},
          "execution_count": 14
        }
      ]
    },
    {
      "cell_type": "markdown",
      "source": [
        "Yup, that's the same as the starting `mae()` we had in our plot before.\n",
        "\n",
        "We're first going to do exactly the same thing as we did manually -- pick some arbritrary starting point for our parameters. We'll put them all into a single tensor:"
      ],
      "metadata": {
        "id": "JYKFRcrsui7a"
      }
    },
    {
      "cell_type": "code",
      "source": [
        "abc = torch.tensor([1.1,1.1,1.1])"
      ],
      "metadata": {
        "execution": {
          "iopub.status.busy": "2022-04-22T22:28:41.854708Z",
          "iopub.execute_input": "2022-04-22T22:28:41.855001Z",
          "iopub.status.idle": "2022-04-22T22:28:41.863677Z",
          "shell.execute_reply.started": "2022-04-22T22:28:41.854965Z",
          "shell.execute_reply": "2022-04-22T22:28:41.862424Z"
        },
        "trusted": true,
        "id": "ExkILujQui7b"
      },
      "execution_count": 15,
      "outputs": []
    },
    {
      "cell_type": "markdown",
      "source": [
        "To tell PyTorch that we want it to calculate gradients for these parameters, we need to call `requires_grad_()`:"
      ],
      "metadata": {
        "id": "QYiroLzGui7b"
      }
    },
    {
      "cell_type": "code",
      "source": [
        "abc.requires_grad_()"
      ],
      "metadata": {
        "execution": {
          "iopub.status.busy": "2022-04-22T22:28:41.865105Z",
          "iopub.execute_input": "2022-04-22T22:28:41.86557Z",
          "iopub.status.idle": "2022-04-22T22:28:41.881016Z",
          "shell.execute_reply.started": "2022-04-22T22:28:41.865497Z",
          "shell.execute_reply": "2022-04-22T22:28:41.879681Z"
        },
        "trusted": true,
        "colab": {
          "base_uri": "https://localhost:8080/"
        },
        "id": "O6zy3NGEui7b",
        "outputId": "aac50b0d-93c1-4ed3-f1b8-b710030bb58d"
      },
      "execution_count": 16,
      "outputs": [
        {
          "output_type": "execute_result",
          "data": {
            "text/plain": [
              "tensor([1.1000, 1.1000, 1.1000], requires_grad=True)"
            ]
          },
          "metadata": {},
          "execution_count": 16
        }
      ]
    },
    {
      "cell_type": "markdown",
      "source": [
        "We can now calculate `mae()`. Generally, when doing gradient descent, the thing we're trying to minimise is called the *loss*:"
      ],
      "metadata": {
        "id": "R6DMpG0aui7b"
      }
    },
    {
      "cell_type": "code",
      "source": [
        "loss = quad_mae(abc)\n",
        "loss"
      ],
      "metadata": {
        "execution": {
          "iopub.status.busy": "2022-04-22T22:28:41.882498Z",
          "iopub.execute_input": "2022-04-22T22:28:41.882908Z",
          "iopub.status.idle": "2022-04-22T22:28:41.894811Z",
          "shell.execute_reply.started": "2022-04-22T22:28:41.882865Z",
          "shell.execute_reply": "2022-04-22T22:28:41.893828Z"
        },
        "trusted": true,
        "colab": {
          "base_uri": "https://localhost:8080/"
        },
        "id": "X-FhUhu_ui7c",
        "outputId": "f21387cd-449b-4e74-90d2-9d300236dab0"
      },
      "execution_count": 17,
      "outputs": [
        {
          "output_type": "execute_result",
          "data": {
            "text/plain": [
              "tensor(2.4219, dtype=torch.float64, grad_fn=<MeanBackward0>)"
            ]
          },
          "metadata": {},
          "execution_count": 17
        }
      ]
    },
    {
      "cell_type": "markdown",
      "source": [
        "To get PyTorch to now calculate the gradients, we need to call `backward()`"
      ],
      "metadata": {
        "id": "QThWiARFui7c"
      }
    },
    {
      "cell_type": "code",
      "source": [
        "loss.backward()"
      ],
      "metadata": {
        "execution": {
          "iopub.status.busy": "2022-04-22T22:28:41.896144Z",
          "iopub.execute_input": "2022-04-22T22:28:41.896493Z",
          "iopub.status.idle": "2022-04-22T22:28:41.914719Z",
          "shell.execute_reply.started": "2022-04-22T22:28:41.896462Z",
          "shell.execute_reply": "2022-04-22T22:28:41.913717Z"
        },
        "trusted": true,
        "id": "DmVgLqpoui7c"
      },
      "execution_count": 18,
      "outputs": []
    },
    {
      "cell_type": "markdown",
      "source": [
        "The gradients will be stored for us in an attribute called `grad`:"
      ],
      "metadata": {
        "id": "X2ONn-iNui7c"
      }
    },
    {
      "cell_type": "code",
      "source": [
        "abc.grad"
      ],
      "metadata": {
        "execution": {
          "iopub.status.busy": "2022-04-22T22:28:41.916372Z",
          "iopub.execute_input": "2022-04-22T22:28:41.91704Z",
          "iopub.status.idle": "2022-04-22T22:28:41.925299Z",
          "shell.execute_reply.started": "2022-04-22T22:28:41.916988Z",
          "shell.execute_reply": "2022-04-22T22:28:41.924407Z"
        },
        "trusted": true,
        "colab": {
          "base_uri": "https://localhost:8080/"
        },
        "id": "CLBaC8B-ui7c",
        "outputId": "f29ebf85-6c97-4c93-85f4-007088161a2f"
      },
      "execution_count": 19,
      "outputs": [
        {
          "output_type": "execute_result",
          "data": {
            "text/plain": [
              "tensor([-1.3529, -0.0316, -0.5000])"
            ]
          },
          "metadata": {},
          "execution_count": 19
        }
      ]
    },
    {
      "cell_type": "markdown",
      "source": [
        "According to these gradients, all our parameters are a little low. So let's increase them a bit. If we subtract the gradient, multiplied by a small number, that should improve them a bit:"
      ],
      "metadata": {
        "id": "uDMyWsiMui7d"
      }
    },
    {
      "cell_type": "code",
      "source": [
        "with torch.no_grad():\n",
        "    abc -= abc.grad*0.01\n",
        "    loss = quad_mae(abc)\n",
        "    \n",
        "print(f'loss={loss:.2f}')"
      ],
      "metadata": {
        "execution": {
          "iopub.status.busy": "2022-04-22T22:28:41.927221Z",
          "iopub.execute_input": "2022-04-22T22:28:41.927714Z",
          "iopub.status.idle": "2022-04-22T22:28:41.941471Z",
          "shell.execute_reply.started": "2022-04-22T22:28:41.927665Z",
          "shell.execute_reply": "2022-04-22T22:28:41.940784Z"
        },
        "trusted": true,
        "colab": {
          "base_uri": "https://localhost:8080/"
        },
        "id": "yLGz2zdyui7d",
        "outputId": "23282998-f853-46c5-c41b-89ad965cb84e"
      },
      "execution_count": 20,
      "outputs": [
        {
          "output_type": "stream",
          "name": "stdout",
          "text": [
            "loss=2.40\n"
          ]
        }
      ]
    },
    {
      "cell_type": "markdown",
      "source": [
        "Yes, our loss has gone down!\n",
        "\n",
        "The \"small number\" we multiply is called the *learning rate*, and is the most important *hyper-parameter* to set when training a neural network.\n",
        "\n",
        "BTW, you'll see we had to wrap our calculation of the new parameters in `with torch.no_grad()`. That disables the calculation of gradients for any operations inside that context manager. We have to do that, because `abc -= abc.grad*0.01` isn't actually part of our quadratic model, so we don't want derivitives to include that calculation.\n",
        "\n",
        "We can use a loop to do a few more iterations of this:"
      ],
      "metadata": {
        "id": "iiB9tL4oui7d"
      }
    },
    {
      "cell_type": "code",
      "source": [
        "for i in range(10):\n",
        "    loss = quad_mae(abc)\n",
        "    loss.backward()\n",
        "    with torch.no_grad(): abc -= abc.grad*0.01\n",
        "    print(f'step={i}; loss={loss:.2f}')"
      ],
      "metadata": {
        "execution": {
          "iopub.status.busy": "2022-04-22T22:28:41.942822Z",
          "iopub.execute_input": "2022-04-22T22:28:41.943242Z",
          "iopub.status.idle": "2022-04-22T22:28:41.968186Z",
          "shell.execute_reply.started": "2022-04-22T22:28:41.943202Z",
          "shell.execute_reply": "2022-04-22T22:28:41.967081Z"
        },
        "trusted": true,
        "colab": {
          "base_uri": "https://localhost:8080/"
        },
        "id": "AGmCvVi9ui7d",
        "outputId": "19f806ec-09c6-4df3-bf6b-41899a5c8a42"
      },
      "execution_count": 21,
      "outputs": [
        {
          "output_type": "stream",
          "name": "stdout",
          "text": [
            "step=0; loss=2.40\n",
            "step=1; loss=2.36\n",
            "step=2; loss=2.30\n",
            "step=3; loss=2.21\n",
            "step=4; loss=2.11\n",
            "step=5; loss=1.98\n",
            "step=6; loss=1.85\n",
            "step=7; loss=1.72\n",
            "step=8; loss=1.58\n",
            "step=9; loss=1.46\n"
          ]
        }
      ]
    },
    {
      "cell_type": "markdown",
      "source": [
        "As you can see, our loss keeps going down!\n",
        "\n",
        "If you keep running this loop for long enough however, you'll see that the loss eventually starts increasing for a while. That's because once the parameters get close to the correct answer, our parameter updates will jump right over the correct answer! To avoid this, we need to decrease our learning rate as we train. This is done using a *learning rate schedule*, and can be automated in most deep learning frameworks, such as fastai and PyTorch."
      ],
      "metadata": {
        "id": "GvM45ACKui7d"
      }
    },
    {
      "cell_type": "markdown",
      "source": [
        "## How a neural network approximates any given function"
      ],
      "metadata": {
        "id": "WRiGz51pui7e"
      }
    },
    {
      "cell_type": "markdown",
      "source": [
        "But neural nets are much more convenient and powerful than this example showed, because we can learn much more than just a quadratic with them. How does *that* work?\n",
        "\n",
        "The trick is that a neural network is a very expressive function. In fact -- it's [infinitely expressive](https://en.wikipedia.org/wiki/Universal_approximation_theorem). A neural network can approximate any computable function, given enough parameters. A \"computable function\" can cover just about anything you can imagine: understand and translate human speech; paint a picture; diagnose a disease from medical imaging; write an essay; etc...\n",
        "\n",
        "The way a neural network approximates a function actually turns out to be very simple. The key trick is to combine two extremely basic steps:\n",
        "\n",
        "1. Matrix multiplication, which is just multiplying things together and then adding them up\n",
        "1. The function $max(x,0)$, which simply replaces all negative numbers with zero.\n",
        "\n",
        "In PyTorch, the function $max(x,0)$ is written as `np.clip(x,0)`. The combination of a linear function and this *max()* is called a *rectified linear function*, and it can be implemented like this:"
      ],
      "metadata": {
        "id": "_ABUPDDCui7e"
      }
    },
    {
      "cell_type": "code",
      "source": [
        "def rectified_linear(m,b,x):\n",
        "    y = m*x+b\n",
        "    return torch.clip(y, 0.)"
      ],
      "metadata": {
        "execution": {
          "iopub.status.busy": "2022-04-22T22:28:41.970051Z",
          "iopub.execute_input": "2022-04-22T22:28:41.970814Z",
          "iopub.status.idle": "2022-04-22T22:28:41.976113Z",
          "shell.execute_reply.started": "2022-04-22T22:28:41.970763Z",
          "shell.execute_reply": "2022-04-22T22:28:41.975338Z"
        },
        "trusted": true,
        "id": "TvGPDP7eui7e"
      },
      "execution_count": 22,
      "outputs": []
    },
    {
      "cell_type": "markdown",
      "source": [
        "Here's what it looks like:"
      ],
      "metadata": {
        "id": "wi208QHVui7e"
      }
    },
    {
      "cell_type": "code",
      "source": [
        "plot_function(partial(rectified_linear, 1,1))"
      ],
      "metadata": {
        "execution": {
          "iopub.status.busy": "2022-04-22T22:28:41.977336Z",
          "iopub.execute_input": "2022-04-22T22:28:41.978052Z",
          "iopub.status.idle": "2022-04-22T22:28:42.197682Z",
          "shell.execute_reply.started": "2022-04-22T22:28:41.978012Z",
          "shell.execute_reply": "2022-04-22T22:28:42.196709Z"
        },
        "trusted": true,
        "colab": {
          "base_uri": "https://localhost:8080/",
          "height": 328
        },
        "id": "tP-riMO_ui7e",
        "outputId": "e72725a7-e7b8-44d3-a86f-964556a8d592"
      },
      "execution_count": 23,
      "outputs": [
        {
          "output_type": "display_data",
          "data": {
            "text/plain": [
              "<Figure size 540x360 with 1 Axes>"
            ],
            "image/png": "[encoded data removed]"
          },
          "metadata": {
            "needs_background": "light"
          }
        }
      ]
    },
    {
      "cell_type": "markdown",
      "source": [
        "BTW, instead of `torch.clip(y, 0.)`, we can instead use `F.relu(x)`, which does exactly the same thing. In PyTorch, `F` refers to the `torch.nn.functional` module."
      ],
      "metadata": {
        "id": "u7oW706oui7e"
      }
    },
    {
      "cell_type": "code",
      "source": [
        "import torch.nn.functional as F\n",
        "def rectified_linear2(m,b,x): return F.relu(m*x+b)\n",
        "plot_function(partial(rectified_linear2, 1,1))"
      ],
      "metadata": {
        "execution": {
          "iopub.status.busy": "2022-04-22T22:28:42.199561Z",
          "iopub.execute_input": "2022-04-22T22:28:42.200133Z",
          "iopub.status.idle": "2022-04-22T22:28:42.40433Z",
          "shell.execute_reply.started": "2022-04-22T22:28:42.200083Z",
          "shell.execute_reply": "2022-04-22T22:28:42.403323Z"
        },
        "trusted": true,
        "colab": {
          "base_uri": "https://localhost:8080/",
          "height": 328
        },
        "id": "-ii6PuyAui7f",
        "outputId": "2a1acff8-5203-4e47-e87b-134bae9f25e0"
      },
      "execution_count": 24,
      "outputs": [
        {
          "output_type": "display_data",
          "data": {
            "text/plain": [
              "<Figure size 540x360 with 1 Axes>"
            ],
            "image/png": "[encoded data removed]"
          },
          "metadata": {
            "needs_background": "light"
          }
        }
      ]
    },
    {
      "cell_type": "markdown",
      "source": [
        "To understand how this function works, try using this interactive version to play around with the parameters `m` and `b`:"
      ],
      "metadata": {
        "id": "Hfw0BMbxui7f"
      }
    },
    {
      "cell_type": "code",
      "source": [
        "@interact(m=1.5, b=1.5)\n",
        "def plot_relu(m, b):\n",
        "    plot_function(partial(rectified_linear, m,b), ylim=(-1,4))"
      ],
      "metadata": {
        "execution": {
          "iopub.status.busy": "2022-04-22T22:28:42.405808Z",
          "iopub.execute_input": "2022-04-22T22:28:42.406108Z",
          "iopub.status.idle": "2022-04-22T22:28:42.61219Z",
          "shell.execute_reply.started": "2022-04-22T22:28:42.406071Z",
          "shell.execute_reply": "2022-04-22T22:28:42.61144Z"
        },
        "trusted": true,
        "colab": {
          "base_uri": "https://localhost:8080/",
          "height": 397,
          "referenced_widgets": [
            "bab41e87a08f4d199644a88a04be39e4",
            "6ca07c9e644045dba6318bd66f9cc9e8",
            "f8dc677836d844dab405064aa123f7ff",
            "02c4051a910d4252948b0475815fd81c",
            "3b1a07205f674fec99297753ebdae040",
            "14e1d62f5b7d48a3a2a0575e217ea4f8",
            "de734ab0884f43ab93ec6a766c406c51",
            "3da1885fe2384a278ebc1dc67042570e",
            "d9448fe9ba7e4a03adbc54c7f127a04d",
            "d461ea7fa95e47028de4b505d29ee15a"
          ]
        },
        "id": "Vu1ZepNhui7f",
        "outputId": "3cb19d01-16dd-41a9-c4dd-009dd50947fa"
      },
      "execution_count": 25,
      "outputs": [
        {
          "output_type": "display_data",
          "data": {
            "text/plain": [
              "interactive(children=(FloatSlider(value=1.5, description='m', max=4.5, min=-1.5), FloatSlider(value=1.5, descr…"
            ],
            "application/vnd.jupyter.widget-view+json": {
              "version_major": 2,
              "version_minor": 0,
              "model_id": "bab41e87a08f4d199644a88a04be39e4"
            }
          },
          "metadata": {}
        }
      ]
    },
    {
      "cell_type": "markdown",
      "source": [
        "As you see, `m` changes the slope, and `b` changes where the \"hook\" appears. This function doesn't do much on its own, but look what happens when we add two of them together:"
      ],
      "metadata": {
        "id": "AuqoYmj2ui7f"
      }
    },
    {
      "cell_type": "code",
      "source": [
        "def double_relu(m1,b1,m2,b2,x):\n",
        "    return rectified_linear(m1,b1,x) + rectified_linear(m2,b2,x)\n",
        "\n",
        "@interact(m1=-1.5, b1=-1.5, m2=1.5, b2=1.5)\n",
        "def plot_double_relu(m1, b1, m2, b2):\n",
        "    plot_function(partial(double_relu, m1,b1,m2,b2), ylim=(-1,6))"
      ],
      "metadata": {
        "execution": {
          "iopub.status.busy": "2022-04-22T22:28:42.613745Z",
          "iopub.execute_input": "2022-04-22T22:28:42.614042Z",
          "iopub.status.idle": "2022-04-22T22:28:42.851224Z",
          "shell.execute_reply.started": "2022-04-22T22:28:42.614007Z",
          "shell.execute_reply": "2022-04-22T22:28:42.85035Z"
        },
        "trusted": true,
        "colab": {
          "base_uri": "https://localhost:8080/",
          "height": 461,
          "referenced_widgets": [
            "33071e104497469d9eaeda6383e8a3fb",
            "86b2c2570e6f4023bdd4718a73b5fb17",
            "dd11705d7dae4c8eaf3adb8c62eb4b40",
            "9419b4cec49b40d8865371b23d1bb027",
            "b5888bda401a49f2973582fc9b4d14c6",
            "c46f8be4b83b4266b7646a6ca5b4ec2e",
            "6a71b024513f46df862d51d334aaba91",
            "1a618b0f6cdf47cf9c3228cc318e2d21",
            "4749918e302c41debd2a01e3090280d3",
            "dd0e82b04e4343faa0e1a3d216a0b25e",
            "9951d4f593c848a5b9458faf7cb910ec",
            "d26581181ceb44cfa925cf341dafb74d",
            "8c4ab02aeb454800869890244311d8e9",
            "ca69d3b3101348c1bc6e42c9657e5820",
            "e64e9dee0c5c4050a89976c8193831a4",
            "fbe3d46453b4432380573b97605df74c"
          ]
        },
        "id": "3H2ATRQrui7g",
        "outputId": "1c72fb35-02f6-4a78-e8c4-eb58ca4c7979"
      },
      "execution_count": 28,
      "outputs": [
        {
          "output_type": "display_data",
          "data": {
            "text/plain": [
              "interactive(children=(FloatSlider(value=-1.5, description='m1', max=1.5, min=-4.5), FloatSlider(value=-1.5, de…"
            ],
            "application/vnd.jupyter.widget-view+json": {
              "version_major": 2,
              "version_minor": 0,
              "model_id": "33071e104497469d9eaeda6383e8a3fb"
            }
          },
          "metadata": {}
        }
      ]
    },
    {
      "cell_type": "markdown",
      "source": [
        "If you play around with that for a while, you notice something quite profound: with enough of these rectified linear functions added together, you could approximate any function with a single input, to whatever accuracy you like! Any time the function doesn't quite match, you can just add a few more additions to the mix to make it a bit closer. As an experiment, perhaps you'd like to try creating your own `plot_triple_relu` interactive function, and maybe even include the scatter plot of our data from before, to see how close you can get?\n",
        "\n",
        "This exact same approach can be expanded to functions of 2, 3, or more parameters."
      ],
      "metadata": {
        "id": "qopy6-G6ui7g"
      }
    },
    {
      "cell_type": "code",
      "source": [
        "def triple_relu(m1, b1, m2, b2, m3, b3, x):\n",
        "  return rectified_linear(m1, b1, x) + rectified_linear(m2, b2, x) + rectified_linear(m3, b3, x)\n",
        "\n",
        "@interact(m1=-1.5, b1=-1.5, m2=1.5, b2=1.5, m3=-2, b3=-2)\n",
        "def plot_triple_relu(m1, b1, m2, b2, m3, b3):\n",
        "  plot_function(partial(triple_relu, m1, b1, m2, b2, m3, b3), ylim=(-1, 6))"
      ],
      "metadata": {
        "colab": {
          "base_uri": "https://localhost:8080/",
          "height": 525,
          "referenced_widgets": [
            "79b5b39c568a4e6e8dc065667dd73cde",
            "2e731ee5b04a461597a9e96170fb40c3",
            "48eb5f4ab95f4cf3920b09cc42be1ca6",
            "5485dbcdb332436bac79357aeaa075e0",
            "877bd6a675c345abb52a5cf3628e130f",
            "4a478a951fa14ad0982ea5ebf42fba57",
            "c121152295dd44d8967b0df58d068d34",
            "fb1f887b597348989762a95821843f59",
            "610f0c0b9fcb44b39f2b4c844c50aa0b",
            "b55f1f941f16492984a27c8b4ca8f141",
            "d3359792421741e7b9c242a229376016",
            "625b597f24a34a339dfb2a50ec413b8b",
            "4e1bada702f8458bb9d132418cce3d4c",
            "64c60ab6b8114b8c814c037abff797f3",
            "58229d0fefb74ff48a6135cd8661599b",
            "b657e39e6e6c4a63891f50c23a24669b",
            "327531278c5c4286add299411c9bc33d",
            "32ff9d7375c84cafb6f9f67766f4edd7",
            "ea6a7c520fa94b0887b075de1cad6628",
            "8d99674ef8044b53b5464ee68d4438e7",
            "d0fa9aa6c93d4563bc8f311e3777a3b3",
            "e4207a9e180646dbae25063e034fbb89"
          ]
        },
        "id": "GjQKAJLJ1qpL",
        "outputId": "b9ac6a9c-fe17-4c4e-c367-436c1cc5de56"
      },
      "execution_count": 29,
      "outputs": [
        {
          "output_type": "display_data",
          "data": {
            "text/plain": [
              "interactive(children=(FloatSlider(value=-1.5, description='m1', max=1.5, min=-4.5), FloatSlider(value=-1.5, de…"
            ],
            "application/vnd.jupyter.widget-view+json": {
              "version_major": 2,
              "version_minor": 0,
              "model_id": "79b5b39c568a4e6e8dc065667dd73cde"
            }
          },
          "metadata": {}
        }
      ]
    },
    {
      "cell_type": "markdown",
      "source": [
        "## How to recognise an owl"
      ],
      "metadata": {
        "id": "HLJVXkmmui7g"
      }
    },
    {
      "cell_type": "markdown",
      "source": [
        "OK great, we've created a nifty little example showing that we can drawing squiggly lines that go through some points. So what?\n",
        "\n",
        "Well... the truth is that actually drawing squiggly lines (or planes, or high-dimensional hyperplanes...) through some points is literally *all that deep learning does*! If your data points are, say, the RGB values of pixels in photos of owls, then you can create an owl-recogniser model by following the exact steps above.\n",
        "\n",
        "This may, at first, sound about as useful as the classic \"how to draw an owl\" guide:"
      ],
      "metadata": {
        "id": "ti4ZI4NDui7g"
      }
    },
    {
      "cell_type": "markdown",
      "source": [
        "Students often ask me at this point \"OK Jeremy, but how do neural nets *actually work*\". But at a foundational level, there is no \"step 2\". We're done -- the above steps will, given enough time and enough data, create (for example) an owl recogniser, if you feed in enough owls (and non-owls).\n",
        "\n",
        "The devil, I guess, is in the \"given enough time and enough data\" part of the above sentence. There's a *lot* of tweaks we can make to reduce both of these things. For instance, instead of running our calculations on a normal CPU, as we've done above, we could do thousands of them simultaneously by taking advantage of a GPU. We could greatly reduce the amount of computation and data needed by using a convolution instead of a matrix multiplication, which basically means skipping over a bunch of the multiplications and additions for bits that you'd guess won't be important. We could make things much faster if, instead of starting with random parameters, we start with parameters of someone else's model that does something similar to what we want (this is called *transfer learning*).\n",
        "\n",
        "And, of course, there's lots of helpful software out there to do this stuff for you without too much fuss. Like, say, [fastai](https://docs.fast.ai).\n",
        "\n",
        "Learning these things is what we teach in our [course](https://course.fast.ai), which, like everything we make, is totally free. So if you're interested in learning more, do check it out!"
      ],
      "metadata": {
        "id": "2xNa6Rvjui7h"
      }
    },
    {
      "cell_type": "markdown",
      "source": [
        "As always, if you enjoyed this notebook, please upvote it to help others find it, and to encourage me to write more. If you upvote it, be careful you don't accidentally upvote your copy that's created when you click \"Copy & Edit\" -- you can find my original at [this link](https://www.kaggle.com/code/jhoward/how-does-a-neural-net-really-work)."
      ],
      "metadata": {
        "id": "jIULt_2kui7h"
      }
    },
    {
      "cell_type": "code",
      "source": [],
      "metadata": {
        "id": "Ya-Fduryui7h"
      },
      "execution_count": null,
      "outputs": []
    }
  ]
}