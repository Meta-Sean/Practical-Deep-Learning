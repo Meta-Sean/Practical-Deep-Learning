{
  "nbformat": 4,
  "nbformat_minor": 0,
  "metadata": {
    "colab": {
      "provenance": [],
      "collapsed_sections": [],
      "authorship_tag": "ABX9TyMoqMv1L8XgBHRsxnL9JKgI",
      "include_colab_link": true
    },
    "kernelspec": {
      "name": "python3",
      "display_name": "Python 3"
    },
    "language_info": {
      "name": "python"
    }
  },
  "cells": [
    {
      "cell_type": "markdown",
      "metadata": {
        "id": "view-in-github",
        "colab_type": "text"
      },
      "source": [
        "<a href=\"https://colab.research.google.com/github/Meta-Sean/Practical-Deep-Learning/blob/main/squeeze_eda.ipynb\" target=\"_parent\"><img src=\"https://colab.research.google.com/assets/colab-badge.svg\" alt=\"Open In Colab\"/></a>"
      ]
    },
    {
      "cell_type": "code",
      "execution_count": 68,
      "metadata": {
        "id": "aNQe7shPxS0N"
      },
      "outputs": [],
      "source": [
        "from fastai.imports import *\n",
        "np.set_printoptions(linewidth=130)\n",
        "import torch, numpy as np, pandas as pd\n",
        "np.set_printoptions(linewidth=140)\n",
        "torch.set_printoptions(linewidth=140, sci_mode=False, edgeitems=7)\n",
        "pd.set_option('display.width', 140)"
      ]
    },
    {
      "cell_type": "code",
      "source": [
        "df = pd.read_csv('Mega Squeeze.csv')\n",
        "df.tail()"
      ],
      "metadata": {
        "colab": {
          "base_uri": "https://localhost:8080/",
          "height": 548
        },
        "id": "XNtz4TGMxade",
        "outputId": "239c926b-cf3b-4512-d568-80c914d3fae2"
      },
      "execution_count": 32,
      "outputs": [
        {
          "output_type": "execute_result",
          "data": {
            "text/plain": [
              "          Date Ticker                      Name  OS at time of run  \\\n",
              "73  2019-08-19    DPW          DPW HOLDINGS INC         1174493.00   \n",
              "74  2020-05-19   NNDM        NANO DIMENSION LTD        32525671.28   \n",
              "75  2021-01-08   LMFA       LM funding ameraica        15400000.00   \n",
              "76  2020-07-24   WHLM  Wilhelmina International         5160000.00   \n",
              "77         NaN    NaN                       NaN                NaN   \n",
              "\n",
              "    Estimated float at time of run       Volume  Close   High   Low  Open  \\\n",
              "73                      1078104.00   15189190.0   4.80  10.68  4.60  8.00   \n",
              "74                     32285671.28  317000000.0   3.40   3.97  1.14  1.24   \n",
              "75                     13500000.00  234786060.0   3.33   3.95  0.71  0.79   \n",
              "76                      1749275.00   51761994.0   8.27  17.60  3.54  4.25   \n",
              "77                             NaN          NaN    NaN    NaN   NaN   NaN   \n",
              "\n",
              "    Previous close  Float value prior to run       Gap  \\\n",
              "73          2.0600                2220894.24  2.883500   \n",
              "74          0.7698               24853509.75  0.610800   \n",
              "75          0.7680               10368000.00  0.028646   \n",
              "76          3.5300                6174940.75  0.203966   \n",
              "77             NaN                       NaN       NaN   \n",
              "\n",
              "    Market cap prior to run  Float rotation  High / Previous Close  \\\n",
              "73               2419455.58       14.088798               4.184500   \n",
              "74              25038261.75        9.818597               4.157200   \n",
              "75              11827200.00       17.391560               4.143229   \n",
              "76              18214800.00       29.590541               3.985836   \n",
              "77                      NaN             NaN                    NaN   \n",
              "\n",
              "   Possible Dilution at time of run  \\\n",
              "73                              Low   \n",
              "74                               No   \n",
              "75                           Medium   \n",
              "76                               No   \n",
              "77                              NaN   \n",
              "\n",
              "                                             Notes  \\\n",
              "73                                       $5.5m ATM   \n",
              "74  Shelf received EFFECT next day, offer next day   \n",
              "75                 10m warrants at $0.9, 2 day run   \n",
              "76                                     No dilution   \n",
              "77                                             NaN   \n",
              "\n",
              "                                                                 Reason for run  \\\n",
              "73                                                       No news, reverse split   \n",
              "74  HENSOLDT and Nano Dimension Achieve Breakthrough in Electronics 3D Printing   \n",
              "75                                                          Became SPAC sponsor   \n",
              "76                                                                      No news   \n",
              "77                                                                          NaN   \n",
              "\n",
              "   Sector move  \n",
              "73          No  \n",
              "74         Yes  \n",
              "75          No  \n",
              "76          No  \n",
              "77         NaN  "
            ],
            "text/html": [
              "\n",
              "  <div id=\"df-55667278-ebaf-4683-ae74-e7666c8eb0f7\">\n",
              "    <div class=\"colab-df-container\">\n",
              "      <div>\n",
              "<style scoped>\n",
              "    .dataframe tbody tr th:only-of-type {\n",
              "        vertical-align: middle;\n",
              "    }\n",
              "\n",
              "    .dataframe tbody tr th {\n",
              "        vertical-align: top;\n",
              "    }\n",
              "\n",
              "    .dataframe thead th {\n",
              "        text-align: right;\n",
              "    }\n",
              "</style>\n",
              "<table border=\"1\" class=\"dataframe\">\n",
              "  <thead>\n",
              "    <tr style=\"text-align: right;\">\n",
              "      <th></th>\n",
              "      <th>Date</th>\n",
              "      <th>Ticker</th>\n",
              "      <th>Name</th>\n",
              "      <th>OS at time of run</th>\n",
              "      <th>Estimated float at time of run</th>\n",
              "      <th>Volume</th>\n",
              "      <th>Close</th>\n",
              "      <th>High</th>\n",
              "      <th>Low</th>\n",
              "      <th>Open</th>\n",
              "      <th>Previous close</th>\n",
              "      <th>Float value prior to run</th>\n",
              "      <th>Gap</th>\n",
              "      <th>Market cap prior to run</th>\n",
              "      <th>Float rotation</th>\n",
              "      <th>High / Previous Close</th>\n",
              "      <th>Possible Dilution at time of run</th>\n",
              "      <th>Notes</th>\n",
              "      <th>Reason for run</th>\n",
              "      <th>Sector move</th>\n",
              "    </tr>\n",
              "  </thead>\n",
              "  <tbody>\n",
              "    <tr>\n",
              "      <th>73</th>\n",
              "      <td>2019-08-19</td>\n",
              "      <td>DPW</td>\n",
              "      <td>DPW HOLDINGS INC</td>\n",
              "      <td>1174493.00</td>\n",
              "      <td>1078104.00</td>\n",
              "      <td>15189190.0</td>\n",
              "      <td>4.80</td>\n",
              "      <td>10.68</td>\n",
              "      <td>4.60</td>\n",
              "      <td>8.00</td>\n",
              "      <td>2.0600</td>\n",
              "      <td>2220894.24</td>\n",
              "      <td>2.883500</td>\n",
              "      <td>2419455.58</td>\n",
              "      <td>14.088798</td>\n",
              "      <td>4.184500</td>\n",
              "      <td>Low</td>\n",
              "      <td>$5.5m ATM</td>\n",
              "      <td>No news, reverse split</td>\n",
              "      <td>No</td>\n",
              "    </tr>\n",
              "    <tr>\n",
              "      <th>74</th>\n",
              "      <td>2020-05-19</td>\n",
              "      <td>NNDM</td>\n",
              "      <td>NANO DIMENSION LTD</td>\n",
              "      <td>32525671.28</td>\n",
              "      <td>32285671.28</td>\n",
              "      <td>317000000.0</td>\n",
              "      <td>3.40</td>\n",
              "      <td>3.97</td>\n",
              "      <td>1.14</td>\n",
              "      <td>1.24</td>\n",
              "      <td>0.7698</td>\n",
              "      <td>24853509.75</td>\n",
              "      <td>0.610800</td>\n",
              "      <td>25038261.75</td>\n",
              "      <td>9.818597</td>\n",
              "      <td>4.157200</td>\n",
              "      <td>No</td>\n",
              "      <td>Shelf received EFFECT next day, offer next day</td>\n",
              "      <td>HENSOLDT and Nano Dimension Achieve Breakthrough in Electronics 3D Printing</td>\n",
              "      <td>Yes</td>\n",
              "    </tr>\n",
              "    <tr>\n",
              "      <th>75</th>\n",
              "      <td>2021-01-08</td>\n",
              "      <td>LMFA</td>\n",
              "      <td>LM funding ameraica</td>\n",
              "      <td>15400000.00</td>\n",
              "      <td>13500000.00</td>\n",
              "      <td>234786060.0</td>\n",
              "      <td>3.33</td>\n",
              "      <td>3.95</td>\n",
              "      <td>0.71</td>\n",
              "      <td>0.79</td>\n",
              "      <td>0.7680</td>\n",
              "      <td>10368000.00</td>\n",
              "      <td>0.028646</td>\n",
              "      <td>11827200.00</td>\n",
              "      <td>17.391560</td>\n",
              "      <td>4.143229</td>\n",
              "      <td>Medium</td>\n",
              "      <td>10m warrants at $0.9, 2 day run</td>\n",
              "      <td>Became SPAC sponsor</td>\n",
              "      <td>No</td>\n",
              "    </tr>\n",
              "    <tr>\n",
              "      <th>76</th>\n",
              "      <td>2020-07-24</td>\n",
              "      <td>WHLM</td>\n",
              "      <td>Wilhelmina International</td>\n",
              "      <td>5160000.00</td>\n",
              "      <td>1749275.00</td>\n",
              "      <td>51761994.0</td>\n",
              "      <td>8.27</td>\n",
              "      <td>17.60</td>\n",
              "      <td>3.54</td>\n",
              "      <td>4.25</td>\n",
              "      <td>3.5300</td>\n",
              "      <td>6174940.75</td>\n",
              "      <td>0.203966</td>\n",
              "      <td>18214800.00</td>\n",
              "      <td>29.590541</td>\n",
              "      <td>3.985836</td>\n",
              "      <td>No</td>\n",
              "      <td>No dilution</td>\n",
              "      <td>No news</td>\n",
              "      <td>No</td>\n",
              "    </tr>\n",
              "    <tr>\n",
              "      <th>77</th>\n",
              "      <td>NaN</td>\n",
              "      <td>NaN</td>\n",
              "      <td>NaN</td>\n",
              "      <td>NaN</td>\n",
              "      <td>NaN</td>\n",
              "      <td>NaN</td>\n",
              "      <td>NaN</td>\n",
              "      <td>NaN</td>\n",
              "      <td>NaN</td>\n",
              "      <td>NaN</td>\n",
              "      <td>NaN</td>\n",
              "      <td>NaN</td>\n",
              "      <td>NaN</td>\n",
              "      <td>NaN</td>\n",
              "      <td>NaN</td>\n",
              "      <td>NaN</td>\n",
              "      <td>NaN</td>\n",
              "      <td>NaN</td>\n",
              "      <td>NaN</td>\n",
              "      <td>NaN</td>\n",
              "    </tr>\n",
              "  </tbody>\n",
              "</table>\n",
              "</div>\n",
              "      <button class=\"colab-df-convert\" onclick=\"convertToInteractive('df-55667278-ebaf-4683-ae74-e7666c8eb0f7')\"\n",
              "              title=\"Convert this dataframe to an interactive table.\"\n",
              "              style=\"display:none;\">\n",
              "        \n",
              "  <svg xmlns=\"http://www.w3.org/2000/svg\" height=\"24px\"viewBox=\"0 0 24 24\"\n",
              "       width=\"24px\">\n",
              "    <path d=\"M0 0h24v24H0V0z\" fill=\"none\"/>\n",
              "    <path d=\"M18.56 5.44l.94 2.06.94-2.06 2.06-.94-2.06-.94-.94-2.06-.94 2.06-2.06.94zm-11 1L8.5 8.5l.94-2.06 2.06-.94-2.06-.94L8.5 2.5l-.94 2.06-2.06.94zm10 10l.94 2.06.94-2.06 2.06-.94-2.06-.94-.94-2.06-.94 2.06-2.06.94z\"/><path d=\"M17.41 7.96l-1.37-1.37c-.4-.4-.92-.59-1.43-.59-.52 0-1.04.2-1.43.59L10.3 9.45l-7.72 7.72c-.78.78-.78 2.05 0 2.83L4 21.41c.39.39.9.59 1.41.59.51 0 1.02-.2 1.41-.59l7.78-7.78 2.81-2.81c.8-.78.8-2.07 0-2.86zM5.41 20L4 18.59l7.72-7.72 1.47 1.35L5.41 20z\"/>\n",
              "  </svg>\n",
              "      </button>\n",
              "      \n",
              "  <style>\n",
              "    .colab-df-container {\n",
              "      display:flex;\n",
              "      flex-wrap:wrap;\n",
              "      gap: 12px;\n",
              "    }\n",
              "\n",
              "    .colab-df-convert {\n",
              "      background-color: #E8F0FE;\n",
              "      border: none;\n",
              "      border-radius: 50%;\n",
              "      cursor: pointer;\n",
              "      display: none;\n",
              "      fill: #1967D2;\n",
              "      height: 32px;\n",
              "      padding: 0 0 0 0;\n",
              "      width: 32px;\n",
              "    }\n",
              "\n",
              "    .colab-df-convert:hover {\n",
              "      background-color: #E2EBFA;\n",
              "      box-shadow: 0px 1px 2px rgba(60, 64, 67, 0.3), 0px 1px 3px 1px rgba(60, 64, 67, 0.15);\n",
              "      fill: #174EA6;\n",
              "    }\n",
              "\n",
              "    [theme=dark] .colab-df-convert {\n",
              "      background-color: #3B4455;\n",
              "      fill: #D2E3FC;\n",
              "    }\n",
              "\n",
              "    [theme=dark] .colab-df-convert:hover {\n",
              "      background-color: #434B5C;\n",
              "      box-shadow: 0px 1px 3px 1px rgba(0, 0, 0, 0.15);\n",
              "      filter: drop-shadow(0px 1px 2px rgba(0, 0, 0, 0.3));\n",
              "      fill: #FFFFFF;\n",
              "    }\n",
              "  </style>\n",
              "\n",
              "      <script>\n",
              "        const buttonEl =\n",
              "          document.querySelector('#df-55667278-ebaf-4683-ae74-e7666c8eb0f7 button.colab-df-convert');\n",
              "        buttonEl.style.display =\n",
              "          google.colab.kernel.accessAllowed ? 'block' : 'none';\n",
              "\n",
              "        async function convertToInteractive(key) {\n",
              "          const element = document.querySelector('#df-55667278-ebaf-4683-ae74-e7666c8eb0f7');\n",
              "          const dataTable =\n",
              "            await google.colab.kernel.invokeFunction('convertToInteractive',\n",
              "                                                     [key], {});\n",
              "          if (!dataTable) return;\n",
              "\n",
              "          const docLinkHtml = 'Like what you see? Visit the ' +\n",
              "            '<a target=\"_blank\" href=https://colab.research.google.com/notebooks/data_table.ipynb>data table notebook</a>'\n",
              "            + ' to learn more about interactive tables.';\n",
              "          element.innerHTML = '';\n",
              "          dataTable['output_type'] = 'display_data';\n",
              "          await google.colab.output.renderOutput(dataTable, element);\n",
              "          const docLink = document.createElement('div');\n",
              "          docLink.innerHTML = docLinkHtml;\n",
              "          element.appendChild(docLink);\n",
              "        }\n",
              "      </script>\n",
              "    </div>\n",
              "  </div>\n",
              "  "
            ]
          },
          "metadata": {},
          "execution_count": 32
        }
      ]
    },
    {
      "cell_type": "code",
      "source": [
        "df.isna().sum()"
      ],
      "metadata": {
        "colab": {
          "base_uri": "https://localhost:8080/"
        },
        "id": "eb1QJg09x2tg",
        "outputId": "ed99cffc-b3af-4258-bdbe-669b840b21e1"
      },
      "execution_count": 31,
      "outputs": [
        {
          "output_type": "execute_result",
          "data": {
            "text/plain": [
              "Date                                1\n",
              "Ticker                              1\n",
              "Name                                1\n",
              "OS at time of run                   1\n",
              "Estimated float at time of run      1\n",
              "Volume                              1\n",
              "Close                               1\n",
              "High                                1\n",
              "Low                                 1\n",
              "Open                                1\n",
              "Previous close                      1\n",
              "Float value prior to run            1\n",
              "Gap                                 1\n",
              "Market cap prior to run             1\n",
              "Float rotation                      1\n",
              "High / Previous Close               1\n",
              "Possible Dilution at time of run    1\n",
              "Notes                               1\n",
              "Reason for run                      1\n",
              "Sector move                         1\n",
              "dtype: int64"
            ]
          },
          "metadata": {},
          "execution_count": 31
        }
      ]
    },
    {
      "cell_type": "code",
      "source": [
        "df = df.dropna()\n",
        "df.isna().sum()"
      ],
      "metadata": {
        "colab": {
          "base_uri": "https://localhost:8080/"
        },
        "id": "F0jXn1wC3nMn",
        "outputId": "9e017aaa-304e-437d-e831-0946fb52a2f9"
      },
      "execution_count": 35,
      "outputs": [
        {
          "output_type": "execute_result",
          "data": {
            "text/plain": [
              "Date                                0\n",
              "Ticker                              0\n",
              "Name                                0\n",
              "OS at time of run                   0\n",
              "Estimated float at time of run      0\n",
              "Volume                              0\n",
              "Close                               0\n",
              "High                                0\n",
              "Low                                 0\n",
              "Open                                0\n",
              "Previous close                      0\n",
              "Float value prior to run            0\n",
              "Gap                                 0\n",
              "Market cap prior to run             0\n",
              "Float rotation                      0\n",
              "High / Previous Close               0\n",
              "Possible Dilution at time of run    0\n",
              "Notes                               0\n",
              "Reason for run                      0\n",
              "Sector move                         0\n",
              "dtype: int64"
            ]
          },
          "metadata": {},
          "execution_count": 35
        }
      ]
    },
    {
      "cell_type": "code",
      "source": [
        "import numpy as np\n",
        "\n",
        "df.describe(include=(np.number))"
      ],
      "metadata": {
        "colab": {
          "base_uri": "https://localhost:8080/",
          "height": 399
        },
        "id": "8_1zGkerzHfZ",
        "outputId": "c4b14366-9e8b-4709-ce26-8aedca42ad7b"
      },
      "execution_count": 36,
      "outputs": [
        {
          "output_type": "execute_result",
          "data": {
            "text/plain": [
              "       OS at time of run  Estimated float at time of run        Volume  \\\n",
              "count       7.700000e+01                    7.700000e+01  7.700000e+01   \n",
              "mean        1.966829e+07                    1.083394e+07  1.050726e+08   \n",
              "std         2.639576e+07                    2.013690e+07  1.258531e+08   \n",
              "min         5.740000e+05                    2.000000e+05  2.571540e+05   \n",
              "25%         5.130000e+06                    2.369048e+06  2.142636e+07   \n",
              "50%         9.497777e+06                    4.500000e+06  5.264496e+07   \n",
              "75%         2.475918e+07                    1.350000e+07  1.400000e+08   \n",
              "max         1.600000e+08                    1.592809e+08  7.400000e+08   \n",
              "\n",
              "           Close        High        Low       Open  Previous close  \\\n",
              "count  77.000000   77.000000  77.000000  77.000000       77.000000   \n",
              "mean   11.011688   23.022468   4.599940   5.758632        2.483910   \n",
              "std    12.121120   29.394916   4.372242   5.720896        2.210181   \n",
              "min     1.160000    1.570000   0.303500   0.310000        0.276900   \n",
              "25%     3.310000    6.360000   1.510000   1.550000        1.047500   \n",
              "50%     6.250000   12.490000   3.100000   3.670000        1.620200   \n",
              "75%    14.000000   28.990000   6.100000   8.000000        3.190000   \n",
              "max    58.000000  158.070000  20.790000  25.620000       10.000000   \n",
              "\n",
              "       Float value prior to run        Gap  Market cap prior to run  \\\n",
              "count              7.700000e+01  77.000000             7.700000e+01   \n",
              "mean               1.545071e+07   1.443863             4.856235e+07   \n",
              "std                2.613198e+07   1.513677             1.045505e+08   \n",
              "min                9.520000e+05  -0.077670             2.092810e+06   \n",
              "25%                4.380000e+06   0.113800             7.183200e+06   \n",
              "50%                8.077524e+06   1.034100             1.370610e+07   \n",
              "75%                1.532567e+07   2.443900             3.707580e+07   \n",
              "max                1.826200e+08   6.557500             6.888115e+08   \n",
              "\n",
              "       Float rotation  High / Previous Close  \n",
              "count       77.000000              77.000000  \n",
              "mean        18.904662               7.592355  \n",
              "std         18.358295               5.953115  \n",
              "min          0.057145               3.985836  \n",
              "25%          6.173516               4.825243  \n",
              "50%         14.670204               5.774300  \n",
              "75%         23.971460               7.800000  \n",
              "max         84.456857              43.553700  "
            ],
            "text/html": [
              "\n",
              "  <div id=\"df-a0f3cb13-28cd-49f2-b2d8-37058909743c\">\n",
              "    <div class=\"colab-df-container\">\n",
              "      <div>\n",
              "<style scoped>\n",
              "    .dataframe tbody tr th:only-of-type {\n",
              "        vertical-align: middle;\n",
              "    }\n",
              "\n",
              "    .dataframe tbody tr th {\n",
              "        vertical-align: top;\n",
              "    }\n",
              "\n",
              "    .dataframe thead th {\n",
              "        text-align: right;\n",
              "    }\n",
              "</style>\n",
              "<table border=\"1\" class=\"dataframe\">\n",
              "  <thead>\n",
              "    <tr style=\"text-align: right;\">\n",
              "      <th></th>\n",
              "      <th>OS at time of run</th>\n",
              "      <th>Estimated float at time of run</th>\n",
              "      <th>Volume</th>\n",
              "      <th>Close</th>\n",
              "      <th>High</th>\n",
              "      <th>Low</th>\n",
              "      <th>Open</th>\n",
              "      <th>Previous close</th>\n",
              "      <th>Float value prior to run</th>\n",
              "      <th>Gap</th>\n",
              "      <th>Market cap prior to run</th>\n",
              "      <th>Float rotation</th>\n",
              "      <th>High / Previous Close</th>\n",
              "    </tr>\n",
              "  </thead>\n",
              "  <tbody>\n",
              "    <tr>\n",
              "      <th>count</th>\n",
              "      <td>7.700000e+01</td>\n",
              "      <td>7.700000e+01</td>\n",
              "      <td>7.700000e+01</td>\n",
              "      <td>77.000000</td>\n",
              "      <td>77.000000</td>\n",
              "      <td>77.000000</td>\n",
              "      <td>77.000000</td>\n",
              "      <td>77.000000</td>\n",
              "      <td>7.700000e+01</td>\n",
              "      <td>77.000000</td>\n",
              "      <td>7.700000e+01</td>\n",
              "      <td>77.000000</td>\n",
              "      <td>77.000000</td>\n",
              "    </tr>\n",
              "    <tr>\n",
              "      <th>mean</th>\n",
              "      <td>1.966829e+07</td>\n",
              "      <td>1.083394e+07</td>\n",
              "      <td>1.050726e+08</td>\n",
              "      <td>11.011688</td>\n",
              "      <td>23.022468</td>\n",
              "      <td>4.599940</td>\n",
              "      <td>5.758632</td>\n",
              "      <td>2.483910</td>\n",
              "      <td>1.545071e+07</td>\n",
              "      <td>1.443863</td>\n",
              "      <td>4.856235e+07</td>\n",
              "      <td>18.904662</td>\n",
              "      <td>7.592355</td>\n",
              "    </tr>\n",
              "    <tr>\n",
              "      <th>std</th>\n",
              "      <td>2.639576e+07</td>\n",
              "      <td>2.013690e+07</td>\n",
              "      <td>1.258531e+08</td>\n",
              "      <td>12.121120</td>\n",
              "      <td>29.394916</td>\n",
              "      <td>4.372242</td>\n",
              "      <td>5.720896</td>\n",
              "      <td>2.210181</td>\n",
              "      <td>2.613198e+07</td>\n",
              "      <td>1.513677</td>\n",
              "      <td>1.045505e+08</td>\n",
              "      <td>18.358295</td>\n",
              "      <td>5.953115</td>\n",
              "    </tr>\n",
              "    <tr>\n",
              "      <th>min</th>\n",
              "      <td>5.740000e+05</td>\n",
              "      <td>2.000000e+05</td>\n",
              "      <td>2.571540e+05</td>\n",
              "      <td>1.160000</td>\n",
              "      <td>1.570000</td>\n",
              "      <td>0.303500</td>\n",
              "      <td>0.310000</td>\n",
              "      <td>0.276900</td>\n",
              "      <td>9.520000e+05</td>\n",
              "      <td>-0.077670</td>\n",
              "      <td>2.092810e+06</td>\n",
              "      <td>0.057145</td>\n",
              "      <td>3.985836</td>\n",
              "    </tr>\n",
              "    <tr>\n",
              "      <th>25%</th>\n",
              "      <td>5.130000e+06</td>\n",
              "      <td>2.369048e+06</td>\n",
              "      <td>2.142636e+07</td>\n",
              "      <td>3.310000</td>\n",
              "      <td>6.360000</td>\n",
              "      <td>1.510000</td>\n",
              "      <td>1.550000</td>\n",
              "      <td>1.047500</td>\n",
              "      <td>4.380000e+06</td>\n",
              "      <td>0.113800</td>\n",
              "      <td>7.183200e+06</td>\n",
              "      <td>6.173516</td>\n",
              "      <td>4.825243</td>\n",
              "    </tr>\n",
              "    <tr>\n",
              "      <th>50%</th>\n",
              "      <td>9.497777e+06</td>\n",
              "      <td>4.500000e+06</td>\n",
              "      <td>5.264496e+07</td>\n",
              "      <td>6.250000</td>\n",
              "      <td>12.490000</td>\n",
              "      <td>3.100000</td>\n",
              "      <td>3.670000</td>\n",
              "      <td>1.620200</td>\n",
              "      <td>8.077524e+06</td>\n",
              "      <td>1.034100</td>\n",
              "      <td>1.370610e+07</td>\n",
              "      <td>14.670204</td>\n",
              "      <td>5.774300</td>\n",
              "    </tr>\n",
              "    <tr>\n",
              "      <th>75%</th>\n",
              "      <td>2.475918e+07</td>\n",
              "      <td>1.350000e+07</td>\n",
              "      <td>1.400000e+08</td>\n",
              "      <td>14.000000</td>\n",
              "      <td>28.990000</td>\n",
              "      <td>6.100000</td>\n",
              "      <td>8.000000</td>\n",
              "      <td>3.190000</td>\n",
              "      <td>1.532567e+07</td>\n",
              "      <td>2.443900</td>\n",
              "      <td>3.707580e+07</td>\n",
              "      <td>23.971460</td>\n",
              "      <td>7.800000</td>\n",
              "    </tr>\n",
              "    <tr>\n",
              "      <th>max</th>\n",
              "      <td>1.600000e+08</td>\n",
              "      <td>1.592809e+08</td>\n",
              "      <td>7.400000e+08</td>\n",
              "      <td>58.000000</td>\n",
              "      <td>158.070000</td>\n",
              "      <td>20.790000</td>\n",
              "      <td>25.620000</td>\n",
              "      <td>10.000000</td>\n",
              "      <td>1.826200e+08</td>\n",
              "      <td>6.557500</td>\n",
              "      <td>6.888115e+08</td>\n",
              "      <td>84.456857</td>\n",
              "      <td>43.553700</td>\n",
              "    </tr>\n",
              "  </tbody>\n",
              "</table>\n",
              "</div>\n",
              "      <button class=\"colab-df-convert\" onclick=\"convertToInteractive('df-a0f3cb13-28cd-49f2-b2d8-37058909743c')\"\n",
              "              title=\"Convert this dataframe to an interactive table.\"\n",
              "              style=\"display:none;\">\n",
              "        \n",
              "  <svg xmlns=\"http://www.w3.org/2000/svg\" height=\"24px\"viewBox=\"0 0 24 24\"\n",
              "       width=\"24px\">\n",
              "    <path d=\"M0 0h24v24H0V0z\" fill=\"none\"/>\n",
              "    <path d=\"M18.56 5.44l.94 2.06.94-2.06 2.06-.94-2.06-.94-.94-2.06-.94 2.06-2.06.94zm-11 1L8.5 8.5l.94-2.06 2.06-.94-2.06-.94L8.5 2.5l-.94 2.06-2.06.94zm10 10l.94 2.06.94-2.06 2.06-.94-2.06-.94-.94-2.06-.94 2.06-2.06.94z\"/><path d=\"M17.41 7.96l-1.37-1.37c-.4-.4-.92-.59-1.43-.59-.52 0-1.04.2-1.43.59L10.3 9.45l-7.72 7.72c-.78.78-.78 2.05 0 2.83L4 21.41c.39.39.9.59 1.41.59.51 0 1.02-.2 1.41-.59l7.78-7.78 2.81-2.81c.8-.78.8-2.07 0-2.86zM5.41 20L4 18.59l7.72-7.72 1.47 1.35L5.41 20z\"/>\n",
              "  </svg>\n",
              "      </button>\n",
              "      \n",
              "  <style>\n",
              "    .colab-df-container {\n",
              "      display:flex;\n",
              "      flex-wrap:wrap;\n",
              "      gap: 12px;\n",
              "    }\n",
              "\n",
              "    .colab-df-convert {\n",
              "      background-color: #E8F0FE;\n",
              "      border: none;\n",
              "      border-radius: 50%;\n",
              "      cursor: pointer;\n",
              "      display: none;\n",
              "      fill: #1967D2;\n",
              "      height: 32px;\n",
              "      padding: 0 0 0 0;\n",
              "      width: 32px;\n",
              "    }\n",
              "\n",
              "    .colab-df-convert:hover {\n",
              "      background-color: #E2EBFA;\n",
              "      box-shadow: 0px 1px 2px rgba(60, 64, 67, 0.3), 0px 1px 3px 1px rgba(60, 64, 67, 0.15);\n",
              "      fill: #174EA6;\n",
              "    }\n",
              "\n",
              "    [theme=dark] .colab-df-convert {\n",
              "      background-color: #3B4455;\n",
              "      fill: #D2E3FC;\n",
              "    }\n",
              "\n",
              "    [theme=dark] .colab-df-convert:hover {\n",
              "      background-color: #434B5C;\n",
              "      box-shadow: 0px 1px 3px 1px rgba(0, 0, 0, 0.15);\n",
              "      filter: drop-shadow(0px 1px 2px rgba(0, 0, 0, 0.3));\n",
              "      fill: #FFFFFF;\n",
              "    }\n",
              "  </style>\n",
              "\n",
              "      <script>\n",
              "        const buttonEl =\n",
              "          document.querySelector('#df-a0f3cb13-28cd-49f2-b2d8-37058909743c button.colab-df-convert');\n",
              "        buttonEl.style.display =\n",
              "          google.colab.kernel.accessAllowed ? 'block' : 'none';\n",
              "\n",
              "        async function convertToInteractive(key) {\n",
              "          const element = document.querySelector('#df-a0f3cb13-28cd-49f2-b2d8-37058909743c');\n",
              "          const dataTable =\n",
              "            await google.colab.kernel.invokeFunction('convertToInteractive',\n",
              "                                                     [key], {});\n",
              "          if (!dataTable) return;\n",
              "\n",
              "          const docLinkHtml = 'Like what you see? Visit the ' +\n",
              "            '<a target=\"_blank\" href=https://colab.research.google.com/notebooks/data_table.ipynb>data table notebook</a>'\n",
              "            + ' to learn more about interactive tables.';\n",
              "          element.innerHTML = '';\n",
              "          dataTable['output_type'] = 'display_data';\n",
              "          await google.colab.output.renderOutput(dataTable, element);\n",
              "          const docLink = document.createElement('div');\n",
              "          docLink.innerHTML = docLinkHtml;\n",
              "          element.appendChild(docLink);\n",
              "        }\n",
              "      </script>\n",
              "    </div>\n",
              "  </div>\n",
              "  "
            ]
          },
          "metadata": {},
          "execution_count": 36
        }
      ]
    },
    {
      "cell_type": "code",
      "source": [
        "df['High / Previous Close'].hist();"
      ],
      "metadata": {
        "colab": {
          "base_uri": "https://localhost:8080/",
          "height": 265
        },
        "id": "Y1vOa09kzNxs",
        "outputId": "1f9c3d7d-4be6-4734-bc29-16469bcee2e5"
      },
      "execution_count": 37,
      "outputs": [
        {
          "output_type": "display_data",
          "data": {
            "text/plain": [
              "<Figure size 432x288 with 1 Axes>"
            ],
            "image/png": "[encoded data removed]"
          },
          "metadata": {
            "needs_background": "light"
          }
        }
      ]
    },
    {
      "cell_type": "code",
      "source": [
        "df.describe(include=[object])"
      ],
      "metadata": {
        "colab": {
          "base_uri": "https://localhost:8080/",
          "height": 288
        },
        "id": "s5ofCUgczkB8",
        "outputId": "21fdacd0-341b-4164-fd8e-5b9da6d7b24a"
      },
      "execution_count": 26,
      "outputs": [
        {
          "output_type": "execute_result",
          "data": {
            "text/plain": [
              "              Date Ticker                         Name OS at time of run  \\\n",
              "count           77     77                           77                77   \n",
              "unique          68     75                           75                77   \n",
              "top     2020-09-29    NBY  NOVABAY PHARMACEUTICALS INC        14,837,000   \n",
              "freq             3      2                            2                 1   \n",
              "\n",
              "       Estimated float at time of run       Volume High / Previous Close  \\\n",
              "count                              77           77                    77   \n",
              "unique                             75           77                    76   \n",
              "top                            500000  344,000,000               441.67%   \n",
              "freq                                2            1                     2   \n",
              "\n",
              "       Possible Dilution at time of run        Notes Reason for run  \\\n",
              "count                                77           77             77   \n",
              "unique                                4           53             60   \n",
              "top                                  No  No dilution        No news   \n",
              "freq                                 46           22             15   \n",
              "\n",
              "       Sector move  \n",
              "count           77  \n",
              "unique           2  \n",
              "top             No  \n",
              "freq            52  "
            ],
            "text/html": [
              "\n",
              "  <div id=\"df-056550c4-b6f6-459d-b7ab-de8233f94486\">\n",
              "    <div class=\"colab-df-container\">\n",
              "      <div>\n",
              "<style scoped>\n",
              "    .dataframe tbody tr th:only-of-type {\n",
              "        vertical-align: middle;\n",
              "    }\n",
              "\n",
              "    .dataframe tbody tr th {\n",
              "        vertical-align: top;\n",
              "    }\n",
              "\n",
              "    .dataframe thead th {\n",
              "        text-align: right;\n",
              "    }\n",
              "</style>\n",
              "<table border=\"1\" class=\"dataframe\">\n",
              "  <thead>\n",
              "    <tr style=\"text-align: right;\">\n",
              "      <th></th>\n",
              "      <th>Date</th>\n",
              "      <th>Ticker</th>\n",
              "      <th>Name</th>\n",
              "      <th>OS at time of run</th>\n",
              "      <th>Estimated float at time of run</th>\n",
              "      <th>Volume</th>\n",
              "      <th>High / Previous Close</th>\n",
              "      <th>Possible Dilution at time of run</th>\n",
              "      <th>Notes</th>\n",
              "      <th>Reason for run</th>\n",
              "      <th>Sector move</th>\n",
              "    </tr>\n",
              "  </thead>\n",
              "  <tbody>\n",
              "    <tr>\n",
              "      <th>count</th>\n",
              "      <td>77</td>\n",
              "      <td>77</td>\n",
              "      <td>77</td>\n",
              "      <td>77</td>\n",
              "      <td>77</td>\n",
              "      <td>77</td>\n",
              "      <td>77</td>\n",
              "      <td>77</td>\n",
              "      <td>77</td>\n",
              "      <td>77</td>\n",
              "      <td>77</td>\n",
              "    </tr>\n",
              "    <tr>\n",
              "      <th>unique</th>\n",
              "      <td>68</td>\n",
              "      <td>75</td>\n",
              "      <td>75</td>\n",
              "      <td>77</td>\n",
              "      <td>75</td>\n",
              "      <td>77</td>\n",
              "      <td>76</td>\n",
              "      <td>4</td>\n",
              "      <td>53</td>\n",
              "      <td>60</td>\n",
              "      <td>2</td>\n",
              "    </tr>\n",
              "    <tr>\n",
              "      <th>top</th>\n",
              "      <td>2020-09-29</td>\n",
              "      <td>NBY</td>\n",
              "      <td>NOVABAY PHARMACEUTICALS INC</td>\n",
              "      <td>14,837,000</td>\n",
              "      <td>500000</td>\n",
              "      <td>344,000,000</td>\n",
              "      <td>441.67%</td>\n",
              "      <td>No</td>\n",
              "      <td>No dilution</td>\n",
              "      <td>No news</td>\n",
              "      <td>No</td>\n",
              "    </tr>\n",
              "    <tr>\n",
              "      <th>freq</th>\n",
              "      <td>3</td>\n",
              "      <td>2</td>\n",
              "      <td>2</td>\n",
              "      <td>1</td>\n",
              "      <td>2</td>\n",
              "      <td>1</td>\n",
              "      <td>2</td>\n",
              "      <td>46</td>\n",
              "      <td>22</td>\n",
              "      <td>15</td>\n",
              "      <td>52</td>\n",
              "    </tr>\n",
              "  </tbody>\n",
              "</table>\n",
              "</div>\n",
              "      <button class=\"colab-df-convert\" onclick=\"convertToInteractive('df-056550c4-b6f6-459d-b7ab-de8233f94486')\"\n",
              "              title=\"Convert this dataframe to an interactive table.\"\n",
              "              style=\"display:none;\">\n",
              "        \n",
              "  <svg xmlns=\"http://www.w3.org/2000/svg\" height=\"24px\"viewBox=\"0 0 24 24\"\n",
              "       width=\"24px\">\n",
              "    <path d=\"M0 0h24v24H0V0z\" fill=\"none\"/>\n",
              "    <path d=\"M18.56 5.44l.94 2.06.94-2.06 2.06-.94-2.06-.94-.94-2.06-.94 2.06-2.06.94zm-11 1L8.5 8.5l.94-2.06 2.06-.94-2.06-.94L8.5 2.5l-.94 2.06-2.06.94zm10 10l.94 2.06.94-2.06 2.06-.94-2.06-.94-.94-2.06-.94 2.06-2.06.94z\"/><path d=\"M17.41 7.96l-1.37-1.37c-.4-.4-.92-.59-1.43-.59-.52 0-1.04.2-1.43.59L10.3 9.45l-7.72 7.72c-.78.78-.78 2.05 0 2.83L4 21.41c.39.39.9.59 1.41.59.51 0 1.02-.2 1.41-.59l7.78-7.78 2.81-2.81c.8-.78.8-2.07 0-2.86zM5.41 20L4 18.59l7.72-7.72 1.47 1.35L5.41 20z\"/>\n",
              "  </svg>\n",
              "      </button>\n",
              "      \n",
              "  <style>\n",
              "    .colab-df-container {\n",
              "      display:flex;\n",
              "      flex-wrap:wrap;\n",
              "      gap: 12px;\n",
              "    }\n",
              "\n",
              "    .colab-df-convert {\n",
              "      background-color: #E8F0FE;\n",
              "      border: none;\n",
              "      border-radius: 50%;\n",
              "      cursor: pointer;\n",
              "      display: none;\n",
              "      fill: #1967D2;\n",
              "      height: 32px;\n",
              "      padding: 0 0 0 0;\n",
              "      width: 32px;\n",
              "    }\n",
              "\n",
              "    .colab-df-convert:hover {\n",
              "      background-color: #E2EBFA;\n",
              "      box-shadow: 0px 1px 2px rgba(60, 64, 67, 0.3), 0px 1px 3px 1px rgba(60, 64, 67, 0.15);\n",
              "      fill: #174EA6;\n",
              "    }\n",
              "\n",
              "    [theme=dark] .colab-df-convert {\n",
              "      background-color: #3B4455;\n",
              "      fill: #D2E3FC;\n",
              "    }\n",
              "\n",
              "    [theme=dark] .colab-df-convert:hover {\n",
              "      background-color: #434B5C;\n",
              "      box-shadow: 0px 1px 3px 1px rgba(0, 0, 0, 0.15);\n",
              "      filter: drop-shadow(0px 1px 2px rgba(0, 0, 0, 0.3));\n",
              "      fill: #FFFFFF;\n",
              "    }\n",
              "  </style>\n",
              "\n",
              "      <script>\n",
              "        const buttonEl =\n",
              "          document.querySelector('#df-056550c4-b6f6-459d-b7ab-de8233f94486 button.colab-df-convert');\n",
              "        buttonEl.style.display =\n",
              "          google.colab.kernel.accessAllowed ? 'block' : 'none';\n",
              "\n",
              "        async function convertToInteractive(key) {\n",
              "          const element = document.querySelector('#df-056550c4-b6f6-459d-b7ab-de8233f94486');\n",
              "          const dataTable =\n",
              "            await google.colab.kernel.invokeFunction('convertToInteractive',\n",
              "                                                     [key], {});\n",
              "          if (!dataTable) return;\n",
              "\n",
              "          const docLinkHtml = 'Like what you see? Visit the ' +\n",
              "            '<a target=\"_blank\" href=https://colab.research.google.com/notebooks/data_table.ipynb>data table notebook</a>'\n",
              "            + ' to learn more about interactive tables.';\n",
              "          element.innerHTML = '';\n",
              "          dataTable['output_type'] = 'display_data';\n",
              "          await google.colab.output.renderOutput(dataTable, element);\n",
              "          const docLink = document.createElement('div');\n",
              "          docLink.innerHTML = docLinkHtml;\n",
              "          element.appendChild(docLink);\n",
              "        }\n",
              "      </script>\n",
              "    </div>\n",
              "  </div>\n",
              "  "
            ]
          },
          "metadata": {},
          "execution_count": 26
        }
      ]
    },
    {
      "cell_type": "code",
      "source": [
        "df.columns"
      ],
      "metadata": {
        "colab": {
          "base_uri": "https://localhost:8080/"
        },
        "id": "lZMvK-3O2ULQ",
        "outputId": "7cce60c5-f60e-4030-9064-4848f1f0dbef"
      },
      "execution_count": 38,
      "outputs": [
        {
          "output_type": "execute_result",
          "data": {
            "text/plain": [
              "Index(['Date', 'Ticker', 'Name', 'OS at time of run',\n",
              "       'Estimated float at time of run', 'Volume', 'Close', 'High', 'Low',\n",
              "       'Open', 'Previous close', 'Float value prior to run', 'Gap',\n",
              "       'Market cap prior to run', 'Float rotation', 'High / Previous Close',\n",
              "       'Possible Dilution at time of run', 'Notes', 'Reason for run',\n",
              "       'Sector move'],\n",
              "      dtype='object')"
            ]
          },
          "metadata": {},
          "execution_count": 38
        }
      ]
    },
    {
      "cell_type": "code",
      "source": [
        "def dilution(x):\n",
        "  if x == 'No dilution':\n",
        "    return 0\n",
        "  else:\n",
        "    return 1\n",
        "df['Notes'] = df['Notes'].apply(dilution)"
      ],
      "metadata": {
        "id": "9da5tWyg2lEU"
      },
      "execution_count": 47,
      "outputs": []
    },
    {
      "cell_type": "code",
      "source": [
        "df['Notes']"
      ],
      "metadata": {
        "colab": {
          "base_uri": "https://localhost:8080/"
        },
        "id": "M7I61Ss65IxZ",
        "outputId": "c6548634-46db-4add-8a93-9d22704fb8c7"
      },
      "execution_count": 48,
      "outputs": [
        {
          "output_type": "execute_result",
          "data": {
            "text/plain": [
              "0     1\n",
              "1     1\n",
              "2     1\n",
              "3     0\n",
              "4     0\n",
              "     ..\n",
              "72    1\n",
              "73    1\n",
              "74    1\n",
              "75    1\n",
              "76    0\n",
              "Name: Notes, Length: 77, dtype: int64"
            ]
          },
          "metadata": {},
          "execution_count": 48
        }
      ]
    },
    {
      "cell_type": "code",
      "source": [
        "df['Sector move'].replace(['No', 'Yes'], [0,1], inplace=True)\n",
        "df['Possible Dilution at time of run'].replace(['No', 'Low', 'Medium', 'High'], [0,1,2,3], inplace=True)"
      ],
      "metadata": {
        "id": "ssCV8-Sa5QL7"
      },
      "execution_count": 79,
      "outputs": []
    },
    {
      "cell_type": "code",
      "source": [
        "df['Sector move']"
      ],
      "metadata": {
        "colab": {
          "base_uri": "https://localhost:8080/"
        },
        "id": "AFEPrcKC8Nr5",
        "outputId": "715bf190-4797-4c64-dbb8-f6238439b71b"
      },
      "execution_count": 80,
      "outputs": [
        {
          "output_type": "execute_result",
          "data": {
            "text/plain": [
              "0     1\n",
              "1     0\n",
              "2     0\n",
              "3     0\n",
              "4     0\n",
              "     ..\n",
              "72    1\n",
              "73    0\n",
              "74    1\n",
              "75    0\n",
              "76    0\n",
              "Name: Sector move, Length: 77, dtype: int64"
            ]
          },
          "metadata": {},
          "execution_count": 80
        }
      ]
    },
    {
      "cell_type": "code",
      "source": [
        "def reason(x):\n",
        "  if x == 'No news':\n",
        "    return 0\n",
        "  else:\n",
        "    return 1\n",
        "df['Reason for run'] = df['Reason for run'].apply(reason)"
      ],
      "metadata": {
        "id": "26BKaQkR8PR6"
      },
      "execution_count": 81,
      "outputs": []
    },
    {
      "cell_type": "code",
      "source": [
        "df.head()"
      ],
      "metadata": {
        "colab": {
          "base_uri": "https://localhost:8080/",
          "height": 322
        },
        "id": "DlEyXqoj8lCS",
        "outputId": "8db07e14-88e8-4743-bdaa-1351d81ddcdb"
      },
      "execution_count": 82,
      "outputs": [
        {
          "output_type": "execute_result",
          "data": {
            "text/plain": [
              "   OS at time of run  Estimated float at time of run       Volume  Close    High    Low   Open  Previous close  Float value prior to run  \\\n",
              "0         14837000.0                       7000000.0  344000000.0  14.00   46.67   3.30   3.54          1.0475                7332500.00   \n",
              "1         12020000.0                       2946264.0   19193188.0  57.10  158.07  12.15  16.07          5.1987               15316742.66   \n",
              "2          1200000.0                        200000.0     361118.0  34.69  134.00   4.99   4.99          4.7600                 952000.00   \n",
              "3         34900000.0                       3966146.0    7942404.0  21.00   77.77   4.97   5.25          5.2300               20742943.58   \n",
              "4         32980000.0                      14840000.0  316000000.0  14.30   19.75   3.45   3.67          1.3600               20182400.00   \n",
              "\n",
              "        Gap  Market cap prior to run  Float rotation  High / Previous Close  Possible Dilution at time of run  Notes  Reason for run  \\\n",
              "0  2.379500               15541757.5       49.142857              43.553700                                 0      1               1   \n",
              "1  2.091157               62488374.0        6.514416              29.405678                                 0      1               1   \n",
              "2  0.048319                5712000.0        1.805590              27.151260                                 0      1               1   \n",
              "3  0.003824              182527000.0        2.002550              13.869981                                 0      0               1   \n",
              "4  1.698529               44852800.0       21.293801              13.522059                                 0      0               1   \n",
              "\n",
              "   Sector move  \n",
              "0            1  \n",
              "1            0  \n",
              "2            0  \n",
              "3            0  \n",
              "4            0  "
            ],
            "text/html": [
              "\n",
              "  <div id=\"df-4edbb1a2-fea1-4a3d-b92f-0c7babdc3fde\">\n",
              "    <div class=\"colab-df-container\">\n",
              "      <div>\n",
              "<style scoped>\n",
              "    .dataframe tbody tr th:only-of-type {\n",
              "        vertical-align: middle;\n",
              "    }\n",
              "\n",
              "    .dataframe tbody tr th {\n",
              "        vertical-align: top;\n",
              "    }\n",
              "\n",
              "    .dataframe thead th {\n",
              "        text-align: right;\n",
              "    }\n",
              "</style>\n",
              "<table border=\"1\" class=\"dataframe\">\n",
              "  <thead>\n",
              "    <tr style=\"text-align: right;\">\n",
              "      <th></th>\n",
              "      <th>OS at time of run</th>\n",
              "      <th>Estimated float at time of run</th>\n",
              "      <th>Volume</th>\n",
              "      <th>Close</th>\n",
              "      <th>High</th>\n",
              "      <th>Low</th>\n",
              "      <th>Open</th>\n",
              "      <th>Previous close</th>\n",
              "      <th>Float value prior to run</th>\n",
              "      <th>Gap</th>\n",
              "      <th>Market cap prior to run</th>\n",
              "      <th>Float rotation</th>\n",
              "      <th>High / Previous Close</th>\n",
              "      <th>Possible Dilution at time of run</th>\n",
              "      <th>Notes</th>\n",
              "      <th>Reason for run</th>\n",
              "      <th>Sector move</th>\n",
              "    </tr>\n",
              "  </thead>\n",
              "  <tbody>\n",
              "    <tr>\n",
              "      <th>0</th>\n",
              "      <td>14837000.0</td>\n",
              "      <td>7000000.0</td>\n",
              "      <td>344000000.0</td>\n",
              "      <td>14.00</td>\n",
              "      <td>46.67</td>\n",
              "      <td>3.30</td>\n",
              "      <td>3.54</td>\n",
              "      <td>1.0475</td>\n",
              "      <td>7332500.00</td>\n",
              "      <td>2.379500</td>\n",
              "      <td>15541757.5</td>\n",
              "      <td>49.142857</td>\n",
              "      <td>43.553700</td>\n",
              "      <td>0</td>\n",
              "      <td>1</td>\n",
              "      <td>1</td>\n",
              "      <td>1</td>\n",
              "    </tr>\n",
              "    <tr>\n",
              "      <th>1</th>\n",
              "      <td>12020000.0</td>\n",
              "      <td>2946264.0</td>\n",
              "      <td>19193188.0</td>\n",
              "      <td>57.10</td>\n",
              "      <td>158.07</td>\n",
              "      <td>12.15</td>\n",
              "      <td>16.07</td>\n",
              "      <td>5.1987</td>\n",
              "      <td>15316742.66</td>\n",
              "      <td>2.091157</td>\n",
              "      <td>62488374.0</td>\n",
              "      <td>6.514416</td>\n",
              "      <td>29.405678</td>\n",
              "      <td>0</td>\n",
              "      <td>1</td>\n",
              "      <td>1</td>\n",
              "      <td>0</td>\n",
              "    </tr>\n",
              "    <tr>\n",
              "      <th>2</th>\n",
              "      <td>1200000.0</td>\n",
              "      <td>200000.0</td>\n",
              "      <td>361118.0</td>\n",
              "      <td>34.69</td>\n",
              "      <td>134.00</td>\n",
              "      <td>4.99</td>\n",
              "      <td>4.99</td>\n",
              "      <td>4.7600</td>\n",
              "      <td>952000.00</td>\n",
              "      <td>0.048319</td>\n",
              "      <td>5712000.0</td>\n",
              "      <td>1.805590</td>\n",
              "      <td>27.151260</td>\n",
              "      <td>0</td>\n",
              "      <td>1</td>\n",
              "      <td>1</td>\n",
              "      <td>0</td>\n",
              "    </tr>\n",
              "    <tr>\n",
              "      <th>3</th>\n",
              "      <td>34900000.0</td>\n",
              "      <td>3966146.0</td>\n",
              "      <td>7942404.0</td>\n",
              "      <td>21.00</td>\n",
              "      <td>77.77</td>\n",
              "      <td>4.97</td>\n",
              "      <td>5.25</td>\n",
              "      <td>5.2300</td>\n",
              "      <td>20742943.58</td>\n",
              "      <td>0.003824</td>\n",
              "      <td>182527000.0</td>\n",
              "      <td>2.002550</td>\n",
              "      <td>13.869981</td>\n",
              "      <td>0</td>\n",
              "      <td>0</td>\n",
              "      <td>1</td>\n",
              "      <td>0</td>\n",
              "    </tr>\n",
              "    <tr>\n",
              "      <th>4</th>\n",
              "      <td>32980000.0</td>\n",
              "      <td>14840000.0</td>\n",
              "      <td>316000000.0</td>\n",
              "      <td>14.30</td>\n",
              "      <td>19.75</td>\n",
              "      <td>3.45</td>\n",
              "      <td>3.67</td>\n",
              "      <td>1.3600</td>\n",
              "      <td>20182400.00</td>\n",
              "      <td>1.698529</td>\n",
              "      <td>44852800.0</td>\n",
              "      <td>21.293801</td>\n",
              "      <td>13.522059</td>\n",
              "      <td>0</td>\n",
              "      <td>0</td>\n",
              "      <td>1</td>\n",
              "      <td>0</td>\n",
              "    </tr>\n",
              "  </tbody>\n",
              "</table>\n",
              "</div>\n",
              "      <button class=\"colab-df-convert\" onclick=\"convertToInteractive('df-4edbb1a2-fea1-4a3d-b92f-0c7babdc3fde')\"\n",
              "              title=\"Convert this dataframe to an interactive table.\"\n",
              "              style=\"display:none;\">\n",
              "        \n",
              "  <svg xmlns=\"http://www.w3.org/2000/svg\" height=\"24px\"viewBox=\"0 0 24 24\"\n",
              "       width=\"24px\">\n",
              "    <path d=\"M0 0h24v24H0V0z\" fill=\"none\"/>\n",
              "    <path d=\"M18.56 5.44l.94 2.06.94-2.06 2.06-.94-2.06-.94-.94-2.06-.94 2.06-2.06.94zm-11 1L8.5 8.5l.94-2.06 2.06-.94-2.06-.94L8.5 2.5l-.94 2.06-2.06.94zm10 10l.94 2.06.94-2.06 2.06-.94-2.06-.94-.94-2.06-.94 2.06-2.06.94z\"/><path d=\"M17.41 7.96l-1.37-1.37c-.4-.4-.92-.59-1.43-.59-.52 0-1.04.2-1.43.59L10.3 9.45l-7.72 7.72c-.78.78-.78 2.05 0 2.83L4 21.41c.39.39.9.59 1.41.59.51 0 1.02-.2 1.41-.59l7.78-7.78 2.81-2.81c.8-.78.8-2.07 0-2.86zM5.41 20L4 18.59l7.72-7.72 1.47 1.35L5.41 20z\"/>\n",
              "  </svg>\n",
              "      </button>\n",
              "      \n",
              "  <style>\n",
              "    .colab-df-container {\n",
              "      display:flex;\n",
              "      flex-wrap:wrap;\n",
              "      gap: 12px;\n",
              "    }\n",
              "\n",
              "    .colab-df-convert {\n",
              "      background-color: #E8F0FE;\n",
              "      border: none;\n",
              "      border-radius: 50%;\n",
              "      cursor: pointer;\n",
              "      display: none;\n",
              "      fill: #1967D2;\n",
              "      height: 32px;\n",
              "      padding: 0 0 0 0;\n",
              "      width: 32px;\n",
              "    }\n",
              "\n",
              "    .colab-df-convert:hover {\n",
              "      background-color: #E2EBFA;\n",
              "      box-shadow: 0px 1px 2px rgba(60, 64, 67, 0.3), 0px 1px 3px 1px rgba(60, 64, 67, 0.15);\n",
              "      fill: #174EA6;\n",
              "    }\n",
              "\n",
              "    [theme=dark] .colab-df-convert {\n",
              "      background-color: #3B4455;\n",
              "      fill: #D2E3FC;\n",
              "    }\n",
              "\n",
              "    [theme=dark] .colab-df-convert:hover {\n",
              "      background-color: #434B5C;\n",
              "      box-shadow: 0px 1px 3px 1px rgba(0, 0, 0, 0.15);\n",
              "      filter: drop-shadow(0px 1px 2px rgba(0, 0, 0, 0.3));\n",
              "      fill: #FFFFFF;\n",
              "    }\n",
              "  </style>\n",
              "\n",
              "      <script>\n",
              "        const buttonEl =\n",
              "          document.querySelector('#df-4edbb1a2-fea1-4a3d-b92f-0c7babdc3fde button.colab-df-convert');\n",
              "        buttonEl.style.display =\n",
              "          google.colab.kernel.accessAllowed ? 'block' : 'none';\n",
              "\n",
              "        async function convertToInteractive(key) {\n",
              "          const element = document.querySelector('#df-4edbb1a2-fea1-4a3d-b92f-0c7babdc3fde');\n",
              "          const dataTable =\n",
              "            await google.colab.kernel.invokeFunction('convertToInteractive',\n",
              "                                                     [key], {});\n",
              "          if (!dataTable) return;\n",
              "\n",
              "          const docLinkHtml = 'Like what you see? Visit the ' +\n",
              "            '<a target=\"_blank\" href=https://colab.research.google.com/notebooks/data_table.ipynb>data table notebook</a>'\n",
              "            + ' to learn more about interactive tables.';\n",
              "          element.innerHTML = '';\n",
              "          dataTable['output_type'] = 'display_data';\n",
              "          await google.colab.output.renderOutput(dataTable, element);\n",
              "          const docLink = document.createElement('div');\n",
              "          docLink.innerHTML = docLinkHtml;\n",
              "          element.appendChild(docLink);\n",
              "        }\n",
              "      </script>\n",
              "    </div>\n",
              "  </div>\n",
              "  "
            ]
          },
          "metadata": {},
          "execution_count": 82
        }
      ]
    },
    {
      "cell_type": "code",
      "source": [
        "df.drop(['Date', 'Ticker', 'Name'], axis=1, inplace=True)"
      ],
      "metadata": {
        "colab": {
          "base_uri": "https://localhost:8080/",
          "height": 325
        },
        "id": "NrXOsh6V8mLr",
        "outputId": "a74b2ac0-6b88-47f1-d9a5-1da542f9ea45"
      },
      "execution_count": 83,
      "outputs": [
        {
          "output_type": "error",
          "ename": "KeyError",
          "evalue": "ignored",
          "traceback": [
            "\u001b[0;31m---------------------------------------------------------------------------\u001b[0m",
            "\u001b[0;31mKeyError\u001b[0m                                  Traceback (most recent call last)",
            "\u001b[0;32m<ipython-input-83-74a42a9dc9b9>\u001b[0m in \u001b[0;36m<module>\u001b[0;34m\u001b[0m\n\u001b[0;32m----> 1\u001b[0;31m \u001b[0mdf\u001b[0m\u001b[0;34m.\u001b[0m\u001b[0mdrop\u001b[0m\u001b[0;34m(\u001b[0m\u001b[0;34m[\u001b[0m\u001b[0;34m'Date'\u001b[0m\u001b[0;34m,\u001b[0m \u001b[0;34m'Ticker'\u001b[0m\u001b[0;34m,\u001b[0m \u001b[0;34m'Name'\u001b[0m\u001b[0;34m]\u001b[0m\u001b[0;34m,\u001b[0m \u001b[0maxis\u001b[0m\u001b[0;34m=\u001b[0m\u001b[0;36m1\u001b[0m\u001b[0;34m,\u001b[0m \u001b[0minplace\u001b[0m\u001b[0;34m=\u001b[0m\u001b[0;32mTrue\u001b[0m\u001b[0;34m)\u001b[0m\u001b[0;34m\u001b[0m\u001b[0;34m\u001b[0m\u001b[0m\n\u001b[0m",
            "\u001b[0;32m/usr/local/lib/python3.7/dist-packages/pandas/util/_decorators.py\u001b[0m in \u001b[0;36mwrapper\u001b[0;34m(*args, **kwargs)\u001b[0m\n\u001b[1;32m    309\u001b[0m                     \u001b[0mstacklevel\u001b[0m\u001b[0;34m=\u001b[0m\u001b[0mstacklevel\u001b[0m\u001b[0;34m,\u001b[0m\u001b[0;34m\u001b[0m\u001b[0;34m\u001b[0m\u001b[0m\n\u001b[1;32m    310\u001b[0m                 )\n\u001b[0;32m--> 311\u001b[0;31m             \u001b[0;32mreturn\u001b[0m \u001b[0mfunc\u001b[0m\u001b[0;34m(\u001b[0m\u001b[0;34m*\u001b[0m\u001b[0margs\u001b[0m\u001b[0;34m,\u001b[0m \u001b[0;34m**\u001b[0m\u001b[0mkwargs\u001b[0m\u001b[0;34m)\u001b[0m\u001b[0;34m\u001b[0m\u001b[0;34m\u001b[0m\u001b[0m\n\u001b[0m\u001b[1;32m    312\u001b[0m \u001b[0;34m\u001b[0m\u001b[0m\n\u001b[1;32m    313\u001b[0m         \u001b[0;32mreturn\u001b[0m \u001b[0mwrapper\u001b[0m\u001b[0;34m\u001b[0m\u001b[0;34m\u001b[0m\u001b[0m\n",
            "\u001b[0;32m/usr/local/lib/python3.7/dist-packages/pandas/core/frame.py\u001b[0m in \u001b[0;36mdrop\u001b[0;34m(self, labels, axis, index, columns, level, inplace, errors)\u001b[0m\n\u001b[1;32m   4911\u001b[0m             \u001b[0mlevel\u001b[0m\u001b[0;34m=\u001b[0m\u001b[0mlevel\u001b[0m\u001b[0;34m,\u001b[0m\u001b[0;34m\u001b[0m\u001b[0;34m\u001b[0m\u001b[0m\n\u001b[1;32m   4912\u001b[0m             \u001b[0minplace\u001b[0m\u001b[0;34m=\u001b[0m\u001b[0minplace\u001b[0m\u001b[0;34m,\u001b[0m\u001b[0;34m\u001b[0m\u001b[0;34m\u001b[0m\u001b[0m\n\u001b[0;32m-> 4913\u001b[0;31m             \u001b[0merrors\u001b[0m\u001b[0;34m=\u001b[0m\u001b[0merrors\u001b[0m\u001b[0;34m,\u001b[0m\u001b[0;34m\u001b[0m\u001b[0;34m\u001b[0m\u001b[0m\n\u001b[0m\u001b[1;32m   4914\u001b[0m         )\n\u001b[1;32m   4915\u001b[0m \u001b[0;34m\u001b[0m\u001b[0m\n",
            "\u001b[0;32m/usr/local/lib/python3.7/dist-packages/pandas/core/generic.py\u001b[0m in \u001b[0;36mdrop\u001b[0;34m(self, labels, axis, index, columns, level, inplace, errors)\u001b[0m\n\u001b[1;32m   4148\u001b[0m         \u001b[0;32mfor\u001b[0m \u001b[0maxis\u001b[0m\u001b[0;34m,\u001b[0m \u001b[0mlabels\u001b[0m \u001b[0;32min\u001b[0m \u001b[0maxes\u001b[0m\u001b[0;34m.\u001b[0m\u001b[0mitems\u001b[0m\u001b[0;34m(\u001b[0m\u001b[0;34m)\u001b[0m\u001b[0;34m:\u001b[0m\u001b[0;34m\u001b[0m\u001b[0;34m\u001b[0m\u001b[0m\n\u001b[1;32m   4149\u001b[0m             \u001b[0;32mif\u001b[0m \u001b[0mlabels\u001b[0m \u001b[0;32mis\u001b[0m \u001b[0;32mnot\u001b[0m \u001b[0;32mNone\u001b[0m\u001b[0;34m:\u001b[0m\u001b[0;34m\u001b[0m\u001b[0;34m\u001b[0m\u001b[0m\n\u001b[0;32m-> 4150\u001b[0;31m                 \u001b[0mobj\u001b[0m \u001b[0;34m=\u001b[0m \u001b[0mobj\u001b[0m\u001b[0;34m.\u001b[0m\u001b[0m_drop_axis\u001b[0m\u001b[0;34m(\u001b[0m\u001b[0mlabels\u001b[0m\u001b[0;34m,\u001b[0m \u001b[0maxis\u001b[0m\u001b[0;34m,\u001b[0m \u001b[0mlevel\u001b[0m\u001b[0;34m=\u001b[0m\u001b[0mlevel\u001b[0m\u001b[0;34m,\u001b[0m \u001b[0merrors\u001b[0m\u001b[0;34m=\u001b[0m\u001b[0merrors\u001b[0m\u001b[0;34m)\u001b[0m\u001b[0;34m\u001b[0m\u001b[0;34m\u001b[0m\u001b[0m\n\u001b[0m\u001b[1;32m   4151\u001b[0m \u001b[0;34m\u001b[0m\u001b[0m\n\u001b[1;32m   4152\u001b[0m         \u001b[0;32mif\u001b[0m \u001b[0minplace\u001b[0m\u001b[0;34m:\u001b[0m\u001b[0;34m\u001b[0m\u001b[0;34m\u001b[0m\u001b[0m\n",
            "\u001b[0;32m/usr/local/lib/python3.7/dist-packages/pandas/core/generic.py\u001b[0m in \u001b[0;36m_drop_axis\u001b[0;34m(self, labels, axis, level, errors)\u001b[0m\n\u001b[1;32m   4183\u001b[0m                 \u001b[0mnew_axis\u001b[0m \u001b[0;34m=\u001b[0m \u001b[0maxis\u001b[0m\u001b[0;34m.\u001b[0m\u001b[0mdrop\u001b[0m\u001b[0;34m(\u001b[0m\u001b[0mlabels\u001b[0m\u001b[0;34m,\u001b[0m \u001b[0mlevel\u001b[0m\u001b[0;34m=\u001b[0m\u001b[0mlevel\u001b[0m\u001b[0;34m,\u001b[0m \u001b[0merrors\u001b[0m\u001b[0;34m=\u001b[0m\u001b[0merrors\u001b[0m\u001b[0;34m)\u001b[0m\u001b[0;34m\u001b[0m\u001b[0;34m\u001b[0m\u001b[0m\n\u001b[1;32m   4184\u001b[0m             \u001b[0;32melse\u001b[0m\u001b[0;34m:\u001b[0m\u001b[0;34m\u001b[0m\u001b[0;34m\u001b[0m\u001b[0m\n\u001b[0;32m-> 4185\u001b[0;31m                 \u001b[0mnew_axis\u001b[0m \u001b[0;34m=\u001b[0m \u001b[0maxis\u001b[0m\u001b[0;34m.\u001b[0m\u001b[0mdrop\u001b[0m\u001b[0;34m(\u001b[0m\u001b[0mlabels\u001b[0m\u001b[0;34m,\u001b[0m \u001b[0merrors\u001b[0m\u001b[0;34m=\u001b[0m\u001b[0merrors\u001b[0m\u001b[0;34m)\u001b[0m\u001b[0;34m\u001b[0m\u001b[0;34m\u001b[0m\u001b[0m\n\u001b[0m\u001b[1;32m   4186\u001b[0m             \u001b[0mresult\u001b[0m \u001b[0;34m=\u001b[0m \u001b[0mself\u001b[0m\u001b[0;34m.\u001b[0m\u001b[0mreindex\u001b[0m\u001b[0;34m(\u001b[0m\u001b[0;34m**\u001b[0m\u001b[0;34m{\u001b[0m\u001b[0maxis_name\u001b[0m\u001b[0;34m:\u001b[0m \u001b[0mnew_axis\u001b[0m\u001b[0;34m}\u001b[0m\u001b[0;34m)\u001b[0m\u001b[0;34m\u001b[0m\u001b[0;34m\u001b[0m\u001b[0m\n\u001b[1;32m   4187\u001b[0m \u001b[0;34m\u001b[0m\u001b[0m\n",
            "\u001b[0;32m/usr/local/lib/python3.7/dist-packages/pandas/core/indexes/base.py\u001b[0m in \u001b[0;36mdrop\u001b[0;34m(self, labels, errors)\u001b[0m\n\u001b[1;32m   6015\u001b[0m         \u001b[0;32mif\u001b[0m \u001b[0mmask\u001b[0m\u001b[0;34m.\u001b[0m\u001b[0many\u001b[0m\u001b[0;34m(\u001b[0m\u001b[0;34m)\u001b[0m\u001b[0;34m:\u001b[0m\u001b[0;34m\u001b[0m\u001b[0;34m\u001b[0m\u001b[0m\n\u001b[1;32m   6016\u001b[0m             \u001b[0;32mif\u001b[0m \u001b[0merrors\u001b[0m \u001b[0;34m!=\u001b[0m \u001b[0;34m\"ignore\"\u001b[0m\u001b[0;34m:\u001b[0m\u001b[0;34m\u001b[0m\u001b[0;34m\u001b[0m\u001b[0m\n\u001b[0;32m-> 6017\u001b[0;31m                 \u001b[0;32mraise\u001b[0m \u001b[0mKeyError\u001b[0m\u001b[0;34m(\u001b[0m\u001b[0;34mf\"{labels[mask]} not found in axis\"\u001b[0m\u001b[0;34m)\u001b[0m\u001b[0;34m\u001b[0m\u001b[0;34m\u001b[0m\u001b[0m\n\u001b[0m\u001b[1;32m   6018\u001b[0m             \u001b[0mindexer\u001b[0m \u001b[0;34m=\u001b[0m \u001b[0mindexer\u001b[0m\u001b[0;34m[\u001b[0m\u001b[0;34m~\u001b[0m\u001b[0mmask\u001b[0m\u001b[0;34m]\u001b[0m\u001b[0;34m\u001b[0m\u001b[0;34m\u001b[0m\u001b[0m\n\u001b[1;32m   6019\u001b[0m         \u001b[0;32mreturn\u001b[0m \u001b[0mself\u001b[0m\u001b[0;34m.\u001b[0m\u001b[0mdelete\u001b[0m\u001b[0;34m(\u001b[0m\u001b[0mindexer\u001b[0m\u001b[0;34m)\u001b[0m\u001b[0;34m\u001b[0m\u001b[0;34m\u001b[0m\u001b[0m\n",
            "\u001b[0;31mKeyError\u001b[0m: \"['Date' 'Ticker' 'Name'] not found in axis\""
          ]
        }
      ]
    },
    {
      "cell_type": "code",
      "source": [
        "df.head()"
      ],
      "metadata": {
        "colab": {
          "base_uri": "https://localhost:8080/",
          "height": 322
        },
        "id": "WJtVAIVL9LsT",
        "outputId": "ca6d654c-abcf-4ce5-de28-bf1e0533b74f"
      },
      "execution_count": 84,
      "outputs": [
        {
          "output_type": "execute_result",
          "data": {
            "text/plain": [
              "   OS at time of run  Estimated float at time of run       Volume  Close    High    Low   Open  Previous close  Float value prior to run  \\\n",
              "0         14837000.0                       7000000.0  344000000.0  14.00   46.67   3.30   3.54          1.0475                7332500.00   \n",
              "1         12020000.0                       2946264.0   19193188.0  57.10  158.07  12.15  16.07          5.1987               15316742.66   \n",
              "2          1200000.0                        200000.0     361118.0  34.69  134.00   4.99   4.99          4.7600                 952000.00   \n",
              "3         34900000.0                       3966146.0    7942404.0  21.00   77.77   4.97   5.25          5.2300               20742943.58   \n",
              "4         32980000.0                      14840000.0  316000000.0  14.30   19.75   3.45   3.67          1.3600               20182400.00   \n",
              "\n",
              "        Gap  Market cap prior to run  Float rotation  High / Previous Close  Possible Dilution at time of run  Notes  Reason for run  \\\n",
              "0  2.379500               15541757.5       49.142857              43.553700                                 0      1               1   \n",
              "1  2.091157               62488374.0        6.514416              29.405678                                 0      1               1   \n",
              "2  0.048319                5712000.0        1.805590              27.151260                                 0      1               1   \n",
              "3  0.003824              182527000.0        2.002550              13.869981                                 0      0               1   \n",
              "4  1.698529               44852800.0       21.293801              13.522059                                 0      0               1   \n",
              "\n",
              "   Sector move  \n",
              "0            1  \n",
              "1            0  \n",
              "2            0  \n",
              "3            0  \n",
              "4            0  "
            ],
            "text/html": [
              "\n",
              "  <div id=\"df-32d8b809-fc1e-4aa5-aeff-ada806ee6502\">\n",
              "    <div class=\"colab-df-container\">\n",
              "      <div>\n",
              "<style scoped>\n",
              "    .dataframe tbody tr th:only-of-type {\n",
              "        vertical-align: middle;\n",
              "    }\n",
              "\n",
              "    .dataframe tbody tr th {\n",
              "        vertical-align: top;\n",
              "    }\n",
              "\n",
              "    .dataframe thead th {\n",
              "        text-align: right;\n",
              "    }\n",
              "</style>\n",
              "<table border=\"1\" class=\"dataframe\">\n",
              "  <thead>\n",
              "    <tr style=\"text-align: right;\">\n",
              "      <th></th>\n",
              "      <th>OS at time of run</th>\n",
              "      <th>Estimated float at time of run</th>\n",
              "      <th>Volume</th>\n",
              "      <th>Close</th>\n",
              "      <th>High</th>\n",
              "      <th>Low</th>\n",
              "      <th>Open</th>\n",
              "      <th>Previous close</th>\n",
              "      <th>Float value prior to run</th>\n",
              "      <th>Gap</th>\n",
              "      <th>Market cap prior to run</th>\n",
              "      <th>Float rotation</th>\n",
              "      <th>High / Previous Close</th>\n",
              "      <th>Possible Dilution at time of run</th>\n",
              "      <th>Notes</th>\n",
              "      <th>Reason for run</th>\n",
              "      <th>Sector move</th>\n",
              "    </tr>\n",
              "  </thead>\n",
              "  <tbody>\n",
              "    <tr>\n",
              "      <th>0</th>\n",
              "      <td>14837000.0</td>\n",
              "      <td>7000000.0</td>\n",
              "      <td>344000000.0</td>\n",
              "      <td>14.00</td>\n",
              "      <td>46.67</td>\n",
              "      <td>3.30</td>\n",
              "      <td>3.54</td>\n",
              "      <td>1.0475</td>\n",
              "      <td>7332500.00</td>\n",
              "      <td>2.379500</td>\n",
              "      <td>15541757.5</td>\n",
              "      <td>49.142857</td>\n",
              "      <td>43.553700</td>\n",
              "      <td>0</td>\n",
              "      <td>1</td>\n",
              "      <td>1</td>\n",
              "      <td>1</td>\n",
              "    </tr>\n",
              "    <tr>\n",
              "      <th>1</th>\n",
              "      <td>12020000.0</td>\n",
              "      <td>2946264.0</td>\n",
              "      <td>19193188.0</td>\n",
              "      <td>57.10</td>\n",
              "      <td>158.07</td>\n",
              "      <td>12.15</td>\n",
              "      <td>16.07</td>\n",
              "      <td>5.1987</td>\n",
              "      <td>15316742.66</td>\n",
              "      <td>2.091157</td>\n",
              "      <td>62488374.0</td>\n",
              "      <td>6.514416</td>\n",
              "      <td>29.405678</td>\n",
              "      <td>0</td>\n",
              "      <td>1</td>\n",
              "      <td>1</td>\n",
              "      <td>0</td>\n",
              "    </tr>\n",
              "    <tr>\n",
              "      <th>2</th>\n",
              "      <td>1200000.0</td>\n",
              "      <td>200000.0</td>\n",
              "      <td>361118.0</td>\n",
              "      <td>34.69</td>\n",
              "      <td>134.00</td>\n",
              "      <td>4.99</td>\n",
              "      <td>4.99</td>\n",
              "      <td>4.7600</td>\n",
              "      <td>952000.00</td>\n",
              "      <td>0.048319</td>\n",
              "      <td>5712000.0</td>\n",
              "      <td>1.805590</td>\n",
              "      <td>27.151260</td>\n",
              "      <td>0</td>\n",
              "      <td>1</td>\n",
              "      <td>1</td>\n",
              "      <td>0</td>\n",
              "    </tr>\n",
              "    <tr>\n",
              "      <th>3</th>\n",
              "      <td>34900000.0</td>\n",
              "      <td>3966146.0</td>\n",
              "      <td>7942404.0</td>\n",
              "      <td>21.00</td>\n",
              "      <td>77.77</td>\n",
              "      <td>4.97</td>\n",
              "      <td>5.25</td>\n",
              "      <td>5.2300</td>\n",
              "      <td>20742943.58</td>\n",
              "      <td>0.003824</td>\n",
              "      <td>182527000.0</td>\n",
              "      <td>2.002550</td>\n",
              "      <td>13.869981</td>\n",
              "      <td>0</td>\n",
              "      <td>0</td>\n",
              "      <td>1</td>\n",
              "      <td>0</td>\n",
              "    </tr>\n",
              "    <tr>\n",
              "      <th>4</th>\n",
              "      <td>32980000.0</td>\n",
              "      <td>14840000.0</td>\n",
              "      <td>316000000.0</td>\n",
              "      <td>14.30</td>\n",
              "      <td>19.75</td>\n",
              "      <td>3.45</td>\n",
              "      <td>3.67</td>\n",
              "      <td>1.3600</td>\n",
              "      <td>20182400.00</td>\n",
              "      <td>1.698529</td>\n",
              "      <td>44852800.0</td>\n",
              "      <td>21.293801</td>\n",
              "      <td>13.522059</td>\n",
              "      <td>0</td>\n",
              "      <td>0</td>\n",
              "      <td>1</td>\n",
              "      <td>0</td>\n",
              "    </tr>\n",
              "  </tbody>\n",
              "</table>\n",
              "</div>\n",
              "      <button class=\"colab-df-convert\" onclick=\"convertToInteractive('df-32d8b809-fc1e-4aa5-aeff-ada806ee6502')\"\n",
              "              title=\"Convert this dataframe to an interactive table.\"\n",
              "              style=\"display:none;\">\n",
              "        \n",
              "  <svg xmlns=\"http://www.w3.org/2000/svg\" height=\"24px\"viewBox=\"0 0 24 24\"\n",
              "       width=\"24px\">\n",
              "    <path d=\"M0 0h24v24H0V0z\" fill=\"none\"/>\n",
              "    <path d=\"M18.56 5.44l.94 2.06.94-2.06 2.06-.94-2.06-.94-.94-2.06-.94 2.06-2.06.94zm-11 1L8.5 8.5l.94-2.06 2.06-.94-2.06-.94L8.5 2.5l-.94 2.06-2.06.94zm10 10l.94 2.06.94-2.06 2.06-.94-2.06-.94-.94-2.06-.94 2.06-2.06.94z\"/><path d=\"M17.41 7.96l-1.37-1.37c-.4-.4-.92-.59-1.43-.59-.52 0-1.04.2-1.43.59L10.3 9.45l-7.72 7.72c-.78.78-.78 2.05 0 2.83L4 21.41c.39.39.9.59 1.41.59.51 0 1.02-.2 1.41-.59l7.78-7.78 2.81-2.81c.8-.78.8-2.07 0-2.86zM5.41 20L4 18.59l7.72-7.72 1.47 1.35L5.41 20z\"/>\n",
              "  </svg>\n",
              "      </button>\n",
              "      \n",
              "  <style>\n",
              "    .colab-df-container {\n",
              "      display:flex;\n",
              "      flex-wrap:wrap;\n",
              "      gap: 12px;\n",
              "    }\n",
              "\n",
              "    .colab-df-convert {\n",
              "      background-color: #E8F0FE;\n",
              "      border: none;\n",
              "      border-radius: 50%;\n",
              "      cursor: pointer;\n",
              "      display: none;\n",
              "      fill: #1967D2;\n",
              "      height: 32px;\n",
              "      padding: 0 0 0 0;\n",
              "      width: 32px;\n",
              "    }\n",
              "\n",
              "    .colab-df-convert:hover {\n",
              "      background-color: #E2EBFA;\n",
              "      box-shadow: 0px 1px 2px rgba(60, 64, 67, 0.3), 0px 1px 3px 1px rgba(60, 64, 67, 0.15);\n",
              "      fill: #174EA6;\n",
              "    }\n",
              "\n",
              "    [theme=dark] .colab-df-convert {\n",
              "      background-color: #3B4455;\n",
              "      fill: #D2E3FC;\n",
              "    }\n",
              "\n",
              "    [theme=dark] .colab-df-convert:hover {\n",
              "      background-color: #434B5C;\n",
              "      box-shadow: 0px 1px 3px 1px rgba(0, 0, 0, 0.15);\n",
              "      filter: drop-shadow(0px 1px 2px rgba(0, 0, 0, 0.3));\n",
              "      fill: #FFFFFF;\n",
              "    }\n",
              "  </style>\n",
              "\n",
              "      <script>\n",
              "        const buttonEl =\n",
              "          document.querySelector('#df-32d8b809-fc1e-4aa5-aeff-ada806ee6502 button.colab-df-convert');\n",
              "        buttonEl.style.display =\n",
              "          google.colab.kernel.accessAllowed ? 'block' : 'none';\n",
              "\n",
              "        async function convertToInteractive(key) {\n",
              "          const element = document.querySelector('#df-32d8b809-fc1e-4aa5-aeff-ada806ee6502');\n",
              "          const dataTable =\n",
              "            await google.colab.kernel.invokeFunction('convertToInteractive',\n",
              "                                                     [key], {});\n",
              "          if (!dataTable) return;\n",
              "\n",
              "          const docLinkHtml = 'Like what you see? Visit the ' +\n",
              "            '<a target=\"_blank\" href=https://colab.research.google.com/notebooks/data_table.ipynb>data table notebook</a>'\n",
              "            + ' to learn more about interactive tables.';\n",
              "          element.innerHTML = '';\n",
              "          dataTable['output_type'] = 'display_data';\n",
              "          await google.colab.output.renderOutput(dataTable, element);\n",
              "          const docLink = document.createElement('div');\n",
              "          docLink.innerHTML = docLinkHtml;\n",
              "          element.appendChild(docLink);\n",
              "        }\n",
              "      </script>\n",
              "    </div>\n",
              "  </div>\n",
              "  "
            ]
          },
          "metadata": {},
          "execution_count": 84
        }
      ]
    },
    {
      "cell_type": "code",
      "source": [
        "df.values"
      ],
      "metadata": {
        "colab": {
          "base_uri": "https://localhost:8080/"
        },
        "id": "IdA0inL-9N3c",
        "outputId": "c1b018be-cd23-40b9-a7a9-3311723fae95"
      },
      "execution_count": 85,
      "outputs": [
        {
          "output_type": "execute_result",
          "data": {
            "text/plain": [
              "array([[1.48370000e+07, 7.00000000e+06, 3.44000000e+08, ..., 1.00000000e+00, 1.00000000e+00, 1.00000000e+00],\n",
              "       [1.20200000e+07, 2.94626400e+06, 1.91931880e+07, ..., 1.00000000e+00, 1.00000000e+00, 0.00000000e+00],\n",
              "       [1.20000000e+06, 2.00000000e+05, 3.61118000e+05, ..., 1.00000000e+00, 1.00000000e+00, 0.00000000e+00],\n",
              "       ...,\n",
              "       [3.25256713e+07, 3.22856713e+07, 3.17000000e+08, ..., 1.00000000e+00, 1.00000000e+00, 1.00000000e+00],\n",
              "       [1.54000000e+07, 1.35000000e+07, 2.34786060e+08, ..., 1.00000000e+00, 1.00000000e+00, 0.00000000e+00],\n",
              "       [5.16000000e+06, 1.74927500e+06, 5.17619940e+07, ..., 0.00000000e+00, 1.00000000e+00, 0.00000000e+00]])"
            ]
          },
          "metadata": {},
          "execution_count": 85
        }
      ]
    },
    {
      "cell_type": "code",
      "source": [
        "indep_cols = ['OS at time of run', 'Estimated float at time of run', 'Volume', 'Close', 'High', 'Low', 'Open', 'Previous close', 'Float value prior to run', 'Gap', 'Market cap prior to run', 'Float rotation', 'Possible Dilution at time of run', 'Notes', 'Reason for run', 'Sector move' ]\n",
        "df[indep_cols]"
      ],
      "metadata": {
        "colab": {
          "base_uri": "https://localhost:8080/",
          "height": 539
        },
        "id": "SYRs91g-9kT8",
        "outputId": "52609940-1c1b-47be-fbf2-7cf75f70d1a2"
      },
      "execution_count": 86,
      "outputs": [
        {
          "output_type": "execute_result",
          "data": {
            "text/plain": [
              "    OS at time of run  Estimated float at time of run       Volume  Close    High      Low   Open  Previous close  \\\n",
              "0         14837000.00                      7000000.00  344000000.0  14.00   46.67   3.3000   3.54          1.0475   \n",
              "1         12020000.00                      2946264.00   19193188.0  57.10  158.07  12.1500  16.07          5.1987   \n",
              "2          1200000.00                       200000.00     361118.0  34.69  134.00   4.9900   4.99          4.7600   \n",
              "3         34900000.00                      3966146.00    7942404.0  21.00   77.77   4.9700   5.25          5.2300   \n",
              "4         32980000.00                     14840000.00  316000000.0  14.30   19.75   3.4500   3.67          1.3600   \n",
              "..                ...                             ...          ...    ...     ...      ...    ...             ...   \n",
              "72        27902000.00                     22602000.00   52644960.0   1.50    1.58   0.3035   0.31          0.3034   \n",
              "73         1174493.00                      1078104.00   15189190.0   4.80   10.68   4.6000   8.00          2.0600   \n",
              "74        32525671.28                     32285671.28  317000000.0   3.40    3.97   1.1400   1.24          0.7698   \n",
              "75        15400000.00                     13500000.00  234786060.0   3.33    3.95   0.7100   0.79          0.7680   \n",
              "76         5160000.00                      1749275.00   51761994.0   8.27   17.60   3.5400   4.25          3.5300   \n",
              "\n",
              "    Float value prior to run       Gap  Market cap prior to run  Float rotation  Possible Dilution at time of run  Notes  Reason for run  \\\n",
              "0                 7332500.00  2.379500             1.554176e+07       49.142857                                 0      1               1   \n",
              "1                15316742.66  2.091157             6.248837e+07        6.514416                                 0      1               1   \n",
              "2                  952000.00  0.048319             5.712000e+06        1.805590                                 0      1               1   \n",
              "3                20742943.58  0.003824             1.825270e+08        2.002550                                 0      0               1   \n",
              "4                20182400.00  1.698529             4.485280e+07       21.293801                                 0      0               1   \n",
              "..                       ...       ...                      ...             ...                               ...    ...             ...   \n",
              "72                6857446.80  0.021800             8.465467e+06        2.329217                                 1      1               1   \n",
              "73                2220894.24  2.883500             2.419456e+06       14.088798                                 1      1               1   \n",
              "74               24853509.75  0.610800             2.503826e+07        9.818597                                 0      1               1   \n",
              "75               10368000.00  0.028646             1.182720e+07       17.391560                                 2      1               1   \n",
              "76                6174940.75  0.203966             1.821480e+07       29.590541                                 0      0               1   \n",
              "\n",
              "    Sector move  \n",
              "0             1  \n",
              "1             0  \n",
              "2             0  \n",
              "3             0  \n",
              "4             0  \n",
              "..          ...  \n",
              "72            1  \n",
              "73            0  \n",
              "74            1  \n",
              "75            0  \n",
              "76            0  \n",
              "\n",
              "[77 rows x 16 columns]"
            ],
            "text/html": [
              "\n",
              "  <div id=\"df-75237463-a811-49bc-afc9-0b80fc831d03\">\n",
              "    <div class=\"colab-df-container\">\n",
              "      <div>\n",
              "<style scoped>\n",
              "    .dataframe tbody tr th:only-of-type {\n",
              "        vertical-align: middle;\n",
              "    }\n",
              "\n",
              "    .dataframe tbody tr th {\n",
              "        vertical-align: top;\n",
              "    }\n",
              "\n",
              "    .dataframe thead th {\n",
              "        text-align: right;\n",
              "    }\n",
              "</style>\n",
              "<table border=\"1\" class=\"dataframe\">\n",
              "  <thead>\n",
              "    <tr style=\"text-align: right;\">\n",
              "      <th></th>\n",
              "      <th>OS at time of run</th>\n",
              "      <th>Estimated float at time of run</th>\n",
              "      <th>Volume</th>\n",
              "      <th>Close</th>\n",
              "      <th>High</th>\n",
              "      <th>Low</th>\n",
              "      <th>Open</th>\n",
              "      <th>Previous close</th>\n",
              "      <th>Float value prior to run</th>\n",
              "      <th>Gap</th>\n",
              "      <th>Market cap prior to run</th>\n",
              "      <th>Float rotation</th>\n",
              "      <th>Possible Dilution at time of run</th>\n",
              "      <th>Notes</th>\n",
              "      <th>Reason for run</th>\n",
              "      <th>Sector move</th>\n",
              "    </tr>\n",
              "  </thead>\n",
              "  <tbody>\n",
              "    <tr>\n",
              "      <th>0</th>\n",
              "      <td>14837000.00</td>\n",
              "      <td>7000000.00</td>\n",
              "      <td>344000000.0</td>\n",
              "      <td>14.00</td>\n",
              "      <td>46.67</td>\n",
              "      <td>3.3000</td>\n",
              "      <td>3.54</td>\n",
              "      <td>1.0475</td>\n",
              "      <td>7332500.00</td>\n",
              "      <td>2.379500</td>\n",
              "      <td>1.554176e+07</td>\n",
              "      <td>49.142857</td>\n",
              "      <td>0</td>\n",
              "      <td>1</td>\n",
              "      <td>1</td>\n",
              "      <td>1</td>\n",
              "    </tr>\n",
              "    <tr>\n",
              "      <th>1</th>\n",
              "      <td>12020000.00</td>\n",
              "      <td>2946264.00</td>\n",
              "      <td>19193188.0</td>\n",
              "      <td>57.10</td>\n",
              "      <td>158.07</td>\n",
              "      <td>12.1500</td>\n",
              "      <td>16.07</td>\n",
              "      <td>5.1987</td>\n",
              "      <td>15316742.66</td>\n",
              "      <td>2.091157</td>\n",
              "      <td>6.248837e+07</td>\n",
              "      <td>6.514416</td>\n",
              "      <td>0</td>\n",
              "      <td>1</td>\n",
              "      <td>1</td>\n",
              "      <td>0</td>\n",
              "    </tr>\n",
              "    <tr>\n",
              "      <th>2</th>\n",
              "      <td>1200000.00</td>\n",
              "      <td>200000.00</td>\n",
              "      <td>361118.0</td>\n",
              "      <td>34.69</td>\n",
              "      <td>134.00</td>\n",
              "      <td>4.9900</td>\n",
              "      <td>4.99</td>\n",
              "      <td>4.7600</td>\n",
              "      <td>952000.00</td>\n",
              "      <td>0.048319</td>\n",
              "      <td>5.712000e+06</td>\n",
              "      <td>1.805590</td>\n",
              "      <td>0</td>\n",
              "      <td>1</td>\n",
              "      <td>1</td>\n",
              "      <td>0</td>\n",
              "    </tr>\n",
              "    <tr>\n",
              "      <th>3</th>\n",
              "      <td>34900000.00</td>\n",
              "      <td>3966146.00</td>\n",
              "      <td>7942404.0</td>\n",
              "      <td>21.00</td>\n",
              "      <td>77.77</td>\n",
              "      <td>4.9700</td>\n",
              "      <td>5.25</td>\n",
              "      <td>5.2300</td>\n",
              "      <td>20742943.58</td>\n",
              "      <td>0.003824</td>\n",
              "      <td>1.825270e+08</td>\n",
              "      <td>2.002550</td>\n",
              "      <td>0</td>\n",
              "      <td>0</td>\n",
              "      <td>1</td>\n",
              "      <td>0</td>\n",
              "    </tr>\n",
              "    <tr>\n",
              "      <th>4</th>\n",
              "      <td>32980000.00</td>\n",
              "      <td>14840000.00</td>\n",
              "      <td>316000000.0</td>\n",
              "      <td>14.30</td>\n",
              "      <td>19.75</td>\n",
              "      <td>3.4500</td>\n",
              "      <td>3.67</td>\n",
              "      <td>1.3600</td>\n",
              "      <td>20182400.00</td>\n",
              "      <td>1.698529</td>\n",
              "      <td>4.485280e+07</td>\n",
              "      <td>21.293801</td>\n",
              "      <td>0</td>\n",
              "      <td>0</td>\n",
              "      <td>1</td>\n",
              "      <td>0</td>\n",
              "    </tr>\n",
              "    <tr>\n",
              "      <th>...</th>\n",
              "      <td>...</td>\n",
              "      <td>...</td>\n",
              "      <td>...</td>\n",
              "      <td>...</td>\n",
              "      <td>...</td>\n",
              "      <td>...</td>\n",
              "      <td>...</td>\n",
              "      <td>...</td>\n",
              "      <td>...</td>\n",
              "      <td>...</td>\n",
              "      <td>...</td>\n",
              "      <td>...</td>\n",
              "      <td>...</td>\n",
              "      <td>...</td>\n",
              "      <td>...</td>\n",
              "      <td>...</td>\n",
              "    </tr>\n",
              "    <tr>\n",
              "      <th>72</th>\n",
              "      <td>27902000.00</td>\n",
              "      <td>22602000.00</td>\n",
              "      <td>52644960.0</td>\n",
              "      <td>1.50</td>\n",
              "      <td>1.58</td>\n",
              "      <td>0.3035</td>\n",
              "      <td>0.31</td>\n",
              "      <td>0.3034</td>\n",
              "      <td>6857446.80</td>\n",
              "      <td>0.021800</td>\n",
              "      <td>8.465467e+06</td>\n",
              "      <td>2.329217</td>\n",
              "      <td>1</td>\n",
              "      <td>1</td>\n",
              "      <td>1</td>\n",
              "      <td>1</td>\n",
              "    </tr>\n",
              "    <tr>\n",
              "      <th>73</th>\n",
              "      <td>1174493.00</td>\n",
              "      <td>1078104.00</td>\n",
              "      <td>15189190.0</td>\n",
              "      <td>4.80</td>\n",
              "      <td>10.68</td>\n",
              "      <td>4.6000</td>\n",
              "      <td>8.00</td>\n",
              "      <td>2.0600</td>\n",
              "      <td>2220894.24</td>\n",
              "      <td>2.883500</td>\n",
              "      <td>2.419456e+06</td>\n",
              "      <td>14.088798</td>\n",
              "      <td>1</td>\n",
              "      <td>1</td>\n",
              "      <td>1</td>\n",
              "      <td>0</td>\n",
              "    </tr>\n",
              "    <tr>\n",
              "      <th>74</th>\n",
              "      <td>32525671.28</td>\n",
              "      <td>32285671.28</td>\n",
              "      <td>317000000.0</td>\n",
              "      <td>3.40</td>\n",
              "      <td>3.97</td>\n",
              "      <td>1.1400</td>\n",
              "      <td>1.24</td>\n",
              "      <td>0.7698</td>\n",
              "      <td>24853509.75</td>\n",
              "      <td>0.610800</td>\n",
              "      <td>2.503826e+07</td>\n",
              "      <td>9.818597</td>\n",
              "      <td>0</td>\n",
              "      <td>1</td>\n",
              "      <td>1</td>\n",
              "      <td>1</td>\n",
              "    </tr>\n",
              "    <tr>\n",
              "      <th>75</th>\n",
              "      <td>15400000.00</td>\n",
              "      <td>13500000.00</td>\n",
              "      <td>234786060.0</td>\n",
              "      <td>3.33</td>\n",
              "      <td>3.95</td>\n",
              "      <td>0.7100</td>\n",
              "      <td>0.79</td>\n",
              "      <td>0.7680</td>\n",
              "      <td>10368000.00</td>\n",
              "      <td>0.028646</td>\n",
              "      <td>1.182720e+07</td>\n",
              "      <td>17.391560</td>\n",
              "      <td>2</td>\n",
              "      <td>1</td>\n",
              "      <td>1</td>\n",
              "      <td>0</td>\n",
              "    </tr>\n",
              "    <tr>\n",
              "      <th>76</th>\n",
              "      <td>5160000.00</td>\n",
              "      <td>1749275.00</td>\n",
              "      <td>51761994.0</td>\n",
              "      <td>8.27</td>\n",
              "      <td>17.60</td>\n",
              "      <td>3.5400</td>\n",
              "      <td>4.25</td>\n",
              "      <td>3.5300</td>\n",
              "      <td>6174940.75</td>\n",
              "      <td>0.203966</td>\n",
              "      <td>1.821480e+07</td>\n",
              "      <td>29.590541</td>\n",
              "      <td>0</td>\n",
              "      <td>0</td>\n",
              "      <td>1</td>\n",
              "      <td>0</td>\n",
              "    </tr>\n",
              "  </tbody>\n",
              "</table>\n",
              "<p>77 rows × 16 columns</p>\n",
              "</div>\n",
              "      <button class=\"colab-df-convert\" onclick=\"convertToInteractive('df-75237463-a811-49bc-afc9-0b80fc831d03')\"\n",
              "              title=\"Convert this dataframe to an interactive table.\"\n",
              "              style=\"display:none;\">\n",
              "        \n",
              "  <svg xmlns=\"http://www.w3.org/2000/svg\" height=\"24px\"viewBox=\"0 0 24 24\"\n",
              "       width=\"24px\">\n",
              "    <path d=\"M0 0h24v24H0V0z\" fill=\"none\"/>\n",
              "    <path d=\"M18.56 5.44l.94 2.06.94-2.06 2.06-.94-2.06-.94-.94-2.06-.94 2.06-2.06.94zm-11 1L8.5 8.5l.94-2.06 2.06-.94-2.06-.94L8.5 2.5l-.94 2.06-2.06.94zm10 10l.94 2.06.94-2.06 2.06-.94-2.06-.94-.94-2.06-.94 2.06-2.06.94z\"/><path d=\"M17.41 7.96l-1.37-1.37c-.4-.4-.92-.59-1.43-.59-.52 0-1.04.2-1.43.59L10.3 9.45l-7.72 7.72c-.78.78-.78 2.05 0 2.83L4 21.41c.39.39.9.59 1.41.59.51 0 1.02-.2 1.41-.59l7.78-7.78 2.81-2.81c.8-.78.8-2.07 0-2.86zM5.41 20L4 18.59l7.72-7.72 1.47 1.35L5.41 20z\"/>\n",
              "  </svg>\n",
              "      </button>\n",
              "      \n",
              "  <style>\n",
              "    .colab-df-container {\n",
              "      display:flex;\n",
              "      flex-wrap:wrap;\n",
              "      gap: 12px;\n",
              "    }\n",
              "\n",
              "    .colab-df-convert {\n",
              "      background-color: #E8F0FE;\n",
              "      border: none;\n",
              "      border-radius: 50%;\n",
              "      cursor: pointer;\n",
              "      display: none;\n",
              "      fill: #1967D2;\n",
              "      height: 32px;\n",
              "      padding: 0 0 0 0;\n",
              "      width: 32px;\n",
              "    }\n",
              "\n",
              "    .colab-df-convert:hover {\n",
              "      background-color: #E2EBFA;\n",
              "      box-shadow: 0px 1px 2px rgba(60, 64, 67, 0.3), 0px 1px 3px 1px rgba(60, 64, 67, 0.15);\n",
              "      fill: #174EA6;\n",
              "    }\n",
              "\n",
              "    [theme=dark] .colab-df-convert {\n",
              "      background-color: #3B4455;\n",
              "      fill: #D2E3FC;\n",
              "    }\n",
              "\n",
              "    [theme=dark] .colab-df-convert:hover {\n",
              "      background-color: #434B5C;\n",
              "      box-shadow: 0px 1px 3px 1px rgba(0, 0, 0, 0.15);\n",
              "      filter: drop-shadow(0px 1px 2px rgba(0, 0, 0, 0.3));\n",
              "      fill: #FFFFFF;\n",
              "    }\n",
              "  </style>\n",
              "\n",
              "      <script>\n",
              "        const buttonEl =\n",
              "          document.querySelector('#df-75237463-a811-49bc-afc9-0b80fc831d03 button.colab-df-convert');\n",
              "        buttonEl.style.display =\n",
              "          google.colab.kernel.accessAllowed ? 'block' : 'none';\n",
              "\n",
              "        async function convertToInteractive(key) {\n",
              "          const element = document.querySelector('#df-75237463-a811-49bc-afc9-0b80fc831d03');\n",
              "          const dataTable =\n",
              "            await google.colab.kernel.invokeFunction('convertToInteractive',\n",
              "                                                     [key], {});\n",
              "          if (!dataTable) return;\n",
              "\n",
              "          const docLinkHtml = 'Like what you see? Visit the ' +\n",
              "            '<a target=\"_blank\" href=https://colab.research.google.com/notebooks/data_table.ipynb>data table notebook</a>'\n",
              "            + ' to learn more about interactive tables.';\n",
              "          element.innerHTML = '';\n",
              "          dataTable['output_type'] = 'display_data';\n",
              "          await google.colab.output.renderOutput(dataTable, element);\n",
              "          const docLink = document.createElement('div');\n",
              "          docLink.innerHTML = docLinkHtml;\n",
              "          element.appendChild(docLink);\n",
              "        }\n",
              "      </script>\n",
              "    </div>\n",
              "  </div>\n",
              "  "
            ]
          },
          "metadata": {},
          "execution_count": 86
        }
      ]
    },
    {
      "cell_type": "markdown",
      "source": [],
      "metadata": {
        "id": "G2e572gR_CK8"
      }
    },
    {
      "cell_type": "code",
      "source": [
        "from torch import tensor\n",
        "t_dep = tensor(df['High / Previous Close'])\n",
        "t_dep"
      ],
      "metadata": {
        "colab": {
          "base_uri": "https://localhost:8080/"
        },
        "id": "1PjVA6_z-2Rs",
        "outputId": "310ee9dd-56fd-439d-c595-89945a240928"
      },
      "execution_count": 87,
      "outputs": [
        {
          "output_type": "execute_result",
          "data": {
            "text/plain": [
              "tensor([43.5537, 29.4057, 27.1513, 13.8700, 13.5221, 13.1407, 12.8041, 12.5689, 12.1314, 10.6639, 10.3208, 10.2526,  9.8025,  9.1695,\n",
              "         8.7334,  8.5311,  8.2671,  7.9907,  7.8298,  7.8000,  7.5920,  7.5361,  7.4796,  7.2857,  7.0845,  6.9395,  6.6696,  6.5567,\n",
              "         6.3276,  6.3125,  6.2868,  5.9790,  5.9455,  5.9324,  5.9196,  5.9161,  5.9073,  5.8500,  5.7743,  5.7041,  5.6894,  5.6820,\n",
              "         5.6149,  5.6133,  5.6000,  5.5041,  5.4734,  5.3312,  5.2800,  5.2675,  5.1893,  5.1162,  5.1039,  5.0064,  4.9480,  4.9243,\n",
              "         4.8783,  4.8252,  4.7851,  4.6699,  4.6516,  4.5696,  4.5376,  4.4861,  4.4671,  4.4167,  4.4167,  4.3520,  4.3171,  4.2618,\n",
              "         4.2356,  4.2106,  4.2076,  4.1845,  4.1572,  4.1432,  3.9858], dtype=torch.float64)"
            ]
          },
          "metadata": {},
          "execution_count": 87
        }
      ]
    },
    {
      "cell_type": "code",
      "source": [
        "t_indep = tensor(df[indep_cols].values, dtype=torch.float)\n",
        "t_indep"
      ],
      "metadata": {
        "colab": {
          "base_uri": "https://localhost:8080/"
        },
        "id": "vD7tsYqP-FHb",
        "outputId": "beaa2827-91f4-4c4c-9372-2d2a3db12cdb"
      },
      "execution_count": 89,
      "outputs": [
        {
          "output_type": "execute_result",
          "data": {
            "text/plain": [
              "tensor([[14837000.0000, 7000000.0000, 344000000.0000,    14.0000,    46.6700,     3.3000,     3.5400,  ...,     2.3795, 15541758.0000,    49.1429,\n",
              "             0.0000,     1.0000,     1.0000,     1.0000],\n",
              "        [12020000.0000, 2946264.0000, 19193188.0000,    57.1000,   158.0700,    12.1500,    16.0700,  ...,     2.0912, 62488376.0000,     6.5144,\n",
              "             0.0000,     1.0000,     1.0000,     0.0000],\n",
              "        [1200000.0000, 200000.0000, 361118.0000,    34.6900,   134.0000,     4.9900,     4.9900,  ...,     0.0483, 5712000.0000,     1.8056,\n",
              "             0.0000,     1.0000,     1.0000,     0.0000],\n",
              "        [34900000.0000, 3966146.0000, 7942404.0000,    21.0000,    77.7700,     4.9700,     5.2500,  ...,     0.0038, 182527008.0000,     2.0025,\n",
              "             0.0000,     0.0000,     1.0000,     0.0000],\n",
              "        [32980000.0000, 14840000.0000, 316000000.0000,    14.3000,    19.7500,     3.4500,     3.6700,  ...,     1.6985, 44852800.0000,    21.2938,\n",
              "             0.0000,     0.0000,     1.0000,     0.0000],\n",
              "        [1550000.0000, 1200000.0000, 46767960.0000,    13.8500,    38.0400,     5.6211,     6.0000,  ...,     1.2304, 4169655.0000,    38.9733,\n",
              "             0.0000,     0.0000,     1.0000,     0.0000],\n",
              "        [4425000.0000, 3846257.0000, 75435440.0000,    20.0000,    28.9900,     6.6000,    10.0000,  ...,     3.7617, 9292942.0000,    19.6127,\n",
              "             0.0000,     1.0000,     1.0000,     1.0000],\n",
              "        ...,\n",
              "        [13224000.0000, 3983941.0000, 31969060.0000,     1.7400,     3.5000,     1.5200,     2.7700,  ...,     3.1436, 8840244.0000,     8.0245,\n",
              "             0.0000,     1.0000,     1.0000,     0.0000],\n",
              "        [1400000.0000, 800000.0000, 15580036.0000,     7.1000,    22.5100,     4.4000,     4.4000,  ...,     0.0185, 6048000.0000,    19.4750,\n",
              "             1.0000,     1.0000,     1.0000,     0.0000],\n",
              "        [27902000.0000, 22602000.0000, 52644960.0000,     1.5000,     1.5800,     0.3035,     0.3100,  ...,     0.0218, 8465467.0000,     2.3292,\n",
              "             1.0000,     1.0000,     1.0000,     1.0000],\n",
              "        [1174493.0000, 1078104.0000, 15189190.0000,     4.8000,    10.6800,     4.6000,     8.0000,  ...,     2.8835, 2419455.5000,    14.0888,\n",
              "             1.0000,     1.0000,     1.0000,     0.0000],\n",
              "        [32525672.0000, 32285672.0000, 317000000.0000,     3.4000,     3.9700,     1.1400,     1.2400,  ...,     0.6108, 25038262.0000,     9.8186,\n",
              "             0.0000,     1.0000,     1.0000,     1.0000],\n",
              "        [15400000.0000, 13500000.0000, 234786064.0000,     3.3300,     3.9500,     0.7100,     0.7900,  ...,     0.0286, 11827200.0000,    17.3916,\n",
              "             2.0000,     1.0000,     1.0000,     0.0000],\n",
              "        [5160000.0000, 1749275.0000, 51761992.0000,     8.2700,    17.6000,     3.5400,     4.2500,  ...,     0.2040, 18214800.0000,    29.5905,\n",
              "             0.0000,     0.0000,     1.0000,     0.0000]])"
            ]
          },
          "metadata": {},
          "execution_count": 89
        }
      ]
    },
    {
      "cell_type": "code",
      "source": [
        "t_indep.shape"
      ],
      "metadata": {
        "colab": {
          "base_uri": "https://localhost:8080/"
        },
        "id": "LogljHSy-TVY",
        "outputId": "e1f614b5-b9f3-44d6-d7d6-7ff123bcdf56"
      },
      "execution_count": 90,
      "outputs": [
        {
          "output_type": "execute_result",
          "data": {
            "text/plain": [
              "torch.Size([77, 16])"
            ]
          },
          "metadata": {},
          "execution_count": 90
        }
      ]
    },
    {
      "cell_type": "code",
      "source": [
        "torch.manual_seed(442)\n",
        "\n",
        "n_coeff = t_indep.shape[1]\n",
        "coeffs = torch.rand(n_coeff)-0.5\n",
        "coeffs"
      ],
      "metadata": {
        "colab": {
          "base_uri": "https://localhost:8080/"
        },
        "id": "ChKVWrC6-sl6",
        "outputId": "9e693ac2-6d4d-4440-cc42-7a31f4a38831"
      },
      "execution_count": 92,
      "outputs": [
        {
          "output_type": "execute_result",
          "data": {
            "text/plain": [
              "tensor([-0.4629,  0.1386,  0.2409, -0.2262, -0.2632, -0.3147,  0.4876,  0.3136,  0.2799, -0.4392,  0.2103,  0.3625,  0.1722,  0.2324,\n",
              "        -0.3575, -0.0010])"
            ]
          },
          "metadata": {},
          "execution_count": 92
        }
      ]
    },
    {
      "cell_type": "code",
      "source": [
        "vals, indices = t_indep.max(dim=0)\n",
        "t_indep = t_indep / vals"
      ],
      "metadata": {
        "id": "TYcLHEVE_6Rq"
      },
      "execution_count": 93,
      "outputs": []
    },
    {
      "cell_type": "code",
      "source": [
        "t_indep*coeffs"
      ],
      "metadata": {
        "colab": {
          "base_uri": "https://localhost:8080/"
        },
        "id": "HJrJWKTiAHfb",
        "outputId": "fa50931f-eac7-445c-9db0-985442bb8504"
      },
      "execution_count": 94,
      "outputs": [
        {
          "output_type": "execute_result",
          "data": {
            "text/plain": [
              "tensor([[    -0.0429,      0.0061,      0.1120,     -0.0546,     -0.0777,     -0.0500,      0.0674,  ...,     -0.1594,      0.0047,\n",
              "              0.2109,      0.0000,      0.2324,     -0.3575,     -0.0010],\n",
              "        [    -0.0348,      0.0026,      0.0062,     -0.2226,     -0.2632,     -0.1839,      0.3059,  ...,     -0.1400,      0.0191,\n",
              "              0.0280,      0.0000,      0.2324,     -0.3575,     -0.0000],\n",
              "        [    -0.0035,      0.0002,      0.0001,     -0.1353,     -0.2232,     -0.0755,      0.0950,  ...,     -0.0032,      0.0017,\n",
              "              0.0078,      0.0000,      0.2324,     -0.3575,     -0.0000],\n",
              "        [    -0.1010,      0.0035,      0.0026,     -0.0819,     -0.1295,     -0.0752,      0.0999,  ...,     -0.0003,      0.0557,\n",
              "              0.0086,      0.0000,      0.0000,     -0.3575,     -0.0000],\n",
              "        [    -0.0954,      0.0129,      0.1029,     -0.0558,     -0.0329,     -0.0522,      0.0698,  ...,     -0.1138,      0.0137,\n",
              "              0.0914,      0.0000,      0.0000,     -0.3575,     -0.0000],\n",
              "        [    -0.0045,      0.0010,      0.0152,     -0.0540,     -0.0634,     -0.0851,      0.1142,  ...,     -0.0824,      0.0013,\n",
              "              0.1673,      0.0000,      0.0000,     -0.3575,     -0.0000],\n",
              "        [    -0.0128,      0.0033,      0.0246,     -0.0780,     -0.0483,     -0.0999,      0.1903,  ...,     -0.2519,      0.0028,\n",
              "              0.0842,      0.0000,      0.2324,     -0.3575,     -0.0010],\n",
              "        ...,\n",
              "        [    -0.0383,      0.0035,      0.0104,     -0.0068,     -0.0058,     -0.0230,      0.0527,  ...,     -0.2105,      0.0027,\n",
              "              0.0344,      0.0000,      0.2324,     -0.3575,     -0.0000],\n",
              "        [    -0.0041,      0.0007,      0.0051,     -0.0277,     -0.0375,     -0.0666,      0.0837,  ...,     -0.0012,      0.0018,\n",
              "              0.0836,      0.0574,      0.2324,     -0.3575,     -0.0000],\n",
              "        [    -0.0807,      0.0197,      0.0171,     -0.0058,     -0.0026,     -0.0046,      0.0059,  ...,     -0.0015,      0.0026,\n",
              "              0.0100,      0.0574,      0.2324,     -0.3575,     -0.0010],\n",
              "        [    -0.0034,      0.0009,      0.0049,     -0.0187,     -0.0178,     -0.0696,      0.1523,  ...,     -0.1931,      0.0007,\n",
              "              0.0605,      0.0574,      0.2324,     -0.3575,     -0.0000],\n",
              "        [    -0.0941,      0.0281,      0.1032,     -0.0133,     -0.0066,     -0.0173,      0.0236,  ...,     -0.0409,      0.0076,\n",
              "              0.0421,      0.0000,      0.2324,     -0.3575,     -0.0010],\n",
              "        [    -0.0446,      0.0117,      0.0764,     -0.0130,     -0.0066,     -0.0107,      0.0150,  ...,     -0.0019,      0.0036,\n",
              "              0.0746,      0.1148,      0.2324,     -0.3575,     -0.0000],\n",
              "        [    -0.0149,      0.0015,      0.0169,     -0.0322,     -0.0293,     -0.0536,      0.0809,  ...,     -0.0137,      0.0056,\n",
              "              0.1270,      0.0000,      0.0000,     -0.3575,     -0.0000]])"
            ]
          },
          "metadata": {},
          "execution_count": 94
        }
      ]
    },
    {
      "cell_type": "code",
      "source": [
        "preds = (t_indep*coeffs).sum(axis=1)"
      ],
      "metadata": {
        "id": "ASeqE0AgAQdT"
      },
      "execution_count": 95,
      "outputs": []
    },
    {
      "cell_type": "code",
      "source": [
        "preds[:10]"
      ],
      "metadata": {
        "colab": {
          "base_uri": "https://localhost:8080/"
        },
        "id": "flXpB1KLAXCU",
        "outputId": "a32a7630-4c6c-4056-e768-10bcce4b1675"
      },
      "execution_count": 96,
      "outputs": [
        {
          "output_type": "execute_result",
          "data": {
            "text/plain": [
              "tensor([-0.0654, -0.4215, -0.3103, -0.3793, -0.3432, -0.2585, -0.2334, -0.1192, -0.2736, -0.2587])"
            ]
          },
          "metadata": {},
          "execution_count": 96
        }
      ]
    },
    {
      "cell_type": "code",
      "source": [
        "loss = torch.abs(preds-t_dep).mean()\n",
        "loss"
      ],
      "metadata": {
        "colab": {
          "base_uri": "https://localhost:8080/"
        },
        "id": "WuRbjun1AYX7",
        "outputId": "7da3559d-c8b8-47cd-aaa1-fb75383dc479"
      },
      "execution_count": 98,
      "outputs": [
        {
          "output_type": "execute_result",
          "data": {
            "text/plain": [
              "tensor(7.7036, dtype=torch.float64)"
            ]
          },
          "metadata": {},
          "execution_count": 98
        }
      ]
    },
    {
      "cell_type": "code",
      "source": [
        "def calc_preds(coeffs, indeps): return (indeps*coeffs).sum(axis=1)\n",
        "def calc_loss(coeffs, indeps, deps): return torch.abs(calc_preds(coeffs, indeps)-deps).mean()"
      ],
      "metadata": {
        "id": "CSdkuT1iAlnF"
      },
      "execution_count": 99,
      "outputs": []
    },
    {
      "cell_type": "code",
      "source": [
        "coeffs.requires_grad_()"
      ],
      "metadata": {
        "colab": {
          "base_uri": "https://localhost:8080/"
        },
        "id": "7-EyWRwkA2S0",
        "outputId": "3925c19f-6f2f-4232-ab1b-810a843ba51e"
      },
      "execution_count": 100,
      "outputs": [
        {
          "output_type": "execute_result",
          "data": {
            "text/plain": [
              "tensor([-0.4629,  0.1386,  0.2409, -0.2262, -0.2632, -0.3147,  0.4876,  0.3136,  0.2799, -0.4392,  0.2103,  0.3625,  0.1722,  0.2324,\n",
              "        -0.3575, -0.0010], requires_grad=True)"
            ]
          },
          "metadata": {},
          "execution_count": 100
        }
      ]
    },
    {
      "cell_type": "code",
      "source": [
        "loss = calc_loss(coeffs, t_indep, t_dep)\n",
        "loss"
      ],
      "metadata": {
        "colab": {
          "base_uri": "https://localhost:8080/"
        },
        "id": "sXr5DVM6A5oM",
        "outputId": "88df0a65-e57d-4482-8ce7-19de45a66419"
      },
      "execution_count": 101,
      "outputs": [
        {
          "output_type": "execute_result",
          "data": {
            "text/plain": [
              "tensor(7.7036, dtype=torch.float64, grad_fn=<MeanBackward0>)"
            ]
          },
          "metadata": {},
          "execution_count": 101
        }
      ]
    },
    {
      "cell_type": "code",
      "source": [
        "loss.backward()"
      ],
      "metadata": {
        "id": "rXNPmPuIA8Tt"
      },
      "execution_count": 102,
      "outputs": []
    },
    {
      "cell_type": "code",
      "source": [
        "coeffs.grad"
      ],
      "metadata": {
        "colab": {
          "base_uri": "https://localhost:8080/"
        },
        "id": "Y8OPaJIrA-9N",
        "outputId": "fb05afa7-5400-4ae6-ae01-fa91afb47bbb"
      },
      "execution_count": 103,
      "outputs": [
        {
          "output_type": "execute_result",
          "data": {
            "text/plain": [
              "tensor([-0.1229, -0.0680, -0.1420, -0.1899, -0.1456, -0.2213, -0.2248, -0.2484, -0.0846, -0.2202, -0.0705, -0.2238, -0.1991, -0.7143,\n",
              "        -1.0000, -0.3247])"
            ]
          },
          "metadata": {},
          "execution_count": 103
        }
      ]
    },
    {
      "cell_type": "code",
      "source": [
        "loss = calc_loss(coeffs, t_indep, t_dep)\n",
        "loss.backward()\n",
        "with torch.no_grad():\n",
        "    coeffs.sub_(coeffs.grad * 0.1)\n",
        "    coeffs.grad.zero_()\n",
        "    print(calc_loss(coeffs, t_indep, t_dep))"
      ],
      "metadata": {
        "colab": {
          "base_uri": "https://localhost:8080/"
        },
        "id": "WPK1EjtZBAVW",
        "outputId": "14ec68fb-0e23-42e8-feab-67748732a81d"
      },
      "execution_count": 104,
      "outputs": [
        {
          "output_type": "stream",
          "name": "stdout",
          "text": [
            "tensor(7.2987, dtype=torch.float64)\n"
          ]
        }
      ]
    },
    {
      "cell_type": "code",
      "source": [
        "from fastai.data.transforms import RandomSplitter\n",
        "trn_split, val_split=RandomSplitter(seed=42)(df)"
      ],
      "metadata": {
        "id": "DXzZoOVBBKSD"
      },
      "execution_count": 105,
      "outputs": []
    },
    {
      "cell_type": "code",
      "source": [
        "trn_indep, val_indep = t_indep[trn_split], t_indep[val_split]\n",
        "trn_dep, val_dep = t_dep[trn_split], t_dep[val_split]\n",
        "len(trn_indep), len(val_indep)"
      ],
      "metadata": {
        "colab": {
          "base_uri": "https://localhost:8080/"
        },
        "id": "V6VRHnMuBY-p",
        "outputId": "4826c447-02d4-4122-9c1e-d4501831e4c5"
      },
      "execution_count": 106,
      "outputs": [
        {
          "output_type": "execute_result",
          "data": {
            "text/plain": [
              "(62, 15)"
            ]
          },
          "metadata": {},
          "execution_count": 106
        }
      ]
    },
    {
      "cell_type": "code",
      "source": [
        "def update_coeffs(coeffs, lr):\n",
        "  coeffs.sub_(coeffs.grad * lr)\n",
        "  coeffs.grad.zero_()"
      ],
      "metadata": {
        "id": "FwYXs_fwBmUW"
      },
      "execution_count": 109,
      "outputs": []
    },
    {
      "cell_type": "code",
      "source": [
        "def one_epoch(coeffs, lr):\n",
        "    loss = calc_loss(coeffs, trn_indep, trn_dep)\n",
        "    loss.backward()\n",
        "    with torch.no_grad(): update_coeffs(coeffs, lr)\n",
        "    print(f\"{loss:.3f}\", end=\"; \")"
      ],
      "metadata": {
        "id": "wlehXFzLB5xR"
      },
      "execution_count": 110,
      "outputs": []
    },
    {
      "cell_type": "code",
      "source": [
        "def init_coeffs(): return (torch.rand(n_coeff)-0.5).requires_grad_()"
      ],
      "metadata": {
        "id": "MVHjIHZRCyGc"
      },
      "execution_count": 111,
      "outputs": []
    },
    {
      "cell_type": "code",
      "source": [
        "def train_model(epochs=30, lr=0.01):\n",
        "  torch.manual_seed(442)\n",
        "  coeffs = init_coeffs()\n",
        "  for i in range(epochs): one_epoch(coeffs, lr=lr)\n",
        "  return coeffs"
      ],
      "metadata": {
        "id": "ndfBjMErC5ZH"
      },
      "execution_count": 112,
      "outputs": []
    },
    {
      "cell_type": "code",
      "source": [
        "train_model(18, lr=0.2)"
      ],
      "metadata": {
        "colab": {
          "base_uri": "https://localhost:8080/"
        },
        "id": "TVQbU1IeEJZx",
        "outputId": "26595ca2-3d25-47f2-e4d4-aecfcdd67dac"
      },
      "execution_count": 121,
      "outputs": [
        {
          "output_type": "stream",
          "name": "stdout",
          "text": [
            "6.727; 6.331; 5.934; 5.538; 5.141; 4.745; 4.348; 3.952; 3.556; 3.159; 2.798; 2.619; 2.500; 2.401; 2.356; 2.321; 2.295; 2.274; "
          ]
        },
        {
          "output_type": "execute_result",
          "data": {
            "text/plain": [
              "tensor([-0.1029,  0.3337,  0.5864,  0.2487,  0.1100,  0.2500,  1.0610,  0.9484,  0.4611,  0.1359,  0.4147,  0.9435,  0.5980,  1.9034,\n",
              "         2.3586,  0.7474], requires_grad=True)"
            ]
          },
          "metadata": {},
          "execution_count": 121
        }
      ]
    },
    {
      "cell_type": "code",
      "source": [
        "coeffs = train_model(18, lr=0.2)"
      ],
      "metadata": {
        "colab": {
          "base_uri": "https://localhost:8080/"
        },
        "id": "40EP5XCkDEaV",
        "outputId": "adc3a444-3cc6-4850-994f-6e05653562de"
      },
      "execution_count": 113,
      "outputs": [
        {
          "output_type": "stream",
          "name": "stdout",
          "text": [
            "6.727; 6.331; 5.934; 5.538; 5.141; 4.745; 4.348; 3.952; 3.556; 3.159; 2.798; 2.619; 2.500; 2.401; 2.356; 2.321; 2.295; 2.274; "
          ]
        }
      ]
    },
    {
      "cell_type": "code",
      "source": [
        "def show_coeffs(): return dict(zip(indep_cols, coeffs.requires_grad_(False)))\n",
        "show_coeffs()"
      ],
      "metadata": {
        "colab": {
          "base_uri": "https://localhost:8080/"
        },
        "id": "xd1CIo3uDG_M",
        "outputId": "357467aa-6e01-4a85-a0e2-6a9e075d3731"
      },
      "execution_count": 115,
      "outputs": [
        {
          "output_type": "execute_result",
          "data": {
            "text/plain": [
              "{'OS at time of run': tensor(-0.1029),\n",
              " 'Estimated float at time of run': tensor(0.3337),\n",
              " 'Volume': tensor(0.5864),\n",
              " 'Close': tensor(0.2487),\n",
              " 'High': tensor(0.1100),\n",
              " 'Low': tensor(0.2500),\n",
              " 'Open': tensor(1.0610),\n",
              " 'Previous close': tensor(0.9484),\n",
              " 'Float value prior to run': tensor(0.4611),\n",
              " 'Gap': tensor(0.1359),\n",
              " 'Market cap prior to run': tensor(0.4147),\n",
              " 'Float rotation': tensor(0.9435),\n",
              " 'Possible Dilution at time of run': tensor(0.5980),\n",
              " 'Notes': tensor(1.9034),\n",
              " 'Reason for run': tensor(2.3586),\n",
              " 'Sector move': tensor(0.7474)}"
            ]
          },
          "metadata": {},
          "execution_count": 115
        }
      ]
    },
    {
      "cell_type": "code",
      "source": [
        "preds = calc_preds(coeffs, val_indep)\n",
        "preds.mean()"
      ],
      "metadata": {
        "colab": {
          "base_uri": "https://localhost:8080/"
        },
        "id": "-rdKePkgDN3S",
        "outputId": "dd2125e5-d318-4e35-9a08-113435ad3e2c"
      },
      "execution_count": 120,
      "outputs": [
        {
          "output_type": "execute_result",
          "data": {
            "text/plain": [
              "tensor(5.2829)"
            ]
          },
          "metadata": {},
          "execution_count": 120
        }
      ]
    },
    {
      "cell_type": "code",
      "source": [
        "results = val_dep.bool()==(preds>0.5)\n",
        "results[:16]"
      ],
      "metadata": {
        "colab": {
          "base_uri": "https://localhost:8080/"
        },
        "id": "VKZK5sGtDlF9",
        "outputId": "d14a3b15-101b-47f7-b69f-9199e9f5c263"
      },
      "execution_count": 117,
      "outputs": [
        {
          "output_type": "execute_result",
          "data": {
            "text/plain": [
              "tensor([True, True, True, True, True, True, True, True, True, True, True, True, True, True, True])"
            ]
          },
          "metadata": {},
          "execution_count": 117
        }
      ]
    },
    {
      "cell_type": "code",
      "source": [],
      "metadata": {
        "id": "R7qNU9pCDpNk"
      },
      "execution_count": null,
      "outputs": []
    }
  ]
}